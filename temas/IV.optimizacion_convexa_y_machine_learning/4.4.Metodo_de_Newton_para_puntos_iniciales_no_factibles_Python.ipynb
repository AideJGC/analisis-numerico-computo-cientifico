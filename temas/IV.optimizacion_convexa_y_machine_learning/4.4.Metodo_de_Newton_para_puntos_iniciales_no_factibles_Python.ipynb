{
 "cells": [
  {
   "cell_type": "markdown",
   "metadata": {},
   "source": [
    "**Notas para contenedor de docker:**"
   ]
  },
  {
   "cell_type": "markdown",
   "metadata": {},
   "source": [
    "Comando de docker para ejecución de la nota de forma local:\n",
    "\n",
    "nota: cambiar `<ruta a mi directorio>` por la ruta de directorio que se desea mapear a `/datos` dentro del contenedor de docker.\n",
    "\n",
    "```\n",
    "docker run --rm -v <ruta a mi directorio>:/datos --name jupyterlab_numerical -p 8888:8888 -d palmoreck/jupyterlab_numerical:1.1.0\n",
    "```\n",
    "\n",
    "password para jupyterlab: `qwerty`\n",
    "\n",
    "Detener el contenedor de docker:\n",
    "\n",
    "```\n",
    "docker stop jupyterlab_numerical\n",
    "```\n"
   ]
  },
  {
   "cell_type": "markdown",
   "metadata": {},
   "source": [
    "Documentación de la imagen de docker `palmoreck/jupyterlab_numerical:1.1.0` en [liga](https://github.com/palmoreck/dockerfiles/tree/master/jupyterlab/numerical)."
   ]
  },
  {
   "cell_type": "markdown",
   "metadata": {},
   "source": [
    "---"
   ]
  },
  {
   "cell_type": "markdown",
   "metadata": {},
   "source": [
    "Nota generada a partir de [liga1](https://drive.google.com/file/d/1zCIHNAxe5Shc36Qo0XjehHgwrafKSJ_t/view), [liga2](https://drive.google.com/file/d/12L7rOCgW7NEKl_xJbIGZz05XXVrOaPBz/view)."
   ]
  },
  {
   "cell_type": "markdown",
   "metadata": {},
   "source": [
    "**Dando click en: [![Binder](https://mybinder.org/badge_logo.svg)](https://mybinder.org/v2/gh/palmoreck/dockerfiles-for-binder/jupyterlab_numerical?urlpath=lab/tree/analisis-numerico-computo-cientifico/temas/IV.optimizacion_convexa_y_machine_learning/4.4.Metodo_de_Newton_para_puntos_iniciales_no_factibles_Python.ipynb) se ejecuta la nota de forma interactiva**."
   ]
  },
  {
   "cell_type": "code",
   "execution_count": 1,
   "metadata": {},
   "outputs": [
    {
     "name": "stdout",
     "output_type": "stream",
     "text": [
      "\u001b[33m  WARNING: The scripts futurize and pasteurize are installed in '/home/miuser/.local/bin' which is not on PATH.\n",
      "  Consider adding this directory to PATH or, if you prefer to suppress this warning, use --no-warn-script-location.\u001b[0m\n",
      "\u001b[33mWARNING: You are using pip version 19.3.1; however, version 20.1.1 is available.\n",
      "You should consider upgrading via the 'pip install --upgrade pip' command.\u001b[0m\n"
     ]
    }
   ],
   "source": [
    "!pip3 install --user -q cvxpy"
   ]
  },
  {
   "cell_type": "code",
   "execution_count": 1,
   "metadata": {},
   "outputs": [],
   "source": [
    "import os"
   ]
  },
  {
   "cell_type": "code",
   "execution_count": 2,
   "metadata": {},
   "outputs": [],
   "source": [
    "cur_directory = os.getcwd()"
   ]
  },
  {
   "cell_type": "code",
   "execution_count": 3,
   "metadata": {},
   "outputs": [],
   "source": [
    "dir_alg_python = '/algoritmos/Python'"
   ]
  },
  {
   "cell_type": "code",
   "execution_count": 4,
   "metadata": {},
   "outputs": [],
   "source": [
    "os.chdir(cur_directory + dir_alg_python)"
   ]
  },
  {
   "cell_type": "code",
   "execution_count": 5,
   "metadata": {},
   "outputs": [],
   "source": [
    "import math\n",
    "\n",
    "import numpy as np\n",
    "\n",
    "from algorithms_for_ceco import Newtons_method_feasible_init_point, \\\n",
    "                                Newtons_method_infeasible_init_point, \\\n",
    "                                Newtons_method_infeasible_init_point_2nd_version\n",
    "from line_search import line_search_for_residual_by_backtracking\n",
    "from utils import compute_error\n"
   ]
  },
  {
   "cell_type": "markdown",
   "metadata": {},
   "source": [
    "# Primer ejemplo"
   ]
  },
  {
   "cell_type": "markdown",
   "metadata": {},
   "source": [
    "$$\\displaystyle \\min_{x \\in \\mathbb{R}^2} \\quad x_1^2 + 2x_1x_2 + x_2^2-2x_2$$"
   ]
  },
  {
   "cell_type": "markdown",
   "metadata": {},
   "source": [
    "$$\\text{sujeto a: } x_1 = 0$$"
   ]
  },
  {
   "cell_type": "code",
   "execution_count": 6,
   "metadata": {},
   "outputs": [],
   "source": [
    "fo = lambda x: x[0]**2 + 2*x[0]*x[1]+x[1]**2-2*x[1]"
   ]
  },
  {
   "cell_type": "code",
   "execution_count": 7,
   "metadata": {},
   "outputs": [],
   "source": [
    "A = np.array([1,0],dtype=float)"
   ]
  },
  {
   "cell_type": "code",
   "execution_count": 8,
   "metadata": {},
   "outputs": [],
   "source": [
    "b = np.array([0])"
   ]
  },
  {
   "cell_type": "code",
   "execution_count": 9,
   "metadata": {},
   "outputs": [],
   "source": [
    "x_ast=np.array([0,1], dtype=float)"
   ]
  },
  {
   "cell_type": "markdown",
   "metadata": {},
   "source": [
    "## En el siguiente ejemplo si usamos el algoritmo anterior para punto inicial no factible ($Ax^{(0)} \\neq b$) obsérvese que no funciona"
   ]
  },
  {
   "cell_type": "code",
   "execution_count": 10,
   "metadata": {},
   "outputs": [],
   "source": [
    "x_0 = np.array([1,-2],dtype=float)"
   ]
  },
  {
   "cell_type": "code",
   "execution_count": 11,
   "metadata": {},
   "outputs": [
    {
     "name": "stdout",
     "output_type": "stream",
     "text": [
      "I\tNormgf \tNewton Decrement\tError x_ast\tError p_ast\tline search\tCondHf\n",
      "0\t4.47e+00\t8.01e+00\t3.16e+00\t6.00e+00\t---\t\t2.03e+07\n",
      "1\t4.47e+00\t5.12e-06\t1.41e+00\t2.00e+00\t1.00e+00\t2.03e+07\n",
      "2\t4.47e+00\t9.86e-16\t1.41e+00\t2.00e+00\t1.00e+00\t2.03e+07\n",
      "Error of x with respect to x_ast: 1.41e+00\n",
      "Approximate solution: [ 1.00000000e+00 -3.34455919e-08]\n"
     ]
    }
   ],
   "source": [
    "tol=1e-8\n",
    "tol_backtracking=1e-14\n",
    "maxiter=50\n",
    "p_ast=fo(x_ast)\n",
    "[x,total_of_iterations,\n",
    " Err_plot,x_plot] = Newtons_method_feasible_init_point(fo,A, x_0,tol, \n",
    "                                                       tol_backtracking, x_ast, p_ast, maxiter)"
   ]
  },
  {
   "cell_type": "code",
   "execution_count": 12,
   "metadata": {},
   "outputs": [
    {
     "data": {
      "text/plain": [
       "1.4142135860226999"
      ]
     },
     "execution_count": 12,
     "metadata": {},
     "output_type": "execute_result"
    }
   ],
   "source": [
    "compute_error(x_ast,x)"
   ]
  },
  {
   "cell_type": "markdown",
   "metadata": {},
   "source": [
    "**Error relativo muy alto**"
   ]
  },
  {
   "cell_type": "markdown",
   "metadata": {},
   "source": [
    "## Método de Newton para puntos iniciales no factibles"
   ]
  },
  {
   "cell_type": "markdown",
   "metadata": {},
   "source": [
    "### Punto inicial no factible ($Ax^{(0)} \\neq b$)"
   ]
  },
  {
   "cell_type": "code",
   "execution_count": 13,
   "metadata": {},
   "outputs": [],
   "source": [
    "x_0 = np.array([1,-2], dtype=float)\n",
    "nu_0 = 5"
   ]
  },
  {
   "cell_type": "markdown",
   "metadata": {},
   "source": [
    "**Versión del método de Newton para puntos iniciales no factibles que se apoya del método de Newton para puntos iniciales factibles**"
   ]
  },
  {
   "cell_type": "code",
   "execution_count": 14,
   "metadata": {},
   "outputs": [
    {
     "name": "stdout",
     "output_type": "stream",
     "text": [
      "I\t||res_primal||\t||res_dual|| \tNewton Decrement\tError x_ast\tError p_ast\tline search\tCondHf\n",
      "0\t1.00e+00\t5.00e+00\t1.00e+01\t3.16e+00\t6.00e+00\t---\t\t2.03e+07\n",
      "1\t5.00e-01\t2.50e+00\t3.00e+00\t1.58e+00\t2.00e+00\t5.00e-01\t2.03e+07\n",
      "2\t2.50e-01\t1.25e+00\t9.99e-01\t7.90e-01\t7.49e-01\t5.00e-01\t2.03e+07\n",
      "3\t1.25e-01\t6.25e-01\t3.75e-01\t3.95e-01\t3.12e-01\t5.00e-01\t2.03e+07\n",
      "4\t6.25e-02\t3.12e-01\t1.56e-01\t1.98e-01\t1.41e-01\t5.00e-01\t2.03e+07\n",
      "5\t3.13e-02\t1.56e-01\t7.03e-02\t9.88e-02\t6.64e-02\t5.00e-01\t2.03e+07\n",
      "6\t1.56e-02\t7.81e-02\t3.32e-02\t4.94e-02\t3.22e-02\t5.00e-01\t2.03e+07\n",
      "7\t7.81e-03\t3.90e-02\t1.61e-02\t2.47e-02\t1.59e-02\t5.00e-01\t2.03e+07\n",
      "8\t3.91e-03\t1.95e-02\t7.93e-03\t1.23e-02\t7.87e-03\t5.00e-01\t2.03e+07\n",
      "9\t1.95e-03\t9.76e-03\t3.94e-03\t6.17e-03\t3.92e-03\t5.00e-01\t2.03e+07\n",
      "10\t9.77e-04\t4.88e-03\t1.96e-03\t3.09e-03\t1.96e-03\t5.00e-01\t2.03e+07\n",
      "11\t4.88e-04\t2.44e-03\t9.78e-04\t1.54e-03\t9.78e-04\t5.00e-01\t2.03e+07\n",
      "12\t2.44e-04\t1.22e-03\t4.89e-04\t7.72e-04\t4.89e-04\t5.00e-01\t2.03e+07\n",
      "13\t1.22e-04\t6.10e-04\t2.44e-04\t3.86e-04\t2.44e-04\t5.00e-01\t2.03e+07\n",
      "14\t6.10e-05\t3.05e-04\t1.22e-04\t1.93e-04\t1.22e-04\t5.00e-01\t2.03e+07\n",
      "15\t3.05e-05\t1.53e-04\t6.10e-05\t9.65e-05\t6.10e-05\t5.00e-01\t2.03e+07\n",
      "16\t1.53e-05\t7.63e-05\t3.05e-05\t4.82e-05\t3.05e-05\t5.00e-01\t2.03e+07\n",
      "17\t7.63e-06\t3.81e-05\t1.53e-05\t2.41e-05\t1.53e-05\t5.00e-01\t2.03e+07\n",
      "18\t3.81e-06\t1.91e-05\t7.63e-06\t1.21e-05\t7.63e-06\t5.00e-01\t2.03e+07\n",
      "19\t1.91e-06\t9.53e-06\t3.81e-06\t6.03e-06\t3.81e-06\t5.00e-01\t2.03e+07\n",
      "20\t9.54e-07\t4.76e-06\t1.91e-06\t3.02e-06\t1.91e-06\t5.00e-01\t2.03e+07\n",
      "21\t4.77e-07\t2.38e-06\t9.54e-07\t1.51e-06\t9.54e-07\t5.00e-01\t2.03e+07\n",
      "22\t2.38e-07\t1.20e-06\t4.77e-07\t7.57e-07\t4.77e-07\t5.00e-01\t2.03e+07\n",
      "23\t1.19e-07\t5.93e-07\t2.38e-07\t3.80e-07\t2.38e-07\t5.00e-01\t2.03e+07\n",
      "24\t5.96e-08\t2.98e-07\t1.19e-07\t1.92e-07\t1.19e-07\t5.00e-01\t2.03e+07\n",
      "25\t2.98e-08\t1.55e-07\t5.96e-08\t9.59e-08\t5.96e-08\t5.00e-01\t2.03e+07\n",
      "26\t1.49e-08\t6.99e-08\t2.98e-08\t4.81e-08\t2.98e-08\t5.00e-01\t2.03e+07\n",
      "27\t7.45e-09\t2.90e-08\t1.49e-08\t2.55e-08\t1.49e-08\t5.00e-01\t2.03e+07\n",
      "------------------------------------------------------------\n",
      "------------------------------------------------------------\n",
      "------------------------------------------------------------\n",
      "Beginning Newtons method for feasible initial point\n",
      "I\tNormgf \tNewton Decrement\tError x_ast\tError p_ast\tline search\tCondHf\n",
      "0\t2.00e+00\t-1.57e-17\t2.55e-08\t1.49e-08\t---\t\t3.60e+04\n",
      "Error of x with respect to x_ast: 2.55e-08\n",
      "Approximate solution: [7.45058060e-09 9.99999976e-01]\n"
     ]
    }
   ],
   "source": [
    "[x,total_of_iterations,\n",
    " Err_plot,x_plot] = Newtons_method_infeasible_init_point(fo, A, b,x_0, nu_0, tol, \n",
    "                                                         tol_backtracking, x_ast, p_ast, maxiter\n",
    "                                                         )"
   ]
  },
  {
   "cell_type": "code",
   "execution_count": 15,
   "metadata": {},
   "outputs": [
    {
     "data": {
      "text/plain": [
       "2.554210325052966e-08"
      ]
     },
     "execution_count": 15,
     "metadata": {},
     "output_type": "execute_result"
    }
   ],
   "source": [
    "compute_error(x_ast,x)"
   ]
  },
  {
   "cell_type": "markdown",
   "metadata": {},
   "source": [
    "**Versión del método de Newton para puntos iniciales no factibles (2o versión)**"
   ]
  },
  {
   "cell_type": "code",
   "execution_count": 16,
   "metadata": {},
   "outputs": [
    {
     "name": "stdout",
     "output_type": "stream",
     "text": [
      "I\t||res_primal||\t||res_dual|| \tNewton Decrement\tError x_ast\tError p_ast\tline search\tCondHf\n",
      "0\t1.00e+00\t5.00e+00\t1.00e+01\t3.16e+00\t6.00e+00\t---\t\t2.03e+07\n",
      "1\t5.00e-01\t2.50e+00\t3.00e+00\t1.58e+00\t2.00e+00\t5.00e-01\t2.03e+07\n",
      "2\t2.50e-01\t1.25e+00\t9.99e-01\t7.90e-01\t7.49e-01\t5.00e-01\t2.03e+07\n",
      "3\t1.25e-01\t6.25e-01\t3.75e-01\t3.95e-01\t3.12e-01\t5.00e-01\t2.03e+07\n",
      "4\t6.25e-02\t3.12e-01\t1.56e-01\t1.98e-01\t1.41e-01\t5.00e-01\t2.03e+07\n",
      "5\t3.13e-02\t1.56e-01\t7.03e-02\t9.88e-02\t6.64e-02\t5.00e-01\t2.03e+07\n",
      "6\t1.56e-02\t7.81e-02\t3.32e-02\t4.94e-02\t3.22e-02\t5.00e-01\t2.03e+07\n",
      "7\t7.81e-03\t3.90e-02\t1.61e-02\t2.47e-02\t1.59e-02\t5.00e-01\t2.03e+07\n",
      "8\t3.91e-03\t1.95e-02\t7.93e-03\t1.23e-02\t7.87e-03\t5.00e-01\t2.03e+07\n",
      "9\t1.95e-03\t9.76e-03\t3.94e-03\t6.17e-03\t3.92e-03\t5.00e-01\t2.03e+07\n",
      "10\t9.77e-04\t4.88e-03\t1.96e-03\t3.09e-03\t1.96e-03\t5.00e-01\t2.03e+07\n",
      "11\t4.88e-04\t2.44e-03\t9.78e-04\t1.54e-03\t9.78e-04\t5.00e-01\t2.03e+07\n",
      "12\t2.44e-04\t1.22e-03\t4.89e-04\t7.72e-04\t4.89e-04\t5.00e-01\t2.03e+07\n",
      "13\t1.22e-04\t6.10e-04\t2.44e-04\t3.86e-04\t2.44e-04\t5.00e-01\t2.03e+07\n",
      "14\t6.10e-05\t3.05e-04\t1.22e-04\t1.93e-04\t1.22e-04\t5.00e-01\t2.03e+07\n",
      "15\t3.05e-05\t1.53e-04\t6.10e-05\t9.65e-05\t6.10e-05\t5.00e-01\t2.03e+07\n",
      "16\t1.53e-05\t7.63e-05\t3.05e-05\t4.82e-05\t3.05e-05\t5.00e-01\t2.03e+07\n",
      "17\t7.63e-06\t3.81e-05\t1.53e-05\t2.41e-05\t1.53e-05\t5.00e-01\t2.03e+07\n",
      "18\t3.81e-06\t1.91e-05\t7.63e-06\t1.21e-05\t7.63e-06\t5.00e-01\t2.03e+07\n",
      "19\t1.91e-06\t9.53e-06\t3.81e-06\t6.03e-06\t3.81e-06\t5.00e-01\t2.03e+07\n",
      "20\t9.54e-07\t4.76e-06\t1.91e-06\t3.02e-06\t1.91e-06\t5.00e-01\t2.03e+07\n",
      "21\t4.77e-07\t2.38e-06\t9.54e-07\t1.51e-06\t9.54e-07\t5.00e-01\t2.03e+07\n",
      "22\t2.38e-07\t1.20e-06\t4.77e-07\t7.57e-07\t4.77e-07\t5.00e-01\t2.03e+07\n",
      "23\t1.19e-07\t5.93e-07\t2.38e-07\t3.80e-07\t2.38e-07\t5.00e-01\t2.03e+07\n",
      "24\t5.96e-08\t2.98e-07\t1.19e-07\t1.92e-07\t1.19e-07\t5.00e-01\t2.03e+07\n",
      "25\t2.98e-08\t1.55e-07\t5.96e-08\t9.59e-08\t5.96e-08\t5.00e-01\t2.03e+07\n",
      "26\t1.49e-08\t6.99e-08\t2.98e-08\t4.81e-08\t2.98e-08\t5.00e-01\t2.03e+07\n",
      "27\t7.45e-09\t2.90e-08\t1.49e-08\t2.55e-08\t1.49e-08\t5.00e-01\t2.03e+07\n",
      "28\t0.00e+00\t1.11e-08\t6.16e-17\t1.14e-08\t1.11e-16\t1.00e+00\t2.03e+07\n",
      "29\t0.00e+00\t1.11e-08\t6.16e-17\t1.14e-08\t1.11e-16\t2.22e-16\t2.03e+07\n",
      "Error of x with respect to x_ast: 1.14e-08\n",
      "Approximate solution: [0.         0.99999999]\n",
      "Backtracking value less than tol_backtracking, check approximation\n"
     ]
    }
   ],
   "source": [
    "[x,total_of_iterations,\n",
    " Err_plot,x_plot] = Newtons_method_infeasible_init_point_2nd_version(fo, A, b,x_0, nu_0, tol, \n",
    "                                                                     tol_backtracking, x_ast, p_ast, maxiter\n",
    "                                                                     )"
   ]
  },
  {
   "cell_type": "code",
   "execution_count": 17,
   "metadata": {},
   "outputs": [
    {
     "data": {
      "text/plain": [
       "1.1430297930381528e-08"
      ]
     },
     "execution_count": 17,
     "metadata": {},
     "output_type": "execute_result"
    }
   ],
   "source": [
    "compute_error(x_ast,x)"
   ]
  },
  {
   "cell_type": "markdown",
   "metadata": {},
   "source": [
    "# Segundo ejemplo"
   ]
  },
  {
   "cell_type": "markdown",
   "metadata": {},
   "source": [
    "$$\\displaystyle \\min_{x \\in \\mathbb{R}^2} \\quad \\frac{1}{2}(x_1^2 + x_2^2)$$"
   ]
  },
  {
   "cell_type": "markdown",
   "metadata": {},
   "source": [
    "$$\\text{sujeto a: } 2x_1 -x_2 = 5$$"
   ]
  },
  {
   "cell_type": "code",
   "execution_count": 18,
   "metadata": {},
   "outputs": [],
   "source": [
    "fo = lambda x: 1/2*(x[0]**2  + x[1]**2)"
   ]
  },
  {
   "cell_type": "code",
   "execution_count": 19,
   "metadata": {},
   "outputs": [],
   "source": [
    "A = np.array([2,-1],dtype=float)"
   ]
  },
  {
   "cell_type": "code",
   "execution_count": 20,
   "metadata": {},
   "outputs": [],
   "source": [
    "b=5"
   ]
  },
  {
   "cell_type": "code",
   "execution_count": 21,
   "metadata": {},
   "outputs": [],
   "source": [
    "x_ast = np.array([2,-1],dtype=float)"
   ]
  },
  {
   "cell_type": "markdown",
   "metadata": {},
   "source": [
    "## Método de Newton para puntos iniciales no factibles"
   ]
  },
  {
   "cell_type": "markdown",
   "metadata": {},
   "source": [
    "### Punto inicial no factible ($Ax^{(0)} \\neq b$)"
   ]
  },
  {
   "cell_type": "code",
   "execution_count": 22,
   "metadata": {},
   "outputs": [],
   "source": [
    "x_0 = np.array([1,1],dtype=float)\n",
    "nu_0 = 4"
   ]
  },
  {
   "cell_type": "markdown",
   "metadata": {},
   "source": [
    "**Versión del método de Newton para puntos iniciales no factibles que se apoya del método de Newton para puntos iniciales factibles**"
   ]
  },
  {
   "cell_type": "code",
   "execution_count": 23,
   "metadata": {},
   "outputs": [
    {
     "name": "stdout",
     "output_type": "stream",
     "text": [
      "I\t||res_primal||\t||res_dual|| \tNewton Decrement\tError x_ast\tError p_ast\tline search\tCondHf\n",
      "0\t4.00e+00\t9.49e+00\t1.00e+00\t1.00e+00\t2.00e+00\t---\t\t1.00e+00\n",
      "1\t0.00e+00\t7.56e-04\t3.19e-08\t7.99e-05\t3.50e+00\t1.00e+00\t1.00e+00\n",
      "------------------------------------------------------------\n",
      "------------------------------------------------------------\n",
      "------------------------------------------------------------\n",
      "Beginning Newtons method for feasible initial point\n",
      "I\tNormgf \tNewton Decrement\tError x_ast\tError p_ast\tline search\tCondHf\n",
      "0\t2.24e+00\t3.19e-08\t7.99e-05\t3.50e+00\t---\t\t1.00e+00\n",
      "1\t2.24e+00\t9.87e-15\t4.08e-08\t3.50e+00\t1.00e+00\t1.00e+00\n",
      "Error of x with respect to x_ast: 4.08e-08\n",
      "Approximate solution: [ 1.99999996 -1.00000008]\n"
     ]
    }
   ],
   "source": [
    "[x,total_of_iterations,\n",
    " Err_plot,x_plot] = Newtons_method_infeasible_init_point(fo, A, b,x_0, nu_0, tol, \n",
    "                                                         tol_backtracking, x_ast, p_ast, maxiter\n",
    "                                                         )"
   ]
  },
  {
   "cell_type": "code",
   "execution_count": 24,
   "metadata": {},
   "outputs": [
    {
     "data": {
      "text/plain": [
       "4.078981343802468e-08"
      ]
     },
     "execution_count": 24,
     "metadata": {},
     "output_type": "execute_result"
    }
   ],
   "source": [
    "compute_error(x_ast,x)"
   ]
  },
  {
   "cell_type": "markdown",
   "metadata": {},
   "source": [
    "**Versión del método de Newton para puntos iniciales no factibles (2o versión)**"
   ]
  },
  {
   "cell_type": "code",
   "execution_count": 25,
   "metadata": {},
   "outputs": [
    {
     "name": "stdout",
     "output_type": "stream",
     "text": [
      "I\t||res_primal||\t||res_dual|| \tNewton Decrement\tError x_ast\tError p_ast\tline search\tCondHf\n",
      "0\t4.00e+00\t9.49e+00\t1.00e+00\t1.00e+00\t2.00e+00\t---\t\t1.00e+00\n",
      "1\t0.00e+00\t7.56e-04\t3.19e-08\t7.99e-05\t3.50e+00\t1.00e+00\t1.00e+00\n",
      "2\t0.00e+00\t6.58e-08\t3.55e-15\t6.20e-09\t3.50e+00\t1.00e+00\t1.00e+00\n",
      "3\t8.88e-16\t1.03e-09\t8.88e-16\t1.29e-08\t3.50e+00\t2.50e-01\t1.00e+00\n",
      "Error of x with respect to x_ast: 1.29e-08\n",
      "Approximate solution: [ 1.99999999 -1.00000003]\n"
     ]
    }
   ],
   "source": [
    "[x,total_of_iterations,\n",
    " Err_plot,x_plot] = Newtons_method_infeasible_init_point_2nd_version(fo, A, b,x_0, nu_0, tol, \n",
    "                                                                     tol_backtracking, x_ast, p_ast, maxiter\n",
    "                                                                     )"
   ]
  },
  {
   "cell_type": "code",
   "execution_count": 26,
   "metadata": {},
   "outputs": [
    {
     "data": {
      "text/plain": [
       "1.2867310816844223e-08"
      ]
     },
     "execution_count": 26,
     "metadata": {},
     "output_type": "execute_result"
    }
   ],
   "source": [
    "compute_error(x_ast,x)"
   ]
  },
  {
   "cell_type": "markdown",
   "metadata": {},
   "source": [
    "# Tercer ejemplo"
   ]
  },
  {
   "cell_type": "markdown",
   "metadata": {},
   "source": [
    "$$\\displaystyle \\min_{x \\in \\mathbb{R}^2} \\quad x_1^2 + x_2^2$$"
   ]
  },
  {
   "cell_type": "markdown",
   "metadata": {},
   "source": [
    "$$\\text{sujeto a :} x_1+x_2 = 1$$"
   ]
  },
  {
   "cell_type": "code",
   "execution_count": 27,
   "metadata": {},
   "outputs": [],
   "source": [
    "fo = lambda x: x[0]**2+x[1]**2"
   ]
  },
  {
   "cell_type": "code",
   "execution_count": 28,
   "metadata": {},
   "outputs": [],
   "source": [
    "x_ast = np.array([.5,.5],dtype=float)"
   ]
  },
  {
   "cell_type": "code",
   "execution_count": 29,
   "metadata": {},
   "outputs": [],
   "source": [
    "A = np.array([1,1],dtype=float)"
   ]
  },
  {
   "cell_type": "code",
   "execution_count": 30,
   "metadata": {},
   "outputs": [],
   "source": [
    "b=1"
   ]
  },
  {
   "cell_type": "markdown",
   "metadata": {},
   "source": [
    "## Método de Newton para puntos iniciales no factibles"
   ]
  },
  {
   "cell_type": "markdown",
   "metadata": {},
   "source": [
    "### Punto inicial no factible ($Ax^{(0)} \\neq b$)"
   ]
  },
  {
   "cell_type": "code",
   "execution_count": 31,
   "metadata": {},
   "outputs": [],
   "source": [
    "x_0 = np.array([1,1],dtype=float)\n",
    "nu_0 = 4"
   ]
  },
  {
   "cell_type": "markdown",
   "metadata": {},
   "source": [
    "**Versión del método de Newton para puntos iniciales no factibles que se apoya del método de Newton para puntos iniciales factibles**"
   ]
  },
  {
   "cell_type": "code",
   "execution_count": 32,
   "metadata": {},
   "outputs": [
    {
     "name": "stdout",
     "output_type": "stream",
     "text": [
      "I\t||res_primal||\t||res_dual|| \tNewton Decrement\tError x_ast\tError p_ast\tline search\tCondHf\n",
      "0\t1.00e+00\t8.49e+00\t2.00e+00\t1.00e+00\t3.00e+00\t---\t\t1.00e+00\n",
      "1\t1.11e-15\t1.26e-04\t-1.08e-15\t1.12e-15\t1.50e+00\t1.00e+00\t1.00e+00\n",
      "------------------------------------------------------------\n",
      "------------------------------------------------------------\n",
      "------------------------------------------------------------\n",
      "Beginning Newtons method for feasible initial point\n",
      "I\tNormgf \tNewton Decrement\tError x_ast\tError p_ast\tline search\tCondHf\n",
      "0\t1.41e+00\t-0.00e+00\t1.12e-15\t1.50e+00\t---\t\t1.00e+00\n",
      "Error of x with respect to x_ast: 1.12e-15\n",
      "Approximate solution: [0.5 0.5]\n"
     ]
    }
   ],
   "source": [
    "[x,total_of_iterations,\n",
    " Err_plot,x_plot] = Newtons_method_infeasible_init_point(fo, A, b,x_0, nu_0, tol, \n",
    "                                                         tol_backtracking, x_ast, p_ast, maxiter\n",
    "                                                         )"
   ]
  },
  {
   "cell_type": "code",
   "execution_count": 33,
   "metadata": {},
   "outputs": [
    {
     "data": {
      "text/plain": [
       "1.1157603309187458e-15"
      ]
     },
     "execution_count": 33,
     "metadata": {},
     "output_type": "execute_result"
    }
   ],
   "source": [
    "compute_error(x_ast,x)"
   ]
  },
  {
   "cell_type": "markdown",
   "metadata": {},
   "source": [
    "**Versión del método de Newton para puntos iniciales no factibles (2o versión)**"
   ]
  },
  {
   "cell_type": "code",
   "execution_count": 34,
   "metadata": {},
   "outputs": [
    {
     "name": "stdout",
     "output_type": "stream",
     "text": [
      "I\t||res_primal||\t||res_dual|| \tNewton Decrement\tError x_ast\tError p_ast\tline search\tCondHf\n",
      "0\t1.00e+00\t8.49e+00\t2.00e+00\t1.00e+00\t3.00e+00\t---\t\t1.00e+00\n",
      "1\t2.22e-16\t1.26e-04\t-1.91e-16\t2.48e-16\t1.50e+00\t1.00e+00\t1.00e+00\n",
      "2\t0.00e+00\t7.85e-09\t8.27e-25\t5.55e-09\t1.50e+00\t1.00e+00\t1.00e+00\n",
      "Error of x with respect to x_ast: 5.55e-09\n",
      "Approximate solution: [0.5 0.5]\n"
     ]
    }
   ],
   "source": [
    "[x,total_of_iterations,\n",
    " Err_plot,x_plot] = Newtons_method_infeasible_init_point_2nd_version(fo, A, b,x_0, nu_0, tol, \n",
    "                                                                     tol_backtracking, x_ast, p_ast, maxiter\n",
    "                                                                     )"
   ]
  },
  {
   "cell_type": "code",
   "execution_count": 35,
   "metadata": {},
   "outputs": [
    {
     "data": {
      "text/plain": [
       "5.550929882414124e-09"
      ]
     },
     "execution_count": 35,
     "metadata": {},
     "output_type": "execute_result"
    }
   ],
   "source": [
    "compute_error(x_ast,x)"
   ]
  },
  {
   "cell_type": "markdown",
   "metadata": {},
   "source": [
    "# Cuarto ejemplo"
   ]
  },
  {
   "cell_type": "markdown",
   "metadata": {},
   "source": [
    "$$\\displaystyle \\min_{x \\in \\mathbb{R}^2} \\quad e^{x_1+3x_2-0.1} + e^{x_1 -3x_2-0.1} + e^{-x_1-0.1}$$"
   ]
  },
  {
   "cell_type": "markdown",
   "metadata": {},
   "source": [
    "$$\\text{sujeto a:} x_1 + 3x_2 = 0$$"
   ]
  },
  {
   "cell_type": "code",
   "execution_count": 36,
   "metadata": {},
   "outputs": [],
   "source": [
    "fo = lambda x: math.exp(x[0] + 3*x[1]-0.1) + math.exp(x[0]  -3*x[1]-0.1) + math.exp(-x[0]-0.1)"
   ]
  },
  {
   "cell_type": "code",
   "execution_count": 37,
   "metadata": {},
   "outputs": [],
   "source": [
    "x_ast = np.array([-0.23104907880100917,0.0770163596518852],dtype=float)"
   ]
  },
  {
   "cell_type": "code",
   "execution_count": 38,
   "metadata": {},
   "outputs": [],
   "source": [
    "A = np.array([1,3],dtype=float)"
   ]
  },
  {
   "cell_type": "code",
   "execution_count": 39,
   "metadata": {},
   "outputs": [],
   "source": [
    "b=0"
   ]
  },
  {
   "cell_type": "markdown",
   "metadata": {},
   "source": [
    "## Método de Newton para puntos iniciales no factibles"
   ]
  },
  {
   "cell_type": "markdown",
   "metadata": {},
   "source": [
    "### Punto inicial no factible ($Ax^{(0)} \\neq b$)"
   ]
  },
  {
   "cell_type": "code",
   "execution_count": 40,
   "metadata": {},
   "outputs": [],
   "source": [
    "x_0 = np.array([1,1],dtype=float) #with 1,1 doesn't work\n",
    "nu_0 = 1"
   ]
  },
  {
   "cell_type": "markdown",
   "metadata": {},
   "source": [
    "**Versión del método de Newton para puntos iniciales no factibles que se apoya del método de Newton para puntos iniciales factibles**"
   ]
  },
  {
   "cell_type": "code",
   "execution_count": 41,
   "metadata": {},
   "outputs": [
    {
     "name": "stdout",
     "output_type": "stream",
     "text": [
      "I\t||res_primal||\t||res_dual|| \tNewton Decrement\tError x_ast\tError p_ast\tline search\tCondHf\n",
      "0\t4.00e+00\t1.59e+02\t1.97e+02\t6.32e+00\t5.09e+01\t---\t\t6.62e+02\n",
      "1\t4.00e+00\t1.59e+02\t1.97e+02\t6.32e+00\t5.09e+01\t2.78e-17\t6.62e+02\n",
      "Backtracking value less than tol_backtracking, try other initial point\n"
     ]
    }
   ],
   "source": [
    "[x,total_of_iterations,\n",
    " Err_plot,x_plot] = Newtons_method_infeasible_init_point(fo, A, b,x_0, nu_0, tol, \n",
    "                                                         tol_backtracking, x_ast, p_ast,maxiter\n",
    "                                                        )"
   ]
  },
  {
   "cell_type": "markdown",
   "metadata": {},
   "source": [
    "**Versión del método de Newton para puntos iniciales no factibles (2o versión)**"
   ]
  },
  {
   "cell_type": "code",
   "execution_count": 42,
   "metadata": {},
   "outputs": [
    {
     "name": "stdout",
     "output_type": "stream",
     "text": [
      "I\t||res_primal||\t||res_dual|| \tNewton Decrement\tError x_ast\tError p_ast\tline search\tCondHf\n",
      "0\t4.00e+00\t1.59e+02\t1.97e+02\t6.32e+00\t5.09e+01\t---\t\t6.62e+02\n",
      "1\t4.00e+00\t1.59e+02\t1.97e+02\t6.32e+00\t5.09e+01\t2.78e-17\t6.62e+02\n",
      "Error of x with respect to x_ast: 6.32e+00\n",
      "Approximate solution: [1. 1.]\n",
      "Backtracking value less than tol_backtracking, check approximation\n"
     ]
    }
   ],
   "source": [
    "[x,total_of_iterations,\n",
    " Err_plot,x_plot] = Newtons_method_infeasible_init_point_2nd_version(fo, A, b,x_0, nu_0, tol, \n",
    "                                                                     tol_backtracking, x_ast, p_ast,maxiter\n",
    "                                                                     )"
   ]
  },
  {
   "cell_type": "markdown",
   "metadata": {},
   "source": [
    "### (Probando el comportamiento con punto inicial factible ($Ax^{(0)} = b$))"
   ]
  },
  {
   "cell_type": "code",
   "execution_count": 43,
   "metadata": {},
   "outputs": [],
   "source": [
    "x_0 = np.array([0,0],dtype=float) \n",
    "nu_0 = 1"
   ]
  },
  {
   "cell_type": "markdown",
   "metadata": {},
   "source": [
    "**Versión del método de Newton para puntos iniciales no factibles que se apoya del método de Newton para puntos iniciales factibles**"
   ]
  },
  {
   "cell_type": "code",
   "execution_count": 44,
   "metadata": {},
   "outputs": [
    {
     "name": "stdout",
     "output_type": "stream",
     "text": [
      "I\t||res_primal||\t||res_dual|| \tNewton Decrement\tError x_ast\tError p_ast\tline search\tCondHf\n",
      "0\t0.00e+00\t3.55e+00\t1.81e-01\t1.00e+00\t3.71e+00\t---\t\t6.00e+00\n",
      "------------------------------------------------------------\n",
      "------------------------------------------------------------\n",
      "------------------------------------------------------------\n",
      "Beginning Newtons method for feasible initial point\n",
      "I\tNormgf \tNewton Decrement\tError x_ast\tError p_ast\tline search\tCondHf\n",
      "0\t9.05e-01\t1.81e-01\t1.00e+00\t3.71e+00\t---\t\t6.00e+00\n",
      "1\t9.05e-01\t3.30e-03\t1.34e-01\t3.62e+00\t1.00e+00\t6.00e+00\n",
      "2\t9.05e-01\t8.46e-07\t2.15e-03\t3.61e+00\t1.00e+00\t6.00e+00\n",
      "3\t9.05e-01\t7.41e-14\t6.52e-07\t3.61e+00\t1.00e+00\t6.00e+00\n",
      "Error of x with respect to x_ast: 6.52e-07\n",
      "Approximate solution: [-0.23104893  0.07701631]\n"
     ]
    }
   ],
   "source": [
    "[x,total_of_iterations,\n",
    " Err_plot,x_plot] = Newtons_method_infeasible_init_point(fo, A, b,x_0, nu_0, tol, \n",
    "                                                         tol_backtracking, x_ast, p_ast,maxiter\n",
    "                                                         )"
   ]
  },
  {
   "cell_type": "code",
   "execution_count": 45,
   "metadata": {},
   "outputs": [
    {
     "data": {
      "text/plain": [
       "6.524588707146708e-07"
      ]
     },
     "execution_count": 45,
     "metadata": {},
     "output_type": "execute_result"
    }
   ],
   "source": [
    "compute_error(x_ast,x)"
   ]
  },
  {
   "cell_type": "markdown",
   "metadata": {},
   "source": [
    "**Versión del método de Newton para puntos iniciales no factibles (2o versión)**"
   ]
  },
  {
   "cell_type": "code",
   "execution_count": 46,
   "metadata": {},
   "outputs": [
    {
     "name": "stdout",
     "output_type": "stream",
     "text": [
      "I\t||res_primal||\t||res_dual|| \tNewton Decrement\tError x_ast\tError p_ast\tline search\tCondHf\n",
      "0\t0.00e+00\t3.55e+00\t1.81e-01\t1.00e+00\t3.71e+00\t---\t\t6.00e+00\n",
      "1\t1.11e-16\t1.96e-01\t3.30e-03\t1.34e-01\t3.62e+00\t1.00e+00\t6.00e+00\n",
      "2\t0.00e+00\t3.38e-03\t8.33e-07\t2.14e-03\t3.61e+00\t1.00e+00\t6.00e+00\n",
      "3\t0.00e+00\t1.06e-06\t6.98e-14\t7.34e-07\t3.61e+00\t1.00e+00\t6.00e+00\n",
      "4\t0.00e+00\t5.92e-08\t1.03e-15\t1.16e-07\t3.61e+00\t1.00e+00\t6.00e+00\n",
      "5\t2.78e-17\t1.78e-08\t5.48e-17\t9.73e-08\t3.61e+00\t2.50e-01\t6.00e+00\n",
      "6\t2.78e-17\t1.78e-08\t5.48e-17\t9.73e-08\t3.61e+00\t2.22e-16\t6.00e+00\n",
      "Error of x with respect to x_ast: 9.73e-08\n",
      "Approximate solution: [-0.23104906  0.07701635]\n",
      "Backtracking value less than tol_backtracking, check approximation\n"
     ]
    }
   ],
   "source": [
    "[x,total_of_iterations,\n",
    " Err_plot,x_plot] = Newtons_method_infeasible_init_point_2nd_version(fo, A, b,x_0, nu_0, tol, \n",
    "                                                                     tol_backtracking, x_ast, p_ast,maxiter\n",
    "                                                                     )"
   ]
  },
  {
   "cell_type": "code",
   "execution_count": 47,
   "metadata": {},
   "outputs": [
    {
     "data": {
      "text/plain": [
       "9.732233305891635e-08"
      ]
     },
     "execution_count": 47,
     "metadata": {},
     "output_type": "execute_result"
    }
   ],
   "source": [
    "compute_error(x_ast,x)"
   ]
  },
  {
   "cell_type": "markdown",
   "metadata": {},
   "source": [
    "### Punto inicial no factible ($Ax^{(0)} \\neq b$)"
   ]
  },
  {
   "cell_type": "code",
   "execution_count": 48,
   "metadata": {},
   "outputs": [],
   "source": [
    "x_0 = np.array([-.1,.1],dtype=float) \n",
    "nu_0 = 1"
   ]
  },
  {
   "cell_type": "markdown",
   "metadata": {},
   "source": [
    "**Versión del método de Newton para puntos iniciales no factibles que se apoya del método de Newton para puntos iniciales factibles**"
   ]
  },
  {
   "cell_type": "code",
   "execution_count": 49,
   "metadata": {},
   "outputs": [
    {
     "name": "stdout",
     "output_type": "stream",
     "text": [
      "I\t||res_primal||\t||res_dual|| \tNewton Decrement\tError x_ast\tError p_ast\tline search\tCondHf\n",
      "0\t2.00e-01\t4.81e+00\t1.28e-01\t5.46e-01\t3.71e+00\t---\t\t6.14e+00\n",
      "1\t2.22e-16\t5.96e-02\t1.28e-05\t8.39e-03\t3.61e+00\t1.00e+00\t6.14e+00\n",
      "------------------------------------------------------------\n",
      "------------------------------------------------------------\n",
      "------------------------------------------------------------\n",
      "Beginning Newtons method for feasible initial point\n",
      "I\tNormgf \tNewton Decrement\tError x_ast\tError p_ast\tline search\tCondHf\n",
      "0\t1.06e+00\t1.28e-05\t8.39e-03\t3.61e+00\t---\t\t5.30e+00\n",
      "1\t1.06e+00\t1.04e-11\t7.62e-06\t3.61e+00\t1.00e+00\t5.30e+00\n",
      "Error of x with respect to x_ast: 7.62e-06\n",
      "Approximate solution: [-0.23104732  0.07701577]\n"
     ]
    }
   ],
   "source": [
    "[x,total_of_iterations,\n",
    " Err_plot,x_plot] = Newtons_method_infeasible_init_point(fo, A, b,x_0, nu_0, tol, \n",
    "                                                         tol_backtracking, x_ast, p_ast,maxiter\n",
    "                                                         )"
   ]
  },
  {
   "cell_type": "code",
   "execution_count": 50,
   "metadata": {},
   "outputs": [
    {
     "data": {
      "text/plain": [
       "7.6180302179383765e-06"
      ]
     },
     "execution_count": 50,
     "metadata": {},
     "output_type": "execute_result"
    }
   ],
   "source": [
    "compute_error(x_ast,x)"
   ]
  },
  {
   "cell_type": "markdown",
   "metadata": {},
   "source": [
    "**Versión del método de Newton para puntos iniciales no factibles (2o versión)**"
   ]
  },
  {
   "cell_type": "code",
   "execution_count": 51,
   "metadata": {},
   "outputs": [
    {
     "name": "stdout",
     "output_type": "stream",
     "text": [
      "I\t||res_primal||\t||res_dual|| \tNewton Decrement\tError x_ast\tError p_ast\tline search\tCondHf\n",
      "0\t2.00e-01\t4.81e+00\t1.28e-01\t5.46e-01\t3.71e+00\t---\t\t6.14e+00\n",
      "1\t2.22e-16\t5.96e-02\t1.28e-05\t8.39e-03\t3.61e+00\t1.00e+00\t6.14e+00\n",
      "2\t0.00e+00\t1.34e-05\t1.01e-11\t7.62e-06\t3.61e+00\t1.00e+00\t6.14e+00\n",
      "3\t2.78e-17\t6.56e-08\t1.02e-15\t1.62e-07\t3.61e+00\t1.00e+00\t6.14e+00\n",
      "4\t0.00e+00\t6.73e-08\t2.56e-16\t1.25e-07\t3.61e+00\t5.00e-01\t6.14e+00\n",
      "5\t2.78e-17\t2.88e-08\t2.66e-16\t8.73e-08\t3.61e+00\t1.00e+00\t6.14e+00\n",
      "6\t2.78e-17\t2.88e-08\t2.66e-16\t8.73e-08\t3.61e+00\t2.22e-16\t6.14e+00\n",
      "Error of x with respect to x_ast: 8.73e-08\n",
      "Approximate solution: [-0.23104906  0.07701635]\n",
      "Backtracking value less than tol_backtracking, check approximation\n"
     ]
    }
   ],
   "source": [
    "[x,total_of_iterations,\n",
    " Err_plot,x_plot]= Newtons_method_infeasible_init_point_2nd_version(fo, A, b,x_0, nu_0, tol, \n",
    "                                                                    tol_backtracking, x_ast, p_ast,maxiter\n",
    "                                                                    )"
   ]
  },
  {
   "cell_type": "code",
   "execution_count": 52,
   "metadata": {},
   "outputs": [
    {
     "data": {
      "text/plain": [
       "8.734385833741386e-08"
      ]
     },
     "execution_count": 52,
     "metadata": {},
     "output_type": "execute_result"
    }
   ],
   "source": [
    "compute_error(x_ast,x)"
   ]
  },
  {
   "cell_type": "markdown",
   "metadata": {},
   "source": [
    "# Quinto ejemplo: con más restricciones de igualdad"
   ]
  },
  {
   "cell_type": "markdown",
   "metadata": {},
   "source": [
    "Resolver: \n",
    "$$\\displaystyle \\min_{x \\in \\mathbb{R}^3} \\quad ||x||_2^2$$"
   ]
  },
  {
   "cell_type": "markdown",
   "metadata": {},
   "source": [
    "$$\\text{sujeto a: }\\begin{array}{l}\n",
    "\\begin{array}{c}\n",
    "x_1 + x_2 + x_3 = 1 \\\\\n",
    "x_1 + x_2 + 2x_3 = 3\n",
    "\\end{array}\n",
    "\\end{array}\n",
    "$$"
   ]
  },
  {
   "cell_type": "code",
   "execution_count": 53,
   "metadata": {},
   "outputs": [],
   "source": [
    "fo = lambda x: x.dot(x)"
   ]
  },
  {
   "cell_type": "code",
   "execution_count": 54,
   "metadata": {},
   "outputs": [],
   "source": [
    "x_ast = np.array([-0.5,-0.5,2. ], dtype=float)"
   ]
  },
  {
   "cell_type": "code",
   "execution_count": 55,
   "metadata": {},
   "outputs": [],
   "source": [
    "A = np.array([[1, 1, 1],\n",
    "              [1, 1, 2]],dtype=float)"
   ]
  },
  {
   "cell_type": "code",
   "execution_count": 56,
   "metadata": {},
   "outputs": [],
   "source": [
    "b = np.array([1,3])"
   ]
  },
  {
   "cell_type": "markdown",
   "metadata": {},
   "source": [
    "## Método de Newton para puntos iniciales no factibles"
   ]
  },
  {
   "cell_type": "markdown",
   "metadata": {},
   "source": [
    "### (Probando el comportamiento con un punto inicial factible ($Ax^{(0)} = b$))"
   ]
  },
  {
   "cell_type": "code",
   "execution_count": 57,
   "metadata": {},
   "outputs": [],
   "source": [
    "x_0 = np.array([3,-4,2], dtype=float) #Ax_0 = b\n",
    "#x_0 = np.array([2,-3,2], dtype=float)\n",
    "nu_0 = np.array([0,0],dtype=float)"
   ]
  },
  {
   "cell_type": "markdown",
   "metadata": {},
   "source": [
    "**Versión del método de Newton para puntos iniciales no factibles que se apoya del método de Newton para puntos iniciales factibles**"
   ]
  },
  {
   "cell_type": "code",
   "execution_count": 58,
   "metadata": {},
   "outputs": [
    {
     "name": "stdout",
     "output_type": "stream",
     "text": [
      "I\t||res_primal||\t||res_dual|| \tNewton Decrement\tError x_ast\tError p_ast\tline search\tCondHf\n",
      "0\t0.00e+00\t1.08e+01\t4.90e+01\t2.33e+00\t3.00e+01\t---\t\t1.00e+00\n",
      "------------------------------------------------------------\n",
      "------------------------------------------------------------\n",
      "------------------------------------------------------------\n",
      "Beginning Newtons method for feasible initial point\n",
      "I\tNormgf \tNewton Decrement\tError x_ast\tError p_ast\tline search\tCondHf\n",
      "0\t1.08e+01\t4.90e+01\t2.33e+00\t3.00e+01\t---\t\t1.00e+00\n",
      "1\t1.08e+01\t3.14e-05\t1.87e-03\t5.50e+00\t1.00e+00\t1.00e+00\n",
      "2\t1.08e+01\t5.83e-13\t2.52e-07\t5.50e+00\t1.00e+00\t1.00e+00\n",
      "Error of x with respect to x_ast: 2.52e-07\n",
      "Approximate solution: [-0.49999962 -0.50000038  2.        ]\n"
     ]
    }
   ],
   "source": [
    "[x,total_of_iterations,\n",
    " Err_plot,x_plot] = Newtons_method_infeasible_init_point(fo, A, b,x_0, nu_0, tol, \n",
    "                                                         tol_backtracking, x_ast, p_ast\n",
    "                                                         )"
   ]
  },
  {
   "cell_type": "code",
   "execution_count": 59,
   "metadata": {},
   "outputs": [
    {
     "data": {
      "text/plain": [
       "2.518419818612709e-07"
      ]
     },
     "execution_count": 59,
     "metadata": {},
     "output_type": "execute_result"
    }
   ],
   "source": [
    "compute_error(x_ast,x)"
   ]
  },
  {
   "cell_type": "markdown",
   "metadata": {},
   "source": [
    "**Versión del método de Newton para puntos iniciales no factibles (2o versión)**"
   ]
  },
  {
   "cell_type": "code",
   "execution_count": 60,
   "metadata": {},
   "outputs": [
    {
     "name": "stdout",
     "output_type": "stream",
     "text": [
      "I\t||res_primal||\t||res_dual|| \tNewton Decrement\tError x_ast\tError p_ast\tline search\tCondHf\n",
      "0\t0.00e+00\t1.08e+01\t4.90e+01\t2.33e+00\t3.00e+01\t---\t\t1.00e+00\n",
      "1\t6.28e-16\t1.01e+01\t4.30e+01\t2.19e+00\t2.70e+01\t6.25e-02\t1.00e+00\n",
      "2\t1.26e-15\t9.47e+00\t3.79e+01\t2.05e+00\t2.44e+01\t6.25e-02\t1.00e+00\n",
      "3\t0.00e+00\t8.87e+00\t3.33e+01\t1.92e+00\t2.21e+01\t6.25e-02\t1.00e+00\n",
      "4\t6.28e-16\t8.32e+00\t2.92e+01\t1.80e+00\t2.01e+01\t6.25e-02\t1.00e+00\n",
      "5\t1.26e-15\t7.80e+00\t2.57e+01\t1.69e+00\t1.83e+01\t6.25e-02\t1.00e+00\n",
      "6\t6.28e-16\t7.31e+00\t2.26e+01\t1.58e+00\t1.68e+01\t6.25e-02\t1.00e+00\n",
      "7\t6.28e-16\t6.85e+00\t1.99e+01\t1.49e+00\t1.54e+01\t6.25e-02\t1.00e+00\n",
      "8\t6.28e-16\t6.43e+00\t1.74e+01\t1.39e+00\t1.42e+01\t6.25e-02\t1.00e+00\n",
      "9\t6.28e-16\t6.02e+00\t1.53e+01\t1.31e+00\t1.32e+01\t6.25e-02\t1.00e+00\n",
      "10\t1.26e-15\t5.65e+00\t1.35e+01\t1.22e+00\t1.22e+01\t6.25e-02\t1.00e+00\n",
      "11\t1.26e-15\t5.30e+00\t1.18e+01\t1.15e+00\t1.14e+01\t6.25e-02\t1.00e+00\n",
      "12\t6.28e-16\t4.96e+00\t1.04e+01\t1.08e+00\t1.07e+01\t6.25e-02\t1.00e+00\n",
      "13\t6.28e-16\t4.65e+00\t9.16e+00\t1.01e+00\t1.01e+01\t6.25e-02\t1.00e+00\n",
      "14\t9.16e-16\t4.36e+00\t8.05e+00\t9.45e-01\t9.52e+00\t6.25e-02\t1.00e+00\n",
      "15\t4.44e-16\t4.09e+00\t7.07e+00\t8.86e-01\t9.03e+00\t6.25e-02\t1.00e+00\n",
      "16\t2.22e-16\t3.83e+00\t6.21e+00\t8.31e-01\t8.61e+00\t6.25e-02\t1.00e+00\n",
      "17\t1.11e-15\t3.59e+00\t5.46e+00\t7.79e-01\t8.23e+00\t6.25e-02\t1.00e+00\n",
      "18\t9.16e-16\t3.37e+00\t4.80e+00\t7.30e-01\t7.90e+00\t6.25e-02\t1.00e+00\n",
      "19\t2.22e-16\t3.16e+00\t4.22e+00\t6.85e-01\t7.61e+00\t6.25e-02\t1.00e+00\n",
      "20\t1.11e-15\t2.96e+00\t3.71e+00\t6.42e-01\t7.35e+00\t6.25e-02\t1.00e+00\n",
      "21\t2.22e-16\t2.78e+00\t3.26e+00\t6.02e-01\t7.13e+00\t6.25e-02\t1.00e+00\n",
      "22\t4.44e-16\t2.60e+00\t2.86e+00\t5.64e-01\t6.93e+00\t6.25e-02\t1.00e+00\n",
      "23\t6.28e-16\t2.44e+00\t2.52e+00\t5.29e-01\t6.76e+00\t6.25e-02\t1.00e+00\n",
      "24\t9.16e-16\t2.29e+00\t2.21e+00\t4.96e-01\t6.61e+00\t6.25e-02\t1.00e+00\n",
      "25\t4.44e-16\t2.15e+00\t1.94e+00\t4.65e-01\t6.47e+00\t6.25e-02\t1.00e+00\n",
      "26\t2.22e-16\t2.01e+00\t1.71e+00\t4.36e-01\t6.35e+00\t6.25e-02\t1.00e+00\n",
      "27\t2.22e-16\t1.89e+00\t1.50e+00\t4.08e-01\t6.25e+00\t6.25e-02\t1.00e+00\n",
      "28\t2.22e-16\t1.77e+00\t1.32e+00\t3.83e-01\t6.16e+00\t6.25e-02\t1.00e+00\n",
      "29\t0.00e+00\t1.66e+00\t1.16e+00\t3.59e-01\t6.08e+00\t6.25e-02\t1.00e+00\n",
      "Error of x with respect to x_ast: 3.59e-01\n",
      "Approximate solution: [ 0.03854189 -1.03854189  2.        ]\n",
      "Reached maximum of iterations, check approximation\n"
     ]
    }
   ],
   "source": [
    "[x,total_of_iterations,\n",
    " Err_plot,x_plot] = Newtons_method_infeasible_init_point_2nd_version(fo, A, b,x_0, nu_0, tol, \n",
    "                                                                     tol_backtracking, x_ast, p_ast\n",
    "                                                                     )"
   ]
  },
  {
   "cell_type": "code",
   "execution_count": 61,
   "metadata": {},
   "outputs": [
    {
     "data": {
      "text/plain": [
       "0.35902792568287245"
      ]
     },
     "execution_count": 61,
     "metadata": {},
     "output_type": "execute_result"
    }
   ],
   "source": [
    "compute_error(x_ast,x)"
   ]
  },
  {
   "cell_type": "markdown",
   "metadata": {},
   "source": [
    "**Hay que aumentar el número de iteraciones...**"
   ]
  },
  {
   "cell_type": "markdown",
   "metadata": {},
   "source": [
    "### Punto inicial no factible ($Ax^{(0)} \\neq b$)"
   ]
  },
  {
   "cell_type": "code",
   "execution_count": 62,
   "metadata": {},
   "outputs": [],
   "source": [
    "x_0 = np.array([3,-4,0], dtype=float) #Ax_0 different to b\n",
    "#x_0 = np.array([2,-3,1], dtype=float) #Ax_0 different to b\n",
    "                                       #Compare different versions of\n",
    "                                       #Newtons method infeasible initial points\n",
    "nu_0 = np.array([0,0],dtype=float)"
   ]
  },
  {
   "cell_type": "markdown",
   "metadata": {},
   "source": [
    "**Versión del método de Newton para puntos iniciales no factibles que se apoya del método de Newton para puntos iniciales factibles**"
   ]
  },
  {
   "cell_type": "code",
   "execution_count": 63,
   "metadata": {},
   "outputs": [
    {
     "name": "stdout",
     "output_type": "stream",
     "text": [
      "I\t||res_primal||\t||res_dual|| \tNewton Decrement\tError x_ast\tError p_ast\tline search\tCondHf\n",
      "0\t4.47e+00\t1.00e+01\t4.90e+01\t2.52e+00\t2.60e+01\t---\t\t1.00e+00\n",
      "1\t3.91e+00\t8.75e+00\t3.66e+01\t2.20e+00\t2.03e+01\t1.25e-01\t1.00e+00\n",
      "2\t3.42e+00\t7.66e+00\t2.73e+01\t1.93e+00\t1.61e+01\t1.25e-01\t1.00e+00\n",
      "3\t3.00e+00\t6.70e+00\t2.02e+01\t1.69e+00\t1.29e+01\t1.25e-01\t1.00e+00\n",
      "4\t2.62e+00\t5.86e+00\t1.49e+01\t1.48e+00\t1.06e+01\t1.25e-01\t1.00e+00\n",
      "5\t2.29e+00\t5.13e+00\t1.09e+01\t1.29e+00\t8.90e+00\t1.25e-01\t1.00e+00\n",
      "6\t2.01e+00\t4.49e+00\t7.89e+00\t1.13e+00\t7.65e+00\t1.25e-01\t1.00e+00\n",
      "7\t1.76e+00\t3.93e+00\t5.65e+00\t9.88e-01\t6.75e+00\t1.25e-01\t1.00e+00\n",
      "8\t1.54e+00\t3.44e+00\t3.98e+00\t8.65e-01\t6.12e+00\t1.25e-01\t1.00e+00\n",
      "9\t1.34e+00\t3.01e+00\t2.75e+00\t7.57e-01\t5.67e+00\t1.25e-01\t1.00e+00\n",
      "10\t1.18e+00\t2.63e+00\t1.84e+00\t6.62e-01\t5.37e+00\t1.25e-01\t1.00e+00\n",
      "11\t1.03e+00\t2.30e+00\t1.18e+00\t5.79e-01\t5.17e+00\t1.25e-01\t1.00e+00\n",
      "12\t9.01e-01\t2.01e+00\t7.02e-01\t5.07e-01\t5.05e+00\t1.25e-01\t1.00e+00\n",
      "13\t7.88e-01\t1.76e+00\t3.61e-01\t4.44e-01\t4.98e+00\t1.25e-01\t1.00e+00\n",
      "14\t6.90e-01\t1.54e+00\t1.22e-01\t3.88e-01\t4.94e+00\t1.25e-01\t1.00e+00\n",
      "15\t6.03e-01\t1.35e+00\t-4.14e-02\t3.40e-01\t4.94e+00\t1.25e-01\t1.00e+00\n",
      "16\t5.28e-01\t1.18e+00\t-1.50e-01\t2.97e-01\t4.95e+00\t1.25e-01\t1.00e+00\n",
      "17\t4.62e-01\t1.03e+00\t-2.18e-01\t2.60e-01\t4.98e+00\t1.25e-01\t1.00e+00\n",
      "18\t4.04e-01\t9.04e-01\t-2.57e-01\t2.28e-01\t5.01e+00\t1.25e-01\t1.00e+00\n",
      "19\t3.54e-01\t7.91e-01\t-2.76e-01\t1.99e-01\t5.05e+00\t1.25e-01\t1.00e+00\n",
      "20\t3.10e-01\t6.92e-01\t-2.81e-01\t1.74e-01\t5.08e+00\t1.25e-01\t1.00e+00\n",
      "21\t2.71e-01\t6.06e-01\t-2.75e-01\t1.52e-01\t5.12e+00\t1.25e-01\t1.00e+00\n",
      "22\t2.37e-01\t5.30e-01\t-2.64e-01\t1.33e-01\t5.16e+00\t1.25e-01\t1.00e+00\n",
      "23\t2.07e-01\t4.64e-01\t-2.48e-01\t1.17e-01\t5.19e+00\t1.25e-01\t1.00e+00\n",
      "24\t1.81e-01\t4.06e-01\t-2.31e-01\t1.02e-01\t5.22e+00\t1.25e-01\t1.00e+00\n",
      "25\t1.59e-01\t3.55e-01\t-2.12e-01\t8.93e-02\t5.25e+00\t1.25e-01\t1.00e+00\n",
      "26\t1.39e-01\t3.11e-01\t-1.93e-01\t7.82e-02\t5.28e+00\t1.25e-01\t1.00e+00\n",
      "27\t1.22e-01\t2.72e-01\t-1.75e-01\t6.84e-02\t5.30e+00\t1.25e-01\t1.00e+00\n",
      "28\t1.06e-01\t2.38e-01\t-1.58e-01\t5.99e-02\t5.33e+00\t1.25e-01\t1.00e+00\n",
      "29\t9.31e-02\t2.08e-01\t-1.42e-01\t5.24e-02\t5.35e+00\t1.25e-01\t1.00e+00\n",
      "------------------------------------------------------------\n",
      "------------------------------------------------------------\n",
      "------------------------------------------------------------\n",
      "Reached maximum of iterations, check primal feasibility\n",
      "Continuing with Newtons method for feasible initial point\n",
      "I\tNormgf \tNewton Decrement\tError x_ast\tError p_ast\tline search\tCondHf\n",
      "0\t4.17e+00\t2.12e-02\t5.24e-02\t5.35e+00\t---\t\t1.00e+00\n",
      "1\t4.17e+00\t1.67e-10\t1.96e-02\t5.34e+00\t1.00e+00\t1.00e+00\n",
      "Error of x with respect to x_ast: 1.96e-02\n",
      "Approximate solution: [-0.49999354 -0.50000646  1.95838369]\n"
     ]
    }
   ],
   "source": [
    "[x,total_of_iterations,\n",
    " Err_plot,x_plot] = Newtons_method_infeasible_init_point(fo, A, b,x_0, nu_0, tol, \n",
    "                                                         tol_backtracking, x_ast, p_ast)"
   ]
  },
  {
   "cell_type": "code",
   "execution_count": 64,
   "metadata": {},
   "outputs": [
    {
     "data": {
      "text/plain": [
       "0.019618115491299666"
      ]
     },
     "execution_count": 64,
     "metadata": {},
     "output_type": "execute_result"
    }
   ],
   "source": [
    "compute_error(x_ast,x)"
   ]
  },
  {
   "cell_type": "markdown",
   "metadata": {},
   "source": [
    "**Hay que aumentar el número de iteraciones...**"
   ]
  },
  {
   "cell_type": "markdown",
   "metadata": {},
   "source": [
    "**Versión del método de Newton para puntos iniciales no factibles (2o versión)**"
   ]
  },
  {
   "cell_type": "code",
   "execution_count": 65,
   "metadata": {},
   "outputs": [
    {
     "name": "stdout",
     "output_type": "stream",
     "text": [
      "I\t||res_primal||\t||res_dual|| \tNewton Decrement\tError x_ast\tError p_ast\tline search\tCondHf\n",
      "0\t4.47e+00\t1.00e+01\t4.90e+01\t2.52e+00\t2.60e+01\t---\t\t1.00e+00\n",
      "1\t3.91e+00\t8.75e+00\t3.66e+01\t2.20e+00\t2.03e+01\t1.25e-01\t1.00e+00\n",
      "2\t3.42e+00\t7.66e+00\t2.73e+01\t1.93e+00\t1.61e+01\t1.25e-01\t1.00e+00\n",
      "3\t3.00e+00\t6.70e+00\t2.02e+01\t1.69e+00\t1.29e+01\t1.25e-01\t1.00e+00\n",
      "4\t2.62e+00\t5.86e+00\t1.49e+01\t1.48e+00\t1.06e+01\t1.25e-01\t1.00e+00\n",
      "5\t2.29e+00\t5.13e+00\t1.09e+01\t1.29e+00\t8.90e+00\t1.25e-01\t1.00e+00\n",
      "6\t2.01e+00\t4.49e+00\t7.89e+00\t1.13e+00\t7.65e+00\t1.25e-01\t1.00e+00\n",
      "7\t1.76e+00\t3.93e+00\t5.65e+00\t9.88e-01\t6.75e+00\t1.25e-01\t1.00e+00\n",
      "8\t1.54e+00\t3.44e+00\t3.98e+00\t8.65e-01\t6.12e+00\t1.25e-01\t1.00e+00\n",
      "9\t1.34e+00\t3.01e+00\t2.75e+00\t7.57e-01\t5.67e+00\t1.25e-01\t1.00e+00\n",
      "10\t1.18e+00\t2.63e+00\t1.84e+00\t6.62e-01\t5.37e+00\t1.25e-01\t1.00e+00\n",
      "11\t1.03e+00\t2.30e+00\t1.18e+00\t5.79e-01\t5.17e+00\t1.25e-01\t1.00e+00\n",
      "12\t9.01e-01\t2.01e+00\t7.02e-01\t5.07e-01\t5.05e+00\t1.25e-01\t1.00e+00\n",
      "13\t7.88e-01\t1.76e+00\t3.61e-01\t4.44e-01\t4.98e+00\t1.25e-01\t1.00e+00\n",
      "14\t6.90e-01\t1.54e+00\t1.22e-01\t3.88e-01\t4.94e+00\t1.25e-01\t1.00e+00\n",
      "15\t6.03e-01\t1.35e+00\t-4.14e-02\t3.40e-01\t4.94e+00\t1.25e-01\t1.00e+00\n",
      "16\t5.28e-01\t1.18e+00\t-1.50e-01\t2.97e-01\t4.95e+00\t1.25e-01\t1.00e+00\n",
      "17\t4.62e-01\t1.03e+00\t-2.18e-01\t2.60e-01\t4.98e+00\t1.25e-01\t1.00e+00\n",
      "18\t4.04e-01\t9.04e-01\t-2.57e-01\t2.28e-01\t5.01e+00\t1.25e-01\t1.00e+00\n",
      "19\t3.54e-01\t7.91e-01\t-2.76e-01\t1.99e-01\t5.05e+00\t1.25e-01\t1.00e+00\n",
      "20\t3.10e-01\t6.92e-01\t-2.81e-01\t1.74e-01\t5.08e+00\t1.25e-01\t1.00e+00\n",
      "21\t2.71e-01\t6.06e-01\t-2.75e-01\t1.52e-01\t5.12e+00\t1.25e-01\t1.00e+00\n",
      "22\t2.37e-01\t5.30e-01\t-2.64e-01\t1.33e-01\t5.16e+00\t1.25e-01\t1.00e+00\n",
      "23\t2.07e-01\t4.64e-01\t-2.48e-01\t1.17e-01\t5.19e+00\t1.25e-01\t1.00e+00\n",
      "24\t1.81e-01\t4.06e-01\t-2.31e-01\t1.02e-01\t5.22e+00\t1.25e-01\t1.00e+00\n",
      "25\t1.59e-01\t3.55e-01\t-2.12e-01\t8.93e-02\t5.25e+00\t1.25e-01\t1.00e+00\n",
      "26\t1.39e-01\t3.11e-01\t-1.93e-01\t7.82e-02\t5.28e+00\t1.25e-01\t1.00e+00\n",
      "27\t1.22e-01\t2.72e-01\t-1.75e-01\t6.84e-02\t5.30e+00\t1.25e-01\t1.00e+00\n",
      "28\t1.06e-01\t2.38e-01\t-1.58e-01\t5.99e-02\t5.33e+00\t1.25e-01\t1.00e+00\n",
      "29\t9.31e-02\t2.08e-01\t-1.42e-01\t5.24e-02\t5.35e+00\t1.25e-01\t1.00e+00\n",
      "Error of x with respect to x_ast: 5.24e-02\n",
      "Approximate solution: [-0.42715589 -0.57284411  1.95838369]\n",
      "Reached maximum of iterations, check approximation\n"
     ]
    }
   ],
   "source": [
    "[x,total_of_iterations,\n",
    " Err_plot,x_plot] = Newtons_method_infeasible_init_point_2nd_version(fo, A, b,x_0, nu_0, tol, \n",
    "                                                                     tol_backtracking, x_ast, p_ast)"
   ]
  },
  {
   "cell_type": "code",
   "execution_count": 66,
   "metadata": {},
   "outputs": [
    {
     "data": {
      "text/plain": [
       "0.0523756665364094"
      ]
     },
     "execution_count": 66,
     "metadata": {},
     "output_type": "execute_result"
    }
   ],
   "source": [
    "compute_error(x_ast,x)"
   ]
  },
  {
   "cell_type": "markdown",
   "metadata": {},
   "source": [
    "**Hay que aumentar el número de iteraciones...**"
   ]
  },
  {
   "cell_type": "markdown",
   "metadata": {},
   "source": [
    "# Comparación del quinto ejemplo con [cvxpy](https://github.com/cvxgrp/cvxpy)"
   ]
  },
  {
   "cell_type": "code",
   "execution_count": 67,
   "metadata": {},
   "outputs": [],
   "source": [
    "import cvxpy as cp"
   ]
  },
  {
   "cell_type": "code",
   "execution_count": 68,
   "metadata": {},
   "outputs": [],
   "source": [
    "x = cp.Variable(3)\n",
    "A = np.array([[1, 1, 1],\n",
    "              [1, 1, 2]])\n",
    "b = np.array([1,3])"
   ]
  },
  {
   "cell_type": "code",
   "execution_count": 69,
   "metadata": {},
   "outputs": [],
   "source": [
    "obj = cp.Minimize(cp.norm(x,2))\n",
    "\n",
    "constraints = [A@x == b]"
   ]
  },
  {
   "cell_type": "code",
   "execution_count": 70,
   "metadata": {},
   "outputs": [],
   "source": [
    "prob = cp.Problem(obj, constraints)"
   ]
  },
  {
   "cell_type": "code",
   "execution_count": 71,
   "metadata": {},
   "outputs": [
    {
     "data": {
      "text/plain": [
       "2.1213203277662585"
      ]
     },
     "execution_count": 71,
     "metadata": {},
     "output_type": "execute_result"
    }
   ],
   "source": [
    "prob.solve()"
   ]
  },
  {
   "cell_type": "code",
   "execution_count": 72,
   "metadata": {},
   "outputs": [
    {
     "name": "stdout",
     "output_type": "stream",
     "text": [
      "optimal value 2.1213203277662585\n"
     ]
    }
   ],
   "source": [
    "print(\"optimal value\", prob.value)\n"
   ]
  },
  {
   "cell_type": "code",
   "execution_count": 73,
   "metadata": {},
   "outputs": [
    {
     "name": "stdout",
     "output_type": "stream",
     "text": [
      "optimal var [-0.5 -0.5  2. ]\n"
     ]
    }
   ],
   "source": [
    "print(\"optimal var\", x.value)"
   ]
  },
  {
   "cell_type": "code",
   "execution_count": 74,
   "metadata": {},
   "outputs": [
    {
     "data": {
      "text/plain": [
       "array([1., 3.])"
      ]
     },
     "execution_count": 74,
     "metadata": {},
     "output_type": "execute_result"
    }
   ],
   "source": [
    "A@x.value"
   ]
  },
  {
   "cell_type": "code",
   "execution_count": 75,
   "metadata": {},
   "outputs": [
    {
     "data": {
      "text/plain": [
       "2.121320343558957"
      ]
     },
     "execution_count": 75,
     "metadata": {},
     "output_type": "execute_result"
    }
   ],
   "source": [
    "np.linalg.norm(x.value)"
   ]
  },
  {
   "cell_type": "markdown",
   "metadata": {},
   "source": [
    "## Otros puntos iniciales"
   ]
  },
  {
   "cell_type": "code",
   "execution_count": 76,
   "metadata": {},
   "outputs": [
    {
     "data": {
      "text/plain": [
       "array([1, 3])"
      ]
     },
     "execution_count": 76,
     "metadata": {},
     "output_type": "execute_result"
    }
   ],
   "source": [
    "vec = [1,-2,2]\n",
    "A@vec"
   ]
  },
  {
   "cell_type": "code",
   "execution_count": 77,
   "metadata": {},
   "outputs": [
    {
     "data": {
      "text/plain": [
       "3.0"
      ]
     },
     "execution_count": 77,
     "metadata": {},
     "output_type": "execute_result"
    }
   ],
   "source": [
    "np.linalg.norm(vec)"
   ]
  },
  {
   "cell_type": "code",
   "execution_count": 78,
   "metadata": {},
   "outputs": [
    {
     "data": {
      "text/plain": [
       "array([1, 3])"
      ]
     },
     "execution_count": 78,
     "metadata": {},
     "output_type": "execute_result"
    }
   ],
   "source": [
    "vec = [2,-3,2]\n",
    "A@vec"
   ]
  },
  {
   "cell_type": "code",
   "execution_count": 79,
   "metadata": {},
   "outputs": [
    {
     "data": {
      "text/plain": [
       "4.123105625617661"
      ]
     },
     "execution_count": 79,
     "metadata": {},
     "output_type": "execute_result"
    }
   ],
   "source": [
    "np.linalg.norm(vec)"
   ]
  },
  {
   "cell_type": "code",
   "execution_count": 80,
   "metadata": {},
   "outputs": [
    {
     "data": {
      "text/plain": [
       "array([1, 3])"
      ]
     },
     "execution_count": 80,
     "metadata": {},
     "output_type": "execute_result"
    }
   ],
   "source": [
    "vec = [3,-4,2]\n",
    "A@vec"
   ]
  },
  {
   "cell_type": "code",
   "execution_count": 81,
   "metadata": {},
   "outputs": [
    {
     "data": {
      "text/plain": [
       "5.385164807134504"
      ]
     },
     "execution_count": 81,
     "metadata": {},
     "output_type": "execute_result"
    }
   ],
   "source": [
    "np.linalg.norm(vec)"
   ]
  },
  {
   "cell_type": "markdown",
   "metadata": {},
   "source": [
    "**Referencias:**\n",
    "\n",
    "* S. P. Boyd, L. Vandenberghe, Convex Optimization, Cambridge University Press, 2009."
   ]
  }
 ],
 "metadata": {
  "kernelspec": {
   "display_name": "Python 3",
   "language": "python",
   "name": "python3"
  },
  "language_info": {
   "codemirror_mode": {
    "name": "ipython",
    "version": 3
   },
   "file_extension": ".py",
   "mimetype": "text/x-python",
   "name": "python",
   "nbconvert_exporter": "python",
   "pygments_lexer": "ipython3",
   "version": "3.6.9"
  }
 },
 "nbformat": 4,
 "nbformat_minor": 4
}
