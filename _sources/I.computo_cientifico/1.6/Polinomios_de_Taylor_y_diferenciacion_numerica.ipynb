{
 "cells": [
  {
   "cell_type": "markdown",
   "metadata": {},
   "source": [
    "```{admonition} Notas para contenedor de docker:\n",
    "\n",
    "Comando de docker para ejecución de la nota de forma local:\n",
    "\n",
    "nota: cambiar `<ruta a mi directorio>` por la ruta de directorio que se desea mapear a `/datos` dentro del contenedor de docker.\n",
    "\n",
    "`docker run --rm -v <ruta a mi directorio>:/datos --name jupyterlab_optimizacion -p 8888:8888 -d palmoreck/jupyterlab_optimizacion:2.1.4`\n",
    "\n",
    "password para jupyterlab: `qwerty`\n",
    "\n",
    "Detener el contenedor de docker:\n",
    "\n",
    "`docker stop jupyterlab_optimizacion`\n",
    "\n",
    "Documentación de la imagen de docker `palmoreck/jupyterlab_optimizacion:2.1.4` en [liga](https://github.com/palmoreck/dockerfiles/tree/master/jupyterlab/optimizacion).\n",
    "\n",
    "```"
   ]
  },
  {
   "cell_type": "markdown",
   "metadata": {},
   "source": [
    "---"
   ]
  },
  {
   "cell_type": "markdown",
   "metadata": {},
   "source": [
    "Nota generada a partir de la [liga1](https://www.dropbox.com/s/jfrxanjls8kndjp/Diferenciacion_e_Integracion.pdf?dl=0), [liga2](https://www.dropbox.com/s/mmd1uzvwhdwsyiu/4.3.2.Teoria_de_convexidad_Funciones_convexas.pdf?dl=0) e inicio de [liga3](https://www.dropbox.com/s/ko86cce1olbtsbk/4.3.1.Teoria_de_convexidad_Conjuntos_convexos.pdf?dl=0)."
   ]
  },
  {
   "cell_type": "markdown",
   "metadata": {},
   "source": [
    "# 1.6 Polinomios de Taylor y diferenciación numérica"
   ]
  },
  {
   "cell_type": "markdown",
   "metadata": {},
   "source": [
    "## Problema: ¿Cómo aproximar una función $f$ en un punto $x_1$?"
   ]
  },
  {
   "cell_type": "markdown",
   "metadata": {},
   "source": [
    "Si $f$ es continuamente diferenciable en $x_0$ y $f^{(1)}, f^{(2)}$ existen y están acotadas en $x_0$ entonces:\n",
    "\n",
    "$$f(x_1) \\approx f(x_0) + f^{(1)}(x_0)(x_1-x_0)$$"
   ]
  },
  {
   "cell_type": "markdown",
   "metadata": {},
   "source": [
    "y se llama **aproximación de orden 1**. Ver [Definicion de funcion derivada de una funcion](https://github.com/ITAM-DS/analisis-numerico-computo-cientifico/blob/master/libro_optimizacion/temas/I.computo_cientifico/1.5/Definicion_de_funcion_derivada_de_una_funcion.ipynb) para definición de continuidad, diferenciabilidad y propiedades\n",
    "\n",
    "**Obs:** obsérvese que lo anterior requiere de los valores: $x_0, x_1, f(x_0), f^{(1)}(x_0)$. Esta aproximación tiene un error de **orden** $2$ pues su error es **proporcional** al cuadrado del ancho del intervalo: $h=x_1-x_0$, esto es, si reducimos a la mitad $h$ entonces el error se reduce en una cuarta parte.\n",
    "\n",
    "Otra aproximación más simple sería:\n",
    "\n",
    "$$f(x_1) \\approx f(x_0)$$\n",
    "\n",
    "lo cual sólo requiere del conocimiento de $f(x_0)$ y se llama aproximación de **orden** $0$, sin embargo esta aproximación tiene un error de **orden** $1$ pues este es proporcional a $h$ , esto es, al reducir a la mitad $h$ se reduce a la mitad el error."
   ]
  },
  {
   "cell_type": "markdown",
   "metadata": {},
   "source": [
    "Estos errores los llamamos errores por **truncamiento**. Utilizamos la notación \"O grande\" $\\mathcal{O}(\\cdot)$ para escribir lo anterior:\n",
    "\n",
    "$$f(x)-f(x_0)=\\mathcal{O}(h)$$\n",
    "\n",
    "con la variable $h=x-x_0$. Análogamente:"
   ]
  },
  {
   "cell_type": "markdown",
   "metadata": {},
   "source": [
    "$$f(x)-(f(x_0)+f^{(1)}(x_0)(x-x_0)) = \\mathcal{O}(h^2).$$"
   ]
  },
  {
   "cell_type": "markdown",
   "metadata": {},
   "source": [
    "**Obs:** no confundir órdenes de  una aproximación con órdenes de error."
   ]
  },
  {
   "cell_type": "markdown",
   "metadata": {},
   "source": [
    "Otras aproximaciones a una función se pueden realizar con:\n",
    "\n",
    "* Interpoladores polinomiales (representación por Vandermonde, Newton, Lagrange)."
   ]
  },
  {
   "cell_type": "markdown",
   "metadata": {},
   "source": [
    "## Aproximación a una función por el teorema de Taylor"
   ]
  },
  {
   "cell_type": "markdown",
   "metadata": {},
   "source": [
    "En esta sección se presenta el teorema de Taylor, el cual, bajo ciertas hipótesis nos proporciona una expansión de una función alrededor de un punto. Este teorema será utilizado en **diferenciación e integración numérica**. El teorema es el siguiente:"
   ]
  },
  {
   "cell_type": "markdown",
   "metadata": {},
   "source": [
    "Sea $f: \\mathbb{R} \\rightarrow \\mathbb{R}$, $f \\in \\mathcal{C}^n([a,b])$ tal que $f^{(n+1)}$ existe en [a,b]. Si $x_0 \\in [a,b]$ entonces $\\forall x \\in [a,b]$ se tiene: $f(x) = P_n(x) + R_n(x)$ donde: \n",
    "\n",
    "$$P_n(x) = \\displaystyle \\sum_{k=0}^n \\frac{f^{(k)}(x_0)(x-x_0)^k}{k!} \\quad (f^{(0)} = f)$$ y $$R_n(x) = \\frac{f^{(n+1)}(\\xi_x)(x-x_0)^{(n+1)}}{(n+1)!}$$ con $\\xi_x$ entre $x_0, x$ y $x_0$ se llama centro. Ver [Definicion de funcion derivada de una funcion](https://github.com/ITAM-DS/analisis-numerico-computo-cientifico/blob/master/libro_optimizacion/temas/I.computo_cientifico/1.5/Definicion_de_funcion_derivada_de_una_funcion.ipynb) para definición del conjunto $\\mathcal{C}^n([a,b])$."
   ]
  },
  {
   "cell_type": "markdown",
   "metadata": {},
   "source": [
    "**Comentarios:**\n",
    "\n",
    "* El teorema de Taylor nos dice que cualquier función suave (función en $\\mathcal{C}^n)$ se le puede aproximar por un polinomio en el intervalo $[a,b]$, de hecho $f(x) \\approx P_n(x)$.\n",
    "\n",
    "* El teorema de Taylor es una generalización del [teorema del valor medio para derivadas](https://en.wikipedia.org/wiki/Mean_value_theorem)\n",
    "\n",
    "* $P_n(x)$ se le llama polinomio de Taylor alrededor de $x_0$ de orden $n$ y $R_n(x)$ es llamado residuo de Taylor alrededor de $x_0$ de orden $n+1$, tiene otras expresiones para representarlo y la que se utiliza en el enunciado anterior es en su forma de Lagrange (ver [liga](https://en.wikipedia.org/wiki/Taylor%27s_theorem) para otras expresiones del residuo).\n",
    "\n",
    "* $\\xi_x$ es un punto entre $x_0, x$ desconocido y está en función de $x$ (por eso se le escribe un subíndice).\n",
    "\n",
    "* Una forma del teorema de Taylor es escribirlo definiendo a la variable $h=x-x_0$:\n",
    "\n",
    "$$f(x) = f(x_0+h) = P_n(h) + R_n(h) = \\displaystyle \\sum_{k=0}^n \\frac{f^{(k)}(x_0)h^k}{k!} + \\frac{f^{(n+1)}(\\xi_h)h^{n+1}}{(n+1)!}$$\n",
    "\n",
    "y si $f^{(n+1)}$ es acotada, escribimos: $R_n(h) = \\mathcal{O}(h^{n+1})$.\n"
   ]
  },
  {
   "cell_type": "markdown",
   "metadata": {},
   "source": [
    "**Ejemplo: graficar la función y los polinomios de Taylor constante, lineal y cuadrático en una sola gráfica con `ggplot2` en el intervalo [1,2] para la función $\\frac{1}{x}$ con centro en $x_0=1.5$. ¿Cuánto es la aproximación de los polinomios en x=1.9? (para esta pregunta calcula el error relativo de tus aproximaciones).**"
   ]
  },
  {
   "cell_type": "markdown",
   "metadata": {},
   "source": [
    "Obtengamos los polinomios de Taylor de orden $n$ con $n \\in \\{0,1,2\\}$ y centro en $x_0=1.5$ para la función $\\frac{1}{x}$ en el intervalo $[1,2]$. Los polinomios de Taylor son: "
   ]
  },
  {
   "cell_type": "markdown",
   "metadata": {},
   "source": [
    "$$P_0(x) = f(x_0) = \\frac{2}{3} \\quad \\text{(constante)}$$"
   ]
  },
  {
   "cell_type": "markdown",
   "metadata": {},
   "source": [
    "$$P_1(x) = f(x_0) + f^{(1)}(x_0)(x-x_0) = \\frac{2}{3} - \\frac{1}{x_0^2}(x-x_0) \\quad \\text{(lineal)}$$"
   ]
  },
  {
   "cell_type": "markdown",
   "metadata": {},
   "source": [
    "$$P_2(x) = f(x_0) + f^{(1)}(x_0)(x-x_0) + \\frac{f^{(2)}(x_0)(x-x_0)^2}{2} = \\frac{2}{3} - \\frac{1}{x_0^2}(x-x_0) + \\frac{2}{x_0^3}(x-x_0)^2 \\quad \\text{(cuadrático)}$$"
   ]
  },
  {
   "cell_type": "code",
   "execution_count": 1,
   "metadata": {},
   "outputs": [],
   "source": [
    "library(ggplot2)"
   ]
  },
  {
   "cell_type": "code",
   "execution_count": 2,
   "metadata": {},
   "outputs": [],
   "source": [
    "options(repr.plot.width=6, repr.plot.height=6) #esta línea sólo se ejecuta para jupyterlab con R"
   ]
  },
  {
   "cell_type": "code",
   "execution_count": 3,
   "metadata": {},
   "outputs": [],
   "source": [
    "Aprox_Taylor <- function(x,centro,n){\n",
    "    length_x = length(x)\n",
    "    evaluacion = rep(0,length_x)\n",
    "    for(j in 1:length_x){\n",
    "        constante = centro^(-1)\n",
    "        evaluacion[j] = constante\n",
    "        for(k in 1:n)\n",
    "            constante = -1*centro^(-1)*(x[j]-centro)*constante\n",
    "            evaluacion[j] = evaluacion[j]+(k+1)*constante\n",
    "    }\n",
    "    evaluacion\n",
    "}"
   ]
  },
  {
   "cell_type": "code",
   "execution_count": 4,
   "metadata": {},
   "outputs": [],
   "source": [
    "x0<-1.5\n",
    "x<- seq(from=1,to=2,by=.005)\n",
    "n<-c(0,1,2)\n",
    "f<-function(z)1/z\n",
    "y<-f(x)\n",
    "y_Taylor_0<-1/x0*rep(1,length(x))\n",
    "y_Taylor_1<-Aprox_Taylor(x,x0,1)\n",
    "y_Taylor_2<-Aprox_Taylor(x,x0,2)"
   ]
  },
  {
   "cell_type": "code",
   "execution_count": 5,
   "metadata": {},
   "outputs": [],
   "source": [
    "gg <- ggplot()"
   ]
  },
  {
   "cell_type": "code",
   "execution_count": 6,
   "metadata": {},
   "outputs": [
    {
     "data": {
      "image/png": "[encoded data removed]",
      "text/plain": [
       "plot without title"
      ]
     },
     "metadata": {
      "image/png": {
       "height": 360,
       "width": 360
      }
     },
     "output_type": "display_data"
    }
   ],
   "source": [
    "gg+\n",
    "geom_line(aes(x=x,y=y,color='f(x)')) + \n",
    "geom_line(aes(x=x,y=y_Taylor_0,color='constante'))+\n",
    "geom_line(aes(x=x,y=y_Taylor_1,color='lineal')) + \n",
    "geom_line(aes(x=x,y=y_Taylor_2,color='cuadratico')) + \n",
    "geom_point(aes(x=x0, y=f(x0)), color='blue',size=3)"
   ]
  },
  {
   "cell_type": "code",
   "execution_count": 7,
   "metadata": {},
   "outputs": [],
   "source": [
    "err_relativo<-function(aprox,obj){\n",
    "    abs(aprox-obj)/abs(obj)\n",
    "}"
   ]
  },
  {
   "cell_type": "code",
   "execution_count": 8,
   "metadata": {},
   "outputs": [
    {
     "name": "stdout",
     "output_type": "stream",
     "text": [
      "[1] \"error relativo polinomio constante\"\n"
     ]
    },
    {
     "data": {
      "text/html": [
       "0.266666666666667"
      ],
      "text/latex": [
       "0.266666666666667"
      ],
      "text/markdown": [
       "0.266666666666667"
      ],
      "text/plain": [
       "[1] 0.2666667"
      ]
     },
     "metadata": {},
     "output_type": "display_data"
    },
    {
     "name": "stdout",
     "output_type": "stream",
     "text": [
      "[1] \"error relativo polinomio lineal\"\n"
     ]
    },
    {
     "data": {
      "text/html": [
       "0.408888888888889"
      ],
      "text/latex": [
       "0.408888888888889"
      ],
      "text/markdown": [
       "0.408888888888889"
      ],
      "text/plain": [
       "[1] 0.4088889"
      ]
     },
     "metadata": {},
     "output_type": "display_data"
    },
    {
     "name": "stdout",
     "output_type": "stream",
     "text": [
      "[1] \"error relativo polinomio cuadrático\"\n"
     ]
    },
    {
     "data": {
      "text/html": [
       "0.536888888888889"
      ],
      "text/latex": [
       "0.536888888888889"
      ],
      "text/markdown": [
       "0.536888888888889"
      ],
      "text/plain": [
       "[1] 0.5368889"
      ]
     },
     "metadata": {},
     "output_type": "display_data"
    }
   ],
   "source": [
    "x_obj=1.9\n",
    "f_x_obj=f(x_obj)\n",
    "print('error relativo polinomio constante')\n",
    "err_relativo(1/x0,f_x_obj)\n",
    "print('error relativo polinomio lineal')\n",
    "err_relativo(Aprox_Taylor(x_obj,x0,1),f_x_obj)\n",
    "print('error relativo polinomio cuadrático')\n",
    "err_relativo(Aprox_Taylor(x_obj,x0,2),f_x_obj)"
   ]
  },
  {
   "cell_type": "markdown",
   "metadata": {},
   "source": [
    "**Pregunta:** ¿por qué se tiene mejor aproximación con un polinomio constante o lineal que con un polinomio cuadrático? ¿no deberíamos tener menor error al añadir más y más términos en el polinomio de Taylor? ¿de qué depende tener una buena aproximación al utilizar polinomios de Taylor para una función $f$ en general?."
   ]
  },
  {
   "cell_type": "markdown",
   "metadata": {},
   "source": [
    "**Ejercicio:** Aproximar $f(1)$ con polinomios de Taylor de orden $0,1,2,3,4$ si $f(x)=-0.1x^4-0.15x^3-0.5x^2-0.25x+1.2$ con centro en $x0=0$. Calcula errores relativos de tus aproximaciones. Realiza las gráficas de cada polinomio en el intervalo $[0,1]$ con `ggplot2`. Observa que $R_5(x)$ es cero."
   ]
  },
  {
   "cell_type": "markdown",
   "metadata": {},
   "source": [
    "### Teorema de Taylor para una función $f: \\mathbb{R}^n \\rightarrow \\mathbb{R}$"
   ]
  },
  {
   "cell_type": "markdown",
   "metadata": {},
   "source": [
    "Sea $f: \\mathbb{R}^n \\rightarrow \\mathbb{R}$ diferenciable en $\\text{dom}f$. Si $x_0, x \\in \\text{dom}f$ y $x_0+t(x-x_0) \\in \\text{dom}f, \\forall t \\in (0,1),$  entonces $\\forall x \\in \\text{dom}f$ se tiene $f(x) = P_0(x) + R_0(x)$ donde:\n",
    "\n",
    "$$P_0(x) = f(x_0)$$"
   ]
  },
  {
   "cell_type": "markdown",
   "metadata": {},
   "source": [
    "$$R_0(x) = \\nabla f(x_0+t_x(x-x_0))^T(x-x_0)$$"
   ]
  },
  {
   "cell_type": "markdown",
   "metadata": {},
   "source": [
    "para alguna $t_x \\in (0,1)$ y $\\nabla f(\\cdot)$ gradiente de $f$ (ver al final de esta nota la definición de gradiente). Esta se llama **aproximación de orden $0$** para $f$ con centro en $x_0$. Si $\\nabla f(\\cdot)$ es acotado en $\\text{dom}f$ entonces se escribe: $R_0(x)=\\mathcal{O}(||x-x_0||)$."
   ]
  },
  {
   "cell_type": "markdown",
   "metadata": {},
   "source": [
    "Si además $f$ es continuamente diferenciable en $\\text{dom}f$(su derivada es continua, ver al final de esta nota definición de continuidad), $f^{(2)}$ existe en $\\text{dom}f$, se tiene $f(x) = P_1(x) + R_1(x)$ donde:\n",
    "\n",
    "$$P_1(x) = f(x_0) + \\nabla f(x_0)^T(x-x_0)$$"
   ]
  },
  {
   "cell_type": "markdown",
   "metadata": {},
   "source": [
    "$$R_1(x) = \\frac{1}{2}(x-x_0)^T \\nabla ^2f(x_0+t_x(x-x_0))(x-x_0)$$"
   ]
  },
  {
   "cell_type": "markdown",
   "metadata": {},
   "source": [
    "para alguna $t_x \\in (0,1)$ y $\\nabla^2 f(\\cdot)$ Hessiana de $f$ (ver al final de esta nota definición de la matriz Hessiana). Esta se llama **aproximación de orden $1$** para $f$ con centro en $x_0$. Si $\\nabla^2f(\\cdot)$ es acotada en $\\text{dom}f$ entonces se escribe: $R_1(x) = \\mathcal{O}(||x-x_0||^2)$."
   ]
  },
  {
   "cell_type": "markdown",
   "metadata": {},
   "source": [
    "Si $f^{(2)}$ es continuamente diferenciable y $f^{(3)}$ existe y es acotada en $\\text{dom}f$, se tiene $f(x)=P_2(x) + R_2(x)$ donde:\n",
    "\n",
    "$$P_2(x) = f(x_0) + \\nabla f(x_0)^T(x-x_0) + \\frac{1}{2}(x-x_0)^T \\nabla ^2f(x_0)(x-x_0)$$"
   ]
  },
  {
   "cell_type": "markdown",
   "metadata": {},
   "source": [
    "$$R_2(x)= \\mathcal{O}(||x-x_0||^3).$$"
   ]
  },
  {
   "cell_type": "markdown",
   "metadata": {},
   "source": [
    "Esta se llama **aproximación de orden $2$** para $f$ con centro en $x_0$. \n",
    "\n",
    "**Obs:** en este caso $f^{(3)}$ es un tensor."
   ]
  },
  {
   "cell_type": "markdown",
   "metadata": {},
   "source": [
    "**Comentarios:**\n",
    "\n",
    "* Tomando $h=x-x_0$, se reescribe el teorema como sigue, por ejemplo para la aproximación de orden $1$ incluyendo su residuo:\n",
    "\n",
    "$$f(x) = f(x_0 + h) = \\underbrace{f(x_0) + \\nabla f(x_0)^Th}_{\\textstyle P_1(h)} + \\underbrace{\\frac{1}{2}h^T \\nabla ^2f(x_0+t_xh)h}_{\\textstyle R_1(h)}.$$\n",
    "\n",
    "Si $f^{(2)}$ es acotada en $\\text{dom}f$, escribimos: $R_1(h)=\\mathcal{O}(||h||^2)$."
   ]
  },
  {
   "cell_type": "markdown",
   "metadata": {},
   "source": [
    "## Diferenciación numérica por diferencias finitas"
   ]
  },
  {
   "cell_type": "markdown",
   "metadata": {},
   "source": [
    "Las fórmulas de aproximación a las derivadas por diferencias finitas pueden obtenerse con los polinomios de Taylor, presentes en el teorema del mismo autor, por ejemplo:"
   ]
  },
  {
   "cell_type": "markdown",
   "metadata": {},
   "source": [
    "Sea $f \\in \\mathcal{C}^1([a,b])$ y $f^{(2)}$ existe y está acotada $\\forall x \\in [a,b]$ entonces, si $x+h \\in [a,b]$ con $h>0$ por el teorema de Taylor:\n",
    "\n",
    "$$f(x+h) = f(x) + f^{(1)}(x)h + f^{(2)}(\\xi_{x+h})\\frac{h^2}{2}$$ con $\\xi_{x+h} \\in [x,x+h]$ y al despejar $f^{(1)}(x)$ se tiene: "
   ]
  },
  {
   "cell_type": "markdown",
   "metadata": {},
   "source": [
    "$$f^{(1)}(x) = \\frac{f(x+h)-f(x)}{h} - f^{(2)}(\\xi_{x+h})\\frac{h}{2}.$$"
   ]
  },
  {
   "cell_type": "markdown",
   "metadata": {},
   "source": [
    "y escribimos:\n",
    "\n",
    "$$f^{(1)}(x) = \\frac{f(x+h)-f(x)}{h} + \\mathcal{O}(h).$$\n",
    "\n",
    "La aproximación $\\frac{f(x+h)-f(x)}{h}$ es una fórmula por diferencias hacia delante con error de orden $1$. Gráficamente se tiene:\n"
   ]
  },
  {
   "cell_type": "markdown",
   "metadata": {},
   "source": [
    "<img src=\"https://dl.dropboxusercontent.com/s/r1ypkxkwa9g3pmk/dif_hacia_delante.png?dl=0\" heigth=\"500\" width=\"500\">"
   ]
  },
  {
   "cell_type": "markdown",
   "metadata": {},
   "source": [
    "Con las mismas suposiciones es posible obtener la fórmula para la aproximación por diferencias hacia atrás:\n",
    "\n",
    "$$f^{(1)}(x) = \\frac{f(x)-f(x-h)}{h} + \\mathcal{O}(h), h >0.$$\n"
   ]
  },
  {
   "cell_type": "markdown",
   "metadata": {},
   "source": [
    "<img src=\"https://dl.dropboxusercontent.com/s/mxmc8kohurlu9sp/dif_hacia_atras.png?dl=0\" heigth=\"500\" width=\"500\">"
   ]
  },
  {
   "cell_type": "markdown",
   "metadata": {},
   "source": [
    "Considerando $f \\in \\mathcal{C}^2([a,b]), f^{(3)}$ existe y está acotada $\\forall x \\in [a,b]$ si $x-h, x+h \\in [a,b]$ y $h>0$ entonces:\n",
    "\n",
    "$$f^{(1)}(x) = \\frac{f(x+h)-f(x-h)}{2h} + \\mathcal{O}(h^2), h >0.$$\n",
    "\n",
    "y el cociente $\\frac{f(x+h)-f(x-h)}{2h}$ es la aproximación por diferencias centradas con error de orden $2$. Gráficamente:\n"
   ]
  },
  {
   "cell_type": "markdown",
   "metadata": {},
   "source": [
    "<img src=\"https://dl.dropboxusercontent.com/s/jwi0y1t5z58pydz/dif_centradas.png?dl=0\" heigth=\"500\" width=\"500\">"
   ]
  },
  {
   "cell_type": "markdown",
   "metadata": {},
   "source": [
    "**Obs:** la aproximación por diferencias finitas a la primer derivada de la función tiene un error de orden $\\mathcal{O}(h)$ por lo que una elección de $h$ igual a $.1 = 10^{-1}$ generará aproximaciones con alrededor de un dígito correcto."
   ]
  },
  {
   "cell_type": "markdown",
   "metadata": {},
   "source": [
    "**Obs:** la diferenciación numérica por diferencias finitas no es un proceso con una alta exactitud pues los problemas del redondeo de la aritmética en la máquina se hacen presentes en el mismo (ver nota [Sistema de punto flotante](https://github.com/ITAM-DS/analisis-numerico-computo-cientifico/blob/master/libro_optimizacion/temas/I.computo_cientifico/1.2/Sistema_de_punto_flotante.ipynb)). Como ejemplo de esta situación realicemos el siguiente ejemplo."
   ]
  },
  {
   "cell_type": "markdown",
   "metadata": {},
   "source": [
    "**Ejemplo: realizar una gráfica de log(error relativo) vs log(h) (h en el eje horizontal) con `ggplot2` para aproximar la primera derivada de $f(x)=e^{-x}$ en $x=1$ con $h \\in \\{10^{-16}, 10^{-14}, \\dots , 10^{-1}\\}$ y diferencias hacia delante. Valor a aproximar: $f^{(1)}(1) = -e^{-1}$**"
   ]
  },
  {
   "cell_type": "code",
   "execution_count": 9,
   "metadata": {},
   "outputs": [],
   "source": [
    "f<-function(x){\n",
    "    exp(-x)\n",
    "}\n",
    "aprox_1a_derivada<-function(f,x,h){\n",
    "    (f(x+h)-f(x))/h\n",
    "}\n",
    "\n",
    "df<-function(x){\n",
    "    -exp(-x)\n",
    "}\n",
    "\n",
    "err_absoluto<-function(aprox,obj){\n",
    "    abs(aprox-obj)\n",
    "}\n",
    "\n",
    "err_relativo<-function(aprox,obj){\n",
    "    abs(aprox-obj)/abs(obj)\n",
    "}\n",
    "\n",
    "x<-1\n",
    "\n",
    "h<-10^(-1*(1:16))\n",
    "\n",
    "err_absoluto_res<-err_absoluto(aprox_1a_derivada(f,x,h),df(x))\n",
    "err_relativo_res<-err_relativo(aprox_1a_derivada(f,x,h),df(x))\n",
    "\n",
    "\n",
    "gf<-ggplot()"
   ]
  },
  {
   "cell_type": "code",
   "execution_count": 10,
   "metadata": {},
   "outputs": [
    {
     "data": {
      "image/png": "[encoded data removed]",
      "text/plain": [
       "plot without title"
      ]
     },
     "metadata": {
      "image/png": {
       "height": 360,
       "width": 360
      }
     },
     "output_type": "display_data"
    }
   ],
   "source": [
    "gf+\n",
    "geom_line(aes(x=log(h),y=log(err_absoluto_res)))+\n",
    "ggtitle('Aproximación a la primera derivada por diferencias finitas')"
   ]
  },
  {
   "cell_type": "code",
   "execution_count": 11,
   "metadata": {},
   "outputs": [
    {
     "data": {
      "image/png": "[encoded data removed]",
      "text/plain": [
       "plot without title"
      ]
     },
     "metadata": {
      "image/png": {
       "height": 360,
       "width": 360
      }
     },
     "output_type": "display_data"
    }
   ],
   "source": [
    "gf+\n",
    "geom_line(aes(x=log(h),y=log(err_relativo_res)))+\n",
    "ggtitle('Aproximación a la primera derivada por diferencias finitas')"
   ]
  },
  {
   "cell_type": "markdown",
   "metadata": {},
   "source": [
    "**Ejercicio: realizar una gráfica de log(error relativo) vs log(h) (h en el eje horizontal) con `ggplot2` para aproximar la segunda derivada de $f(x)=e^{-x}$ en $x=1$ con $h \\in \\{10^{-16}, 10^{-14}, \\dots , 10^{-1}\\}$ y diferencias hacia delante. Valor a aproximar: $f^{(2)}(1) = e^{-1}$**. Usar:"
   ]
  },
  {
   "cell_type": "markdown",
   "metadata": {},
   "source": [
    "$$\\frac{d^2f(x)}{dx} = \\frac{f(x+2h)-2f(x+h)+f(x)}{h^2} + \\mathcal{O}(h)$$\n",
    "\n",
    "**Encontrar valor(es) de $h$ que minimiza(n) al error absoluto y relativo.**\n",
    "\n",
    "La aproximación anterior es una aproximación a la segunda derivada por diferencias hacia delante. Las versiones hacia atrás y centradas en general para una función $f: \\mathbb{R} \\rightarrow \\mathbb{R}$ son respectivamente:"
   ]
  },
  {
   "cell_type": "markdown",
   "metadata": {},
   "source": [
    "$$\\frac{d^2f(x)}{dx} \\approx \\frac{f(x)-2f(x-h)+f(x-2h)}{h^2} + \\mathcal{O}(h)$$"
   ]
  },
  {
   "cell_type": "markdown",
   "metadata": {},
   "source": [
    "$$\\frac{d^2f(x)}{dx} \\approx \\frac{f(x+h)-2f(x)+f(x-h)}{h^2} + \\mathcal{O}(h^2)$$"
   ]
  },
  {
   "cell_type": "markdown",
   "metadata": {},
   "source": [
    "### Análisis del error por redondeo y truncamiento en aproximación por diferencias finitas hacia delante"
   ]
  },
  {
   "cell_type": "markdown",
   "metadata": {},
   "source": [
    "El ejemplo anterior muestra (vía una gráfica) que el método numérico de diferenciación numérica no es estable numéricamente respecto al redondeo (ver nota [Condicion de un problema y estabilidad de un algoritmo](https://github.com/ITAM-DS/analisis-numerico-computo-cientifico/blob/master/libro_optimizacion/temas/I.computo_cientifico/1.4/Condicion_de_un_problema_y_estabilidad_de_un_algoritmo.ipynb) para definición de estabilidad de un algoritmo) y también se puede corroborar realizando un análisis del error. En esta sección consideramos la aproximación a la primer derivada por diferencias finitas hacia delante:\n",
    "\n",
    "$$\\frac{f(x+h)-f(x)}{h}$$"
   ]
  },
  {
   "cell_type": "markdown",
   "metadata": {},
   "source": [
    "Suponemos que $\\hat{f}(x)$ aproxima a $f(x)$ y por errores de redondeo $\\hat{f}(x) = f(x)(1 + \\epsilon_{f(x)})$ con $|\\epsilon_{f(x)}| \\leq \\epsilon_{maq}$ error de redondeo al evaluar $f$ en $x$. $\\hat{f}(x)$ es la aproximación en un SPFN (ver nota [Sistema de punto flotante](https://github.com/ITAM-DS/analisis-numerico-computo-cientifico/blob/master/libro_optimizacion/temas/I.computo_cientifico/1.2/Sistema_de_punto_flotante.ipynb)). Además supóngase que $x,x+h,h \\in \\mathcal{Fl}$ . Entonces en la aproximación a la primer derivada por diferencias  hacia delante:"
   ]
  },
  {
   "cell_type": "markdown",
   "metadata": {},
   "source": [
    "$f^{(1)}(x) = \\frac{f(x+h)-f(x)}{h} + \\mathcal{O}(h)$ y calculando el error absoluto:\n"
   ]
  },
  {
   "cell_type": "markdown",
   "metadata": {},
   "source": [
    "$$\n",
    "\\begin{eqnarray}\n",
    "\\text{ErrAbs}\\left ( \\frac{\\hat{f}(x+h)-\\hat{f}(x)}{h} \\right ) &=&  \\left |f^{(1)}(x) - \\frac{\\hat{f}(x+h)-\\hat{f}(x)}{h} \\right | \\nonumber \\\\\n",
    "&=& \\left | \\frac{f(x+h)-f(x)}{h} + \\mathcal{O}(h) - \\left ( \\frac{f(x+h)(1+\\epsilon_{f(x+h)})-f(x)(1+\\epsilon_{f(x)})}{h} \\right ) \\right | \\nonumber \\\\\n",
    "&=& \\left |\\mathcal{O}(h) - \\frac{f(x+h)\\epsilon_{f(x+h)}-f(x)\\epsilon_{f(x)}}{h} \\right | \\nonumber \\\\\n",
    "&\\leq& \\mathcal{O}(h) + \\frac{C\\epsilon_{maq}}{h}\n",
    "\\end{eqnarray}\n",
    "$$"
   ]
  },
  {
   "cell_type": "markdown",
   "metadata": {},
   "source": [
    "suponiendo en el último paso que $|f(x+h)\\epsilon_{f(x+h)} - f(x)\\epsilon_{f(x)}| \\leq C \\epsilon_{maq}$ con $C>0$ constante que acota a la función $f$ en el intervalo $[a,b]$. Obsérvese que $\\frac{\\hat{f}(x+h)-\\hat{f}(x)}{h}$ es la aproximación a la primer derivada por diferencias hacia delante que se obtiene en la computadora, por lo que la cantidad $\\left |f^{(1)}(x) - \\frac{\\hat{f}(x+h)-\\hat{f}(x)}{h} \\right |$ es el error absoluto de la aproximación por diferencias hacia delante. "
   ]
  },
  {
   "cell_type": "markdown",
   "metadata": {},
   "source": [
    "El error relativo es:"
   ]
  },
  {
   "cell_type": "markdown",
   "metadata": {},
   "source": [
    "$$\\text{ErrRel}\\left (\\frac{\\hat{f}(x+h)-\\hat{f}(x)}{h} \\right) = \\frac{\\text{ErrAbs}\\left ( \\frac{\\hat{f}(x+h)-\\hat{f}(x)}{h} \\right )}{|f^{(1)}(x)|} \\leq \\frac{\\mathcal{O}(h) + \\frac{C\\epsilon_{maq}}{h}}{|f^{(1)}(x)|} = K_1h + K_2\\frac{1}{h}$$\n",
    "\n",
    "con $K_1, K_2 >0$ constantes."
   ]
  },
  {
   "cell_type": "markdown",
   "metadata": {},
   "source": [
    "Entonces la función $g(h) = \\mathcal{O}(h) + \\mathcal{O}\\left (\\frac{1}{h} \\right)$ acota al error absoluto y al error relativo y se tiene:\n",
    "\n",
    "* Si $h \\rightarrow 0$ la componente $\\mathcal{O} \\left ( \\frac{1}{h} \\right )$ domina a la componente $\\mathcal{O}(h)$, la cual tiende a $0$.\n",
    "\n",
    "* Si $h \\rightarrow \\infty$ la componente $\\mathcal{O}(h)$ domina a $\\mathcal{O} \\left ( \\frac{1}{h} \\right )$, la cual tiende a $0$.\n",
    "\n",
    "Por las dos observaciones anteriores, existe un valor de $h$ que minimiza a los errores. Tal valor se observa en las gráficas anteriores y es igual a:"
   ]
  },
  {
   "cell_type": "code",
   "execution_count": 12,
   "metadata": {},
   "outputs": [
    {
     "name": "stdout",
     "output_type": "stream",
     "text": [
      "[1] 1e-08 1e-08\n"
     ]
    }
   ],
   "source": [
    "print(c(h[which.min(err_absoluto_res)],h[which.min(err_relativo_res)]))"
   ]
  },
  {
   "cell_type": "markdown",
   "metadata": {},
   "source": [
    "**Ejercicio:** obtener de forma analítica el valor de $h$ que minimiza la función $g(h)$ anterior. Tip: utilizar criterio de primera y segunda derivada para encontrar mínimo global."
   ]
  },
  {
   "cell_type": "markdown",
   "metadata": {},
   "source": [
    "**Conclusiones y comentarios:** \n",
    "\n",
    "* La componente $\\mathcal{O}(h)$ es el error por truncamiento, la cual resulta del teorema de Taylor. El teorema de Taylor nos indica que añadir términos en el polinomio de Taylor si la $x$ a aproximar es cercana al centro, las derivadas de $f$ son acotadas y $h \\rightarrow 0$ entonces el error por truncamiento debe tender a $0$. Lo anterior no ocurre en la implementación numérica (corroborado de forma analítica y visual) del método por diferenciación numérica para la primer derivada por la presencia de la componente $\\mathcal{O}\\left(\\frac{1}{h}\\right)$ en los errores. Tal componente proviene del error por redondeo.\n",
    "\n",
    "* Obsérvese que el error relativo máximo es del $100\\%$ lo que indica que no se tiene ninguna cifra correcta en la aproximación:\n"
   ]
  },
  {
   "cell_type": "code",
   "execution_count": 12,
   "metadata": {},
   "outputs": [
    {
     "data": {
      "text/html": [
       "1"
      ],
      "text/latex": [
       "1"
      ],
      "text/markdown": [
       "1"
      ],
      "text/plain": [
       "[1] 1"
      ]
     },
     "metadata": {},
     "output_type": "display_data"
    }
   ],
   "source": [
    "max(err_relativo_res)"
   ]
  },
  {
   "cell_type": "markdown",
   "metadata": {},
   "source": [
    "y esto ocurre para un valor de $h$ igual a:"
   ]
  },
  {
   "cell_type": "code",
   "execution_count": 13,
   "metadata": {},
   "outputs": [
    {
     "data": {
      "text/html": [
       "1e-16"
      ],
      "text/latex": [
       "1e-16"
      ],
      "text/markdown": [
       "1e-16"
      ],
      "text/plain": [
       "[1] 1e-16"
      ]
     },
     "metadata": {},
     "output_type": "display_data"
    }
   ],
   "source": [
    "h[which.max(err_relativo_res)]"
   ]
  },
  {
   "cell_type": "markdown",
   "metadata": {},
   "source": [
    "**pregunta:** ¿por qué se alcanza el máximo error relativo en el valor de $h=10^{-16}$?."
   ]
  },
  {
   "cell_type": "markdown",
   "metadata": {},
   "source": [
    "Con esto se tiene que la diferenciación numérica es un método **inestable numéricamente respecto al redondeo**. Ver nota [Condicion de un problema y estabilidad de un algoritmo](https://github.com/ITAM-DS/analisis-numerico-computo-cientifico/blob/master/libro_optimizacion/temas/I.computo_cientifico/1.4/Condicion_de_un_problema_y_estabilidad_de_un_algoritmo.ipynb)."
   ]
  },
  {
   "cell_type": "markdown",
   "metadata": {},
   "source": [
    "* Un análisis de error similar se utiliza para el método de diferencias finitas por diferencias centradas para aproximar la primera derivada. En este caso el valor de $h$ que minimiza a los errores es del orden $h^* = 10^{-6}$."
   ]
  },
  {
   "cell_type": "markdown",
   "metadata": {},
   "source": [
    "### Diferenciación numérica para una función $f: \\mathbb{R}^n \\rightarrow \\mathbb{R}$"
   ]
  },
  {
   "cell_type": "markdown",
   "metadata": {},
   "source": [
    "Supongamos $f$ es dos veces diferenciable en $\\text{dom}f$. Si $f: \\mathbb{R}^n \\rightarrow \\mathbb{R}$ entonces su derivada se llama **gradiente**, el cual es una función $\\nabla f: \\mathbb{R}^n \\rightarrow \\mathbb{R}^n$ y su segunda derivada se llama **Hessiana**, la cual es una función $f: \\mathbb{R}^n \\rightarrow \\mathbb{R}^{n\\times n}$ (ver [Definicion de funcion derivada de una funcion](https://github.com/ITAM-DS/analisis-numerico-computo-cientifico/blob/master/libro_optimizacion/temas/I.computo_cientifico/1.5/Definicion_de_funcion_derivada_de_una_funcion.ipynb) para definición de derivadas en funciones $f: \\mathbb{R}^n \\rightarrow \\mathbb{R}^m$). Ambas funciones al evaluarse resultan en un vector en $\\mathbb{R}^n$ y en una matriz en $\\mathbb{R}^{n\\times n}$ respectivamente. "
   ]
  },
  {
   "cell_type": "markdown",
   "metadata": {},
   "source": [
    "Podemos utilizar las fórmulas de aproximación en diferenciación numérica con diferencias finitas para el caso $f: \\mathbb{R} \\rightarrow \\mathbb{R}$ revisadas anteriormente para aproximar al gradiente y a la Hessiana.\n",
    "\n",
    "Para el caso del gradiente se tiene por **diferenciación hacia delante**:\n",
    "\n",
    "$$\\nabla f(x) = \n",
    "\\begin{array}{l}\n",
    "\\left[ \\begin{array}{c}\n",
    "\\frac{\\partial f(x)}{\\partial x_1}\\\\\n",
    "\\vdots\\\\\n",
    "\\frac{\\partial f(x)}{\\partial x_n}\n",
    "\\end{array}\n",
    "\\right] \\approx, \\nabla \\hat{f}(x) =\\left[ \n",
    "\\begin{array}{c} \n",
    "\\frac{f(x+he_1) - f(x)}{h}\\\\\n",
    "\\vdots\\\\\n",
    "\\frac{f(x+he_n) - f(x)}{h}\n",
    "\\end{array}\n",
    "\\right]\n",
    "\\end{array} \\in \\mathbb{R}^n$$\n",
    "\n",
    "con $e_j$ $j$-ésimo vector canónico que tiene un número $1$ en la posición $j$ y $0$ en las entradas restantes para $j=1,\\dots,n$. Se cumple $||\\nabla f(x) - \\nabla \\hat{f}(x)|| = \\mathcal{O}(h)$. Y para el caso de la Hessiana:"
   ]
  },
  {
   "cell_type": "markdown",
   "metadata": {},
   "source": [
    "$$\\nabla^2f(x) = \\left[\\begin{array}{cccc}\n",
    "\\frac{\\partial^2f(x)}{\\partial x_1^2} &\\frac{\\partial^2f(x)}{\\partial x_2 \\partial x_1}&\\dots&\\frac{\\partial^2f(x)}{\\partial x_n \\partial x_1}\\\\\n",
    "\\frac{\\partial^2f(x)}{\\partial x_1 \\partial x_2} &\\frac{\\partial^2f(x)}{\\partial x_2^2} &\\dots&\\frac{\\partial^2f(x)}{\\partial x_n \\partial x_2}\\\\\n",
    "\\vdots &\\vdots& \\ddots&\\vdots\\\\\n",
    "\\frac{\\partial^2f(x)}{\\partial x_1 \\partial x_n} &\\frac{\\partial^2f(x)}{\\partial x_2 \\partial x_n}&\\dots&\\frac{\\partial^2f(x)}{\\partial x_n^2} \\\\\n",
    "\\end{array}\n",
    "\\right],\n",
    "$$\n"
   ]
  },
  {
   "cell_type": "markdown",
   "metadata": {},
   "source": [
    "$$\n",
    "\\nabla^2 \\hat{f}(x) = \\left[\\begin{array}{cccc}\n",
    "\\frac{f(x+2he_1)-2f(x+he_1)+f(x)}{h^2} &\\frac{f(x+he_1+he_2)-f(x+he_1)-f(x+he_2)+f(x)}{h^2}&\\dots&\\frac{f(x+he_1+he_n)-f(x+he_1)-f(x+he_n)+f(x)}{h^2}\\\\\n",
    "\\frac{f(x+he_1+he_2)-f(x+he_2)-f(x+he_1)+f(x)}{h^2}&\\frac{f(x+2he_2)-2f(x+he_2)+f(x)}{h^2}  &\\dots&\\frac{f(x+he_2+he_n)-f(x+he_2)-f(x+he_n)+f(x)}{h^2}\\\\\n",
    "\\vdots &\\vdots& \\ddots&\\vdots\\\\\n",
    "\\frac{f(x+he_1+he_n)-f(x+he_n)-f(x+he_1)+f(x)}{h^2}&\\frac{f(x+he_2+he_n)-f(x+he_n)-f(x+he_2)+f(x)}{h^2}&\\dots&\\frac{f(x+2he_n)-2f(x+he_n)+f(x)}{h^2}\\\\\n",
    "\\end{array}\n",
    "\\right]\n",
    "$$\n",
    "\n",
    "Se cumple: $||\\nabla^2f(x)-\\nabla\\hat{f}^2(x)||=\\mathcal{O}(h)$."
   ]
  },
  {
   "cell_type": "markdown",
   "metadata": {},
   "source": [
    "**Ejemplo:**\n",
    "\n",
    "Aproximar $\\nabla f(x), \\nabla^2f(x)$ con diferencias hacia delante y $h \\in \\{10^{-16}, 10^{-14}, \\dots , 10^{-1}\\}$ para $f: \\mathbb{R}^4 \\rightarrow \\mathbb{R}$, dada por $f(x) = (x_1^2-x_2^2)^2+x_1^2+(x_3^2-x_4^2)^2+x_3^2$ en el punto $x_0=(1.5,1.5,1.5,1.5)^T$. Realizar una gráfica de $\\log($Err_rel) vs $\\log($h)\n",
    "\n",
    "Para esta función se tiene:\n"
   ]
  },
  {
   "cell_type": "markdown",
   "metadata": {},
   "source": [
    "$$\\nabla f(x) = \n",
    "\\left[ \\begin{array}{c}\n",
    "4x_1(x_1^2-x_2^2) + 2x_1\\\\\n",
    "-4x_2(x_1^2-x_2^2)\\\\\n",
    "4x_3(x_3^2-x_4^2)+2x_3\\\\\n",
    "-4x_4(x_3^2-x_4^2)\n",
    "\\end{array}\n",
    "\\right] ,\n",
    "$$"
   ]
  },
  {
   "cell_type": "markdown",
   "metadata": {},
   "source": [
    "$$\\nabla^2f(x)=\n",
    " \\left[\\begin{array}{cccc}\n",
    "12x_1^2-4x_2^2+2 &-8x_1x_2&0&0\\\\\n",
    "-8x_1x_2 &-4x_1^2+12x_2^2&0&0\\\\\n",
    "0 &0&12x_3^2-4x_4^2+2&-8x_3x_4\\\\\n",
    "0&0&-8x_3x_4&-4x_3^2+12x_4^2\\\\\n",
    "\\end{array}\n",
    "\\right]\n",
    "$$"
   ]
  },
  {
   "cell_type": "markdown",
   "metadata": {},
   "source": [
    "Y evaluando en $x_0$:\n"
   ]
  },
  {
   "cell_type": "code",
   "execution_count": 14,
   "metadata": {},
   "outputs": [],
   "source": [
    "#gradiente de f calculado de forma simbólica\n",
    "gf<-function(x){\n",
    "    c(4*x[1]*(x[1]^2-x[2]^2)+2*x[1],\n",
    "      -4*x[2]*(x[1]^2-x[2]^2),\n",
    "      4*x[3]*(x[3]^2-x[4]^2)+2*x[3],\n",
    "      -4*x[4]*(x[3]^2-x[4]^2))\n",
    "}"
   ]
  },
  {
   "cell_type": "code",
   "execution_count": 15,
   "metadata": {},
   "outputs": [],
   "source": [
    "x_0<-c(1.5,1.5,1.5,1.5)"
   ]
  },
  {
   "cell_type": "code",
   "execution_count": 16,
   "metadata": {},
   "outputs": [
    {
     "name": "stdout",
     "output_type": "stream",
     "text": [
      "[1] 3 0 3 0\n"
     ]
    }
   ],
   "source": [
    "print(gf(x_0))"
   ]
  },
  {
   "cell_type": "markdown",
   "metadata": {},
   "source": [
    "$$\\nabla f(x_0) = \n",
    "\\left[ \\begin{array}{c}\n",
    "3\\\\\n",
    "0\\\\\n",
    "3\\\\\n",
    "0\n",
    "\\end{array}\n",
    "\\right],\n",
    "$$"
   ]
  },
  {
   "cell_type": "markdown",
   "metadata": {},
   "source": [
    "para la Hessiana:"
   ]
  },
  {
   "cell_type": "code",
   "execution_count": 17,
   "metadata": {},
   "outputs": [],
   "source": [
    "#Hessiana de f calculada de forma simbólica\n",
    "gf2<-function(x){\n",
    "    matrix(c(12*x[1]^2-4*x[2]^2+2,-8*x[1]*x[2],0,0,\n",
    "             -8*x[1]*x[2],-4*x[1]^2+12*x[2]^2,0,0,\n",
    "             0,0,12*x[3]^2-4*x[4]^2+2,-8*x[3]*x[4],\n",
    "             0,0,-8*x[3]*x[4],-4*x[3]^2+12*x[4]^2),nrow=4,ncol=4)\n",
    "}"
   ]
  },
  {
   "cell_type": "code",
   "execution_count": 18,
   "metadata": {},
   "outputs": [
    {
     "name": "stdout",
     "output_type": "stream",
     "text": [
      "     [,1] [,2] [,3] [,4]\n",
      "[1,]   20  -18    0    0\n",
      "[2,]  -18   18    0    0\n",
      "[3,]    0    0   20  -18\n",
      "[4,]    0    0  -18   18\n"
     ]
    }
   ],
   "source": [
    "print(gf2(x_0))"
   ]
  },
  {
   "cell_type": "markdown",
   "metadata": {},
   "source": [
    "$$\\nabla^2f(x_0)=\n",
    " \\left[\\begin{array}{cccc}\n",
    "20 &-18&0&0\\\\\n",
    "-18&18&0&0\\\\\n",
    "0 &0&20&-18\\\\\n",
    "0&0&-18&18\\\\\n",
    "\\end{array}\n",
    "\\right]\n",
    "$$"
   ]
  },
  {
   "cell_type": "markdown",
   "metadata": {},
   "source": [
    "Calculando el gradiente y la Hessiana de forma numérica con la aproximación por diferencias hacia delante:"
   ]
  },
  {
   "cell_type": "code",
   "execution_count": 19,
   "metadata": {},
   "outputs": [],
   "source": [
    "#definición de función y punto en el que se calculan las aproximaciones\n",
    "f_ej<-function(x){\n",
    "    (x[1]^2-x[2]^2)^2+x[1]^2+(x[3]^2-x[4]^2)^2+x[3]^2\n",
    "}\n",
    "x0<-rep(1.5,4)\n"
   ]
  },
  {
   "cell_type": "code",
   "execution_count": 20,
   "metadata": {},
   "outputs": [],
   "source": [
    "#Función auxiliar para incrementar una entrada de un vector\n",
    "#por una cantidad h\n",
    "inc_index<-function(vec,index,h){\n",
    "    vec[index]<-vec[index]+h\n",
    "    vec}"
   ]
  },
  {
   "cell_type": "code",
   "execution_count": 21,
   "metadata": {},
   "outputs": [],
   "source": [
    "#Función para aproximar el gradiente de f\n",
    "#f: función a la que se le aproximará su gradiente\n",
    "#x: punto en el que se aproximará el gradiente de f\n",
    "#h: valor de h para diferencias hacia delante\n",
    "#gf: aproximación al gradiente de f por diferencias hacia delante\n",
    "gf_numeric<-function(f,x,h){\n",
    "    n<-length(x)\n",
    "    gf<-rep(0,n)\n",
    "    for(i in 1:n){\n",
    "        gf[i]=(f(inc_index(x,i,h))-f(x))\n",
    "    }\n",
    "    gf/h\n",
    "}"
   ]
  },
  {
   "cell_type": "code",
   "execution_count": 22,
   "metadata": {},
   "outputs": [],
   "source": [
    "#Función para aproximar la Hessiana de f\n",
    "#f: función a la que se le aproximará su Hessiana\n",
    "#x: punto en el que se aproximará la Hessiana de f\n",
    "#h: valor de h para diferencias hacia delante\n",
    "#Hf: aproximación a la Hessiana de f por diferencias hacia delante\n",
    "gf2_numeric<-function(f,x,h){\n",
    "    n<-length(x)\n",
    "    Hf<-matrix(rep(0,n^2),nrow=n,ncol=n)\n",
    "    f_x<-f(x)\n",
    "    for(i in 1:n){\n",
    "        x_inc_in_i<-inc_index(x,i,h)\n",
    "        f_x_inc_in_i<-f(x_inc_in_i)\n",
    "        for(j in i:n){\n",
    "            #otra forma para dif:\n",
    "            #dif<-f(inc_index(inc_index(x,j,h),i,h))-f_x_inc_in_i-f(inc_index(x,j,h))+f_x\n",
    "            dif<-f(inc_index(x_inc_in_i,j,h))-f_x_inc_in_i-f(inc_index(x,j,h))+f_x\n",
    "            Hf[i,j]<-dif\n",
    "            if(j!=i)\n",
    "                Hf[j,i]<-dif\n",
    "        }\n",
    "    }\n",
    "    Hf/h^2\n",
    "}"
   ]
  },
  {
   "cell_type": "code",
   "execution_count": 25,
   "metadata": {},
   "outputs": [],
   "source": [
    "h<-10^(-1*(1:16))#un conjunto de valores de h para diferencias hacia delante\n",
    "err_absoluto<-function(aprox,obj){\n",
    "    norm(aprox-obj,\"2\") #cálculo de norma vectorial o matricial, depende de lo que recibe\n",
    "                        #la función en sus parámetros aprox y obj\n",
    "}\n",
    "\n",
    "err_relativo<-function(aprox,obj){\n",
    "    norm(aprox-obj,\"2\")/norm(obj,\"2\")#cálculo de norma vectorial o matricial, depende de lo que recibe\n",
    "                                     #la función en sus parámetros aprox y obj\n",
    "}\n",
    "\n",
    "gf_numeric_list<-lapply(h,gf_numeric,f=f_ej,x=x0)\n",
    "gf2_numeric_list<-lapply(h,gf2_numeric,f=f_ej,x=x0)\n",
    "\n",
    "\n",
    "err_absoluto_gf_res<-sapply(gf_numeric_list,err_absoluto,obj=gf(x_0))\n",
    "err_relativo_gf_res<-sapply(gf_numeric_list,err_relativo,obj=gf(x_0))\n",
    "\n",
    "err_absoluto_gf2_res<-sapply(gf2_numeric_list,err_absoluto,obj=gf2(x_0))\n",
    "err_relativo_gf2_res<-sapply(gf2_numeric_list,err_relativo,obj=gf2(x_0))"
   ]
  },
  {
   "cell_type": "code",
   "execution_count": 26,
   "metadata": {},
   "outputs": [],
   "source": [
    "gg<-ggplot()"
   ]
  },
  {
   "cell_type": "code",
   "execution_count": 27,
   "metadata": {},
   "outputs": [
    {
     "data": {
      "image/png": "[encoded data removed]",
      "text/plain": [
       "plot without title"
      ]
     },
     "metadata": {
      "image/png": {
       "height": 360,
       "width": 360
      }
     },
     "output_type": "display_data"
    }
   ],
   "source": [
    "gg+\n",
    "geom_line(aes(x=log(h),y=log(err_relativo_gf_res)))+\n",
    "ggtitle('Aproximación al gradiente por diferencias finitas')"
   ]
  },
  {
   "cell_type": "code",
   "execution_count": 28,
   "metadata": {},
   "outputs": [
    {
     "name": "stdout",
     "output_type": "stream",
     "text": [
      "[1] 1e-08 1e-08\n"
     ]
    }
   ],
   "source": [
    "print(c(h[which.min(err_relativo_gf_res)],h[which.min(err_absoluto_gf_res)]))"
   ]
  },
  {
   "cell_type": "code",
   "execution_count": 29,
   "metadata": {},
   "outputs": [
    {
     "data": {
      "image/png": "[encoded data removed]",
      "text/plain": [
       "plot without title"
      ]
     },
     "metadata": {
      "image/png": {
       "height": 360,
       "width": 360
      }
     },
     "output_type": "display_data"
    }
   ],
   "source": [
    "gg+\n",
    "geom_line(aes(x=log(h),y=log(err_relativo_gf2_res)))+\n",
    "ggtitle('Aproximación a la Hessiana por diferencias finitas')"
   ]
  },
  {
   "cell_type": "code",
   "execution_count": 30,
   "metadata": {},
   "outputs": [
    {
     "name": "stdout",
     "output_type": "stream",
     "text": [
      "[1] 1e-06 1e-06\n"
     ]
    }
   ],
   "source": [
    "print(c(h[which.min(err_relativo_gf2_res)],h[which.min(err_absoluto_gf2_res)]))"
   ]
  },
  {
   "cell_type": "markdown",
   "metadata": {},
   "source": [
    "**Ejercicio: aproximar $\\nabla f(x), \\nabla^2f(x)$ con diferencias hacia delante y $h \\in \\{10^{-16}, 10^{-14}, \\dots , 10^{-1}\\}$ para $f: \\mathbb{R}^3 \\rightarrow \\mathbb{R}$, dada por $f(x) = x_1x_2\\exp(x_1^2+x_3^2-5)$ en el punto $x_0=(1,3,-2)^T$ Realizar una gráfica de $\\log($Err_rel) vs $\\log($h).** \n"
   ]
  },
  {
   "cell_type": "markdown",
   "metadata": {},
   "source": [
    "**Ejercicios**\n",
    "\n",
    "1. Resuelve los ejercicios y preguntas de la nota.\n",
    "\n"
   ]
  },
  {
   "cell_type": "markdown",
   "metadata": {},
   "source": [
    "**Referencias**\n",
    "\n",
    "1. R. L. Burden, J. D. Faires, Numerical Analysis, Brooks/Cole Cengage Learning, 2005.\n",
    "\n",
    "2. M. T. Heath, Scientific Computing. An Introductory Survey, McGraw-Hill, 2002.\n",
    "\n",
    "3. S. P. Boyd, L. Vandenberghe, Convex Optimization. Cambridge University Press, 2004.\n",
    "\n",
    "4. Nota [Sistema de punto flotante](https://github.com/ITAM-DS/analisis-numerico-computo-cientifico/blob/master/libro_optimizacion/temas/I.computo_cientifico/1.2/Sistema_de_punto_flotante.ipynb).\n",
    "\n",
    "5. Nota [Condicion de un problema y estabilidad de un algoritmo](https://github.com/ITAM-DS/analisis-numerico-computo-cientifico/blob/master/libro_optimizacion/temas/I.computo_cientifico/1.4/Condicion_de_un_problema_y_estabilidad_de_un_algoritmo.ipynb).\n"
   ]
  }
 ],
 "metadata": {
  "kernelspec": {
   "display_name": "R",
   "language": "R",
   "name": "ir"
  },
  "language_info": {
   "codemirror_mode": "r",
   "file_extension": ".r",
   "mimetype": "text/x-r-source",
   "name": "R",
   "pygments_lexer": "r",
   "version": "4.0.2"
  }
 },
 "nbformat": 4,
 "nbformat_minor": 4
}
