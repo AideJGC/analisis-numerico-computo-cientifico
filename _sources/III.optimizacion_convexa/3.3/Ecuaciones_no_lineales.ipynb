{
 "cells": [
  {
   "cell_type": "markdown",
   "metadata": {},
   "source": [
    "(ECNL)="
   ]
  },
  {
   "cell_type": "markdown",
   "metadata": {},
   "source": [
    "# 3.3 Ecuaciones no lineales"
   ]
  },
  {
   "cell_type": "markdown",
   "metadata": {},
   "source": [
    "```{admonition} Notas para contenedor de docker:\n",
    "\n",
    "Comando de docker para ejecución de la nota de forma local:\n",
    "\n",
    "nota: cambiar `<ruta a mi directorio>` por la ruta de directorio que se desea mapear a `/datos` dentro del contenedor de docker.\n",
    "\n",
    "`docker run --rm -v <ruta a mi directorio>:/datos --name jupyterlab_optimizacion -p 8888:8888 -d palmoreck/jupyterlab_optimizacion:2.1.4`\n",
    "\n",
    "password para jupyterlab: `qwerty`\n",
    "\n",
    "Detener el contenedor de docker:\n",
    "\n",
    "`docker stop jupyterlab_optimizacion`\n",
    "\n",
    "Documentación de la imagen de docker `palmoreck/jupyterlab_optimizacion:2.1.4` en [liga](https://github.com/palmoreck/dockerfiles/tree/master/jupyterlab/optimizacion).\n",
    "\n",
    "```"
   ]
  },
  {
   "cell_type": "markdown",
   "metadata": {},
   "source": [
    "---"
   ]
  },
  {
   "cell_type": "markdown",
   "metadata": {},
   "source": [
    "Nota generada a partir de [liga1](https://www.dropbox.com/s/dfwk0y04ksgfilv/3.5.Aplicaciones_del_algebra_lineal_numerica.pdf?dl=0), [liga2](https://www.dropbox.com/s/6zree47e1u3p5wx/Ecuaciones_no_lineales.pdf?dl=0)."
   ]
  },
  {
   "cell_type": "markdown",
   "metadata": {},
   "source": [
    "```{admonition} Al final de esta nota el y la lectora:\n",
    ":class: tip\n",
    "\n",
    "* \n",
    "\n",
    "```"
   ]
  },
  {
   "cell_type": "markdown",
   "metadata": {},
   "source": [
    "## Sistemas de ecuaciones lineales"
   ]
  },
  {
   "cell_type": "markdown",
   "metadata": {},
   "source": [
    "Las ecuaciones lineales tienen importantes aplicaciones en todas las áreas de la ciencia. La teoría del álgebra lineal nos permite tener resultados universales de las mismas y son una herramienta importante para aproximaciones a ecuaciones no lineales. Por ejemplo, al considerar pequeñas perturbaciones en un punto, un sistema no lineal puede típicamente aproximarse por un sistema lineal en una vecindad local del punto. Sin embargo, la linearización sólo describe propiedades locales y para un análisis global de problemas no lineales otras técnicas se requieren. Tales métodos comúnmente utilizan esquemas iterativos para gradualmente aproximar la solución."
   ]
  },
  {
   "cell_type": "markdown",
   "metadata": {},
   "source": [
    "```{admonition} Definición\n",
    "\n",
    "En general un sistema de ecuaciones lineal es de la forma: \n",
    "\n",
    "$$\n",
    "\\begin{array}{ccc} \n",
    "a_{11}x_1 + a_{12}x_2 + \\cdots + a_{1n}x_n  &= & b_1 \\\\ \n",
    "a_{21}x_1 + a_{22}x_2 +  \\cdots + a_{2n}x_n &= & b_2 \\\\ \n",
    "\\vdots & & \\\\ \n",
    "a_{m1}x_1 + a_{m2}x_2 + \\cdots + a_{mn}x_n &=& b_m \n",
    "\\end{array}\n",
    "$$\n",
    "\n",
    "donde: las $x_i$'s son las incógnitas y las $a_i$'s y $b_i$'s son constantes conocidas.\n",
    "\n",
    "Las entradas $a_{ij}$'s son nombradas **coeficientes del sistema** y forman a la **matriz del sistema** $A \\in \\mathbb{R}^{m \\times n}$. El conjunto de $b_i$'s se le nombra **lado derecho del sistema** y forma al **vector de lado derecho** $b \\in \\mathbb{R}^{m}$. Así, el sistema se escribe como $Ax = b$.\n",
    "\n",
    "Si todas las $b_i$'s son iguales a $0$ el sistema se le nombra **homogéneo** si no se cumple esto se le nombra **no homogéneo**.\n",
    "\n",
    "```"
   ]
  },
  {
   "cell_type": "markdown",
   "metadata": {},
   "source": [
    "La teoría del álgebra lineal nos ayuda a determinar que existen solamente **3 posibilidades para solución del sistema anterior:**\n",
    "\n",
    "* **Una única solución:** sólo existe uno y sólo un conjunto de valores de $x_i$'s que satisfacen todas las ecuaciones simultáneamente.\n",
    "\n",
    "* **Ninguna solución:** no existe ningún conjunto de valores de $x_i$'s que satisfacen todas las ecuaciones simultáneamente (el conjunto solución es vacío).\n",
    "\n",
    "* **Infinitas soluciones:** hay una infinidad de valores distintos de las $x_i$'s que satisfacen todas las ecuaciones simultáneamente."
   ]
  },
  {
   "cell_type": "markdown",
   "metadata": {},
   "source": [
    "```{admonition} Definición\n",
    "\n",
    "En el caso de una o infinitas soluciones el sistema de ecuaciones lineales se nombra consistente o no singular, si no existe solución se nombra inconsistente o singular.\n",
    "\n",
    "```"
   ]
  },
  {
   "cell_type": "markdown",
   "metadata": {},
   "source": [
    "```{admonition} Observación\n",
    ":class: tip\n",
    "\n",
    "Es sencillo probar que si un sistema tiene más de una solución entonces tiene una infinidad de soluciones. Esto contrasta con sistemas de ecuaciones no lineales donde pueden existir para tales sistemas un número finito de soluciones mayor a uno.\n",
    "\n",
    "```"
   ]
  },
  {
   "cell_type": "markdown",
   "metadata": {},
   "source": [
    "### Interpretación geométrica"
   ]
  },
  {
   "cell_type": "markdown",
   "metadata": {},
   "source": [
    "Resolver un sistema de ecuaciones lineales equivale a encontrar la intersección entre rectas, planos o hiperplanos (2,3 o n dimensiones respectivamente). Por ejemplo para un caso de dos dimensiones se tiene:"
   ]
  },
  {
   "cell_type": "markdown",
   "metadata": {},
   "source": [
    "<img src=\"https://dl.dropboxusercontent.com/s/p92z7zlquo1adbm/algebra_lineal_1.jpg?dl=0\" heigth=\"700\" width=\"700\">\n"
   ]
  },
  {
   "cell_type": "markdown",
   "metadata": {},
   "source": [
    "El inciso a) representa un sistema de ecuaciones lineales sin solución, el inciso b) infinitas soluciones (en el dibujo ligeramente se desplazó hacia abajo una de las rectas para mostrar ambas) y el inciso c) una única solución. "
   ]
  },
  {
   "cell_type": "markdown",
   "metadata": {},
   "source": [
    "### Algoritmos"
   ]
  },
  {
   "cell_type": "markdown",
   "metadata": {},
   "source": [
    "Existen una gran cantidad de algoritmos para resolver los sistemas de ecuaciones. Típicamente se elige el algoritmo de acuerdo a las características de los coeficientes de la matriz del sistema y sus dimensiones. "
   ]
  },
  {
   "cell_type": "markdown",
   "metadata": {},
   "source": [
    "### Algoritmos para sistemas triangulares"
   ]
  },
  {
   "cell_type": "markdown",
   "metadata": {},
   "source": [
    "Son sistemas cuya matriz del sistema es triangular inferior o superior. Un sistema triangular inferior se resuelve con el **método de sustitución hacia delante**. Si es triangular superior se resuelve con el **método de sustitución hacia atrás**.\n"
   ]
  },
  {
   "cell_type": "markdown",
   "metadata": {},
   "source": [
    "### Algoritmos para sistemas no triangulares"
   ]
  },
  {
   "cell_type": "markdown",
   "metadata": {},
   "source": [
    "Para sistemas de ecuaciones lineales más generales (no tienen estructura identificable) se tienen los **métodos iterativos** y **directos o basados en factorizaciones matriciales**.\n",
    "\n",
    "Entre los directos o basados en factorizaciones matriciales se encuentran:"
   ]
  },
  {
   "cell_type": "markdown",
   "metadata": {},
   "source": [
    "```{margin}\n",
    "\n",
    "Ver {ref}`definición <MATRIZSDPOSITIVA>` de una matriz simétrica definida positiva.\n",
    "\n",
    "```"
   ]
  },
  {
   "cell_type": "markdown",
   "metadata": {},
   "source": [
    "* Eliminación Gaussiana o factorización LU.\n",
    "* Factorización de Cholesky (la matriz del sistema debe ser un elemento en $\\mathbb{S}^n_{++}$ simétrica positiva definida)\n",
    "* Factorización QR.\n",
    "* Descomposición en valores singulares (DVS o SVD por sus siglas en inglés)."
   ]
  },
  {
   "cell_type": "markdown",
   "metadata": {},
   "source": [
    "y como ejemplo de los iterativos están:\n"
   ]
  },
  {
   "cell_type": "markdown",
   "metadata": {},
   "source": [
    "* Jacobi.\n",
    "* Gauss-Seidel.\n",
    "* Gradiente conjugado (la versión que se aplica a matrices del sistema simétricas requiere que tales matrices estén en $\\mathbb{S}^n_{++}$)."
   ]
  },
  {
   "cell_type": "markdown",
   "metadata": {},
   "source": [
    "Ambos métodos: iterativos y directos o basados en factorizaciones matriciales encuentran sistemas de ecuaciones equivalentes a partir de operaciones básicas del álgebra lineal."
   ]
  },
  {
   "cell_type": "markdown",
   "metadata": {},
   "source": [
    "```{admonition} Definición\n",
    "\n",
    "Dos sistemas de ecuaciones lineales son equivalentes si tienen el mismo conjunto solución.\n",
    "\n",
    "```"
   ]
  },
  {
   "cell_type": "markdown",
   "metadata": {},
   "source": [
    "### Sistemas de ecuaciones lineales *square*, *underdetermined*, *overdetermined*"
   ]
  },
  {
   "cell_type": "markdown",
   "metadata": {},
   "source": [
    "Entre las características que definen el problema a resolver y el tipo de algoritmo a usar se encuentran las dimensiones de una matriz."
   ]
  },
  {
   "cell_type": "markdown",
   "metadata": {},
   "source": [
    "```{admonition} Definición\n",
    "\n",
    "Si la matriz del sistema tiene más renglones que columnas, $m > n$, se tiene un sistema ***overdetermined***, si tiene más columnas que renglones, $m < n$, se nombra ***underdetermined*** y si tiene el mismo número de renglones y columnas, $m=n$, se nombra ***square***.\n",
    "\n",
    "```"
   ]
  },
  {
   "cell_type": "markdown",
   "metadata": {},
   "source": [
    "Los sistemas de ecuaciones lineales *overdetermined* en general no tienen solución si $b \\notin \\text{Im}(A)$ con $\\text{Im}(A)$ espacio columna de $A$. Por esto se busca resolver un **problema de mínimos cuadrados** de la forma:\n",
    "\n",
    "$$\\displaystyle \\min_{x \\in \\mathbb{R}^n} ||Ax-b||_2$$\n",
    "\n",
    "con única solución si $A$ es de *rank* completo.\n",
    "\n",
    "Los sistemas de ecuaciones lineales *underdetermined* pueden tener infinitas soluciones o ninguna solución. En el caso que $A$ sea de *rank* completo el sistema es consistente y se busca resolver el **problema de optimización de mínima norma** :\n",
    "\n",
    "$$\\displaystyle \\min_{x \\in \\mathcal{K}} ||x||_2$$\n",
    "\n",
    "\n",
    "donde: $\\mathcal{K} = \\{x \\in \\mathbb{R}^n | Ax = b\\}$ que es interesante para $b \\neq 0$ y tiene única solución.\n"
   ]
  },
  {
   "cell_type": "markdown",
   "metadata": {},
   "source": [
    "```{margin}\n",
    "\n",
    "Recuérdese que el producto $x^T Ax$ con $A$ simétrica se le nombra forma cuadrática y es un número en $\\mathbb{R}$.\n",
    "\n",
    "```"
   ]
  },
  {
   "cell_type": "markdown",
   "metadata": {},
   "source": [
    "```{admonition} Comentarios\n",
    "\n",
    "* El problema de mínimos cuadrados es un problema convexo no importando si $A$ es o no de *rank* completo pues la forma cuadrática involucra a la expresión $x^TA^TAx$ y $A^TA \\in \\mathbb{S}^n_+$.\n",
    "\n",
    "* El problema de optimización a resolver para el caso de sistemas de ecuaciones lineales *underdetermined* y matriz del sistema de *rank* completo también puede escribirse como:\n",
    "\n",
    "$$\\min_{x \\in \\mathbb{R}^n} ||x||_2$$\n",
    "\n",
    "$$\\text{sujeto a:} Ax = b$$\n",
    "\n",
    "el cual es un problema de optimización convexa con restricciones (no importando si $A$ es o no de *rank* completo).\n",
    "\n",
    "```"
   ]
  },
  {
   "cell_type": "markdown",
   "metadata": {},
   "source": [
    "## Ecuaciones no lineales"
   ]
  },
  {
   "cell_type": "markdown",
   "metadata": {},
   "source": [
    "El problema que queremos resolver es el siguiente: dada $f: \\mathbb{R} \\rightarrow \\mathbb{R}$ encontrar $x^*$ que resuelva la ecuación no lineal $f(x) = 0$. Nos interesa al menos una solución de la ecuación anterior."
   ]
  },
  {
   "cell_type": "markdown",
   "metadata": {},
   "source": [
    "```{admonition} Definición\n",
    "\n",
    "$x^*$ se nombra raíz o cero de $f$.\n",
    "\n",
    "```"
   ]
  },
  {
   "cell_type": "markdown",
   "metadata": {},
   "source": [
    "Algunos son ejemplos son:\n",
    "\n",
    "* $e^x+1=0$\n",
    "\n",
    "* $e^{-x}-x =0$\n",
    "\n",
    "* $x^2 -4\\sin(x)=0$\n",
    "\n",
    "* $x^3+6x^2+11x-6=0$\n",
    "\n",
    "* $\\sin(x) = 0$."
   ]
  },
  {
   "cell_type": "markdown",
   "metadata": {},
   "source": [
    "```{margin}\n",
    "\n",
    "Como ejemplo que no es posible expresar las raíces o ceros por una fórmula cerrada que involucren a los coeficientes, operaciones aritméticas y raíces $\\sqrt[n]{\\cdot}$, considérese la ecuación no lineal $x^5 - x^2 + 1 = 0$.\n",
    "\n",
    "```"
   ]
  },
  {
   "cell_type": "markdown",
   "metadata": {},
   "source": [
    "```{admonition} Comentarios\n",
    "\n",
    "* En el caso de una ecuación o un sistema de ecuaciones no lineales no tenemos resultados que determinen la existencia o unicidad de soluciones a diferencia de un sistema lineal. Sin embargo, en muchas situaciones en la práctica se resuelven ecuaciones no lineales que sí tienen solución y se desea aproximar una solución o varias soluciones en una región de interés por lo que determinar la existencia o unicidad de la solución no es primordial.\n",
    "\n",
    "* La mayoría de los métodos para calcular raíces o ceros de $f$ vía la ecuación no lineal $f(x) = 0$ nos devuelven aproximaciones y no fórmulas cerradas. Son métodos **iterativos** que en el caso de $1$ dimensión los podemos dividir en $2$ tipos: **cerrados** y **abiertos**. Los cerrados inician sus iteraciones en un intervalo que encierra a la raíz y conforme avanzan las iteraciones hacen subdivisiones del intervalo inicial por lo que su longitud se reduce y **siempre** convergen. Los abiertos no requieren encerrar a la raíz, en general tienen mejor desempeño que los cerrados en cuanto al número de iteraciones pero **no siempre convergen**.\n",
    "\n",
    "* Es conveniente comentar que si bien quisiéramos tener algoritmos que calculasen todas las raíces o ceros de $f$ esto no es posible, es un hecho que los métodos nos darán una solución aproximada o un mensaje del tipo \"no se encontró solución\".\n",
    "\n",
    "```"
   ]
  },
  {
   "cell_type": "markdown",
   "metadata": {},
   "source": [
    "## Sistema de ecuaciones no linales"
   ]
  },
  {
   "cell_type": "markdown",
   "metadata": {},
   "source": [
    "El caso de sistema de ecuaciones no lineales es una generalización del caso de una dimensión en el que tenemos $f: \\mathbb{R}^n \\rightarrow \\mathbb{R}^n$ y debemos encontrar una raíz o cero de $f$ que resuelva el sistema de ecuaciones no lineales $f(x) = 0$."
   ]
  },
  {
   "cell_type": "markdown",
   "metadata": {},
   "source": [
    "```{admonition} Observación\n",
    ":class: tip\n",
    "\n",
    "$f$ tiene $n$ funciones componentes:\n",
    "\n",
    "$$\n",
    "f(x) = \\left [ \\begin{array}{c}\n",
    "f_1(x) \\\\\n",
    "f_2(x) \\\\\n",
    "\\vdots \\\\\n",
    "f_n(x)\n",
    "\\end{array}\n",
    "\\right ]\n",
    "$$\n",
    "\n",
    "y su derivada es la matriz de $n \\times n$, la Jacobiana $(\\mathcal{J}_f(x))_{ij} = \\frac{\\partial f_i(x)}{\\partial x_j}$, ver {ref}`Definición de función, continuidad y derivada <FCD>`.\n",
    "\n",
    "```"
   ]
  },
  {
   "cell_type": "markdown",
   "metadata": {},
   "source": [
    "Algunos ejemplos son:"
   ]
  },
  {
   "cell_type": "markdown",
   "metadata": {},
   "source": [
    "1) $$\n",
    "\\begin{eqnarray}\n",
    "x_1^2+x_1x_2&=&10 \\nonumber \\\\\n",
    "x_2 + 3x_1x_2^2&=&57 \\nonumber \n",
    "\\end{eqnarray}\n",
    "$$\n",
    "\n",
    "2) $$\n",
    "\\begin{eqnarray}\n",
    "2=\\displaystyle \\int_{-1}^{1}1dx &=& w_0 \\cdot 1 + w_1\\cdot1 \\nonumber \\\\\n",
    "0 = \\displaystyle \\int_{-1}^1xdx &=& w_0x_0 + w_1x_1 \\nonumber \\\\\n",
    "\\frac{2}{3} = \\displaystyle \\int_{-1}^1x^2dx &=& w_0x_0^2 + w_1x_1^2 \\nonumber \\\\\n",
    "0 = \\displaystyle \\int_{-1}^1x^3dx &=& w_0x_0^3 + w_1x_1^3 \\nonumber \\\\\n",
    "\\end{eqnarray}\n",
    "$$"
   ]
  },
  {
   "cell_type": "markdown",
   "metadata": {},
   "source": [
    "## Criterios de paro, escala de la variable $x$ y de la función $f$"
   ]
  },
  {
   "cell_type": "markdown",
   "metadata": {},
   "source": [
    "Un tema importante en la implementación de algoritmos es la escala del problema tanto en la variable $x$ como en la función $f$. Por ejemplo, si $x_1$ está en el rango $[10^2, 10^3]$ de metros y $x_2$ está en el rango $[10^{-7}, 10^{-6}]$ de segundos entonces tenemos que realizar un reescalamiento para tener evaluaciones de $f$, criterios de paro y actualizaciones en esquemas iterativos, por ejemplo, independientes de las escalas de las variables o de la función. Asimismo, los criterios de paro en un método iterativo ayudan a contestar preguntas del tipo ¿hemos resuelto el problema de forma aproximada? ¿en las últimas dos (o un poco más) iteraciones nos hemos quedado virtualmente en el mismo punto? \n"
   ]
  },
  {
   "cell_type": "markdown",
   "metadata": {},
   "source": [
    "```{margin}\n",
    "\n",
    "El reescalamiento en el ejemplo de kilómetros y microsegundos puede describirse como la multiplicación de una matriz diagonal por las variables $x_1$ y $x_2$ en la que las entradas de la diagonal son $\\frac{1}{10^3}$ y $\\frac{1}{10^{-6}}$ para las variables $x_1$ y $x_2$ respectivamente.\n",
    "\n",
    "```"
   ]
  },
  {
   "cell_type": "markdown",
   "metadata": {},
   "source": [
    "Muchos algoritmos cumplen que son invariantes ante escala de las variables, el método de Newton en la variable $x$ es uno de ellos por ejemplo, pero otros no, por lo que al implementar un algoritmo se debe revisar los reescalamientos a realizar. En el ejemplo anterior de los metros y segundos si se cambian las unidades de $x_1$ a kilómetros y las de $x_2$ a microsegundos entonces tanto $x_1$ como $x_2$ se encontrarán en el rango $[10^{-1}, 1]$. Si en dos dimensiones $x_1 \\in [10^{6}, 10^{7}]$ y $x_2 \\in [10^{-1}, 1]$ entonces una prueba del tipo $||\\nabla f(x)|| <  10^{-3}$ no será equilibrada para ambas variables si se desea por ejemplo minimizar $f$ ($x_1$ tendería a ser lo más pequeña posible si por ejemplo tenemos una alta contribución de esta variable en $f$)."
   ]
  },
  {
   "cell_type": "markdown",
   "metadata": {},
   "source": [
    "En el caso de la función $f$, es común requerir que $f$ o la magnitud de $f$ sea cero (o su derivada). Si consideramos $f(x) = 0$ es muy probable que los errores por redondeo no permitan que se satisfaga esto para ningún punto $x$ por lo que modificamos la condición anterior a $f(x) \\approx 0$. También si $f$ no está escalada apropiadamente la condición $|f(x)| < tol$ es probable que siempre o nunca se satisfaga. Por ejemplo si $tol = 10^{-3}$ y $f$ siempre está en $[10^{-7}, 10^{-5}]$ entonces cualquier $x$ satisface $|f(x)| < 10^{-3}$. "
   ]
  },
  {
   "cell_type": "markdown",
   "metadata": {},
   "source": [
    "Considerando $f: \\mathbb{R}^n \\rightarrow \\mathbb{R}^n$, dentro de los criterios de paro que se utilizan en los métodos iterativos para resolver ecuaciones no lineales que apuntan a tener una evaluación independiente de la escala se encuentran:"
   ]
  },
  {
   "cell_type": "markdown",
   "metadata": {},
   "source": [
    "```{margin}\n",
    "\n",
    "En los criterios de paro que revisan la norma de la derivada de $f$, una opción independiente de la escala de $f$ y $x$ es la cantidad $\\frac{||Df(x)||||x||}{||f(x)||}$.\n",
    "\n",
    "```"
   ]
  },
  {
   "cell_type": "markdown",
   "metadata": {},
   "source": [
    "* Medir diferencia entre iteraciones. Por ejemplo:\n",
    "\n",
    "    * $||x^{(k+1)} - x^{(k)}|| < tol(||x^{(k)}|| +1)$\n",
    "    * $||x^{(k+1)} - x^{(k)}|| < tol\\max\\{||x_{k+1}||, ||x_k||\\}$\n",
    "    * $||x^{(k+1)} - x^{(k)}|| < tol\\max\\{||x_{k+1}||, \\text{user_defined_value}\\}$. \n",
    "\n",
    "con `user_defined_value` un valor positivo proporcionado por *user* que mide la magnitud típica de $x$ y $|| \\cdot ||$ norma.\n",
    "\n",
    "\n",
    "* Medir la norma de $f$ reescalándola por ejemplo:\n",
    "\n",
    "$$||Diag f|| < tol$$\n",
    "\n",
    "\n",
    "con $Diag$ matriz diagonal tal que $Diagf$ tenga norma alrededor de $1$ en puntos no cercanos a la raíz y también puede proveerse sus valores con un `user_defined_value`.\n",
    "   \n",
    "\n",
    "* Máximo número de iteraciones.\n",
    "    \n"
   ]
  },
  {
   "cell_type": "markdown",
   "metadata": {},
   "source": [
    "## Métodos para resolver ecuaciones no lineales de funciones $f: \\mathbb{R} \\rightarrow \\mathbb{R}$"
   ]
  },
  {
   "cell_type": "markdown",
   "metadata": {},
   "source": [
    "### Método de bisección"
   ]
  },
  {
   "cell_type": "markdown",
   "metadata": {},
   "source": [
    "Es un método cerrado que requiere $f \\in \\mathbb{R} \\rightarrow \\mathbb{R}$ con $f \\in \\mathcal{C}([a,b])$ tal que $f(a) f(b) <0$, esto es, que $f$ tenga un cambio de signo. Por el **teorema del valor intermedio** se cumple que $f$ tiene una raíz en $[a,b]$."
   ]
  },
  {
   "cell_type": "markdown",
   "metadata": {},
   "source": [
    "### Algoritmo: método de bisección"
   ]
  },
  {
   "cell_type": "markdown",
   "metadata": {},
   "source": [
    "> **Dados** $x_i, x_s$ límite inferior y superior respectivamente tales que $x^* \\in [x_i, x_s]$ con $f(x_i)f(x_s)<0$ y $tol >0$\n",
    ">\n",
    "> **Repetir** el siguiente bloque para $k=1,2,\\dots$\n",
    ">> 1. $x^{(k)} = \\frac{x_i + x_s}{2}$\n",
    ">>\n",
    ">> 2. Si $f(x_i)f(x^{(k)}) < 0$ entonces $x^* \\in [x_i, x^{(k)}]$ por lo tanto $x_s = x^{(k)}$.\n",
    ">>\n",
    ">> 3. Si $f(x_i)f(x^{(k)}) > 0$ entonces $x^* \\in [x^{(k)}, x_s]$ por lo tanto $x_i = x^{(k)}$.\n",
    ">\n",
    "> **hasta** convergencia: satisfacer criterio de paro en el que se utiliza $tol$ y $maxiter$.\n",
    "\n"
   ]
  },
  {
   "cell_type": "markdown",
   "metadata": {},
   "source": [
    "````{admonition} Comentarios\n",
    "\n",
    "En el método de bisección:\n",
    "\n",
    "* Se garantiza que el error relativo en cada iteración se reduce por la mitad y se obtiene una cantidad constante de dígitos por cada iteración, lo cual es representativo de una convergencia lineal.\n",
    "\n",
    "* Siempre tenemos convergencia pero es lenta.\n",
    "\n",
    "* No es posible extenderlo a más dimensiones de forma natural pues tendríamos que definir metodologías para elegir puntos en regiones como rectángulos, cubos,... para evaluar a la función $f$ y determinar cambios de signo.\n",
    "\n",
    "* La evaluación de los pasos 2 y 3 del algoritmo anterior se visualizan respectivamente como sigue:\n",
    "\n",
    "<img src=\"https://dl.dropboxusercontent.com/s/sl9m30qmy8cf4rr/bisection_method.png?dl=0\" heigth=\"600\" width=\"600\">\n",
    "\n",
    "* La implementación del método utiliza lo siguiente:\n",
    "\n",
    "    * El punto medio se calcula con la expresión: $x^{(k)} = x_i + \\frac{x_s - x_i}{2}$\n",
    "    \n",
    "    * Se revisan los signos de $f(x_i)$, $f(x^{(k)})$ para determinar si $f(x_i)f(x^{(k)}) < 0$ o $f(x_i)f(x^{(k)}) > 0$.\n",
    "\n",
    "````"
   ]
  },
  {
   "cell_type": "markdown",
   "metadata": {},
   "source": [
    "```{admonition} Ejercicio\n",
    ":class: tip\n",
    "\n",
    "Con el método de bisección aproxima la raíz $x^* \\approx 0.56714329$ de la ecuación no lineal $f(x) = e^{-x}-x$ tomando como intervalo inicial $[0,2]$ y un valor de $tol = 10^{-8}$. Crea una tabla de la forma:\n",
    "\n",
    "|Iter | $x_i$ | $x_s$ | $x^{(k)}$ | Err_rel$(x^{(k)})$|\n",
    "|:---:|:---:|:---:|:---:|:---:|\n",
    "|1|0|2|1|1.5 e-2|\n",
    "|2|0|1|0.5|1.3 e-2|\n",
    "\n",
    "(valores ejemplo)\n",
    "\n",
    "```"
   ]
  },
  {
   "cell_type": "markdown",
   "metadata": {},
   "source": [
    "### Método de Newton o Newton-Raphson "
   ]
  },
  {
   "cell_type": "markdown",
   "metadata": {},
   "source": [
    "Es un método abierto que sigue un esquema iterativo de la forma:\n",
    "\n",
    "$$x^{(k+1)} = x^{(k)} - \\frac{f(x^{(k)})}{f'(x^{(k)})}$$\n",
    "\n",
    "requiere un punto inicial $x^{(0)}$ y converge si se cumplen condiciones descritas en {ref}`comentarios del método de Newton-Raphson <COMENTMETNEWTONRAPSHON>`."
   ]
  },
  {
   "cell_type": "markdown",
   "metadata": {},
   "source": [
    "Existen varias formas de obtener tal esquema iterativo, la que se presenta a continuación **define un modelo afín local que aproxima a nuestra función $f$ y encuentra la raíz de tal modelo**, gráficamente:"
   ]
  },
  {
   "cell_type": "markdown",
   "metadata": {},
   "source": [
    "<img src=\"https://dl.dropboxusercontent.com/s/hw6fluifowjnpdo/Newton-Raphson_method.png?dl=0\" heigth=\"600\" width=\"600\">"
   ]
  },
  {
   "cell_type": "markdown",
   "metadata": {},
   "source": [
    "El modelo afín en el dibujo anterior es de la forma:\n",
    "\n",
    "$$M(x) = f(x^{(k)}) + f'(x^{(k)})(x-x^{(k)})$$"
   ]
  },
  {
   "cell_type": "markdown",
   "metadata": {},
   "source": [
    "E igualando a cero el modelo se tiene:\n",
    "\n",
    "$$\n",
    "\\begin{eqnarray}\n",
    "0 &=& M(x) = f(x^{(k)}) + f'(x^{(k)})(x-x^{(k)}) \\nonumber \\\\\n",
    "&\\therefore& x = x^{(k)} - \\frac{f(x^{(k)})}{f'(x^{(k)})} \\nonumber\n",
    "\\end{eqnarray}\n",
    "$$"
   ]
  },
  {
   "cell_type": "markdown",
   "metadata": {},
   "source": [
    "```{admonition} Observación\n",
    ":class: tip\n",
    "\n",
    "Obsérvese que el modelo afín anterior $M(x)$ es la aproximación a primer orden dada por el teorema de Taylor.\n",
    "\n",
    "```"
   ]
  },
  {
   "cell_type": "markdown",
   "metadata": {},
   "source": [
    "### Ejemplo"
   ]
  },
  {
   "cell_type": "markdown",
   "metadata": {},
   "source": [
    "Encontrar la raíz de $f(x) = 4x + 5$ con el método de Newton."
   ]
  },
  {
   "cell_type": "code",
   "execution_count": 1,
   "metadata": {},
   "outputs": [],
   "source": [
    "import sympy "
   ]
  },
  {
   "cell_type": "markdown",
   "metadata": {},
   "source": [
    "```{margin}\n",
    "\n",
    "Elección del punto inicial.\n",
    "\n",
    "```"
   ]
  },
  {
   "cell_type": "code",
   "execution_count": 2,
   "metadata": {},
   "outputs": [],
   "source": [
    "x_0 = -2"
   ]
  },
  {
   "cell_type": "markdown",
   "metadata": {},
   "source": [
    "```{margin}\n",
    "\n",
    "Definición de función.\n",
    "```"
   ]
  },
  {
   "cell_type": "code",
   "execution_count": 3,
   "metadata": {},
   "outputs": [],
   "source": [
    "x = sympy.Symbol('x')"
   ]
  },
  {
   "cell_type": "code",
   "execution_count": 4,
   "metadata": {},
   "outputs": [],
   "source": [
    "f = 4*x + 5"
   ]
  },
  {
   "cell_type": "markdown",
   "metadata": {},
   "source": [
    "```{margin}\n",
    "\n",
    "Derivada de $f$.\n",
    "\n",
    "```"
   ]
  },
  {
   "cell_type": "code",
   "execution_count": 5,
   "metadata": {},
   "outputs": [],
   "source": [
    "df = f.diff()"
   ]
  },
  {
   "cell_type": "code",
   "execution_count": 6,
   "metadata": {},
   "outputs": [
    {
     "name": "stdout",
     "output_type": "stream",
     "text": [
      "4\n"
     ]
    }
   ],
   "source": [
    "sympy.pprint(df)"
   ]
  },
  {
   "cell_type": "markdown",
   "metadata": {},
   "source": [
    "```{margin}\n",
    "\n",
    "Actualización por el método de Newton: $x_1 = x_0 - \\frac{f(x_0)}{f'(x_0)}$.\n",
    "\n",
    "```"
   ]
  },
  {
   "cell_type": "code",
   "execution_count": 7,
   "metadata": {},
   "outputs": [],
   "source": [
    "x_1 = x_0 - f.subs(x, x_0)/df.subs(x, x_0)"
   ]
  },
  {
   "cell_type": "code",
   "execution_count": 8,
   "metadata": {},
   "outputs": [
    {
     "name": "stdout",
     "output_type": "stream",
     "text": [
      "-5/4\n"
     ]
    }
   ],
   "source": [
    "sympy.pprint(x_1)"
   ]
  },
  {
   "cell_type": "markdown",
   "metadata": {},
   "source": [
    "### Ejemplo\n",
    "\n",
    "Aproximar el valor $\\sqrt{3}$ con el método de Newton"
   ]
  },
  {
   "cell_type": "markdown",
   "metadata": {},
   "source": [
    "```{margin}\n",
    "\n",
    "Elección del punto inicial. ¿Qué pasa si elegimos $x_0 = -10$?\n",
    "\n",
    "```"
   ]
  },
  {
   "cell_type": "code",
   "execution_count": 9,
   "metadata": {},
   "outputs": [],
   "source": [
    "x_0 = 10"
   ]
  },
  {
   "cell_type": "markdown",
   "metadata": {},
   "source": [
    "```{margin}\n",
    "\n",
    "Definimos la función $f(x) = x^2 - 3$\n",
    "\n",
    "```"
   ]
  },
  {
   "cell_type": "code",
   "execution_count": 10,
   "metadata": {},
   "outputs": [],
   "source": [
    "x_sym = sympy.Symbol('x')"
   ]
  },
  {
   "cell_type": "code",
   "execution_count": 11,
   "metadata": {},
   "outputs": [],
   "source": [
    "f = x_sym**2 - 3"
   ]
  },
  {
   "cell_type": "markdown",
   "metadata": {},
   "source": [
    "```{margin}\n",
    "\n",
    "Derivada de $f$.\n",
    "\n",
    "```"
   ]
  },
  {
   "cell_type": "code",
   "execution_count": 12,
   "metadata": {},
   "outputs": [],
   "source": [
    "df = f.diff()"
   ]
  },
  {
   "cell_type": "code",
   "execution_count": 13,
   "metadata": {},
   "outputs": [
    {
     "name": "stdout",
     "output_type": "stream",
     "text": [
      "2⋅x\n"
     ]
    }
   ],
   "source": [
    "sympy.pprint(df)"
   ]
  },
  {
   "cell_type": "markdown",
   "metadata": {},
   "source": [
    "**Primera iteración**"
   ]
  },
  {
   "cell_type": "markdown",
   "metadata": {},
   "source": [
    "```{margin}\n",
    "\n",
    "Actualización por el método de Newton: $x_1 = x_0 - \\frac{f(x_0)}{f'(x_0)}$.\n",
    "\n",
    "```"
   ]
  },
  {
   "cell_type": "code",
   "execution_count": 14,
   "metadata": {},
   "outputs": [],
   "source": [
    "x = x_0 - f.subs(x_sym, x_0)/df.subs(x_sym, x_0)"
   ]
  },
  {
   "cell_type": "code",
   "execution_count": 15,
   "metadata": {},
   "outputs": [
    {
     "name": "stdout",
     "output_type": "stream",
     "text": [
      "103\n",
      "───\n",
      " 20\n"
     ]
    }
   ],
   "source": [
    "sympy.pprint(x)"
   ]
  },
  {
   "cell_type": "code",
   "execution_count": 16,
   "metadata": {},
   "outputs": [
    {
     "name": "stdout",
     "output_type": "stream",
     "text": [
      "5.15000000000000\n"
     ]
    }
   ],
   "source": [
    "sympy.pprint(x.evalf())"
   ]
  },
  {
   "cell_type": "markdown",
   "metadata": {},
   "source": [
    "**Segunda iteración**"
   ]
  },
  {
   "cell_type": "markdown",
   "metadata": {},
   "source": [
    "```{margin}\n",
    "\n",
    "Actualización por el método de Newton: $x_2 = x_1 - \\frac{f(x_1)}{f'(x_1)}$.\n",
    "\n",
    "```"
   ]
  },
  {
   "cell_type": "code",
   "execution_count": 17,
   "metadata": {},
   "outputs": [],
   "source": [
    "x = x - f.subs(x_sym, x)/df.subs(x_sym, x)"
   ]
  },
  {
   "cell_type": "code",
   "execution_count": 18,
   "metadata": {},
   "outputs": [
    {
     "name": "stdout",
     "output_type": "stream",
     "text": [
      "11809\n",
      "─────\n",
      " 4120\n"
     ]
    }
   ],
   "source": [
    "sympy.pprint(x)"
   ]
  },
  {
   "cell_type": "code",
   "execution_count": 19,
   "metadata": {},
   "outputs": [
    {
     "name": "stdout",
     "output_type": "stream",
     "text": [
      "2.86626213592233\n"
     ]
    }
   ],
   "source": [
    "sympy.pprint(x.evalf())"
   ]
  },
  {
   "cell_type": "markdown",
   "metadata": {},
   "source": [
    "**Tercera iteración**"
   ]
  },
  {
   "cell_type": "markdown",
   "metadata": {},
   "source": [
    "```{margin}\n",
    "\n",
    "Actualización por el método de Newton: $x_3 = x_2 - \\frac{f(x_2)}{f'(x_2)}$.\n",
    "\n",
    "```"
   ]
  },
  {
   "cell_type": "code",
   "execution_count": 20,
   "metadata": {},
   "outputs": [],
   "source": [
    "x = x - f.subs(x_sym, x)/df.subs(x_sym, x)"
   ]
  },
  {
   "cell_type": "code",
   "execution_count": 21,
   "metadata": {},
   "outputs": [
    {
     "name": "stdout",
     "output_type": "stream",
     "text": [
      "190375681\n",
      "─────────\n",
      " 97306160\n"
     ]
    }
   ],
   "source": [
    "sympy.pprint(x)"
   ]
  },
  {
   "cell_type": "code",
   "execution_count": 22,
   "metadata": {},
   "outputs": [
    {
     "name": "stdout",
     "output_type": "stream",
     "text": [
      "1.95646073177690\n"
     ]
    }
   ],
   "source": [
    "sympy.pprint(x.evalf())"
   ]
  },
  {
   "cell_type": "markdown",
   "metadata": {},
   "source": [
    "**...**"
   ]
  },
  {
   "cell_type": "markdown",
   "metadata": {},
   "source": [
    "**Séptima iteración**"
   ]
  },
  {
   "cell_type": "code",
   "execution_count": 23,
   "metadata": {},
   "outputs": [],
   "source": [
    "x_7 = 1.73205080756888"
   ]
  },
  {
   "cell_type": "code",
   "execution_count": 24,
   "metadata": {},
   "outputs": [],
   "source": [
    "from pytest import approx\n",
    "import math"
   ]
  },
  {
   "cell_type": "code",
   "execution_count": 25,
   "metadata": {},
   "outputs": [
    {
     "name": "stdout",
     "output_type": "stream",
     "text": [
      "True\n"
     ]
    }
   ],
   "source": [
    "print(x_7 == approx(math.sqrt(3)))"
   ]
  },
  {
   "cell_type": "markdown",
   "metadata": {},
   "source": [
    "(COMENTMETNEWTONRAPSHON)="
   ]
  },
  {
   "cell_type": "markdown",
   "metadata": {},
   "source": [
    "```{admonition} Comentarios\n",
    "\n",
    "* El modelo afín anterior $M(x) = f(x^{(k)}) + f'(x^{(k)})(x-x^{(k)})$ es también nombrado modelo lineal.\n",
    "\n",
    "* Si la función $f$ es lineal el método de Newton converge en una iteración.\n",
    "\n",
    "* La convergencia del método de Newton en una dimensión converge de forma cuadrática, esto es, el número de dígitos de precisión en cada iteración se duplica si se satisfacen las siguientes condiciones:\n",
    "\n",
    "    * El punto inicial $x^{(0)}$ es cercano a la raíz $x^*$ de $f$.\n",
    "    * $f'(x^*) \\neq 0$ y existe un conjunto abierto $\\mathcal{D}$ en el que $f'(x) \\neq 0$ $\\forall x \\in \\mathcal{D}$, $x^* \\in \\mathcal{D}$ y la segunda derivada de $f$ es acotada\\*.\n",
    "\n",
    "\\* La segunda condición referente a la segunda derivada puede ser sustituida por la condición que la primera derivada sea *Lipschitz* continua, ver [Lipschitz_continuity](https://en.wikipedia.org/wiki/Lipschitz_continuity) que ayuda a acotar la diferencia entre $f$ y el modelo afín $M$. Nos ayuda a no calcular la segunda derivada (que en más dimensiones puede ser complicada de describir) para verificar convergencia.\n",
    "\n",
    "\n",
    "```"
   ]
  },
  {
   "cell_type": "markdown",
   "metadata": {},
   "source": [
    "```{admonition} Observaciones\n",
    ":class: tip\n",
    "\n",
    "* Si la derivada de $f$ es cero en la raíz no podemos concluir si el método de Newton converge o no y si converge podría o no hacerlo de forma cuadrática.\n",
    "\n",
    "* Si elegimos un punto inicial lejos de $x^*$ no podemos concluir, el método de Newton podría o no converger.\n",
    "\n",
    "```"
   ]
  },
  {
   "cell_type": "markdown",
   "metadata": {},
   "source": [
    "## Método de Newton para ecuaciones no lineales de funciones $f: \\mathbb{R}^n \\rightarrow \\mathbb{R}^n$"
   ]
  },
  {
   "cell_type": "markdown",
   "metadata": {},
   "source": [
    "```{admonition} Ejercicios\n",
    ":class: tip\n",
    "\n",
    "1.Resuelve los ejercicios y preguntas de la nota.\n",
    "```\n"
   ]
  },
  {
   "cell_type": "markdown",
   "metadata": {},
   "source": [
    "**Preguntas de comprehensión.**\n",
    "\n",
    "1)\n"
   ]
  },
  {
   "cell_type": "markdown",
   "metadata": {},
   "source": [
    "**Referencias:**\n",
    "\n",
    "1. C. Meyer, Matrix Analysis and Applied Linear Algebra, SIAM, 2000.\n",
    "\n",
    "2. R. Johansson, Numerical Python, Scientific Computing and Data Science Applications with Numpy, SciPy and Matplotlib, Apress, 2015.\n",
    "\n"
   ]
  }
 ],
 "metadata": {
  "kernelspec": {
   "display_name": "Python 3",
   "language": "python",
   "name": "python3"
  },
  "language_info": {
   "codemirror_mode": {
    "name": "ipython",
    "version": 3
   },
   "file_extension": ".py",
   "mimetype": "text/x-python",
   "name": "python",
   "nbconvert_exporter": "python",
   "pygments_lexer": "ipython3",
   "version": "3.7.3"
  }
 },
 "nbformat": 4,
 "nbformat_minor": 4
}
