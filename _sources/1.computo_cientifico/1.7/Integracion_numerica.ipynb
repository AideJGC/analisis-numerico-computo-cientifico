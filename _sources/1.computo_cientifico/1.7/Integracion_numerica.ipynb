{
 "cells": [
  {
   "cell_type": "markdown",
   "metadata": {},
   "source": [
    "(IN)="
   ]
  },
  {
   "cell_type": "markdown",
   "metadata": {},
   "source": [
    "# 1.7 Integración Numérica"
   ]
  },
  {
   "cell_type": "markdown",
   "metadata": {},
   "source": [
    "```{admonition} Notas para contenedor de docker:\n",
    "\n",
    "Comando de docker para ejecución de la nota de forma local:\n",
    "\n",
    "nota: cambiar `<ruta a mi directorio>` por la ruta de directorio que se desea mapear a `/datos` dentro del contenedor de docker y `<versión imagen de docker>` por la versión más actualizada que se presenta en la documentación.\n",
    "\n",
    "`docker run --rm -v <ruta a mi directorio>:/datos --name jupyterlab_optimizacion -p 8888:8888 -d palmoreck/jupyterlab_optimizacion:<versión imagen de docker>`\n",
    "\n",
    "password para jupyterlab: `qwerty`\n",
    "\n",
    "Detener el contenedor de docker:\n",
    "\n",
    "`docker stop jupyterlab_optimizacion`\n",
    "\n",
    "Documentación de la imagen de docker `palmoreck/jupyterlab_optimizacion:<versión imagen de docker>` en [liga](https://github.com/palmoreck/dockerfiles/tree/master/jupyterlab/optimizacion).\n",
    "\n",
    "```"
   ]
  },
  {
   "cell_type": "markdown",
   "metadata": {},
   "source": [
    "---"
   ]
  },
  {
   "cell_type": "markdown",
   "metadata": {},
   "source": [
    "Nota generada a partir de la [liga1](https://www.dropbox.com/s/jfrxanjls8kndjp/Diferenciacion_e_Integracion.pdf?dl=0) y [liga2](https://www.dropbox.com/s/k3y7h9yn5d3yf3t/Integracion_por_Monte_Carlo.pdf?dl=0)."
   ]
  },
  {
   "cell_type": "markdown",
   "metadata": {},
   "source": [
    "```{admonition} Al final de esta nota el y la lectora:\n",
    ":class: tip\n",
    "\n",
    "* Aprenderá que el método de integración numérica es un método estable numéricamente respecto al redondeo.\n",
    "\n",
    "* Aprenderá a aproximar integrales de forma numérica por el método de Monte Carlo y tendrá una alternativa a los métodos por Newton-Cotes para el caso de más de una dimensión.\n",
    "\n",
    "* Los métodos revisados en esta nota de integración numérica serán utilizados más adelante para revisión de herramientas en Python de **perfilamiento de código: uso de cpu y memoria**. También serán referidos en el capítulo de **cómputo en paralelo**.\n",
    "\n",
    "```"
   ]
  },
  {
   "cell_type": "markdown",
   "metadata": {},
   "source": [
    "En lo siguiente consideramos que las funciones del integrando están en $\\mathcal{C}^2$ en el conjunto de integración (ver {ref}`Definición de función, continuidad y derivada <FCD>` para definición de $\\mathcal{C}^2$)."
   ]
  },
  {
   "cell_type": "markdown",
   "metadata": {},
   "source": [
    "Las reglas o métodos por cuadratura nos ayudan a aproximar integrales con sumas de la forma:"
   ]
  },
  {
   "cell_type": "markdown",
   "metadata": {},
   "source": [
    "$$\\displaystyle \\int_a^bf(x)dx \\approx \\displaystyle \\sum_{i=0}^nw_if(x_i)$$"
   ]
  },
  {
   "cell_type": "markdown",
   "metadata": {},
   "source": [
    "donde: $w_i$ es el **peso** para el **nodo** $x_i$, $f$ se llama integrando y $[a,b]$ intervalo de integración. Los valores $f(x_i)$ se asumen conocidos.\n",
    "\n",
    "Una gran cantidad de reglas o métodos por cuadratura se obtienen con interpoladores polinomiales del integrando (por ejemplo usando la representación de Lagrange) o también con el teorema Taylor (ver nota {ref}`Polinomios de Taylor y diferenciación numérica <PTDN>` para éste teorema)."
   ]
  },
  {
   "cell_type": "markdown",
   "metadata": {},
   "source": [
    "Se realizan aproximaciones numéricas por:\n",
    "* Desconocimiento de la función en todo el intervalo $[a,b]$ y sólo se conoce en los nodos su valor.\n",
    "* Inexistencia de antiderivada o primitiva del integrando. Por ejemplo: "
   ]
  },
  {
   "cell_type": "markdown",
   "metadata": {},
   "source": [
    "$$\\displaystyle \\int_a^be^{-\\frac{x^2}{2}}dx$$"
   ]
  },
  {
   "cell_type": "markdown",
   "metadata": {},
   "source": [
    "con $a,b$ números reales."
   ]
  },
  {
   "cell_type": "markdown",
   "metadata": {},
   "source": [
    "```{admonition} Observación\n",
    ":class: tip\n",
    "\n",
    "Si existe antiderivada o primitiva del integrando puede usarse el cómputo simbólico o algebraico para obtener el resultado de la integral y evaluarse. Un paquete de Python que nos ayuda a lo anterior es [SymPy](https://www.sympy.org/en/index.html).\n",
    "```"
   ]
  },
  {
   "cell_type": "markdown",
   "metadata": {},
   "source": [
    "Dependiendo de la ubicación de los nodos y pesos es el método de cuadratura que resulta:\n",
    "\n",
    "* Newton-Cotes si los nodos y pesos son equidistantes como la regla del rectángulo, trapecio y Simpson (con el teorema de Taylor o interpolación es posible obtener tales fórmulas).\n",
    "* Cuadratura Gaussiana si se desea obtener reglas o fórmulas que tengan la mayor exactitud posible (los nodos y pesos se eligen para cumplir con lo anterior). Ejemplos de este tipo de cuadratura se tiene la regla por cuadratura Gauss-Legendre en $[-1,1]$ (que usa [polinomos de Legendre](https://en.wikipedia.org/wiki/Legendre_polynomials)) o Gauss-Hermite (que usa [polinomios de Hermite](https://en.wikipedia.org/wiki/Hermite_polynomials)) para el caso de integrales en $[-\\infty, \\infty]$ con integrando $e^{-x^2}f(x)$."
   ]
  },
  {
   "cell_type": "markdown",
   "metadata": {},
   "source": [
    "```{margin}\n",
    "\n",
    "En este dibujo se muestra que puede subdivirse el intervalo de integración en una mayor cantidad de subintervalos, lo cual para la función $f$ mostrada es benéfico pues se tiene mejor aproximación (¿en la práctica esto será bueno? recuérdese los errores de redondeo de la nota {ref}`Sistema de punto flotante <SPF>`). \n",
    "\n",
    "```"
   ]
  },
  {
   "cell_type": "markdown",
   "metadata": {},
   "source": [
    "<img src=\"https://dl.dropboxusercontent.com/s/baf7eauuwm347zk/integracion_numerica.png?dl=0\" heigth=\"500\" width=\"500\">"
   ]
  },
  {
   "cell_type": "markdown",
   "metadata": {},
   "source": [
    "En el dibujo: a),b) y c) se integra numéricamente por Newton-Cotes. d) es por cuadratura Gaussiana.\n"
   ]
  },
  {
   "cell_type": "markdown",
   "metadata": {},
   "source": [
    "```{admonition} Observación\n",
    ":class: tip\n",
    "\n",
    "Si la fórmula por Newton-Cotes involucra el valor de la función en los extremos se nombra cerrada, si no los involucra se les nombra abiertas. En el dibujo d) es abierta.\n",
    "```"
   ]
  },
  {
   "cell_type": "markdown",
   "metadata": {},
   "source": [
    "```{admonition} Definición\n",
    "\n",
    "Los métodos que utilizan la idea anterior de dividir en subintervalos se les conoce como **métodos de integración numérica compuestos** en contraste con los simples:\n",
    "\n",
    "Para las reglas compuestas se divide el intervalo $[a,b]$ en $n_\\text{sub}$ subinteralos $[a_{i-1},a_i], i=1,\\dots,n_\\text{sub}$ con $a_0=a<a_1<\\dots<a_{n_\\text{sub}-1}<a_{n_\\text{sub}}=b$ y se considera una partición regular, esto es: $a_i-a_{i-1}=\\hat{h}$ con $\\hat{h}=\\frac{h}{n_\\text{sub}}$ y $h=b-a$. En este contexto se realiza la aproximación:\n",
    "\n",
    "$$\\displaystyle \\int_a^bf(x)dx = \\sum_{i=1}^{n_\\text{sub}}\\int_{a_{i-1}}^{a_i}f(x)dx.$$\n",
    "```"
   ]
  },
  {
   "cell_type": "markdown",
   "metadata": {},
   "source": [
    "```{admonition} Comentario\n",
    "\n",
    "Los métodos de integración numérica por Newton-Cotes o cuadratura Gaussiana pueden extenderse a más dimensiones, sin embargo incurren en lo que se conoce como la **maldición de la dimensionalidad** que para el caso de integración numérica consiste en la gran cantidad de evaluaciones que deben realizarse de la función del integrando para tener una exactitud pequeña. Por ejemplo con un número de nodos igual a $10^4$, una distancia entre ellos de $.1$ y una integral en $4$ dimensiones para la regla por Newton Cotes del rectángulo, se obtiene una exactitud de $2$ dígitos. Como alternativa a los métodos por cuadratura anteriores para las integrales de más dimensiones se tienen los {ref}`métodos de integración por el método Monte Carlo <IMC>` que generan aproximaciones con una exactitud moderada (del orden de $\\mathcal{O}(n^{-1/2})$ con $n$ número de nodos) para un número de puntos moderado **independiente** de la dimensión.\n",
    "```"
   ]
  },
  {
   "cell_type": "markdown",
   "metadata": {},
   "source": [
    "## Newton-Cotes"
   ]
  },
  {
   "cell_type": "markdown",
   "metadata": {},
   "source": [
    "Si los nodos $x_i, i=0,1,\\dots,$ cumplen $x_{i+1}-x_i=h, \\forall i=0,1,\\dots,$ con $h$ (espaciado) constante y se aproxima la función del integrando $f$ con un polinomio en $(x_i,f(x_i)) \\forall i=0,1,\\dots,$ entonces se tiene un método de integración numérica por Newton-Cotes (o reglas o fórmulas por Newton-Cotes)."
   ]
  },
  {
   "cell_type": "markdown",
   "metadata": {},
   "source": [
    "## Ejemplo de una integral que no tiene antiderivada"
   ]
  },
  {
   "cell_type": "markdown",
   "metadata": {},
   "source": [
    "En las siguientes reglas se considerará la función $f(x)=e^{-x^2}$ la cual tiene una forma:"
   ]
  },
  {
   "cell_type": "code",
   "execution_count": 1,
   "metadata": {},
   "outputs": [],
   "source": [
    "import math\n",
    "\n",
    "import numpy as np\n",
    "import pandas as pd\n",
    "from scipy.integrate import quad\n",
    "import matplotlib.pyplot as plt"
   ]
  },
  {
   "cell_type": "code",
   "execution_count": 2,
   "metadata": {},
   "outputs": [],
   "source": [
    "f=lambda x: np.exp(-x**2)"
   ]
  },
  {
   "cell_type": "code",
   "execution_count": 3,
   "metadata": {},
   "outputs": [
    {
     "data": {
      "image/png": "[encoded data removed]",
      "text/plain": [
       "<Figure size 432x288 with 1 Axes>"
      ]
     },
     "metadata": {
      "needs_background": "light"
     },
     "output_type": "display_data"
    }
   ],
   "source": [
    "x=np.arange(-1,1,.01)\n",
    "plt.plot(x,f(x))\n",
    "plt.title('f(x)=exp(-x^2)')\n",
    "plt.show()"
   ]
  },
  {
   "cell_type": "markdown",
   "metadata": {},
   "source": [
    "El valor de la integral $\\int_0^1e^{-x^2}dx$ es:"
   ]
  },
  {
   "cell_type": "code",
   "execution_count": 4,
   "metadata": {},
   "outputs": [],
   "source": [
    "obj, err = quad(f, 0, 1)"
   ]
  },
  {
   "cell_type": "code",
   "execution_count": 5,
   "metadata": {},
   "outputs": [
    {
     "name": "stdout",
     "output_type": "stream",
     "text": [
      "(0.7468241328124271, 8.291413475940725e-15)\n"
     ]
    }
   ],
   "source": [
    "print((obj,err))"
   ]
  },
  {
   "cell_type": "markdown",
   "metadata": {},
   "source": [
    "```{admonition} Observación \n",
    ":class: tip \n",
    "\n",
    "El segundo valor regresado `err`, es una cota superior del error.\n",
    "```"
   ]
  },
  {
   "cell_type": "markdown",
   "metadata": {},
   "source": [
    "## Regla simple del rectángulo"
   ]
  },
  {
   "cell_type": "markdown",
   "metadata": {},
   "source": [
    "Denotaremos a esta regla como $Rf$. En este caso se aproxima el integrando $f$ por un polinomio de grado **cero** con nodo en $x_1 = \\frac{a+b}{2}$. Entonces: \n",
    "\n",
    "$$\\displaystyle \\int_a^bf(x)dx \\approx \\int_a^bf(x_1)dx = (b-a)f(x_1)=(b-a)f\\left( \\frac{a+b}{2} \\right ) = hf(x_1)$$\n",
    "\n",
    "con $h=b-a, x_1=\\frac{a+b}{2}$.\n"
   ]
  },
  {
   "cell_type": "markdown",
   "metadata": {},
   "source": [
    "<img src=\"https://dl.dropboxusercontent.com/s/mzlmnvgnltqamz3/rectangulo_simple.png?dl=0\" heigth=\"200\" width=\"200\">\n"
   ]
  },
  {
   "cell_type": "markdown",
   "metadata": {},
   "source": [
    "### Ejemplo de implementación de regla simple de rectángulo: usando math"
   ]
  },
  {
   "cell_type": "markdown",
   "metadata": {},
   "source": [
    "Utilizar la regla simple del rectángulo para aproximar la integral $\\displaystyle \\int_0^1e^{-x^2}dx$."
   ]
  },
  {
   "cell_type": "code",
   "execution_count": 6,
   "metadata": {},
   "outputs": [],
   "source": [
    "f=lambda x: math.exp(-x**2) #using math library"
   ]
  },
  {
   "cell_type": "code",
   "execution_count": 7,
   "metadata": {},
   "outputs": [],
   "source": [
    "def Rf(f,a,b):\n",
    "    \"\"\"\n",
    "    Compute numerical approximation using simple rectangle or midpoint method in \n",
    "    an interval.\n",
    "    \"\"\"\n",
    "    node=a+(b-a)/2.0 #mid point formula to minimize rounding errors\n",
    "    return f(node) #zero degree polynomial"
   ]
  },
  {
   "cell_type": "code",
   "execution_count": 8,
   "metadata": {},
   "outputs": [],
   "source": [
    "rf_simple = Rf(f,0,1)"
   ]
  },
  {
   "cell_type": "code",
   "execution_count": 9,
   "metadata": {},
   "outputs": [
    {
     "name": "stdout",
     "output_type": "stream",
     "text": [
      "0.7788007830714049\n"
     ]
    }
   ],
   "source": [
    "print(rf_simple)"
   ]
  },
  {
   "cell_type": "markdown",
   "metadata": {},
   "source": [
    "```{admonition} Observación\n",
    ":class: tip\n",
    "\n",
    "Para cualquier aproximación calculada siempre es una muy buena idea reportar el error relativo de la aproximación si tenemos el valor del objetivo. No olvidar esto :)\n",
    "\n",
    "```"
   ]
  },
  {
   "cell_type": "markdown",
   "metadata": {},
   "source": [
    "**Para el cálculo del error utilizamos {ref}`fórmulas para calcular errores absolutos y relativos <FORERRABSERRREL>`:**\n",
    "\n",
    "$$\\text{ErrRel(aprox)} = \\frac{|\\text{aprox}-\\text{obj}|}{|\\text{obj}|}$$"
   ]
  },
  {
   "cell_type": "markdown",
   "metadata": {},
   "source": [
    "**La siguiente función calcula un error relativo para un valor `obj`:** "
   ]
  },
  {
   "cell_type": "code",
   "execution_count": 10,
   "metadata": {},
   "outputs": [],
   "source": [
    "def compute_error(obj,approx):\n",
    "    '''\n",
    "    Relative or absolute error between obj and approx.\n",
    "    '''\n",
    "    if math.fabs(obj) > np.finfo(float).eps:\n",
    "        Err = math.fabs(obj-approx)/math.fabs(obj)\n",
    "    else:\n",
    "        Err = math.fabs(obj-approx)\n",
    "    return Err"
   ]
  },
  {
   "cell_type": "code",
   "execution_count": 11,
   "metadata": {},
   "outputs": [
    {
     "name": "stdout",
     "output_type": "stream",
     "text": [
      "0.04281684114646715\n"
     ]
    }
   ],
   "source": [
    "print(compute_error(obj, rf_simple))"
   ]
  },
  {
   "cell_type": "markdown",
   "metadata": {},
   "source": [
    "**El error relativo es de $4.2\\%$ aproximadamente.**"
   ]
  },
  {
   "cell_type": "markdown",
   "metadata": {},
   "source": [
    "## Regla compuesta del rectángulo"
   ]
  },
  {
   "cell_type": "markdown",
   "metadata": {},
   "source": [
    "En cada subintervalo construído como $[a_{i-1},a_i]$ con $i=1,\\dots,n_{\\text{sub}}$ se aplica la regla simple $Rf$, esto es:\n",
    "\n",
    "$$\\displaystyle \\int_{a_{i-1}}^{a_i}f(x)dx \\approx R_i(f) \\forall i=1,\\dots,n_{\\text{sub}}.$$"
   ]
  },
  {
   "cell_type": "markdown",
   "metadata": {},
   "source": [
    "De forma sencilla se puede ver que la regla compuesta del rectángulo $R_c(f)$ se escribe:\n",
    "\n",
    "$$\\begin{eqnarray}\n",
    "R_c(f) &=& \\displaystyle \\sum_{i=1}^{n_\\text{sub}}(a_i-a_{i-1})f\\left( \\frac{a_i+a_{i-1}}{2}\\right) \\nonumber\\\\\n",
    "&=& \\frac{h}{n_\\text{sub}}\\sum_{i=1}^{n_\\text{sub}}f\\left( \\frac{a_i+a_{i-1}}{2}\\right) \\nonumber\\\\\n",
    "&=&\\frac{h}{n_\\text{sub}}\\sum_{i=1}^{n_\\text{sub}}f\\left( x_i\\right) \\nonumber\n",
    "\\end{eqnarray}\n",
    "$$\n",
    "\n",
    "con $h=b-a$ y $n_\\text{sub}$ número de subintervalos."
   ]
  },
  {
   "cell_type": "markdown",
   "metadata": {},
   "source": [
    "<img src=\"https://dl.dropboxusercontent.com/s/j2wmiyoms7gxrzp/rectangulo_compuesto.png?dl=0\" heigth=\"200\" width=\"200\">\n"
   ]
  },
  {
   "cell_type": "markdown",
   "metadata": {},
   "source": [
    "```{admonition} Observación\n",
    ":class: tip\n",
    "\n",
    "Los nodos para el caso del rectángulo se obtienen con la fórmula: $x_i = a +(i+\\frac{1}{2})\\hat{h}, \\forall i=0,\\dots,n_\\text{sub}-1, \\hat{h}=\\frac{h}{n_\\text{sub}}$. Por ejemplo si $a=1, b=2$ y $\\hat{h}=\\frac{1}{4}$ (por tanto $n_\\text{sub}=4$ subintervalos) entonces:\n",
    "\n",
    "Los subintervalos que tenemos son: $\\left[1,\\frac{5}{4}\\right], \\left[\\frac{5}{4}, \\frac{6}{4}\\right], \\left[\\frac{6}{4}, \\frac{7}{4}\\right]$ y $\\left[\\frac{7}{4}, 2\\right]$. \n",
    "\n",
    "\n",
    "Los nodos están dados por: \n",
    "\n",
    "$$x_0 = 1 + \\left(0 + \\frac{1}{2} \\right)\\frac{1}{4} = 1 + \\frac{1}{8} = \\frac{9}{8}$$\n",
    "\n",
    "$$x_1 = 1 + \\left(1 + \\frac{1}{2}\\right)\\frac{1}{4} = 1 + \\frac{3}{2}\\cdot \\frac{1}{4} = \\frac{11}{8}$$\n",
    "\n",
    "$$x_2 = 1 + \\left(2 + \\frac{1}{2}\\right)\\frac{1}{4} = 1 + \\frac{5}{8}\\cdot \\frac{1}{4} = \\frac{13}{8}$$\n",
    "\n",
    "$$x_3 = 1 + \\left(3 + \\frac{1}{2}\\right)\\frac{1}{4} = 1 + \\frac{7}{2}\\cdot \\frac{1}{4} = \\frac{15}{8}$$\n",
    "```"
   ]
  },
  {
   "cell_type": "markdown",
   "metadata": {},
   "source": [
    "```{admonition} Observación\n",
    ":class: tip\n",
    "\n",
    "Obsérvese que para el caso de la regla del rectángulo Rcf $n = n_\\text{sub}$ con $n$ número de nodos.\n",
    "\n",
    "```"
   ]
  },
  {
   "cell_type": "markdown",
   "metadata": {},
   "source": [
    "### Ejemplo de implementación de regla compuesta de rectángulo: usando math"
   ]
  },
  {
   "cell_type": "markdown",
   "metadata": {},
   "source": [
    "Utilizar la regla compuesta del rectángulo para aproximar la integral $\\int_0^1e^{-x^2}dx$."
   ]
  },
  {
   "cell_type": "code",
   "execution_count": 12,
   "metadata": {},
   "outputs": [],
   "source": [
    "f=lambda x: math.exp(-x**2) #using math library"
   ]
  },
  {
   "cell_type": "code",
   "execution_count": 13,
   "metadata": {},
   "outputs": [],
   "source": [
    "def Rcf(f,a,b,n):\n",
    "    \"\"\"\n",
    "    Compute numerical approximation using rectangle or mid-point\n",
    "    method in an interval.\n",
    "    Nodes are generated via formula: x_i = a+(i+1/2)h_hat for\n",
    "    i=0,1,...,n-1 and h_hat=(b-a)/n\n",
    "    Args:\n",
    "    \n",
    "        f (function): function expression of integrand.\n",
    "        \n",
    "        a (float): left point of interval.\n",
    "        \n",
    "        b (float): right point of interval.\n",
    "        \n",
    "        n (float): number of subintervals.\n",
    "        \n",
    "    Returns:\n",
    "    \n",
    "        sum_res (float): numerical approximation to integral\n",
    "            of f in the interval a,b\n",
    "    \"\"\"\n",
    "    h_hat=(b-a)/n\n",
    "    nodes=[a+(i+1/2)*h_hat for i in range(0,n)]\n",
    "    sum_res=0\n",
    "    for node in nodes:\n",
    "        sum_res=sum_res+f(node)\n",
    "    return h_hat*sum_res"
   ]
  },
  {
   "cell_type": "code",
   "execution_count": 14,
   "metadata": {},
   "outputs": [],
   "source": [
    "a = 0; b = 1"
   ]
  },
  {
   "cell_type": "markdown",
   "metadata": {},
   "source": [
    "**1 nodo**"
   ]
  },
  {
   "cell_type": "code",
   "execution_count": 15,
   "metadata": {},
   "outputs": [
    {
     "name": "stdout",
     "output_type": "stream",
     "text": [
      "0.7788007830714049\n"
     ]
    }
   ],
   "source": [
    "n = 1\n",
    "rcf_1 = Rcf(f,a, b, n)\n",
    "print(rcf_1)"
   ]
  },
  {
   "cell_type": "markdown",
   "metadata": {},
   "source": [
    "**2 nodos**"
   ]
  },
  {
   "cell_type": "code",
   "execution_count": 16,
   "metadata": {},
   "outputs": [
    {
     "name": "stdout",
     "output_type": "stream",
     "text": [
      "0.7545979437721995\n"
     ]
    }
   ],
   "source": [
    "n = 2\n",
    "rcf_2 = Rcf(f,a, b, n)\n",
    "print(rcf_2)"
   ]
  },
  {
   "cell_type": "markdown",
   "metadata": {},
   "source": [
    "**$10^3$ nodos**"
   ]
  },
  {
   "cell_type": "code",
   "execution_count": 17,
   "metadata": {},
   "outputs": [
    {
     "name": "stdout",
     "output_type": "stream",
     "text": [
      "0.746824163469049\n"
     ]
    }
   ],
   "source": [
    "n = 10**3\n",
    "rcf_3 = Rcf(f, a, b, n)\n",
    "print(rcf_3)"
   ]
  },
  {
   "cell_type": "markdown",
   "metadata": {},
   "source": [
    "**Errores relativos:**"
   ]
  },
  {
   "cell_type": "code",
   "execution_count": 18,
   "metadata": {},
   "outputs": [],
   "source": [
    "rel_err_rcf_1 = compute_error(obj, rcf_1)\n",
    "rel_err_rcf_2 = compute_error(obj, rcf_2)\n",
    "rel_err_rcf_3 = compute_error(obj, rcf_3)"
   ]
  },
  {
   "cell_type": "code",
   "execution_count": 19,
   "metadata": {},
   "outputs": [],
   "source": [
    "dic = {\"Aproximaciones Rcf\": [\n",
    "                              \"Rcf_1\",\n",
    "                              \"Rcf_2\",\n",
    "                              \"Rcf_3\"\n",
    "                              ],\n",
    "       \"Número de nodos\" : [\n",
    "                            1,\n",
    "                            2,\n",
    "                            1e3\n",
    "                            ],\n",
    "       \"Errores relativos\": [\n",
    "                             rel_err_rcf_1,\n",
    "                             rel_err_rcf_2,\n",
    "                             rel_err_rcf_3\n",
    "                            ]\n",
    "      }"
   ]
  },
  {
   "cell_type": "code",
   "execution_count": 20,
   "metadata": {},
   "outputs": [
    {
     "name": "stdout",
     "output_type": "stream",
     "text": [
      "  Aproximaciones Rcf  Número de nodos  Errores relativos\n",
      "0              Rcf_1              1.0       4.281684e-02\n",
      "1              Rcf_2              2.0       1.040916e-02\n",
      "2              Rcf_3           1000.0       4.104932e-08\n"
     ]
    }
   ],
   "source": [
    "print(pd.DataFrame(dic))"
   ]
  },
  {
   "cell_type": "markdown",
   "metadata": {},
   "source": [
    "### Comentario: `pytest`\n",
    "\n",
    "Otra forma de evaluar las aproximaciones realizadas es con módulos o paquetes de Python creados para este propósito en lugar de crear nuestras funciones como la de `compute_error`. Uno de estos es el paquete [pytest](https://docs.pytest.org/en/latest/) y la función [approx](https://docs.pytest.org/en/latest/reference.html#pytest-approx) de este paquete:"
   ]
  },
  {
   "cell_type": "code",
   "execution_count": 21,
   "metadata": {},
   "outputs": [],
   "source": [
    "from pytest import approx"
   ]
  },
  {
   "cell_type": "code",
   "execution_count": 22,
   "metadata": {},
   "outputs": [
    {
     "name": "stdout",
     "output_type": "stream",
     "text": [
      "False\n"
     ]
    }
   ],
   "source": [
    "print(rcf_1 == approx(obj))"
   ]
  },
  {
   "cell_type": "code",
   "execution_count": 23,
   "metadata": {},
   "outputs": [
    {
     "name": "stdout",
     "output_type": "stream",
     "text": [
      "False\n"
     ]
    }
   ],
   "source": [
    "print(rcf_2 == approx(obj))"
   ]
  },
  {
   "cell_type": "code",
   "execution_count": 24,
   "metadata": {},
   "outputs": [
    {
     "name": "stdout",
     "output_type": "stream",
     "text": [
      "True\n"
     ]
    }
   ],
   "source": [
    "print(rcf_3 == approx(obj))"
   ]
  },
  {
   "cell_type": "markdown",
   "metadata": {},
   "source": [
    "Y podemos usar un valor definido de tolerancia definido para hacer la prueba (por default se tiene una tolerancia de $10^{-6}$): "
   ]
  },
  {
   "cell_type": "code",
   "execution_count": 25,
   "metadata": {},
   "outputs": [
    {
     "name": "stdout",
     "output_type": "stream",
     "text": [
      "True\n"
     ]
    }
   ],
   "source": [
    "print(rcf_1 == approx(obj, abs=1e-1, rel=1e-1))"
   ]
  },
  {
   "cell_type": "markdown",
   "metadata": {},
   "source": [
    "### Pregunta\n",
    "\n",
    "**Será el método del rectángulo un método estable numéricamente bajo el redondeo?** Ver nota {ref}`Condición de un problema y estabilidad de un algoritmo <CPEA>` para definición de estabilidad numérica de un algoritmo.\n"
   ]
  },
  {
   "cell_type": "markdown",
   "metadata": {},
   "source": [
    "Para responder la pregunta anterior aproximamos la integral con más nodos: $10^5$ nodos"
   ]
  },
  {
   "cell_type": "code",
   "execution_count": 26,
   "metadata": {},
   "outputs": [
    {
     "name": "stdout",
     "output_type": "stream",
     "text": [
      "0.7468241328154887\n"
     ]
    }
   ],
   "source": [
    "n = 10**5\n",
    "rcf_4 = Rcf(f, a, b, n)\n",
    "print(rcf_4)"
   ]
  },
  {
   "cell_type": "code",
   "execution_count": 27,
   "metadata": {},
   "outputs": [
    {
     "name": "stdout",
     "output_type": "stream",
     "text": [
      "4.099426997862257e-12\n"
     ]
    }
   ],
   "source": [
    "print(compute_error(obj, rcf_4))"
   ]
  },
  {
   "cell_type": "markdown",
   "metadata": {},
   "source": [
    "Al menos para este ejemplo con $10^5$ nodos parece ser **numéricamente estable...**"
   ]
  },
  {
   "cell_type": "markdown",
   "metadata": {},
   "source": [
    "## Regla compuesta del trapecio"
   ]
  },
  {
   "cell_type": "markdown",
   "metadata": {},
   "source": [
    "En cada subintervalo se aplica la regla simple $Tf$, esto es:\n",
    "\n",
    "$$\\displaystyle \\int_{a_{i-1}}^{a_i}f(x)dx \\approx T_i(f) \\forall i=1,\\dots,n_\\text{sub}.$$"
   ]
  },
  {
   "cell_type": "markdown",
   "metadata": {},
   "source": [
    "Con $T_i(f) = \\frac{(a_i-a_{i-1})}{2}(f(a_i)+f(a_{i-1}))$ para $i=1,\\dots,n_\\text{sub}$."
   ]
  },
  {
   "cell_type": "markdown",
   "metadata": {},
   "source": [
    "De forma sencilla se puede ver que la regla compuesta del trapecio $T_c(f)$ se escribe como:\n",
    "\n",
    "$$T_c(f) = \\displaystyle \\frac{h}{2n_\\text{sub}}\\left[f(x_0)+f(x_{n_\\text{sub}})+2\\displaystyle\\sum_{i=1}^{n_\\text{sub}-1}f(x_i)\\right]$$\n",
    "\n",
    "con $h=b-a$ y $n_\\text{sub}$ número de subintervalos."
   ]
  },
  {
   "cell_type": "markdown",
   "metadata": {},
   "source": [
    "<img src=\"https://dl.dropboxusercontent.com/s/4dl2btndrftdorp/trapecio_compuesto.png?dl=0\" heigth=\"200\" width=\"200\">\n"
   ]
  },
  {
   "cell_type": "markdown",
   "metadata": {},
   "source": [
    "```{admonition} Observaciones\n",
    ":class: tip\n",
    "\n",
    "* Los nodos para el caso del trapecio se obtienen con la fórmula: $x_i = a +i\\hat{h}, \\forall i=0,\\dots,n_\\text{sub}, \\hat{h}=\\frac{h}{n_\\text{sub}}$.\n",
    "\n",
    "* Obsérvese que para el caso de la regla del trapecio Tcf $n = n_\\text{sub}+1$ con $n$ número de nodos.\n",
    "\n",
    "```"
   ]
  },
  {
   "cell_type": "markdown",
   "metadata": {},
   "source": [
    "### Ejemplo de implementación de regla compuesta del trapecio: usando numpy"
   ]
  },
  {
   "cell_type": "markdown",
   "metadata": {},
   "source": [
    "Con la regla compuesta del trapecio se aproximará la integral $\\int_0^1e^{-x^2}dx$. Se calculará el error relativo y  graficará $n_\\text{sub}$ vs Error relativo para $n_\\text{sub}=1,10,100,1000,10000$."
   ]
  },
  {
   "cell_type": "code",
   "execution_count": 28,
   "metadata": {},
   "outputs": [],
   "source": [
    "f=lambda x: np.exp(-x**2) #using numpy library"
   ]
  },
  {
   "cell_type": "code",
   "execution_count": 29,
   "metadata": {},
   "outputs": [],
   "source": [
    "def Tcf(n,f,a,b): #Tcf: trapecio compuesto para f\n",
    "    \"\"\"\n",
    "    Compute numerical approximation using trapezoidal method in \n",
    "    an interval.\n",
    "    Nodes are generated via formula: x_i = a+ih_hat for i=0,1,...,n and h_hat=(b-a)/n\n",
    "    Args:\n",
    "        f (function): function expression of integrand\n",
    "        a (float): left point of interval\n",
    "        b (float): right point of interval\n",
    "        n (float): number of subintervals\n",
    "    Returns:\n",
    "        sum_res (float): numerical approximation to integral of f in the interval a,b\n",
    "    \"\"\"\n",
    "    h=b-a\n",
    "    nodes=np.linspace(a,b,n+1)\n",
    "    sum_res=sum(f(nodes[1:-1]))\n",
    "    return h/(2*n)*(f(nodes[0])+f(nodes[-1])+2*sum_res)"
   ]
  },
  {
   "cell_type": "markdown",
   "metadata": {},
   "source": [
    "Graficamos:"
   ]
  },
  {
   "cell_type": "code",
   "execution_count": 30,
   "metadata": {},
   "outputs": [],
   "source": [
    "numb_of_subintervals=(1,10,100,1000,10000)"
   ]
  },
  {
   "cell_type": "code",
   "execution_count": 31,
   "metadata": {},
   "outputs": [],
   "source": [
    "tcf_approx = np.array([Tcf(n,f,0,1) for n in numb_of_subintervals])"
   ]
  },
  {
   "cell_type": "markdown",
   "metadata": {},
   "source": [
    "**Para el cálculo del error utilizamos {ref}`fórmulas para calcular errores absolutos y relativos <FORERRABSERRREL>`:**\n",
    "\n",
    "$$\\text{ErrRel(aprox)} = \\frac{|\\text{aprox}-\\text{obj}|}{|\\text{obj}|}$$"
   ]
  },
  {
   "cell_type": "markdown",
   "metadata": {},
   "source": [
    "**La siguiente función calcula un error relativo para un varios valores `obj`:** "
   ]
  },
  {
   "cell_type": "code",
   "execution_count": 32,
   "metadata": {},
   "outputs": [],
   "source": [
    "def compute_error_point_wise(obj,approx):\n",
    "    '''\n",
    "    Relative or absolute error between obj and approx.\n",
    "    '''\n",
    "    if np.abs(obj) > np.nextafter(0,1):\n",
    "        Err = np.abs(obj-approx)/np.abs(obj)\n",
    "    else:\n",
    "        Err = np.abs(obj-approx)\n",
    "    return Err"
   ]
  },
  {
   "cell_type": "code",
   "execution_count": 33,
   "metadata": {},
   "outputs": [],
   "source": [
    "relative_errors = compute_error_point_wise(obj, tcf_approx)"
   ]
  },
  {
   "cell_type": "code",
   "execution_count": 34,
   "metadata": {},
   "outputs": [
    {
     "name": "stdout",
     "output_type": "stream",
     "text": [
      "[8.42024373e-02 8.21259857e-04 8.20989064e-06 8.20986364e-08\n",
      " 8.20987410e-10]\n"
     ]
    }
   ],
   "source": [
    "print(relative_errors)"
   ]
  },
  {
   "cell_type": "code",
   "execution_count": 35,
   "metadata": {},
   "outputs": [
    {
     "data": {
      "image/png": "[encoded data removed]",
      "text/plain": [
       "<Figure size 432x288 with 1 Axes>"
      ]
     },
     "metadata": {
      "needs_background": "light"
     },
     "output_type": "display_data"
    }
   ],
   "source": [
    "plt.plot(numb_of_subintervals, relative_errors,'o')\n",
    "plt.xlabel('number of subintervals')\n",
    "plt.ylabel('Relative error')\n",
    "plt.title('Error relativo en la regla del Trapecio')\n",
    "plt.show()"
   ]
  },
  {
   "cell_type": "markdown",
   "metadata": {},
   "source": [
    "Si no nos interesa el valor de los errores relativos y sólo la gráfica podemos utilizar la siguiente opción:"
   ]
  },
  {
   "cell_type": "code",
   "execution_count": 36,
   "metadata": {},
   "outputs": [],
   "source": [
    "from functools import partial"
   ]
  },
  {
   "cell_type": "markdown",
   "metadata": {},
   "source": [
    "Ver [functools.partial](https://docs.python.org/2/library/functools.html#functools.partial) para documentación, [liga](https://stackoverflow.com/questions/15331726/how-does-functools-partial-do-what-it-does) para una explicación de `partial` y [liga2](https://stackoverflow.com/questions/10834960/how-to-do-multiple-arguments-to-map-function-where-one-remains-the-same-in-pytho), [liga3](https://stackoverflow.com/questions/47859209/how-to-map-over-a-function-with-multiple-arguments-in-python) para ejemplos de uso."
   ]
  },
  {
   "cell_type": "code",
   "execution_count": 37,
   "metadata": {},
   "outputs": [],
   "source": [
    "tcf_approx_2 = map(partial(Tcf,f=f,a=a,b=b),\n",
    "                   numb_of_subintervals) #map returns an iterator"
   ]
  },
  {
   "cell_type": "markdown",
   "metadata": {},
   "source": [
    "**Para el cálculo del error utilizamos {ref}`fórmulas para calcular errores absolutos y relativos <FORERRABSERRREL>`:**\n",
    "\n",
    "$$\\text{ErrRel(aprox)} = \\frac{|\\text{aprox}-\\text{obj}|}{|\\text{obj}|}$$"
   ]
  },
  {
   "cell_type": "markdown",
   "metadata": {},
   "source": [
    "**La siguiente función calcula un error relativo para un varios valores `obj`:** "
   ]
  },
  {
   "cell_type": "code",
   "execution_count": 38,
   "metadata": {},
   "outputs": [],
   "source": [
    "def compute_error_point_wise_2(obj, approx):\n",
    "    for ap in approx:\n",
    "        yield math.fabs(ap-obj)/math.fabs(obj) #using math library"
   ]
  },
  {
   "cell_type": "markdown",
   "metadata": {},
   "source": [
    "```{admonition} Observación\n",
    ":class: tip\n",
    "\n",
    "La función `compute_error_point_wise_2` anterior es un [generator](https://wiki.python.org/moin/Generators), ver [liga](https://stackoverflow.com/questions/231767/what-does-the-yield-keyword-do) para conocer el uso de `yield`.\n",
    "```"
   ]
  },
  {
   "cell_type": "code",
   "execution_count": 39,
   "metadata": {},
   "outputs": [],
   "source": [
    "relative_errors_2 = compute_error_point_wise_2(obj, tcf_approx_2)"
   ]
  },
  {
   "cell_type": "code",
   "execution_count": 40,
   "metadata": {},
   "outputs": [
    {
     "data": {
      "image/png": "[encoded data removed]",
      "text/plain": [
       "<Figure size 432x288 with 1 Axes>"
      ]
     },
     "metadata": {
      "needs_background": "light"
     },
     "output_type": "display_data"
    }
   ],
   "source": [
    "plt.plot(numb_of_subintervals,list(relative_errors_2),'o')\n",
    "plt.xlabel('number of subintervals')\n",
    "plt.ylabel('Relative error')\n",
    "plt.title('Error relativo en la regla del Trapecio')\n",
    "plt.show()"
   ]
  },
  {
   "cell_type": "markdown",
   "metadata": {},
   "source": [
    "**Otra forma con [scatter](https://matplotlib.org/3.3.0/api/_as_gen/matplotlib.pyplot.scatter.html):**"
   ]
  },
  {
   "cell_type": "code",
   "execution_count": 41,
   "metadata": {},
   "outputs": [],
   "source": [
    "tcf_approx_2 = map(partial(Tcf,f=f,a=a,b=b),\n",
    "                   numb_of_subintervals) #map returns an iterator"
   ]
  },
  {
   "cell_type": "code",
   "execution_count": 42,
   "metadata": {},
   "outputs": [],
   "source": [
    "relative_errors_2 = compute_error_point_wise_2(obj, tcf_approx_2)"
   ]
  },
  {
   "cell_type": "code",
   "execution_count": 43,
   "metadata": {},
   "outputs": [
    {
     "data": {
      "image/png": "[encoded data removed]",
      "text/plain": [
       "<Figure size 432x288 with 1 Axes>"
      ]
     },
     "metadata": {
      "needs_background": "light"
     },
     "output_type": "display_data"
    }
   ],
   "source": [
    "[plt.scatter(n,rel_err) for n,rel_err in zip(numb_of_subintervals,relative_errors_2)]\n",
    "plt.xlabel('number of subintervals')\n",
    "plt.ylabel('Relative error')\n",
    "plt.title('Error relativo en la regla del Trapecio')\n",
    "plt.show()"
   ]
  },
  {
   "cell_type": "markdown",
   "metadata": {},
   "source": [
    "## Regla compuesta de Simpson"
   ]
  },
  {
   "cell_type": "markdown",
   "metadata": {},
   "source": [
    "En cada subintervalo se aplica la regla simple $Sf$, esto es:\n",
    "\n",
    "$$\\displaystyle \\int_{a_{i-1}}^{a_i}f(x)dx \\approx S_i(f) \\forall i=1,\\dots,n_\\text{sub}$$\n",
    "\n",
    "con $S_i(f) = \\frac{h}{6}\\left[f(x_{2i})+f(x_{2i-2})+4f(x_{2i-1})\\right]$ para el subintervalo $[a_{i-1},a_i]$ con $i=1,\\dots,n_\\text{sub}$."
   ]
  },
  {
   "cell_type": "markdown",
   "metadata": {},
   "source": [
    "De forma sencilla se puede ver que la regla compuesta de Simpson compuesta $S_c(f)$ se escribe como:\n",
    "\n",
    "$$S_c(f) = \\displaystyle \\frac{h}{3(2n_\\text{sub})} \\left [ f(x_0) + f(x_{2n_\\text{sub}}) + 2 \\sum_{i=1}^{n_\\text{sub}-1}f(x_{2i}) + 4 \\sum_{i=1}^{n_\\text{sub}}f(x_{2i-1})\\right ]$$\n",
    "\n",
    "con $h=b-a$ y $n_\\text{sub}$ número de subintervalos."
   ]
  },
  {
   "cell_type": "markdown",
   "metadata": {},
   "source": [
    "<img src=\"https://dl.dropboxusercontent.com/s/8rx32vdtulpdflm/Simpson_compuesto.png?dl=0\" heigth=\"200\" width=\"200\">\n"
   ]
  },
  {
   "cell_type": "markdown",
   "metadata": {},
   "source": [
    "```{admonition} Observaciones\n",
    ":class: tip\n",
    "\n",
    "* Los nodos para el caso de Simpson se obtienen con la fórmula: $x_i = a +\\frac{i}{2}\\hat{h}, \\forall i=0,\\dots,2n, \\hat{h}=\\frac{h}{n_\\text{sub}}$.\n",
    "\n",
    "* Obsérvese que para el caso de la regla de Simpson Scf $n = 2n_\\text{sub}+1$ con $n$ número de nodos.\n",
    "\n",
    "\n",
    "```"
   ]
  },
  {
   "cell_type": "markdown",
   "metadata": {},
   "source": [
    "```{margin}\n",
    "\n",
    "En esta [liga](https://www.dropbox.com/s/qrbcs5n57kp5150/Simpson-6-subintervalos.pdf?dl=0) está un apoyo visual para la regla Scf.\n",
    "```"
   ]
  },
  {
   "cell_type": "markdown",
   "metadata": {},
   "source": [
    "```{admonition} Ejercicio\n",
    ":class: tip\n",
    "\n",
    "Implementar la regla compuesta de Simpson para aproximar la integral $\\int_0^1e^{-x^2}dx$. Calcular error relativo y realizar una gráfica de $n$ vs Error relativo para $n=1,10,100,1000,10000$ utilizando *Numpy* e `iterators`.\n",
    "```"
   ]
  },
  {
   "cell_type": "markdown",
   "metadata": {},
   "source": [
    "## Expresiones de los errores para las reglas compuestas del rectángulo, trapecio y Simpson"
   ]
  },
  {
   "cell_type": "markdown",
   "metadata": {},
   "source": [
    "La forma de los errores de las reglas del rectángulo, trapecio y Simpson se pueden obtener con interpolación o con el teorema de Taylor. Ver [Diferenciación e Integración](https://www.dropbox.com/s/jfrxanjls8kndjp/Diferenciacion_e_Integracion.pdf?dl=0) para detalles y {ref}`Polinomios de Taylor y diferenciación numérica <PTDN>` para el teorema. Suponiendo que $f$ cumple con condiciones sobre sus derivadas, tales errores son:\n",
    "\n",
    "\n",
    "$$\\text{Err}Rc(f) = \\frac{b-a}{6}f^{(2)}(\\xi_r)\\hat{h}^2, \\xi_r \\in [a,b]$$"
   ]
  },
  {
   "cell_type": "markdown",
   "metadata": {},
   "source": [
    "$$\\text{Err}Tc(f)=-\\frac{b-a}{12}f^{(2)}(\\xi_t)\\hat{h}^2, \\xi_t \\in [a,b]$$"
   ]
  },
  {
   "cell_type": "markdown",
   "metadata": {},
   "source": [
    "$$\\text{Err}Sc(f)=-\\frac{b-a}{180}f^{(4)}(\\xi_S)\\hat{h}^4, \\xi_S \\in [a,b].$$"
   ]
  },
  {
   "cell_type": "markdown",
   "metadata": {},
   "source": [
    "(IMC)="
   ]
  },
  {
   "cell_type": "markdown",
   "metadata": {},
   "source": [
    "## Integración por el método de Monte Carlo"
   ]
  },
  {
   "cell_type": "markdown",
   "metadata": {},
   "source": [
    "Los métodos de integración numérica por Monte Carlo son similares a los métodos por cuadratura en el sentido que se eligen puntos en los que se evaluará el integrando para sumar sus valores. La diferencia esencial con los métodos por cuadratura es que en el método de integración por Monte Carlo los puntos son **seleccionados de una forma *aleatoria*** (de hecho es pseudo-aleatoria pues se generan con un programa de computadora) en lugar de generarse con una fórmula."
   ]
  },
  {
   "cell_type": "markdown",
   "metadata": {},
   "source": [
    "### Problema\n",
    "\n",
    "En esta sección consideramos $n$ número de nodos.\n",
    "\n",
    "Aproximar numéricamente la integral $\\displaystyle \\int_{\\Omega}f(x)dx$ para $x \\in \\mathbb{R}^\\mathcal{D}, \\Omega \\subseteq \\mathbb{R}^\\mathcal{D}, f: \\mathbb{R}^\\mathcal{D} \\rightarrow \\mathbb{R}$ función tal que la integral esté bien definida en $\\Omega$."
   ]
  },
  {
   "cell_type": "markdown",
   "metadata": {},
   "source": [
    "Por ejemplo para $\\mathcal{D}=2:$\n",
    "\n",
    "<img src=\"https://dl.dropboxusercontent.com/s/xktwjmgbf8aiekw/integral_2_dimensiones.png?dl=0\" heigth=\"500\" width=\"500\">\n"
   ]
  },
  {
   "cell_type": "markdown",
   "metadata": {},
   "source": [
    "Para resolver el problema anterior con $\\Omega$ un rectángulo, podemos utilizar las reglas por cuadratura por Newton-Cotes o cuadratura Gaussiana en una dimensión manteniendo fija la otra dimensión. Sin embargo considérese la siguiente situación:\n",
    "\n",
    "La regla del rectángulo (o del punto medio) y del trapecio tienen un error de orden $\\mathcal{O}(\\hat{h}^2)$ independientemente de si se está aproximando integrales de una o más dimensiones. Supóngase que se utilizan $n$ nodos para tener un valor de espaciado igual a $\\hat{h}$ en una dimensión, entonces para $\\mathcal{D}$ dimensiones se requerirían $N=n^\\mathcal{D}$ evaluaciones del integrando, o bien, si se tiene un valor de $N$ igual a $10, 000$ y $\\mathcal{D}=4$ dimensiones el error sería del orden $\\mathcal{O}(N^{-2/\\mathcal{D}})$ lo que implicaría un valor de $\\hat{h}=.1$ para aproximadamente sólo **dos dígitos** correctos en la aproximación (para el enunciado anterior recuérdese que $\\hat{h}$ es proporcional a $n^{-1}$ y $n$ = $N^{1/\\mathcal{D}}$). Este esfuerzo enorme de evaluar $N$ veces el integrando para una exactitud pequeña se debe al problema de generar puntos para *llenar* un espacio $\\mathcal{D}$-dimensional y se conoce con el nombre de la maldición de la dimensionalidad, [***the curse of dimensionality***](https://en.wikipedia.org/wiki/Curse_of_dimensionality)."
   ]
  },
  {
   "cell_type": "markdown",
   "metadata": {},
   "source": [
    "Una opción para resolver la situación anterior si no se desea una precisión alta (por ejemplo con una precisión de $10^{-4}$ o $4$ dígitos es suficiente) es con el método de integración por Monte Carlo (tal nombre por el uso de números aleatorios). La integración por el método de Monte Carlo está basada en la interpretación geométrica de las integrales: calcular la integral del problema inicial requiere calcular el **hipervolumen** de $\\Omega$."
   ]
  },
  {
   "cell_type": "markdown",
   "metadata": {},
   "source": [
    "### Ejemplo\n"
   ]
  },
  {
   "cell_type": "markdown",
   "metadata": {},
   "source": [
    "\n",
    "Supóngase que se desea aproximar el área de un círculo centrado en el origen de radio igual a $1$:"
   ]
  },
  {
   "cell_type": "markdown",
   "metadata": {},
   "source": [
    "<img src=\"https://dl.dropboxusercontent.com/s/xmtcxw3wntfxuau/monte_carlo_1.png?dl=0\" heigth=\"300\" width=\"300\">\n"
   ]
  },
  {
   "cell_type": "markdown",
   "metadata": {},
   "source": [
    "entonces el área de este círculo es $\\pi r^2 = \\pi$."
   ]
  },
  {
   "cell_type": "markdown",
   "metadata": {},
   "source": [
    "Para lo anterior **encerramos** al círculo con un cuadrado de lado $2$:"
   ]
  },
  {
   "cell_type": "markdown",
   "metadata": {},
   "source": [
    "<img src=\"https://dl.dropboxusercontent.com/s/igsn57vuahem0il/monte_carlo_2.png?dl=0\" heigth=\"200\" width=\"200\">"
   ]
  },
  {
   "cell_type": "markdown",
   "metadata": {},
   "source": [
    "Si tenemos $n$ puntos en el cuadrado:"
   ]
  },
  {
   "cell_type": "markdown",
   "metadata": {},
   "source": [
    "<img src=\"https://dl.dropboxusercontent.com/s/a4krdneo0jaerqz/monte_carlo_3.png?dl=0\" heigth=\"200\" width=\"200\">\n"
   ]
  },
  {
   "cell_type": "markdown",
   "metadata": {},
   "source": [
    "y consideramos los $m$ puntos que están dentro del círculo:"
   ]
  },
  {
   "cell_type": "markdown",
   "metadata": {},
   "source": [
    "<img src=\"https://dl.dropboxusercontent.com/s/pr4c5e57r4fawdt/monte_carlo_4.png?dl=0\" heigth=\"200\" width=\"200\">"
   ]
  },
  {
   "cell_type": "markdown",
   "metadata": {},
   "source": [
    "Entonces: $\\frac{\\text{Área del círculo}}{\\text{Área del cuadrado}} \\approx \\frac{m}{n}$ y se tiene: Área del círculo $\\approx$Área del cuadrado$\\frac{m}{n}$ y si $n$ crece entonces la aproximación es mejor."
   ]
  },
  {
   "cell_type": "markdown",
   "metadata": {},
   "source": [
    "prueba numérica:"
   ]
  },
  {
   "cell_type": "code",
   "execution_count": 44,
   "metadata": {},
   "outputs": [
    {
     "data": {
      "image/png": "[encoded data removed]",
      "text/plain": [
       "<Figure size 432x288 with 1 Axes>"
      ]
     },
     "metadata": {
      "needs_background": "light"
     },
     "output_type": "display_data"
    }
   ],
   "source": [
    "density_p=int(2.5*10**3)\n",
    "x_p=np.random.uniform(-1,1,(density_p,2))\n",
    "plt.scatter(x_p[:,0],x_p[:,1],marker='.',color='g')\n",
    "density=1e-5\n",
    "x=np.arange(-1,1,density)\n",
    "y1=np.sqrt(1-x**2)\n",
    "y2=-np.sqrt(1-x**2)\n",
    "plt.plot(x,y1,'r',x,y2,'r')\n",
    "plt.title('Integración por Monte Carlo')\n",
    "plt.grid()\n",
    "plt.show()"
   ]
  },
  {
   "cell_type": "code",
   "execution_count": 45,
   "metadata": {},
   "outputs": [
    {
     "data": {
      "image/png": "[encoded data removed]",
      "text/plain": [
       "<Figure size 432x288 with 1 Axes>"
      ]
     },
     "metadata": {
      "needs_background": "light"
     },
     "output_type": "display_data"
    }
   ],
   "source": [
    "f=lambda x: np.sqrt(x[:,0]**2 + x[:,1]**2) #norm2 definition\n",
    "ind=f(x_p)<=1\n",
    "x_p_subset=x_p[ind]\n",
    "plt.scatter(x_p_subset[:,0],x_p_subset[:,1],marker='.',color='r')\n",
    "plt.title('Integración por Monte Carlo')\n",
    "plt.grid()\n",
    "plt.show()"
   ]
  },
  {
   "cell_type": "markdown",
   "metadata": {},
   "source": [
    "Área del círculo es aproximadamente:"
   ]
  },
  {
   "cell_type": "code",
   "execution_count": 46,
   "metadata": {},
   "outputs": [
    {
     "name": "stdout",
     "output_type": "stream",
     "text": [
      "3.1232\n"
     ]
    }
   ],
   "source": [
    "square_area = 4\n",
    "print(square_area*len(x_p_subset)/len(x_p))"
   ]
  },
  {
   "cell_type": "markdown",
   "metadata": {},
   "source": [
    "Si aumentamos el número de puntos..."
   ]
  },
  {
   "cell_type": "code",
   "execution_count": 47,
   "metadata": {},
   "outputs": [
    {
     "name": "stdout",
     "output_type": "stream",
     "text": [
      "3.1344\n"
     ]
    }
   ],
   "source": [
    "density_p=int(10**4)\n",
    "x_p=np.random.uniform(-1,1,(density_p,2))\n",
    "ind=f(x_p)<=1\n",
    "x_p_subset=x_p[ind]\n",
    "print(square_area*len(x_p_subset)/len(x_p))"
   ]
  },
  {
   "cell_type": "code",
   "execution_count": 48,
   "metadata": {},
   "outputs": [
    {
     "name": "stdout",
     "output_type": "stream",
     "text": [
      "3.14764\n"
     ]
    }
   ],
   "source": [
    "density_p=int(10**5)\n",
    "x_p=np.random.uniform(-1,1,(density_p,2))\n",
    "ind=f(x_p)<=1\n",
    "x_p_subset=x_p[ind]\n",
    "print(square_area*len(x_p_subset)/len(x_p))"
   ]
  },
  {
   "cell_type": "markdown",
   "metadata": {},
   "source": [
    "```{admonition} Comentarios\n",
    "\n",
    "* El método de Monte Carlo revisado en el ejemplo anterior nos indica que debemos encerrar a la región de integración $\\Omega$. Por ejemplo para una región $\\Omega$ más general:\n",
    "\n",
    "<img src=\"https://dl.dropboxusercontent.com/s/ke6hngwue3ovpaz/monte_carlo_5.png?dl=0\" heigth=\"300\" width=\"300\">\n",
    "\n",
    "entonces la integración por el método de Monte Carlo será:\n",
    "\n",
    "$$\\displaystyle \\int_\\Omega f d\\Omega \\approx V \\overline{f}$$\n",
    "\n",
    "donde: $V$ es el hipervolumen de $\\Omega_E$ que encierra a $\\Omega$, esto es $\\Omega \\subseteq \\Omega_E$, $\\{x_1,\\dots,x_n\\}$ es un conjunto de puntos distribuidos uniformemente en $\\Omega_E$ y $\\overline{f}=\\frac{1}{n}\\displaystyle \\sum_{i=1}^nf(x_i)$\n",
    "\n",
    "* Consideramos $\\overline{f}$ pues $\\displaystyle \\sum_{i=1}^nf(x_i)$ representa el valor de $m$ si pensamos a $f$ como una restricción que deben cumplir los $n$ puntos en el ejemplo de aproximación al área del círculo: Área del círculo $\\approx$Área del cuadrado$\\frac{m}{n}$ (en este caso Área del cuadrado es el hipervolumen $V$).\n",
    "\n",
    "* Algunas características para regiones $\\Omega_E$ que encierren a $\\Omega$ es que:\n",
    "\n",
    "    * Sea sencillo generar números aleatorios uniformes.\n",
    "    * Sea sencillo obtener su hipervolumen.\n",
    "\n",
    "```"
   ]
  },
  {
   "cell_type": "markdown",
   "metadata": {},
   "source": [
    "### Ejemplos"
   ]
  },
  {
   "cell_type": "markdown",
   "metadata": {},
   "source": [
    "**Aproximar las siguientes integrales:**"
   ]
  },
  {
   "cell_type": "code",
   "execution_count": 49,
   "metadata": {},
   "outputs": [],
   "source": [
    "density_p=int(10**4)"
   ]
  },
  {
   "cell_type": "markdown",
   "metadata": {},
   "source": [
    "* $\\displaystyle \\int_0^1\\frac{4}{1+x^2}dx = \\pi$"
   ]
  },
  {
   "cell_type": "code",
   "execution_count": 50,
   "metadata": {},
   "outputs": [
    {
     "name": "stdout",
     "output_type": "stream",
     "text": [
      "error relativo: 2.1125e-03\n"
     ]
    }
   ],
   "source": [
    "f = lambda x: 4/(1+x**2)\n",
    "x_p = np.random.uniform(0,1,density_p)\n",
    "obj = math.pi\n",
    "a = 0\n",
    "b = 1\n",
    "vol = b-a\n",
    "ex_1 = vol*np.mean(f(x_p))\n",
    "print(\"error relativo: {:0.4e}\".format(compute_error(obj, ex_1)))"
   ]
  },
  {
   "cell_type": "markdown",
   "metadata": {},
   "source": [
    "* $\\displaystyle \\int_1^2 \\frac{1}{x}dx = \\log{2}$."
   ]
  },
  {
   "cell_type": "code",
   "execution_count": 51,
   "metadata": {},
   "outputs": [
    {
     "name": "stdout",
     "output_type": "stream",
     "text": [
      "error relativo: 1.1306e-04\n"
     ]
    }
   ],
   "source": [
    "f = lambda x: 1/x\n",
    "x_p = np.random.uniform(1,2,density_p)\n",
    "obj = math.log(2)\n",
    "a = 1\n",
    "b = 2\n",
    "vol = b-a\n",
    "ex_2 = vol*np.mean(f(x_p))\n",
    "print(\"error relativo: {:0.4e}\".format(compute_error(obj, ex_2)))"
   ]
  },
  {
   "cell_type": "markdown",
   "metadata": {},
   "source": [
    "* $\\displaystyle \\int_{-1}^1 \\int_0^1x^2+y^2dxdy = \\frac{4}{3}$. "
   ]
  },
  {
   "cell_type": "code",
   "execution_count": 52,
   "metadata": {},
   "outputs": [
    {
     "name": "stdout",
     "output_type": "stream",
     "text": [
      "error relativo: 2.3581e-03\n"
     ]
    }
   ],
   "source": [
    "f = lambda x,y:x**2+y**2\n",
    "a1 = -1\n",
    "b1 = 1\n",
    "a2 = 0\n",
    "b2 = 1\n",
    "x_p = np.random.uniform(a1,b1,density_p)\n",
    "y_p = np.random.uniform(a2,b2,density_p)\n",
    "obj = 4/3\n",
    "vol = (b1-a1)*(b2-a2)\n",
    "ex_3 = vol*np.mean(f(x_p,y_p))\n",
    "print(\"error relativo: {:0.4e}\".format(compute_error(obj, ex_3)))"
   ]
  },
  {
   "cell_type": "markdown",
   "metadata": {},
   "source": [
    "* $\\displaystyle \\int_0^{\\frac{\\pi}{2}} \\int_0^{\\frac{\\pi}{2}}\\cos(x)\\sin(y)dxdy=1$."
   ]
  },
  {
   "cell_type": "code",
   "execution_count": 53,
   "metadata": {},
   "outputs": [
    {
     "name": "stdout",
     "output_type": "stream",
     "text": [
      "error relativo: 8.7098e-03\n"
     ]
    }
   ],
   "source": [
    "f = lambda x,y:np.cos(x)*np.sin(y)\n",
    "a1 = 0\n",
    "b1 = math.pi/2\n",
    "a2 = 0\n",
    "b2 = math.pi/2\n",
    "x_p = np.random.uniform(a1,b1,density_p)\n",
    "y_p = np.random.uniform(a2,b2,density_p)\n",
    "obj = 1\n",
    "vol = (b1-a1)*(b2-a2)\n",
    "ex_4 = vol*np.mean(f(x_p,y_p))\n",
    "print(\"error relativo: {:0.4e}\".format(compute_error(obj, ex_4)))"
   ]
  },
  {
   "cell_type": "markdown",
   "metadata": {},
   "source": [
    "* $\\displaystyle \\int_0^1\\int_{\\frac{-1}{2}}^0\\int_0^{\\frac{1}{3}}(x+2y+3z)^2dxdydz =\\frac{1}{12}$."
   ]
  },
  {
   "cell_type": "code",
   "execution_count": 54,
   "metadata": {},
   "outputs": [
    {
     "name": "stdout",
     "output_type": "stream",
     "text": [
      "error relativo: 1.7039e-02\n"
     ]
    }
   ],
   "source": [
    "f = lambda x,y,z:(x+2*y+3*z)**2\n",
    "a1 = 0\n",
    "b1 = 1\n",
    "a2 = -1/2\n",
    "b2 = 0\n",
    "a3 = 0\n",
    "b3 = 1/3\n",
    "x_p = np.random.uniform(a1,b1,density_p)\n",
    "y_p = np.random.uniform(a2,b2,density_p)\n",
    "z_p = np.random.uniform(a3,b3,density_p)\n",
    "obj = 1/12\n",
    "vol = (b1-a1)*(b2-a2)*(b3-a3)\n",
    "ex_5 = vol*np.mean(f(x_p,y_p,z_p))\n",
    "print(\"error relativo: {:0.4e}\".format(compute_error(obj, ex_5)))"
   ]
  },
  {
   "cell_type": "markdown",
   "metadata": {},
   "source": [
    "### ¿Cuál es el error en la aproximación por el método de integración por Monte Carlo?"
   ]
  },
  {
   "cell_type": "markdown",
   "metadata": {},
   "source": [
    "Para obtener la expresión del error en esta aproximación supóngase que $x_1, x_2,\\dots x_n$ son variables aleatorias independientes uniformemente distribuidas. Entonces:\n",
    "\n",
    "$$\\text{Err}(\\overline{f})=\\sqrt{\\text{Var}(\\overline{f})}=\\sqrt{\\text{Var}\\left( \\frac{1}{n} \\displaystyle \\sum_{i=1}^nf(x_i)\\right)}=\\dots=\\sqrt{\\frac{\\text{Var}(f(x))}{n}}$$\n",
    "\n",
    "con $x$ variable aleatoria uniformemente distribuida."
   ]
  },
  {
   "cell_type": "markdown",
   "metadata": {},
   "source": [
    "Un estimador de $\\text{Var}(f(x))$ es: $\\frac{1}{n}\\displaystyle \\sum_{i=1}^n(f(x_i)-\\overline{f})^2=\\overline{f^2}-\\overline{f}^2$ por lo que $\\hat{\\text{Err}}(\\overline{f}) = \\sqrt{\\frac{\\overline{f^2}-\\overline{f}^2}{n}}$."
   ]
  },
  {
   "cell_type": "markdown",
   "metadata": {},
   "source": [
    "Se tiene entonces que $\\displaystyle \\int_\\Omega f d\\Omega$ estará en el intervalo:\n",
    "\n",
    "$$V(\\overline{f} \\pm \\text{Err}(\\overline{f})) \\approx V(\\overline{f} \\pm \\hat{\\text{Err}}(\\overline{f}))=V\\overline{f} \\pm V\\sqrt{\\frac{\\overline{f^2}-\\overline{f}^2}{n}}$$"
   ]
  },
  {
   "cell_type": "markdown",
   "metadata": {},
   "source": [
    "```{admonition} Comentarios\n",
    "\n",
    "* Los signos $\\pm$ en el error de aproximación **no** representan una cota rigurosa, es una desviación estándar.\n",
    "\n",
    "* A diferencia de la aproximación por las reglas por cuadratura tenemos una precisión con $n$ puntos independientemente de la dimensión $\\mathcal{D}$.\n",
    "\n",
    "* Si $\\mathcal{D} \\rightarrow \\infty$ entonces $\\hat{\\text{Err}}(\\overline{f}) = \\mathcal{O}\\left(\\frac{1}{\\sqrt{n}} \\right)$ por lo que para ganar un decimal extra de precisión en la integración por el método de Monte Carlo se requiere incrementar el número de puntos por un factor de $10^2$.\n",
    "```"
   ]
  },
  {
   "cell_type": "markdown",
   "metadata": {},
   "source": [
    "```{admonition} Observación\n",
    ":class: tip\n",
    "\n",
    "Obsérvese que si $f$ es constante entonces $\\hat{\\text{Err}}(\\overline{f})=0$. Esto implica que si $f$ es casi constante y $\\Omega_E$ encierra muy bien a $\\Omega$ entonces se tendrá una estimación muy precisa de $\\displaystyle \\int_\\Omega f d\\Omega$, por esto en la integración por el método de Monte Carlo se realizan cambios de variable de modo que transformen a $f$ en aproximadamente constante y que esto resulte además en regiones $\\Omega_E$ que encierren a $\\Omega$ casi de manera exacta (y que además sea sencillo generar números pseudo aleatorios en ellas!).\n",
    "```"
   ]
  },
  {
   "cell_type": "markdown",
   "metadata": {},
   "source": [
    "### Ejemplo"
   ]
  },
  {
   "cell_type": "markdown",
   "metadata": {},
   "source": [
    "Para el ejemplo anterior $\\displaystyle \\int_0^1\\frac{4}{1+x^2}dx = \\pi$ se tiene:"
   ]
  },
  {
   "cell_type": "code",
   "execution_count": 55,
   "metadata": {},
   "outputs": [
    {
     "name": "stdout",
     "output_type": "stream",
     "text": [
      "error relativo: 1.1462e-03\n"
     ]
    }
   ],
   "source": [
    "f = lambda x: 4/(1+x**2)\n",
    "x_p = np.random.uniform(0,1,density_p)\n",
    "obj = math.pi\n",
    "a = 0\n",
    "b = 1\n",
    "vol = b-a\n",
    "f_bar = np.mean(f(x_p))\n",
    "ex_6 = vol*f_bar\n",
    "print(\"error relativo: {:0.4e}\".format(compute_error(obj,ex_6 )))"
   ]
  },
  {
   "cell_type": "code",
   "execution_count": 56,
   "metadata": {},
   "outputs": [],
   "source": [
    "error_std = math.sqrt(sum((f(x_p)-f_bar)**2)/density_p**2)"
   ]
  },
  {
   "cell_type": "code",
   "execution_count": 57,
   "metadata": {},
   "outputs": [
    {
     "name": "stdout",
     "output_type": "stream",
     "text": [
      "0.006459389734374633\n"
     ]
    }
   ],
   "source": [
    "print(error_std)"
   ]
  },
  {
   "cell_type": "markdown",
   "metadata": {},
   "source": [
    "intervalo:"
   ]
  },
  {
   "cell_type": "code",
   "execution_count": 58,
   "metadata": {},
   "outputs": [
    {
     "name": "stdout",
     "output_type": "stream",
     "text": [
      "(3.13153227703531, 3.144451056504059)\n"
     ]
    }
   ],
   "source": [
    "print((ex_6-vol*error_std, ex_6+vol*error_std))"
   ]
  },
  {
   "cell_type": "markdown",
   "metadata": {},
   "source": [
    "```{admonition} Ejercicios\n",
    ":class: tip\n",
    "\n",
    "Aproximar, reportar errores relativos e intervalo de estimación en una tabla:\n",
    "\n",
    "* $\\displaystyle \\int_0^1\\int_0^1\\sqrt{x+y}dydx=\\frac{2}{3}\\left(\\frac{2}{5}2^{5/2}-\\frac{4}{5}\\right)$.\n",
    "\n",
    "* $\\displaystyle \\int_D \\int \\sqrt{x+y}dydx=8\\frac{\\sqrt{2}}{15}$ donde: $D=\\{(x,y) \\in \\mathbb{R}^2 | 0 \\leq x \\leq 1, -x \\leq y \\leq x\\}$.\n",
    "\n",
    "* $\\displaystyle \\int_D \\int \\exp{(x^2+y^2)}dydx = \\pi(e^9-1)$ donde $D=\\{(x,y) \\in \\mathbb{R}^2 | x^2+y^2 \\leq 9\\}$.\n",
    "\n",
    "* $\\displaystyle \\int_0^2 \\int_{-1}^1 \\int_0^1 (2x+3y+z)dzdydx = 10$.\n",
    "```"
   ]
  },
  {
   "cell_type": "markdown",
   "metadata": {},
   "source": [
    "### Aproximación de características de variables aleatorias"
   ]
  },
  {
   "cell_type": "markdown",
   "metadata": {},
   "source": [
    "La integración por el método de Monte Carlo se utiliza para aproximar características de variables aleatorias continuas. Por ejemplo, si $x$ es variable aleatoria continua, entonces su media está dada por:\n",
    "\n",
    "$$E_f[h(X)] = \\displaystyle \\int_{S_X}h(x)f(x)dx$$\n",
    "\n",
    "donde: $f$ es función de densidad de $X$, $S_X$ es el soporte de $X$ y $h$ es una transformación. Entonces:\n",
    "\n",
    "$$E_f[h(X)] \\approx \\frac{1}{n} \\displaystyle \\sum_{i=1}^nh(x_i)=\\overline{h}_n$$\n",
    "\n",
    "con $\\{x_1,x_2,\\dots,x_n\\}$ muestra de $f$. Y por la ley de los grandes números se tiene:\n",
    "\n",
    "$$\\overline{h}_n \\xrightarrow{n \\rightarrow \\infty} E_f[h(X)]$$ \n",
    "\n",
    "con **convergencia casi segura**. Aún más: si $E_f[h^2(X)] < \\infty$ entonces el error de aproximación  de $\\overline{h}_n$ es del orden $\\mathcal{O}\\left(\\frac{1}{\\sqrt{n}} \\right)$ y una estimación de este error es: $\\hat{\\text{Err}}(\\overline{h}) = \\sqrt{\\frac{\\overline{h^2}-\\overline{h}^2}{n}}$. Por el teorema del límite central:\n",
    "\n",
    "$$\\frac{\\overline{h}_n-E_f[h(X)]}{\\hat{\\text{Err}}(\\overline{h})} \\xrightarrow{n \\rightarrow \\infty} N(0,1)$$\n",
    "\n",
    "con $N(0,1)$ una distribución Normal con $\\mu=0,\\sigma=1$ $\\therefore$ si $n \\rightarrow \\infty$ un intervalo de confianza al $95\\%$ para $E_f[h(X)]$ es: $\\overline{h}_n \\pm z_{.975} \\hat{\\text{Err}}(\\overline{h})$.\n",
    "\n",
    "\n",
    "Uno de los pasos complicados en el desarrollo anterior es obtener una muestra de $f$. Para el caso de variables continuas se puede utilizar el teorema de transformación inversa o integral de probabilidad. Otros métodos son los nombrados [métodos de monte Carlo con cadenas de Markov](https://en.wikipedia.org/wiki/Markov_chain_Monte_Carlo) o MCMC."
   ]
  },
  {
   "cell_type": "markdown",
   "metadata": {},
   "source": [
    "### Ejemplo"
   ]
  },
  {
   "cell_type": "markdown",
   "metadata": {},
   "source": [
    "$$\\displaystyle \\int_{-\\infty}^\\infty \\frac{1}{\\sqrt{2 \\pi}}e^{-(x-5)^2/2}dx=1$$"
   ]
  },
  {
   "cell_type": "code",
   "execution_count": 79,
   "metadata": {},
   "outputs": [],
   "source": [
    "h = lambda x: 1"
   ]
  },
  {
   "cell_type": "code",
   "execution_count": 80,
   "metadata": {},
   "outputs": [],
   "source": [
    "n = 10**3 #number of points\n",
    "normal_rvs = np.random.normal(loc = 5, size = n)"
   ]
  },
  {
   "cell_type": "code",
   "execution_count": 81,
   "metadata": {},
   "outputs": [
    {
     "data": {
      "text/plain": [
       "1.0"
      ]
     },
     "execution_count": 81,
     "metadata": {},
     "output_type": "execute_result"
    }
   ],
   "source": [
    "np.mean(h(normal_rvs))"
   ]
  },
  {
   "cell_type": "markdown",
   "metadata": {},
   "source": [
    "### Ejemplo"
   ]
  },
  {
   "cell_type": "markdown",
   "metadata": {},
   "source": [
    "$$\\displaystyle \\int_{-\\infty}^\\infty x\\frac{1}{\\sqrt{2 \\pi}}e^{-(x-5)^2/2}dx=5$$"
   ]
  },
  {
   "cell_type": "code",
   "execution_count": 82,
   "metadata": {},
   "outputs": [],
   "source": [
    "h = lambda x: x"
   ]
  },
  {
   "cell_type": "code",
   "execution_count": 83,
   "metadata": {},
   "outputs": [
    {
     "data": {
      "text/plain": [
       "5.001448878521802"
      ]
     },
     "execution_count": 83,
     "metadata": {},
     "output_type": "execute_result"
    }
   ],
   "source": [
    "np.mean(h(normal_rvs))"
   ]
  },
  {
   "cell_type": "markdown",
   "metadata": {
    "tags": []
   },
   "source": [
    "### Ejemplo"
   ]
  },
  {
   "cell_type": "markdown",
   "metadata": {},
   "source": [
    "$$\\displaystyle \\int_{-\\infty}^\\infty x^2\\frac{1}{\\sqrt{2 \\pi}}e^{-(x-5)^2/2}dx= 1 + 5^2$$"
   ]
  },
  {
   "cell_type": "code",
   "execution_count": 84,
   "metadata": {},
   "outputs": [],
   "source": [
    "h = lambda x: x**2"
   ]
  },
  {
   "cell_type": "code",
   "execution_count": 85,
   "metadata": {},
   "outputs": [
    {
     "data": {
      "text/plain": [
       "25.994136578908744"
      ]
     },
     "execution_count": 85,
     "metadata": {},
     "output_type": "execute_result"
    }
   ],
   "source": [
    "np.mean(h(normal_rvs))"
   ]
  },
  {
   "cell_type": "markdown",
   "metadata": {},
   "source": [
    "**Gráfica que apoya la visualización de la convergencia al valor de la integral por las aproximaciones vía Monte Carlo**"
   ]
  },
  {
   "cell_type": "code",
   "execution_count": 86,
   "metadata": {},
   "outputs": [
    {
     "data": {
      "image/png": "[encoded data removed]",
      "text/plain": [
       "<Figure size 504x360 with 1 Axes>"
      ]
     },
     "metadata": {
      "needs_background": "light"
     },
     "output_type": "display_data"
    }
   ],
   "source": [
    "iterations = np.arange(n)+1\n",
    "cumulative_mean = np.cumsum(h(normal_rvs))/iterations\n",
    "plt.figure(figsize=(7,5))\n",
    "plt.plot(iterations, cumulative_mean)\n",
    "plt.legend([\"Valor de la integral\"], bbox_to_anchor=(1.4, 1))\n",
    "plt.title(\"Gráfica de convergencia del método de Integración por Monte Carlo\")\n",
    "plt.ylabel(\"Aproximación por MC\")\n",
    "plt.xlabel(\"Iteraciones\")\n",
    "plt.show()"
   ]
  },
  {
   "cell_type": "markdown",
   "metadata": {},
   "source": [
    "```{admonition} Observación\n",
    ":class: tip\n",
    "\n",
    "Para tener una mayor estabilidad en el cálculo de la integral se realiza más de una aproximación a la integral y se reporta el promedio de resultados.\n",
    "\n",
    "```"
   ]
  },
  {
   "cell_type": "markdown",
   "metadata": {},
   "source": [
    "```{admonition} Ejercicios\n",
    ":class: tip\n",
    "\n",
    "1. Resuelve los ejercicios y preguntas de la nota.\n"
   ]
  },
  {
   "cell_type": "markdown",
   "metadata": {},
   "source": [
    "**Referencias**\n",
    "\n",
    "1. R. L. Burden, J. D. Faires, Numerical Analysis, Brooks/Cole Cengage Learning, 2005.\n",
    "\n",
    "2. M. T. Heath, Scientific Computing. An Introductory Survey, McGraw-Hill, 2002.\n"
   ]
  }
 ],
 "metadata": {
  "kernelspec": {
   "display_name": "Python 3 (ipykernel)",
   "language": "python",
   "name": "python3"
  },
  "language_info": {
   "codemirror_mode": {
    "name": "ipython",
    "version": 3
   },
   "file_extension": ".py",
   "mimetype": "text/x-python",
   "name": "python",
   "nbconvert_exporter": "python",
   "pygments_lexer": "ipython3",
   "version": "3.8.10"
  }
 },
 "nbformat": 4,
 "nbformat_minor": 4
}
