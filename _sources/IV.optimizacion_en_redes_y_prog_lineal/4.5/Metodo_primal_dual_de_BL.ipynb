{
 "cells": [
  {
   "cell_type": "markdown",
   "metadata": {},
   "source": [
    "(MPRIMALDUALBARRERALOG)="
   ]
  },
  {
   "cell_type": "markdown",
   "metadata": {},
   "source": [
    "# 4.5 Método primal-dual de barrera logarítmica (BL)"
   ]
  },
  {
   "cell_type": "markdown",
   "metadata": {},
   "source": [
    "```{admonition} Notas para contenedor de docker:\n",
    "\n",
    "Comando de docker para ejecución de la nota de forma local:\n",
    "\n",
    "nota: cambiar `<ruta a mi directorio>` por la ruta de directorio que se desea mapear a `/datos` dentro del contenedor de docker.\n",
    "\n",
    "`docker run --rm -v <ruta a mi directorio>:/datos --name jupyterlab_optimizacion_2 -p 8888:8888 -p 8787:8787 -d palmoreck/jupyterlab_optimizacion_2:3.0.0`\n",
    "\n",
    "password para jupyterlab: `qwerty`\n",
    "\n",
    "Detener el contenedor de docker:\n",
    "\n",
    "`docker stop jupyterlab_optimizacion_2`\n",
    "\n",
    "Documentación de la imagen de docker `palmoreck/jupyterlab_optimizacion_2:3.0.0` en [liga](https://github.com/palmoreck/dockerfiles/tree/master/jupyterlab/optimizacion_2).\n",
    "\n",
    "```"
   ]
  },
  {
   "cell_type": "markdown",
   "metadata": {},
   "source": [
    "---"
   ]
  },
  {
   "cell_type": "markdown",
   "metadata": {},
   "source": [
    "Nota generada a partir de [liga1](https://drive.google.com/file/d/16-_PvWNaO0Zc9x04-SRsxCRdn5fxebf2/view), [liga2](https://drive.google.com/file/d/1oulU1QAKyLyYrkpJBLSPlbWnKFCWpllX/view), [liga3](https://drive.google.com/file/d/1RMwUXEN_SOHKue-J9Cx3Ldvj9bejLjiM/view)"
   ]
  },
  {
   "cell_type": "markdown",
   "metadata": {},
   "source": [
    "```{admonition} Al final de esta nota el y la lectora:\n",
    ":class: tip\n",
    "\n",
    "* Conocerá el método primal dual de barrera logarítmica para resolver programas lineales.\n",
    "\n",
    "* Aprenderá que tal método:\n",
    "\n",
    "    * es un caso particular de métodos de penalización para resolver problemas de optimización con restricciones.\n",
    "    \n",
    "    * tiene la capacidad de resolver problemas convexos e implementarse con cómputo en paralelo.\n",
    "\n",
    "```"
   ]
  },
  {
   "cell_type": "markdown",
   "metadata": {},
   "source": [
    "El método primal-dual de barrera logarítmica (BL) es un método iterativo que realiza un manejo de las variables primales y duales del problema de optimización a resolver. Se le clasifica como un método por puntos interiores."
   ]
  },
  {
   "cell_type": "markdown",
   "metadata": {},
   "source": [
    "```{sidebar} Un poco de historia ...\n",
    "\n",
    "El [método símplex](https://en.wikipedia.org/wiki/Simplex_algorithm) desarrollado por Dantzig en los $40$'s hizo posible que se formularan y analizaran modelos grandes en una forma sistemática y eficiente. Hoy en día continúa siendo uno de los métodos más utilizados para resolver programas lineales. No obstante puede ser ineficiente en problemas lineales \"patológicos\" (ver [Klee-Minty cube](https://en.wikipedia.org/wiki/Klee%E2%80%93Minty_cube)) pues el tiempo para resolver tales problemas es exponencial respecto al tamaño del problema (medido como el número de variables y la cantidad de almacenamiento para los datos del problema). Para la mayoría de problemas prácticos el método símplex es mucho más eficiente que estos casos \"patológicos\" pero esto motivó la investigación y desarrollo de nuevos algoritmos con mejor desempeño. En 1984 Karmarkar publicó el [algoritmo](https://en.wikipedia.org/wiki/Karmarkar%27s_algorithm) que lleva su mismo nombre que tiene una complejidad polinomial y en la práctica resultó ser eficiente. Pertenece a la clase de métodos con el nombre de [puntos interiores](https://en.wikipedia.org/wiki/Interior-point_method). Hay diferentes tipos de métodos por puntos interiores siendo los de la clase primal-dual ampliamente usados en la práctica. \n",
    "\n",
    "```"
   ]
  },
  {
   "cell_type": "markdown",
   "metadata": {},
   "source": [
    "## Métodos por puntos interiores (PI)"
   ]
  },
  {
   "cell_type": "markdown",
   "metadata": {},
   "source": [
    "Los métodos por puntos interiores (PI) son esquemas iterativos que en un inicio se utilizaron para resolver PL's, sin embargo, se ha extendido su uso al caso no lineal. Por ejemplo, distintos tipos de métodos por PI han sido usados para resolver problemas de optimización convexos, ver {ref}`problemas de optimización convexa en su forma estándar o canónica <PROBOPTCONVEST>`."
   ]
  },
  {
   "cell_type": "markdown",
   "metadata": {},
   "source": [
    "```{margin}\n",
    "\n",
    "Recuérdese que nombramos problemas de optimización con restricciones *large scale* a aquellos problemas de optimización que tienen un número de variables y restricciones mayor o igual a $10^5$ (ambas).\n",
    "\n",
    "```"
   ]
  },
  {
   "cell_type": "markdown",
   "metadata": {},
   "source": [
    "En cada iteración de los métodos PI las restricciones de desigualdad del problema de optimización se satisfacen de forma estricta. Cada iteración es costosa de calcular y realiza avance significativo a la solución en contraste con el método símplex que requiere un gran número de iteraciones no costosas. Una característica que tienen los métodos PI es que los problemas *large scale* no requieren muchas más iteraciones que los problemas *small scale* a diferencia del método símplex. Sin embargo para problemas *small scale* en general realizan más iteraciones que el método símplex.\n",
    "\n",
    "En cada iteración el método símplex se mueve de la solución FEV actual a una solución FEV adyacente por una arista de la frontera de la región factible, ver {ref}`método símplex <METODOSIMPLEX>`. Los problemas del tipo *large scale* tienen una cantidad enorme de soluciones FEV. Para ver esto piénsese en un PL al que se le van añadiendo restricciones funcionales. Entonces se añadirán aristas y por tanto soluciones FEV.  Los métodos PI evitan tal comportamiento pues avanzan por el interior de la región factible hacia los puntos óptimos y tiene muy poco efecto el ir añadiedo restricciones funcionales al PL para el desempeño de los métodos PI."
   ]
  },
  {
   "cell_type": "markdown",
   "metadata": {},
   "source": [
    "```{admonition} Observación\n",
    ":class: tip\n",
    "\n",
    "Los métodos PI han mostrado \"buena\" eficiencia (en términos del número de iteraciones realizadas) en resolver problemas de optimización *large scale*. Además son métodos que pueden implementarse para procesamiento con cómputo en paralelo.\n",
    "\n",
    "\n",
    "```"
   ]
  },
  {
   "cell_type": "markdown",
   "metadata": {},
   "source": [
    "Los métodos PI conforme avanzan en las interaciones aproximan a los puntos óptimos en el límite. Por ejemplo, para el {ref}`ejemplo prototipo <EJPROTOTIPO>` de un programa lineal (PL) a continuación se presenta una trayectoria obtenida por un método PI que se aproxima a la solución óptima $(2, 6)$:"
   ]
  },
  {
   "cell_type": "markdown",
   "metadata": {},
   "source": [
    "$$\\displaystyle \\max_{x \\in \\mathbb{R}^2} 3x_1 + 5x_2$$"
   ]
  },
  {
   "cell_type": "markdown",
   "metadata": {},
   "source": [
    "$$\\text{sujeto a: }$$"
   ]
  },
  {
   "cell_type": "markdown",
   "metadata": {},
   "source": [
    "$$x_1 \\leq 4$$"
   ]
  },
  {
   "cell_type": "markdown",
   "metadata": {},
   "source": [
    "$$2x_2 \\leq 12$$"
   ]
  },
  {
   "cell_type": "markdown",
   "metadata": {},
   "source": [
    "$$3x_1 + 2x_2 \\leq 18$$"
   ]
  },
  {
   "cell_type": "markdown",
   "metadata": {},
   "source": [
    "$$x_1 \\geq 0, x_2 \\geq 0$$"
   ]
  },
  {
   "cell_type": "code",
   "execution_count": 1,
   "metadata": {},
   "outputs": [],
   "source": [
    "import numpy as np\n",
    "import matplotlib.pyplot as plt"
   ]
  },
  {
   "cell_type": "code",
   "execution_count": 2,
   "metadata": {},
   "outputs": [],
   "source": [
    "np.set_printoptions(precision=3, suppress=True)"
   ]
  },
  {
   "cell_type": "code",
   "execution_count": 3,
   "metadata": {
    "tags": [
     "hide-input"
    ]
   },
   "outputs": [
    {
     "data": {
      "image/png": "[encoded data removed]",
      "text/plain": [
       "<Figure size 432x288 with 1 Axes>"
      ]
     },
     "metadata": {
      "needs_background": "light"
     },
     "output_type": "display_data"
    }
   ],
   "source": [
    "#x_1 ≤ 4\n",
    "\n",
    "point1_x_1 = (4,0)\n",
    "\n",
    "point2_x_1 = (4, 10)\n",
    "\n",
    "point1_point2_x_1 = np.row_stack((point1_x_1, point2_x_1))\n",
    "\n",
    "#x_1 ≥ 0\n",
    "point3_x_1 = (0,0)\n",
    "\n",
    "point4_x_1 = (0, 10)\n",
    "\n",
    "point3_point4_x_1 = np.row_stack((point3_x_1, point4_x_1))\n",
    "\n",
    "#2x_2 ≤ 12 or x_2 ≤ 6\n",
    "\n",
    "point1_x_2 = (0, 6)\n",
    "\n",
    "point2_x_2 = (8, 6)\n",
    "\n",
    "point1_point2_x_2 = np.row_stack((point1_x_2, point2_x_2))\n",
    "\n",
    "#x_2 ≥ 0\n",
    "\n",
    "point3_x_2 = (0, 0)\n",
    "\n",
    "point4_x_2 = (8, 0)\n",
    "\n",
    "point3_point4_x_2 = np.row_stack((point3_x_2, point4_x_2))\n",
    "\n",
    "#3x_1 + 2x_2 ≤ 18\n",
    "\n",
    "x_1_region_1 = np.linspace(0,4, 100)\n",
    "\n",
    "x_2_region_1 = 1/2*(18 - 3*x_1_region_1)\n",
    "\n",
    "\n",
    "x_1 = np.linspace(0,6, 100)\n",
    "\n",
    "x_2 = 1/2*(18 - 3*x_1)\n",
    "\n",
    "plt.plot(point1_point2_x_1[:,0], point1_point2_x_1[:,1],\n",
    "         point3_point4_x_1[:,0], point3_point4_x_1[:,1],\n",
    "         point1_point2_x_2[:,0], point1_point2_x_2[:,1],\n",
    "         point3_point4_x_2[:,0], point3_point4_x_2[:,1],\n",
    "         x_1, x_2)\n",
    "\n",
    "optimal_point = (2, 6)\n",
    "\n",
    "plt.scatter(optimal_point[0], optimal_point[1], marker='o', s=150,\n",
    "            facecolors=\"none\", edgecolors='b')\n",
    "\n",
    "plt.legend([\"$x_1 = 4$\", \"$x_1 = 0$\", \n",
    "            \"$2x_2 = 12$\", \"$x_2 = 0$\",\n",
    "            \"$3x_1+2x_2 = 18$\", \"(óptimo, valor óptimo)\"], bbox_to_anchor=(1, 1))\n",
    "\n",
    "point_1_interior_points = (1, 2)\n",
    "point_2_interior_points = (1.27, 4)\n",
    "point_3_interior_points = (1.38, 5)\n",
    "point_4_interior_points = (1.56, 5.5)\n",
    "\n",
    "points_interior_points = np.row_stack((point_1_interior_points,\n",
    "                                       point_2_interior_points,\n",
    "                                       point_3_interior_points,\n",
    "                                       point_4_interior_points))\n",
    "\n",
    "plt.plot(points_interior_points[:, 0], points_interior_points[:, 1], \n",
    "         marker='o', color=\"blue\"\n",
    "         )\n",
    "\n",
    "plt.fill_between(x_1_region_1, 0, x_2_region_1, where=x_2_region_1<=6, color=\"plum\")\n",
    "x_1_region_2 = np.linspace(0,2, 100)\n",
    "plt.fill_between(x_1_region_2, 0, 6, color=\"plum\")\n",
    "plt.title(\"Región factible del PL\")\n",
    "plt.show()\n"
   ]
  },
  {
   "cell_type": "markdown",
   "metadata": {},
   "source": [
    "```{margin}\n",
    "\n",
    "Recuérdese que los parámetros de un PL son $b_i, c_i, a_{ij}$.\n",
    "\n",
    "```"
   ]
  },
  {
   "cell_type": "markdown",
   "metadata": {},
   "source": [
    "Aunque los métodos PI son una buena alternativa para resolver PL's perdemos ventajas que tiene el método símplex como es el análisis de sensibilidad y el análisis posterior que puede realizarse al modificar los parámetros del PL. Ver las referencias al final de la nota para tales análisis."
   ]
  },
  {
   "cell_type": "markdown",
   "metadata": {},
   "source": [
    "## Método primal-dual"
   ]
  },
  {
   "cell_type": "markdown",
   "metadata": {},
   "source": [
    "Se describirán dos ideas que se utilizan en los métodos primal dual y posteriormente una tercera idea que utiliza la función de barrera logarítmica (FBL). Para esto, considérese la forma estándar de un PL (PLE):"
   ]
  },
  {
   "cell_type": "markdown",
   "metadata": {},
   "source": [
    "$$\n",
    "\\displaystyle \\min_{x \\in \\mathbb{R}^n} c^Tx\\\\\n",
    "\\text{sujeto a:} \\\\\n",
    "Ax=b\\\\\n",
    "x \\geq 0\n",
    "$$"
   ]
  },
  {
   "cell_type": "markdown",
   "metadata": {},
   "source": [
    "donde: $A \\in \\mathbb{R}^{m \\times n}, b \\in \\mathbb{R}^m$, $m < n$ con *rank* completo por renglones y las restricciones se interpretan de una forma *pointwise*."
   ]
  },
  {
   "cell_type": "markdown",
   "metadata": {},
   "source": [
    "```{margin}\n",
    "\n",
    "Las restricciones $Ax = b$ se pueden escribir con funciones $h: \\mathbb{R}^n \\rightarrow \\mathbb{R}$ , $h_i(x) = b_i-a_i ^Tx$, $a_i$ $i$-ésimo renglón de $A \\in \\mathbb{R}^{m \\times n}$ y $b_i$ $i$-ésima entrada de $b$ para $i=1, \\cdots, m$\n",
    "\n",
    "```"
   ]
  },
  {
   "cell_type": "markdown",
   "metadata": {},
   "source": [
    "La función Lagrangiana del problema anterior es:"
   ]
  },
  {
   "cell_type": "markdown",
   "metadata": {},
   "source": [
    "$$\\mathcal{L}(x, \\lambda, \\nu) = f_o(x) + \\displaystyle \\sum_{i=1}^n \\lambda_i f_i(x) + \\sum_{i=1}^m \\nu_i h_i(x) = c^Tx + \\lambda^T(-x)  + \\nu^T(b-Ax)$$"
   ]
  },
  {
   "cell_type": "markdown",
   "metadata": {},
   "source": [
    "donde: $\\mathcal{L}: \\mathbb{R}^n \\times \\mathbb{R}^n \\times \\mathbb{R}^m \\rightarrow \\mathbb{R}$."
   ]
  },
  {
   "cell_type": "markdown",
   "metadata": {},
   "source": [
    "El problema dual asociado es:"
   ]
  },
  {
   "cell_type": "markdown",
   "metadata": {},
   "source": [
    "```{margin}\n",
    "\n",
    "El problema primal es: \n",
    "\n",
    "$\\displaystyle \\min_{x \\in \\mathbb{R}^n} c^Tx \\\\\n",
    "\\text{sujeto a:}\\\\\n",
    "Ax = b \\\\\n",
    "x \\geq 0\n",
    "$\n",
    "\n",
    "$A \\in \\mathbb{R}^{m \\times n}$ y *rank* de A igual a $m < n$.\n",
    "\n",
    "```"
   ]
  },
  {
   "cell_type": "markdown",
   "metadata": {},
   "source": [
    "$$\\displaystyle \\max_{\\nu \\in \\mathbb{R}^m, \\lambda \\in \\mathbb{R}^n} b^T \\nu \\\\\n",
    "\\text{sujeto a :} \\\\\n",
    "c - A^T \\nu - \\lambda = 0 \\\\\n",
    "\\lambda \\geq 0\n",
    "$$"
   ]
  },
  {
   "cell_type": "markdown",
   "metadata": {},
   "source": [
    "Las condiciones KKT son:"
   ]
  },
  {
   "cell_type": "markdown",
   "metadata": {},
   "source": [
    "```{margin}\n",
    "\n",
    "Ver {ref}`las condiciones KKT para un PL en su forma estándar<CONDKKTPLESTANDAR>`.\n",
    "\n",
    "```"
   ]
  },
  {
   "cell_type": "markdown",
   "metadata": {},
   "source": [
    "$$\n",
    "\\begin{eqnarray}\n",
    "\\nabla_x \\mathcal{L}(x, \\lambda, \\nu) &=& c - A^T\\nu - \\lambda = 0 \\nonumber \\\\\n",
    "\\lambda^Tx &=& 0 \\nonumber \\\\\n",
    "Ax &=& b \\nonumber \\\\\n",
    "-x &\\leq& 0 \\nonumber \\\\\n",
    "\\lambda &\\geq& 0\n",
    "\\end{eqnarray}\n",
    "$$"
   ]
  },
  {
   "cell_type": "markdown",
   "metadata": {},
   "source": [
    "Los métodos de la clase primal-dual encuentran soluciones $(x^*, \\lambda^*, \\nu^*)$ para las igualdades anteriores y modifican las direcciones de búsqueda y tamaños de paso para que las desigualdades se satisfagan de forma **estricta** en cada iteración."
   ]
  },
  {
   "cell_type": "markdown",
   "metadata": {},
   "source": [
    "En los métodos de la clase primal-dual reescribimos las condiciones KKT de optimalidad anteriores mediante una función $F: \\mathbb{R}^{2n + m} \\rightarrow \\mathbb{R}^{2n+m}$ dada por:"
   ]
  },
  {
   "cell_type": "markdown",
   "metadata": {},
   "source": [
    "$$F(x, \\lambda, \\nu ) = \\left [ \\begin{array}{c} A^T \\nu + \\lambda -c \\\\ X \\Lambda e \\\\  b - Ax \\end{array} \\right ]$$\n",
    "\n",
    "\n",
    "y resolvemos la ecuación **no lineal** $F(x, \\lambda, \\nu )=0$ para $(x, \\lambda) \\geq 0$, donde: $X = \\text{diag}(x_1, \\dots, x_n)$, $\\Lambda = \\text{diag}(\\lambda_1, \\dots, \\lambda_n)$ y $e$ es un vector de $1$'s en $\\mathbb{R}^n$. Además en cada iteración se cumple $x^{(k)} > 0$ y $\\lambda^{(k)} > 0$ para $(x^{(k)}, \\lambda^{(k)}, \\nu^{(k)})$, por esto tales métodos son considerados como puntos interiores. "
   ]
  },
  {
   "cell_type": "markdown",
   "metadata": {},
   "source": [
    "Como la mayoría de los métodos iterativos en optimización, los métodos primal-dual tienen un procedimiento para determinar la dirección de búsqueda y una cantidad que debe ser monitoreada cuyo valor alcance un valor objetivo. En el caso de los PLE's tal cantidad es la *duality gap* medida como: $\\lambda^Tx$, ver {ref}`brecha dual <BRECHADUAL>`.  "
   ]
  },
  {
   "cell_type": "markdown",
   "metadata": {},
   "source": [
    "(PRIMIDEAMETPRIMDUAL)="
   ]
  },
  {
   "cell_type": "markdown",
   "metadata": {},
   "source": [
    "### Primera idea: determinar la dirección de búsqueda"
   ]
  },
  {
   "cell_type": "markdown",
   "metadata": {},
   "source": [
    "```{margin}\n",
    "\n",
    "Sistema de ecuaciones no lineales a resolver: \n",
    "\n",
    "$F(x, \\lambda, \\nu ) = \\left [ \\begin{array}{c} A^T \\nu + \\lambda -c \\\\ X \\Lambda e \\\\ b - Ax \\end{array} \\right ] = 0$\n",
    "\n",
    "```"
   ]
  },
  {
   "cell_type": "markdown",
   "metadata": {},
   "source": [
    "La dirección de búsqueda se determina aplicando el método de Newton al sistema de ecuaciones no lineales que se muestra en el margen del PLE. Por tanto, se resuelve el sistema de ecuaciones lineales:"
   ]
  },
  {
   "cell_type": "markdown",
   "metadata": {},
   "source": [
    "$$J_F(x, \\lambda, \\nu) \\left [ \\begin{array}{c} \\Delta x \\\\ \\Delta \\lambda \\\\ \\Delta \\nu \\end{array} \\right ] = - F(x, \\lambda, \\nu)$$"
   ]
  },
  {
   "cell_type": "markdown",
   "metadata": {},
   "source": [
    "donde: $J_F$ es la Jacobiana de $F$ cuya expresión es:\n",
    "\n",
    "$$J_F(x, \\lambda, \\nu) = \\left [ \\begin{array}{ccc} 0 & I & A^T \\\\ \\Lambda & X & 0 \\\\ A & 0 & 0 \\end{array} \\right ].$$"
   ]
  },
  {
   "cell_type": "markdown",
   "metadata": {},
   "source": [
    "para el vector de incógnitas $\\left [ \\begin{array}{c} \\Delta x \\\\ \\Delta \\lambda \\\\ \\Delta \\nu \\end{array} \\right ]$. \n",
    "\n",
    "Una vez calculado tal vector de incógnitas se realiza la actualización:"
   ]
  },
  {
   "cell_type": "markdown",
   "metadata": {},
   "source": [
    "$$\\left [ \\begin{array}{c} x \\\\ \\lambda \\\\ \\nu \\end{array} \\right ]^{(k+1)} = \\left [ \\begin{array}{c} x \\\\ \\lambda \\\\ \\nu \\end{array} \\right ]^{(k)} + \\left [ \\begin{array}{c} \\Delta x \\\\ \\Delta \\lambda \\\\ \\Delta \\nu \\end{array} \\right ]$$\n",
    "\n",
    "donde: $k$ hace referencia a la $k$-ésima iteración."
   ]
  },
  {
   "cell_type": "markdown",
   "metadata": {},
   "source": [
    "Ver {ref}`Sistema de ecuaciones no lineales<SISTECNOLINEALES>`."
   ]
  },
  {
   "cell_type": "markdown",
   "metadata": {},
   "source": [
    "```{admonition} Observación\n",
    ":class: tip\n",
    "\n",
    "Si bien podría elegirse otra dirección de búsqueda, la dirección de Newton (o variantes de ésta) se prefiere por sus propiedades de convergencia e invarianza ante transformaciones afín.\n",
    "\n",
    "```"
   ]
  },
  {
   "cell_type": "markdown",
   "metadata": {},
   "source": [
    "Si denotamos $r_d = A^T \\nu + \\lambda -c, r_p = b - Ax$ como el residual para factibilidad dual y residual para factibilidad primal respectivamente entonces el sistema de ecuaciones lineales a resolver es:\n",
    "\n",
    "$$\\left [ \\begin{array}{ccc} 0 & I & A^T \\\\ \\Lambda & X & 0 \\\\ A & 0 & 0 \\end{array} \\right ]  \\left [ \\begin{array}{c} \\Delta x \\\\ \\Delta \\lambda \\\\ \\Delta \\nu \\end{array} \\right ] =  - \\left [ \\begin{array}{c} r_d \\\\ X \\Lambda e \\\\ r_p \\end{array} \\right ]$$"
   ]
  },
  {
   "cell_type": "markdown",
   "metadata": {},
   "source": [
    "```{admonition} Comentario\n",
    "\n",
    "El sistema de ecuaciones lineales anterior para problemas *large scale* no se construye pues es un sistema cuadrado de tamaño $2n + m \\times 2n + m$ y se resuelve reduciéndolo a sistemas de ecuaciones equivalentes. Representa el paso más costoso del método primal-dual.\n",
    "\n",
    "```"
   ]
  },
  {
   "cell_type": "markdown",
   "metadata": {},
   "source": [
    "(SEGUNIDEAPRIMDUAL)="
   ]
  },
  {
   "cell_type": "markdown",
   "metadata": {},
   "source": [
    "### Segunda idea: cortar el paso"
   ]
  },
  {
   "cell_type": "markdown",
   "metadata": {},
   "source": [
    "Si se toma un paso completo es muy posible que en la siguiente iteración se encuentre muy cerca de alguna de las fronteras de restricción o bien se salga de la región factible. Para esto se define un parámetro $t^{(k)} \\in (0, 1]$ y por tanto la actualización es:\n",
    "\n",
    "$$\\left [ \\begin{array}{c} x \\\\ \\lambda \\\\ \\nu \\end{array} \\right ]^{(k+1)} = \\left [ \\begin{array}{c} x \\\\ \\lambda \\\\ \\nu \\end{array} \\right ]^{(k)} + t^{(k)}  \\left [ \\begin{array}{c} \\Delta x \\\\ \\Delta \\lambda \\\\ \\Delta \\nu \\end{array} \\right ]$$\n",
    "\n",
    "donde: $k$ hace referencia a la $k$-ésima iteración."
   ]
  },
  {
   "cell_type": "markdown",
   "metadata": {},
   "source": [
    "```{admonition} Comentario\n",
    "\n",
    "El parámetro $t^{(k)}$ se calcula con metodologías como búsqueda de línea o regiones de confianza, ver [line search](https://en.wikipedia.org/wiki/Line_search), {ref}`método de búsqueda de línea por backtracking <MBUSLINBACK>`, [trust region](https://en.wikipedia.org/wiki/Trust_region).\n",
    "\n",
    "```"
   ]
  },
  {
   "cell_type": "markdown",
   "metadata": {},
   "source": [
    "## Método primal-dual de barrera logarítmica (BL)"
   ]
  },
  {
   "cell_type": "markdown",
   "metadata": {},
   "source": [
    "### Tercera idea: reducir la *duality gap* y centrar. Uso de la función de barrera logarítmica (FBL)"
   ]
  },
  {
   "cell_type": "markdown",
   "metadata": {},
   "source": [
    "En cada iteración los métodos primal-dual buscan reducir la *duality gap* o bien mantenerse \"cerca\" de la trayectoria nombrada trayectoria central."
   ]
  },
  {
   "cell_type": "markdown",
   "metadata": {},
   "source": [
    "```{margin}\n",
    "\n",
    "Sistema de ecuaciones lineales $\\left [ \\begin{array}{ccc} 0 & I & A^T \\\\ \\Lambda & X & 0 \\\\ A & 0 & 0 \\end{array} \\right ]  \\left [ \\begin{array}{c} \\Delta x \\\\ \\Delta \\lambda \\\\ \\Delta \\nu \\end{array} \\right ] =  - \\left [ \\begin{array}{c} r_d \\\\ X \\Lambda e \\\\ r_p \\end{array} \\right ]$\n",
    "\n",
    "```"
   ]
  },
  {
   "cell_type": "markdown",
   "metadata": {},
   "source": [
    "```{admonition} Comentario\n",
    "\n",
    "Recuérdese que la *duality gap* en un PLE para el par $(x, \\nu)$ primal-dual factible está dada por la diferencia: $c^Tx - b^T \\nu$. La *duality gap* en un PLE es igual a $\\lambda^Tx$. En el sistema de ecuaciones lineales que se muestra en el margen se representa cada sumando de $\\lambda^Tx$ con el producto $X \\Lambda e$ (recuérdese $X, \\Lambda$ son matrices diagonales).\n",
    "\n",
    "```"
   ]
  },
  {
   "cell_type": "markdown",
   "metadata": {},
   "source": [
    "La trayectoria central se define a partir de la FBL, ver [Barrier function](https://en.wikipedia.org/wiki/Barrier_function). La definición siguiente se da para un POCE de forma general."
   ]
  },
  {
   "cell_type": "markdown",
   "metadata": {},
   "source": [
    "```{margin}\n",
    "\n",
    "Las restricciones $Ax = b$ se pueden escribir con funciones $h: \\mathbb{R}^n \\rightarrow \\mathbb{R}$ , $h_i(x) = b_i-a_i ^Tx$, $a_i$ $i$-ésimo renglón de $A \\in \\mathbb{R}^{p \\times n}$ y $b_i$ $i$-ésima entrada de $b$ para $i=1, \\cdots, p$\n",
    "\n",
    "```"
   ]
  },
  {
   "cell_type": "markdown",
   "metadata": {},
   "source": [
    "```{admonition} Definición\n",
    "\n",
    "Considérese el problema de optimización convexa en la forma estándar (POCE):\n",
    "\n",
    "$$\n",
    "\\begin{eqnarray}\n",
    "\\displaystyle \\min_{x \\in \\mathbb{R}^n} &f_o(x)& \\nonumber \\\\\n",
    "&\\text{sujeto a:}& \\nonumber\\\\\n",
    "f_i(x) &\\leq& 0  \\quad i=1,\\dots,m \\nonumber \\\\\n",
    "Ax &=& b\n",
    "\\end{eqnarray}\n",
    "$$ \n",
    "\n",
    "con $A \\in \\mathbb{R}^{p \\times n}$ y *rank* de $A$ igual a $p < n$.\n",
    "\n",
    "Se define la función de barrera logarítmica (FBL) como:\n",
    "\n",
    "$$\\phi(x) =-\\displaystyle \\sum_{i=1}^m \\log(-f_i(x))$$\n",
    "\n",
    "```"
   ]
  },
  {
   "cell_type": "markdown",
   "metadata": {},
   "source": [
    "```{sidebar} Un poco de historia ...\n",
    "\n",
    "La metodología para resolver el problema de barrera logarítmica (PBL) está fundamentada en la *sequential unconstrained minimization technique (SUMT)*, [A. V. Fiacco, G. P. McCormick, 1965](https://www.jstor.org/stable/168637?seq=1). Es una técnica para resolver problemas no lineales sin restricciones que genera una secuencia de puntos interiores factibles que convergen a la solución del problema. Se eligen funciones de barrera con propiedades como la convexidad. Hay versiones de la SUMT para puntos exteriores que inician con puntos no factibles y vía la penalización se busca la convergencia hacia la región factible. En cada iteración de SUMT se define un valor del parámetro de barrera y se resuelve un problema de optimización más sencillo que el original con el método de Newton. La solución de tal problema se utiliza para definir puntos iniciales del siguiente problema a resolver con un valor del parámetro de barrera diferente. A medida que se avanza en las iteraciones la función objetivo del PBL se aproxima cada vez más a $f_o$, al valor óptimo y al conjunto óptimo. \n",
    "\n",
    "\n",
    "```"
   ]
  },
  {
   "cell_type": "markdown",
   "metadata": {},
   "source": [
    "El POCE se resuelve planteando el siguiente problema:\n",
    "\n",
    "$$\n",
    "\\displaystyle \\min_{x \\in \\mathbb{R}^n} f_B(x|t_B) \\\\\n",
    "\\text{sujeto a:} \\\\\n",
    "Ax = b\n",
    "$$\n",
    "\n",
    "donde: $f_B(x|t_B) = f_o(x) + \\frac{1}{t_B} \\phi(x) = f_o(x) -  \\frac{1}{t_B} \\displaystyle \\sum_{i=1}^m \\log(-f_i(x))$, $\\phi: \\mathbb{R}^n \\rightarrow \\mathbb{R}$ con $t_B$ un parámetro positivo que nombramos **parámetro de barrera**. Denotamos a este problema como **problema de barrera logarítmica (PBL)**."
   ]
  },
  {
   "cell_type": "code",
   "execution_count": 4,
   "metadata": {
    "tags": [
     "hide-input"
    ]
   },
   "outputs": [
    {
     "data": {
      "image/png": "[encoded data removed]",
      "text/plain": [
       "<Figure size 432x288 with 1 Axes>"
      ]
     },
     "metadata": {
      "needs_background": "light"
     },
     "output_type": "display_data"
    }
   ],
   "source": [
    "x = np.linspace(-2, -.1, 100)\n",
    "log_barrier = -np.log(-x)\n",
    "t_B1 = 0.2\n",
    "t_B2 = 0.5\n",
    "t_B3 = 1\n",
    "t_B4 = 2\n",
    "t_B5 = 10\n",
    "plt.plot(x, 1/t_B1*log_barrier, \"r\",\n",
    "         x, 1/t_B2*log_barrier, \"b\",\n",
    "         x, 1/t_B3*log_barrier, \"g\",\n",
    "         x, 1/t_B4*log_barrier, \"m\",\n",
    "         x, 1/t_B5*log_barrier, \"c\")\n",
    "plt.legend([\"$t_{B1}=0.2$\",\n",
    "            \"$t_{B2}=0.5$\",\n",
    "            \"$t_{B3}=1$\",\n",
    "            \"$t_{B4}=2$\",\n",
    "            \"$t_{B5}=10$\"], bbox_to_anchor=(1,1))\n",
    "plt.axhline(color=\"black\")\n",
    "plt.axvline(color=\"black\")\n",
    "plt.title(\"Gráfica de la FBL variando el parámetro $t_B$\")\n",
    "plt.show()"
   ]
  },
  {
   "cell_type": "markdown",
   "metadata": {},
   "source": [
    "Valores más grandes de $t_B$ hacen que $f_B(x|t_B)$ tienda a $f_o(x)$. Como se observa en la gráfica anterior al elegir un valor de $t_B$ cada vez más grande se tiene: $f_B(x|t_B) = f_o(x) + \\frac{1}{t_B} \\phi(x) \\approx f_o(x)$. "
   ]
  },
  {
   "cell_type": "markdown",
   "metadata": {},
   "source": [
    "```{margin}\n",
    "\n",
    "El POCE recuérdese es:\n",
    "\n",
    "$\n",
    "\\begin{eqnarray}\n",
    "\\displaystyle \\min_{x \\in \\mathbb{R}^n} &f_o(x)& \\nonumber \\\\\n",
    "&\\text{sujeto a:}& \\nonumber\\\\\n",
    "f_i(x) &\\leq& 0  \\quad i=1,\\dots,m \\nonumber \\\\\n",
    "Ax &=& b\n",
    "\\end{eqnarray}\n",
    "$ \n",
    "\n",
    "y el PBL es:\n",
    "\n",
    "$\n",
    "\\displaystyle \\min_{x \\in \\mathbb{R}^n} f_B(x|t_B) \\\\\n",
    "\\text{sujeto a:} \\\\\n",
    "Ax = b\n",
    "$\n",
    "\n",
    "con $A \\in \\mathbb{R}^{p \\times n}$ y *rank* de $A$ igual a $p < n$, \n",
    "\n",
    "$\\begin{eqnarray}\n",
    "f_B(x|t_B) &=& f_o(x) + \\frac{1}{t_B} \\phi(x) \\nonumber \\\\\n",
    "&=& f_o(x) -  \\frac{1}{t_B} \\displaystyle \\sum_{i=1}^m \\log(-f_i(x))\n",
    "\\end{eqnarray}\n",
    "$.\n",
    "\n",
    "\n",
    "```"
   ]
  },
  {
   "cell_type": "markdown",
   "metadata": {},
   "source": [
    "```{admonition} Comentarios\n",
    "\n",
    "\n",
    "* La función $f(x) = -\\frac{1}{t_B} \\log(-x)$ para $x < 0$ es convexa, diferenciable y aproxima a la función indicadora:\n",
    "\n",
    "$$I(x) = \\begin{cases} \\infty \\text{ si } x > 0 \\\\ 0 \\text{ si } x \\leq 0 \\end{cases}$$\n",
    "\n",
    "\n",
    "la cual es una función discontinua:\n",
    "\n",
    "<img src=\"https://dl.dropboxusercontent.com/s/i4t3j8c9amzue1n/indicator_func.png?dl=0\" heigth=\"250\" width=\"250\">\n",
    "\n",
    "En el dibujo anterior sólo se visualiza para el eje horizontal el intervalo $(-\\infty, 0)$.\n",
    "\n",
    "\n",
    "* La función indicadora del punto anterior ayuda a reescribir el POCE como:\n",
    "\n",
    "$$\\displaystyle \\min_{x \\in \\mathbb{R}^n} f_o(x) + \\displaystyle \\sum_{i=1}^m I(f_i(x))$$\n",
    "\n",
    "$$\\text{sujeto a:}$$\n",
    "\n",
    "$$Ax = b$$\n",
    "\n",
    "por esto resolver el PBL es equivalente a resolver el POCE para valores más grandes de $t_B$.\n",
    "\n",
    "* La FBL es un caso particular de funciones de barrera que penalizan al no satisfacer las restricciones de desigualdad, ver [Penalty method](https://en.wikipedia.org/wiki/Penalty_method).\n",
    "\n",
    "* En general las funciones de barrera deben tener las siguientes propiedades para $x$ primal factibles:\n",
    "\n",
    "1. Tener valores \"pequeños\" si $x$ está \"lejos\" de la frontera de la región factible.\n",
    "\n",
    "2. Tener valores \"grandes\" si $x$ está \"cerca\" de la frontera de la región factible.\n",
    "\n",
    "3. Tener propiedades como convexidad o diferenciabilidad (ventajas al tener tales propiedades).\n",
    "\n",
    "Por lo anterior las funciones de barrera evitan que se cruce o llegue a la frontera de la región factible del problema primal.\n",
    "\n",
    "\n",
    "* Otra función de barrera para un PL es: $\\phi(x) = -\\displaystyle \\sum_{i=1}^m \\frac{1}{f_i(x)}$ para $x$ factibles.\n",
    "\n",
    "* Los problemas de optimización convexos con únicamente restricciones de igualdad pueden resolverse aplicando extensiones del método de Newton.\n",
    "\n",
    "\n",
    "```"
   ]
  },
  {
   "cell_type": "markdown",
   "metadata": {},
   "source": [
    "### Trayectoria central determinada por los puntos centrales"
   ]
  },
  {
   "cell_type": "markdown",
   "metadata": {},
   "source": [
    "```{margin}\n",
    "\n",
    "El PBL para un POCE recuérdese es:\n",
    "\n",
    "$\n",
    "\\displaystyle \\min_{x \\in \\mathbb{R}^n} f_B(x|t_B) \\\\\n",
    "\\text{sujeto a:} \\\\\n",
    "Ax = b\n",
    "$\n",
    "\n",
    "con $A \\in \\mathbb{R}^{p \\times n}$ y *rank* de $A$ igual a $p < n$, \n",
    "\n",
    "$\\begin{eqnarray}\n",
    "f_B(x|t_B) &=& f_o(x) + \\frac{1}{t_B} \\phi(x) \\nonumber \\\\\n",
    "&=& f_o(x) -  \\frac{1}{t_B} \\displaystyle \\sum_{i=1}^m \\log(-f_i(x))\n",
    "\\end{eqnarray}\n",
    "$.\n",
    "\n",
    "```"
   ]
  },
  {
   "cell_type": "markdown",
   "metadata": {},
   "source": [
    "```{admonition} Definición\n",
    "\n",
    "Para cada valor del parámetro de barrera $t_B$, se definen los **puntos centrales** $x^*(t_B)$ como la solución del PBL y el conjunto de puntos centrales se le nombra trayectoria central, *central path*.\n",
    "\n",
    "```"
   ]
  },
  {
   "cell_type": "markdown",
   "metadata": {},
   "source": [
    "Revisemos las condiciones KKT de optimalidad que deben cumplir los puntos centrales para un PLE:\n"
   ]
  },
  {
   "cell_type": "markdown",
   "metadata": {},
   "source": [
    "$$\n",
    "\\displaystyle \\min_{x \\in \\mathbb{R}^n} c^Tx\\\\\n",
    "\\text{sujeto a:} \\\\\n",
    "Ax=b\\\\\n",
    "x \\geq 0\n",
    "$$\n",
    "\n",
    "con $A \\in \\mathbb{R}^{m \\times n}$ y *rank* de $A$ igual a $m < n$."
   ]
  },
  {
   "cell_type": "markdown",
   "metadata": {},
   "source": [
    "Se tiene:\n"
   ]
  },
  {
   "cell_type": "markdown",
   "metadata": {},
   "source": [
    "```{margin}\n",
    "\n",
    "Recuérdese que en un PLE $f_i(x) = - x_i \\forall i=1, \\cdots, n$.\n",
    "\n",
    "```"
   ]
  },
  {
   "cell_type": "markdown",
   "metadata": {},
   "source": [
    "\n",
    "$$\n",
    "\\begin{eqnarray}\n",
    "\\phi(x) &=& -\\displaystyle \\sum_{i=1}^n \\log(-f_i(x)) \\nonumber \\\\\n",
    "&=& - \\sum_{i=1}^n \\log(x_i)\n",
    "\\end{eqnarray}\n",
    "$$\n"
   ]
  },
  {
   "cell_type": "markdown",
   "metadata": {},
   "source": [
    "y por tanto el PBL para el PLE (PBL-PLE) es:"
   ]
  },
  {
   "cell_type": "markdown",
   "metadata": {},
   "source": [
    "$$\\displaystyle \\min_{x \\in \\mathbb{R}^n} c^Tx - \\frac{1}{t_B} \\displaystyle \\sum_{i=1}^n \\log(x_i)$$\n",
    "\n",
    "$$\\text{sujeto a:}$$\n",
    "\n",
    "$$Ax=b$$\n"
   ]
  },
  {
   "cell_type": "markdown",
   "metadata": {},
   "source": [
    "La función Lagrangiana del PBL-PLE es:\n"
   ]
  },
  {
   "cell_type": "markdown",
   "metadata": {},
   "source": [
    "$$\n",
    "\\begin{eqnarray}\n",
    "\\mathcal{L}_B(x, \\nu) &=& f_B(x|t_B) + \\sum_{i=1}^m \\nu_i h_i(x) \\nonumber \\\\\n",
    "&=& c^Tx - \\frac{1}{t_B} \\displaystyle \\sum_{i=1}^n \\log(x_i)  + \\sum_{i=1}^m \\nu_i(b_i-a_i ^Tx) \\nonumber \\\\\n",
    "&=& c^Tx - \\frac{1}{t_B} \\displaystyle \\sum_{i=1}^n \\log(x_i)  + \\nu^T(b-Ax) \\nonumber\n",
    "\\end{eqnarray}\n",
    "$$"
   ]
  },
  {
   "cell_type": "markdown",
   "metadata": {},
   "source": [
    "con $a_i$ $i$-ésimo renglón de $A$ y $b_i$ $i$-ésima entrada de $b$. Las condiciones necesarias y suficientes KKT de optimalidad del PBL-PLE son:"
   ]
  },
  {
   "cell_type": "markdown",
   "metadata": {},
   "source": [
    "```{margin}\n",
    "\n",
    "Recuérdese que las condiciones de KKT para un PLE son:\n",
    "\n",
    "$\n",
    "\\begin{eqnarray}\n",
    "\\nabla_x \\mathcal{L}(x, \\lambda, \\nu) &=& c - A^T\\nu - \\lambda = 0 \\nonumber \\\\\n",
    "\\lambda^Tx &=& 0 \\nonumber \\\\\n",
    "Ax &=& b \\nonumber \\\\\n",
    "-x &\\leq& 0 \\nonumber \\\\\n",
    "\\lambda &\\geq& 0\n",
    "\\end{eqnarray}\n",
    "$\n",
    "\n",
    "```"
   ]
  },
  {
   "cell_type": "markdown",
   "metadata": {},
   "source": [
    "$$\n",
    "\\begin{eqnarray}\n",
    "\\nabla_x \\mathcal{L}_B(x, \\nu) &=& c - A^T\\nu - \\frac{1}{t_B}d = 0 \\nonumber \\\\\n",
    "Ax &=& b \\nonumber \\\\\n",
    "\\end{eqnarray}\n",
    "$$\n",
    "\n",
    "donde: $d = X^{-1}e = \\left [ \\begin{array}{c} \\frac{1}{x_1} \\\\ \\vdots \\\\ \\frac{1}{x_n} \\\\ \\end{array} \\right ]$. Ver {ref}`condiciones KKT para un PL en su forma estándar <CONDKKTPLESTANDAR>` (se muestran en el margen)."
   ]
  },
  {
   "cell_type": "markdown",
   "metadata": {},
   "source": [
    "Los puntos centrales $x^*(t_B)$ resuelven el PBL-PLE y por tanto satisfacen:\n",
    "\n",
    "$$\n",
    "\\begin{eqnarray}\n",
    "\\nabla_x \\mathcal{L}_B(x^*(t_B), \\nu) &=& c - A^T\\nu - \\frac{1}{t_B} d(t_B) = 0 \\nonumber \\\\\n",
    "Ax^*(t_B) &=& b \\nonumber \\\\\n",
    "\\end{eqnarray}\n",
    "$$"
   ]
  },
  {
   "cell_type": "markdown",
   "metadata": {},
   "source": [
    "donde: $d(t_B) = X^{*-1}(t)e = \\left [ \\begin{array}{c} \\frac{1}{x_1^*(t_B)} \\\\ \\vdots \\\\ \\frac{1}{x_n^*(t_B)} \\\\ \\end{array} \\right ]$."
   ]
  },
  {
   "cell_type": "markdown",
   "metadata": {},
   "source": [
    "### Relación entre las condiciones KKT de optimalidad del PLE y las del PBL-PLE"
   ]
  },
  {
   "cell_type": "markdown",
   "metadata": {},
   "source": [
    "Para establecer la relación entre las condiciones KKT de optimalidad del PLE y las del PBL-PLE considérese **sólo** en esta sección que el PBL-PLE es:"
   ]
  },
  {
   "cell_type": "markdown",
   "metadata": {},
   "source": [
    "$$\\displaystyle \\min_{x \\in \\mathbb{R}^n} t_B c^Tx - \\displaystyle \\sum_{i=1}^n \\log(x_i)$$\n",
    "\n",
    "$$\\text{sujeto a:}$$\n",
    "\n",
    "$$Ax=b$$\n"
   ]
  },
  {
   "cell_type": "markdown",
   "metadata": {},
   "source": [
    "```{margin}\n",
    "\n",
    "La FBL en el PBL-PLE recuérdese es:\n",
    "\n",
    "$\n",
    "\\begin{eqnarray}\n",
    "\\phi(x) &=& -\\displaystyle \\sum_{i=1}^n \\log(-f_i(x)) \\nonumber \\\\\n",
    "&=& - \\sum_{i=1}^n \\log(x_i)\n",
    "\\end{eqnarray}\n",
    "$\n",
    "\n",
    "```"
   ]
  },
  {
   "cell_type": "markdown",
   "metadata": {},
   "source": [
    "```{admonition} Observación\n",
    ":class: tip\n",
    "\n",
    "Esta forma del PBL-PLE es equivalente a la revisada anteriormente en la que la FBL se divide por el parámetro $t_B$. Es una cuestión sólo de escritura matemática lo que se realiza a continuación.\n",
    "\n",
    "```"
   ]
  },
  {
   "cell_type": "markdown",
   "metadata": {},
   "source": [
    "Las condiciones KKT son iguales a las revisadas en la sección anterior salvo la posición en la que se tiene el parámetro $t_B$:"
   ]
  },
  {
   "cell_type": "markdown",
   "metadata": {},
   "source": [
    "$$\n",
    "\\begin{eqnarray}\n",
    "\\nabla_x \\mathcal{L}_B(x^*(t_B), \\hat{\\nu}) &=& t_Bc - A^T\\hat{\\nu} - d(t_B) = 0 \\nonumber \\\\\n",
    "Ax^*(t_B) &=& b \\nonumber \\\\\n",
    "\\end{eqnarray}\n",
    "$$"
   ]
  },
  {
   "cell_type": "markdown",
   "metadata": {},
   "source": [
    "donde: $\\hat{\\nu} = t_B \\nu$."
   ]
  },
  {
   "cell_type": "markdown",
   "metadata": {},
   "source": [
    "```{margin}\n",
    "\n",
    "Recuérdese que las condiciones de KKT para un PLE son:\n",
    "\n",
    "$\n",
    "\\begin{eqnarray}\n",
    "\\nabla_x \\mathcal{L}(x, \\lambda, \\nu) &=& c - A^T\\nu - \\lambda = 0 \\nonumber \\\\\n",
    "\\lambda^Tx &=& 0 \\nonumber \\\\\n",
    "Ax &=& b \\nonumber \\\\\n",
    "-x &\\leq& 0 \\nonumber \\\\\n",
    "\\lambda &\\geq& 0\n",
    "\\end{eqnarray}\n",
    "$\n",
    "\n",
    "```"
   ]
  },
  {
   "cell_type": "markdown",
   "metadata": {},
   "source": [
    "Las condiciones KKT para un PLE se muestran en el margen y obsérvese que si $\\lambda^*(t_B) = - \\frac{1}{t_B f_i(x^*(t_B))} = - \\frac{1}{t_B (-x_i^*(t_B))}$ con $x_i^*(t_B)$ $i$-ésima componente de $x^*(t_B)$ $\\forall i = 1, \\dots, n$ entonces se cumple:"
   ]
  },
  {
   "cell_type": "markdown",
   "metadata": {},
   "source": [
    "$$\\lambda^*(t_B) > 0$$"
   ]
  },
  {
   "cell_type": "markdown",
   "metadata": {},
   "source": [
    "pues por la definición de la FBL en el PBL-PLE debe cumplirse: $f_i(x)  = -x_i < 0$ o bien para los puntos centrales $-x_i^*(t_B) < 0 \\forall i=1, \\dots, n$. Lo anterior resulta del dominio de la función $\\log$ la cual está definida únicamente en $\\mathbb{R}_{++}$ (reales positivos). Esto satisface las desigualdades de factibilidad primal y de factibilidad dual de las condiciones KKT de optimalidad."
   ]
  },
  {
   "cell_type": "markdown",
   "metadata": {},
   "source": [
    "La holgura complementaria de las condiciones KKT de optimalidad para un PBL-PLE son:\n",
    "\n",
    "$$\n",
    "\\begin{eqnarray}\n",
    "\\lambda^*(t_B)^Tx^*(t_B) &=& \\displaystyle \\sum_{i=1}^n \\lambda_i^*(t_B) x_i^*(t_B) \\nonumber \\\\\n",
    "&=& \\displaystyle \\sum_{i=1}^n - \\frac{x_i^*(t_B)}{t_B (-x_i^*(t_B))} \\nonumber \\\\\n",
    "&=& \\displaystyle \\sum_{i=1}^n \\frac{1}{t_B} = \\frac{n}{t_B}\n",
    "\\end{eqnarray}\n",
    "$$"
   ]
  },
  {
   "cell_type": "markdown",
   "metadata": {},
   "source": [
    "```{margin}\n",
    "\n",
    "El POCE recuérdese es:\n",
    "\n",
    "$\n",
    "\\begin{eqnarray}\n",
    "\\displaystyle \\min_{x \\in \\mathbb{R}^n} &f_o(x)& \\nonumber \\\\\n",
    "&\\text{sujeto a:}& \\nonumber\\\\\n",
    "f_i(x) &\\leq& 0  \\quad i=1,\\dots,m \\nonumber \\\\\n",
    "Ax &=& b\n",
    "\\end{eqnarray}\n",
    "$ \n",
    "\n",
    "y el PBL es:\n",
    "\n",
    "$\n",
    "\\displaystyle \\min_{x \\in \\mathbb{R}^n} f_B(x|t_B) \\\\\n",
    "\\text{sujeto a:} \\\\\n",
    "Ax = b\n",
    "$\n",
    "\n",
    "con $A \\in \\mathbb{R}^{p \\times n}$ y *rank* de $A$ igual a $p < n$,\n",
    "\n",
    "$\\begin{eqnarray}\n",
    "f_B(x|t_B) &=& f_o(x) + \\frac{1}{t_B} \\phi(x) \\nonumber \\\\\n",
    "&=& f_o(x) -  \\frac{1}{t_B} \\displaystyle \\sum_{i=1}^m \\log(-f_i(x))\n",
    "\\end{eqnarray}\n",
    "$.\n",
    "\n",
    "\n",
    "```"
   ]
  },
  {
   "cell_type": "markdown",
   "metadata": {},
   "source": [
    "Por tanto la *duality gap* asociada con $x^*(t_B), \\lambda^*(t_B), \\nu^*(t_B)$ es: $\\frac{n}{t_B}$ donde: $\\nu^*(t_B) = \\frac{\\hat{\\nu}}{t_B}$."
   ]
  },
  {
   "cell_type": "markdown",
   "metadata": {},
   "source": [
    "```{margin}\n",
    "\n",
    "Recuérdese que las condiciones de KKT para un PLE son:\n",
    "\n",
    "$\n",
    "\\begin{eqnarray}\n",
    "\\nabla_x \\mathcal{L}(x, \\lambda, \\nu) &=& c - A^T\\nu - \\lambda = 0 \\nonumber \\\\\n",
    "\\lambda^Tx &=& 0 \\nonumber \\\\\n",
    "Ax &=& b \\nonumber \\\\\n",
    "-x &\\leq& 0 \\nonumber \\\\\n",
    "\\lambda &\\geq& 0\n",
    "\\end{eqnarray}\n",
    "$\n",
    "\n",
    "```"
   ]
  },
  {
   "cell_type": "markdown",
   "metadata": {},
   "source": [
    "```{admonition} Comentarios\n",
    "\n",
    "* Por la forma de la *duality gap* anterior para los puntos centrales si $t_B$ se incrementa entonces la *duality gap* tiende a cero en el método primal dual de BL.\n",
    "\n",
    "* Para un PBL que se obtiene de un POCE la *duality gap* anterior para los puntos centrales es $\\frac{m}{t_B}$ pues se tienen $m$ funciones $f_i$ de desigualdad.\n",
    "\n",
    "* Las condiciones KKT de optimalidad del PBL-PLE son las condiciones KKT de optimalidad del PLE (que se muestran en el margen) pero perturbadas por el parámetro $t_B$:\n",
    "\n",
    "$$\n",
    "\\begin{eqnarray}\n",
    "\\nabla_x \\mathcal{L}_B(x(t_B), \\hat{\\nu}) &=& t_Bc - A^T\\hat{\\nu} - d(t_B) = 0 \\nonumber \\\\\n",
    "Ax(t_B) &=& b \\nonumber \\\\\n",
    "\\lambda(t_B)x_i(t_B) &=& \\frac{1}{t_B}\n",
    "\\end{eqnarray}\n",
    "$$\n",
    "\n",
    "donde: $\\hat{\\nu} = t_B \\nu$, $d(t_B) = X^{-1}(t)e = \\left [ \\begin{array}{c} \\frac{1}{x_1^(t_B)} \\\\ \\vdots \\\\ \\frac{1}{x_n^(t_B)} \\\\ \\end{array} \\right ]$ y la *duality gap* se estima como: $\\lambda(t_B)^Tx(t_B) = \\frac{n}{t_B}$.\n",
    "\n",
    "```"
   ]
  },
  {
   "cell_type": "markdown",
   "metadata": {},
   "source": [
    "### ¿Cómo calcular los puntos centrales?"
   ]
  },
  {
   "cell_type": "markdown",
   "metadata": {},
   "source": [
    "Para calcular los puntos centrales del PBL-PLE se utiliza la {ref}`primera idea: determinar la dirección de búsqueda <PRIMIDEAMETPRIMDUAL>` en la que se resuelve el siguiente sistema de ecuaciones no lineales con el método de Newton:\n"
   ]
  },
  {
   "cell_type": "markdown",
   "metadata": {},
   "source": [
    "```{margin}\n",
    "\n",
    "El PBL-PLE recuérdese es:\n",
    "\n",
    "$\n",
    "\\displaystyle \\min_{x \\in \\mathbb{R}^n} c^Tx - \\frac{1}{t_B} \\displaystyle \\sum_{i=1}^n \\log(x_i) \\nonumber \\\\\n",
    "\\text{sujeto a:} \\nonumber \\\\\n",
    "Ax=b\n",
    "$\n",
    "\n",
    "con $A \\in \\mathbb{R}^{m \\times n}$ y *rank* de $A$ igual a $m < n$. Las condiciones KKT son:\n",
    "\n",
    "$\n",
    "\\begin{eqnarray}\n",
    "\\nabla_x \\mathcal{L}_B(x, \\nu) &=& c - A^T\\nu - \\frac{1}{t_B}d = 0 \\nonumber \\\\\n",
    "Ax &=& b \\nonumber \\\\\n",
    "\\end{eqnarray}\n",
    "$\n",
    "\n",
    "donde: $d = X^{-1}e = \\left [ \\begin{array}{c} \\frac{1}{x_1} \\\\ \\vdots \\\\ \\frac{1}{x_n} \\\\ \\end{array} \\right ]$. \n",
    "\n",
    "```"
   ]
  },
  {
   "cell_type": "markdown",
   "metadata": {},
   "source": [
    "$$F(x, \\nu) = \\left [ \\begin{array}{c} c - A^T\\nu - \\frac{1}{t_B}d(t_B) \\\\ b- Ax(t_B) \\end{array} \\right ] = 0$$\n",
    "\n",
    "\n",
    "donde: $d(t_B) = X^{*-1}(t)e = \\left [ \\begin{array}{c} \\frac{1}{x_1^*(t_B)} \\\\ \\vdots \\\\ \\frac{1}{x_n^*(t_B)} \\\\ \\end{array} \\right ]$. \n"
   ]
  },
  {
   "cell_type": "markdown",
   "metadata": {},
   "source": [
    "Este sistema de ecuaciones no lineales conduce a resolver el sistema de ecuaciones lineales:\n"
   ]
  },
  {
   "cell_type": "markdown",
   "metadata": {},
   "source": [
    "$$J_F(x, \\nu) \\left [ \\begin{array}{c} \\Delta x \\\\ \\Delta \\nu \\end{array} \\right ] = - F(x, \\nu)$$"
   ]
  },
  {
   "cell_type": "markdown",
   "metadata": {},
   "source": [
    "donde: $J_F(x, \\nu) = \\left [ \\begin{array}{cc} \\nabla_{xx} ^2 \\mathcal{L}_B(x, \\nu)  &  \\nabla_{\\nu x} \\mathcal{L}_B(x,\\nu) \\\\ -A & 0\\end{array} \\right ] = \\left [ \\begin{array}{cc} \\frac{1}{t_B} D^2(t_B) &  -A^T \\\\ -A & 0\\end{array} \\right ]$ y $D^2(t_B) = \\text{diag}^2(d(t_B)) \\in \\mathbb{R}^{n \\times n}$. \n",
    "\n",
    "La actualización en el método de Newton es:"
   ]
  },
  {
   "cell_type": "markdown",
   "metadata": {},
   "source": [
    "$$\\left [ \\begin{array}{c} x \\\\ \\nu \\end{array} \\right ]^{(k+1)} = \\left [ \\begin{array}{c} x \\\\ \\nu \\end{array} \\right ]^{(k)} + t^{(k)}  \\left [ \\begin{array}{c} \\Delta x \\\\ \\Delta \\nu \\end{array} \\right ]$$"
   ]
  },
  {
   "cell_type": "markdown",
   "metadata": {},
   "source": [
    "donde se utilizó la {ref}`segunda idea: cortar el paso <SEGUNIDEAPRIMDUAL>`."
   ]
  },
  {
   "cell_type": "markdown",
   "metadata": {},
   "source": [
    "```{admonition} Comentarios\n",
    "\n",
    "* Se pueden eliminar los signos negativos que están en los bloques de la matriz del sistema de ecuaciones lineales anterior que contienen $A, A^T$ pero por consistencia con lo desarrollado en la nota de dualidad para un PL se mantienen los signos negativos (si se eliminan también debe de ajustarse el lado derecho del sistema). Esta modificación se relaciona con la definición de la función Lagrangiana.\n",
    "\n",
    "* También una modificación que se realiza para que en el primer bloque del sistema de ecuaciones lineales anterior no tengamos del lado izquierdo y del lado derecho $\\frac{1}{t_B}$ se puede trabajar con el problema de optimización equivalente:\n",
    "\n",
    "\n",
    "$$\n",
    "\\displaystyle \\min_{x \\in \\mathbb{R}^n} f_B(x|t_B) \\\\\n",
    "\\text{sujeto a:} \\\\\n",
    "Ax = b\n",
    "$$\n",
    "\n",
    "donde: $f_B(x|t_B) = t_Bf_o(x) + \\phi(x) = t_Bf_o(x) - \\displaystyle \\sum_{i=1}^m \\log(-f_i(x))$.\n",
    "\n",
    "\n",
    "**Estas dos modificaciones se utilizan para implementar el método primal-dual de BL**.\n",
    "\n",
    "\n",
    "```"
   ]
  },
  {
   "cell_type": "markdown",
   "metadata": {},
   "source": [
    "## Método primal-dual de BL aplicado al ejemplo prototipo"
   ]
  },
  {
   "cell_type": "code",
   "execution_count": 5,
   "metadata": {
    "tags": [
     "margin"
    ]
   },
   "outputs": [],
   "source": [
    "!pip install --quiet \"git+https://github.com/ITAM-DS/analisis-numerico-computo-cientifico.git#egg=opt&subdirectory=src\""
   ]
  },
  {
   "cell_type": "code",
   "execution_count": 6,
   "metadata": {},
   "outputs": [],
   "source": [
    "from opt.utils_logarithmic_barrier import log_barrier_aux_eval_constraints, \\\n",
    "constraint_inequalities_funcs_generator, constraint_inequalities_funcs_eval, \\\n",
    "phi, logarithmic_barrier, line_search_for_log_barrier_by_backtracking"
   ]
  },
  {
   "cell_type": "markdown",
   "metadata": {},
   "source": [
    "Problema de optimización:"
   ]
  },
  {
   "cell_type": "markdown",
   "metadata": {},
   "source": [
    "$$\n",
    "\\displaystyle \\max_{x \\in \\mathbb{R}^2} 3x_1 + 5x_2\\\\\n",
    "\\text{sujeto a: } \\\\\n",
    "x_1 \\leq 4 \\nonumber    \\\\\n",
    "2x_2 \\leq 12            \\\\\n",
    "3x_1 + 2x_2 \\leq 18     \\\\\n",
    "x_1 \\geq 0              \\\\\n",
    "x_2 \\geq 0              \\\\\n",
    "$$\n"
   ]
  },
  {
   "cell_type": "markdown",
   "metadata": {},
   "source": [
    "Definimos la función $\\phi: \\mathbb{R}^n \\rightarrow \\mathbb{R}$ como $\\phi(x) = - \\displaystyle \\sum_{i=1}^m \\log(-(a_i ^Tx-b_i)) - \\sum_{i=1}^n \\log(-{e}_i ^T(-x))$ con $a_i$ $i$-ésimo renglón de $A = \\left [ \\begin{array}{cc} 1 & 0 \\\\0 & 2 \\\\ 3 & 2 \\end{array} \\right ]$, $b_i$ $i$-ésima entrada del vector $b = \\left [ \\begin{array}{c} 4 \\\\ 12 \\\\ 18 \\end{array} \\right ]$ y $e_i$ $i$-ésimo vector canónico."
   ]
  },
  {
   "cell_type": "markdown",
   "metadata": {},
   "source": [
    "Para este problema las curvas de nivel de la función $\\phi$ se ven como sigue:"
   ]
  },
  {
   "cell_type": "code",
   "execution_count": 7,
   "metadata": {},
   "outputs": [],
   "source": [
    "const_ineq_two_pars = {0: lambda x1,x2: x1 - 4,\n",
    "                       1: lambda x1,x2: 2*x2 - 12,\n",
    "                       2: lambda x1,x2: 3*x1 + 2*x2 - 18,\n",
    "                       3: lambda x1,x2: -x1,\n",
    "                       4: lambda x1,x2: -x2\n",
    "                       }\n",
    "def const_ineq_funcs_eval_two_pars(x1,x2, \n",
    "                                   const_ineq):\n",
    "    \"\"\"\n",
    "    Auxiliary function for the evaluation of constraint inequalities\n",
    "    in logarithmic barrier function using two parameters.\n",
    "    \"\"\"\n",
    "    const_ineq_funcs_eval = np.array([const(x1,x2) for const in \\\n",
    "                                      constraint_inequalities_funcs_generator(const_ineq)])\n",
    "    return const_ineq_funcs_eval\n",
    "def phi_two_pars(x1,x2, const_ineq):\n",
    "    \"\"\"\n",
    "    Implementation of phi function for logarithmic barrier using two parameters.\n",
    "    \"\"\"\n",
    "    const_ineq_funcs_eval = -const_ineq_funcs_eval_two_pars(x1,\n",
    "                                                            x2,\n",
    "                                                            const_ineq)\n",
    "    log_barrier_const_eval = np.log(const_ineq_funcs_eval)\n",
    "    return -np.sum(log_barrier_const_eval, axis=0)"
   ]
  },
  {
   "cell_type": "code",
   "execution_count": 8,
   "metadata": {},
   "outputs": [
    {
     "name": "stderr",
     "output_type": "stream",
     "text": [
      "/usr/local/lib/python3.7/dist-packages/ipykernel_launcher.py:23: RuntimeWarning: divide by zero encountered in log\n",
      "/usr/local/lib/python3.7/dist-packages/ipykernel_launcher.py:23: RuntimeWarning: invalid value encountered in log\n"
     ]
    },
    {
     "data": {
      "image/png": "[encoded data removed]",
      "text/plain": [
       "<Figure size 432x288 with 1 Axes>"
      ]
     },
     "metadata": {
      "needs_background": "light"
     },
     "output_type": "display_data"
    }
   ],
   "source": [
    "density=1e-1\n",
    "x1l=0.1\n",
    "x2d=0.1\n",
    "x1r=4\n",
    "x2u=8\n",
    "x1_p=np.arange(x1l,x1r,density)\n",
    "x2_p=np.arange(x2d,x2u,density)\n",
    "x1_mesh,x2_mesh = np.meshgrid(x1_p,x2_p)\n",
    "z = phi_two_pars(x1_mesh,x2_mesh,const_ineq_two_pars)\n",
    "plt.plot(point1_point2_x_1[:,0], point1_point2_x_1[:,1], \"--\", color=\"black\", label=\"_nolegend_\") \n",
    "plt.plot(point3_point4_x_1[:,0], point3_point4_x_1[:,1], \"--\", color=\"black\", label=\"_nolegend_\")\n",
    "plt.plot(point1_point2_x_2[:,0], point1_point2_x_2[:,1], \"--\", color=\"black\", label=\"_nolegend_\")\n",
    "plt.plot(point3_point4_x_2[:,0], point3_point4_x_2[:,1], \"--\", color=\"black\", label=\"_nolegend_\")\n",
    "plt.plot(x_1, x_2, \"--\", color=\"black\", label=\"_nolegend_\")\n",
    "plt.contour(x1_p, x2_p, z)\n",
    "plt.title(\"Curvas de nivel de $\\phi$\")\n",
    "plt.show()"
   ]
  },
  {
   "cell_type": "markdown",
   "metadata": {},
   "source": [
    "Reescribimos el problema anterior sin las restricciones $A x \\leq b$ como:"
   ]
  },
  {
   "cell_type": "markdown",
   "metadata": {},
   "source": [
    "$\n",
    "\\displaystyle \\min_{x \\in \\mathbb{R}^2} t_B(-3x_1 -5x_2) - [\\log(4-x_1) + \\log(12 - 2x_2) + \\log(18 - (3 x_1 + 2 x_2)) + \\log(x_1) + \\log(x_2) ]\\\\\n",
    "$"
   ]
  },
  {
   "cell_type": "markdown",
   "metadata": {},
   "source": [
    "Realizamos la actualización:\n",
    "\n",
    "$$\\left [ \\begin{array}{c}x_1 \\\\ x_2 \\end{array} \\right ] = \\left [ \\begin{array}{c}x_1 \\\\ x_2 \\end{array} \\right ] + t \\left [ \\begin{array}{c}\\Delta x_1 \\\\ \\Delta x_2 \\end{array} \\right ]$$"
   ]
  },
  {
   "cell_type": "markdown",
   "metadata": {},
   "source": [
    "donde: $t$ es parámetro de *backtracking* y $\\left [ \\begin{array}{c}\\Delta x_1 \\\\ \\Delta x_2 \\end{array} \\right ]$ es solución del sistema de ecuaciones lineales:"
   ]
  },
  {
   "cell_type": "markdown",
   "metadata": {},
   "source": [
    "$$\n",
    "\\nabla^2f_{B}(x) \\left [ \\begin{array}{c}\\Delta x_1 \\\\ \\Delta x_2 \\end{array} \\right ] = - \\nabla f_{B}(x) \\nonumber \\\\\n",
    "$$"
   ]
  },
  {
   "cell_type": "markdown",
   "metadata": {},
   "source": [
    "que para este problema es:\n",
    "\n",
    "$$\n",
    "\\begin{eqnarray}\n",
    "\\tilde{A}^T \\text{diag}^2(d)\\tilde{A} \\left [ \\begin{array}{c}\\Delta x_1 \\\\ \\Delta x_2 \\end{array} \\right ] &=& -(t_Bc + \\tilde{A}^Td(t_B)) \\nonumber \n",
    "\\end{eqnarray}\n",
    "$$"
   ]
  },
  {
   "cell_type": "markdown",
   "metadata": {},
   "source": [
    "donde:\n",
    "\n",
    "$c = \\left [ \\begin{array}{c}-3 \\\\ -5 \\end{array} \\right ], \n",
    "\\tilde{A} = \\left [ \\begin{array}{c} A \\\\ I \\end{array} \\right ] = \\left [ \\begin{array}{cc} 1 & 0 \\\\0 & 2 \\\\ 3 & 2 \\\\ 1 & 0 \\\\ 0 & 1 \\end{array} \\right ]$, \n",
    "$b_i$ $i$-ésima entrada del vector $b = \\left [ \\begin{array}{c} 4 \\\\ 12 \\\\ 18 \\end{array} \\right ]$.\n",
    "\n",
    "Y el vector $d(t_B) = \\left [ \\begin{array}{c} \\frac{1}{b_1 - a_1^Tx(t_B)} \\\\ \\frac{1}{b_2 - a_2^Tx(t_B)} \\\\ \\frac{1}{b_3 - a_3^Tx(t_B)} \\\\ \\frac{1}{x_1(t_B)} \\\\ \\frac{1}{x_2(t_B)} \\end{array}\\right ] = \\left [ \\begin{array}{c} \\frac{1}{4-x_1(t_B)} \\\\ \\frac{1}{12-2x_2(t_B)} \\\\ \\frac{1}{18-3x_1(t_B)-2x_2(t_B)} \\\\ \\frac{1}{-x_1(t_B)} \\\\ \\frac{1}{-x_2(t_B)} \\end{array}\\right ]$."
   ]
  },
  {
   "cell_type": "markdown",
   "metadata": {},
   "source": [
    "````{admonition} Observación\n",
    ":class: tip\n",
    "\n",
    "Aunque podríamos definir las siguientes líneas de acuerdo al desarrollo matemático anterior:\n",
    "\n",
    "```python\n",
    "A = np.array([[1, 0],\n",
    "              [0, 2],\n",
    "              [3, 2]])\n",
    "m = 3\n",
    "n = 2\n",
    "b = np.array([4, 12, 18])\n",
    "A_tilde = np.row_stack((A, np.eye(n)))\n",
    "\n",
    "d = np.array([1/(b[0]-A[0,:].dot(x)),\n",
    "              1/(b[1]-A[1,:].dot(x)),\n",
    "              1/(b[2]-A[2,:].dot(x)),\n",
    "              1/(-x[0]),\n",
    "              1/(-x[1])])\n",
    "system_matrix = (A_tilde.T*(d*d))@A_tilde\n",
    "rhs = -(t_B*c +A_tilde.T@d)\n",
    "\n",
    "```\n",
    "\n",
    "usamos *SymPy* para uso de diferenciación simbólica (no se recomienda el uso de *SymPy* para problemas *medium* o *large scale* este es un problema *small*).\n",
    "\n",
    "````"
   ]
  },
  {
   "cell_type": "code",
   "execution_count": 9,
   "metadata": {},
   "outputs": [],
   "source": [
    "import sympy\n",
    "from sympy.tensor.array import derive_by_array"
   ]
  },
  {
   "cell_type": "code",
   "execution_count": 10,
   "metadata": {},
   "outputs": [],
   "source": [
    "x1, x2 = sympy.symbols(\"x1, x2\")\n",
    "c = np.array([-3, -5])\n",
    "fo_sympy = c[0]*x1 + c[1]*x2\n",
    "phi_sympy = -(sympy.log(4-x1) + sympy.log(12-2*x2) + sympy.log(18-3*x1-2*x2) + sympy.log(x1) + sympy.log(x2))\n",
    "\n",
    "gf_sympy = derive_by_array(fo_sympy, (x1, x2))\n",
    "Hf_sympy = derive_by_array(gf_sympy, (x1, x2))\n",
    "gphi_sympy = derive_by_array(phi_sympy, (x1, x2))\n",
    "Hphi_sympy = derive_by_array(gphi_sympy, (x1, x2))\n",
    "\n",
    "constraints_ineq = {0: lambda x: x[0] - b[0],\n",
    "                    1: lambda x: 2*x[1] - b[1],\n",
    "                    2: lambda x: 3*x[0] + 2*x[1] - b[2],\n",
    "                    3: lambda x: -x[0],\n",
    "                    4: lambda x: -x[1]\n",
    "                   }\n",
    "x_0 = np.array([1, 2], dtype=float)\n",
    "\n",
    "x = x_0\n",
    "fo = lambda x: np.dot(c, x)\n",
    "\n",
    "t_B_0 = 10\n",
    "b = np.array([4, 12, 18], dtype=float)\n",
    "n = x_0.size\n",
    "\n",
    "\n",
    "gf_B = lambda x, t_B: np.array([component.subs({\"x1\": x[0],\n",
    "                                                \"x2\": x[1],\n",
    "                                                \"t_B\": t_B}) for component in t_B*gf_sympy + gphi_sympy],\n",
    "                                dtype = float)\n",
    "Hf_B = lambda x, t_B: np.array([second_partial_derivative.subs({\"x1\": x[0], \n",
    "                                                                \"x2\": x[1],\n",
    "                                                                \"t_B\": t_B}) for second_partial_derivative in t_B*Hf_sympy + Hphi_sympy],\n",
    "                                dtype=float).reshape(n,n)\n"
   ]
  },
  {
   "cell_type": "markdown",
   "metadata": {},
   "source": [
    "### Primera iteración"
   ]
  },
  {
   "cell_type": "code",
   "execution_count": 11,
   "metadata": {},
   "outputs": [],
   "source": [
    "log_barrier_eval = logarithmic_barrier(fo,x,t_B_0,constraints_ineq)"
   ]
  },
  {
   "cell_type": "code",
   "execution_count": 12,
   "metadata": {},
   "outputs": [
    {
     "name": "stdout",
     "output_type": "stream",
     "text": [
      "-136.26909628370626\n"
     ]
    }
   ],
   "source": [
    "print(log_barrier_eval)"
   ]
  },
  {
   "cell_type": "code",
   "execution_count": 13,
   "metadata": {},
   "outputs": [],
   "source": [
    "const_ineq_funcs_eval = -constraint_inequalities_funcs_eval(x,constraints_ineq)"
   ]
  },
  {
   "cell_type": "code",
   "execution_count": 14,
   "metadata": {},
   "outputs": [
    {
     "name": "stdout",
     "output_type": "stream",
     "text": [
      "[ 3.  8. 11.  1.  2.]\n"
     ]
    }
   ],
   "source": [
    "print(const_ineq_funcs_eval)"
   ]
  },
  {
   "cell_type": "code",
   "execution_count": 15,
   "metadata": {},
   "outputs": [],
   "source": [
    "if(sum(const_ineq_funcs_eval < -np.nextafter(0,1)) <=-1):\n",
    "    print(\"Some constraint inequalities evaluated in x were nonpositive, check approximations\")"
   ]
  },
  {
   "cell_type": "code",
   "execution_count": 16,
   "metadata": {},
   "outputs": [],
   "source": [
    "fo_eval = fo(x)"
   ]
  },
  {
   "cell_type": "code",
   "execution_count": 17,
   "metadata": {},
   "outputs": [
    {
     "name": "stdout",
     "output_type": "stream",
     "text": [
      "-13.0\n"
     ]
    }
   ],
   "source": [
    "print(fo_eval)"
   ]
  },
  {
   "cell_type": "code",
   "execution_count": 18,
   "metadata": {},
   "outputs": [],
   "source": [
    "system_matrix = Hf_B(x, t_B_0)\n",
    "rhs = -gf_B(x, t_B_0)"
   ]
  },
  {
   "cell_type": "code",
   "execution_count": 19,
   "metadata": {},
   "outputs": [],
   "source": [
    "dir_Newton = np.linalg.solve(system_matrix, rhs)"
   ]
  },
  {
   "cell_type": "code",
   "execution_count": 20,
   "metadata": {},
   "outputs": [
    {
     "name": "stdout",
     "output_type": "stream",
     "text": [
      "[ 19.696 142.065]\n"
     ]
    }
   ],
   "source": [
    "print(dir_Newton)"
   ]
  },
  {
   "cell_type": "code",
   "execution_count": 21,
   "metadata": {},
   "outputs": [],
   "source": [
    "dec_Newton = rhs.dot(dir_Newton)"
   ]
  },
  {
   "cell_type": "code",
   "execution_count": 22,
   "metadata": {},
   "outputs": [
    {
     "name": "stdout",
     "output_type": "stream",
     "text": [
      "7711.552360817478\n"
     ]
    }
   ],
   "source": [
    "print(dec_Newton)"
   ]
  },
  {
   "cell_type": "code",
   "execution_count": 23,
   "metadata": {},
   "outputs": [],
   "source": [
    "stopping_criteria = dec_Newton/2"
   ]
  },
  {
   "cell_type": "code",
   "execution_count": 24,
   "metadata": {},
   "outputs": [
    {
     "name": "stdout",
     "output_type": "stream",
     "text": [
      "3855.776180408739\n"
     ]
    }
   ],
   "source": [
    "print(stopping_criteria)"
   ]
  },
  {
   "cell_type": "code",
   "execution_count": 25,
   "metadata": {},
   "outputs": [],
   "source": [
    "der_direct = -dec_Newton"
   ]
  },
  {
   "cell_type": "code",
   "execution_count": 26,
   "metadata": {},
   "outputs": [
    {
     "name": "stderr",
     "output_type": "stream",
     "text": [
      "/home/miuser/.local/lib/python3.7/site-packages/opt/utils_logarithmic_barrier.py:17: RuntimeWarning: invalid value encountered in log\n",
      "  eval_f_const_inequality = np.log(eval_f_const_inequality)\n"
     ]
    }
   ],
   "source": [
    "t = line_search_for_log_barrier_by_backtracking(fo,dir_Newton,x_0,t_B_0,\n",
    "                                                constraints_ineq,\n",
    "                                                der_direct)"
   ]
  },
  {
   "cell_type": "code",
   "execution_count": 27,
   "metadata": {},
   "outputs": [
    {
     "name": "stdout",
     "output_type": "stream",
     "text": [
      "0.015625\n"
     ]
    }
   ],
   "source": [
    "print(t)"
   ]
  },
  {
   "cell_type": "code",
   "execution_count": 28,
   "metadata": {},
   "outputs": [],
   "source": [
    "x = x + t*dir_Newton"
   ]
  },
  {
   "cell_type": "code",
   "execution_count": 29,
   "metadata": {},
   "outputs": [
    {
     "name": "stdout",
     "output_type": "stream",
     "text": [
      "[1.308 4.22 ]\n"
     ]
    }
   ],
   "source": [
    "print(x)"
   ]
  },
  {
   "cell_type": "markdown",
   "metadata": {},
   "source": [
    "### Segunda iteración"
   ]
  },
  {
   "cell_type": "code",
   "execution_count": 30,
   "metadata": {},
   "outputs": [],
   "source": [
    "system_matrix = Hf_B(x, t_B_0)\n",
    "rhs = -gf_B(x, t_B_0)"
   ]
  },
  {
   "cell_type": "code",
   "execution_count": 31,
   "metadata": {},
   "outputs": [],
   "source": [
    "log_barrier_eval = logarithmic_barrier(fo,x,t_B_0,constraints_ineq)"
   ]
  },
  {
   "cell_type": "code",
   "execution_count": 32,
   "metadata": {},
   "outputs": [
    {
     "name": "stdout",
     "output_type": "stream",
     "text": [
      "-255.91817648985682\n"
     ]
    }
   ],
   "source": [
    "print(log_barrier_eval)"
   ]
  },
  {
   "cell_type": "code",
   "execution_count": 33,
   "metadata": {},
   "outputs": [],
   "source": [
    "const_ineq_funcs_eval = -constraint_inequalities_funcs_eval(x,constraints_ineq)"
   ]
  },
  {
   "cell_type": "code",
   "execution_count": 34,
   "metadata": {},
   "outputs": [
    {
     "name": "stdout",
     "output_type": "stream",
     "text": [
      "[2.692 3.56  5.637 1.308 4.22 ]\n"
     ]
    }
   ],
   "source": [
    "print(const_ineq_funcs_eval)"
   ]
  },
  {
   "cell_type": "code",
   "execution_count": 35,
   "metadata": {},
   "outputs": [],
   "source": [
    "if(sum(const_ineq_funcs_eval < -np.nextafter(0,1)) <=-1):\n",
    "    print(\"Some constraint inequalities evaluated in x were nonpositive, check approximations\")"
   ]
  },
  {
   "cell_type": "code",
   "execution_count": 36,
   "metadata": {},
   "outputs": [],
   "source": [
    "fo_eval = fo(x)"
   ]
  },
  {
   "cell_type": "code",
   "execution_count": 37,
   "metadata": {},
   "outputs": [
    {
     "name": "stdout",
     "output_type": "stream",
     "text": [
      "-25.022042371388302\n"
     ]
    }
   ],
   "source": [
    "print(fo_eval)"
   ]
  },
  {
   "cell_type": "code",
   "execution_count": 38,
   "metadata": {},
   "outputs": [],
   "source": [
    "dir_Newton = np.linalg.solve(system_matrix, rhs)"
   ]
  },
  {
   "cell_type": "code",
   "execution_count": 39,
   "metadata": {},
   "outputs": [
    {
     "name": "stdout",
     "output_type": "stream",
     "text": [
      "[11.93  94.597]\n"
     ]
    }
   ],
   "source": [
    "print(dir_Newton)"
   ]
  },
  {
   "cell_type": "code",
   "execution_count": 40,
   "metadata": {},
   "outputs": [],
   "source": [
    "dec_Newton = rhs.dot(dir_Newton)"
   ]
  },
  {
   "cell_type": "code",
   "execution_count": 41,
   "metadata": {},
   "outputs": [
    {
     "name": "stdout",
     "output_type": "stream",
     "text": [
      "5021.819828077723\n"
     ]
    }
   ],
   "source": [
    "print(dec_Newton)"
   ]
  },
  {
   "cell_type": "code",
   "execution_count": 42,
   "metadata": {},
   "outputs": [],
   "source": [
    "stopping_criteria = dec_Newton/2"
   ]
  },
  {
   "cell_type": "code",
   "execution_count": 43,
   "metadata": {},
   "outputs": [
    {
     "name": "stdout",
     "output_type": "stream",
     "text": [
      "2510.9099140388616\n"
     ]
    }
   ],
   "source": [
    "print(stopping_criteria)"
   ]
  },
  {
   "cell_type": "code",
   "execution_count": 44,
   "metadata": {},
   "outputs": [],
   "source": [
    "der_direct = -dec_Newton"
   ]
  },
  {
   "cell_type": "code",
   "execution_count": 45,
   "metadata": {},
   "outputs": [],
   "source": [
    "t = line_search_for_log_barrier_by_backtracking(fo,dir_Newton,x,t_B_0,\n",
    "                                                constraints_ineq,\n",
    "                                                der_direct)"
   ]
  },
  {
   "cell_type": "code",
   "execution_count": 46,
   "metadata": {},
   "outputs": [
    {
     "name": "stdout",
     "output_type": "stream",
     "text": [
      "0.015625\n"
     ]
    }
   ],
   "source": [
    "print(t)"
   ]
  },
  {
   "cell_type": "code",
   "execution_count": 47,
   "metadata": {},
   "outputs": [],
   "source": [
    "x = x + t*dir_Newton"
   ]
  },
  {
   "cell_type": "code",
   "execution_count": 48,
   "metadata": {},
   "outputs": [
    {
     "name": "stdout",
     "output_type": "stream",
     "text": [
      "[1.494 5.698]\n"
     ]
    }
   ],
   "source": [
    "print(x)"
   ]
  },
  {
   "cell_type": "markdown",
   "metadata": {},
   "source": [
    "### Tercera iteración"
   ]
  },
  {
   "cell_type": "code",
   "execution_count": 49,
   "metadata": {},
   "outputs": [],
   "source": [
    "system_matrix = Hf_B(x, t_B_0)\n",
    "rhs = -gf_B(x, t_B_0)"
   ]
  },
  {
   "cell_type": "code",
   "execution_count": 50,
   "metadata": {},
   "outputs": [],
   "source": [
    "log_barrier_eval = logarithmic_barrier(fo,x,t_B_0,constraints_ineq)"
   ]
  },
  {
   "cell_type": "code",
   "execution_count": 51,
   "metadata": {},
   "outputs": [
    {
     "name": "stdout",
     "output_type": "stream",
     "text": [
      "-333.0255657565843\n"
     ]
    }
   ],
   "source": [
    "print(log_barrier_eval)"
   ]
  },
  {
   "cell_type": "code",
   "execution_count": 52,
   "metadata": {},
   "outputs": [],
   "source": [
    "const_ineq_funcs_eval = -constraint_inequalities_funcs_eval(x,constraints_ineq)"
   ]
  },
  {
   "cell_type": "code",
   "execution_count": 53,
   "metadata": {},
   "outputs": [
    {
     "name": "stdout",
     "output_type": "stream",
     "text": [
      "[2.506 0.604 2.122 1.494 5.698]\n"
     ]
    }
   ],
   "source": [
    "print(const_ineq_funcs_eval)"
   ]
  },
  {
   "cell_type": "code",
   "execution_count": 54,
   "metadata": {},
   "outputs": [],
   "source": [
    "if(sum(const_ineq_funcs_eval < -np.nextafter(0,1)) <=-1):\n",
    "    print(\"Some constraint inequalities evaluated in x were nonpositive, check approximations\")"
   ]
  },
  {
   "cell_type": "code",
   "execution_count": 55,
   "metadata": {},
   "outputs": [],
   "source": [
    "fo_eval = fo(x)"
   ]
  },
  {
   "cell_type": "code",
   "execution_count": 56,
   "metadata": {},
   "outputs": [
    {
     "name": "stdout",
     "output_type": "stream",
     "text": [
      "-32.97166508298113\n"
     ]
    }
   ],
   "source": [
    "print(fo_eval)"
   ]
  },
  {
   "cell_type": "code",
   "execution_count": 57,
   "metadata": {},
   "outputs": [],
   "source": [
    "dir_Newton = np.linalg.solve(system_matrix, rhs)"
   ]
  },
  {
   "cell_type": "code",
   "execution_count": 58,
   "metadata": {},
   "outputs": [
    {
     "name": "stdout",
     "output_type": "stream",
     "text": [
      "[9.648 2.785]\n"
     ]
    }
   ],
   "source": [
    "print(dir_Newton)"
   ]
  },
  {
   "cell_type": "code",
   "execution_count": 59,
   "metadata": {},
   "outputs": [],
   "source": [
    "dec_Newton = rhs.dot(dir_Newton)"
   ]
  },
  {
   "cell_type": "code",
   "execution_count": 60,
   "metadata": {},
   "outputs": [
    {
     "name": "stdout",
     "output_type": "stream",
     "text": [
      "406.3137761754695\n"
     ]
    }
   ],
   "source": [
    "print(dec_Newton)"
   ]
  },
  {
   "cell_type": "code",
   "execution_count": 61,
   "metadata": {},
   "outputs": [],
   "source": [
    "stopping_criteria = dec_Newton/2"
   ]
  },
  {
   "cell_type": "code",
   "execution_count": 62,
   "metadata": {},
   "outputs": [
    {
     "name": "stdout",
     "output_type": "stream",
     "text": [
      "203.15688808773476\n"
     ]
    }
   ],
   "source": [
    "print(stopping_criteria)"
   ]
  },
  {
   "cell_type": "code",
   "execution_count": 63,
   "metadata": {},
   "outputs": [],
   "source": [
    "der_direct = -dec_Newton"
   ]
  },
  {
   "cell_type": "code",
   "execution_count": 64,
   "metadata": {},
   "outputs": [],
   "source": [
    "t = line_search_for_log_barrier_by_backtracking(fo,dir_Newton,x,t_B_0,\n",
    "                                                constraints_ineq,\n",
    "                                                der_direct)"
   ]
  },
  {
   "cell_type": "code",
   "execution_count": 65,
   "metadata": {},
   "outputs": [
    {
     "name": "stdout",
     "output_type": "stream",
     "text": [
      "0.03125\n"
     ]
    }
   ],
   "source": [
    "print(t)"
   ]
  },
  {
   "cell_type": "code",
   "execution_count": 66,
   "metadata": {},
   "outputs": [],
   "source": [
    "x = x + t*dir_Newton"
   ]
  },
  {
   "cell_type": "code",
   "execution_count": 67,
   "metadata": {},
   "outputs": [
    {
     "name": "stdout",
     "output_type": "stream",
     "text": [
      "[1.796 5.785]\n"
     ]
    }
   ],
   "source": [
    "print(x)"
   ]
  },
  {
   "cell_type": "markdown",
   "metadata": {},
   "source": [
    "````{admonition} Ejercicio\n",
    ":class: tip\n",
    "\n",
    "Utiliza las definiciones:\n",
    "\n",
    "\n",
    "```python\n",
    "A = np.array([[1, 0],\n",
    "              [0, 2],\n",
    "              [3, 2]])\n",
    "m = 3\n",
    "n = 2\n",
    "b = np.array([4, 12, 18])\n",
    "A_tilde = np.row_stack((A, np.eye(n)))\n",
    "\n",
    "d = np.array([1/(b[0]-A[0,:].dot(x)),\n",
    "              1/(b[1]-A[1,:].dot(x)),\n",
    "              1/(b[2]-A[2,:].dot(x)),\n",
    "              1/(-x[0]),\n",
    "              1/(-x[1])])\n",
    "system_matrix = (A_tilde.T*(d*d))@A_tilde\n",
    "rhs = -(t_B*c +A_tilde.T@d)\n",
    "```\n",
    "\n",
    "y realiza cuatro iteraciones recalculando lo necesario para el sistema de ecuaciones lineales con `system_matrix` y `rhs` dadas por las últimas dos líneas del código que está en este ejercicio. Corrobora que obtienes los mismos resultados que con *SymPy*.\n",
    "\n",
    "````"
   ]
  },
  {
   "cell_type": "markdown",
   "metadata": {},
   "source": [
    "```{margin}\n",
    "\n",
    "El POCE recuérdese es:\n",
    "\n",
    "$\n",
    "\\begin{eqnarray}\n",
    "\\displaystyle \\min_{x \\in \\mathbb{R}^n} &f_o(x)& \\nonumber \\\\\n",
    "&\\text{sujeto a:}& \\nonumber\\\\\n",
    "f_i(x) &\\leq& 0  \\quad i=1,\\dots,m \\nonumber \\\\\n",
    "Ax &=& b\n",
    "\\end{eqnarray}\n",
    "$ \n",
    "\n",
    "y el PBL es:\n",
    "\n",
    "$\n",
    "\\displaystyle \\min_{x \\in \\mathbb{R}^n} f_B(x|t_B) \\\\\n",
    "\\text{sujeto a:} \\\\\n",
    "Ax = b\n",
    "$\n",
    "\n",
    "con $A \\in \\mathbb{R}^{p \\times n}$ y *rank* de $A$ igual a $p < n$, \n",
    "\n",
    "$\\begin{eqnarray}\n",
    "f_B(x|t_B) &=& f_o(x) + \\frac{1}{t_B} \\phi(x) \\nonumber \\\\\n",
    "&=& f_o(x) -  \\frac{1}{t_B} \\displaystyle \\sum_{i=1}^m \\log(-f_i(x))\n",
    "\\end{eqnarray}\n",
    "$.\n",
    "\n",
    "\n",
    "```"
   ]
  },
  {
   "cell_type": "markdown",
   "metadata": {},
   "source": [
    "```{admonition} Comentarios\n",
    "\n",
    "\n",
    "* La forma general de la condición de KKT de optimalidad $\\nabla_x \\mathcal{L}^{BL}(x^, \\nu) = 0$ para un PBL que se obtuvo de un POCE es:\n",
    "\n",
    "$$\n",
    "\\begin{eqnarray}\n",
    "\\nabla_x \\mathcal{L}^{BL}(x, \\nu) &=& \\nabla f_o(x) + \\frac{1}{t_B}\\nabla \\phi(x) + A^T \\nu = 0 \\nonumber \\\\\n",
    "&=& \\nabla f_o(x) + \\frac{1}{t_B} \\displaystyle \\sum_{i=1}^m \\frac{\\nabla f_i(x)}{-f_i(x)} + A^T \\nu \\nonumber \\\\\n",
    "\\end{eqnarray}\n",
    "$$\n",
    "\n",
    "con: $\\mathcal{L}: \\mathbb{R}^n \\times \\mathbb{R}^p \\rightarrow \\mathbb{R}$,\n",
    "\n",
    "$$\\begin{eqnarray} \\mathcal{L}^{BL}(x, \\nu) &=& f_{BL}(x|t_B) + \\sum_{i=1}^p \\nu_i h_i(x) \\nonumber \\\\\n",
    "&=& f_o(x|t_B) + \\frac{1}{t_B} \\phi(x) + \\nu^T(b-Ax)\n",
    "\\end{eqnarray}\n",
    "$$\n",
    "\n",
    "y al aplicar el método de Newton al sistema de ecuaciones no lineales conduce a resolver el sistema de ecuaciones lineales siguiente:\n",
    "\n",
    "\n",
    "$$\\left [ \\begin{array}{cc} \\nabla^2f_o(x) + \\frac{1}{t_B} \\nabla^2 \\phi(x)  & -A^T \\\\ -A & 0\\end{array} \\right ] \\left [ \\begin{array}{c} \\Delta x \\\\ \\Delta \\nu \\end{array} \\right ] = -\\left [ \\begin{array}{c} \\nabla f_o(x) + \\frac{1}{t_B} \\nabla \\phi(x) \\\\ r_p \\end{array} \\right ]$$\n",
    "\n",
    "\n",
    "donde: $r_p = b - Ax$ es el residual para factibilidad primal.\n",
    "\n",
    "Ver {ref}`la función Lagrangiana <FUNLAGRANGIANA>`.\n",
    "\n",
    "```"
   ]
  },
  {
   "cell_type": "markdown",
   "metadata": {},
   "source": [
    "## Algoritmo primal-dual de BL para un PL con únicamente desigualdades"
   ]
  },
  {
   "cell_type": "markdown",
   "metadata": {},
   "source": [
    "Para un problema de la forma:"
   ]
  },
  {
   "cell_type": "markdown",
   "metadata": {},
   "source": [
    "$$\\displaystyle \\min_{x \\in \\mathbb{R}^n} c^Tx$$\n",
    "\n",
    "$$\\text{sujeto a:}$$\n",
    "\n",
    "$$Ax \\leq b$$\n",
    "\n",
    "$$x \\geq 0$$"
   ]
  },
  {
   "cell_type": "markdown",
   "metadata": {},
   "source": [
    ">**Dados** $x$ un punto estrictamente factible, esto es: $x > 0$ (todas las entradas de $x$ son positivas), $t_B^{(0)}$ parámetro de barrera, $\\mu > 1$, $tol > 0$.\n",
    ">\n",
    ">$t_B:= t_B^{(0)}$.\n",
    ">\n",
    ">**Repetir** el siguiente bloque para $k=1,2,\\dots$\n",
    ">\n",
    ">*Outer iterations:*\n",
    ">>Paso de centrado o *inner iterations*:\n",
    ">>\n",
    ">>Calcular $x^*(t_B)$ que resuelva: $\\displaystyle \\min_{x \\in \\mathbb{R}^n} tf_o(x) + \\phi(x)$ iniciando con $x$.\n",
    ">>\n",
    ">>Utilizar criterio de paro para *inner iterations*.\n",
    ">\n",
    ">Actualizar $x:=x^*(t)$.\n",
    ">\n",
    "> Incrementar $t$ por $t=\\mu t$.\n",
    ">\n",
    "> **hasta** convergencia: satisfacer criterio de paro en el que se utiliza $tol$ y $maxiter$.\n"
   ]
  },
  {
   "cell_type": "markdown",
   "metadata": {},
   "source": [
    "````{admonition} Comentarios\n",
    "\n",
    "* $\\mu$ es un parámetro que realiza un *trade-off* en el número de *inner* y *outer iterations*. Controla el seguimiento de la trayectoria central en las *inner iterations*. Valores grandes causan un mayor número de *inner iterations* y valores cercanos a $1$ causan un mayor número de *outer iterations*.\n",
    "\n",
    "* La elección de $t_B^{(0)}$ ayuda a dar una estimación del recíproco de la *duality gap* (recuérdese que la estimación es $\\frac{n}{t_B}$). Es similar el efecto que con el parámetro $\\mu$. Valores grandes causan que se realicen mayor número de *inner iterations* y valores pequeños un mayor número de *outer iterations*.\n",
    "\n",
    "* El criterio de paro de las *outer iterations* es de la forma:\n",
    "\n",
    "```\n",
    "while m/t > tol && iterations < max_iters\n",
    "```\n",
    "\n",
    "y el de las *inner iterations* es de la forma:\n",
    "\n",
    "```\n",
    "while dec_Newton/2 > tol && iterations < max_iters\n",
    "```\n",
    "\n",
    "con `dec_Newton/2` el decremento de Newton, `tol` una cantidad pequeña y positiva (comúnmente menor o igual a 10−8), `iterations` un contador de iteraciones.\n",
    "\n",
    "\n",
    "````"
   ]
  },
  {
   "cell_type": "markdown",
   "metadata": {},
   "source": [
    "## Definición decremento de Newton"
   ]
  },
  {
   "cell_type": "markdown",
   "metadata": {},
   "source": [
    "## Método primal-dual de BL aplicado al ejemplo prototipo (completo)"
   ]
  },
  {
   "cell_type": "code",
   "execution_count": 68,
   "metadata": {},
   "outputs": [],
   "source": [
    "tol_outer_iter = 1e-6\n",
    "tol=1e-8\n",
    "tol_backtracking=1e-12\n",
    "max_inner_iter=30\n",
    "mu=10\n",
    "x_ast = np.array([2, 6], dtype=float)\n",
    "p_ast = fo(x_ast) "
   ]
  },
  {
   "cell_type": "code",
   "execution_count": 69,
   "metadata": {},
   "outputs": [],
   "source": [
    "from opt.logarithmic_barrier.linear_program_inequalities import primal_dual_method"
   ]
  },
  {
   "cell_type": "code",
   "execution_count": 70,
   "metadata": {},
   "outputs": [
    {
     "name": "stdout",
     "output_type": "stream",
     "text": [
      "Outer iterations of path following method\n",
      "Mu value: 1.00e+01\n"
     ]
    },
    {
     "data": {
      "text/html": [
       "<div>\n",
       "<style scoped>\n",
       "    .dataframe tbody tr th:only-of-type {\n",
       "        vertical-align: middle;\n",
       "    }\n",
       "\n",
       "    .dataframe tbody tr th {\n",
       "        vertical-align: top;\n",
       "    }\n",
       "\n",
       "    .dataframe thead th {\n",
       "        text-align: right;\n",
       "    }\n",
       "</style>\n",
       "<table border=\"1\" class=\"dataframe\">\n",
       "  <thead>\n",
       "    <tr style=\"text-align: right;\">\n",
       "      <th></th>\n",
       "      <th>Outer iter</th>\n",
       "      <th>logbarrier</th>\n",
       "      <th>t_log_barrier</th>\n",
       "      <th>stopping criteria</th>\n",
       "    </tr>\n",
       "  </thead>\n",
       "  <tbody>\n",
       "    <tr>\n",
       "      <th>row0</th>\n",
       "      <td>0</td>\n",
       "      <td>-1.36e+02</td>\n",
       "      <td>10</td>\n",
       "      <td>5.00e-01</td>\n",
       "    </tr>\n",
       "  </tbody>\n",
       "</table>\n",
       "</div>"
      ],
      "text/plain": [
       "      Outer iter  logbarrier  t_log_barrier  stopping criteria\n",
       "row0           0   -1.36e+02             10           5.00e-01"
      ]
     },
     "metadata": {},
     "output_type": "display_data"
    },
    {
     "name": "stdout",
     "output_type": "stream",
     "text": [
      "-----------------------------------------------------------------\n",
      "-----------------------------------------------------------------\n"
     ]
    },
    {
     "data": {
      "text/html": [
       "<div>\n",
       "<style scoped>\n",
       "    .dataframe tbody tr th:only-of-type {\n",
       "        vertical-align: middle;\n",
       "    }\n",
       "\n",
       "    .dataframe tbody tr th {\n",
       "        vertical-align: top;\n",
       "    }\n",
       "\n",
       "    .dataframe thead th {\n",
       "        text-align: right;\n",
       "    }\n",
       "</style>\n",
       "<table border=\"1\" class=\"dataframe\">\n",
       "  <thead>\n",
       "    <tr style=\"text-align: right;\">\n",
       "      <th></th>\n",
       "      <th>Iter</th>\n",
       "      <th>Normgf</th>\n",
       "      <th>Newtons decrement</th>\n",
       "      <th>Err x ast</th>\n",
       "      <th>Err p ast</th>\n",
       "      <th>line search</th>\n",
       "      <th>CondHf</th>\n",
       "    </tr>\n",
       "  </thead>\n",
       "  <tbody>\n",
       "    <tr>\n",
       "      <th>row0</th>\n",
       "      <td>0</td>\n",
       "      <td>5.86e+01</td>\n",
       "      <td>7.71e+03</td>\n",
       "      <td>6.52e-01</td>\n",
       "      <td>6.39e-01</td>\n",
       "      <td>---</td>\n",
       "      <td>3.47e+00</td>\n",
       "    </tr>\n",
       "  </tbody>\n",
       "</table>\n",
       "</div>"
      ],
      "text/plain": [
       "      Iter   Normgf  Newtons decrement  Err x ast  Err p ast line search  \\\n",
       "row0     0 5.86e+01           7.71e+03   6.52e-01   6.39e-01         ---   \n",
       "\n",
       "       CondHf  \n",
       "row0 3.47e+00  "
      ]
     },
     "metadata": {},
     "output_type": "display_data"
    },
    {
     "name": "stderr",
     "output_type": "stream",
     "text": [
      "/home/miuser/.local/lib/python3.7/site-packages/opt/utils_logarithmic_barrier.py:17: RuntimeWarning: invalid value encountered in log\n",
      "  eval_f_const_inequality = np.log(eval_f_const_inequality)\n"
     ]
    },
    {
     "data": {
      "text/html": [
       "<div>\n",
       "<style scoped>\n",
       "    .dataframe tbody tr th:only-of-type {\n",
       "        vertical-align: middle;\n",
       "    }\n",
       "\n",
       "    .dataframe tbody tr th {\n",
       "        vertical-align: top;\n",
       "    }\n",
       "\n",
       "    .dataframe thead th {\n",
       "        text-align: right;\n",
       "    }\n",
       "</style>\n",
       "<table border=\"1\" class=\"dataframe\">\n",
       "  <thead>\n",
       "    <tr style=\"text-align: right;\">\n",
       "      <th></th>\n",
       "      <th>Iter</th>\n",
       "      <th>Normgf</th>\n",
       "      <th>Newtons decrement</th>\n",
       "      <th>Err x ast</th>\n",
       "      <th>Err p ast</th>\n",
       "      <th>line search</th>\n",
       "      <th>CondHf</th>\n",
       "    </tr>\n",
       "  </thead>\n",
       "  <tbody>\n",
       "    <tr>\n",
       "      <th>row1</th>\n",
       "      <td>1</td>\n",
       "      <td>5.77e+01</td>\n",
       "      <td>5.02e+03</td>\n",
       "      <td>3.02e-01</td>\n",
       "      <td>3.05e-01</td>\n",
       "      <td>1.56e-02</td>\n",
       "      <td>2.46e+00</td>\n",
       "    </tr>\n",
       "  </tbody>\n",
       "</table>\n",
       "</div>"
      ],
      "text/plain": [
       "      Iter   Normgf  Newtons decrement  Err x ast  Err p ast  line search  \\\n",
       "row1     1 5.77e+01           5.02e+03   3.02e-01   3.05e-01     1.56e-02   \n",
       "\n",
       "       CondHf  \n",
       "row1 2.46e+00  "
      ]
     },
     "metadata": {},
     "output_type": "display_data"
    },
    {
     "name": "stderr",
     "output_type": "stream",
     "text": [
      "/home/miuser/.local/lib/python3.7/site-packages/opt/utils_logarithmic_barrier.py:17: RuntimeWarning: invalid value encountered in log\n",
      "  eval_f_const_inequality = np.log(eval_f_const_inequality)\n"
     ]
    },
    {
     "data": {
      "text/html": [
       "<div>\n",
       "<style scoped>\n",
       "    .dataframe tbody tr th:only-of-type {\n",
       "        vertical-align: middle;\n",
       "    }\n",
       "\n",
       "    .dataframe tbody tr th {\n",
       "        vertical-align: top;\n",
       "    }\n",
       "\n",
       "    .dataframe thead th {\n",
       "        text-align: right;\n",
       "    }\n",
       "</style>\n",
       "<table border=\"1\" class=\"dataframe\">\n",
       "  <thead>\n",
       "    <tr style=\"text-align: right;\">\n",
       "      <th></th>\n",
       "      <th>Iter</th>\n",
       "      <th>Normgf</th>\n",
       "      <th>Newtons decrement</th>\n",
       "      <th>Err x ast</th>\n",
       "      <th>Err p ast</th>\n",
       "      <th>line search</th>\n",
       "      <th>CondHf</th>\n",
       "    </tr>\n",
       "  </thead>\n",
       "  <tbody>\n",
       "    <tr>\n",
       "      <th>row2</th>\n",
       "      <td>2</td>\n",
       "      <td>5.42e+01</td>\n",
       "      <td>4.06e+02</td>\n",
       "      <td>9.32e-02</td>\n",
       "      <td>8.41e-02</td>\n",
       "      <td>1.56e-02</td>\n",
       "      <td>4.99e+00</td>\n",
       "    </tr>\n",
       "  </tbody>\n",
       "</table>\n",
       "</div>"
      ],
      "text/plain": [
       "      Iter   Normgf  Newtons decrement  Err x ast  Err p ast  line search  \\\n",
       "row2     2 5.42e+01           4.06e+02   9.32e-02   8.41e-02     1.56e-02   \n",
       "\n",
       "       CondHf  \n",
       "row2 4.99e+00  "
      ]
     },
     "metadata": {},
     "output_type": "display_data"
    },
    {
     "name": "stderr",
     "output_type": "stream",
     "text": [
      "/home/miuser/.local/lib/python3.7/site-packages/opt/utils_logarithmic_barrier.py:17: RuntimeWarning: invalid value encountered in log\n",
      "  eval_f_const_inequality = np.log(eval_f_const_inequality)\n"
     ]
    },
    {
     "data": {
      "text/html": [
       "<div>\n",
       "<style scoped>\n",
       "    .dataframe tbody tr th:only-of-type {\n",
       "        vertical-align: middle;\n",
       "    }\n",
       "\n",
       "    .dataframe tbody tr th {\n",
       "        vertical-align: top;\n",
       "    }\n",
       "\n",
       "    .dataframe thead th {\n",
       "        text-align: right;\n",
       "    }\n",
       "</style>\n",
       "<table border=\"1\" class=\"dataframe\">\n",
       "  <thead>\n",
       "    <tr style=\"text-align: right;\">\n",
       "      <th></th>\n",
       "      <th>Iter</th>\n",
       "      <th>Normgf</th>\n",
       "      <th>Newtons decrement</th>\n",
       "      <th>Err x ast</th>\n",
       "      <th>Err p ast</th>\n",
       "      <th>line search</th>\n",
       "      <th>CondHf</th>\n",
       "    </tr>\n",
       "  </thead>\n",
       "  <tbody>\n",
       "    <tr>\n",
       "      <th>row3</th>\n",
       "      <td>3</td>\n",
       "      <td>5.14e+01</td>\n",
       "      <td>1.17e+02</td>\n",
       "      <td>4.69e-02</td>\n",
       "      <td>4.69e-02</td>\n",
       "      <td>3.12e-02</td>\n",
       "      <td>3.79e+00</td>\n",
       "    </tr>\n",
       "  </tbody>\n",
       "</table>\n",
       "</div>"
      ],
      "text/plain": [
       "      Iter   Normgf  Newtons decrement  Err x ast  Err p ast  line search  \\\n",
       "row3     3 5.14e+01           1.17e+02   4.69e-02   4.69e-02     3.12e-02   \n",
       "\n",
       "       CondHf  \n",
       "row3 3.79e+00  "
      ]
     },
     "metadata": {},
     "output_type": "display_data"
    },
    {
     "name": "stderr",
     "output_type": "stream",
     "text": [
      "/home/miuser/.local/lib/python3.7/site-packages/opt/utils_logarithmic_barrier.py:17: RuntimeWarning: invalid value encountered in log\n",
      "  eval_f_const_inequality = np.log(eval_f_const_inequality)\n"
     ]
    },
    {
     "data": {
      "text/html": [
       "<div>\n",
       "<style scoped>\n",
       "    .dataframe tbody tr th:only-of-type {\n",
       "        vertical-align: middle;\n",
       "    }\n",
       "\n",
       "    .dataframe tbody tr th {\n",
       "        vertical-align: top;\n",
       "    }\n",
       "\n",
       "    .dataframe thead th {\n",
       "        text-align: right;\n",
       "    }\n",
       "</style>\n",
       "<table border=\"1\" class=\"dataframe\">\n",
       "  <thead>\n",
       "    <tr style=\"text-align: right;\">\n",
       "      <th></th>\n",
       "      <th>Iter</th>\n",
       "      <th>Normgf</th>\n",
       "      <th>Newtons decrement</th>\n",
       "      <th>Err x ast</th>\n",
       "      <th>Err p ast</th>\n",
       "      <th>line search</th>\n",
       "      <th>CondHf</th>\n",
       "    </tr>\n",
       "  </thead>\n",
       "  <tbody>\n",
       "    <tr>\n",
       "      <th>row4</th>\n",
       "      <td>4</td>\n",
       "      <td>4.51e+01</td>\n",
       "      <td>2.27e+01</td>\n",
       "      <td>2.39e-02</td>\n",
       "      <td>2.42e-02</td>\n",
       "      <td>6.25e-02</td>\n",
       "      <td>3.51e+00</td>\n",
       "    </tr>\n",
       "  </tbody>\n",
       "</table>\n",
       "</div>"
      ],
      "text/plain": [
       "      Iter   Normgf  Newtons decrement  Err x ast  Err p ast  line search  \\\n",
       "row4     4 4.51e+01           2.27e+01   2.39e-02   2.42e-02     6.25e-02   \n",
       "\n",
       "       CondHf  \n",
       "row4 3.51e+00  "
      ]
     },
     "metadata": {},
     "output_type": "display_data"
    },
    {
     "name": "stderr",
     "output_type": "stream",
     "text": [
      "/home/miuser/.local/lib/python3.7/site-packages/opt/utils_logarithmic_barrier.py:17: RuntimeWarning: invalid value encountered in log\n",
      "  eval_f_const_inequality = np.log(eval_f_const_inequality)\n"
     ]
    },
    {
     "data": {
      "text/html": [
       "<div>\n",
       "<style scoped>\n",
       "    .dataframe tbody tr th:only-of-type {\n",
       "        vertical-align: middle;\n",
       "    }\n",
       "\n",
       "    .dataframe tbody tr th {\n",
       "        vertical-align: top;\n",
       "    }\n",
       "\n",
       "    .dataframe thead th {\n",
       "        text-align: right;\n",
       "    }\n",
       "</style>\n",
       "<table border=\"1\" class=\"dataframe\">\n",
       "  <thead>\n",
       "    <tr style=\"text-align: right;\">\n",
       "      <th></th>\n",
       "      <th>Iter</th>\n",
       "      <th>Normgf</th>\n",
       "      <th>Newtons decrement</th>\n",
       "      <th>Err x ast</th>\n",
       "      <th>Err p ast</th>\n",
       "      <th>line search</th>\n",
       "      <th>CondHf</th>\n",
       "    </tr>\n",
       "  </thead>\n",
       "  <tbody>\n",
       "    <tr>\n",
       "      <th>row5</th>\n",
       "      <td>5</td>\n",
       "      <td>3.39e+01</td>\n",
       "      <td>2.35e-01</td>\n",
       "      <td>4.36e-03</td>\n",
       "      <td>3.81e-03</td>\n",
       "      <td>2.50e-01</td>\n",
       "      <td>5.96e+00</td>\n",
       "    </tr>\n",
       "  </tbody>\n",
       "</table>\n",
       "</div>"
      ],
      "text/plain": [
       "      Iter   Normgf  Newtons decrement  Err x ast  Err p ast  line search  \\\n",
       "row5     5 3.39e+01           2.35e-01   4.36e-03   3.81e-03     2.50e-01   \n",
       "\n",
       "       CondHf  \n",
       "row5 5.96e+00  "
      ]
     },
     "metadata": {},
     "output_type": "display_data"
    },
    {
     "data": {
      "text/html": [
       "<div>\n",
       "<style scoped>\n",
       "    .dataframe tbody tr th:only-of-type {\n",
       "        vertical-align: middle;\n",
       "    }\n",
       "\n",
       "    .dataframe tbody tr th {\n",
       "        vertical-align: top;\n",
       "    }\n",
       "\n",
       "    .dataframe thead th {\n",
       "        text-align: right;\n",
       "    }\n",
       "</style>\n",
       "<table border=\"1\" class=\"dataframe\">\n",
       "  <thead>\n",
       "    <tr style=\"text-align: right;\">\n",
       "      <th></th>\n",
       "      <th>Iter</th>\n",
       "      <th>Normgf</th>\n",
       "      <th>Newtons decrement</th>\n",
       "      <th>Err x ast</th>\n",
       "      <th>Err p ast</th>\n",
       "      <th>line search</th>\n",
       "      <th>CondHf</th>\n",
       "    </tr>\n",
       "  </thead>\n",
       "  <tbody>\n",
       "    <tr>\n",
       "      <th>row6</th>\n",
       "      <td>6</td>\n",
       "      <td>9.93e+00</td>\n",
       "      <td>4.36e-02</td>\n",
       "      <td>5.15e-03</td>\n",
       "      <td>4.89e-03</td>\n",
       "      <td>1</td>\n",
       "      <td>4.43e+00</td>\n",
       "    </tr>\n",
       "  </tbody>\n",
       "</table>\n",
       "</div>"
      ],
      "text/plain": [
       "      Iter   Normgf  Newtons decrement  Err x ast  Err p ast  line search  \\\n",
       "row6     6 9.93e+00           4.36e-02   5.15e-03   4.89e-03            1   \n",
       "\n",
       "       CondHf  \n",
       "row6 4.43e+00  "
      ]
     },
     "metadata": {},
     "output_type": "display_data"
    },
    {
     "data": {
      "text/html": [
       "<div>\n",
       "<style scoped>\n",
       "    .dataframe tbody tr th:only-of-type {\n",
       "        vertical-align: middle;\n",
       "    }\n",
       "\n",
       "    .dataframe tbody tr th {\n",
       "        vertical-align: top;\n",
       "    }\n",
       "\n",
       "    .dataframe thead th {\n",
       "        text-align: right;\n",
       "    }\n",
       "</style>\n",
       "<table border=\"1\" class=\"dataframe\">\n",
       "  <thead>\n",
       "    <tr style=\"text-align: right;\">\n",
       "      <th></th>\n",
       "      <th>Iter</th>\n",
       "      <th>Normgf</th>\n",
       "      <th>Newtons decrement</th>\n",
       "      <th>Err x ast</th>\n",
       "      <th>Err p ast</th>\n",
       "      <th>line search</th>\n",
       "      <th>CondHf</th>\n",
       "    </tr>\n",
       "  </thead>\n",
       "  <tbody>\n",
       "    <tr>\n",
       "      <th>row7</th>\n",
       "      <td>7</td>\n",
       "      <td>1.63e+00</td>\n",
       "      <td>1.83e-03</td>\n",
       "      <td>5.46e-03</td>\n",
       "      <td>5.42e-03</td>\n",
       "      <td>1</td>\n",
       "      <td>3.80e+00</td>\n",
       "    </tr>\n",
       "  </tbody>\n",
       "</table>\n",
       "</div>"
      ],
      "text/plain": [
       "      Iter   Normgf  Newtons decrement  Err x ast  Err p ast  line search  \\\n",
       "row7     7 1.63e+00           1.83e-03   5.46e-03   5.42e-03            1   \n",
       "\n",
       "       CondHf  \n",
       "row7 3.80e+00  "
      ]
     },
     "metadata": {},
     "output_type": "display_data"
    },
    {
     "data": {
      "text/html": [
       "<div>\n",
       "<style scoped>\n",
       "    .dataframe tbody tr th:only-of-type {\n",
       "        vertical-align: middle;\n",
       "    }\n",
       "\n",
       "    .dataframe tbody tr th {\n",
       "        vertical-align: top;\n",
       "    }\n",
       "\n",
       "    .dataframe thead th {\n",
       "        text-align: right;\n",
       "    }\n",
       "</style>\n",
       "<table border=\"1\" class=\"dataframe\">\n",
       "  <thead>\n",
       "    <tr style=\"text-align: right;\">\n",
       "      <th></th>\n",
       "      <th>Iter</th>\n",
       "      <th>Normgf</th>\n",
       "      <th>Newtons decrement</th>\n",
       "      <th>Err x ast</th>\n",
       "      <th>Err p ast</th>\n",
       "      <th>line search</th>\n",
       "      <th>CondHf</th>\n",
       "    </tr>\n",
       "  </thead>\n",
       "  <tbody>\n",
       "    <tr>\n",
       "      <th>row8</th>\n",
       "      <td>8</td>\n",
       "      <td>6.61e-02</td>\n",
       "      <td>3.35e-06</td>\n",
       "      <td>5.53e-03</td>\n",
       "      <td>5.53e-03</td>\n",
       "      <td>1</td>\n",
       "      <td>3.70e+00</td>\n",
       "    </tr>\n",
       "  </tbody>\n",
       "</table>\n",
       "</div>"
      ],
      "text/plain": [
       "      Iter   Normgf  Newtons decrement  Err x ast  Err p ast  line search  \\\n",
       "row8     8 6.61e-02           3.35e-06   5.53e-03   5.53e-03            1   \n",
       "\n",
       "       CondHf  \n",
       "row8 3.70e+00  "
      ]
     },
     "metadata": {},
     "output_type": "display_data"
    },
    {
     "data": {
      "text/html": [
       "<div>\n",
       "<style scoped>\n",
       "    .dataframe tbody tr th:only-of-type {\n",
       "        vertical-align: middle;\n",
       "    }\n",
       "\n",
       "    .dataframe tbody tr th {\n",
       "        vertical-align: top;\n",
       "    }\n",
       "\n",
       "    .dataframe thead th {\n",
       "        text-align: right;\n",
       "    }\n",
       "</style>\n",
       "<table border=\"1\" class=\"dataframe\">\n",
       "  <thead>\n",
       "    <tr style=\"text-align: right;\">\n",
       "      <th></th>\n",
       "      <th>Iter</th>\n",
       "      <th>Normgf</th>\n",
       "      <th>Newtons decrement</th>\n",
       "      <th>Err x ast</th>\n",
       "      <th>Err p ast</th>\n",
       "      <th>line search</th>\n",
       "      <th>CondHf</th>\n",
       "    </tr>\n",
       "  </thead>\n",
       "  <tbody>\n",
       "    <tr>\n",
       "      <th>row9</th>\n",
       "      <td>9</td>\n",
       "      <td>1.21e-04</td>\n",
       "      <td>1.12e-11</td>\n",
       "      <td>5.53e-03</td>\n",
       "      <td>5.54e-03</td>\n",
       "      <td>1</td>\n",
       "      <td>3.69e+00</td>\n",
       "    </tr>\n",
       "  </tbody>\n",
       "</table>\n",
       "</div>"
      ],
      "text/plain": [
       "      Iter   Normgf  Newtons decrement  Err x ast  Err p ast  line search  \\\n",
       "row9     9 1.21e-04           1.12e-11   5.53e-03   5.54e-03            1   \n",
       "\n",
       "       CondHf  \n",
       "row9 3.69e+00  "
      ]
     },
     "metadata": {},
     "output_type": "display_data"
    },
    {
     "name": "stdout",
     "output_type": "stream",
     "text": [
      "Error of x with respect to x_ast: 5.53e-03\n",
      "Approximate solution: [1.989 5.967]\n"
     ]
    },
    {
     "data": {
      "image/png": "[encoded data removed]",
      "text/plain": [
       "<Figure size 432x288 with 1 Axes>"
      ]
     },
     "metadata": {
      "needs_background": "light"
     },
     "output_type": "display_data"
    },
    {
     "data": {
      "image/png": "[encoded data removed]",
      "text/plain": [
       "<Figure size 432x288 with 1 Axes>"
      ]
     },
     "metadata": {
      "needs_background": "light"
     },
     "output_type": "display_data"
    },
    {
     "name": "stdout",
     "output_type": "stream",
     "text": [
      "Inner iterations\n",
      "[1.989 5.967]\n",
      "-----------------------------------------------------------------\n",
      "-----------------------------------------------------------------\n",
      "Outer iterations of path following method\n",
      "Mu value: 1.00e+01\n"
     ]
    },
    {
     "data": {
      "text/html": [
       "<div>\n",
       "<style scoped>\n",
       "    .dataframe tbody tr th:only-of-type {\n",
       "        vertical-align: middle;\n",
       "    }\n",
       "\n",
       "    .dataframe tbody tr th {\n",
       "        vertical-align: top;\n",
       "    }\n",
       "\n",
       "    .dataframe thead th {\n",
       "        text-align: right;\n",
       "    }\n",
       "</style>\n",
       "<table border=\"1\" class=\"dataframe\">\n",
       "  <thead>\n",
       "    <tr style=\"text-align: right;\">\n",
       "      <th></th>\n",
       "      <th>Outer iter</th>\n",
       "      <th>logbarrier</th>\n",
       "      <th>t_log_barrier</th>\n",
       "      <th>stopping criteria</th>\n",
       "    </tr>\n",
       "  </thead>\n",
       "  <tbody>\n",
       "    <tr>\n",
       "      <th>row1</th>\n",
       "      <td>1</td>\n",
       "      <td>-3.58e+03</td>\n",
       "      <td>100</td>\n",
       "      <td>5.00e-02</td>\n",
       "    </tr>\n",
       "  </tbody>\n",
       "</table>\n",
       "</div>"
      ],
      "text/plain": [
       "      Outer iter  logbarrier  t_log_barrier  stopping criteria\n",
       "row1           1   -3.58e+03            100           5.00e-02"
      ]
     },
     "metadata": {},
     "output_type": "display_data"
    },
    {
     "name": "stdout",
     "output_type": "stream",
     "text": [
      "-----------------------------------------------------------------\n",
      "-----------------------------------------------------------------\n"
     ]
    },
    {
     "data": {
      "text/html": [
       "<div>\n",
       "<style scoped>\n",
       "    .dataframe tbody tr th:only-of-type {\n",
       "        vertical-align: middle;\n",
       "    }\n",
       "\n",
       "    .dataframe tbody tr th {\n",
       "        vertical-align: top;\n",
       "    }\n",
       "\n",
       "    .dataframe thead th {\n",
       "        text-align: right;\n",
       "    }\n",
       "</style>\n",
       "<table border=\"1\" class=\"dataframe\">\n",
       "  <thead>\n",
       "    <tr style=\"text-align: right;\">\n",
       "      <th></th>\n",
       "      <th>Iter</th>\n",
       "      <th>Normgf</th>\n",
       "      <th>Newtons decrement</th>\n",
       "      <th>Err x ast</th>\n",
       "      <th>Err p ast</th>\n",
       "      <th>line search</th>\n",
       "      <th>CondHf</th>\n",
       "    </tr>\n",
       "  </thead>\n",
       "  <tbody>\n",
       "    <tr>\n",
       "      <th>row0</th>\n",
       "      <td>0</td>\n",
       "      <td>5.25e+02</td>\n",
       "      <td>1.61e+02</td>\n",
       "      <td>5.53e-03</td>\n",
       "      <td>5.54e-03</td>\n",
       "      <td>---</td>\n",
       "      <td>3.69e+00</td>\n",
       "    </tr>\n",
       "  </tbody>\n",
       "</table>\n",
       "</div>"
      ],
      "text/plain": [
       "      Iter   Normgf  Newtons decrement  Err x ast  Err p ast line search  \\\n",
       "row0     0 5.25e+02           1.61e+02   5.53e-03   5.54e-03         ---   \n",
       "\n",
       "       CondHf  \n",
       "row0 3.69e+00  "
      ]
     },
     "metadata": {},
     "output_type": "display_data"
    },
    {
     "name": "stderr",
     "output_type": "stream",
     "text": [
      "/home/miuser/.local/lib/python3.7/site-packages/opt/utils_logarithmic_barrier.py:17: RuntimeWarning: invalid value encountered in log\n",
      "  eval_f_const_inequality = np.log(eval_f_const_inequality)\n"
     ]
    },
    {
     "data": {
      "text/html": [
       "<div>\n",
       "<style scoped>\n",
       "    .dataframe tbody tr th:only-of-type {\n",
       "        vertical-align: middle;\n",
       "    }\n",
       "\n",
       "    .dataframe tbody tr th {\n",
       "        vertical-align: top;\n",
       "    }\n",
       "\n",
       "    .dataframe thead th {\n",
       "        text-align: right;\n",
       "    }\n",
       "</style>\n",
       "<table border=\"1\" class=\"dataframe\">\n",
       "  <thead>\n",
       "    <tr style=\"text-align: right;\">\n",
       "      <th></th>\n",
       "      <th>Iter</th>\n",
       "      <th>Normgf</th>\n",
       "      <th>Newtons decrement</th>\n",
       "      <th>Err x ast</th>\n",
       "      <th>Err p ast</th>\n",
       "      <th>line search</th>\n",
       "      <th>CondHf</th>\n",
       "    </tr>\n",
       "  </thead>\n",
       "  <tbody>\n",
       "    <tr>\n",
       "      <th>row1</th>\n",
       "      <td>1</td>\n",
       "      <td>4.50e+02</td>\n",
       "      <td>2.28e+01</td>\n",
       "      <td>2.43e-03</td>\n",
       "      <td>2.43e-03</td>\n",
       "      <td>6.25e-02</td>\n",
       "      <td>3.71e+00</td>\n",
       "    </tr>\n",
       "  </tbody>\n",
       "</table>\n",
       "</div>"
      ],
      "text/plain": [
       "      Iter   Normgf  Newtons decrement  Err x ast  Err p ast  line search  \\\n",
       "row1     1 4.50e+02           2.28e+01   2.43e-03   2.43e-03     6.25e-02   \n",
       "\n",
       "       CondHf  \n",
       "row1 3.71e+00  "
      ]
     },
     "metadata": {},
     "output_type": "display_data"
    },
    {
     "name": "stderr",
     "output_type": "stream",
     "text": [
      "/home/miuser/.local/lib/python3.7/site-packages/opt/utils_logarithmic_barrier.py:17: RuntimeWarning: invalid value encountered in log\n",
      "  eval_f_const_inequality = np.log(eval_f_const_inequality)\n"
     ]
    },
    {
     "data": {
      "text/html": [
       "<div>\n",
       "<style scoped>\n",
       "    .dataframe tbody tr th:only-of-type {\n",
       "        vertical-align: middle;\n",
       "    }\n",
       "\n",
       "    .dataframe tbody tr th {\n",
       "        vertical-align: top;\n",
       "    }\n",
       "\n",
       "    .dataframe thead th {\n",
       "        text-align: right;\n",
       "    }\n",
       "</style>\n",
       "<table border=\"1\" class=\"dataframe\">\n",
       "  <thead>\n",
       "    <tr style=\"text-align: right;\">\n",
       "      <th></th>\n",
       "      <th>Iter</th>\n",
       "      <th>Normgf</th>\n",
       "      <th>Newtons decrement</th>\n",
       "      <th>Err x ast</th>\n",
       "      <th>Err p ast</th>\n",
       "      <th>line search</th>\n",
       "      <th>CondHf</th>\n",
       "    </tr>\n",
       "  </thead>\n",
       "  <tbody>\n",
       "    <tr>\n",
       "      <th>row2</th>\n",
       "      <td>2</td>\n",
       "      <td>2.75e+02</td>\n",
       "      <td>2.06e-01</td>\n",
       "      <td>3.76e-04</td>\n",
       "      <td>3.77e-04</td>\n",
       "      <td>2.50e-01</td>\n",
       "      <td>3.68e+00</td>\n",
       "    </tr>\n",
       "  </tbody>\n",
       "</table>\n",
       "</div>"
      ],
      "text/plain": [
       "      Iter   Normgf  Newtons decrement  Err x ast  Err p ast  line search  \\\n",
       "row2     2 2.75e+02           2.06e-01   3.76e-04   3.77e-04     2.50e-01   \n",
       "\n",
       "       CondHf  \n",
       "row2 3.68e+00  "
      ]
     },
     "metadata": {},
     "output_type": "display_data"
    },
    {
     "data": {
      "text/html": [
       "<div>\n",
       "<style scoped>\n",
       "    .dataframe tbody tr th:only-of-type {\n",
       "        vertical-align: middle;\n",
       "    }\n",
       "\n",
       "    .dataframe tbody tr th {\n",
       "        vertical-align: top;\n",
       "    }\n",
       "\n",
       "    .dataframe thead th {\n",
       "        text-align: right;\n",
       "    }\n",
       "</style>\n",
       "<table border=\"1\" class=\"dataframe\">\n",
       "  <thead>\n",
       "    <tr style=\"text-align: right;\">\n",
       "      <th></th>\n",
       "      <th>Iter</th>\n",
       "      <th>Normgf</th>\n",
       "      <th>Newtons decrement</th>\n",
       "      <th>Err x ast</th>\n",
       "      <th>Err p ast</th>\n",
       "      <th>line search</th>\n",
       "      <th>CondHf</th>\n",
       "    </tr>\n",
       "  </thead>\n",
       "  <tbody>\n",
       "    <tr>\n",
       "      <th>row3</th>\n",
       "      <td>3</td>\n",
       "      <td>6.68e+01</td>\n",
       "      <td>2.12e-02</td>\n",
       "      <td>4.98e-04</td>\n",
       "      <td>4.98e-04</td>\n",
       "      <td>1</td>\n",
       "      <td>3.69e+00</td>\n",
       "    </tr>\n",
       "  </tbody>\n",
       "</table>\n",
       "</div>"
      ],
      "text/plain": [
       "      Iter   Normgf  Newtons decrement  Err x ast  Err p ast  line search  \\\n",
       "row3     3 6.68e+01           2.12e-02   4.98e-04   4.98e-04            1   \n",
       "\n",
       "       CondHf  \n",
       "row3 3.69e+00  "
      ]
     },
     "metadata": {},
     "output_type": "display_data"
    },
    {
     "data": {
      "text/html": [
       "<div>\n",
       "<style scoped>\n",
       "    .dataframe tbody tr th:only-of-type {\n",
       "        vertical-align: middle;\n",
       "    }\n",
       "\n",
       "    .dataframe tbody tr th {\n",
       "        vertical-align: top;\n",
       "    }\n",
       "\n",
       "    .dataframe thead th {\n",
       "        text-align: right;\n",
       "    }\n",
       "</style>\n",
       "<table border=\"1\" class=\"dataframe\">\n",
       "  <thead>\n",
       "    <tr style=\"text-align: right;\">\n",
       "      <th></th>\n",
       "      <th>Iter</th>\n",
       "      <th>Normgf</th>\n",
       "      <th>Newtons decrement</th>\n",
       "      <th>Err x ast</th>\n",
       "      <th>Err p ast</th>\n",
       "      <th>line search</th>\n",
       "      <th>CondHf</th>\n",
       "    </tr>\n",
       "  </thead>\n",
       "  <tbody>\n",
       "    <tr>\n",
       "      <th>row4</th>\n",
       "      <td>4</td>\n",
       "      <td>6.23e+00</td>\n",
       "      <td>2.26e-04</td>\n",
       "      <td>5.49e-04</td>\n",
       "      <td>5.50e-04</td>\n",
       "      <td>1</td>\n",
       "      <td>3.70e+00</td>\n",
       "    </tr>\n",
       "  </tbody>\n",
       "</table>\n",
       "</div>"
      ],
      "text/plain": [
       "      Iter   Normgf  Newtons decrement  Err x ast  Err p ast  line search  \\\n",
       "row4     4 6.23e+00           2.26e-04   5.49e-04   5.50e-04            1   \n",
       "\n",
       "       CondHf  \n",
       "row4 3.70e+00  "
      ]
     },
     "metadata": {},
     "output_type": "display_data"
    },
    {
     "data": {
      "text/html": [
       "<div>\n",
       "<style scoped>\n",
       "    .dataframe tbody tr th:only-of-type {\n",
       "        vertical-align: middle;\n",
       "    }\n",
       "\n",
       "    .dataframe tbody tr th {\n",
       "        vertical-align: top;\n",
       "    }\n",
       "\n",
       "    .dataframe thead th {\n",
       "        text-align: right;\n",
       "    }\n",
       "</style>\n",
       "<table border=\"1\" class=\"dataframe\">\n",
       "  <thead>\n",
       "    <tr style=\"text-align: right;\">\n",
       "      <th></th>\n",
       "      <th>Iter</th>\n",
       "      <th>Normgf</th>\n",
       "      <th>Newtons decrement</th>\n",
       "      <th>Err x ast</th>\n",
       "      <th>Err p ast</th>\n",
       "      <th>line search</th>\n",
       "      <th>CondHf</th>\n",
       "    </tr>\n",
       "  </thead>\n",
       "  <tbody>\n",
       "    <tr>\n",
       "      <th>row5</th>\n",
       "      <td>5</td>\n",
       "      <td>6.54e-02</td>\n",
       "      <td>2.58e-08</td>\n",
       "      <td>5.55e-04</td>\n",
       "      <td>5.55e-04</td>\n",
       "      <td>1</td>\n",
       "      <td>3.70e+00</td>\n",
       "    </tr>\n",
       "  </tbody>\n",
       "</table>\n",
       "</div>"
      ],
      "text/plain": [
       "      Iter   Normgf  Newtons decrement  Err x ast  Err p ast  line search  \\\n",
       "row5     5 6.54e-02           2.58e-08   5.55e-04   5.55e-04            1   \n",
       "\n",
       "       CondHf  \n",
       "row5 3.70e+00  "
      ]
     },
     "metadata": {},
     "output_type": "display_data"
    },
    {
     "data": {
      "text/html": [
       "<div>\n",
       "<style scoped>\n",
       "    .dataframe tbody tr th:only-of-type {\n",
       "        vertical-align: middle;\n",
       "    }\n",
       "\n",
       "    .dataframe tbody tr th {\n",
       "        vertical-align: top;\n",
       "    }\n",
       "\n",
       "    .dataframe thead th {\n",
       "        text-align: right;\n",
       "    }\n",
       "</style>\n",
       "<table border=\"1\" class=\"dataframe\">\n",
       "  <thead>\n",
       "    <tr style=\"text-align: right;\">\n",
       "      <th></th>\n",
       "      <th>Iter</th>\n",
       "      <th>Normgf</th>\n",
       "      <th>Newtons decrement</th>\n",
       "      <th>Err x ast</th>\n",
       "      <th>Err p ast</th>\n",
       "      <th>line search</th>\n",
       "      <th>CondHf</th>\n",
       "    </tr>\n",
       "  </thead>\n",
       "  <tbody>\n",
       "    <tr>\n",
       "      <th>row6</th>\n",
       "      <td>6</td>\n",
       "      <td>7.40e-06</td>\n",
       "      <td>3.42e-16</td>\n",
       "      <td>5.55e-04</td>\n",
       "      <td>5.55e-04</td>\n",
       "      <td>1</td>\n",
       "      <td>3.70e+00</td>\n",
       "    </tr>\n",
       "  </tbody>\n",
       "</table>\n",
       "</div>"
      ],
      "text/plain": [
       "      Iter   Normgf  Newtons decrement  Err x ast  Err p ast  line search  \\\n",
       "row6     6 7.40e-06           3.42e-16   5.55e-04   5.55e-04            1   \n",
       "\n",
       "       CondHf  \n",
       "row6 3.70e+00  "
      ]
     },
     "metadata": {},
     "output_type": "display_data"
    },
    {
     "name": "stdout",
     "output_type": "stream",
     "text": [
      "Error of x with respect to x_ast: 5.55e-04\n",
      "Approximate solution: [1.999 5.997]\n"
     ]
    },
    {
     "data": {
      "image/png": "[encoded data removed]",
      "text/plain": [
       "<Figure size 432x288 with 1 Axes>"
      ]
     },
     "metadata": {
      "needs_background": "light"
     },
     "output_type": "display_data"
    },
    {
     "data": {
      "image/png": "[encoded data removed]",
      "text/plain": [
       "<Figure size 432x288 with 1 Axes>"
      ]
     },
     "metadata": {
      "needs_background": "light"
     },
     "output_type": "display_data"
    },
    {
     "name": "stdout",
     "output_type": "stream",
     "text": [
      "Inner iterations\n",
      "[1.999 5.997]\n",
      "-----------------------------------------------------------------\n",
      "-----------------------------------------------------------------\n",
      "Outer iterations of path following method\n",
      "Mu value: 1.00e+01\n"
     ]
    },
    {
     "data": {
      "text/html": [
       "<div>\n",
       "<style scoped>\n",
       "    .dataframe tbody tr th:only-of-type {\n",
       "        vertical-align: middle;\n",
       "    }\n",
       "\n",
       "    .dataframe tbody tr th {\n",
       "        vertical-align: top;\n",
       "    }\n",
       "\n",
       "    .dataframe thead th {\n",
       "        text-align: right;\n",
       "    }\n",
       "</style>\n",
       "<table border=\"1\" class=\"dataframe\">\n",
       "  <thead>\n",
       "    <tr style=\"text-align: right;\">\n",
       "      <th></th>\n",
       "      <th>Outer iter</th>\n",
       "      <th>logbarrier</th>\n",
       "      <th>t_log_barrier</th>\n",
       "      <th>stopping criteria</th>\n",
       "    </tr>\n",
       "  </thead>\n",
       "  <tbody>\n",
       "    <tr>\n",
       "      <th>row2</th>\n",
       "      <td>2</td>\n",
       "      <td>-3.60e+04</td>\n",
       "      <td>1000</td>\n",
       "      <td>5.00e-03</td>\n",
       "    </tr>\n",
       "  </tbody>\n",
       "</table>\n",
       "</div>"
      ],
      "text/plain": [
       "      Outer iter  logbarrier  t_log_barrier  stopping criteria\n",
       "row2           2   -3.60e+04           1000           5.00e-03"
      ]
     },
     "metadata": {},
     "output_type": "display_data"
    },
    {
     "name": "stdout",
     "output_type": "stream",
     "text": [
      "-----------------------------------------------------------------\n",
      "-----------------------------------------------------------------\n"
     ]
    },
    {
     "data": {
      "text/html": [
       "<div>\n",
       "<style scoped>\n",
       "    .dataframe tbody tr th:only-of-type {\n",
       "        vertical-align: middle;\n",
       "    }\n",
       "\n",
       "    .dataframe tbody tr th {\n",
       "        vertical-align: top;\n",
       "    }\n",
       "\n",
       "    .dataframe thead th {\n",
       "        text-align: right;\n",
       "    }\n",
       "</style>\n",
       "<table border=\"1\" class=\"dataframe\">\n",
       "  <thead>\n",
       "    <tr style=\"text-align: right;\">\n",
       "      <th></th>\n",
       "      <th>Iter</th>\n",
       "      <th>Normgf</th>\n",
       "      <th>Newtons decrement</th>\n",
       "      <th>Err x ast</th>\n",
       "      <th>Err p ast</th>\n",
       "      <th>line search</th>\n",
       "      <th>CondHf</th>\n",
       "    </tr>\n",
       "  </thead>\n",
       "  <tbody>\n",
       "    <tr>\n",
       "      <th>row0</th>\n",
       "      <td>0</td>\n",
       "      <td>5.25e+03</td>\n",
       "      <td>1.62e+02</td>\n",
       "      <td>5.55e-04</td>\n",
       "      <td>5.55e-04</td>\n",
       "      <td>---</td>\n",
       "      <td>3.70e+00</td>\n",
       "    </tr>\n",
       "  </tbody>\n",
       "</table>\n",
       "</div>"
      ],
      "text/plain": [
       "      Iter   Normgf  Newtons decrement  Err x ast  Err p ast line search  \\\n",
       "row0     0 5.25e+03           1.62e+02   5.55e-04   5.55e-04         ---   \n",
       "\n",
       "       CondHf  \n",
       "row0 3.70e+00  "
      ]
     },
     "metadata": {},
     "output_type": "display_data"
    },
    {
     "name": "stderr",
     "output_type": "stream",
     "text": [
      "/home/miuser/.local/lib/python3.7/site-packages/opt/utils_logarithmic_barrier.py:17: RuntimeWarning: invalid value encountered in log\n",
      "  eval_f_const_inequality = np.log(eval_f_const_inequality)\n"
     ]
    },
    {
     "data": {
      "text/html": [
       "<div>\n",
       "<style scoped>\n",
       "    .dataframe tbody tr th:only-of-type {\n",
       "        vertical-align: middle;\n",
       "    }\n",
       "\n",
       "    .dataframe tbody tr th {\n",
       "        vertical-align: top;\n",
       "    }\n",
       "\n",
       "    .dataframe thead th {\n",
       "        text-align: right;\n",
       "    }\n",
       "</style>\n",
       "<table border=\"1\" class=\"dataframe\">\n",
       "  <thead>\n",
       "    <tr style=\"text-align: right;\">\n",
       "      <th></th>\n",
       "      <th>Iter</th>\n",
       "      <th>Normgf</th>\n",
       "      <th>Newtons decrement</th>\n",
       "      <th>Err x ast</th>\n",
       "      <th>Err p ast</th>\n",
       "      <th>line search</th>\n",
       "      <th>CondHf</th>\n",
       "    </tr>\n",
       "  </thead>\n",
       "  <tbody>\n",
       "    <tr>\n",
       "      <th>row1</th>\n",
       "      <td>1</td>\n",
       "      <td>4.50e+03</td>\n",
       "      <td>2.28e+01</td>\n",
       "      <td>2.43e-04</td>\n",
       "      <td>2.43e-04</td>\n",
       "      <td>6.25e-02</td>\n",
       "      <td>3.71e+00</td>\n",
       "    </tr>\n",
       "  </tbody>\n",
       "</table>\n",
       "</div>"
      ],
      "text/plain": [
       "      Iter   Normgf  Newtons decrement  Err x ast  Err p ast  line search  \\\n",
       "row1     1 4.50e+03           2.28e+01   2.43e-04   2.43e-04     6.25e-02   \n",
       "\n",
       "       CondHf  \n",
       "row1 3.71e+00  "
      ]
     },
     "metadata": {},
     "output_type": "display_data"
    },
    {
     "name": "stderr",
     "output_type": "stream",
     "text": [
      "/home/miuser/.local/lib/python3.7/site-packages/opt/utils_logarithmic_barrier.py:17: RuntimeWarning: invalid value encountered in log\n",
      "  eval_f_const_inequality = np.log(eval_f_const_inequality)\n"
     ]
    },
    {
     "data": {
      "text/html": [
       "<div>\n",
       "<style scoped>\n",
       "    .dataframe tbody tr th:only-of-type {\n",
       "        vertical-align: middle;\n",
       "    }\n",
       "\n",
       "    .dataframe tbody tr th {\n",
       "        vertical-align: top;\n",
       "    }\n",
       "\n",
       "    .dataframe thead th {\n",
       "        text-align: right;\n",
       "    }\n",
       "</style>\n",
       "<table border=\"1\" class=\"dataframe\">\n",
       "  <thead>\n",
       "    <tr style=\"text-align: right;\">\n",
       "      <th></th>\n",
       "      <th>Iter</th>\n",
       "      <th>Normgf</th>\n",
       "      <th>Newtons decrement</th>\n",
       "      <th>Err x ast</th>\n",
       "      <th>Err p ast</th>\n",
       "      <th>line search</th>\n",
       "      <th>CondHf</th>\n",
       "    </tr>\n",
       "  </thead>\n",
       "  <tbody>\n",
       "    <tr>\n",
       "      <th>row2</th>\n",
       "      <td>2</td>\n",
       "      <td>2.70e+03</td>\n",
       "      <td>2.01e-01</td>\n",
       "      <td>3.79e-05</td>\n",
       "      <td>3.80e-05</td>\n",
       "      <td>2.50e-01</td>\n",
       "      <td>3.70e+00</td>\n",
       "    </tr>\n",
       "  </tbody>\n",
       "</table>\n",
       "</div>"
      ],
      "text/plain": [
       "      Iter   Normgf  Newtons decrement  Err x ast  Err p ast  line search  \\\n",
       "row2     2 2.70e+03           2.01e-01   3.79e-05   3.80e-05     2.50e-01   \n",
       "\n",
       "       CondHf  \n",
       "row2 3.70e+00  "
      ]
     },
     "metadata": {},
     "output_type": "display_data"
    },
    {
     "data": {
      "text/html": [
       "<div>\n",
       "<style scoped>\n",
       "    .dataframe tbody tr th:only-of-type {\n",
       "        vertical-align: middle;\n",
       "    }\n",
       "\n",
       "    .dataframe tbody tr th {\n",
       "        vertical-align: top;\n",
       "    }\n",
       "\n",
       "    .dataframe thead th {\n",
       "        text-align: right;\n",
       "    }\n",
       "</style>\n",
       "<table border=\"1\" class=\"dataframe\">\n",
       "  <thead>\n",
       "    <tr style=\"text-align: right;\">\n",
       "      <th></th>\n",
       "      <th>Iter</th>\n",
       "      <th>Normgf</th>\n",
       "      <th>Newtons decrement</th>\n",
       "      <th>Err x ast</th>\n",
       "      <th>Err p ast</th>\n",
       "      <th>line search</th>\n",
       "      <th>CondHf</th>\n",
       "    </tr>\n",
       "  </thead>\n",
       "  <tbody>\n",
       "    <tr>\n",
       "      <th>row3</th>\n",
       "      <td>3</td>\n",
       "      <td>6.50e+02</td>\n",
       "      <td>2.02e-02</td>\n",
       "      <td>5.00e-05</td>\n",
       "      <td>5.00e-05</td>\n",
       "      <td>1</td>\n",
       "      <td>3.70e+00</td>\n",
       "    </tr>\n",
       "  </tbody>\n",
       "</table>\n",
       "</div>"
      ],
      "text/plain": [
       "      Iter   Normgf  Newtons decrement  Err x ast  Err p ast  line search  \\\n",
       "row3     3 6.50e+02           2.02e-02   5.00e-05   5.00e-05            1   \n",
       "\n",
       "       CondHf  \n",
       "row3 3.70e+00  "
      ]
     },
     "metadata": {},
     "output_type": "display_data"
    },
    {
     "data": {
      "text/html": [
       "<div>\n",
       "<style scoped>\n",
       "    .dataframe tbody tr th:only-of-type {\n",
       "        vertical-align: middle;\n",
       "    }\n",
       "\n",
       "    .dataframe tbody tr th {\n",
       "        vertical-align: top;\n",
       "    }\n",
       "\n",
       "    .dataframe thead th {\n",
       "        text-align: right;\n",
       "    }\n",
       "</style>\n",
       "<table border=\"1\" class=\"dataframe\">\n",
       "  <thead>\n",
       "    <tr style=\"text-align: right;\">\n",
       "      <th></th>\n",
       "      <th>Iter</th>\n",
       "      <th>Normgf</th>\n",
       "      <th>Newtons decrement</th>\n",
       "      <th>Err x ast</th>\n",
       "      <th>Err p ast</th>\n",
       "      <th>line search</th>\n",
       "      <th>CondHf</th>\n",
       "    </tr>\n",
       "  </thead>\n",
       "  <tbody>\n",
       "    <tr>\n",
       "      <th>row4</th>\n",
       "      <td>4</td>\n",
       "      <td>5.93e+01</td>\n",
       "      <td>2.03e-04</td>\n",
       "      <td>5.50e-05</td>\n",
       "      <td>5.50e-05</td>\n",
       "      <td>1</td>\n",
       "      <td>3.71e+00</td>\n",
       "    </tr>\n",
       "  </tbody>\n",
       "</table>\n",
       "</div>"
      ],
      "text/plain": [
       "      Iter   Normgf  Newtons decrement  Err x ast  Err p ast  line search  \\\n",
       "row4     4 5.93e+01           2.03e-04   5.50e-05   5.50e-05            1   \n",
       "\n",
       "       CondHf  \n",
       "row4 3.71e+00  "
      ]
     },
     "metadata": {},
     "output_type": "display_data"
    },
    {
     "data": {
      "text/html": [
       "<div>\n",
       "<style scoped>\n",
       "    .dataframe tbody tr th:only-of-type {\n",
       "        vertical-align: middle;\n",
       "    }\n",
       "\n",
       "    .dataframe tbody tr th {\n",
       "        vertical-align: top;\n",
       "    }\n",
       "\n",
       "    .dataframe thead th {\n",
       "        text-align: right;\n",
       "    }\n",
       "</style>\n",
       "<table border=\"1\" class=\"dataframe\">\n",
       "  <thead>\n",
       "    <tr style=\"text-align: right;\">\n",
       "      <th></th>\n",
       "      <th>Iter</th>\n",
       "      <th>Normgf</th>\n",
       "      <th>Newtons decrement</th>\n",
       "      <th>Err x ast</th>\n",
       "      <th>Err p ast</th>\n",
       "      <th>line search</th>\n",
       "      <th>CondHf</th>\n",
       "    </tr>\n",
       "  </thead>\n",
       "  <tbody>\n",
       "    <tr>\n",
       "      <th>row5</th>\n",
       "      <td>5</td>\n",
       "      <td>5.92e-01</td>\n",
       "      <td>2.06e-08</td>\n",
       "      <td>5.55e-05</td>\n",
       "      <td>5.55e-05</td>\n",
       "      <td>1</td>\n",
       "      <td>3.71e+00</td>\n",
       "    </tr>\n",
       "  </tbody>\n",
       "</table>\n",
       "</div>"
      ],
      "text/plain": [
       "      Iter   Normgf  Newtons decrement  Err x ast  Err p ast  line search  \\\n",
       "row5     5 5.92e-01           2.06e-08   5.55e-05   5.55e-05            1   \n",
       "\n",
       "       CondHf  \n",
       "row5 3.71e+00  "
      ]
     },
     "metadata": {},
     "output_type": "display_data"
    },
    {
     "data": {
      "text/html": [
       "<div>\n",
       "<style scoped>\n",
       "    .dataframe tbody tr th:only-of-type {\n",
       "        vertical-align: middle;\n",
       "    }\n",
       "\n",
       "    .dataframe tbody tr th {\n",
       "        vertical-align: top;\n",
       "    }\n",
       "\n",
       "    .dataframe thead th {\n",
       "        text-align: right;\n",
       "    }\n",
       "</style>\n",
       "<table border=\"1\" class=\"dataframe\">\n",
       "  <thead>\n",
       "    <tr style=\"text-align: right;\">\n",
       "      <th></th>\n",
       "      <th>Iter</th>\n",
       "      <th>Normgf</th>\n",
       "      <th>Newtons decrement</th>\n",
       "      <th>Err x ast</th>\n",
       "      <th>Err p ast</th>\n",
       "      <th>line search</th>\n",
       "      <th>CondHf</th>\n",
       "    </tr>\n",
       "  </thead>\n",
       "  <tbody>\n",
       "    <tr>\n",
       "      <th>row6</th>\n",
       "      <td>6</td>\n",
       "      <td>6.00e-05</td>\n",
       "      <td>2.13e-16</td>\n",
       "      <td>5.56e-05</td>\n",
       "      <td>5.56e-05</td>\n",
       "      <td>1</td>\n",
       "      <td>3.71e+00</td>\n",
       "    </tr>\n",
       "  </tbody>\n",
       "</table>\n",
       "</div>"
      ],
      "text/plain": [
       "      Iter   Normgf  Newtons decrement  Err x ast  Err p ast  line search  \\\n",
       "row6     6 6.00e-05           2.13e-16   5.56e-05   5.56e-05            1   \n",
       "\n",
       "       CondHf  \n",
       "row6 3.71e+00  "
      ]
     },
     "metadata": {},
     "output_type": "display_data"
    },
    {
     "name": "stdout",
     "output_type": "stream",
     "text": [
      "Error of x with respect to x_ast: 5.56e-05\n",
      "Approximate solution: [2. 6.]\n"
     ]
    },
    {
     "data": {
      "image/png": "[encoded data removed]",
      "text/plain": [
       "<Figure size 432x288 with 1 Axes>"
      ]
     },
     "metadata": {
      "needs_background": "light"
     },
     "output_type": "display_data"
    },
    {
     "data": {
      "image/png": "[encoded data removed]",
      "text/plain": [
       "<Figure size 432x288 with 1 Axes>"
      ]
     },
     "metadata": {
      "needs_background": "light"
     },
     "output_type": "display_data"
    },
    {
     "name": "stdout",
     "output_type": "stream",
     "text": [
      "Inner iterations\n",
      "[2. 6.]\n",
      "-----------------------------------------------------------------\n",
      "-----------------------------------------------------------------\n",
      "Outer iterations of path following method\n",
      "Mu value: 1.00e+01\n"
     ]
    },
    {
     "data": {
      "text/html": [
       "<div>\n",
       "<style scoped>\n",
       "    .dataframe tbody tr th:only-of-type {\n",
       "        vertical-align: middle;\n",
       "    }\n",
       "\n",
       "    .dataframe tbody tr th {\n",
       "        vertical-align: top;\n",
       "    }\n",
       "\n",
       "    .dataframe thead th {\n",
       "        text-align: right;\n",
       "    }\n",
       "</style>\n",
       "<table border=\"1\" class=\"dataframe\">\n",
       "  <thead>\n",
       "    <tr style=\"text-align: right;\">\n",
       "      <th></th>\n",
       "      <th>Outer iter</th>\n",
       "      <th>logbarrier</th>\n",
       "      <th>t_log_barrier</th>\n",
       "      <th>stopping criteria</th>\n",
       "    </tr>\n",
       "  </thead>\n",
       "  <tbody>\n",
       "    <tr>\n",
       "      <th>row3</th>\n",
       "      <td>3</td>\n",
       "      <td>-3.60e+05</td>\n",
       "      <td>10000</td>\n",
       "      <td>5.00e-04</td>\n",
       "    </tr>\n",
       "  </tbody>\n",
       "</table>\n",
       "</div>"
      ],
      "text/plain": [
       "      Outer iter  logbarrier  t_log_barrier  stopping criteria\n",
       "row3           3   -3.60e+05          10000           5.00e-04"
      ]
     },
     "metadata": {},
     "output_type": "display_data"
    },
    {
     "name": "stdout",
     "output_type": "stream",
     "text": [
      "-----------------------------------------------------------------\n",
      "-----------------------------------------------------------------\n"
     ]
    }
   ],
   "source": [
    "[x,total_iter,t,x_plot] = primal_dual_method(fo, constraints_ineq,\n",
    "                                             x_0, tol,\n",
    "                                             tol_backtracking,\n",
    "                                             t_B_0,\n",
    "                                             x_ast=x_ast, \n",
    "                                             p_ast=p_ast, \n",
    "                                             max_inner_iter=max_inner_iter,\n",
    "                                             mu=mu, \n",
    "                                             tol_outer_iter=tol_outer_iter,\n",
    "                                             gf_B=gf_B,\n",
    "                                             Hf_B=Hf_B,\n",
    "                                             )"
   ]
  },
  {
   "cell_type": "code",
   "execution_count": 71,
   "metadata": {},
   "outputs": [],
   "source": [
    "from opt.utils_logarithmic_barrier import plot_central_path"
   ]
  },
  {
   "cell_type": "code",
   "execution_count": 72,
   "metadata": {},
   "outputs": [
    {
     "data": {
      "image/png": "[encoded data removed]",
      "text/plain": [
       "<Figure size 432x288 with 1 Axes>"
      ]
     },
     "metadata": {
      "needs_background": "light"
     },
     "output_type": "display_data"
    }
   ],
   "source": [
    "plt.contour(x1_p, x2_p, z)\n",
    "plt.xlim(-0.1, 5)\n",
    "plt.ylim(-0.1,6.5)\n",
    "plot_central_path(x_plot)"
   ]
  },
  {
   "cell_type": "markdown",
   "metadata": {},
   "source": [
    "```{admonition} Ejercicio\n",
    ":class: tip\n",
    "\n",
    "Resolver el siguiente problema con el método primal-dual de BL y corrobora con algún software tu respuesta:\n",
    "\n",
    "$$\n",
    "\\displaystyle \\min_{x \\in \\mathbb{R}^2} x_1 + x_2 - 4x_3\\\\\n",
    "\\text{sujeto a:} \\\\\n",
    "x_1 + x_2 + 2x_3 \\leq 9 \\nonumber    \\\\\n",
    "x_1 + x_2 - x_3 \\leq 2 \\nonumber \\\\\n",
    "-x_1 + x_2 + x_3 \\leq 4 \\nonumber \\\\\n",
    "x_1 \\geq 0, x_2 \\geq 0, x_3 \\geq 0\n",
    "$$\n",
    "\n",
    "```"
   ]
  },
  {
   "cell_type": "markdown",
   "metadata": {},
   "source": [
    "**Comentario para el que sería bueno mostrar un dibujo/gráfica:**\n",
    "\n",
    "Valores más \"grandes\" de $t_B$ hacen que la Hessiana de la función objetivo del PBL varíe rápidamente cerca de la frontera del conjunto factible."
   ]
  },
  {
   "cell_type": "markdown",
   "metadata": {},
   "source": [
    "```{admonition} Ejercicios\n",
    ":class: tip\n",
    "\n",
    "1.Resuelve los ejercicios y preguntas de la nota.\n",
    "```\n"
   ]
  },
  {
   "cell_type": "markdown",
   "metadata": {},
   "source": [
    "**Referencias:**\n",
    "\n",
    "1. S. P. Boyd, L. Vandenberghe, Convex Optimization, Cambridge University Press, 2009.\n",
    "\n",
    "2. J. Nocedal, S. J. Wright, Numerical Optimization, Springer, 2006.\n",
    "\n",
    "3. F. Hillier, G. Lieberman, Introduction to Operations Research, Mc Graw Hill, 2014.\n"
   ]
  }
 ],
 "metadata": {
  "kernelspec": {
   "display_name": "Python 3",
   "language": "python",
   "name": "python3"
  },
  "language_info": {
   "codemirror_mode": {
    "name": "ipython",
    "version": 3
   },
   "file_extension": ".py",
   "mimetype": "text/x-python",
   "name": "python",
   "nbconvert_exporter": "python",
   "pygments_lexer": "ipython3",
   "version": "3.7.3"
  }
 },
 "nbformat": 4,
 "nbformat_minor": 4
}
