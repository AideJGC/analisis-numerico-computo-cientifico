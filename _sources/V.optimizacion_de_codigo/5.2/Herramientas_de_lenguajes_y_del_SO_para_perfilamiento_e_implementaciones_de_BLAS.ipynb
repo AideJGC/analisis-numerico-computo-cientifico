{
 "cells": [
  {
   "cell_type": "markdown",
   "metadata": {},
   "source": [
    "(PERFBLAS)="
   ]
  },
  {
   "cell_type": "markdown",
   "metadata": {},
   "source": [
    "# 5.2 Herramientas de lenguajes de programación y del sistema operativo para perfilamiento e implementaciones de BLAS"
   ]
  },
  {
   "cell_type": "markdown",
   "metadata": {},
   "source": [
    "```{admonition} Notas para contenedor de docker:\n",
    "\n",
    "Comando de docker para ejecución de la nota de forma local:\n",
    "\n",
    "nota: cambiar `<ruta a mi directorio>` por la ruta de directorio que se desea mapear a `/datos` dentro del contenedor de docker.\n",
    "\n",
    "`docker run --rm -v <ruta a mi directorio>:/datos --name jupyterlab_optimizacion_2 -p 8888:8888 -p 8787:8787 -d palmoreck/jupyterlab_optimizacion_2:3.0.0`\n",
    "\n",
    "password para jupyterlab: `qwerty`\n",
    "\n",
    "Detener el contenedor de docker:\n",
    "\n",
    "`docker stop jupyterlab_optimizacion_2`\n",
    "\n",
    "Documentación de la imagen de docker `palmoreck/jupyterlab_optimizacion_2:3.0.0` en [liga](https://github.com/palmoreck/dockerfiles/tree/master/jupyterlab/optimizacion_2).\n",
    "\n",
    "```"
   ]
  },
  {
   "cell_type": "markdown",
   "metadata": {},
   "source": [
    "---"
   ]
  },
  {
   "cell_type": "markdown",
   "metadata": {},
   "source": [
    "```{admonition} Al final de esta nota el y la lectora:\n",
    ":class: tip\n",
    "\n",
    "* \n",
    "\n",
    "```"
   ]
  },
  {
   "cell_type": "markdown",
   "metadata": {},
   "source": [
    "En esta nota revisamos algunas herramientas de los lenguajes de programación y de los sistemas GNU/Linux para perfilamiento de código. También se revisan las operaciones de BLAS en sus diferentes niveles con ejemplos de paquetes en los lenguajes. \n",
    "\n",
    "Se presentan códigos y sus ejecuciones en una máquina `m5.2xlarge` de la nube de [AWS](https://aws.amazon.com/). Se sugiere se utilice la AMI --aquí colocar nombre de AMI-- de la región `us-east-1` (Virginia) para reproducibilidad de resultados. Tal AMI se construyó a partir de una AMI `ubuntu 20.04 - ami-042e8287309f5df03` con los siguientes *statements*:\n"
   ]
  },
  {
   "cell_type": "markdown",
   "metadata": {},
   "source": [
    "```bash\n",
    "\n",
    "#!/bin/bash\n",
    "#Virginia region\n",
    "DEBIAN_FRONTEND=noninteractive\n",
    "DEB_BUILD_DEPS=\"build-essential python3-dev python3-pip python3-setuptools software-properties-common libgit2-dev dirmngr libgmp3-dev libmpfr-dev\"\n",
    "#Install OpenBLAS and other tools\n",
    "DEB_PACKAGES=\"sudo nano less time git nodejs curl wget htop gfortran linux-tools-$(uname -r) linux-tools-generic libopenblas-dev\"\n",
    "PIP_PACKAGES=\"line_profiler memory_profiler psutil guppy3 jedi==0.17.2 awscli\"\n",
    "R_KEY=\"E298A3A825C0D65DFD57CBB651716619E084DAB9\"\n",
    "R_DEB_BUILD_DEPS=\"focal-cran40 r-base libssl-dev libxml2-dev libcurl4-openssl-dev\"\n",
    "USER=ubuntu\n",
    "JUPYTERLAB_VERSION=3.0.0\n",
    "LANG=C.UTF-8\n",
    "LC_ALL=C.UTF-8\n",
    "R_SITE_LIBRARY=\"/usr/local/lib/R/site-library\"\n",
    "R_PACKAGES=\"\\\"repr IRdisplay evaluate crayon pbdZMQ devtools uuid digest CVXR tidyverse tictoc microbenchmark\\\"\"\n",
    "\n",
    "apt-get update && export $DEBIAN_FRONTEND && apt-get install -y tzdata\n",
    "\n",
    "apt-get update && apt-get install -y $DEB_BUILD_DEPS $DEB_PACKAGES && pip3 install --upgrade pip\n",
    "\n",
    "apt-key adv --keyserver keyserver.ubuntu.com --recv-keys $R_KEY && \\\n",
    "add-apt-repository \"deb https://cloud.r-project.org/bin/linux/ubuntu focal-cran40/\" && \\\n",
    "apt-get update && \\\n",
    "apt-get install -yt $R_DEB_BUILD_DEPS\n",
    "\n",
    "#install next packages for ubuntu user\n",
    "\n",
    "sudo -H --preserve-env -u $USER bash << EOF\n",
    "export PATH=/home/$USER/.local/bin:$PATH\n",
    "\n",
    "pip3 install --user jupyter jupyterlab==$JUPYTERLAB_VERSION\n",
    "\n",
    "jupyter notebook --generate-config && sed -i \"s/# c.NotebookApp.password = .*/c.NotebookApp.password = u'sha1:115e429a919f:21911277af52f3e7a8b59380804140d9ef3e2380'/\" /home/$USER/.jupyter/jupyter_notebook_config.py\n",
    "\n",
    "#install numpy and scipy using OpenBLAS installation\n",
    "\n",
    "pip3 install --user numpy --no-binary numpy\n",
    "pip3 install --user scipy --no-binary scipy\n",
    "\n",
    "pip3 install --user $PIP_PACKAGES\n",
    "\n",
    "#c kernel in jupyter\n",
    "\n",
    "pip3 install --user git+https://github.com/brendan-rius/jupyter-c-kernel.git && python3 /home/$USER/.local/lib/python3.8/site-packages/jupyter_c_kernel/install_c_kernel --prefix=/home/$USER/.local/\n",
    "\n",
    "#r kernel in jupyter\n",
    "sudo chmod gou+wrx $R_SITE_LIBRARY\n",
    "R -e 'install.packages(strsplit($R_PACKAGES, \" \")[[1]], lib=\"/usr/local/lib/R/site-library/\")' && \\\n",
    "R -e 'devtools::install_github(\"IRkernel/IRkernel\")' && \\\n",
    "R -e 'IRkernel::installspec()' #or:R -e 'IRkernel::installspec(user=FALSE)'\n",
    "\n",
    "#julia kernel in jupyter\n",
    "\n",
    "sudo mkdir /usr/local/julia-1.6.0\n",
    "cd\n",
    "wget https://julialang-s3.julialang.org/bin/linux/x64/1.6/julia-1.6.0-linux-x86_64.tar.gz\n",
    "tar zxvf julia-1.6.0-linux-x86_64.tar.gz\n",
    "\n",
    "sudo cp -r julia-1.6.0/* /usr/local/julia-1.6.0/ \n",
    "\n",
    "/usr/local/julia-1.6.0/bin/julia -e 'using Pkg;Pkg.add(\"IJulia\")' && \\\n",
    "/usr/local/julia-1.6.0/bin/julia -e 'using Pkg;Pkg.add(Pkg.PackageSpec(name=\"JuMP\", rev=\"master\"))' && \\\n",
    "/usr/local/julia-1.6.0/bin/julia -e 'using Pkg;Pkg.add(\"ECOS\");Pkg.add(\"OSQP\");Pkg.add(\"SCS\");Pkg.add(\"GLPK\");Pkg.add(\"Optim\")'\n",
    "\n",
    "#launch jupyter lab\n",
    "\n",
    "/home/$USER/.local/bin/jupyter lab --ip=0.0.0.0 --no-browser --config=/home/$USER/.jupyter/jupyter_notebook_config.py &\n",
    "\n",
    "EOF\n",
    "\n",
    "```"
   ]
  },
  {
   "cell_type": "markdown",
   "metadata": {},
   "source": [
    "Y la máquina `m5.2xlarge` tiene las siguientes características:"
   ]
  },
  {
   "cell_type": "markdown",
   "metadata": {},
   "source": [
    "```python\n",
    "%%bash\n",
    "lscpu\n",
    "```"
   ]
  },
  {
   "cell_type": "markdown",
   "metadata": {},
   "source": [
    "## Perfilamiento: medición de tiempo en *Python*"
   ]
  },
  {
   "cell_type": "markdown",
   "metadata": {},
   "source": [
    "### Módulo: [time](https://docs.python.org/3/library/time.html#time.time)"
   ]
  },
  {
   "cell_type": "markdown",
   "metadata": {},
   "source": [
    "Imports y funciones de apoyo:"
   ]
  },
  {
   "cell_type": "code",
   "execution_count": 2,
   "metadata": {},
   "outputs": [],
   "source": [
    "import math\n",
    "import time\n",
    "\n",
    "import numpy as np\n",
    "from pytest import approx\n",
    "from scipy.integrate import quad\n"
   ]
  },
  {
   "cell_type": "code",
   "execution_count": 3,
   "metadata": {},
   "outputs": [],
   "source": [
    "def Rcf(f,a,b,n):\n",
    "    \"\"\"\n",
    "    Compute numerical approximation using rectangle or mid-point\n",
    "    method in an interval.\n",
    "    Nodes are generated via formula: x_i = a+(i+1/2)h_hat for\n",
    "    i=0,1,...,n-1 and h_hat=(b-a)/n\n",
    "    Args:\n",
    "    \n",
    "        f (function): function expression of integrand.\n",
    "        \n",
    "        a (float): left point of interval.\n",
    "        \n",
    "        b (float): right point of interval.\n",
    "        \n",
    "        n (float): number of subintervals.\n",
    "        \n",
    "    Returns:\n",
    "    \n",
    "        sum_res (float): numerical approximation to integral\n",
    "            of f in the interval a,b\n",
    "    \"\"\"\n",
    "    h_hat=(b-a)/n\n",
    "    nodes=[a+(i+1/2)*h_hat for i in range(0,n)]\n",
    "    sum_res=0\n",
    "    for node in nodes:\n",
    "        sum_res=sum_res+f(node)\n",
    "    return h_hat*sum_res\n"
   ]
  },
  {
   "cell_type": "markdown",
   "metadata": {},
   "source": [
    "Objetivo:"
   ]
  },
  {
   "cell_type": "code",
   "execution_count": 4,
   "metadata": {},
   "outputs": [
    {
     "name": "stdout",
     "output_type": "stream",
     "text": [
      "0.7468241328124271\n"
     ]
    }
   ],
   "source": [
    "f=lambda x: math.exp(-x**2) #using math library\n",
    "a=0\n",
    "b=1\n",
    "obj, err = quad(f, a, b)\n",
    "print(obj)"
   ]
  },
  {
   "cell_type": "markdown",
   "metadata": {},
   "source": [
    "Medición de tiempo:"
   ]
  },
  {
   "cell_type": "code",
   "execution_count": 5,
   "metadata": {},
   "outputs": [
    {
     "name": "stdout",
     "output_type": "stream",
     "text": [
      "Rcf tomó 4.506111145019531e-05 segundos\n"
     ]
    }
   ],
   "source": [
    "n=10**2\n",
    "start_time = time.time()\n",
    "res=Rcf(f,a,b,n)\n",
    "end_time = time.time()\n",
    "secs = end_time-start_time\n",
    "print(\"Rcf tomó\",secs,\"segundos\" )"
   ]
  },
  {
   "cell_type": "markdown",
   "metadata": {},
   "source": [
    "Prueba que se resuelve correctamente el problema:"
   ]
  },
  {
   "cell_type": "code",
   "execution_count": 6,
   "metadata": {},
   "outputs": [
    {
     "name": "stdout",
     "output_type": "stream",
     "text": [
      "False\n"
     ]
    }
   ],
   "source": [
    "print(res == approx(obj))\n"
   ]
  },
  {
   "cell_type": "code",
   "execution_count": 8,
   "metadata": {},
   "outputs": [
    {
     "name": "stdout",
     "output_type": "stream",
     "text": [
      "hello world\n"
     ]
    }
   ],
   "source": [
    "print(\"hello world\")"
   ]
  },
  {
   "cell_type": "markdown",
   "metadata": {},
   "source": [
    "### Comando de *magic*: [%time](https://ipython.readthedocs.io/en/stable/interactive/magics.html#magic-time)"
   ]
  },
  {
   "cell_type": "markdown",
   "metadata": {},
   "source": [
    "```{margin}\n",
    "\n",
    "Los comandos de *magic* los podemos utilizar en los *jupyter notebooks* pero también con *import*'s.\n",
    "\n",
    "```"
   ]
  },
  {
   "cell_type": "markdown",
   "metadata": {},
   "source": [
    "Nos regresa las mediciones siguientes:\n",
    "\n",
    "* `CPU times` que contiene:\n",
    "\n",
    "    * `user`: mide la cantidad de tiempo de los *statements* que la CPU gastó para funciones que no están relacionadas con el *kernel* del sistema.\n",
    "    \n",
    "    * `sys`: mide la cantidad de tiempo de los *statements* que la CPU gastó en funciones a nivel de kernel del sistema.\n",
    "    \n",
    "    * `total`: suma entre el `user` y `sys` para todos **todos los *cores***. \n",
    "    \n",
    "* `Wall time`: mide el *wall clock* o *elapsed time* que se refiere al tiempo desde que inicia la ejecución de los *statements* hasta su finalización.\n",
    "\n",
    "* `Out`: resultado.\n",
    "\n"
   ]
  },
  {
   "cell_type": "markdown",
   "metadata": {},
   "source": [
    "```{admonition} Comentarios\n",
    "\n",
    "* Para mediciones de tiempos que involucran cómputo en paralelo es posible que `total` exceda a `Wall time` pues es la suma de tiempos para todos los *cores*.\n",
    "\n",
    "* Recuérdese que algunos ejemplos de funciones relacionadas con el *kernel* del sistema es el alojamiento, lectura y escritura de variables en memoria, las relacionadas con el I/O de disco o *network*.\n",
    "\n",
    "* La diferencia entre `total` y `Wall time` da una idea de la cantidad de tiempo que se ocupó el sistema en la ejecución de *statements* que no involucran `user` ni a `sys` (por ejemplo un *statement* del tipo `sleep`) o en tareas no relacionadas con los *statements* medidos (por ejemplo si en el momento de la medición se estaban corriendo otros procesos).\n",
    "\n",
    "```"
   ]
  },
  {
   "cell_type": "markdown",
   "metadata": {},
   "source": [
    "Al medir tiempos de ejecución, **siempre** hay variación en la medición por lo que se recomienda realizar las mediciones un número repetido de veces. Para este caso el comando de *magic* `%timeit` nos ayuda. "
   ]
  },
  {
   "cell_type": "markdown",
   "metadata": {},
   "source": [
    "### Comando de *magic*: [%timeit](https://ipython.readthedocs.io/en/stable/interactive/magics.html#magic-timeit)"
   ]
  },
  {
   "cell_type": "markdown",
   "metadata": {},
   "source": [
    "A continuación se mide el tiempo de ejecución para la función `Rcf`. Se promedian los tiempos de $n=5$ ejecuciones y se calcula su desviación estándar. Se reptite lo anterior $r=10$ veces y se reporta el mejor resultado. "
   ]
  },
  {
   "cell_type": "markdown",
   "metadata": {},
   "source": [
    "```python\n",
    "%timeit -n 5 -r 10 Rcf(f,0,1,n)\n",
    "```"
   ]
  },
  {
   "cell_type": "markdown",
   "metadata": {},
   "source": [
    "```{admonition} Observación\n",
    ":class: tip\n",
    "\n",
    "$ms$ es milisecond, $\\mu s$ es microsecond y $ns$ es nanosecond.\n",
    "\n",
    "```"
   ]
  },
  {
   "cell_type": "markdown",
   "metadata": {},
   "source": [
    "```{admonition} Comentarios\n",
    "\n",
    "* `%timeit` se recomienda usar para secciones de código pequeñas. Si se observa una variación en las mediciones de tiempo entre distintas repeticiones entonces hay que realizar más repeticiones hasta tener un resultado estable.\n",
    "\n",
    "* `%timeit` desabilita temporalmente el *garbage collector* de *Python* (esto es, no habrá desalojamiento en memoria de objetos de Python que no se utilicen). Si el *garbage collector* es invocado en tus *statements*, esto puede ser una razón de posibles diferencias que se obtengan en las mediciones de tiempo.\n",
    "\n",
    "\n",
    "```"
   ]
  },
  {
   "cell_type": "markdown",
   "metadata": {},
   "source": [
    "## Perfilamiento: medición de uso de CPU en *Python*"
   ]
  },
  {
   "cell_type": "markdown",
   "metadata": {},
   "source": [
    "### [line_profiler](https://pypi.org/project/line-profiler/)"
   ]
  },
  {
   "cell_type": "markdown",
   "metadata": {},
   "source": [
    "### [CProfile](https://docs.python.org/2/library/profile.html) "
   ]
  },
  {
   "cell_type": "markdown",
   "metadata": {},
   "source": [
    "*CProfile* es `built-in` en la *standard-library* de Python."
   ]
  },
  {
   "cell_type": "markdown",
   "metadata": {},
   "source": [
    "## Perfilamiento: medición de uso de memoria en *Python*"
   ]
  },
  {
   "cell_type": "markdown",
   "metadata": {},
   "source": [
    "### [memory_profiler](https://pypi.org/project/memory-profiler/)"
   ]
  },
  {
   "cell_type": "code",
   "execution_count": null,
   "metadata": {},
   "outputs": [],
   "source": []
  },
  {
   "cell_type": "markdown",
   "metadata": {},
   "source": [
    "### [heapy](https://pypi.org/project/guppy/)"
   ]
  },
  {
   "cell_type": "code",
   "execution_count": null,
   "metadata": {},
   "outputs": [],
   "source": []
  },
  {
   "cell_type": "markdown",
   "metadata": {},
   "source": [
    "## BLAS"
   ]
  },
  {
   "cell_type": "code",
   "execution_count": null,
   "metadata": {},
   "outputs": [],
   "source": []
  },
  {
   "cell_type": "markdown",
   "metadata": {},
   "source": [
    "### OpenBLAS y *NumPy*"
   ]
  },
  {
   "cell_type": "code",
   "execution_count": null,
   "metadata": {},
   "outputs": [],
   "source": []
  },
  {
   "cell_type": "markdown",
   "metadata": {},
   "source": [
    "### OpenBLAS y librerías de cómputo matricial de *R*"
   ]
  },
  {
   "cell_type": "markdown",
   "metadata": {},
   "source": [
    "## Perfilamiento: medición de tiempo en el sistema operativo GNU/Linux"
   ]
  },
  {
   "cell_type": "markdown",
   "metadata": {},
   "source": [
    "### [/usr/bin/time](https://en.wikipedia.org/wiki/Time_(Unix))\n"
   ]
  },
  {
   "cell_type": "markdown",
   "metadata": {},
   "source": [
    "## Perfilamiento: medición de uso de CPU en el sistema operativo GNU/Linux"
   ]
  },
  {
   "cell_type": "markdown",
   "metadata": {},
   "source": [
    "### [perf](https://github.com/torvalds/linux/tree/master/tools/perf)"
   ]
  },
  {
   "cell_type": "markdown",
   "metadata": {},
   "source": [
    "```{admonition} Ejercicios\n",
    ":class: tip\n",
    "\n",
    "1.Resuelve los ejercicios y preguntas de la nota.\n",
    "```\n"
   ]
  },
  {
   "cell_type": "markdown",
   "metadata": {},
   "source": [
    "**Referencias:**\n",
    "\n",
    "1. M. Gorelick, I. Ozsvald, High Performance Python, O'Reilly Media, 2014.\n",
    "\n",
    "2. E. Anderson, Z. Bai, C. Bischof, L. S. Blackford, J. Demmel, J. Dongarra, J. Du Croz,\n",
    "A. Greenbaum, S. Hammarling, A. Mckenney and D. Sorensen, LAPACK Users Guide, Society for Industrial and Applied Mathematics, Philadelphia, PA, third ed., 1999.\n",
    "\n"
   ]
  }
 ],
 "metadata": {
  "kernelspec": {
   "display_name": "Python 3",
   "language": "python",
   "name": "python3"
  },
  "language_info": {
   "codemirror_mode": {
    "name": "ipython",
    "version": 3
   },
   "file_extension": ".py",
   "mimetype": "text/x-python",
   "name": "python",
   "nbconvert_exporter": "python",
   "pygments_lexer": "ipython3",
   "version": "3.7.3"
  }
 },
 "nbformat": 4,
 "nbformat_minor": 4
}
