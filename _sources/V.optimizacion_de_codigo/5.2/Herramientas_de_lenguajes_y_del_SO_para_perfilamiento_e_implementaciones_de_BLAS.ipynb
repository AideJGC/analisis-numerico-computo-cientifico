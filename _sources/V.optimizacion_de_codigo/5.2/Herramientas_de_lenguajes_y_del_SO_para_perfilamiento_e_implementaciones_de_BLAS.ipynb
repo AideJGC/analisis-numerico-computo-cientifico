{
 "cells": [
  {
   "cell_type": "markdown",
   "metadata": {},
   "source": [
    "(PERFBLAS)="
   ]
  },
  {
   "cell_type": "markdown",
   "metadata": {},
   "source": [
    "# 5.2 Herramientas de lenguajes de programación y del sistema operativo para perfilamiento e implementaciones de BLAS"
   ]
  },
  {
   "cell_type": "markdown",
   "metadata": {},
   "source": [
    "```{admonition} Notas para contenedor de docker:\n",
    "\n",
    "Comando de docker para ejecución de la nota de forma local:\n",
    "\n",
    "nota: cambiar `<ruta a mi directorio>` por la ruta de directorio que se desea mapear a `/datos` dentro del contenedor de docker.\n",
    "\n",
    "`docker run --rm -v <ruta a mi directorio>:/datos --name jupyterlab_optimizacion_2 -p 8888:8888 -p 8787:8787 -d palmoreck/jupyterlab_optimizacion_2:3.0.0`\n",
    "\n",
    "password para jupyterlab: `qwerty`\n",
    "\n",
    "Detener el contenedor de docker:\n",
    "\n",
    "`docker stop jupyterlab_optimizacion_2`\n",
    "\n",
    "Documentación de la imagen de docker `palmoreck/jupyterlab_optimizacion_2:3.0.0` en [liga](https://github.com/palmoreck/dockerfiles/tree/master/jupyterlab/optimizacion_2).\n",
    "\n",
    "```"
   ]
  },
  {
   "cell_type": "markdown",
   "metadata": {},
   "source": [
    "---"
   ]
  },
  {
   "cell_type": "markdown",
   "metadata": {},
   "source": [
    "```{admonition} Al final de esta nota el y la lectora:\n",
    ":class: tip\n",
    "\n",
    "* \n",
    "\n",
    "```"
   ]
  },
  {
   "cell_type": "markdown",
   "metadata": {},
   "source": [
    "En esta nota revisamos algunas herramientas de los lenguajes de programación y de los sistemas GNU/Linux para perfilamiento de código. También se revisan implementaciones de la especificación de *Basic Linear Algebra Subprograms* (BLAS) en sus diferentes niveles con ejemplos de paquetes en los lenguajes."
   ]
  },
  {
   "cell_type": "markdown",
   "metadata": {},
   "source": [
    "```{margin}\n",
    "\n",
    "Utilizamos la máquina `m4.16xlarge` pues en AWS no todas las instancias se pueden obtener algunas métricas con `perf`. Ver [stackoverflow1](https://stackoverflow.com/questions/45683901/event-cache-misses-not-supported-by-perf-in-aws), [stackoverflow2](https://stackoverflow.com/questions/19763070/ubuntu-12-10-perf-stat-not-supported-cycles), [the-pmcs-of-ec2](http://www.brendangregg.com/blog/2017-05-04/the-pmcs-of-ec2.html)\n",
    "\n",
    "```"
   ]
  },
  {
   "cell_type": "markdown",
   "metadata": {},
   "source": [
    "Se presentan códigos y sus ejecuciones en una máquina `m4.16xlarge` de la nube de [AWS](https://aws.amazon.com/). Se utilizó la AMI `opt2-aws-educate-openblas-04-04-2021` de la región `us-east-1` (Virginia) para reproducibilidad de resultados. Tal AMI se construyó a partir de una AMI `ubuntu 20.04 - ami-042e8287309f5df03` con el [script_profiling_and_BLAS.sh](https://github.com/palmoreck/scripts_for_useful_tools_installations/blob/main/AWS/ubuntu_20.04/optimizacion_2/script_profiling_and_BLAS.sh)"
   ]
  },
  {
   "cell_type": "markdown",
   "metadata": {},
   "source": [
    "````{admonition} Comentario\n",
    "\n",
    "Si se utiliza la *AMI* `opt2-aws-educate-openblas-04-04-2021` colocar en `User data` el siguiente *script*:\n",
    "\n",
    "```bash\n",
    "\n",
    "#!/bin/bash\n",
    "##variables:\n",
    "region=us-east-1 #make sure instance is in Virginia\n",
    "name_instance=OpenBLAS\n",
    "USER=ubuntu\n",
    "##System update\n",
    "apt-get update -yq\n",
    "##Tag instance\n",
    "INSTANCE_ID=$(curl -s http://instance-data/latest/meta-data/instance-id)\n",
    "PUBLIC_IP=$(curl -s http://instance-data/latest/meta-data/public-ipv4)\n",
    "sudo -H -u $USER bash -c \"/home/$USER/.local/bin/aws ec2 create-tags --resources $INSTANCE_ID --tag Key=Name,Value=$name_instance-$PUBLIC_IP --region=$region\"\n",
    "sudo -H -u $USER bash -c \"cd / && /home/$USER/.local/bin/jupyter lab --ip=0.0.0.0 --no-browser --config=/home/$USER/.jupyter/jupyter_notebook_config.py &\"\n",
    "\n",
    "```\n",
    "\n",
    "````"
   ]
  },
  {
   "cell_type": "markdown",
   "metadata": {},
   "source": [
    "La máquina `m4.16xlarge` tiene las siguientes características:"
   ]
  },
  {
   "cell_type": "code",
   "execution_count": 1,
   "metadata": {},
   "outputs": [
    {
     "name": "stdout",
     "output_type": "stream",
     "text": [
      "Architecture:                    x86_64\n",
      "CPU op-mode(s):                  32-bit, 64-bit\n",
      "Byte Order:                      Little Endian\n",
      "Address sizes:                   46 bits physical, 48 bits virtual\n",
      "CPU(s):                          64\n",
      "On-line CPU(s) list:             0-63\n",
      "Thread(s) per core:              2\n",
      "Core(s) per socket:              16\n",
      "Socket(s):                       2\n",
      "NUMA node(s):                    2\n",
      "Vendor ID:                       GenuineIntel\n",
      "CPU family:                      6\n",
      "Model:                           79\n",
      "Model name:                      Intel(R) Xeon(R) CPU E5-2686 v4 @ 2.30GHz\n",
      "Stepping:                        1\n",
      "CPU MHz:                         2709.718\n",
      "CPU max MHz:                     3000.0000\n",
      "CPU min MHz:                     1200.0000\n",
      "BogoMIPS:                        4600.02\n",
      "Hypervisor vendor:               Xen\n",
      "Virtualization type:             full\n",
      "L1d cache:                       1 MiB\n",
      "L1i cache:                       1 MiB\n",
      "L2 cache:                        8 MiB\n",
      "L3 cache:                        90 MiB\n",
      "NUMA node0 CPU(s):               0-15,32-47\n",
      "NUMA node1 CPU(s):               16-31,48-63\n",
      "Vulnerability Itlb multihit:     KVM: Vulnerable\n",
      "Vulnerability L1tf:              Mitigation; PTE Inversion\n",
      "Vulnerability Mds:               Vulnerable: Clear CPU buffers attempted, no microcode; SMT Host state unknown\n",
      "Vulnerability Meltdown:          Mitigation; PTI\n",
      "Vulnerability Spec store bypass: Vulnerable\n",
      "Vulnerability Spectre v1:        Mitigation; usercopy/swapgs barriers and __user pointer sanitization\n",
      "Vulnerability Spectre v2:        Mitigation; Full generic retpoline, STIBP disabled, RSB filling\n",
      "Vulnerability Srbds:             Not affected\n",
      "Vulnerability Tsx async abort:   Vulnerable: Clear CPU buffers attempted, no microcode; SMT Host state unknown\n",
      "Flags:                           fpu vme de pse tsc msr pae mce cx8 apic sep mtrr pge mca cmov pat pse36 clflush mmx fxsr sse sse2 ht syscall nx pdpe1gb rdtscp lm constant_tsc arch_perfmon rep_good nopl xtopology nonstop_tsc cpuid aperfmperf pni pclmulqdq monitor est ssse3 fma cx16 pcid sse4_1 sse4_2 x2apic movbe popcnt tsc_deadline_timer aes xsave avx f16c rdrand hypervisor lahf_lm abm cpuid_fault invpcid_single pti fsgsbase bmi1 hle avx2 smep bmi2 erms invpcid rtm xsaveopt ida\n"
     ]
    }
   ],
   "source": [
    "%%bash\n",
    "lscpu"
   ]
  },
  {
   "cell_type": "code",
   "execution_count": 2,
   "metadata": {},
   "outputs": [
    {
     "name": "stdout",
     "output_type": "stream",
     "text": [
      "  *-firmware\n",
      "       description: BIOS\n",
      "       vendor: Xen\n",
      "       physical id: 0\n",
      "       version: 4.11.amazon\n",
      "       date: 08/24/2006\n",
      "       size: 96KiB\n",
      "       capabilities: pci edd\n",
      "  *-memory\n",
      "       description: System Memory\n",
      "       physical id: 1000\n",
      "       size: 256GiB\n",
      "       capabilities: ecc\n",
      "       configuration: errordetection=multi-bit-ecc\n",
      "     *-bank:0\n",
      "          description: DIMM RAM\n",
      "          physical id: 0\n",
      "          slot: DIMM 0\n",
      "          size: 16GiB\n",
      "          width: 64 bits\n",
      "     *-bank:1\n",
      "          description: DIMM RAM\n",
      "          physical id: 1\n",
      "          slot: DIMM 1\n",
      "          size: 16GiB\n",
      "          width: 64 bits\n",
      "     *-bank:2\n",
      "          description: DIMM RAM\n",
      "          physical id: 2\n",
      "          slot: DIMM 2\n",
      "          size: 16GiB\n",
      "          width: 64 bits\n",
      "     *-bank:3\n",
      "          description: DIMM RAM\n",
      "          physical id: 3\n",
      "          slot: DIMM 3\n",
      "          size: 16GiB\n",
      "          width: 64 bits\n",
      "     *-bank:4\n",
      "          description: DIMM RAM\n",
      "          physical id: 4\n",
      "          slot: DIMM 4\n",
      "          size: 16GiB\n",
      "          width: 64 bits\n",
      "     *-bank:5\n",
      "          description: DIMM RAM\n",
      "          physical id: 5\n",
      "          slot: DIMM 5\n",
      "          size: 16GiB\n",
      "          width: 64 bits\n",
      "     *-bank:6\n",
      "          description: DIMM RAM\n",
      "          physical id: 6\n",
      "          slot: DIMM 6\n",
      "          size: 16GiB\n",
      "          width: 64 bits\n",
      "     *-bank:7\n",
      "          description: DIMM RAM\n",
      "          physical id: 7\n",
      "          slot: DIMM 7\n",
      "          size: 16GiB\n",
      "          width: 64 bits\n",
      "     *-bank:8\n",
      "          description: DIMM RAM\n",
      "          physical id: 8\n",
      "          slot: DIMM 8\n",
      "          size: 16GiB\n",
      "          width: 64 bits\n",
      "     *-bank:9\n",
      "          description: DIMM RAM\n",
      "          physical id: 9\n",
      "          slot: DIMM 9\n",
      "          size: 16GiB\n",
      "          width: 64 bits\n",
      "     *-bank:10\n",
      "          description: DIMM RAM\n",
      "          physical id: a\n",
      "          slot: DIMM 10\n",
      "          size: 16GiB\n",
      "          width: 64 bits\n",
      "     *-bank:11\n",
      "          description: DIMM RAM\n",
      "          physical id: b\n",
      "          slot: DIMM 11\n",
      "          size: 16GiB\n",
      "          width: 64 bits\n",
      "     *-bank:12\n",
      "          description: DIMM RAM\n",
      "          physical id: c\n",
      "          slot: DIMM 12\n",
      "          size: 16GiB\n",
      "          width: 64 bits\n",
      "     *-bank:13\n",
      "          description: DIMM RAM\n",
      "          physical id: d\n",
      "          slot: DIMM 13\n",
      "          size: 16GiB\n",
      "          width: 64 bits\n",
      "     *-bank:14\n",
      "          description: DIMM RAM\n",
      "          physical id: e\n",
      "          slot: DIMM 14\n",
      "          size: 16GiB\n",
      "          width: 64 bits\n",
      "     *-bank:15\n",
      "          description: DIMM RAM\n",
      "          physical id: f\n",
      "          slot: DIMM 15\n",
      "          size: 16GiB\n",
      "          width: 64 bits\n"
     ]
    }
   ],
   "source": [
    "%%bash\n",
    "sudo lshw -C memory"
   ]
  },
  {
   "cell_type": "markdown",
   "metadata": {},
   "source": [
    "```{admonition} Observación\n",
    ":class: tip\n",
    "\n",
    "En la celda anterior se utilizó el comando de *magic* `%%bash`. Algunos comandos de *magic* los podemos utilizar también con *import*'s. Ver [ipython-magics](https://ipython.readthedocs.io/en/stable/interactive/magics.html#)\n",
    "\n",
    "```"
   ]
  },
  {
   "cell_type": "markdown",
   "metadata": {},
   "source": [
    "## Perfilamiento: medición de tiempo en *Python*"
   ]
  },
  {
   "cell_type": "markdown",
   "metadata": {},
   "source": [
    "### Módulo: [time](https://docs.python.org/3/library/time.html#time.time)"
   ]
  },
  {
   "cell_type": "markdown",
   "metadata": {},
   "source": [
    "Imports y funciones de apoyo:"
   ]
  },
  {
   "cell_type": "code",
   "execution_count": 1,
   "metadata": {},
   "outputs": [],
   "source": [
    "import math\n",
    "import time\n",
    "\n",
    "import numpy as np\n",
    "from pytest import approx\n",
    "from scipy.integrate import quad"
   ]
  },
  {
   "cell_type": "code",
   "execution_count": 4,
   "metadata": {},
   "outputs": [],
   "source": [
    "def Rcf(f,a,b,n):\n",
    "    \"\"\"\n",
    "    Compute numerical approximation using rectangle or mid-point\n",
    "    method in an interval.\n",
    "    Nodes are generated via formula: x_i = a+(i+1/2)h_hat for\n",
    "    i=0,1,...,n-1 and h_hat=(b-a)/n\n",
    "    Args:\n",
    "    \n",
    "        f (function): function expression of integrand.\n",
    "        \n",
    "        a (float): left point of interval.\n",
    "        \n",
    "        b (float): right point of interval.\n",
    "        \n",
    "        n (float): number of subintervals.\n",
    "        \n",
    "    Returns:\n",
    "    \n",
    "        sum_res (float): numerical approximation to integral\n",
    "            of f in the interval a,b\n",
    "    \"\"\"\n",
    "    h_hat=(b-a)/n\n",
    "    nodes=[a+(i+1/2)*h_hat for i in range(0,n)]\n",
    "    sum_res=0\n",
    "    for node in nodes:\n",
    "        sum_res=sum_res+f(node)\n",
    "    return h_hat*sum_res\n"
   ]
  },
  {
   "cell_type": "markdown",
   "metadata": {},
   "source": [
    "Objetivo:"
   ]
  },
  {
   "cell_type": "code",
   "execution_count": 5,
   "metadata": {},
   "outputs": [
    {
     "name": "stdout",
     "output_type": "stream",
     "text": [
      "0.7468241328124271\n"
     ]
    }
   ],
   "source": [
    "f=lambda x: math.exp(-x**2) #using math library\n",
    "a=0\n",
    "b=1\n",
    "obj, err = quad(f, a, b)\n",
    "print(obj)"
   ]
  },
  {
   "cell_type": "markdown",
   "metadata": {},
   "source": [
    "Medición de tiempo:"
   ]
  },
  {
   "cell_type": "code",
   "execution_count": 6,
   "metadata": {},
   "outputs": [
    {
     "name": "stdout",
     "output_type": "stream",
     "text": [
      "Rcf tomó 0.44214773178100586 segundos\n"
     ]
    }
   ],
   "source": [
    "n=10**6\n",
    "start_time = time.time()\n",
    "res=Rcf(f,a,b,n)\n",
    "end_time = time.time()\n",
    "secs = end_time-start_time\n",
    "print(\"Rcf tomó\",secs,\"segundos\" )"
   ]
  },
  {
   "cell_type": "markdown",
   "metadata": {},
   "source": [
    "Prueba que se resuelve correctamente el problema:"
   ]
  },
  {
   "cell_type": "code",
   "execution_count": 7,
   "metadata": {},
   "outputs": [
    {
     "name": "stdout",
     "output_type": "stream",
     "text": [
      "True\n"
     ]
    }
   ],
   "source": [
    "print(res == approx(obj))"
   ]
  },
  {
   "cell_type": "markdown",
   "metadata": {},
   "source": [
    "### Comando de *magic*: [%time](https://ipython.readthedocs.io/en/stable/interactive/magics.html#magic-time)"
   ]
  },
  {
   "cell_type": "markdown",
   "metadata": {},
   "source": [
    "Nos regresa las mediciones siguientes:\n",
    "\n",
    "* `CPU times` que contiene:\n",
    "\n",
    "    * `user`: mide la cantidad de tiempo de los *statements* que la CPU gastó para funciones que no están relacionadas con el *kernel* del sistema.\n",
    "    \n",
    "    * `sys`: mide la cantidad de tiempo de los *statements* que la CPU gastó en funciones a nivel de kernel del sistema.\n",
    "    \n",
    "    * `total`: suma entre el `user` y `sys` para todos **todos los *cores***. \n",
    "    \n",
    "* `Wall time`: mide el *wall clock* o *elapsed time* que se refiere al tiempo desde que inicia la ejecución de los *statements* hasta su finalización.\n",
    "\n",
    "* `Out`: resultado.\n",
    "\n"
   ]
  },
  {
   "cell_type": "code",
   "execution_count": 8,
   "metadata": {},
   "outputs": [
    {
     "name": "stdout",
     "output_type": "stream",
     "text": [
      "CPU times: user 365 ms, sys: 22.9 ms, total: 388 ms\n",
      "Wall time: 386 ms\n"
     ]
    },
    {
     "data": {
      "text/plain": [
       "0.7468241328124773"
      ]
     },
     "execution_count": 8,
     "metadata": {},
     "output_type": "execute_result"
    }
   ],
   "source": [
    "%time Rcf(f,a, b,n)"
   ]
  },
  {
   "cell_type": "markdown",
   "metadata": {},
   "source": [
    "```{admonition} Comentarios\n",
    "\n",
    "* Para mediciones de tiempos que involucran cómputo en paralelo es posible que `total` exceda a `Wall time` por una diferencia notable pues es la suma de tiempos para todos los *cores*.\n",
    "\n",
    "* Recuérdese que algunos ejemplos de funciones relacionadas con el *kernel* del sistema es el alojamiento, lectura y escritura de variables en memoria, las relacionadas con el I/O de disco o *network*.\n",
    "\n",
    "* La diferencia entre `total` y `Wall time` da una idea de la cantidad de tiempo que se ocupó el sistema en la ejecución de *statements* que no involucran `user` ni a `sys` (por ejemplo un *statement* del tipo `sleep`) o en tareas no relacionadas con los *statements* medidos (por ejemplo si en el momento de la medición se estaban corriendo otros procesos).\n",
    "\n",
    "```"
   ]
  },
  {
   "cell_type": "markdown",
   "metadata": {},
   "source": [
    "Al medir tiempos de ejecución, **siempre** hay variación en la medición por lo que se recomienda realizar las mediciones un número repetido de veces. Para este caso el comando de *magic* `%timeit` nos ayuda. "
   ]
  },
  {
   "cell_type": "markdown",
   "metadata": {},
   "source": [
    "### Comando de *magic*: [%timeit](https://ipython.readthedocs.io/en/stable/interactive/magics.html#magic-timeit)"
   ]
  },
  {
   "cell_type": "markdown",
   "metadata": {},
   "source": [
    "A continuación se mide el tiempo de ejecución para la función `Rcf`. Se promedian los tiempos de $n=5$ ejecuciones y se calcula su desviación estándar. Se reptite lo anterior $r=10$ veces y se reporta el mejor resultado. "
   ]
  },
  {
   "cell_type": "code",
   "execution_count": 9,
   "metadata": {},
   "outputs": [
    {
     "name": "stdout",
     "output_type": "stream",
     "text": [
      "369 ms ± 1.99 ms per loop (mean ± std. dev. of 10 runs, 5 loops each)\n"
     ]
    }
   ],
   "source": [
    "%timeit -n 5 -r 10 Rcf(f,a, b,n)"
   ]
  },
  {
   "cell_type": "markdown",
   "metadata": {},
   "source": [
    "```{admonition} Observación\n",
    ":class: tip\n",
    "\n",
    "$ms$ es milisecond, $\\mu s$ es microsecond y $ns$ es nanosecond.\n",
    "\n",
    "```"
   ]
  },
  {
   "cell_type": "markdown",
   "metadata": {},
   "source": [
    "```{admonition} Comentarios\n",
    "\n",
    "* `%timeit` se recomienda usar para secciones de código pequeñas. Si se observa una variación en las mediciones de tiempo entre distintas repeticiones entonces hay que realizar más repeticiones hasta tener un resultado estable.\n",
    "\n",
    "* `%timeit` desabilita temporalmente el *garbage collector* de *Python* (esto es, no habrá desalojamiento en memoria de objetos de Python que no se utilicen). Si el *garbage collector* es invocado en tus *statements*, esto puede ser una razón de posibles diferencias que se obtengan en las mediciones de tiempo.\n",
    "\n",
    "\n",
    "```"
   ]
  },
  {
   "cell_type": "markdown",
   "metadata": {},
   "source": [
    "## Perfilamiento: medición de uso de CPU en *Python*"
   ]
  },
  {
   "cell_type": "markdown",
   "metadata": {},
   "source": [
    "### [line_profiler](https://pypi.org/project/line-profiler/)"
   ]
  },
  {
   "cell_type": "markdown",
   "metadata": {},
   "source": [
    "### [CProfile](https://docs.python.org/2/library/profile.html) "
   ]
  },
  {
   "cell_type": "markdown",
   "metadata": {},
   "source": [
    "*CProfile* es `built-in` en la *standard-library* de Python."
   ]
  },
  {
   "cell_type": "markdown",
   "metadata": {},
   "source": [
    "## Perfilamiento: medición de uso de memoria en *Python*"
   ]
  },
  {
   "cell_type": "markdown",
   "metadata": {},
   "source": [
    "### [memory_profiler](https://pypi.org/project/memory-profiler/)"
   ]
  },
  {
   "cell_type": "code",
   "execution_count": null,
   "metadata": {},
   "outputs": [],
   "source": []
  },
  {
   "cell_type": "markdown",
   "metadata": {},
   "source": [
    "### [heapy](https://pypi.org/project/guppy/)"
   ]
  },
  {
   "cell_type": "code",
   "execution_count": null,
   "metadata": {},
   "outputs": [],
   "source": []
  },
  {
   "cell_type": "markdown",
   "metadata": {},
   "source": [
    "## *Basic Linear Algebra Subprograms* (BLAS)"
   ]
  },
  {
   "cell_type": "markdown",
   "metadata": {},
   "source": [
    "De acuerdo a la especificación BLAS, hay diferentes niveles dependiendo del número de datos y cantidad de operaciones a realizar que involucran tales datos."
   ]
  },
  {
   "cell_type": "markdown",
   "metadata": {},
   "source": [
    "### Operación del producto interno estándar o producto punto (nivel 1 de BLAS)"
   ]
  },
  {
   "cell_type": "markdown",
   "metadata": {},
   "source": [
    "Consideramos $x,y \\in \\mathbb{R}^n$. El producto punto entre $x$ y $y$ es $c = x^Ty = \\displaystyle \\sum_{i=1}^n x_iy_i$. "
   ]
  },
  {
   "cell_type": "markdown",
   "metadata": {},
   "source": [
    "### Ejemplo y algoritmo"
   ]
  },
  {
   "cell_type": "code",
   "execution_count": 1,
   "metadata": {},
   "outputs": [],
   "source": [
    "c=0\n",
    "n=5\n",
    "x=[-1]*n\n",
    "y=[1.5]*n\n",
    "\n",
    "for i in range(n):\n",
    "    c += x[i]*y[i]"
   ]
  },
  {
   "cell_type": "code",
   "execution_count": 2,
   "metadata": {},
   "outputs": [
    {
     "data": {
      "text/plain": [
       "-7.5"
      ]
     },
     "execution_count": 2,
     "metadata": {},
     "output_type": "execute_result"
    }
   ],
   "source": [
    "c"
   ]
  },
  {
   "cell_type": "markdown",
   "metadata": {},
   "source": [
    "````{admonition} Comentarios\n",
    "\n",
    "* El producto punto de dos $n$-vectores involucran $n$ multiplicaciones y $n$ sumas para un total de $2n$ operaciones o [floating point operations per second](https://en.wikipedia.org/wiki/FLOPS) (flops). Usamos la notación $\\mathcal{O}(\\cdot)$ para escribir que el producto punto es $\\mathcal{O}(n)$ y se lee \"de orden $n$ o proporcional a $n$\" para indicar que la **cantidad de trabajo** tiene un comportamiento **lineal** con la dimensión $n$. También tal cantidad de trabajo opera sobre una **cantidad lineal de datos**.\n",
    "\n",
    "\n",
    "* Los *flops* que realiza un algoritmo es una forma de cuantificar el volumen de trabajo asociado con un cálculo. Un *flop* es una operación de punto flotante: suma, multiplicación o división. Por ejemplo, en la línea:\n",
    "\n",
    "```python\n",
    "C[i][j] = C[i][j] + A[i][k]*B[k][j]\n",
    "```\n",
    "\n",
    "se realizan $2$ *flops*. Los flops sólo representan una componente para categorizar a los algoritmos de acuerdo al trabajo que realizan, otras componentes son la transferencia o movimientos de datos, *data movement/motion*, ejecución secuencial o en paralelo y el *data locality* y *data reuse* que realizan.\n",
    "\n",
    "\n",
    "* En LAPACK encontramos [sdot](http://www.netlib.org/lapack/explore-html/d0/d16/sdot_8f.html), [ddot](http://www.netlib.org/lapack/explore-html/d5/df6/ddot_8f.html), [cdotu](http://www.netlib.org/lapack/explore-html/d7/d7b/cdotu_8f.html) y [zdotu](http://www.netlib.org/lapack/explore-html/db/d2d/zdotu_8f.html) para descripción de las funciones/subrutinas escritas en [Fortran](https://en.wikipedia.org/wiki/Fortran) del producto punto en los casos de precisión simple, doble o números complejos respectivamente.\n",
    "\n",
    "````"
   ]
  },
  {
   "cell_type": "markdown",
   "metadata": {},
   "source": [
    "### Operación **saxpy** (nivel 1 de BLAS)"
   ]
  },
  {
   "cell_type": "markdown",
   "metadata": {},
   "source": [
    "Consideramos $\\alpha \\in \\mathbb{R}, x,y \\in \\mathbb{R}^n$. El nombre lo recibe por *scalar alpha x plus y*. En LAPACK [saxpy](http://www.netlib.org/lapack/explore-html/d8/daf/saxpy_8f.html) se escribe en forma *update*:\n",
    "\n",
    "$$y=\\alpha x + y \\therefore y_i = \\alpha x_i + y_i \\forall i=1,...,n$$"
   ]
  },
  {
   "cell_type": "markdown",
   "metadata": {},
   "source": [
    "```{admonition} Comentarios\n",
    "\n",
    "* El símbolo \"=\" no se utiliza como igualdad de expresiones sino para denotar asignación (como en computación al escribir un algoritmo).\n",
    "\n",
    "* También encontramos en LAPACK [caxpy](http://www.netlib.org/lapack/explore-html/de/da2/caxpy_8f.html) o [daxpy](http://www.netlib.org/lapack/explore-html/d9/dcd/daxpy_8f.html) para el caso complejo y para números en doble precisión respectivamente.\n",
    "\n",
    "* Ésta operación realiza un trabajo de $\\mathcal{O}(n)$ sobre una cantidad de datos $\\mathcal{O}(n)$.\n",
    "\n",
    "```"
   ]
  },
  {
   "cell_type": "markdown",
   "metadata": {},
   "source": [
    "### Ejemplo y algoritmo"
   ]
  },
  {
   "cell_type": "code",
   "execution_count": 3,
   "metadata": {},
   "outputs": [],
   "source": [
    "alpha=2\n",
    "n=5\n",
    "x=[-2]*n\n",
    "y=[0]*n\n",
    "\n",
    "for i in range(n):\n",
    "    y[i] += alpha*x[i]"
   ]
  },
  {
   "cell_type": "code",
   "execution_count": 4,
   "metadata": {},
   "outputs": [
    {
     "name": "stdout",
     "output_type": "stream",
     "text": [
      "[-4, -4, -4, -4, -4]\n"
     ]
    }
   ],
   "source": [
    "print(y)"
   ]
  },
  {
   "cell_type": "markdown",
   "metadata": {},
   "source": [
    "o en una forma *update*:"
   ]
  },
  {
   "cell_type": "code",
   "execution_count": 5,
   "metadata": {},
   "outputs": [],
   "source": [
    "alpha=2\n",
    "n=5\n",
    "x=[-2]*n\n",
    "y=[3,4,-1,0,1]\n",
    "\n",
    "for i in range(n):\n",
    "    y[i] += alpha*x[i]"
   ]
  },
  {
   "cell_type": "code",
   "execution_count": 6,
   "metadata": {},
   "outputs": [
    {
     "name": "stdout",
     "output_type": "stream",
     "text": [
      "[-1, 0, -5, -4, -3]\n"
     ]
    }
   ],
   "source": [
    "print(y)"
   ]
  },
  {
   "cell_type": "markdown",
   "metadata": {},
   "source": [
    "```{admonition} Comentario\n",
    "\n",
    "La operación de producto punto y *saxpy* son algoritmos catalogados como de **nivel BLAS 1**, ver [BLAS: Basic Linear Algebra Subprograms](https://en.wikipedia.org/wiki/Basic_Linear_Algebra_Subprograms). Éstos algoritmos se caracterizan por involucrar una cantidad de trabajo lineal sobre una cantidad lineal de datos. Ver [level 1](http://www.netlib.org/blas/#_level_1) para más ejemplos de este tipo de algoritmos.\n",
    "\n",
    "```"
   ]
  },
  {
   "cell_type": "markdown",
   "metadata": {},
   "source": [
    "### Operación de multiplicación matriz-vector (nivel 2 de BLAS)"
   ]
  },
  {
   "cell_type": "markdown",
   "metadata": {},
   "source": [
    "Consideramos $A \\in \\mathbb{R}^{m \\times n}, x \\in \\mathbb{R}^n, y \\in \\mathbb{R}^m$. La operación $y = y + Ax$ es una operación *generalizada* saxpy, por ello se denomina **gaxpy** pero en LAPACK podemos encontrarla con nombres como [sgemv](http://www.netlib.org/lapack/explore-html/db/d58/sgemv_8f.html), [dgemv](http://www.netlib.org/lapack/explore-html/dc/da8/dgemv_8f.html), [cgemv](http://www.netlib.org/lapack/explore-html/d4/d8a/cgemv_8f.html) o [zgemv](http://www.netlib.org/lapack/explore-html/db/d40/zgemv_8f.html) para los casos de precisión simple, doble o números complejos respectivamente. Hay diferentes formas de visualizar y escribir el algoritmo de multiplicación matriz-vector. Por ejemplo para una matriz $A$ con entradas:\n"
   ]
  },
  {
   "cell_type": "code",
   "execution_count": 7,
   "metadata": {},
   "outputs": [],
   "source": [
    "m=2\n",
    "n=5\n",
    "A=[[1.2]*n if i%2==0 else [1]*n for i in range(m)]"
   ]
  },
  {
   "cell_type": "code",
   "execution_count": 8,
   "metadata": {},
   "outputs": [
    {
     "name": "stdout",
     "output_type": "stream",
     "text": [
      "[[1.2, 1.2, 1.2, 1.2, 1.2], [1, 1, 1, 1, 1]]\n"
     ]
    }
   ],
   "source": [
    "print(A)"
   ]
  },
  {
   "cell_type": "markdown",
   "metadata": {},
   "source": [
    "se tiene:"
   ]
  },
  {
   "cell_type": "markdown",
   "metadata": {},
   "source": [
    "### Ejemplo y algoritmo gaxpy *row oriented*"
   ]
  },
  {
   "cell_type": "code",
   "execution_count": 9,
   "metadata": {},
   "outputs": [],
   "source": [
    "x=[2]*n\n",
    "y=[0]*m\n",
    "for i in range(m):\n",
    "    for j in range(n):\n",
    "        y[i]+=A[i][j]*x[j]\n"
   ]
  },
  {
   "cell_type": "code",
   "execution_count": 10,
   "metadata": {},
   "outputs": [
    {
     "name": "stdout",
     "output_type": "stream",
     "text": [
      "[12.0, 10]\n"
     ]
    }
   ],
   "source": [
    "print(y)"
   ]
  },
  {
   "cell_type": "markdown",
   "metadata": {},
   "source": [
    "Si $y$ tiene valores distintos de $0$, se realiza un *update*:"
   ]
  },
  {
   "cell_type": "code",
   "execution_count": 11,
   "metadata": {},
   "outputs": [],
   "source": [
    "x=[2]*n\n",
    "y=[-1]*m\n",
    "for i in range(m):\n",
    "    for j in range(n):\n",
    "        y[i]+=A[i][j]*x[j]\n"
   ]
  },
  {
   "cell_type": "code",
   "execution_count": 12,
   "metadata": {},
   "outputs": [
    {
     "name": "stdout",
     "output_type": "stream",
     "text": [
      "[11.0, 9]\n"
     ]
    }
   ],
   "source": [
    "print(y)"
   ]
  },
  {
   "cell_type": "markdown",
   "metadata": {},
   "source": [
    "````{admonition} Comentarios\n",
    "\n",
    "* En la versión *row oriented* del algoritmo *gaxpy*, el **inner loop** realiza **productos punto** entre el $i$-ésimo renglón de $A$ y el vector $x$. Se realizan $m$ productos punto $A[i,:]^Tx$\n",
    "\n",
    "```python\n",
    "for i in range(m):\n",
    "    y[i]+=A[i,:]*x #producto punto\n",
    "    \n",
    "```\n",
    "\n",
    "donde: $A[i,:]$ es el $i$-ésimo renglón de $A$. Así podemos reescribir de forma más compacta este algoritmo.\n",
    "\n",
    "Sin embargo como hemos visto en Python con su implementación más común CPython, no es posible realizar tal indexado pues resulta en el error:\n",
    "\n",
    "```\n",
    "---------------------------------------------------------------------------\n",
    "TypeError                                 Traceback (most recent call last)\n",
    "<ipython-input-14-8ae2a3e9d101> in <module>\n",
    "      1 for i in range(m):\n",
    "----> 2     y[i]+=A[i,:]*x #producto punto\n",
    "      3 \n",
    "\n",
    "TypeError: list indices must be integers or slices, not tuple\n",
    "```\n",
    "\n",
    "a menos que incorporemos alguna paquetería que permita la **vectorización** y el uso de índices para extracción de columnas (o renglones) de $A$ como *NumPy*.\n",
    "\n",
    "````"
   ]
  },
  {
   "cell_type": "markdown",
   "metadata": {},
   "source": [
    "```{admonition} Observación\n",
    ":class: tip\n",
    "\n",
    "Obsérvese que el acceso a la matriz $A$ del algoritmo *gaxpy row oriented* es **por renglón**, de ahí el nombre.\n",
    "\n",
    "```"
   ]
  },
  {
   "cell_type": "markdown",
   "metadata": {},
   "source": [
    "También puede escribirse al algoritmo *gaxpy* en una forma orientada por columnas."
   ]
  },
  {
   "cell_type": "markdown",
   "metadata": {},
   "source": [
    "### Ejemplo y algoritmo gaxpy *column oriented*"
   ]
  },
  {
   "cell_type": "markdown",
   "metadata": {},
   "source": [
    "Este algoritmo ayuda a visualizar al producto matriz-vector como una combinación lineal de las columnas de $A$:\n",
    "\n",
    "$$Ax = \\displaystyle \\sum_{j=1}^n A_jx_j$$\n",
    "\n",
    "con $A_j$ la $j$-ésima columna de $A$.\n"
   ]
  },
  {
   "cell_type": "code",
   "execution_count": 17,
   "metadata": {},
   "outputs": [],
   "source": [
    "x=[2]*n\n",
    "y=[0]*m\n",
    "for j in range(n):\n",
    "    for i in range(m):\n",
    "        y[i]+=A[i][j]*x[j]"
   ]
  },
  {
   "cell_type": "code",
   "execution_count": 18,
   "metadata": {},
   "outputs": [
    {
     "name": "stdout",
     "output_type": "stream",
     "text": [
      "[12.0, 10]\n"
     ]
    }
   ],
   "source": [
    "print(y)"
   ]
  },
  {
   "cell_type": "markdown",
   "metadata": {},
   "source": [
    "````{admonition} Comentarios \n",
    "\n",
    "* El algoritmo de multiplicación matriz-vector (versión *row* o *column* oriented) involucra $\\mathcal{O}(mn)$ operaciones o una cantidad **cuadrática** de trabajo, que podemos entender como \"si duplicamos cada dimensión de $A$ entonces la cantidad de trabajo se incrementa por un factor de $4$\". Tal número de operaciones trabajan sobre una matriz o sobre una cantidad **cuadrática** de datos. A los algoritmos que realizan una cantidad cuadrática de trabajo sobre una cantidad cuadrática de datos se les cataloga de **nivel BLAS 2**. Ver [level 2](http://www.netlib.org/blas/#_level_2) para más ejemplos de algoritmos en el álgebra lineal en esta categoría.\n",
    "\n",
    "* En el algoritmo *gaxpy column oriented* el acceso a la matriz $A$ es por columna.\n",
    "\n",
    "* La versión *column oriented* se puede analizar desde el punto de vista puramente algorítmico como un intercambio entre las líneas con los índices $i$ y $j$ de cada *loop* y un acceso a los datos de la matriz por columna. O bien, se puede analizar desde el álgebra lineal indicando que el vector $y$ está en el espacio generado por las columnas de $A$ y cuyas coordenadas son dadas por las entradas del vector $x$:\n",
    "\n",
    "<img src=\"https://dl.dropboxusercontent.com/s/6a2b7rjs4a71sni/combinacion_lineal_columnas_A.png?dl=0\" heigth=\"700\" width=\"700\">\n",
    "\n",
    "* Obsérvese que el **inner loop** de la versión *column oriented* en *gaxpy* es un **saxpy** en la que el escalar está dado por una entrada de $x$. Esto lo podemos escribir de forma explícita definiendo $A[:,j]$ a la $j$-ésima columna de $A$ por lo que $A = [A[:,1] | A[:,2] | \\dots | A[:,n]]$, entonces:\n",
    "\n",
    "```python\n",
    "x=[2]*n\n",
    "y=[0]*m\n",
    "for j in range(n):\n",
    "    y+=A[:,j]*x[j]\n",
    "```\n",
    "\n",
    "Sin embargo como hemos visto en Python con su implementación más común CPython, no es posible realizar tal indexado pues resulta en el error:\n",
    "\n",
    "```python\n",
    "TypeError                                 Traceback (most recent call last)\n",
    "<ipython-input-17-93f449af9194> in <module>\n",
    "      2 y=[0]*m\n",
    "      3 for j in range(n):\n",
    "----> 4     y+=A[:,j]*x[j]\n",
    "\n",
    "TypeError: list indices must be integers or slices, not tuple\n",
    "\n",
    "```\n",
    "\n",
    "a menos que incorporemos alguna paquetería que permita la **vectorización** y el uso de índices para extracción de columnas (o renglones) de $A$ como *NumPy*.\n",
    "\n",
    "````"
   ]
  },
  {
   "cell_type": "code",
   "execution_count": 17,
   "metadata": {},
   "outputs": [],
   "source": [
    "x = 2*np.ones(n)\n",
    "y = np.zeros(m)"
   ]
  },
  {
   "cell_type": "code",
   "execution_count": 20,
   "metadata": {},
   "outputs": [
    {
     "name": "stdout",
     "output_type": "stream",
     "text": [
      "[2. 2. 2. 2. 2.]\n"
     ]
    }
   ],
   "source": [
    "print(x)"
   ]
  },
  {
   "cell_type": "code",
   "execution_count": 21,
   "metadata": {},
   "outputs": [
    {
     "name": "stdout",
     "output_type": "stream",
     "text": [
      "[0. 0.]\n"
     ]
    }
   ],
   "source": [
    "print(y)"
   ]
  },
  {
   "cell_type": "code",
   "execution_count": 22,
   "metadata": {},
   "outputs": [],
   "source": [
    "A=np.array([[1.2,1.2,1.2,1.2,1.2],[1,1,1,1,1]])"
   ]
  },
  {
   "cell_type": "code",
   "execution_count": 23,
   "metadata": {},
   "outputs": [
    {
     "name": "stdout",
     "output_type": "stream",
     "text": [
      "[[1.2 1.2 1.2 1.2 1.2]\n",
      " [1.  1.  1.  1.  1. ]]\n"
     ]
    }
   ],
   "source": [
    "print(A)"
   ]
  },
  {
   "cell_type": "code",
   "execution_count": 24,
   "metadata": {},
   "outputs": [],
   "source": [
    "for j in range(n):\n",
    "    y+=A[:,j]*x[j]"
   ]
  },
  {
   "cell_type": "code",
   "execution_count": 25,
   "metadata": {},
   "outputs": [
    {
     "name": "stdout",
     "output_type": "stream",
     "text": [
      "[12. 10.]\n"
     ]
    }
   ],
   "source": [
    "print(y)"
   ]
  },
  {
   "cell_type": "markdown",
   "metadata": {},
   "source": [
    "El algoritmo *gaxpy row oriented* puede escribirse de forma más compacta haciendo uso de la definición de producto punto estándar: $x^Ty$ para dos vectores columna $x$ y $y$. En el caso de una matriz $A$ se tiene:\n",
    "\n",
    "```\n",
    "for i=1:m\n",
    "    y[i]+=A[i,:]^T*x\n",
    "```\n",
    "\n",
    "donde: $A[i,:]$ es el $i$-ésimo renglón de $A$. En *Python*:"
   ]
  },
  {
   "cell_type": "code",
   "execution_count": 26,
   "metadata": {},
   "outputs": [],
   "source": [
    "x = 2*np.ones(n)\n",
    "y = np.zeros(m)\n",
    "A=np.array([[1.2,1.2,1.2,1.2,1.2],[1,1,1,1,1]])"
   ]
  },
  {
   "cell_type": "code",
   "execution_count": 27,
   "metadata": {},
   "outputs": [],
   "source": [
    "for i in range(m):\n",
    "    y[i]+=A[i,:].dot(x)"
   ]
  },
  {
   "cell_type": "code",
   "execution_count": 28,
   "metadata": {},
   "outputs": [
    {
     "name": "stdout",
     "output_type": "stream",
     "text": [
      "[12. 10.]\n"
     ]
    }
   ],
   "source": [
    "print(y)"
   ]
  },
  {
   "cell_type": "markdown",
   "metadata": {},
   "source": [
    "### OpenBLAS y *NumPy*"
   ]
  },
  {
   "cell_type": "markdown",
   "metadata": {},
   "source": [
    "En esta sección se sugiere para reproducibilidad de resultados utilizar la *AMI* y la instancia de AWS ambas descritas al inicio y la *AMI* `opt2-aws-educate-no-openblas-04-04-2021` de la región `us-east-1` (Virginia) en el mismo tipo de instancia. Tal AMI se construyó a partir de una *AMI* `ubuntu 20.04 - ami-042e8287309f5df03` con el [script_no_OpenBLAS.sh](https://github.com/palmoreck/scripts_for_useful_tools_installations/blob/main/AWS/ubuntu_20.04/optimizacion_2/script_no_OpenBLAS.sh)\n"
   ]
  },
  {
   "cell_type": "markdown",
   "metadata": {},
   "source": [
    "````{admonition} Comentario\n",
    "\n",
    "Si se utiliza la *AMI* `opt2-aws-educate-no-openblas-04-04-2021` colocar en `User data` el siguiente *script*:\n",
    "\n",
    "```bash\n",
    "\n",
    "#!/bin/bash\n",
    "##variables:\n",
    "region=us-east-1 #make sure instance is in Virginia\n",
    "name_instance=no-OpenBLAS\n",
    "USER=ubuntu\n",
    "##System update\n",
    "apt-get update -yq\n",
    "##Tag instance\n",
    "INSTANCE_ID=$(curl -s http://instance-data/latest/meta-data/instance-id)\n",
    "PUBLIC_IP=$(curl -s http://instance-data/latest/meta-data/public-ipv4)\n",
    "sudo -H -u $USER bash -c \"/home/$USER/.local/bin/aws ec2 create-tags --resources $INSTANCE_ID --tag Key=Name,Value=$name_instance-$PUBLIC_IP --region=$region\"\n",
    "sudo -H -u $USER bash -c \"cd / && /home/$USER/.local/bin/jupyter lab --ip=0.0.0.0 --no-browser --config=/home/$USER/.jupyter/jupyter_notebook_config.py &\"\n",
    "\n",
    "```\n",
    "\n",
    "````"
   ]
  },
  {
   "cell_type": "markdown",
   "metadata": {},
   "source": [
    "### Resultados utilizando `opt2-aws-educate-openblas-04-04-2021`"
   ]
  },
  {
   "cell_type": "markdown",
   "metadata": {},
   "source": [
    "Verificamos que *NumPy* está usando la implementación de la API de BLAS con OpenBLAS que se obtiene con `sudo apt-get install -y libopenblas-dev`, ver [script_profiling_and_BLAS.sh](https://github.com/palmoreck/scripts_for_useful_tools_installations/blob/main/AWS/ubuntu_20.04/optimizacion_2/script_profiling_and_BLAS.sh)"
   ]
  },
  {
   "cell_type": "code",
   "execution_count": 10,
   "metadata": {},
   "outputs": [
    {
     "name": "stdout",
     "output_type": "stream",
     "text": [
      "blas_mkl_info:\n",
      "  NOT AVAILABLE\n",
      "blis_info:\n",
      "  NOT AVAILABLE\n",
      "openblas_info:\n",
      "    libraries = ['openblas', 'openblas']\n",
      "    library_dirs = ['/usr/lib/x86_64-linux-gnu']\n",
      "    language = c\n",
      "    define_macros = [('HAVE_CBLAS', None)]\n",
      "blas_opt_info:\n",
      "    libraries = ['openblas', 'openblas']\n",
      "    library_dirs = ['/usr/lib/x86_64-linux-gnu']\n",
      "    language = c\n",
      "    define_macros = [('HAVE_CBLAS', None)]\n",
      "lapack_mkl_info:\n",
      "  NOT AVAILABLE\n",
      "openblas_lapack_info:\n",
      "    libraries = ['openblas', 'openblas']\n",
      "    library_dirs = ['/usr/lib/x86_64-linux-gnu']\n",
      "    language = c\n",
      "    define_macros = [('HAVE_CBLAS', None)]\n",
      "lapack_opt_info:\n",
      "    libraries = ['openblas', 'openblas']\n",
      "    library_dirs = ['/usr/lib/x86_64-linux-gnu']\n",
      "    language = c\n",
      "    define_macros = [('HAVE_CBLAS', None)]\n",
      "None\n"
     ]
    }
   ],
   "source": [
    "print(np.show_config())"
   ]
  },
  {
   "cell_type": "markdown",
   "metadata": {},
   "source": [
    "Hacemos una prueba de medición de tiempos:"
   ]
  },
  {
   "cell_type": "code",
   "execution_count": 11,
   "metadata": {},
   "outputs": [],
   "source": [
    "np.random.seed(2020)\n",
    "m=10**4\n",
    "r=10**4\n",
    "\n",
    "A=np.random.rand(m,r)"
   ]
  },
  {
   "cell_type": "code",
   "execution_count": 12,
   "metadata": {},
   "outputs": [],
   "source": [
    "np.random.seed(2021)\n",
    "r=10**4\n",
    "n=10**4\n",
    "\n",
    "B=np.random.rand(r,n)"
   ]
  },
  {
   "cell_type": "markdown",
   "metadata": {},
   "source": [
    "```{admonition} Observación\n",
    ":class: tip\n",
    "\n",
    "Mientras se ejecuta la siguiente celda se sugiere en la terminal ejecutar en la línea de comando `htop`.\n",
    "\n",
    "```"
   ]
  },
  {
   "cell_type": "code",
   "execution_count": 13,
   "metadata": {},
   "outputs": [
    {
     "name": "stdout",
     "output_type": "stream",
     "text": [
      "2.96 s ± 149 ms per loop (mean ± std. dev. of 2 runs, 1 loop each)\n"
     ]
    }
   ],
   "source": [
    "%timeit -n 1 -r 7 A@B"
   ]
  },
  {
   "cell_type": "markdown",
   "metadata": {},
   "source": [
    "### Resultados utilizando `opt2-aws-educate-no-openblas-04-04-2021`"
   ]
  },
  {
   "cell_type": "markdown",
   "metadata": {},
   "source": [
    "Verificamos que *NumPy* **no** está usando la implementación de la API de BLAS con OpenBLAS que se obtiene con `sudo apt-get install -y libopenblas-dev`, ver [script_no_OpenBLAS.sh](https://github.com/palmoreck/scripts_for_useful_tools_installations/blob/main/AWS/ubuntu_20.04/optimizacion_2/script_no_OpenBLAS.sh)"
   ]
  },
  {
   "cell_type": "code",
   "execution_count": 2,
   "metadata": {},
   "outputs": [
    {
     "name": "stdout",
     "output_type": "stream",
     "text": [
      "blas_mkl_info:\n",
      "  NOT AVAILABLE\n",
      "blis_info:\n",
      "  NOT AVAILABLE\n",
      "openblas_info:\n",
      "    libraries = ['openblas', 'openblas']\n",
      "    library_dirs = ['/usr/local/lib']\n",
      "    language = c\n",
      "    define_macros = [('HAVE_CBLAS', None)]\n",
      "blas_opt_info:\n",
      "    libraries = ['openblas', 'openblas']\n",
      "    library_dirs = ['/usr/local/lib']\n",
      "    language = c\n",
      "    define_macros = [('HAVE_CBLAS', None)]\n",
      "lapack_mkl_info:\n",
      "  NOT AVAILABLE\n",
      "openblas_lapack_info:\n",
      "    libraries = ['openblas', 'openblas']\n",
      "    library_dirs = ['/usr/local/lib']\n",
      "    language = c\n",
      "    define_macros = [('HAVE_CBLAS', None)]\n",
      "lapack_opt_info:\n",
      "    libraries = ['openblas', 'openblas']\n",
      "    library_dirs = ['/usr/local/lib']\n",
      "    language = c\n",
      "    define_macros = [('HAVE_CBLAS', None)]\n",
      "None\n"
     ]
    }
   ],
   "source": [
    "print(np.show_config())"
   ]
  },
  {
   "cell_type": "markdown",
   "metadata": {},
   "source": [
    "Hacemos una prueba de medición de tiempos:"
   ]
  },
  {
   "cell_type": "code",
   "execution_count": 3,
   "metadata": {},
   "outputs": [],
   "source": [
    "np.random.seed(2020)\n",
    "m=10**4\n",
    "r=10**4\n",
    "\n",
    "A=np.random.rand(m,r)"
   ]
  },
  {
   "cell_type": "code",
   "execution_count": 4,
   "metadata": {},
   "outputs": [],
   "source": [
    "np.random.seed(2021)\n",
    "r=10**4\n",
    "n=10**4\n",
    "\n",
    "B=np.random.rand(r,n)"
   ]
  },
  {
   "cell_type": "markdown",
   "metadata": {},
   "source": [
    "```{admonition} Observación\n",
    ":class: tip\n",
    "\n",
    "Mientras se ejecuta la siguiente celda se sugiere en la terminal ejecutar en la línea de comando `htop`.\n",
    "\n",
    "```"
   ]
  },
  {
   "cell_type": "code",
   "execution_count": 5,
   "metadata": {},
   "outputs": [
    {
     "name": "stdout",
     "output_type": "stream",
     "text": [
      "3.22 s ± 167 ms per loop (mean ± std. dev. of 7 runs, 1 loop each)\n"
     ]
    }
   ],
   "source": [
    "%timeit -n 1 -r 7 A@B"
   ]
  },
  {
   "cell_type": "markdown",
   "metadata": {},
   "source": [
    "```{admonition} Comentarios\n",
    "\n",
    "* La implementación de la API de BLAS con OpenBLAS que se instala mediante `sudo apt-get install -y libopenblas-dev` y *NumPy* instalado vía `pip install numpy --no-binary numpy` resulta para el algoritmo de multiplicación de matrices ser un poco más rápido que con la implementación de la API de BLAS integrada en la instalación de *NumPy* vía `pip install numpy`.\n",
    "\n",
    "* Más *cores* reducen el tiempo de cómputo, para ver esto probar lo anterior con máquinas con menos *cores*.\n",
    "\n",
    "```"
   ]
  },
  {
   "cell_type": "markdown",
   "metadata": {},
   "source": [
    "### OpenBLAS y librerías de cómputo matricial de *R*"
   ]
  },
  {
   "cell_type": "markdown",
   "metadata": {},
   "source": [
    "En esta sección se sugiere para reproducibilidad de resultados utilizar la *AMI* y la instancia de AWS ambas descritas al inicio y la *AMI* `opt2-aws-educate-no-openblas-04-04-2021` de la región `us-east-1` (Virginia) en el mismo tipo de instancia. Tal AMI se construyó a partir de una *AMI* `ubuntu 20.04 - ami-042e8287309f5df03` con el [script_no_OpenBLAS.sh](https://github.com/palmoreck/scripts_for_useful_tools_installations/blob/main/AWS/ubuntu_20.04/optimizacion_2/script_no_OpenBLAS.sh)\n"
   ]
  },
  {
   "cell_type": "markdown",
   "metadata": {},
   "source": [
    "````{admonition} Comentario\n",
    "\n",
    "Si se utiliza la *AMI* `opt2-aws-educate-no-openblas-04-04-2021` colocar en `User data` el siguiente *script*:\n",
    "\n",
    "```bash\n",
    "\n",
    "#!/bin/bash\n",
    "##variables:\n",
    "region=us-east-1 #make sure instance is in Virginia\n",
    "name_instance=no-OpenBLAS\n",
    "USER=ubuntu\n",
    "##System update\n",
    "apt-get update -yq\n",
    "##Tag instance\n",
    "INSTANCE_ID=$(curl -s http://instance-data/latest/meta-data/instance-id)\n",
    "PUBLIC_IP=$(curl -s http://instance-data/latest/meta-data/public-ipv4)\n",
    "sudo -H -u $USER bash -c \"/home/$USER/.local/bin/aws ec2 create-tags --resources $INSTANCE_ID --tag Key=Name,Value=$name_instance-$PUBLIC_IP --region=$region\"\n",
    "sudo -H -u $USER bash -c \"cd / && /home/$USER/.local/bin/jupyter lab --ip=0.0.0.0 --no-browser --config=/home/$USER/.jupyter/jupyter_notebook_config.py &\"\n",
    "\n",
    "```\n",
    "\n",
    "````"
   ]
  },
  {
   "cell_type": "markdown",
   "metadata": {},
   "source": [
    "### Resultados utilizando `opt2-aws-educate-openblas-04-04-2021`"
   ]
  },
  {
   "cell_type": "markdown",
   "metadata": {},
   "source": [
    "Verificamos que las librerías de cómputo matricial de *R* están usando la implementación de la API de BLAS con OpenBLAS que se obtiene con `sudo apt-get install -y libopenblas-dev`, ver [script_profiling_and_BLAS.sh](https://github.com/palmoreck/scripts_for_useful_tools_installations/blob/main/AWS/ubuntu_20.04/optimizacion_2/script_profiling_and_BLAS.sh)"
   ]
  },
  {
   "cell_type": "code",
   "execution_count": 1,
   "metadata": {},
   "outputs": [
    {
     "data": {
      "text/plain": [
       "R version 4.0.5 (2021-03-31)\n",
       "Platform: x86_64-pc-linux-gnu (64-bit)\n",
       "Running under: Ubuntu 20.04.2 LTS\n",
       "\n",
       "Matrix products: default\n",
       "BLAS:   /usr/lib/x86_64-linux-gnu/openblas-pthread/libblas.so.3\n",
       "LAPACK: /usr/lib/x86_64-linux-gnu/openblas-pthread/liblapack.so.3\n",
       "\n",
       "locale:\n",
       " [1] LC_CTYPE=C.UTF-8       LC_NUMERIC=C           LC_TIME=C.UTF-8       \n",
       " [4] LC_COLLATE=C.UTF-8     LC_MONETARY=C.UTF-8    LC_MESSAGES=C.UTF-8   \n",
       " [7] LC_PAPER=C.UTF-8       LC_NAME=C              LC_ADDRESS=C          \n",
       "[10] LC_TELEPHONE=C         LC_MEASUREMENT=C.UTF-8 LC_IDENTIFICATION=C   \n",
       "\n",
       "attached base packages:\n",
       "[1] stats     graphics  grDevices utils     datasets  methods   base     \n",
       "\n",
       "loaded via a namespace (and not attached):\n",
       " [1] fansi_0.4.2         digest_0.6.27       utf8_1.2.1         \n",
       " [4] crayon_1.4.1        IRdisplay_1.0       repr_1.1.3         \n",
       " [7] lifecycle_1.0.0     jsonlite_1.7.2      evaluate_0.14      \n",
       "[10] pillar_1.5.1        rlang_0.4.10        uuid_0.1-4         \n",
       "[13] ellipsis_0.3.1      IRkernel_1.1.1.9000 tools_4.0.5        \n",
       "[16] compiler_4.0.5      base64enc_0.1-3     pbdZMQ_0.3-5       \n",
       "[19] htmltools_0.5.1.1  "
      ]
     },
     "metadata": {},
     "output_type": "display_data"
    }
   ],
   "source": [
    "sessionInfo()"
   ]
  },
  {
   "cell_type": "code",
   "execution_count": 2,
   "metadata": {},
   "outputs": [],
   "source": [
    "set.seed(2020)\n",
    "m<-10**4\n",
    "r<-10**4\n",
    "A <- matrix(runif(m*r), m, r)"
   ]
  },
  {
   "cell_type": "code",
   "execution_count": 3,
   "metadata": {},
   "outputs": [],
   "source": [
    "set.seed(2021)\n",
    "r<-10**4\n",
    "n<-10**4\n",
    "B <- matrix(runif(r*n), r, n)"
   ]
  },
  {
   "cell_type": "code",
   "execution_count": 5,
   "metadata": {},
   "outputs": [],
   "source": [
    "library(microbenchmark)"
   ]
  },
  {
   "cell_type": "markdown",
   "metadata": {},
   "source": [
    "```{admonition} Comentario\n",
    "\n",
    "El paquete de [microbenchmark](https://www.rdocumentation.org/packages/microbenchmark/versions/1.4-7/topics/microbenchmark) nos ayuda a la medición de estadísticas para pequeñas piezas de código.\n",
    "\n",
    "```"
   ]
  },
  {
   "cell_type": "markdown",
   "metadata": {},
   "source": [
    "```{admonition} Observación\n",
    ":class: tip\n",
    "\n",
    "Mientras se ejecuta la siguiente celda se sugiere en la terminal ejecutar en la línea de comando `htop`.\n",
    "\n",
    "```"
   ]
  },
  {
   "cell_type": "code",
   "execution_count": 10,
   "metadata": {},
   "outputs": [],
   "source": [
    "mbk<-microbenchmark(\n",
    "    A%*%B,\n",
    "    times=7\n",
    "    )"
   ]
  },
  {
   "cell_type": "code",
   "execution_count": 11,
   "metadata": {},
   "outputs": [
    {
     "name": "stdout",
     "output_type": "stream",
     "text": [
      "Unit: seconds\n",
      "    expr      min       lq     mean   median       uq      max neval\n",
      " A %*% B 2.600818 2.723897 2.952135 2.833146 3.038394 3.706399     7\n"
     ]
    }
   ],
   "source": [
    "print(mbk)"
   ]
  },
  {
   "cell_type": "markdown",
   "metadata": {},
   "source": [
    "### Resultados utilizando `opt2-aws-educate-no-openblas-04-04-2021`"
   ]
  },
  {
   "cell_type": "markdown",
   "metadata": {},
   "source": [
    "Verificamos que las librerías de cómputo matricial de *R* **no** están usando la implementación de la API de BLAS con OpenBLAS que se obtiene con `sudo apt-get install -y libopenblas-dev`, ver [script_no_OpenBLAS.sh](https://github.com/palmoreck/scripts_for_useful_tools_installations/blob/main/AWS/ubuntu_20.04/optimizacion_2/script_no_OpenBLAS.sh)"
   ]
  },
  {
   "cell_type": "code",
   "execution_count": 1,
   "metadata": {},
   "outputs": [
    {
     "data": {
      "text/plain": [
       "R version 4.0.5 (2021-03-31)\n",
       "Platform: x86_64-pc-linux-gnu (64-bit)\n",
       "Running under: Ubuntu 20.04.2 LTS\n",
       "\n",
       "Matrix products: default\n",
       "BLAS:   /usr/lib/x86_64-linux-gnu/blas/libblas.so.3.9.0\n",
       "LAPACK: /usr/lib/x86_64-linux-gnu/lapack/liblapack.so.3.9.0\n",
       "\n",
       "locale:\n",
       " [1] LC_CTYPE=C.UTF-8       LC_NUMERIC=C           LC_TIME=C.UTF-8       \n",
       " [4] LC_COLLATE=C.UTF-8     LC_MONETARY=C.UTF-8    LC_MESSAGES=C.UTF-8   \n",
       " [7] LC_PAPER=C.UTF-8       LC_NAME=C              LC_ADDRESS=C          \n",
       "[10] LC_TELEPHONE=C         LC_MEASUREMENT=C.UTF-8 LC_IDENTIFICATION=C   \n",
       "\n",
       "attached base packages:\n",
       "[1] stats     graphics  grDevices utils     datasets  methods   base     \n",
       "\n",
       "loaded via a namespace (and not attached):\n",
       " [1] fansi_0.4.2         digest_0.6.27       utf8_1.2.1         \n",
       " [4] crayon_1.4.1        IRdisplay_1.0       repr_1.1.3         \n",
       " [7] lifecycle_1.0.0     jsonlite_1.7.2      evaluate_0.14      \n",
       "[10] pillar_1.5.1        rlang_0.4.10        uuid_0.1-4         \n",
       "[13] ellipsis_0.3.1      IRkernel_1.1.1.9000 tools_4.0.5        \n",
       "[16] compiler_4.0.5      base64enc_0.1-3     pbdZMQ_0.3-5       \n",
       "[19] htmltools_0.5.1.1  "
      ]
     },
     "metadata": {},
     "output_type": "display_data"
    }
   ],
   "source": [
    "sessionInfo()"
   ]
  },
  {
   "cell_type": "code",
   "execution_count": 2,
   "metadata": {},
   "outputs": [],
   "source": [
    "set.seed(2020)\n",
    "m<-10**4\n",
    "r<-10**4\n",
    "A <- matrix(runif(m*r), m, r)"
   ]
  },
  {
   "cell_type": "code",
   "execution_count": 3,
   "metadata": {},
   "outputs": [],
   "source": [
    "set.seed(2021)\n",
    "r<-10**4\n",
    "n<-10**4\n",
    "B <- matrix(runif(r*n), r, n)"
   ]
  },
  {
   "cell_type": "code",
   "execution_count": 4,
   "metadata": {},
   "outputs": [],
   "source": [
    "library(microbenchmark)"
   ]
  },
  {
   "cell_type": "markdown",
   "metadata": {},
   "source": [
    "```{admonition} Observación\n",
    ":class: tip\n",
    "\n",
    "Mientras se ejecuta la siguiente celda se sugiere en la terminal ejecutar en la línea de comando `htop`.\n",
    "\n",
    "```"
   ]
  },
  {
   "cell_type": "code",
   "execution_count": null,
   "metadata": {},
   "outputs": [],
   "source": [
    "mbk<-microbenchmark(\n",
    "    A%*%B,\n",
    "    times=1 #just one time as it takes too much time\n",
    "    )"
   ]
  },
  {
   "cell_type": "code",
   "execution_count": null,
   "metadata": {},
   "outputs": [],
   "source": [
    "print(mbk) #after ten minutes didnt finish"
   ]
  },
  {
   "cell_type": "markdown",
   "metadata": {},
   "source": [
    "```{admonition} Comentarios\n",
    "\n",
    "* La implementación de la API de BLAS con OpenBLAS que se instala mediante `sudo apt-get install -y libopenblas-dev` y las librerías de cómputo matricial de *R* que utilizan tal instalación resulta para el algoritmo de multiplicación de matrices ser mucho más rápido que con la implementación de la API de BLAS integrada en la instalación de *R*.\n",
    "\n",
    "* Más *cores* reducen el tiempo de cómputo, para ver esto probar lo anterior con máquinas con menos *cores*.\n",
    "\n",
    "```"
   ]
  },
  {
   "cell_type": "markdown",
   "metadata": {},
   "source": [
    "## Perfilamiento: medición de tiempo en el sistema operativo Ubuntu 20.04"
   ]
  },
  {
   "cell_type": "markdown",
   "metadata": {},
   "source": [
    "### [/usr/bin/time](http://manpages.ubuntu.com/manpages/focal/man1/time.1.html)\n",
    "\n",
    "Ver también: [Wikipedia: Time_Unix](https://en.wikipedia.org/wiki/Time_(Unix))\n"
   ]
  },
  {
   "cell_type": "code",
   "execution_count": 18,
   "metadata": {},
   "outputs": [
    {
     "name": "stdout",
     "output_type": "stream",
     "text": [
      "Writing Rcf.py\n"
     ]
    }
   ],
   "source": [
    "%%file Rcf.py\n",
    "import math\n",
    "\n",
    "from pytest import approx\n",
    "from scipy.integrate import quad\n",
    "def Rcf(f,a,b,n):\n",
    "    \"\"\"\n",
    "    Compute numerical approximation using rectangle or mid-point\n",
    "    method in an interval.\n",
    "    Nodes are generated via formula: x_i = a+(i+1/2)h_hat for\n",
    "    i=0,1,...,n-1 and h_hat=(b-a)/n\n",
    "    Args:\n",
    "    \n",
    "        f (function): function expression of integrand.\n",
    "        \n",
    "        a (float): left point of interval.\n",
    "        \n",
    "        b (float): right point of interval.\n",
    "        \n",
    "        n (float): number of subintervals.\n",
    "        \n",
    "    Returns:\n",
    "    \n",
    "        sum_res (float): numerical approximation to integral\n",
    "            of f in the interval a,b\n",
    "    \"\"\"\n",
    "    h_hat=(b-a)/n\n",
    "    nodes=[a+(i+1/2)*h_hat for i in range(0,n)]\n",
    "    sum_res=0\n",
    "    for node in nodes:\n",
    "        sum_res=sum_res+f(node)\n",
    "    return h_hat*sum_res\n",
    "if __name__==\"__main__\": #añadimos este bloque para ejecución de la función Rcf\n",
    "    a=0\n",
    "    b=1\n",
    "    f=lambda x: math.exp(-x**2)\n",
    "    obj, err = quad(f, a, b)\n",
    "    print(\"objetivo: {:0.6e}\".format(obj))\n",
    "    n=10**6\n",
    "    res=Rcf(f,a,b,n)\n",
    "    print(\"aproximación: {:0.6e}\".format(res))\n",
    "    print(res == approx(obj))"
   ]
  },
  {
   "cell_type": "code",
   "execution_count": 19,
   "metadata": {},
   "outputs": [
    {
     "name": "stdout",
     "output_type": "stream",
     "text": [
      "objetivo: 7.468241e-01\n",
      "aproximación: 7.468241e-01\n",
      "True\n"
     ]
    },
    {
     "name": "stderr",
     "output_type": "stream",
     "text": [
      "real 0.84\n",
      "user 2.57\n",
      "sys 2.20\n"
     ]
    }
   ],
   "source": [
    "%%bash\n",
    "/usr/bin/time -p python3 Rcf.py"
   ]
  },
  {
   "cell_type": "code",
   "execution_count": 20,
   "metadata": {},
   "outputs": [
    {
     "name": "stdout",
     "output_type": "stream",
     "text": [
      "objetivo: 7.468241e-01\n",
      "aproximación: 7.468241e-01\n",
      "True\n"
     ]
    },
    {
     "name": "stderr",
     "output_type": "stream",
     "text": [
      "\tCommand being timed: \"python3 Rcf.py\"\n",
      "\tUser time (seconds): 2.55\n",
      "\tSystem time (seconds): 2.34\n",
      "\tPercent of CPU this job got: 612%\n",
      "\tElapsed (wall clock) time (h:mm:ss or m:ss): 0:00.79\n",
      "\tAverage shared text size (kbytes): 0\n",
      "\tAverage unshared data size (kbytes): 0\n",
      "\tAverage stack size (kbytes): 0\n",
      "\tAverage total size (kbytes): 0\n",
      "\tMaximum resident set size (kbytes): 97688\n",
      "\tAverage resident set size (kbytes): 0\n",
      "\tMajor (requiring I/O) page faults: 0\n",
      "\tMinor (reclaiming a frame) page faults: 20846\n",
      "\tVoluntary context switches: 87\n",
      "\tInvoluntary context switches: 877104\n",
      "\tSwaps: 0\n",
      "\tFile system inputs: 0\n",
      "\tFile system outputs: 0\n",
      "\tSocket messages sent: 0\n",
      "\tSocket messages received: 0\n",
      "\tSignals delivered: 0\n",
      "\tPage size (bytes): 4096\n",
      "\tExit status: 0\n"
     ]
    }
   ],
   "source": [
    "%%bash\n",
    "/usr/bin/time -v python3 Rcf.py"
   ]
  },
  {
   "cell_type": "markdown",
   "metadata": {},
   "source": [
    "```{admonition} Comentario\n",
    "\n",
    "Una breve explicación del *output* se puede encontrar [/usr/bin/time](http://manpages.ubuntu.com/manpages/focal/man1/time.1.html). Por ejemplo, para el caso de `Major (requiring I/O)` nos interesa que sea $0$ pues indica que el sistema operativo tiene que cargar páginas de datos del disco pues tales datos ya no residen en RAM (por alguna razón).\n",
    "\n",
    "```"
   ]
  },
  {
   "cell_type": "markdown",
   "metadata": {},
   "source": [
    "```{admonition} Observación\n",
    ":class: tip\n",
    "\n",
    "La medición `real` que regresa `/usr/bin/time` es el equivalente al `Wall time` de `%time`.\n",
    "\n",
    "\n",
    "```"
   ]
  },
  {
   "cell_type": "markdown",
   "metadata": {},
   "source": [
    "## Perfilamiento: medición de uso de CPU en el sistema operativo GNU/Linux"
   ]
  },
  {
   "cell_type": "markdown",
   "metadata": {},
   "source": [
    "### [perf](https://github.com/torvalds/linux/tree/master/tools/perf)"
   ]
  },
  {
   "cell_type": "markdown",
   "metadata": {},
   "source": [
    "En GNU/Linux existe la herramienta `perf` que nos ayuda a calcular métricas de desempeño de la CPU. Los siguientes ejemplos se ejecutaron con la AMI `opt2-aws-educate-openblas-04-04-2021` y la instancia de AWS, ambas descritas al inicio."
   ]
  },
  {
   "cell_type": "markdown",
   "metadata": {},
   "source": [
    "### perf OpenBLAS"
   ]
  },
  {
   "cell_type": "code",
   "execution_count": 14,
   "metadata": {},
   "outputs": [
    {
     "name": "stdout",
     "output_type": "stream",
     "text": [
      "Writing mult_matrix_matrix_numpy_openblas.py\n"
     ]
    }
   ],
   "source": [
    "%%file mult_matrix_matrix_numpy_openblas.py\n",
    "import numpy as np\n",
    "m=10**4\n",
    "r=10**4\n",
    "n=10**4\n",
    "\n",
    "np.random.seed(2020)\n",
    "m=10**4\n",
    "r=10**4\n",
    "A=np.random.rand(m,r)\n",
    "\n",
    "np.random.seed(2021)\n",
    "r=10**4\n",
    "n=10**4\n",
    "B=np.random.rand(r,n)\n",
    "\n",
    "A@B"
   ]
  },
  {
   "cell_type": "markdown",
   "metadata": {},
   "source": [
    "```{margin}\n",
    "\n",
    "Esta línea de `echo` es importante para permitir que *user* `ubuntu` ejecute `perf` sin `sudo`.\n",
    "\n",
    "```"
   ]
  },
  {
   "cell_type": "code",
   "execution_count": 15,
   "metadata": {},
   "outputs": [
    {
     "name": "stdout",
     "output_type": "stream",
     "text": [
      "-1\n"
     ]
    }
   ],
   "source": [
    "%%bash\n",
    "echo \"-1\" |sudo tee -a /proc/sys/kernel/perf_event_paranoid"
   ]
  },
  {
   "cell_type": "code",
   "execution_count": 16,
   "metadata": {},
   "outputs": [
    {
     "name": "stderr",
     "output_type": "stream",
     "text": [
      "\n",
      " Performance counter stats for 'system wide' (7 runs):\n",
      "\n",
      "S0-D0-C0           2        18418711959      cycles                                                        (75.00%)\n",
      "S0-D0-C0           2        18369720566      instructions              #    1.00  insn per cycle           (75.06%)\n",
      "S0-D0-C0           2          537701642      cache-references                                              (75.06%)\n",
      "S0-D0-C0           2           24051039      cache-misses              #    4.473 % of all cache refs      (75.02%)\n",
      "S0-D0-C1           2        18196672426      cycles                                                        (75.03%)\n",
      "S0-D0-C1           2        18408825312      instructions              #    1.01  insn per cycle           (75.06%)\n",
      "S0-D0-C1           2          525743359      cache-references                                              (75.07%)\n",
      "S0-D0-C1           2           23125192      cache-misses              #    4.399 % of all cache refs      (75.01%)\n",
      "S0-D0-C2           2        17745013942      cycles                                                        (75.04%)\n",
      "S0-D0-C2           2        18325997854      instructions              #    1.03  insn per cycle           (75.06%)\n",
      "S0-D0-C2           2          526665812      cache-references                                              (75.05%)\n",
      "S0-D0-C2           2           22407034      cache-misses              #    4.255 % of all cache refs      (75.01%)\n",
      "S0-D0-C3           2        17121222047      cycles                                                        (75.04%)\n",
      "S0-D0-C3           2        18146087876      instructions              #    1.06  insn per cycle           (75.06%)\n",
      "S0-D0-C3           2          490965446      cache-references                                              (75.06%)\n",
      "S0-D0-C3           2           26610387      cache-misses              #    5.420 % of all cache refs      (75.01%)\n",
      "S0-D0-C4           2        16890058309      cycles                                                        (75.04%)\n",
      "S0-D0-C4           2        17885504024      instructions              #    1.06  insn per cycle           (75.06%)\n",
      "S0-D0-C4           2          487993921      cache-references                                              (75.05%)\n",
      "S0-D0-C4           2           23144032      cache-misses              #    4.743 % of all cache refs      (75.01%)\n",
      "S0-D0-C5           2        17199231962      cycles                                                        (75.03%)\n",
      "S0-D0-C5           2        18263131622      instructions              #    1.06  insn per cycle           (75.06%)\n",
      "S0-D0-C5           2          496088789      cache-references                                              (75.06%)\n",
      "S0-D0-C5           2           21848774      cache-misses              #    4.404 % of all cache refs      (75.01%)\n",
      "S0-D0-C6           2        16349945326      cycles                                                        (75.03%)\n",
      "S0-D0-C6           2        17917357673      instructions              #    1.10  insn per cycle           (75.06%)\n",
      "S0-D0-C6           2          479652808      cache-references                                              (75.06%)\n",
      "S0-D0-C6           2           24499853      cache-misses              #    5.108 % of all cache refs      (75.01%)\n",
      "S0-D0-C7           2        16412097276      cycles                                                        (75.03%)\n",
      "S0-D0-C7           2        17611472168      instructions              #    1.07  insn per cycle           (75.06%)\n",
      "S0-D0-C7           2          469719191      cache-references                                              (75.06%)\n",
      "S0-D0-C7           2           21824081      cache-misses              #    4.646 % of all cache refs      (75.01%)\n",
      "S0-D0-C8           2        15249556261      cycles                                                        (75.03%)\n",
      "S0-D0-C8           2        16618749720      instructions              #    1.09  insn per cycle           (75.06%)\n",
      "S0-D0-C8           2          455682584      cache-references                                              (75.06%)\n",
      "S0-D0-C8           2           25286843      cache-misses              #    5.549 % of all cache refs      (75.02%)\n",
      "S0-D0-C9           2        16231214981      cycles                                                        (75.03%)\n",
      "S0-D0-C9           2        17646720887      instructions              #    1.09  insn per cycle           (75.05%)\n",
      "S0-D0-C9           2          473228118      cache-references                                              (75.06%)\n",
      "S0-D0-C9           2           19449589      cache-misses              #    4.110 % of all cache refs      (75.02%)\n",
      "S0-D0-C10          2        15892959983      cycles                                                        (75.03%)\n",
      "S0-D0-C10          2        17337209550      instructions              #    1.09  insn per cycle           (75.06%)\n",
      "S0-D0-C10          2          469461284      cache-references                                              (75.06%)\n",
      "S0-D0-C10          2           28237009      cache-misses              #    6.015 % of all cache refs      (75.01%)\n",
      "S0-D0-C11          2        14874401788      cycles                                                        (75.04%)\n",
      "S0-D0-C11          2        16217229463      instructions              #    1.09  insn per cycle           (75.06%)\n",
      "S0-D0-C11          2          452670920      cache-references                                              (75.05%)\n",
      "S0-D0-C11          2           21648129      cache-misses              #    4.782 % of all cache refs      (75.02%)\n",
      "S0-D0-C12          2        14543839541      cycles                                                        (75.03%)\n",
      "S0-D0-C12          2        15959236359      instructions              #    1.10  insn per cycle           (75.06%)\n",
      "S0-D0-C12          2          441998264      cache-references                                              (75.06%)\n",
      "S0-D0-C12          2           26386041      cache-misses              #    5.970 % of all cache refs      (75.02%)\n",
      "S0-D0-C13          2        18262472756      cycles                                                        (75.03%)\n",
      "S0-D0-C13          2        18538540372      instructions              #    1.02  insn per cycle           (75.06%)\n",
      "S0-D0-C13          2          535986137      cache-references                                              (75.06%)\n",
      "S0-D0-C13          2           28397666      cache-misses              #    5.298 % of all cache refs      (75.02%)\n",
      "S0-D0-C14          2        13209247629      cycles                                                        (75.03%)\n",
      "S0-D0-C14          2        15254857451      instructions              #    1.15  insn per cycle           (75.06%)\n",
      "S0-D0-C14          2          410995623      cache-references                                              (75.06%)\n",
      "S0-D0-C14          2           24991392      cache-misses              #    6.081 % of all cache refs      (75.02%)\n",
      "S0-D0-C15          2        12118816441      cycles                                                        (75.03%)\n",
      "S0-D0-C15          2        14453817862      instructions              #    1.19  insn per cycle           (75.05%)\n",
      "S0-D0-C15          2          371089450      cache-references                                              (75.05%)\n",
      "S0-D0-C15          2           22741899      cache-misses              #    6.128 % of all cache refs      (75.02%)\n",
      "S1-D0-C0           2        18232984530      cycles                                                        (75.03%)\n",
      "S1-D0-C0           2        18449109986      instructions              #    1.01  insn per cycle           (75.05%)\n",
      "S1-D0-C0           2          519913031      cache-references                                              (75.06%)\n",
      "S1-D0-C0           2           23752828      cache-misses              #    4.569 % of all cache refs      (75.02%)\n",
      "S1-D0-C1           2        25269014354      cycles                                                        (75.03%)\n",
      "S1-D0-C1           2        39384365171      instructions              #    1.56  insn per cycle           (75.06%)\n",
      "S1-D0-C1           2          651968755      cache-references                                              (75.05%)\n",
      "S1-D0-C1           2           38228051      cache-misses              #    5.863 % of all cache refs      (75.03%)\n",
      "S1-D0-C2           2        18444454550      cycles                                                        (75.03%)\n",
      "S1-D0-C2           2        21204362696      instructions              #    1.15  insn per cycle           (75.06%)\n",
      "S1-D0-C2           2          621058606      cache-references                                              (75.06%)\n",
      "S1-D0-C2           2           40990630      cache-misses              #    6.600 % of all cache refs      (75.02%)\n",
      "S1-D0-C3           2        18278696053      cycles                                                        (75.03%)\n",
      "S1-D0-C3           2        20067036382      instructions              #    1.10  insn per cycle           (75.06%)\n",
      "S1-D0-C3           2          585310801      cache-references                                              (75.06%)\n",
      "S1-D0-C3           2           31863601      cache-misses              #    5.444 % of all cache refs      (75.02%)\n",
      "S1-D0-C4           2        18431841316      cycles                                                        (75.03%)\n",
      "S1-D0-C4           2        18669484458      instructions              #    1.01  insn per cycle           (75.06%)\n",
      "S1-D0-C4           2          528305336      cache-references                                              (75.05%)\n",
      "S1-D0-C4           2           29086972      cache-misses              #    5.506 % of all cache refs      (75.03%)\n",
      "S1-D0-C5           2        18460857989      cycles                                                        (75.03%)\n",
      "S1-D0-C5           2        18836165277      instructions              #    1.02  insn per cycle           (75.05%)\n",
      "S1-D0-C5           2          532097512      cache-references                                              (75.06%)\n",
      "S1-D0-C5           2           29550365      cache-misses              #    5.554 % of all cache refs      (75.03%)\n",
      "S1-D0-C6           2        18490159829      cycles                                                        (75.02%)\n",
      "S1-D0-C6           2        18996196633      instructions              #    1.03  insn per cycle           (75.05%)\n",
      "S1-D0-C6           2          537973011      cache-references                                              (75.06%)\n",
      "S1-D0-C6           2           34758081      cache-misses              #    6.461 % of all cache refs      (75.03%)\n",
      "S1-D0-C7           2        18393424333      cycles                                                        (75.03%)\n",
      "S1-D0-C7           2        19082601979      instructions              #    1.04  insn per cycle           (75.05%)\n",
      "S1-D0-C7           2          540775846      cache-references                                              (75.06%)\n",
      "S1-D0-C7           2           30967762      cache-misses              #    5.727 % of all cache refs      (75.03%)\n",
      "S1-D0-C8           2        18439236440      cycles                                                        (75.03%)\n",
      "S1-D0-C8           2        18698390120      instructions              #    1.01  insn per cycle           (75.05%)\n",
      "S1-D0-C8           2          532154105      cache-references                                              (75.05%)\n",
      "S1-D0-C8           2           30098986      cache-misses              #    5.656 % of all cache refs      (75.03%)\n",
      "S1-D0-C9           2        18393128954      cycles                                                        (75.02%)\n",
      "S1-D0-C9           2        20510456724      instructions              #    1.12  insn per cycle           (75.06%)\n",
      "S1-D0-C9           2          596975317      cache-references                                              (75.05%)\n",
      "S1-D0-C9           2           32463279      cache-misses              #    5.438 % of all cache refs      (75.03%)\n",
      "S1-D0-C10          2        18384672465      cycles                                                        (75.02%)\n",
      "S1-D0-C10          2        18518315158      instructions              #    1.01  insn per cycle           (75.05%)\n",
      "S1-D0-C10          2          518920459      cache-references                                              (75.06%)\n",
      "S1-D0-C10          2           22063526      cache-misses              #    4.252 % of all cache refs      (75.04%)\n",
      "S1-D0-C11          2        18321366651      cycles                                                        (75.02%)\n",
      "S1-D0-C11          2        20344437281      instructions              #    1.11  insn per cycle           (75.04%)\n",
      "S1-D0-C11          2          592757359      cache-references                                              (75.06%)\n",
      "S1-D0-C11          2           28883791      cache-misses              #    4.873 % of all cache refs      (75.03%)\n",
      "S1-D0-C12          2        18438219285      cycles                                                        (75.02%)\n",
      "S1-D0-C12          2        18558196540      instructions              #    1.01  insn per cycle           (75.04%)\n",
      "S1-D0-C12          2          509104381      cache-references                                              (75.06%)\n",
      "S1-D0-C12          2           22171256      cache-misses              #    4.355 % of all cache refs      (75.03%)\n",
      "S1-D0-C13          2        18307643489      cycles                                                        (75.02%)\n",
      "S1-D0-C13          2        18400984979      instructions              #    1.01  insn per cycle           (75.04%)\n",
      "S1-D0-C13          2          515663807      cache-references                                              (75.05%)\n",
      "S1-D0-C13          2           24967988      cache-misses              #    4.842 % of all cache refs      (75.04%)\n",
      "S1-D0-C14          2        18361935174      cycles                                                        (75.02%)\n",
      "S1-D0-C14          2        20383885122      instructions              #    1.11  insn per cycle           (75.03%)\n",
      "S1-D0-C14          2          587106108      cache-references                                              (75.06%)\n",
      "S1-D0-C14          2           33154210      cache-misses              #    5.647 % of all cache refs      (75.04%)\n",
      "S1-D0-C15          2        18346242027      cycles                                                        (75.05%)\n",
      "S1-D0-C15          2        18387811753      instructions              #    1.00  insn per cycle           (75.04%)\n",
      "S1-D0-C15          2          520851546      cache-references                                              (75.07%)\n",
      "S1-D0-C15          2           21406519      cache-misses              #    4.110 % of all cache refs      (75.01%)\n",
      "\n",
      "             5.944 +- 0.128 seconds time elapsed  ( +-  2.15% )\n",
      "\n"
     ]
    }
   ],
   "source": [
    "%%bash\n",
    "perf stat -S -a --per-core -e cycles,instructions,cache-references,cache-misses -r 7 python3 mult_matrix_matrix_numpy_openblas.py"
   ]
  },
  {
   "cell_type": "markdown",
   "metadata": {},
   "source": [
    "### Otras herramientas para medición de uso de CPU en el sistema operativo GNU/Linux"
   ]
  },
  {
   "cell_type": "markdown",
   "metadata": {},
   "source": [
    "* [pmc-cloud-tools](https://github.com/brendangregg/pmc-cloud-tools)"
   ]
  },
  {
   "cell_type": "markdown",
   "metadata": {},
   "source": [
    "```{admonition} Ejercicios\n",
    ":class: tip\n",
    "\n",
    "1.Resuelve los ejercicios y preguntas de la nota.\n",
    "```\n"
   ]
  },
  {
   "cell_type": "markdown",
   "metadata": {},
   "source": [
    "**Referencias:**\n",
    "\n",
    "1. M. Gorelick, I. Ozsvald, High Performance Python, O'Reilly Media, 2014.\n",
    "\n",
    "2. E. Anderson, Z. Bai, C. Bischof, L. S. Blackford, J. Demmel, J. Dongarra, J. Du Croz,\n",
    "A. Greenbaum, S. Hammarling, A. Mckenney and D. Sorensen, LAPACK Users Guide, Society for Industrial and Applied Mathematics, Philadelphia, PA, third ed., 1999.\n",
    "\n"
   ]
  }
 ],
 "metadata": {
  "kernelspec": {
   "display_name": "Python 3",
   "language": "python",
   "name": "python3"
  },
  "language_info": {
   "codemirror_mode": {
    "name": "ipython",
    "version": 3
   },
   "file_extension": ".py",
   "mimetype": "text/x-python",
   "name": "python",
   "nbconvert_exporter": "python",
   "pygments_lexer": "ipython3",
   "version": "3.7.3"
  }
 },
 "nbformat": 4,
 "nbformat_minor": 4
}
