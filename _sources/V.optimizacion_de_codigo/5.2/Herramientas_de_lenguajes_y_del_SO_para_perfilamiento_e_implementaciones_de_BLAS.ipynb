{
 "cells": [
  {
   "cell_type": "markdown",
   "metadata": {},
   "source": [
    "(PERFBLAS)="
   ]
  },
  {
   "cell_type": "markdown",
   "metadata": {},
   "source": [
    "# 5.2 Herramientas de lenguajes de programación y del sistema operativo para perfilamiento e implementaciones de BLAS"
   ]
  },
  {
   "cell_type": "markdown",
   "metadata": {},
   "source": [
    "```{admonition} Notas para contenedor de docker:\n",
    "\n",
    "Comando de docker para ejecución de la nota de forma local:\n",
    "\n",
    "nota: cambiar `<ruta a mi directorio>` por la ruta de directorio que se desea mapear a `/datos` dentro del contenedor de docker.\n",
    "\n",
    "`docker run --rm -v <ruta a mi directorio>:/datos --name jupyterlab_optimizacion_2 -p 8888:8888 -p 8787:8787 -d palmoreck/jupyterlab_optimizacion_2:3.0.0`\n",
    "\n",
    "password para jupyterlab: `qwerty`\n",
    "\n",
    "Detener el contenedor de docker:\n",
    "\n",
    "`docker stop jupyterlab_optimizacion_2`\n",
    "\n",
    "Documentación de la imagen de docker `palmoreck/jupyterlab_optimizacion_2:3.0.0` en [liga](https://github.com/palmoreck/dockerfiles/tree/master/jupyterlab/optimizacion_2).\n",
    "\n",
    "```"
   ]
  },
  {
   "cell_type": "markdown",
   "metadata": {},
   "source": [
    "---"
   ]
  },
  {
   "cell_type": "markdown",
   "metadata": {},
   "source": [
    "```{admonition} Al final de esta nota el y la lectora:\n",
    ":class: tip\n",
    "\n",
    "* Aprenderá diferentes herramientas para perfilamiento de código y dará interpretación a los diferentes resultados.\n",
    "\n",
    "* Conocerá algunas operaciones de BLAS en los tres niveles. En específico se utilizará *OpenBLAS* para *NumPy* y *R*.\n",
    "\n",
    "```"
   ]
  },
  {
   "cell_type": "markdown",
   "metadata": {},
   "source": [
    "En esta nota revisamos algunas herramientas de los lenguajes de programación y de los sistemas GNU/Linux para perfilamiento de código. También se revisa la implementación *OpenBLAS* de la especificación de *Basic Linear Algebra Subprograms* (BLAS) en sus diferentes niveles con ejemplos de paquetes en los lenguajes."
   ]
  },
  {
   "cell_type": "markdown",
   "metadata": {},
   "source": [
    "```{margin}\n",
    "\n",
    "Utilizamos la máquina `m4.16xlarge` pues en AWS no todas las instancias se pueden obtener algunas métricas con `perf`. Ver [stackoverflow1](https://stackoverflow.com/questions/45683901/event-cache-misses-not-supported-by-perf-in-aws), [stackoverflow2](https://stackoverflow.com/questions/19763070/ubuntu-12-10-perf-stat-not-supported-cycles), [the-pmcs-of-ec2](http://www.brendangregg.com/blog/2017-05-04/the-pmcs-of-ec2.html)\n",
    "\n",
    "```"
   ]
  },
  {
   "cell_type": "markdown",
   "metadata": {},
   "source": [
    "Se presentan códigos y sus ejecuciones en una máquina `m4.16xlarge` de la nube de [AWS](https://aws.amazon.com/). Se utilizó la AMI `opt2-aws-educate-openblas-04-04-2021` de la región `us-east-1` (Virginia) para reproducibilidad de resultados. Tal AMI se construyó a partir de una AMI `ubuntu 20.04 - ami-042e8287309f5df03` con el [script_profiling_and_BLAS.sh](https://github.com/palmoreck/scripts_for_useful_tools_installations/blob/main/AWS/ubuntu_20.04/optimizacion_2/script_profiling_and_BLAS.sh)"
   ]
  },
  {
   "cell_type": "markdown",
   "metadata": {},
   "source": [
    "````{admonition} Comentario\n",
    "\n",
    "Si se utiliza la *AMI* `opt2-aws-educate-openblas-04-04-2021` colocar en `User data` el siguiente *script*:\n",
    "\n",
    "```bash\n",
    "\n",
    "#!/bin/bash\n",
    "##variables:\n",
    "region=us-east-1 #make sure instance is in Virginia\n",
    "name_instance=OpenBLAS\n",
    "USER=ubuntu\n",
    "##System update\n",
    "apt-get update -yq\n",
    "##Tag instance\n",
    "INSTANCE_ID=$(curl -s http://instance-data/latest/meta-data/instance-id)\n",
    "PUBLIC_IP=$(curl -s http://instance-data/latest/meta-data/public-ipv4)\n",
    "sudo -H -u $USER bash -c \"/home/$USER/.local/bin/aws ec2 create-tags --resources $INSTANCE_ID --tag Key=Name,Value=$name_instance-$PUBLIC_IP --region=$region\"\n",
    "sudo -H -u $USER bash -c \"cd / && /home/$USER/.local/bin/jupyter lab --ip=0.0.0.0 --no-browser --config=/home/$USER/.jupyter/jupyter_notebook_config.py &\"\n",
    "\n",
    "```\n",
    "\n",
    "````"
   ]
  },
  {
   "cell_type": "markdown",
   "metadata": {},
   "source": [
    "La máquina `m4.16xlarge` tiene las siguientes características:"
   ]
  },
  {
   "cell_type": "code",
   "execution_count": 1,
   "metadata": {
    "tags": [
     "output_scroll"
    ]
   },
   "outputs": [
    {
     "name": "stdout",
     "output_type": "stream",
     "text": [
      "Architecture:                    x86_64\n",
      "CPU op-mode(s):                  32-bit, 64-bit\n",
      "Byte Order:                      Little Endian\n",
      "Address sizes:                   46 bits physical, 48 bits virtual\n",
      "CPU(s):                          64\n",
      "On-line CPU(s) list:             0-63\n",
      "Thread(s) per core:              2\n",
      "Core(s) per socket:              16\n",
      "Socket(s):                       2\n",
      "NUMA node(s):                    2\n",
      "Vendor ID:                       GenuineIntel\n",
      "CPU family:                      6\n",
      "Model:                           79\n",
      "Model name:                      Intel(R) Xeon(R) CPU E5-2686 v4 @ 2.30GHz\n",
      "Stepping:                        1\n",
      "CPU MHz:                         2290.913\n",
      "CPU max MHz:                     3000.0000\n",
      "CPU min MHz:                     1200.0000\n",
      "BogoMIPS:                        4600.03\n",
      "Hypervisor vendor:               Xen\n",
      "Virtualization type:             full\n",
      "L1d cache:                       1 MiB\n",
      "L1i cache:                       1 MiB\n",
      "L2 cache:                        8 MiB\n",
      "L3 cache:                        90 MiB\n",
      "NUMA node0 CPU(s):               0-15,32-47\n",
      "NUMA node1 CPU(s):               16-31,48-63\n",
      "Vulnerability Itlb multihit:     KVM: Vulnerable\n",
      "Vulnerability L1tf:              Mitigation; PTE Inversion\n",
      "Vulnerability Mds:               Vulnerable: Clear CPU buffers attempted, no microcode; SMT Host state unknown\n",
      "Vulnerability Meltdown:          Mitigation; PTI\n",
      "Vulnerability Spec store bypass: Vulnerable\n",
      "Vulnerability Spectre v1:        Mitigation; usercopy/swapgs barriers and __user pointer sanitization\n",
      "Vulnerability Spectre v2:        Mitigation; Full generic retpoline, STIBP disabled, RSB filling\n",
      "Vulnerability Srbds:             Not affected\n",
      "Vulnerability Tsx async abort:   Vulnerable: Clear CPU buffers attempted, no microcode; SMT Host state unknown\n",
      "Flags:                           fpu vme de pse tsc msr pae mce cx8 apic sep mtrr pge mca cmov pat pse36 clflush mmx fxsr sse sse2 ht syscall nx pdpe1gb rdtscp lm constant_tsc arch_perfmon rep_good nopl xtopology nonstop_tsc cpuid aperfmperf pni pclmulqdq monitor est ssse3 fma cx16 pcid sse4_1 sse4_2 x2apic movbe popcnt tsc_deadline_timer aes xsave avx f16c rdrand hypervisor lahf_lm abm cpuid_fault invpcid_single pti fsgsbase bmi1 hle avx2 smep bmi2 erms invpcid rtm xsaveopt ida\n"
     ]
    }
   ],
   "source": [
    "%%bash\n",
    "lscpu"
   ]
  },
  {
   "cell_type": "code",
   "execution_count": 2,
   "metadata": {
    "tags": [
     "output_scroll"
    ]
   },
   "outputs": [
    {
     "name": "stdout",
     "output_type": "stream",
     "text": [
      "  *-firmware\n",
      "       description: BIOS\n",
      "       vendor: Xen\n",
      "       physical id: 0\n",
      "       version: 4.11.amazon\n",
      "       date: 08/24/2006\n",
      "       size: 96KiB\n",
      "       capabilities: pci edd\n",
      "  *-memory\n",
      "       description: System Memory\n",
      "       physical id: 1000\n",
      "       size: 256GiB\n",
      "       capabilities: ecc\n",
      "       configuration: errordetection=multi-bit-ecc\n",
      "     *-bank:0\n",
      "          description: DIMM RAM\n",
      "          physical id: 0\n",
      "          slot: DIMM 0\n",
      "          size: 16GiB\n",
      "          width: 64 bits\n",
      "     *-bank:1\n",
      "          description: DIMM RAM\n",
      "          physical id: 1\n",
      "          slot: DIMM 1\n",
      "          size: 16GiB\n",
      "          width: 64 bits\n",
      "     *-bank:2\n",
      "          description: DIMM RAM\n",
      "          physical id: 2\n",
      "          slot: DIMM 2\n",
      "          size: 16GiB\n",
      "          width: 64 bits\n",
      "     *-bank:3\n",
      "          description: DIMM RAM\n",
      "          physical id: 3\n",
      "          slot: DIMM 3\n",
      "          size: 16GiB\n",
      "          width: 64 bits\n",
      "     *-bank:4\n",
      "          description: DIMM RAM\n",
      "          physical id: 4\n",
      "          slot: DIMM 4\n",
      "          size: 16GiB\n",
      "          width: 64 bits\n",
      "     *-bank:5\n",
      "          description: DIMM RAM\n",
      "          physical id: 5\n",
      "          slot: DIMM 5\n",
      "          size: 16GiB\n",
      "          width: 64 bits\n",
      "     *-bank:6\n",
      "          description: DIMM RAM\n",
      "          physical id: 6\n",
      "          slot: DIMM 6\n",
      "          size: 16GiB\n",
      "          width: 64 bits\n",
      "     *-bank:7\n",
      "          description: DIMM RAM\n",
      "          physical id: 7\n",
      "          slot: DIMM 7\n",
      "          size: 16GiB\n",
      "          width: 64 bits\n",
      "     *-bank:8\n",
      "          description: DIMM RAM\n",
      "          physical id: 8\n",
      "          slot: DIMM 8\n",
      "          size: 16GiB\n",
      "          width: 64 bits\n",
      "     *-bank:9\n",
      "          description: DIMM RAM\n",
      "          physical id: 9\n",
      "          slot: DIMM 9\n",
      "          size: 16GiB\n",
      "          width: 64 bits\n",
      "     *-bank:10\n",
      "          description: DIMM RAM\n",
      "          physical id: a\n",
      "          slot: DIMM 10\n",
      "          size: 16GiB\n",
      "          width: 64 bits\n",
      "     *-bank:11\n",
      "          description: DIMM RAM\n",
      "          physical id: b\n",
      "          slot: DIMM 11\n",
      "          size: 16GiB\n",
      "          width: 64 bits\n",
      "     *-bank:12\n",
      "          description: DIMM RAM\n",
      "          physical id: c\n",
      "          slot: DIMM 12\n",
      "          size: 16GiB\n",
      "          width: 64 bits\n",
      "     *-bank:13\n",
      "          description: DIMM RAM\n",
      "          physical id: d\n",
      "          slot: DIMM 13\n",
      "          size: 16GiB\n",
      "          width: 64 bits\n",
      "     *-bank:14\n",
      "          description: DIMM RAM\n",
      "          physical id: e\n",
      "          slot: DIMM 14\n",
      "          size: 16GiB\n",
      "          width: 64 bits\n",
      "     *-bank:15\n",
      "          description: DIMM RAM\n",
      "          physical id: f\n",
      "          slot: DIMM 15\n",
      "          size: 16GiB\n",
      "          width: 64 bits\n"
     ]
    }
   ],
   "source": [
    "%%bash\n",
    "sudo lshw -C memory"
   ]
  },
  {
   "cell_type": "code",
   "execution_count": 3,
   "metadata": {},
   "outputs": [
    {
     "name": "stdout",
     "output_type": "stream",
     "text": [
      "Linux ip-10-0-0-140 5.4.0-1038-aws #40-Ubuntu SMP Fri Feb 5 23:50:40 UTC 2021 x86_64 x86_64 x86_64 GNU/Linux\n"
     ]
    }
   ],
   "source": [
    "%%bash\n",
    "uname -ar #r for kernel, a for all"
   ]
  },
  {
   "cell_type": "markdown",
   "metadata": {},
   "source": [
    "```{admonition} Observación\n",
    ":class: tip\n",
    "\n",
    "En la celda anterior se utilizó el comando de *magic* `%%bash`. Algunos comandos de *magic* los podemos utilizar también con *import*'s. Ver [ipython-magics](https://ipython.readthedocs.io/en/stable/interactive/magics.html#)\n",
    "\n",
    "```"
   ]
  },
  {
   "cell_type": "markdown",
   "metadata": {},
   "source": [
    "```{admonition} Comentario\n",
    "\n",
    "Lo más recomendable para realizar perfilamiento de códigos es realizarlos **no** en *jupyter notebooks*. A continuación se realizarán algunas mediciones en este *notebook* para propósitos didácticos pero se sugiere perfilar en el intérprete de *Python* o ejecutando un `script.py`.\n",
    "\n",
    "```"
   ]
  },
  {
   "cell_type": "markdown",
   "metadata": {},
   "source": [
    "## Perfilamiento: medición de tiempo en *Python* y *IPython*"
   ]
  },
  {
   "cell_type": "markdown",
   "metadata": {},
   "source": [
    "Lo más natural que podemos pensar en medir es el tiempo de ejecución de nuestros códigos. *Python* y *IPython* tienen herramientas para este propósito."
   ]
  },
  {
   "cell_type": "markdown",
   "metadata": {},
   "source": [
    "### Módulo: [time](https://docs.python.org/3/library/time.html#time.time)"
   ]
  },
  {
   "cell_type": "markdown",
   "metadata": {},
   "source": [
    "Imports y funciones de apoyo:"
   ]
  },
  {
   "cell_type": "code",
   "execution_count": 4,
   "metadata": {},
   "outputs": [],
   "source": [
    "import math\n",
    "import time\n",
    "\n",
    "import numpy as np\n",
    "from pytest import approx\n",
    "from scipy.integrate import quad"
   ]
  },
  {
   "cell_type": "code",
   "execution_count": 5,
   "metadata": {},
   "outputs": [],
   "source": [
    "def Rcf(f,a,b,n):\n",
    "    \"\"\"\n",
    "    Compute numerical approximation using rectangle or mid-point\n",
    "    method in an interval.\n",
    "    Nodes are generated via formula: x_i = a+(i+1/2)h_hat for\n",
    "    i=0,1,...,n-1 and h_hat=(b-a)/n\n",
    "    Args:\n",
    "    \n",
    "        f (function): function expression of integrand.\n",
    "        \n",
    "        a (float): left point of interval.\n",
    "        \n",
    "        b (float): right point of interval.\n",
    "        \n",
    "        n (float): number of subintervals.\n",
    "        \n",
    "    Returns:\n",
    "    \n",
    "        sum_res (float): numerical approximation to integral\n",
    "            of f in the interval a,b\n",
    "    \"\"\"\n",
    "    h_hat = (b-a)/n\n",
    "    nodes = [a+(i+1/2)*h_hat for i in range(0,n)]\n",
    "    sum_res = 0\n",
    "    for node in nodes:\n",
    "        sum_res = sum_res+f(node)\n",
    "    return h_hat*sum_res\n"
   ]
  },
  {
   "cell_type": "markdown",
   "metadata": {},
   "source": [
    "Objetivo:"
   ]
  },
  {
   "cell_type": "code",
   "execution_count": 6,
   "metadata": {},
   "outputs": [
    {
     "name": "stdout",
     "output_type": "stream",
     "text": [
      "0.7468241328124271\n"
     ]
    }
   ],
   "source": [
    "f = lambda x: math.exp(-x**2) #using math library\n",
    "a = 0\n",
    "b = 1\n",
    "obj, err = quad(f, a, b)\n",
    "print(obj)"
   ]
  },
  {
   "cell_type": "markdown",
   "metadata": {},
   "source": [
    "Medición de tiempo:"
   ]
  },
  {
   "cell_type": "code",
   "execution_count": 7,
   "metadata": {},
   "outputs": [
    {
     "name": "stdout",
     "output_type": "stream",
     "text": [
      "Rcf tomó 0.39637255668640137 segundos\n"
     ]
    }
   ],
   "source": [
    "n = 10**6\n",
    "start_time = time.time()\n",
    "res = Rcf(f,a,b,n)\n",
    "end_time = time.time()\n",
    "secs = end_time-start_time\n",
    "print(\"Rcf tomó\",secs,\"segundos\" )"
   ]
  },
  {
   "cell_type": "markdown",
   "metadata": {},
   "source": [
    "Prueba que se resuelve correctamente el problema:"
   ]
  },
  {
   "cell_type": "code",
   "execution_count": 8,
   "metadata": {},
   "outputs": [
    {
     "name": "stdout",
     "output_type": "stream",
     "text": [
      "True\n"
     ]
    }
   ],
   "source": [
    "print(res == approx(obj))"
   ]
  },
  {
   "cell_type": "markdown",
   "metadata": {},
   "source": [
    "### Comando de *magic*: [%time](https://ipython.readthedocs.io/en/stable/interactive/magics.html#magic-time)"
   ]
  },
  {
   "cell_type": "markdown",
   "metadata": {},
   "source": [
    "Nos regresa las mediciones siguientes:\n",
    "\n",
    "* `CPU times` que contiene:\n",
    "\n",
    "    * `user`: mide la cantidad de tiempo de los *statements* que la CPU gastó para funciones que no están relacionadas con el *kernel* del sistema.\n",
    "    \n",
    "    * `sys`: mide la cantidad de tiempo de los *statements* que la CPU gastó en funciones a nivel de kernel del sistema.\n",
    "    \n",
    "    * `total`: suma entre el `user` y `sys` para todos **todos los *cores***. \n",
    "    \n",
    "* `Wall time`: mide el *wall clock* o *elapsed time* que se refiere al tiempo desde que inicia la ejecución de los *statements* hasta su finalización.\n",
    "\n",
    "* `Out`: resultado.\n",
    "\n"
   ]
  },
  {
   "cell_type": "code",
   "execution_count": 9,
   "metadata": {},
   "outputs": [
    {
     "name": "stdout",
     "output_type": "stream",
     "text": [
      "CPU times: user 365 ms, sys: 20.4 ms, total: 386 ms\n",
      "Wall time: 385 ms\n"
     ]
    },
    {
     "data": {
      "text/plain": [
       "0.7468241328124773"
      ]
     },
     "execution_count": 9,
     "metadata": {},
     "output_type": "execute_result"
    }
   ],
   "source": [
    "%time Rcf(f,a, b,n)"
   ]
  },
  {
   "cell_type": "markdown",
   "metadata": {},
   "source": [
    "```{admonition} Comentarios\n",
    "\n",
    "* Para mediciones de tiempos que involucran cómputo en paralelo es posible que `total` exceda a `Wall time` por una diferencia notable pues es la suma de tiempos para todos los *cores*.\n",
    "\n",
    "* Recuérdese que algunos ejemplos de funciones relacionadas con el *kernel* del sistema es el alojamiento, lectura y escritura de variables en memoria, las relacionadas con el I/O de disco o *network*.\n",
    "\n",
    "* La diferencia entre `total` y `Wall time` da una idea de la cantidad de tiempo que se ocupó el sistema en la ejecución de *statements* que no involucran `user` ni a `sys` (por ejemplo un *statement* del tipo `sleep`) o en tareas no relacionadas con los *statements* medidos (por ejemplo si en el momento de la medición se estaban corriendo otros procesos).\n",
    "\n",
    "```"
   ]
  },
  {
   "cell_type": "markdown",
   "metadata": {},
   "source": [
    "Al medir tiempos de ejecución, **siempre** hay variación en la medición por lo que se recomienda realizar las mediciones un número repetido de veces. Para este caso *Timeit* nos ayuda. "
   ]
  },
  {
   "cell_type": "markdown",
   "metadata": {},
   "source": [
    "### [Timeit](https://docs.python.org/3/library/timeit.html)"
   ]
  },
  {
   "cell_type": "markdown",
   "metadata": {},
   "source": [
    "Se ejecuta desde la línea de comandos, con el comando de *magic* [%timeit](https://ipython.readthedocs.io/en/stable/interactive/magics.html#magic-timeit) o realizando `import`."
   ]
  },
  {
   "cell_type": "markdown",
   "metadata": {},
   "source": [
    "A continuación se mide el tiempo de ejecución para la función `Rcf`. Se promedian los tiempos de $n=5$ ejecuciones y se calcula su desviación estándar. Se reptite lo anterior $r=10$ veces y se reporta el mejor resultado. "
   ]
  },
  {
   "cell_type": "code",
   "execution_count": 10,
   "metadata": {},
   "outputs": [
    {
     "name": "stdout",
     "output_type": "stream",
     "text": [
      "373 ms ± 1.91 ms per loop (mean ± std. dev. of 10 runs, 5 loops each)\n"
     ]
    }
   ],
   "source": [
    "%timeit -n 5 -r 10 Rcf(f,a, b,n)"
   ]
  },
  {
   "cell_type": "markdown",
   "metadata": {},
   "source": [
    "```{admonition} Observación\n",
    ":class: tip\n",
    "\n",
    "$ms$ es milisecond, $\\mu s$ es microsecond y $ns$ es nanosecond.\n",
    "\n",
    "```"
   ]
  },
  {
   "cell_type": "markdown",
   "metadata": {},
   "source": [
    "```{admonition} Comentarios\n",
    "\n",
    "* `%timeit` se recomienda usar para secciones de código pequeñas. Si se observa una variación en las mediciones de tiempo entre distintas repeticiones entonces hay que realizar más repeticiones hasta tener un resultado estable.\n",
    "\n",
    "* `%timeit` desabilita temporalmente el *garbage collector* de *Python* (esto es, no habrá desalojamiento en memoria de objetos de Python que no se utilicen). Si el *garbage collector* es invocado en tus *statements*, esto puede ser una razón de posibles diferencias que se obtengan en las mediciones de tiempo.\n",
    "\n",
    "* Para su uso con un `import` ver [timeit](https://docs.python.org/3/library/timeit.html) y [how-to-use-timeit-module](https://stackoverflow.com/questions/8220801/how-to-use-timeit-module).\n",
    "\n",
    "\n",
    "```"
   ]
  },
  {
   "cell_type": "markdown",
   "metadata": {},
   "source": [
    "```{admonition} Ejercicio\n",
    ":class: tip\n",
    "\n",
    "Implementar la regla de Simpson compuesta para aproximar la misma integral y medir los tiempos de ejecución con un mismo número de subintervalos. Revisar que se está aproximando correctamente el valor numérico con `quad`.\n",
    "\n",
    "```"
   ]
  },
  {
   "cell_type": "markdown",
   "metadata": {},
   "source": [
    "## Perfilamiento: medición de uso de CPU en *Python*"
   ]
  },
  {
   "cell_type": "markdown",
   "metadata": {},
   "source": [
    "### [cProfile](https://docs.python.org/3/library/profile.html) "
   ]
  },
  {
   "cell_type": "markdown",
   "metadata": {},
   "source": [
    "*cProfile* está en la *standard-library* de Python como *built-in*. Se utiliza con la implementación *CPython* de *Python* para medir el tiempo de ejecución de cada función en el programa. Se ejecuta desde la línea de comandos, con un comando de *magic* o realizando `import`."
   ]
  },
  {
   "cell_type": "code",
   "execution_count": 11,
   "metadata": {},
   "outputs": [],
   "source": [
    "import cProfile"
   ]
  },
  {
   "cell_type": "code",
   "execution_count": 12,
   "metadata": {
    "tags": [
     "output_scroll"
    ]
   },
   "outputs": [
    {
     "name": "stdout",
     "output_type": "stream",
     "text": [
      "         2000047 function calls in 3.007 seconds\n",
      "\n",
      "   Ordered by: cumulative time\n",
      "\n",
      "   ncalls  tottime  percall  cumtime  percall filename:lineno(function)\n",
      "        2    0.000    0.000    3.006    1.503 interactiveshell.py:3396(run_code)\n",
      "        2    0.000    0.000    3.006    1.503 {built-in method builtins.exec}\n",
      "        1    0.020    0.020    3.006    3.006 <ipython-input-12-ad50f78947e3>:4(<module>)\n",
      "        1    0.749    0.749    2.986    2.986 <ipython-input-5-303d3a3bb088>:1(Rcf)\n",
      "  1000000    1.443    0.000    2.101    0.000 <ipython-input-6-e098c9ed7b86>:1(<lambda>)\n",
      "  1000000    0.658    0.000    0.658    0.000 {built-in method math.exp}\n",
      "        1    0.136    0.136    0.136    0.136 <ipython-input-5-303d3a3bb088>:23(<listcomp>)\n",
      "        2    0.000    0.000    0.000    0.000 codeop.py:140(__call__)\n",
      "        2    0.000    0.000    0.000    0.000 {built-in method builtins.compile}\n",
      "        2    0.000    0.000    0.000    0.000 contextlib.py:238(helper)\n",
      "        2    0.000    0.000    0.000    0.000 contextlib.py:82(__init__)\n",
      "        2    0.000    0.000    0.000    0.000 hooks.py:103(__call__)\n",
      "        2    0.000    0.000    0.000    0.000 traitlets.py:564(__get__)\n",
      "        1    0.000    0.000    0.000    0.000 <ipython-input-12-ad50f78947e3>:5(<module>)\n",
      "        4    0.000    0.000    0.000    0.000 {built-in method builtins.next}\n",
      "        2    0.000    0.000    0.000    0.000 contextlib.py:108(__enter__)\n",
      "        2    0.000    0.000    0.000    0.000 contextlib.py:117(__exit__)\n",
      "        2    0.000    0.000    0.000    0.000 ipstruct.py:125(__getattr__)\n",
      "        4    0.000    0.000    0.000    0.000 {built-in method builtins.getattr}\n",
      "        2    0.000    0.000    0.000    0.000 traitlets.py:533(get)\n",
      "        4    0.000    0.000    0.000    0.000 compilerop.py:166(extra_flags)\n",
      "        2    0.000    0.000    0.000    0.000 interactiveshell.py:3334(compare)\n",
      "        2    0.000    0.000    0.000    0.000 interactiveshell.py:1278(user_global_ns)\n",
      "        2    0.000    0.000    0.000    0.000 hooks.py:168(pre_run_code_hook)\n",
      "        1    0.000    0.000    0.000    0.000 {method 'disable' of '_lsprof.Profiler' objects}\n",
      "\n",
      "\n"
     ]
    }
   ],
   "source": [
    "n=10**6\n",
    "cprof = cProfile.Profile()\n",
    "cprof.enable()\n",
    "res = Rcf(f,a,b,n)\n",
    "cprof.disable()\n",
    "cprof.print_stats(sort='cumtime')"
   ]
  },
  {
   "cell_type": "markdown",
   "metadata": {},
   "source": [
    "El *output* de *cProfile* muestra:\n",
    "\n",
    "* El tiempo total de ejecución, el cual incluye el tiempo del bloque de código que estamos midiendo y el overhead al usar *cProfile*. Por esta razón se tiene un mayor tiempo de ejecución que con las mediciones de tiempo anteriores.\n",
    "\n",
    "* La columna `ncalls` que como el nombre indica, muestra el número de veces que se llamó a cada función. En este caso las funciones `lambda` y `math.exp` son las que se llaman un mayor número de veces: $n=10^6$ veces. \n",
    "\n",
    "* La columna `tottime` muestra el tiempo que tardaron estas funciones en ejecutarse (sin llamar a otras funciones).\n",
    "\n",
    "* La columna `percall` es el cociente entre `tottime` y `ncalls`.\n",
    "\n",
    "* La columna `cumtime` contiene el tiempo gastado en la función y en las demás que llama. Por ejemplo la función `Rcf` llama a `listcomp` por lo que es natural que `Rcf` esté más arriba en el *output* ordenado de *cProfile*. Esto también ocurre con `lambda` y `math.exp` pues la primera llama a la segunda.\n",
    "\n",
    "* La columna de `percall` es un cociente entre la columna `cumtime` y el conteo del número de veces que se llamaron a funciones primitivas o también nombradas *built in functions*.\n",
    "\n",
    "* La última columna indica información de la función y la línea en la que se encuentra dentro del código. Por ejemplo para el caso de `listcomp` sale la línea 23 y si se va a la celda en donde se definió `Rcf` corresponde tal línea al llamado `nodes=[a+(i+1/2)*h_hat for i in range(0,n)]`. \n"
   ]
  },
  {
   "cell_type": "markdown",
   "metadata": {},
   "source": [
    "````{admonition} Comentarios\n",
    "\n",
    "* El comando de *magic* para ejecutar *cProfile* en una celda del *jupyter notebook* es: `%prun -s cumulative Rcf(f,a, b,n)`\n",
    "\n",
    "* *cProfile* puede ejecutarse desde la línea de comando con: `python3 -m cProfile -s cumulative Rcf.py` creando `Rcf.py` por ejemplo con:\n",
    "\n",
    "\n",
    "```python\n",
    "%%file Rcf.py\n",
    "import math\n",
    "\n",
    "from pytest import approx\n",
    "from scipy.integrate import quad\n",
    "\n",
    "def Rcf(f,a,b,n):\n",
    "    \"\"\"\n",
    "    Compute numerical approximation using rectangle or mid-point\n",
    "    method in an interval.\n",
    "    Nodes are generated via formula: x_i = a+(i+1/2)h_hat for\n",
    "    i=0,1,...,n-1 and h_hat=(b-a)/n\n",
    "    Args:\n",
    "    \n",
    "        f (function): function expression of integrand.\n",
    "        \n",
    "        a (float): left point of interval.\n",
    "        \n",
    "        b (float): right point of interval.\n",
    "        \n",
    "        n (float): number of subintervals.\n",
    "        \n",
    "    Returns:\n",
    "    \n",
    "        sum_res (float): numerical approximation to integral\n",
    "            of f in the interval a,b\n",
    "    \"\"\"\n",
    "    h_hat=(b-a)/n\n",
    "    nodes=[a+(i+1/2)*h_hat for i in range(0,n)]\n",
    "    sum_res=0\n",
    "    for node in nodes:\n",
    "        sum_res=sum_res+f(node)\n",
    "    return h_hat*sum_res\n",
    "\n",
    "if __name__ == \"__main__\":\n",
    "    a=0\n",
    "    b=1\n",
    "    f=lambda x: math.exp(-x**2)\n",
    "    obj, err = quad(f, a, b)\n",
    "    print(\"objetivo: {:0.6e}\".format(obj))\n",
    "    n=10**6\n",
    "    res=Rcf(f,a,b,n)\n",
    "    print(\"aproximación: {:0.6e}\".format(res))\n",
    "    print(res == approx(obj))\n",
    "```\n",
    "\n",
    "La flag `-s` con la ejecución vía línea de comando, indica que se ordene el resultado por el tiempo acumulado dentro de cada función.\n",
    "\n",
    "\n",
    "````"
   ]
  },
  {
   "cell_type": "markdown",
   "metadata": {},
   "source": [
    "El *output* de *cProfile* no es muy flexible por lo que tenemos el módulo `pstats` con la clase `Stats` para manipular los resultados dentro de *Python*. Por ejemplo para ordenar por *cumulative time* e imprimir sólo las 10 líneas más significativas se puede realizar:"
   ]
  },
  {
   "cell_type": "markdown",
   "metadata": {},
   "source": [
    "```{margin}\n",
    "\n",
    "Creamos el archivo `Rcf_stats` para ser usado por `pstats`.\n",
    "\n",
    "```"
   ]
  },
  {
   "cell_type": "code",
   "execution_count": 13,
   "metadata": {},
   "outputs": [],
   "source": [
    "cprof.dump_stats(\"Rcf_stats\")"
   ]
  },
  {
   "cell_type": "code",
   "execution_count": 14,
   "metadata": {},
   "outputs": [],
   "source": [
    "import pstats"
   ]
  },
  {
   "cell_type": "code",
   "execution_count": 15,
   "metadata": {},
   "outputs": [
    {
     "name": "stdout",
     "output_type": "stream",
     "text": [
      "Tue Apr 13 02:10:42 2021    Rcf_stats\n",
      "\n",
      "         2000047 function calls in 3.007 seconds\n",
      "\n",
      "   Ordered by: cumulative time\n",
      "   List reduced from 25 to 10 due to restriction <10>\n",
      "\n",
      "   ncalls  tottime  percall  cumtime  percall filename:lineno(function)\n",
      "        2    0.000    0.000    3.006    1.503 /home/ubuntu/.local/lib/python3.8/site-packages/IPython/core/interactiveshell.py:3396(run_code)\n",
      "        2    0.000    0.000    3.006    1.503 {built-in method builtins.exec}\n",
      "        1    0.020    0.020    3.006    3.006 <ipython-input-12-ad50f78947e3>:4(<module>)\n",
      "        1    0.749    0.749    2.986    2.986 <ipython-input-5-303d3a3bb088>:1(Rcf)\n",
      "  1000000    1.443    0.000    2.101    0.000 <ipython-input-6-e098c9ed7b86>:1(<lambda>)\n",
      "  1000000    0.658    0.000    0.658    0.000 {built-in method math.exp}\n",
      "        1    0.136    0.136    0.136    0.136 <ipython-input-5-303d3a3bb088>:23(<listcomp>)\n",
      "        2    0.000    0.000    0.000    0.000 /usr/lib/python3.8/codeop.py:140(__call__)\n",
      "        2    0.000    0.000    0.000    0.000 {built-in method builtins.compile}\n",
      "        2    0.000    0.000    0.000    0.000 /usr/lib/python3.8/contextlib.py:238(helper)\n",
      "\n",
      "\n",
      "<pstats.Stats object at 0x7fe260691ca0>\n"
     ]
    }
   ],
   "source": [
    "p_rcf_stats = pstats.Stats(\"Rcf_stats\")\n",
    "print(p_rcf_stats.sort_stats(\"cumulative\").print_stats(10))"
   ]
  },
  {
   "cell_type": "markdown",
   "metadata": {},
   "source": [
    "Si queremos filtrar los resultados para los que hagan *match* con las palabras `lambda` o `listcomp` o `math` tomadas como expresiones regulares en la columna `filename:lineno(function)`:"
   ]
  },
  {
   "cell_type": "code",
   "execution_count": 16,
   "metadata": {},
   "outputs": [
    {
     "name": "stdout",
     "output_type": "stream",
     "text": [
      "Tue Apr 13 02:10:42 2021    Rcf_stats\n",
      "\n",
      "         2000047 function calls in 3.007 seconds\n",
      "\n",
      "   Ordered by: cumulative time\n",
      "   List reduced from 25 to 3 due to restriction <'lambda|listcomp|math'>\n",
      "\n",
      "   ncalls  tottime  percall  cumtime  percall filename:lineno(function)\n",
      "  1000000    1.443    0.000    2.101    0.000 <ipython-input-6-e098c9ed7b86>:1(<lambda>)\n",
      "  1000000    0.658    0.000    0.658    0.000 {built-in method math.exp}\n",
      "        1    0.136    0.136    0.136    0.136 <ipython-input-5-303d3a3bb088>:23(<listcomp>)\n",
      "\n",
      "\n",
      "<pstats.Stats object at 0x7fe260691ca0>\n"
     ]
    }
   ],
   "source": [
    "print(p_rcf_stats.sort_stats(\"cumulative\").print_stats(\"lambda|listcomp|math\"))"
   ]
  },
  {
   "cell_type": "markdown",
   "metadata": {},
   "source": [
    "Y podemos usar `strip_dirs` para eliminar el nombre de la ruta para mayor legibilidad:"
   ]
  },
  {
   "cell_type": "code",
   "execution_count": 17,
   "metadata": {},
   "outputs": [
    {
     "name": "stdout",
     "output_type": "stream",
     "text": [
      "Tue Apr 13 02:10:42 2021    Rcf_stats\n",
      "\n",
      "         2000047 function calls in 3.007 seconds\n",
      "\n",
      "   Ordered by: cumulative time\n",
      "   List reduced from 25 to 3 due to restriction <'lambda|listcomp|math'>\n",
      "\n",
      "   ncalls  tottime  percall  cumtime  percall filename:lineno(function)\n",
      "  1000000    1.443    0.000    2.101    0.000 <ipython-input-6-e098c9ed7b86>:1(<lambda>)\n",
      "  1000000    0.658    0.000    0.658    0.000 {built-in method math.exp}\n",
      "        1    0.136    0.136    0.136    0.136 <ipython-input-5-303d3a3bb088>:23(<listcomp>)\n",
      "\n",
      "\n",
      "<pstats.Stats object at 0x7fe260691ca0>\n"
     ]
    }
   ],
   "source": [
    "print(p_rcf_stats.strip_dirs().sort_stats(\"cumulative\").print_stats(\"lambda|listcomp|math\"))"
   ]
  },
  {
   "cell_type": "markdown",
   "metadata": {},
   "source": [
    "El número de veces que se llamaron a funciones primitivas o *built in* es:"
   ]
  },
  {
   "cell_type": "code",
   "execution_count": 18,
   "metadata": {},
   "outputs": [
    {
     "name": "stdout",
     "output_type": "stream",
     "text": [
      "2000047\n"
     ]
    }
   ],
   "source": [
    "print(p_rcf_stats.prim_calls)"
   ]
  },
  {
   "cell_type": "markdown",
   "metadata": {},
   "source": [
    "También `pstats` nos permite obtener qué funciones llaman a otras o son llamadas:"
   ]
  },
  {
   "cell_type": "code",
   "execution_count": 19,
   "metadata": {
    "tags": [
     "output_scroll"
    ]
   },
   "outputs": [
    {
     "name": "stdout",
     "output_type": "stream",
     "text": [
      "   Ordered by: cumulative time\n",
      "\n",
      "Function                                          was called by...\n",
      "                                                      ncalls  tottime  cumtime\n",
      "interactiveshell.py:3396(run_code)                <- \n",
      "{built-in method builtins.exec}                   <-       2    0.000    3.006  interactiveshell.py:3396(run_code)\n",
      "<ipython-input-12-ad50f78947e3>:4(<module>)       <-       1    0.020    3.006  {built-in method builtins.exec}\n",
      "<ipython-input-5-303d3a3bb088>:1(Rcf)             <-       1    0.749    2.986  <ipython-input-12-ad50f78947e3>:4(<module>)\n",
      "<ipython-input-6-e098c9ed7b86>:1(<lambda>)        <- 1000000    1.443    2.101  <ipython-input-5-303d3a3bb088>:1(Rcf)\n",
      "{built-in method math.exp}                        <- 1000000    0.658    0.658  <ipython-input-6-e098c9ed7b86>:1(<lambda>)\n",
      "<ipython-input-5-303d3a3bb088>:23(<listcomp>)     <-       1    0.136    0.136  <ipython-input-5-303d3a3bb088>:1(Rcf)\n",
      "codeop.py:140(__call__)                           <- \n",
      "{built-in method builtins.compile}                <-       2    0.000    0.000  codeop.py:140(__call__)\n",
      "contextlib.py:238(helper)                         <- \n",
      "contextlib.py:82(__init__)                        <-       2    0.000    0.000  contextlib.py:238(helper)\n",
      "hooks.py:103(__call__)                            <-       2    0.000    0.000  interactiveshell.py:3396(run_code)\n",
      "traitlets.py:564(__get__)                         <- \n",
      "<ipython-input-12-ad50f78947e3>:5(<module>)       <-       1    0.000    0.000  {built-in method builtins.exec}\n",
      "{built-in method builtins.next}                   <-       2    0.000    0.000  contextlib.py:108(__enter__)\n",
      "                                                           2    0.000    0.000  contextlib.py:117(__exit__)\n",
      "contextlib.py:108(__enter__)                      <- \n",
      "contextlib.py:117(__exit__)                       <- \n",
      "ipstruct.py:125(__getattr__)                      <-       2    0.000    0.000  interactiveshell.py:3396(run_code)\n",
      "{built-in method builtins.getattr}                <-       2    0.000    0.000  contextlib.py:82(__init__)\n",
      "traitlets.py:533(get)                             <-       2    0.000    0.000  traitlets.py:564(__get__)\n",
      "compilerop.py:166(extra_flags)                    <-       4    0.000    0.000  {built-in method builtins.next}\n",
      "interactiveshell.py:3334(compare)                 <- \n",
      "interactiveshell.py:1278(user_global_ns)          <-       2    0.000    0.000  interactiveshell.py:3396(run_code)\n",
      "hooks.py:168(pre_run_code_hook)                   <-       2    0.000    0.000  hooks.py:103(__call__)\n",
      "{method 'disable' of '_lsprof.Profiler' objects}  <-       1    0.000    0.000  <ipython-input-12-ad50f78947e3>:5(<module>)\n",
      "\n",
      "\n"
     ]
    },
    {
     "data": {
      "text/plain": [
       "<pstats.Stats at 0x7fe260691ca0>"
      ]
     },
     "execution_count": 19,
     "metadata": {},
     "output_type": "execute_result"
    }
   ],
   "source": [
    "p_rcf_stats.strip_dirs().sort_stats(\"cumulative\").print_callers()"
   ]
  },
  {
   "cell_type": "code",
   "execution_count": 20,
   "metadata": {
    "tags": [
     "output_scroll"
    ]
   },
   "outputs": [
    {
     "name": "stdout",
     "output_type": "stream",
     "text": [
      "   Ordered by: cumulative time\n",
      "\n",
      "Function                                          called...\n",
      "                                                      ncalls  tottime  cumtime\n",
      "interactiveshell.py:3396(run_code)                ->       2    0.000    0.000  hooks.py:103(__call__)\n",
      "                                                           2    0.000    0.000  interactiveshell.py:1278(user_global_ns)\n",
      "                                                           2    0.000    0.000  ipstruct.py:125(__getattr__)\n",
      "                                                           2    0.000    3.006  {built-in method builtins.exec}\n",
      "{built-in method builtins.exec}                   ->       1    0.020    3.006  <ipython-input-12-ad50f78947e3>:4(<module>)\n",
      "                                                           1    0.000    0.000  <ipython-input-12-ad50f78947e3>:5(<module>)\n",
      "<ipython-input-12-ad50f78947e3>:4(<module>)       ->       1    0.749    2.986  <ipython-input-5-303d3a3bb088>:1(Rcf)\n",
      "<ipython-input-5-303d3a3bb088>:1(Rcf)             ->       1    0.136    0.136  <ipython-input-5-303d3a3bb088>:23(<listcomp>)\n",
      "                                                     1000000    1.443    2.101  <ipython-input-6-e098c9ed7b86>:1(<lambda>)\n",
      "<ipython-input-6-e098c9ed7b86>:1(<lambda>)        -> 1000000    0.658    0.658  {built-in method math.exp}\n",
      "{built-in method math.exp}                        -> \n",
      "<ipython-input-5-303d3a3bb088>:23(<listcomp>)     -> \n",
      "codeop.py:140(__call__)                           ->       2    0.000    0.000  {built-in method builtins.compile}\n",
      "{built-in method builtins.compile}                -> \n",
      "contextlib.py:238(helper)                         ->       2    0.000    0.000  contextlib.py:82(__init__)\n",
      "contextlib.py:82(__init__)                        ->       2    0.000    0.000  {built-in method builtins.getattr}\n",
      "hooks.py:103(__call__)                            ->       2    0.000    0.000  hooks.py:168(pre_run_code_hook)\n",
      "traitlets.py:564(__get__)                         ->       2    0.000    0.000  traitlets.py:533(get)\n",
      "<ipython-input-12-ad50f78947e3>:5(<module>)       ->       1    0.000    0.000  {method 'disable' of '_lsprof.Profiler' objects}\n",
      "{built-in method builtins.next}                   ->       4    0.000    0.000  compilerop.py:166(extra_flags)\n",
      "contextlib.py:108(__enter__)                      ->       2    0.000    0.000  {built-in method builtins.next}\n",
      "contextlib.py:117(__exit__)                       ->       2    0.000    0.000  {built-in method builtins.next}\n",
      "ipstruct.py:125(__getattr__)                      -> \n",
      "{built-in method builtins.getattr}                -> \n",
      "traitlets.py:533(get)                             -> \n",
      "compilerop.py:166(extra_flags)                    -> \n",
      "interactiveshell.py:3334(compare)                 -> \n",
      "interactiveshell.py:1278(user_global_ns)          -> \n",
      "hooks.py:168(pre_run_code_hook)                   -> \n",
      "{method 'disable' of '_lsprof.Profiler' objects}  -> \n",
      "\n",
      "\n"
     ]
    },
    {
     "data": {
      "text/plain": [
       "<pstats.Stats at 0x7fe260691ca0>"
      ]
     },
     "execution_count": 20,
     "metadata": {},
     "output_type": "execute_result"
    }
   ],
   "source": [
    "p_rcf_stats.strip_dirs().sort_stats(\"cumulative\").print_callees()"
   ]
  },
  {
   "cell_type": "markdown",
   "metadata": {},
   "source": [
    "Análogamente podemos establecer los filtros usados en `print_stats`:"
   ]
  },
  {
   "cell_type": "code",
   "execution_count": 21,
   "metadata": {},
   "outputs": [
    {
     "name": "stdout",
     "output_type": "stream",
     "text": [
      "   Ordered by: cumulative time\n",
      "   List reduced from 25 to 10 due to restriction <10>\n",
      "\n",
      "Function                                       was called by...\n",
      "                                                   ncalls  tottime  cumtime\n",
      "interactiveshell.py:3396(run_code)             <- \n",
      "{built-in method builtins.exec}                <-       2    0.000    3.006  interactiveshell.py:3396(run_code)\n",
      "<ipython-input-12-ad50f78947e3>:4(<module>)    <-       1    0.020    3.006  {built-in method builtins.exec}\n",
      "<ipython-input-5-303d3a3bb088>:1(Rcf)          <-       1    0.749    2.986  <ipython-input-12-ad50f78947e3>:4(<module>)\n",
      "<ipython-input-6-e098c9ed7b86>:1(<lambda>)     <- 1000000    1.443    2.101  <ipython-input-5-303d3a3bb088>:1(Rcf)\n",
      "{built-in method math.exp}                     <- 1000000    0.658    0.658  <ipython-input-6-e098c9ed7b86>:1(<lambda>)\n",
      "<ipython-input-5-303d3a3bb088>:23(<listcomp>)  <-       1    0.136    0.136  <ipython-input-5-303d3a3bb088>:1(Rcf)\n",
      "codeop.py:140(__call__)                        <- \n",
      "{built-in method builtins.compile}             <-       2    0.000    0.000  codeop.py:140(__call__)\n",
      "contextlib.py:238(helper)                      <- \n",
      "\n",
      "\n"
     ]
    },
    {
     "data": {
      "text/plain": [
       "<pstats.Stats at 0x7fe260691ca0>"
      ]
     },
     "execution_count": 21,
     "metadata": {},
     "output_type": "execute_result"
    }
   ],
   "source": [
    "p_rcf_stats.strip_dirs().sort_stats(\"cumulative\").print_callers(10)"
   ]
  },
  {
   "cell_type": "code",
   "execution_count": 22,
   "metadata": {},
   "outputs": [
    {
     "name": "stdout",
     "output_type": "stream",
     "text": [
      "   Ordered by: cumulative time\n",
      "   List reduced from 25 to 2 due to restriction <'Rcf|lambda'>\n",
      "\n",
      "Function                                    called...\n",
      "                                                ncalls  tottime  cumtime\n",
      "<ipython-input-5-303d3a3bb088>:1(Rcf)       ->       1    0.136    0.136  <ipython-input-5-303d3a3bb088>:23(<listcomp>)\n",
      "                                               1000000    1.443    2.101  <ipython-input-6-e098c9ed7b86>:1(<lambda>)\n",
      "<ipython-input-6-e098c9ed7b86>:1(<lambda>)  -> 1000000    0.658    0.658  {built-in method math.exp}\n",
      "\n",
      "\n"
     ]
    },
    {
     "data": {
      "text/plain": [
       "<pstats.Stats at 0x7fe260691ca0>"
      ]
     },
     "execution_count": 22,
     "metadata": {},
     "output_type": "execute_result"
    }
   ],
   "source": [
    "p_rcf_stats.strip_dirs().sort_stats(\"cumulative\").print_callees(\"Rcf|lambda\")"
   ]
  },
  {
   "cell_type": "markdown",
   "metadata": {},
   "source": [
    "```{admonition} Comentario\n",
    "\n",
    "*cProfile* sólo mide tiempos para llamadas a funciones de forma explícita no métodos que son llamados de forma interna como en el siguiente ejemplo en el que se hace una extracción de la primer columna de un *NumPy* *array*.\n",
    "\n",
    "```"
   ]
  },
  {
   "cell_type": "code",
   "execution_count": 23,
   "metadata": {},
   "outputs": [],
   "source": [
    "def myfunc():\n",
    "    A = np.array([[1, 2, 0],\n",
    "                  [3, 4, 5]], dtype=float)\n",
    "    a_1 = A[:, 0]\n",
    "    return a_1"
   ]
  },
  {
   "cell_type": "code",
   "execution_count": 24,
   "metadata": {},
   "outputs": [
    {
     "name": "stdout",
     "output_type": "stream",
     "text": [
      " "
     ]
    },
    {
     "data": {
      "text/plain": [
       "         5 function calls in 0.000 seconds\n",
       "\n",
       "   Ordered by: cumulative time\n",
       "\n",
       "   ncalls  tottime  percall  cumtime  percall filename:lineno(function)\n",
       "        1    0.000    0.000    0.000    0.000 {built-in method builtins.exec}\n",
       "        1    0.000    0.000    0.000    0.000 <string>:1(<module>)\n",
       "        1    0.000    0.000    0.000    0.000 <ipython-input-23-665771079aea>:1(myfunc)\n",
       "        1    0.000    0.000    0.000    0.000 {built-in method numpy.array}\n",
       "        1    0.000    0.000    0.000    0.000 {method 'disable' of '_lsprof.Profiler' objects}"
      ]
     },
     "metadata": {},
     "output_type": "display_data"
    }
   ],
   "source": [
    "%prun -s cumulative myfunc()"
   ]
  },
  {
   "cell_type": "markdown",
   "metadata": {},
   "source": [
    "```{admonition} Comentario\n",
    "\n",
    "*cProfile* puede usarse en compañía del paquete [SnakeViz](https://jiffyclub.github.io/snakeviz/) para visualizar los resultados.\n",
    "\n",
    "```"
   ]
  },
  {
   "cell_type": "markdown",
   "metadata": {},
   "source": [
    "```{admonition} Ejercicio\n",
    ":class: tip\n",
    "\n",
    "Perfilar la regla de Simpson que se implementó en el primer ejercicio con `cProfile` utilizando su `import` y  el paquete `pstats`.\n",
    "\n",
    "\n",
    "```"
   ]
  },
  {
   "cell_type": "markdown",
   "metadata": {},
   "source": [
    "### [line_profiler](https://github.com/pyutils/line_profilerhttps://github.com/pyutils/line_profiler)"
   ]
  },
  {
   "cell_type": "markdown",
   "metadata": {},
   "source": [
    "Nos ayuda a perfilar el código línea por línea. \n",
    "\n",
    "Una buena idea es perfilar el código primero con *cProfile* para identificar aquellas funciones que gastan un mayor tiempo de ejecución y posteriormente perfilarlas con *line_profiler*."
   ]
  },
  {
   "cell_type": "markdown",
   "metadata": {},
   "source": [
    "Se ejecuta desde la línea de comandos, con un comando de magic o realizando `import`."
   ]
  },
  {
   "cell_type": "code",
   "execution_count": 25,
   "metadata": {},
   "outputs": [],
   "source": [
    "import line_profiler"
   ]
  },
  {
   "cell_type": "code",
   "execution_count": 26,
   "metadata": {},
   "outputs": [
    {
     "name": "stdout",
     "output_type": "stream",
     "text": [
      "0.7468241328124773\n"
     ]
    }
   ],
   "source": [
    "line_prof = line_profiler.LineProfiler()\n",
    "n = 10**6\n",
    "print(line_prof(Rcf)(f,a,b,n))"
   ]
  },
  {
   "cell_type": "code",
   "execution_count": 27,
   "metadata": {
    "tags": [
     "output_scroll"
    ]
   },
   "outputs": [
    {
     "name": "stdout",
     "output_type": "stream",
     "text": [
      "Timer unit: 1e-06 s\n",
      "\n",
      "Total time: 2.9941 s\n",
      "File: <ipython-input-5-303d3a3bb088>\n",
      "Function: Rcf at line 1\n",
      "\n",
      "Line #      Hits         Time  Per Hit   % Time  Line Contents\n",
      "==============================================================\n",
      "     1                                           def Rcf(f,a,b,n):\n",
      "     2                                               \"\"\"\n",
      "     3                                               Compute numerical approximation using rectangle or mid-point\n",
      "     4                                               method in an interval.\n",
      "     5                                               Nodes are generated via formula: x_i = a+(i+1/2)h_hat for\n",
      "     6                                               i=0,1,...,n-1 and h_hat=(b-a)/n\n",
      "     7                                               Args:\n",
      "     8                                               \n",
      "     9                                                   f (function): function expression of integrand.\n",
      "    10                                                   \n",
      "    11                                                   a (float): left point of interval.\n",
      "    12                                                   \n",
      "    13                                                   b (float): right point of interval.\n",
      "    14                                                   \n",
      "    15                                                   n (float): number of subintervals.\n",
      "    16                                                   \n",
      "    17                                               Returns:\n",
      "    18                                               \n",
      "    19                                                   sum_res (float): numerical approximation to integral\n",
      "    20                                                       of f in the interval a,b\n",
      "    21                                               \"\"\"\n",
      "    22         1          3.0      3.0      0.0      h_hat=(b-a)/n\n",
      "    23         1     280240.0 280240.0      9.4      nodes=[a+(i+1/2)*h_hat for i in range(0,n)]\n",
      "    24         1          2.0      2.0      0.0      sum_res=0\n",
      "    25   1000001    1103219.0      1.1     36.8      for node in nodes:\n",
      "    26   1000000    1610638.0      1.6     53.8          sum_res=sum_res+f(node)\n",
      "    27         1          1.0      1.0      0.0      return h_hat*sum_res\n",
      "\n",
      "None\n"
     ]
    }
   ],
   "source": [
    "print(line_prof.print_stats())"
   ]
  },
  {
   "cell_type": "markdown",
   "metadata": {},
   "source": [
    "El *output* de *line_profiler* muestra:\n",
    "\n",
    "* *Line* #: el número de la línea.\n",
    "\n",
    "* *Hits*: el número de veces que la línea fue ejecutada.\n",
    "\n",
    "* *Time* el tiempo que tomó la ejecución de la línea. Las unidades en el que se mide el tiempo está en la primer línea: `Timer unit`.\n",
    "\n",
    "* *Per Hit*: el tiempo promedio que toma la ejecución de la línea una vez en `timer's units`.\n",
    "\n",
    "* *\\% Time*: el porcentaje de tiempo que toma la ejecución de la línea correspondiente al tiempo total de ejecución de la función.\n",
    "\n",
    "* *Line contents*: el código a perfilar."
   ]
  },
  {
   "cell_type": "markdown",
   "metadata": {},
   "source": [
    "```{admonition} Comentarios\n",
    "\n",
    "* Para cambiar `Timer unit` puede usarse: `line_prof.print_stats(output_unit=1e-03)`.\n",
    "\n",
    "* Con `add_function` de *line_profiler* es posible perfilar varias funciones.\n",
    "\n",
    "```"
   ]
  },
  {
   "cell_type": "markdown",
   "metadata": {},
   "source": [
    "Utilizando *generators*:"
   ]
  },
  {
   "cell_type": "code",
   "execution_count": 28,
   "metadata": {},
   "outputs": [],
   "source": [
    "def Rcf_2(f,a,b,n):\n",
    "    \"\"\"\n",
    "    Compute numerical approximation using rectangle or mid-point\n",
    "    method in an interval.\n",
    "    Nodes are generated via formula: x_i = a+(i+1/2)h_hat for\n",
    "    i=0,1,...,n-1 and h_hat=(b-a)/n\n",
    "    Args:\n",
    "    \n",
    "        f (function): function expression of integrand.\n",
    "        \n",
    "        a (float): left point of interval.\n",
    "        \n",
    "        b (float): right point of interval.\n",
    "        \n",
    "        n (float): number of subintervals.\n",
    "        \n",
    "    Returns:\n",
    "    \n",
    "        sum_res (float): numerical approximation to integral\n",
    "            of f in the interval a,b\n",
    "    \"\"\"\n",
    "    h_hat=(b-a)/n\n",
    "    nodes=(a+(i+1/2)*h_hat for i in range(0,n))\n",
    "    sum_res=0\n",
    "    for node in nodes:\n",
    "        sum_res=sum_res+f(node)\n",
    "    return h_hat*sum_res\n"
   ]
  },
  {
   "cell_type": "code",
   "execution_count": 29,
   "metadata": {},
   "outputs": [
    {
     "name": "stdout",
     "output_type": "stream",
     "text": [
      "0.7468241328124773\n"
     ]
    }
   ],
   "source": [
    "line_prof.add_function(Rcf_2)\n",
    "print(line_prof(Rcf_2)(f, a, b, n))"
   ]
  },
  {
   "cell_type": "markdown",
   "metadata": {},
   "source": [
    "Utilizando funcionalidad de *NumPy*:"
   ]
  },
  {
   "cell_type": "code",
   "execution_count": 30,
   "metadata": {},
   "outputs": [],
   "source": [
    "f_np = lambda x: np.exp(-x**2)"
   ]
  },
  {
   "cell_type": "code",
   "execution_count": 31,
   "metadata": {},
   "outputs": [],
   "source": [
    "def Rcf_3(f,a,b,n):\n",
    "    \"\"\"\n",
    "    Compute numerical approximation using rectangle or mid-point\n",
    "    method in an interval.\n",
    "    Nodes are generated via formula: x_i = a+(i+1/2)h_hat for\n",
    "    i=0,1,...,n-1 and h_hat=(b-a)/n\n",
    "    Args:\n",
    "    \n",
    "        f (function): function expression of integrand.\n",
    "        \n",
    "        a (float): left point of interval.\n",
    "        \n",
    "        b (float): right point of interval.\n",
    "        \n",
    "        n (float): number of subintervals.\n",
    "        \n",
    "    Returns:\n",
    "    \n",
    "        sum_res (float): numerical approximation to integral\n",
    "            of f in the interval a,b\n",
    "    \"\"\"\n",
    "    h_hat=(b-a)/n\n",
    "    aux_vec = np.linspace(a, b, n+1)\n",
    "    nodes= (aux_vec[:-1]+aux_vec[1:])/2\n",
    "    return h_hat*np.sum(f(nodes))\n"
   ]
  },
  {
   "cell_type": "code",
   "execution_count": 32,
   "metadata": {},
   "outputs": [
    {
     "name": "stdout",
     "output_type": "stream",
     "text": [
      "0.7468241328124576\n"
     ]
    }
   ],
   "source": [
    "line_prof.add_function(Rcf_3)\n",
    "print(line_prof(Rcf_3)(f_np, a, b, n))"
   ]
  },
  {
   "cell_type": "code",
   "execution_count": 35,
   "metadata": {
    "tags": [
     "output_scroll"
    ]
   },
   "outputs": [
    {
     "name": "stdout",
     "output_type": "stream",
     "text": [
      "Timer unit: 1e-06 s\n",
      "\n",
      "Total time: 3.15798 s\n",
      "File: <ipython-input-28-f9354d0b879d>\n",
      "Function: Rcf_2 at line 1\n",
      "\n",
      "Line #      Hits         Time  Per Hit   % Time  Line Contents\n",
      "==============================================================\n",
      "     1                                           def Rcf_2(f,a,b,n):\n",
      "     2                                               \"\"\"\n",
      "     3                                               Compute numerical approximation using rectangle or mid-point\n",
      "     4                                               method in an interval.\n",
      "     5                                               Nodes are generated via formula: x_i = a+(i+1/2)h_hat for\n",
      "     6                                               i=0,1,...,n-1 and h_hat=(b-a)/n\n",
      "     7                                               Args:\n",
      "     8                                               \n",
      "     9                                                   f (function): function expression of integrand.\n",
      "    10                                                   \n",
      "    11                                                   a (float): left point of interval.\n",
      "    12                                                   \n",
      "    13                                                   b (float): right point of interval.\n",
      "    14                                                   \n",
      "    15                                                   n (float): number of subintervals.\n",
      "    16                                                   \n",
      "    17                                               Returns:\n",
      "    18                                               \n",
      "    19                                                   sum_res (float): numerical approximation to integral\n",
      "    20                                                       of f in the interval a,b\n",
      "    21                                               \"\"\"\n",
      "    22         1          3.0      3.0      0.0      h_hat=(b-a)/n\n",
      "    23         1          5.0      5.0      0.0      nodes=(a+(i+1/2)*h_hat for i in range(0,n))\n",
      "    24         1          2.0      2.0      0.0      sum_res=0\n",
      "    25   1000001    1534155.0      1.5     48.6      for node in nodes:\n",
      "    26   1000000    1623812.0      1.6     51.4          sum_res=sum_res+f(node)\n",
      "    27         1          1.0      1.0      0.0      return h_hat*sum_res\n",
      "\n",
      "Total time: 0.028121 s\n",
      "File: <ipython-input-31-a0ac07129ea3>\n",
      "Function: Rcf_3 at line 1\n",
      "\n",
      "Line #      Hits         Time  Per Hit   % Time  Line Contents\n",
      "==============================================================\n",
      "     1                                           def Rcf_3(f,a,b,n):\n",
      "     2                                               \"\"\"\n",
      "     3                                               Compute numerical approximation using rectangle or mid-point\n",
      "     4                                               method in an interval.\n",
      "     5                                               Nodes are generated via formula: x_i = a+(i+1/2)h_hat for\n",
      "     6                                               i=0,1,...,n-1 and h_hat=(b-a)/n\n",
      "     7                                               Args:\n",
      "     8                                               \n",
      "     9                                                   f (function): function expression of integrand.\n",
      "    10                                                   \n",
      "    11                                                   a (float): left point of interval.\n",
      "    12                                                   \n",
      "    13                                                   b (float): right point of interval.\n",
      "    14                                                   \n",
      "    15                                                   n (float): number of subintervals.\n",
      "    16                                                   \n",
      "    17                                               Returns:\n",
      "    18                                               \n",
      "    19                                                   sum_res (float): numerical approximation to integral\n",
      "    20                                                       of f in the interval a,b\n",
      "    21                                               \"\"\"\n",
      "    22         1          3.0      3.0      0.0      h_hat=(b-a)/n\n",
      "    23         1       5273.0   5273.0     18.8      aux_vec = np.linspace(a, b, n+1)\n",
      "    24         1       7595.0   7595.0     27.0      nodes= (aux_vec[:-1]+aux_vec[1:])/2\n",
      "    25         1      15250.0  15250.0     54.2      return h_hat*np.sum(f(nodes))\n",
      "\n",
      "Total time: 2.9941 s\n",
      "File: <ipython-input-5-303d3a3bb088>\n",
      "Function: Rcf at line 1\n",
      "\n",
      "Line #      Hits         Time  Per Hit   % Time  Line Contents\n",
      "==============================================================\n",
      "     1                                           def Rcf(f,a,b,n):\n",
      "     2                                               \"\"\"\n",
      "     3                                               Compute numerical approximation using rectangle or mid-point\n",
      "     4                                               method in an interval.\n",
      "     5                                               Nodes are generated via formula: x_i = a+(i+1/2)h_hat for\n",
      "     6                                               i=0,1,...,n-1 and h_hat=(b-a)/n\n",
      "     7                                               Args:\n",
      "     8                                               \n",
      "     9                                                   f (function): function expression of integrand.\n",
      "    10                                                   \n",
      "    11                                                   a (float): left point of interval.\n",
      "    12                                                   \n",
      "    13                                                   b (float): right point of interval.\n",
      "    14                                                   \n",
      "    15                                                   n (float): number of subintervals.\n",
      "    16                                                   \n",
      "    17                                               Returns:\n",
      "    18                                               \n",
      "    19                                                   sum_res (float): numerical approximation to integral\n",
      "    20                                                       of f in the interval a,b\n",
      "    21                                               \"\"\"\n",
      "    22         1          3.0      3.0      0.0      h_hat=(b-a)/n\n",
      "    23         1     280240.0 280240.0      9.4      nodes=[a+(i+1/2)*h_hat for i in range(0,n)]\n",
      "    24         1          2.0      2.0      0.0      sum_res=0\n",
      "    25   1000001    1103219.0      1.1     36.8      for node in nodes:\n",
      "    26   1000000    1610638.0      1.6     53.8          sum_res=sum_res+f(node)\n",
      "    27         1          1.0      1.0      0.0      return h_hat*sum_res\n",
      "\n",
      "None\n"
     ]
    }
   ],
   "source": [
    "print(line_prof.print_stats())"
   ]
  },
  {
   "cell_type": "markdown",
   "metadata": {},
   "source": [
    "```{admonition} Comentarios\n",
    "\n",
    "* Para su uso con el comando de *magic* hay que cargarlo como una extensión de *jupyter*: `%load_ext line_profiler` y posteriormente usar: `%lprun -f Rcf Rcf(f, a, b, n)`.\n",
    "\n",
    "* Para su uso vía la línea de comandos se debe ejecutar: `kernprof -v -l <script.py>` o bien `python3 <script.py>` como se muestra a continuación. La opción `-v` es *view the results*, `-l` indica que se haga el perfilamiento línea a línea. Por *default* se escribe un archivo con extensión `.lprof` el cual puede revisarse con `python3 -m line_profiler <script.py.lprof>`\n",
    "\n",
    "```"
   ]
  },
  {
   "cell_type": "code",
   "execution_count": 36,
   "metadata": {},
   "outputs": [
    {
     "name": "stdout",
     "output_type": "stream",
     "text": [
      "Writing Rcf_line_profiler.py\n"
     ]
    }
   ],
   "source": [
    "%%file Rcf_line_profiler.py\n",
    "import math\n",
    "\n",
    "from pytest import approx\n",
    "from scipy.integrate import quad\n",
    "\n",
    "@profile #decorate the functions you want to profile with kernprof \n",
    "def Rcf(f,a,b,n):\n",
    "    \"\"\"\n",
    "    Compute numerical approximation using rectangle or mid-point\n",
    "    method in an interval.\n",
    "    Nodes are generated via formula: x_i = a+(i+1/2)h_hat for\n",
    "    i=0,1,...,n-1 and h_hat=(b-a)/n\n",
    "    Args:\n",
    "    \n",
    "        f (function): function expression of integrand.\n",
    "        \n",
    "        a (float): left point of interval.\n",
    "        \n",
    "        b (float): right point of interval.\n",
    "        \n",
    "        n (float): number of subintervals.\n",
    "        \n",
    "    Returns:\n",
    "    \n",
    "        sum_res (float): numerical approximation to integral\n",
    "            of f in the interval a,b\n",
    "    \"\"\"\n",
    "    h_hat=(b-a)/n\n",
    "    nodes=[a+(i+1/2)*h_hat for i in range(0,n)]\n",
    "    sum_res=0\n",
    "    for node in nodes:\n",
    "        sum_res=sum_res+f(node)\n",
    "    return h_hat*sum_res\n",
    "\n",
    "if __name__ == \"__main__\":\n",
    "    a=0\n",
    "    b=1\n",
    "    f=lambda x: math.exp(-x**2)\n",
    "    obj, err = quad(f, a, b)\n",
    "    print(\"objetivo: {:0.6e}\".format(obj))\n",
    "    n=10**6\n",
    "    res=Rcf(f,a,b,n)\n",
    "    print(\"aproximación: {:0.6e}\".format(res))\n",
    "    print(res == approx(obj))"
   ]
  },
  {
   "cell_type": "code",
   "execution_count": 37,
   "metadata": {
    "tags": [
     "output_scroll"
    ]
   },
   "outputs": [
    {
     "name": "stdout",
     "output_type": "stream",
     "text": [
      "objetivo: 7.468241e-01\n",
      "aproximación: 7.468241e-01\n",
      "True\n",
      "Wrote profile results to Rcf_line_profiler.py.lprof\n",
      "Timer unit: 1e-06 s\n",
      "\n",
      "Total time: 3.03486 s\n",
      "File: Rcf_line_profiler.py\n",
      "Function: Rcf at line 6\n",
      "\n",
      "Line #      Hits         Time  Per Hit   % Time  Line Contents\n",
      "==============================================================\n",
      "     6                                           @profile #decorate the functions you want to profile with kernprof \n",
      "     7                                           def Rcf(f,a,b,n):\n",
      "     8                                               \"\"\"\n",
      "     9                                               Compute numerical approximation using rectangle or mid-point\n",
      "    10                                               method in an interval.\n",
      "    11                                               Nodes are generated via formula: x_i = a+(i+1/2)h_hat for\n",
      "    12                                               i=0,1,...,n-1 and h_hat=(b-a)/n\n",
      "    13                                               Args:\n",
      "    14                                               \n",
      "    15                                                   f (function): function expression of integrand.\n",
      "    16                                                   \n",
      "    17                                                   a (float): left point of interval.\n",
      "    18                                                   \n",
      "    19                                                   b (float): right point of interval.\n",
      "    20                                                   \n",
      "    21                                                   n (float): number of subintervals.\n",
      "    22                                                   \n",
      "    23                                               Returns:\n",
      "    24                                               \n",
      "    25                                                   sum_res (float): numerical approximation to integral\n",
      "    26                                                       of f in the interval a,b\n",
      "    27                                               \"\"\"\n",
      "    28         1          3.0      3.0      0.0      h_hat=(b-a)/n\n",
      "    29         1     280952.0 280952.0      9.3      nodes=[a+(i+1/2)*h_hat for i in range(0,n)]\n",
      "    30         1          2.0      2.0      0.0      sum_res=0\n",
      "    31   1000001    1136157.0      1.1     37.4      for node in nodes:\n",
      "    32   1000000    1617742.0      1.6     53.3          sum_res=sum_res+f(node)\n",
      "    33         1          2.0      2.0      0.0      return h_hat*sum_res\n",
      "\n"
     ]
    }
   ],
   "source": [
    "%%bash\n",
    "$HOME/.local/bin/kernprof -l -v Rcf_line_profiler.py"
   ]
  },
  {
   "cell_type": "markdown",
   "metadata": {},
   "source": [
    "Utilizando `python3 <script.py>`:"
   ]
  },
  {
   "cell_type": "code",
   "execution_count": 39,
   "metadata": {},
   "outputs": [
    {
     "name": "stdout",
     "output_type": "stream",
     "text": [
      "Overwriting Rcf_line_profiler_2.py\n"
     ]
    }
   ],
   "source": [
    "%%file Rcf_line_profiler_2.py\n",
    "import math\n",
    "\n",
    "import line_profiler\n",
    "from pytest import approx\n",
    "from scipy.integrate import quad\n",
    "\n",
    "def Rcf(f,a,b,n):\n",
    "    \"\"\"\n",
    "    Compute numerical approximation using rectangle or mid-point\n",
    "    method in an interval.\n",
    "    Nodes are generated via formula: x_i = a+(i+1/2)h_hat for\n",
    "    i=0,1,...,n-1 and h_hat=(b-a)/n\n",
    "    Args:\n",
    "    \n",
    "        f (function): function expression of integrand.\n",
    "        \n",
    "        a (float): left point of interval.\n",
    "        \n",
    "        b (float): right point of interval.\n",
    "        \n",
    "        n (float): number of subintervals.\n",
    "        \n",
    "    Returns:\n",
    "    \n",
    "        sum_res (float): numerical approximation to integral\n",
    "            of f in the interval a,b\n",
    "    \"\"\"\n",
    "    h_hat=(b-a)/n\n",
    "    nodes=[a+(i+1/2)*h_hat for i in range(0,n)]\n",
    "    sum_res=0\n",
    "    for node in nodes:\n",
    "        sum_res=sum_res+f(node)\n",
    "    return h_hat*sum_res\n",
    "\n",
    "if __name__ == \"__main__\":\n",
    "    a=0\n",
    "    b=1\n",
    "    f=lambda x: math.exp(-x**2)\n",
    "    obj, err = quad(f, a, b)\n",
    "    print(\"objetivo: {:0.6e}\".format(obj))\n",
    "    n=10**6\n",
    "    res=Rcf(f,a,b,n)\n",
    "    print(\"aproximación: {:0.6e}\".format(res))\n",
    "    print(res == approx(obj))\n",
    "    line_prof = line_profiler.LineProfiler()\n",
    "    print(line_prof(Rcf)(f,a,b,n))\n",
    "    line_prof.print_stats()    "
   ]
  },
  {
   "cell_type": "code",
   "execution_count": 40,
   "metadata": {
    "tags": [
     "output_scroll"
    ]
   },
   "outputs": [
    {
     "name": "stdout",
     "output_type": "stream",
     "text": [
      "objetivo: 7.468241e-01\n",
      "aproximación: 7.468241e-01\n",
      "True\n",
      "0.7468241328124773\n",
      "Timer unit: 1e-06 s\n",
      "\n",
      "Total time: 3.12149 s\n",
      "File: Rcf_line_profiler_2.py\n",
      "Function: Rcf at line 7\n",
      "\n",
      "Line #      Hits         Time  Per Hit   % Time  Line Contents\n",
      "==============================================================\n",
      "     7                                           def Rcf(f,a,b,n):\n",
      "     8                                               \"\"\"\n",
      "     9                                               Compute numerical approximation using rectangle or mid-point\n",
      "    10                                               method in an interval.\n",
      "    11                                               Nodes are generated via formula: x_i = a+(i+1/2)h_hat for\n",
      "    12                                               i=0,1,...,n-1 and h_hat=(b-a)/n\n",
      "    13                                               Args:\n",
      "    14                                               \n",
      "    15                                                   f (function): function expression of integrand.\n",
      "    16                                                   \n",
      "    17                                                   a (float): left point of interval.\n",
      "    18                                                   \n",
      "    19                                                   b (float): right point of interval.\n",
      "    20                                                   \n",
      "    21                                                   n (float): number of subintervals.\n",
      "    22                                                   \n",
      "    23                                               Returns:\n",
      "    24                                               \n",
      "    25                                                   sum_res (float): numerical approximation to integral\n",
      "    26                                                       of f in the interval a,b\n",
      "    27                                               \"\"\"\n",
      "    28         1          3.0      3.0      0.0      h_hat=(b-a)/n\n",
      "    29         1     279782.0 279782.0      9.0      nodes=[a+(i+1/2)*h_hat for i in range(0,n)]\n",
      "    30         1          2.0      2.0      0.0      sum_res=0\n",
      "    31   1000001    1136040.0      1.1     36.4      for node in nodes:\n",
      "    32   1000000    1705663.0      1.7     54.6          sum_res=sum_res+f(node)\n",
      "    33         1          3.0      3.0      0.0      return h_hat*sum_res\n",
      "\n"
     ]
    }
   ],
   "source": [
    "%%bash\n",
    "python3 Rcf_line_profiler_2.py"
   ]
  },
  {
   "cell_type": "markdown",
   "metadata": {},
   "source": [
    "```{admonition} Ejercicio\n",
    ":class: tip\n",
    "\n",
    "Perfilar la regla de Simpson que se implementó en el primer ejercicio con `line_profiler` utilizando su `import`.\n",
    "\n",
    "\n",
    "```"
   ]
  },
  {
   "cell_type": "markdown",
   "metadata": {},
   "source": [
    "## Perfilamiento: medición de uso de memoria en *Python*"
   ]
  },
  {
   "cell_type": "markdown",
   "metadata": {},
   "source": [
    "Si bien las computadoras de hoy en día tienen una gran cantidad de RAM es importante que las aplicaciones no utilicen la totalidad pues en ese caso se tendrá una penalización en el *performance* de la aplicación al utilizar [virtual memory](https://en.wikipedia.org/wiki/Virtual_memory), ver [espacio_de_intercambio](https://es.wikipedia.org/wiki/Espacio_de_intercambio)."
   ]
  },
  {
   "cell_type": "markdown",
   "metadata": {},
   "source": [
    "### [memory_profiler](https://github.com/pythonprofilers/memory_profiler)"
   ]
  },
  {
   "cell_type": "markdown",
   "metadata": {},
   "source": [
    "Se ejecuta desde la línea de comandos, con un comando de *magic* o realizando `import`. Al instalar `memory_profiler` se incluyen dos comandos de *magic*: `%memit` y `%mprun`. `%mprun` es similar a *line_profiler* al analizar línea por línea el uso de memoria."
   ]
  },
  {
   "cell_type": "markdown",
   "metadata": {},
   "source": [
    "En el caso de `import` regresa una lista de valores de uso de memoria en *MiB* medidas cada cierto `interval` (argumento de `memory_usage`). En lo siguiente se pide que se regrese el máximo uso de memoria de la lista."
   ]
  },
  {
   "cell_type": "code",
   "execution_count": 41,
   "metadata": {},
   "outputs": [],
   "source": [
    "from memory_profiler import memory_usage"
   ]
  },
  {
   "cell_type": "code",
   "execution_count": 42,
   "metadata": {},
   "outputs": [
    {
     "name": "stdout",
     "output_type": "stream",
     "text": [
      "123.69140625\n"
     ]
    }
   ],
   "source": [
    "t = (Rcf, (f, a, b, n))\n",
    "print(memory_usage(t, max_usage=True))"
   ]
  },
  {
   "cell_type": "markdown",
   "metadata": {},
   "source": [
    "Y podemos ejecutar las siguientes líneas de acuerdo a [how-do-i-profile-memory-usage-in-python](https://stackoverflow.com/questions/552744/how-do-i-profile-memory-usage-in-python) para consistencia con los resultados que se obtendrán con `%memit` y `%mprun`:"
   ]
  },
  {
   "cell_type": "code",
   "execution_count": 43,
   "metadata": {},
   "outputs": [
    {
     "name": "stdout",
     "output_type": "stream",
     "text": [
      "start mem 93.02734375\n",
      "max mem 123.6171875\n",
      "used mem 30.58984375\n",
      "fun output 0.7468241328124773\n"
     ]
    }
   ],
   "source": [
    "start_mem = memory_usage(max_usage=True)\n",
    "res = memory_usage(t, max_usage=True, retval=True)\n",
    "print('start mem', start_mem)\n",
    "print('max mem', res[0])\n",
    "print('used mem', res[0]-start_mem)\n",
    "print('fun output', res[1])"
   ]
  },
  {
   "cell_type": "markdown",
   "metadata": {},
   "source": [
    "Para el uso de `%memit` y `%mprun` se carga la extensión de *jupyter*:"
   ]
  },
  {
   "cell_type": "code",
   "execution_count": 44,
   "metadata": {},
   "outputs": [],
   "source": [
    "%load_ext memory_profiler"
   ]
  },
  {
   "cell_type": "markdown",
   "metadata": {},
   "source": [
    "`%memit` devuelve el pico de memoria usada en una celda de un *jupyter notebook* y utiliza las mismas ideas para reportar las mediciones que `%timeit`:"
   ]
  },
  {
   "cell_type": "code",
   "execution_count": 45,
   "metadata": {},
   "outputs": [
    {
     "name": "stdout",
     "output_type": "stream",
     "text": [
      "peak memory: 93.30 MiB, increment: 0.00 MiB\n"
     ]
    }
   ],
   "source": [
    "%memit #how much RAM this process is consuming"
   ]
  },
  {
   "cell_type": "code",
   "execution_count": 46,
   "metadata": {},
   "outputs": [
    {
     "name": "stdout",
     "output_type": "stream",
     "text": [
      "peak memory: 194.29 MiB, increment: 100.99 MiB\n"
     ]
    }
   ],
   "source": [
    "%memit -c Rcf(f, a, b, n)"
   ]
  },
  {
   "cell_type": "code",
   "execution_count": 47,
   "metadata": {},
   "outputs": [
    {
     "name": "stdout",
     "output_type": "stream",
     "text": [
      "peak memory: 164.54 MiB, increment: 70.95 MiB\n"
     ]
    }
   ],
   "source": [
    "%memit -c Rcf_2(f, a, b, n)"
   ]
  },
  {
   "cell_type": "code",
   "execution_count": 48,
   "metadata": {},
   "outputs": [
    {
     "name": "stdout",
     "output_type": "stream",
     "text": [
      "peak memory: 172.20 MiB, increment: 78.62 MiB\n"
     ]
    }
   ],
   "source": [
    "%memit -c Rcf_3(f_np, a, b, n)"
   ]
  },
  {
   "cell_type": "markdown",
   "metadata": {},
   "source": [
    "```{admonition} Comentario\n",
    "\n",
    "Si se utiliza `%mprun` debe crearse `script.py` y utilizar un *decorator*.\n",
    "\n",
    "```"
   ]
  },
  {
   "cell_type": "code",
   "execution_count": 50,
   "metadata": {},
   "outputs": [
    {
     "name": "stdout",
     "output_type": "stream",
     "text": [
      "Overwriting Rcf_memory_profiler.py\n"
     ]
    }
   ],
   "source": [
    "%%file Rcf_memory_profiler.py\n",
    "\n",
    "import math\n",
    "\n",
    "from pytest import approx\n",
    "from scipy.integrate import quad\n",
    "from memory_profiler import profile\n",
    "\n",
    "@profile #decorate the functions you want to profile with memory_profiler \n",
    "def Rcf(f,a,b,n):\n",
    "    \"\"\"\n",
    "    Compute numerical approximation using rectangle or mid-point\n",
    "    method in an interval.\n",
    "    Nodes are generated via formula: x_i = a+(i+1/2)h_hat for\n",
    "    i=0,1,...,n-1 and h_hat=(b-a)/n\n",
    "    Args:\n",
    "    \n",
    "        f (function): function expression of integrand.\n",
    "        \n",
    "        a (float): left point of interval.\n",
    "        \n",
    "        b (float): right point of interval.\n",
    "        \n",
    "        n (float): number of subintervals.\n",
    "        \n",
    "    Returns:\n",
    "    \n",
    "        sum_res (float): numerical approximation to integral\n",
    "            of f in the interval a,b\n",
    "    \"\"\"\n",
    "    h_hat=(b-a)/n\n",
    "    nodes=[a+(i+1/2)*h_hat for i in range(0,n)]\n",
    "    sum_res=0\n",
    "    for node in nodes:\n",
    "        sum_res=sum_res+f(node)\n",
    "    return h_hat*sum_res\n",
    "\n",
    "if __name__ == \"__main__\":\n",
    "    a=0\n",
    "    b=1\n",
    "    f=lambda x: math.exp(-x**2)\n",
    "    obj, err = quad(f, a, b)\n",
    "    print(\"objetivo: {:0.6e}\".format(obj))\n",
    "    n=10**6\n",
    "    res=Rcf(f,a,b,n)\n",
    "    print(\"aproximación: {:0.6e}\".format(res))\n",
    "    print(res == approx(obj))\n",
    "    "
   ]
  },
  {
   "cell_type": "code",
   "execution_count": 51,
   "metadata": {},
   "outputs": [],
   "source": [
    "from Rcf_memory_profiler import Rcf_mprun"
   ]
  },
  {
   "cell_type": "code",
   "execution_count": 52,
   "metadata": {
    "tags": [
     "output_scroll"
    ]
   },
   "outputs": [
    {
     "name": "stdout",
     "output_type": "stream",
     "text": [
      "Filename: /home/ubuntu/analisis-numerico-computo-cientifico/libro_optimizacion/temas/V.optimizacion_de_codigo/5.2/Rcf_memory_profiler.py\n",
      "\n",
      "Line #    Mem usage    Increment  Occurences   Line Contents\n",
      "============================================================\n",
      "     8     86.1 MiB     86.1 MiB           1   @profile #decorate the functions you want to profile with memory_profiler \n",
      "     9                                         def Rcf_mprun(f,a,b,n):\n",
      "    10                                             \"\"\"\n",
      "    11                                             Compute numerical approximation using rectangle or mid-point\n",
      "    12                                             method in an interval.\n",
      "    13                                             Nodes are generated via formula: x_i = a+(i+1/2)h_hat for\n",
      "    14                                             i=0,1,...,n-1 and h_hat=(b-a)/n\n",
      "    15                                             Args:\n",
      "    16                                             \n",
      "    17                                                 f (function): function expression of integrand.\n",
      "    18                                                 \n",
      "    19                                                 a (float): left point of interval.\n",
      "    20                                                 \n",
      "    21                                                 b (float): right point of interval.\n",
      "    22                                                 \n",
      "    23                                                 n (float): number of subintervals.\n",
      "    24                                                 \n",
      "    25                                             Returns:\n",
      "    26                                             \n",
      "    27                                                 sum_res (float): numerical approximation to integral\n",
      "    28                                                     of f in the interval a,b\n",
      "    29                                             \"\"\"\n",
      "    30     86.1 MiB      0.0 MiB           1       h_hat=(b-a)/n\n",
      "    31    124.3 MiB     38.2 MiB     1000003       nodes=[a+(i+1/2)*h_hat for i in range(0,n)]\n",
      "    32    124.3 MiB      0.0 MiB           1       sum_res=0\n",
      "    33    124.3 MiB      0.0 MiB     1000001       for node in nodes:\n",
      "    34    124.3 MiB      0.0 MiB     1000000           sum_res=sum_res+f(node)\n",
      "    35    124.3 MiB      0.0 MiB           1       return h_hat*sum_res\n",
      "\n",
      "\n",
      "\n"
     ]
    },
    {
     "data": {
      "text/plain": [
       "Filename: /home/ubuntu/.local/lib/python3.8/site-packages/memory_profiler.py\n",
       "\n",
       "Line #    Mem usage    Increment  Occurences   Line Contents\n",
       "============================================================\n",
       "  1140     86.1 MiB     86.1 MiB           1               def wrapper(*args, **kwargs):\n",
       "  1141     86.1 MiB      0.0 MiB           1                   prof = get_prof()\n",
       "  1142     93.8 MiB      7.7 MiB           1                   val = prof(func)(*args, **kwargs)\n",
       "  1143     93.8 MiB      0.0 MiB           1                   show_results_bound(prof)\n",
       "  1144     93.8 MiB      0.0 MiB           1                   return val"
      ]
     },
     "metadata": {},
     "output_type": "display_data"
    }
   ],
   "source": [
    "%mprun -f Rcf_mprun Rcf_mprun(f, a, b, n)"
   ]
  },
  {
   "cell_type": "markdown",
   "metadata": {},
   "source": [
    "El *output* de `%mprun` contiene:\n",
    "\n",
    "* La primera columna hace referencia a la línea de código.\n",
    "\n",
    "* *Mem usage* es la memoria usada por *Python* después que tal línea ha sido ejecutada. En el caso anterior se tienen de inicio una cantidad positiva de `MiB` para cargar el script `script.py`, realizar `imports`.\n",
    "\n",
    "* *Increment* representa la diferencia en memoria de la línea actual respecto a la línea anterior. Las cantidades que se muestran en esta columna no necesariamente indican que en memoria se alojan tales cantidades.\n",
    "\n",
    "* *Ocurrences* contador del número de veces que se ejecuta tal línea.\n",
    "\n",
    "* *Line contents* el código a perfilar.\n"
   ]
  },
  {
   "cell_type": "markdown",
   "metadata": {},
   "source": [
    "Ejemplo ejecutado desde la línea de comandos:"
   ]
  },
  {
   "cell_type": "code",
   "execution_count": 53,
   "metadata": {
    "tags": [
     "output_scroll"
    ]
   },
   "outputs": [
    {
     "name": "stdout",
     "output_type": "stream",
     "text": [
      "objetivo: 7.468241e-01\n",
      "Filename: Rcf_memory_profiler.py\n",
      "\n",
      "Line #    Mem usage    Increment  Occurences   Line Contents\n",
      "============================================================\n",
      "     8     74.8 MiB     74.8 MiB           1   @profile #decorate the functions you want to profile with memory_profiler \n",
      "     9                                         def Rcf_mprun(f,a,b,n):\n",
      "    10                                             \"\"\"\n",
      "    11                                             Compute numerical approximation using rectangle or mid-point\n",
      "    12                                             method in an interval.\n",
      "    13                                             Nodes are generated via formula: x_i = a+(i+1/2)h_hat for\n",
      "    14                                             i=0,1,...,n-1 and h_hat=(b-a)/n\n",
      "    15                                             Args:\n",
      "    16                                             \n",
      "    17                                                 f (function): function expression of integrand.\n",
      "    18                                                 \n",
      "    19                                                 a (float): left point of interval.\n",
      "    20                                                 \n",
      "    21                                                 b (float): right point of interval.\n",
      "    22                                                 \n",
      "    23                                                 n (float): number of subintervals.\n",
      "    24                                                 \n",
      "    25                                             Returns:\n",
      "    26                                             \n",
      "    27                                                 sum_res (float): numerical approximation to integral\n",
      "    28                                                     of f in the interval a,b\n",
      "    29                                             \"\"\"\n",
      "    30     74.8 MiB      0.0 MiB           1       h_hat=(b-a)/n\n",
      "    31    114.0 MiB     39.2 MiB     1000003       nodes=[a+(i+1/2)*h_hat for i in range(0,n)]\n",
      "    32    114.0 MiB      0.0 MiB           1       sum_res=0\n",
      "    33    114.1 MiB      0.1 MiB     1000001       for node in nodes:\n",
      "    34    114.1 MiB      0.0 MiB     1000000           sum_res=sum_res+f(node)\n",
      "    35    114.1 MiB      0.0 MiB           1       return h_hat*sum_res\n",
      "\n",
      "\n",
      "aproximación: 7.468241e-01\n",
      "True\n"
     ]
    }
   ],
   "source": [
    "%%bash\n",
    "python3 Rcf_memory_profiler.py"
   ]
  },
  {
   "cell_type": "markdown",
   "metadata": {},
   "source": [
    "```{admonition} Comentarios\n",
    "\n",
    "* De [FAQ](https://github.com/pythonprofilers/memory_profiler#frequently-asked-questions)\n",
    "\n",
    "*Q: How accurate are the results ?\n",
    "A: This module gets the memory consumption by querying the operating system kernel about the amount of memory the current process has allocated, which might be slightly different from the amount of memory that is actually used by the Python interpreter. Also, because of how the garbage collector works in Python the result might be different between platforms and even between runs.*\n",
    "\n",
    "* También *memory_profiler* contiene un *script* de nombre `mprof` que permite monitorear uso de memoria de un proceso (que puede ser un *Python script* u otro) y también soporta el monitoreo de *child processes* que fueron *spawn* de un proceso en un contexto de [multiprocessing-contexts-and-start-methods](https://docs.python.org/3.9/library/multiprocessing.html#contexts-and-start-methods), ver [memory_profiler#time-based-memory-usage](https://github.com/pythonprofilers/memory_profiler#time-based-memory-usage)\n",
    "\n",
    "\n",
    "```"
   ]
  },
  {
   "cell_type": "markdown",
   "metadata": {},
   "source": [
    "```{admonition} Ejercicio\n",
    ":class: tip\n",
    "\n",
    "Perfilar la regla de Simpson que se implementó en el primer ejercicio con `memory_profiler` utilizando su `import`.\n",
    "\n",
    "\n",
    "```"
   ]
  },
  {
   "cell_type": "markdown",
   "metadata": {},
   "source": [
    "### [heapy](https://github.com/zhuyifei1999/guppy3/)"
   ]
  },
  {
   "cell_type": "markdown",
   "metadata": {},
   "source": [
    "*Python* utiliza un *memory manager* para la administración de la memoria dinámica *heap*. Aunque *Python* maneja la memoria automáticamente pueden darse situaciones en las que referencias a objetos ya no sean necesarias o bien tener [memory leaks](https://en.wikipedia.org/wiki/Memory_leak). En tal caso podría llamarse al [garbage collector](https://docs.python.org/3/library/gc.html) (administrado por el *memory manager*) de forma manual y usar la herramienta de *heapy* para monitorear la memoria *heap*."
   ]
  },
  {
   "cell_type": "markdown",
   "metadata": {},
   "source": [
    "```{margin}\n",
    "\n",
    "Ver [stackoverflow: What is a Memory Heap?](https://stackoverflow.com/questions/2308751/what-is-a-memory-heap), [Python: memory management](https://docs.python.org/3/c-api/memory.html), [stackoverflow: does-python-have-a-stack-heap-and-how-is-memory-managed](https://stackoverflow.com/questions/14546178/does-python-have-a-stack-heap-and-how-is-memory-managed).\n",
    "\n",
    "```"
   ]
  },
  {
   "cell_type": "markdown",
   "metadata": {},
   "source": [
    "La herramienta *heapy* nos ayuda a obtener información acerca de los objetos en la memoria *heap*. Por ejemplo podemos revisar el número y tamaño de cada objeto que está en la *heap*. También nos ayuda a encontrar *memory leaks*."
   ]
  },
  {
   "cell_type": "markdown",
   "metadata": {},
   "source": [
    "*heapy* funciona escribiendo líneas para llamar a la función `heap` que encierren las secciones de código que queremos monitorear. Subsecuentes llamados a tal función nos proporciona información en una forma incremental."
   ]
  },
  {
   "cell_type": "code",
   "execution_count": 54,
   "metadata": {},
   "outputs": [
    {
     "name": "stdout",
     "output_type": "stream",
     "text": [
      "Writing heapy_ex_1\n"
     ]
    }
   ],
   "source": [
    "%%file heapy_ex_1\n",
    "import math\n",
    "\n",
    "from guppy import hpy\n",
    "\n",
    "a=0\n",
    "b=1\n",
    "n=10**6\n",
    "f=lambda x: math.exp(-x**2)\n",
    "hp = hpy()\n",
    "hp.setrelheap() #Everything allocated before this call will not be in the objects you get later.\n",
    "h_hat = (b-a)/n\n",
    "h = hp.heap()\n",
    "print(h)"
   ]
  },
  {
   "cell_type": "code",
   "execution_count": 55,
   "metadata": {},
   "outputs": [
    {
     "name": "stdout",
     "output_type": "stream",
     "text": [
      "Partition of a set of 2 objects. Total size = 432 bytes.\n",
      " Index  Count   %     Size   % Cumulative  % Kind (class / dict of class)\n",
      "     0      1  50      408  94       408  94 types.FrameType\n",
      "     1      1  50       24   6       432 100 float\n"
     ]
    }
   ],
   "source": [
    "%%bash\n",
    "python3 heapy_ex_1"
   ]
  },
  {
   "cell_type": "markdown",
   "metadata": {},
   "source": [
    "El *output* anterior muestra:\n",
    "\n",
    "* *Partition of a set of ... objects* que da el número de objetos analizados y clasificados de acuerdo al `Kind`.\n",
    "\n",
    "* *Total size* tamaño de la *heap* por cada llamado a la función `heap` del monitoreo. Ayuda a las comparaciones del monitoreo subsecuentes.\n",
    "\n",
    "* *Index* para enumerar cada objeto en la *heap*. Se puede utilizar para obtener información utilizando índices, por ejemplo `h[0]` o `h[1]`:"
   ]
  },
  {
   "cell_type": "code",
   "execution_count": 56,
   "metadata": {},
   "outputs": [
    {
     "name": "stdout",
     "output_type": "stream",
     "text": [
      "Writing heapy_ex_1_b\n"
     ]
    }
   ],
   "source": [
    "%%file heapy_ex_1_b\n",
    "import math\n",
    "\n",
    "from guppy import hpy\n",
    "\n",
    "hp = hpy()\n",
    "hp.setrelheap() #Everything allocated before this call will not be in the objects you get later.\n",
    "a=0\n",
    "b=1\n",
    "n=10**6\n",
    "f=lambda x: math.exp(-x**2)\n",
    "h_hat = (b-a)/n\n",
    "h = hp.heap()\n",
    "print(h)\n",
    "print(\"index 1:\")\n",
    "print(h[1])"
   ]
  },
  {
   "cell_type": "code",
   "execution_count": 57,
   "metadata": {},
   "outputs": [
    {
     "name": "stdout",
     "output_type": "stream",
     "text": [
      "Partition of a set of 3 objects. Total size = 568 bytes.\n",
      " Index  Count   %     Size   % Cumulative  % Kind (class / dict of class)\n",
      "     0      1  33      408  72       408  72 types.FrameType\n",
      "     1      1  33      136  24       544  96 function\n",
      "     2      1  33       24   4       568 100 float\n",
      "index 1:\n",
      "Partition of a set of 1 object. Total size = 136 bytes.\n",
      " Index  Count   %     Size   % Cumulative  % Kind (class / dict of class)\n",
      "     1      1 100      136 100       544 400 function\n"
     ]
    }
   ],
   "source": [
    "%%bash\n",
    "python3 heapy_ex_1_b"
   ]
  },
  {
   "cell_type": "markdown",
   "metadata": {},
   "source": [
    "* *Count* un contador del número de objetos en el reporte de acuerdo al *Kind*. En seguida se muestra su porcentaje de acuerdo al número de objetos analizados.\n",
    "\n",
    "* *Size* el tamaño que ocupa en la *heap* de acuerdo al *Total size*. En seguida se muestra su porcentaje correspondiente.\n",
    "\n",
    "* *Cumulative* muestra por cada objeto analizado de acuerdo al *Kind* de lo que acumulan en la *heap*. El último renglón del reporte equivale al *Total size*. En seguida se muestra su porcentaje correspondiente, el último renglón equivale al 100%."
   ]
  },
  {
   "cell_type": "code",
   "execution_count": 58,
   "metadata": {},
   "outputs": [
    {
     "name": "stdout",
     "output_type": "stream",
     "text": [
      "Writing heapy_ex_1_2\n"
     ]
    }
   ],
   "source": [
    "%%file heapy_ex_1_2\n",
    "import math\n",
    "\n",
    "from guppy import hpy\n",
    "\n",
    "hp = hpy()\n",
    "hp.setrelheap() #Everything allocated before this call will not be in the objects you get later.\n",
    "a=0\n",
    "b=1\n",
    "n=10**6\n",
    "f=lambda x: math.exp(-x**2)\n",
    "h_hat = (b-a)/n\n",
    "h = hp.heap()\n",
    "print(h)\n",
    "print(\"index 1:\")\n",
    "print(h[1])\n",
    "nodes = [a+(i+1/2)*h_hat for i in range(0,n)]\n",
    "h = hp.heap()\n",
    "print(\"After creating nodes\")\n",
    "print(h)    "
   ]
  },
  {
   "cell_type": "code",
   "execution_count": 59,
   "metadata": {},
   "outputs": [
    {
     "name": "stdout",
     "output_type": "stream",
     "text": [
      "Partition of a set of 3 objects. Total size = 568 bytes.\n",
      " Index  Count   %     Size   % Cumulative  % Kind (class / dict of class)\n",
      "     0      1  33      408  72       408  72 types.FrameType\n",
      "     1      1  33      136  24       544  96 function\n",
      "     2      1  33       24   4       568 100 float\n",
      "index 1:\n",
      "Partition of a set of 1 object. Total size = 136 bytes.\n",
      " Index  Count   %     Size   % Cumulative  % Kind (class / dict of class)\n",
      "     1      1 100      136 100       544 400 function\n",
      "After creating nodes\n",
      "Partition of a set of 1000010 objects. Total size = 32699017 bytes.\n",
      " Index  Count   %     Size   % Cumulative  % Kind (class / dict of class)\n",
      "     0 1000001 100 24000024  73  24000024  73 float\n",
      "     1      2   0  8697592  27  32697616 100 list\n",
      "     2      2   0      577   0  32698193 100 str\n",
      "     3      1   0      408   0  32698601 100 types.FrameType\n",
      "     4      2   0      272   0  32698873 100 function\n",
      "     5      2   0      144   0  32699017 100 builtins.weakref\n"
     ]
    }
   ],
   "source": [
    "%%bash\n",
    "python3 heapy_ex_1_2"
   ]
  },
  {
   "cell_type": "code",
   "execution_count": 60,
   "metadata": {},
   "outputs": [
    {
     "name": "stdout",
     "output_type": "stream",
     "text": [
      "Writing heapy_ex_1_3\n"
     ]
    }
   ],
   "source": [
    "%%file heapy_ex_1_3\n",
    "import math\n",
    "\n",
    "from guppy import hpy\n",
    "\n",
    "hp = hpy()\n",
    "hp.setrelheap() #Everything allocated before this call will not be in the objects you get later.\n",
    "a=0\n",
    "b=1\n",
    "n=10**6\n",
    "f=lambda x: math.exp(-x**2)\n",
    "h_hat = (b-a)/n\n",
    "h = hp.heap()\n",
    "print(h)\n",
    "print(\"index 1:\")\n",
    "print(h[1])\n",
    "nodes = [a+(i+1/2)*h_hat for i in range(0,n)]\n",
    "h = hp.heap()\n",
    "print(\"After creating nodes\")\n",
    "print(h)    \n",
    "sum_res = 0\n",
    "for node in nodes:\n",
    "    sum_res = sum_res+f(node)\n",
    "h = hp.heap()\n",
    "print(\"After sum\")\n",
    "print(h)"
   ]
  },
  {
   "cell_type": "code",
   "execution_count": 61,
   "metadata": {},
   "outputs": [
    {
     "name": "stdout",
     "output_type": "stream",
     "text": [
      "Partition of a set of 3 objects. Total size = 568 bytes.\n",
      " Index  Count   %     Size   % Cumulative  % Kind (class / dict of class)\n",
      "     0      1  33      408  72       408  72 types.FrameType\n",
      "     1      1  33      136  24       544  96 function\n",
      "     2      1  33       24   4       568 100 float\n",
      "index 1:\n",
      "Partition of a set of 1 object. Total size = 136 bytes.\n",
      " Index  Count   %     Size   % Cumulative  % Kind (class / dict of class)\n",
      "     1      1 100      136 100       544 400 function\n",
      "After creating nodes\n",
      "Partition of a set of 1000010 objects. Total size = 32699017 bytes.\n",
      " Index  Count   %     Size   % Cumulative  % Kind (class / dict of class)\n",
      "     0 1000001 100 24000024  73  24000024  73 float\n",
      "     1      2   0  8697592  27  32697616 100 list\n",
      "     2      2   0      577   0  32698193 100 str\n",
      "     3      1   0      408   0  32698601 100 types.FrameType\n",
      "     4      2   0      272   0  32698873 100 function\n",
      "     5      2   0      144   0  32699017 100 builtins.weakref\n",
      "After sum\n",
      "Partition of a set of 1000012 objects. Total size = 32699623 bytes.\n",
      " Index  Count   %     Size   % Cumulative  % Kind (class / dict of class)\n",
      "     0 1000002 100 24000048  73  24000048  73 float\n",
      "     1      2   0  8697656  27  32697704 100 list\n",
      "     2      3   0     1095   0  32698799 100 str\n",
      "     3      1   0      408   0  32699207 100 types.FrameType\n",
      "     4      2   0      272   0  32699479 100 function\n",
      "     5      2   0      144   0  32699623 100 builtins.weakref\n"
     ]
    }
   ],
   "source": [
    "%%bash\n",
    "python3 heapy_ex_1_3"
   ]
  },
  {
   "cell_type": "markdown",
   "metadata": {},
   "source": [
    "Utilizando *generators*:"
   ]
  },
  {
   "cell_type": "code",
   "execution_count": 62,
   "metadata": {},
   "outputs": [
    {
     "name": "stdout",
     "output_type": "stream",
     "text": [
      "Writing heapy_ex_2\n"
     ]
    }
   ],
   "source": [
    "%%file heapy_ex_2\n",
    "import math\n",
    "\n",
    "from guppy import hpy\n",
    "\n",
    "hp = hpy()\n",
    "hp.setrelheap() #Everything allocated before this call will not be in the objects you get later.\n",
    "a=0\n",
    "b=1\n",
    "n=10**6\n",
    "f=lambda x: math.exp(-x**2)\n",
    "h_hat = (b-a)/n\n",
    "h = hp.heap()\n",
    "print(h)\n",
    "print(\"index 1:\")\n",
    "print(h[1])\n",
    "nodes = (a+(i+1/2)*h_hat for i in range(0,n))\n",
    "h = hp.heap()\n",
    "print(\"After creating nodes\")\n",
    "print(h)    \n",
    "sum_res = 0\n",
    "for node in nodes:\n",
    "    sum_res = sum_res+f(node)\n",
    "h = hp.heap()\n",
    "print(\"After sum\")\n",
    "print(h)"
   ]
  },
  {
   "cell_type": "code",
   "execution_count": 63,
   "metadata": {
    "tags": [
     "output_scroll"
    ]
   },
   "outputs": [
    {
     "name": "stdout",
     "output_type": "stream",
     "text": [
      "Partition of a set of 3 objects. Total size = 568 bytes.\n",
      " Index  Count   %     Size   % Cumulative  % Kind (class / dict of class)\n",
      "     0      1  33      408  72       408  72 types.FrameType\n",
      "     1      1  33      136  24       544  96 function\n",
      "     2      1  33       24   4       568 100 float\n",
      "index 1:\n",
      "Partition of a set of 1 object. Total size = 136 bytes.\n",
      " Index  Count   %     Size   % Cumulative  % Kind (class / dict of class)\n",
      "     1      1 100      136 100       544 400 function\n",
      "After creating nodes\n",
      "Partition of a set of 12 objects. Total size = 2145 bytes.\n",
      " Index  Count   %     Size   % Cumulative  % Kind (class / dict of class)\n",
      "     0      2  17      832  39       832  39 types.FrameType\n",
      "     1      2  17      577  27      1409  66 str\n",
      "     2      2  17      272  13      1681  78 function\n",
      "     3      2  17      144   7      1825  85 builtins.weakref\n",
      "     4      1   8      136   6      1961  91 list\n",
      "     5      1   8      112   5      2073  97 types.GeneratorType\n",
      "     6      1   8       48   2      2121  99 builtins.range_iterator\n",
      "     7      1   8       24   1      2145 100 float\n",
      "After sum\n",
      "Partition of a set of 13 objects. Total size = 2427 bytes.\n",
      " Index  Count   %     Size   % Cumulative  % Kind (class / dict of class)\n",
      "     0      3  23     1219  50      1219  50 str\n",
      "     1      1   8      408  17      1627  67 types.FrameType\n",
      "     2      2  15      272  11      1899  78 function\n",
      "     3      1   8      200   8      2099  86 list\n",
      "     4      2  15      144   6      2243  92 builtins.weakref\n",
      "     5      1   8      112   5      2355  97 types.GeneratorType\n",
      "     6      3  23       72   3      2427 100 float\n"
     ]
    }
   ],
   "source": [
    "%%bash\n",
    "python3 heapy_ex_2"
   ]
  },
  {
   "cell_type": "markdown",
   "metadata": {},
   "source": [
    "Utilizando funcionalidad de *NumPy*:"
   ]
  },
  {
   "cell_type": "code",
   "execution_count": 64,
   "metadata": {},
   "outputs": [
    {
     "name": "stdout",
     "output_type": "stream",
     "text": [
      "Writing heapy_ex_3\n"
     ]
    }
   ],
   "source": [
    "%%file heapy_ex_3\n",
    "import numpy as np\n",
    "\n",
    "from guppy import hpy\n",
    "\n",
    "hp = hpy()\n",
    "hp.setrelheap() #Everything allocated before this call will not be in the objects you get later.\n",
    "a=0\n",
    "b=1\n",
    "n=10**6\n",
    "f_np = lambda x: np.exp(-x**2)\n",
    "h_hat = (b-a)/n\n",
    "h = hp.heap()\n",
    "print(h)\n",
    "print(\"index 1:\")\n",
    "print(h[1])\n",
    "aux_vec = np.linspace(a, b, n+1)\n",
    "nodes= (aux_vec[:-1]+aux_vec[1:])/2\n",
    "h = hp.heap()\n",
    "print(\"After creating nodes\")\n",
    "print(h)    \n",
    "res = h_hat*np.sum(f_np(nodes))\n",
    "print(\"After sum\")\n",
    "print(h)"
   ]
  },
  {
   "cell_type": "code",
   "execution_count": 65,
   "metadata": {
    "tags": [
     "output_scroll"
    ]
   },
   "outputs": [
    {
     "name": "stdout",
     "output_type": "stream",
     "text": [
      "Partition of a set of 3 objects. Total size = 568 bytes.\n",
      " Index  Count   %     Size   % Cumulative  % Kind (class / dict of class)\n",
      "     0      1  33      408  72       408  72 types.FrameType\n",
      "     1      1  33      136  24       544  96 function\n",
      "     2      1  33       24   4       568 100 float\n",
      "index 1:\n",
      "Partition of a set of 1 object. Total size = 136 bytes.\n",
      " Index  Count   %     Size   % Cumulative  % Kind (class / dict of class)\n",
      "     1      1 100      136 100       544 400 function\n",
      "After creating nodes\n",
      "Partition of a set of 11 objects. Total size = 8001769 bytes.\n",
      " Index  Count   %     Size   % Cumulative  % Kind (class / dict of class)\n",
      "     0      2  18  8000208 100   8000208 100 numpy.ndarray\n",
      "     1      2  18      577   0   8000785 100 str\n",
      "     2      1   9      408   0   8001193 100 types.FrameType\n",
      "     3      2  18      272   0   8001465 100 function\n",
      "     4      2  18      144   0   8001609 100 builtins.weakref\n",
      "     5      1   9      136   0   8001745 100 list\n",
      "     6      1   9       24   0   8001769 100 float\n",
      "After sum\n",
      "Partition of a set of 11 objects. Total size = 8001769 bytes.\n",
      " Index  Count   %     Size   % Cumulative  % Kind (class / dict of class)\n",
      "     0      2  18  8000208 100   8000208 100 numpy.ndarray\n",
      "     1      2  18      577   0   8000785 100 str\n",
      "     2      1   9      408   0   8001193 100 types.FrameType\n",
      "     3      2  18      272   0   8001465 100 function\n",
      "     4      2  18      144   0   8001609 100 builtins.weakref\n",
      "     5      1   9      136   0   8001745 100 list\n",
      "     6      1   9       24   0   8001769 100 float\n"
     ]
    }
   ],
   "source": [
    "%%bash\n",
    "python3 heapy_ex_3"
   ]
  },
  {
   "cell_type": "markdown",
   "metadata": {},
   "source": [
    "```{admonition} Ejercicio\n",
    ":class: tip\n",
    "\n",
    "Perfilar la regla de Simpson que se implementó en el primer ejercicio con `heapy`.\n",
    "\n",
    "```"
   ]
  },
  {
   "cell_type": "markdown",
   "metadata": {},
   "source": [
    "## *Basic Linear Algebra Subprograms* (BLAS)"
   ]
  },
  {
   "cell_type": "markdown",
   "metadata": {},
   "source": [
    "De acuerdo a la especificación BLAS, hay diferentes niveles dependiendo del número de datos y cantidad de operaciones a realizar que involucran tales datos."
   ]
  },
  {
   "cell_type": "markdown",
   "metadata": {},
   "source": [
    "### Operación del producto interno estándar o producto punto (nivel 1 de BLAS)"
   ]
  },
  {
   "cell_type": "markdown",
   "metadata": {},
   "source": [
    "Consideramos $x,y \\in \\mathbb{R}^n$. El producto punto entre $x$ y $y$ es $c = x^Ty = \\displaystyle \\sum_{i=1}^n x_iy_i$. "
   ]
  },
  {
   "cell_type": "markdown",
   "metadata": {},
   "source": [
    "### Ejemplo y algoritmo"
   ]
  },
  {
   "cell_type": "code",
   "execution_count": 66,
   "metadata": {},
   "outputs": [],
   "source": [
    "c=0\n",
    "n=5\n",
    "x=[-1]*n\n",
    "y=[1.5]*n\n",
    "\n",
    "for i in range(n):\n",
    "    c += x[i]*y[i]"
   ]
  },
  {
   "cell_type": "code",
   "execution_count": 67,
   "metadata": {},
   "outputs": [
    {
     "data": {
      "text/plain": [
       "-7.5"
      ]
     },
     "execution_count": 67,
     "metadata": {},
     "output_type": "execute_result"
    }
   ],
   "source": [
    "c"
   ]
  },
  {
   "cell_type": "markdown",
   "metadata": {},
   "source": [
    "````{admonition} Comentarios\n",
    "\n",
    "* El producto punto de dos $n$-vectores involucran $n$ multiplicaciones y $n$ sumas para un total de $2n$ operaciones o [floating point operations per second](https://en.wikipedia.org/wiki/FLOPS) (flops). Usamos la notación $\\mathcal{O}(\\cdot)$ para escribir que el producto punto es $\\mathcal{O}(n)$ y se lee \"de orden $n$ o proporcional a $n$\" para indicar que la **cantidad de trabajo** tiene un comportamiento **lineal** con la dimensión $n$. También tal cantidad de trabajo opera sobre una **cantidad lineal de datos**.\n",
    "\n",
    "\n",
    "* Los *flops* que realiza un algoritmo es una forma de cuantificar el volumen de trabajo asociado con un cálculo. Un *flop* es una operación de punto flotante: suma, multiplicación o división. Por ejemplo, en la línea:\n",
    "\n",
    "```python\n",
    "C[i][j] = C[i][j] + A[i][k]*B[k][j]\n",
    "```\n",
    "\n",
    "se realizan $2$ *flops*. Los flops sólo representan una componente para categorizar a los algoritmos de acuerdo al trabajo que realizan, otras componentes son la transferencia o movimientos de datos, *data movement/motion*, ejecución secuencial o en paralelo y el *data locality* y *data reuse* que realizan.\n",
    "\n",
    "\n",
    "* En LAPACK encontramos [sdot](http://www.netlib.org/lapack/explore-html/d0/d16/sdot_8f.html), [ddot](http://www.netlib.org/lapack/explore-html/d5/df6/ddot_8f.html) y [cdotu](http://www.netlib.org/lapack/explore-html/d7/d7b/cdotu_8f.html) para descripción de las funciones/subrutinas escritas en [Fortran](https://en.wikipedia.org/wiki/Fortran) del producto punto en los casos de precisión simple, doble o números complejos respectivamente.\n",
    "\n",
    "````"
   ]
  },
  {
   "cell_type": "markdown",
   "metadata": {},
   "source": [
    "### Operación saxpy (nivel 1 de BLAS)"
   ]
  },
  {
   "cell_type": "markdown",
   "metadata": {},
   "source": [
    "Consideramos $\\alpha \\in \\mathbb{R}, x,y \\in \\mathbb{R}^n$. El nombre lo recibe por *scalar alpha x plus y*. En LAPACK [saxpy](http://www.netlib.org/lapack/explore-html/d8/daf/saxpy_8f.html) se escribe en forma *update*:\n",
    "\n",
    "$$y=\\alpha x + y \\therefore y_i = \\alpha x_i + y_i \\forall i=1,...,n$$"
   ]
  },
  {
   "cell_type": "markdown",
   "metadata": {},
   "source": [
    "```{admonition} Comentarios\n",
    "\n",
    "* El símbolo \"=\" no se utiliza como igualdad de expresiones sino para denotar asignación (como en computación al escribir un algoritmo).\n",
    "\n",
    "* También encontramos en LAPACK [caxpy](http://www.netlib.org/lapack/explore-html/de/da2/caxpy_8f.html) y [daxpy](http://www.netlib.org/lapack/explore-html/d9/dcd/daxpy_8f.html) para el caso complejo y para números en doble precisión respectivamente.\n",
    "\n",
    "* Ésta operación realiza un trabajo de $\\mathcal{O}(n)$ sobre una cantidad de datos $\\mathcal{O}(n)$.\n",
    "\n",
    "```"
   ]
  },
  {
   "cell_type": "markdown",
   "metadata": {},
   "source": [
    "### Ejemplo y algoritmo"
   ]
  },
  {
   "cell_type": "code",
   "execution_count": 68,
   "metadata": {},
   "outputs": [],
   "source": [
    "alpha=2\n",
    "n=5\n",
    "x=[-2]*n\n",
    "y=[0]*n\n",
    "\n",
    "for i in range(n):\n",
    "    y[i] += alpha*x[i]"
   ]
  },
  {
   "cell_type": "code",
   "execution_count": 69,
   "metadata": {},
   "outputs": [
    {
     "name": "stdout",
     "output_type": "stream",
     "text": [
      "[-4, -4, -4, -4, -4]\n"
     ]
    }
   ],
   "source": [
    "print(y)"
   ]
  },
  {
   "cell_type": "markdown",
   "metadata": {},
   "source": [
    "o en una forma *update*:"
   ]
  },
  {
   "cell_type": "code",
   "execution_count": 70,
   "metadata": {},
   "outputs": [],
   "source": [
    "alpha=2\n",
    "n=5\n",
    "x=[-2]*n\n",
    "y=[3,4,-1,0,1]\n",
    "\n",
    "for i in range(n):\n",
    "    y[i] += alpha*x[i]"
   ]
  },
  {
   "cell_type": "code",
   "execution_count": 71,
   "metadata": {},
   "outputs": [
    {
     "name": "stdout",
     "output_type": "stream",
     "text": [
      "[-1, 0, -5, -4, -3]\n"
     ]
    }
   ],
   "source": [
    "print(y)"
   ]
  },
  {
   "cell_type": "markdown",
   "metadata": {},
   "source": [
    "```{admonition} Comentario\n",
    "\n",
    "La operación de producto punto y *saxpy* son algoritmos catalogados como de **nivel BLAS 1**, ver [BLAS: Basic Linear Algebra Subprograms](https://en.wikipedia.org/wiki/Basic_Linear_Algebra_Subprograms). Éstos algoritmos se caracterizan por involucrar una cantidad de trabajo lineal sobre una cantidad lineal de datos. Ver [level 1](http://www.netlib.org/blas/#_level_1) para más ejemplos de este tipo de algoritmos.\n",
    "\n",
    "```"
   ]
  },
  {
   "cell_type": "markdown",
   "metadata": {},
   "source": [
    "### Operación de multiplicación matriz-vector (nivel 2 de BLAS)"
   ]
  },
  {
   "cell_type": "markdown",
   "metadata": {},
   "source": [
    "Consideramos $A \\in \\mathbb{R}^{m \\times n}, x \\in \\mathbb{R}^n, y \\in \\mathbb{R}^m$. La operación $y = y + Ax$ es una operación *generalizada* saxpy, por ello se denomina **gaxpy** pero en LAPACK podemos encontrarla con nombres como [sgemv](http://www.netlib.org/lapack/explore-html/db/d58/sgemv_8f.html), [dgemv](http://www.netlib.org/lapack/explore-html/dc/da8/dgemv_8f.html) y [cgemv](http://www.netlib.org/lapack/explore-html/d4/d8a/cgemv_8f.html) para los casos de precisión simple, doble y números complejos respectivamente. Hay diferentes formas de visualizar y escribir el algoritmo de multiplicación matriz-vector. Por ejemplo para una matriz $A$ con entradas:\n"
   ]
  },
  {
   "cell_type": "code",
   "execution_count": 72,
   "metadata": {},
   "outputs": [],
   "source": [
    "m=2\n",
    "n=5\n",
    "A=[[1.2]*n if i%2==0 else [1]*n for i in range(m)]"
   ]
  },
  {
   "cell_type": "code",
   "execution_count": 73,
   "metadata": {},
   "outputs": [
    {
     "name": "stdout",
     "output_type": "stream",
     "text": [
      "[[1.2, 1.2, 1.2, 1.2, 1.2], [1, 1, 1, 1, 1]]\n"
     ]
    }
   ],
   "source": [
    "print(A)"
   ]
  },
  {
   "cell_type": "markdown",
   "metadata": {},
   "source": [
    "se tiene:"
   ]
  },
  {
   "cell_type": "markdown",
   "metadata": {},
   "source": [
    "### Ejemplo y algoritmo *gaxpy row oriented*"
   ]
  },
  {
   "cell_type": "code",
   "execution_count": 74,
   "metadata": {},
   "outputs": [],
   "source": [
    "x=[2]*n\n",
    "y=[0]*m\n",
    "for i in range(m):\n",
    "    for j in range(n):\n",
    "        y[i]+=A[i][j]*x[j]\n"
   ]
  },
  {
   "cell_type": "code",
   "execution_count": 75,
   "metadata": {},
   "outputs": [
    {
     "name": "stdout",
     "output_type": "stream",
     "text": [
      "[12.0, 10]\n"
     ]
    }
   ],
   "source": [
    "print(y)"
   ]
  },
  {
   "cell_type": "markdown",
   "metadata": {},
   "source": [
    "Si $y$ tiene valores distintos de $0$, se realiza un *update*:"
   ]
  },
  {
   "cell_type": "code",
   "execution_count": 76,
   "metadata": {},
   "outputs": [],
   "source": [
    "x=[2]*n\n",
    "y=[-1]*m\n",
    "for i in range(m):\n",
    "    for j in range(n):\n",
    "        y[i]+=A[i][j]*x[j]\n"
   ]
  },
  {
   "cell_type": "code",
   "execution_count": 77,
   "metadata": {},
   "outputs": [
    {
     "name": "stdout",
     "output_type": "stream",
     "text": [
      "[11.0, 9]\n"
     ]
    }
   ],
   "source": [
    "print(y)"
   ]
  },
  {
   "cell_type": "markdown",
   "metadata": {},
   "source": [
    "````{admonition} Comentarios\n",
    "\n",
    "* En la versión *row oriented* del algoritmo *gaxpy*, el **inner loop** realiza **productos punto** entre el $i$-ésimo renglón de $A$ y el vector $x$. Se realizan $m$ productos punto $A[i,:]^Tx$\n",
    "\n",
    "```python\n",
    "for i in range(m):\n",
    "    y[i]+=A[i,:]*x #producto punto\n",
    "    \n",
    "```\n",
    "\n",
    "donde: $A[i,:]$ es el $i$-ésimo renglón de $A$. Así podemos reescribir de forma más compacta este algoritmo.\n",
    "\n",
    "Sin embargo como hemos visto en Python con su implementación más común CPython, no es posible realizar tal indexado pues resulta en el error:\n",
    "\n",
    "```\n",
    "---------------------------------------------------------------------------\n",
    "TypeError                                 Traceback (most recent call last)\n",
    "<ipython-input-14-8ae2a3e9d101> in <module>\n",
    "      1 for i in range(m):\n",
    "----> 2     y[i]+=A[i,:]*x #producto punto\n",
    "      3 \n",
    "\n",
    "TypeError: list indices must be integers or slices, not tuple\n",
    "```\n",
    "\n",
    "a menos que incorporemos alguna paquetería que permita la **vectorización** y el uso de índices para extracción de columnas (o renglones) de $A$ como *NumPy*.\n",
    "\n",
    "````"
   ]
  },
  {
   "cell_type": "markdown",
   "metadata": {},
   "source": [
    "```{admonition} Observación\n",
    ":class: tip\n",
    "\n",
    "Obsérvese que el acceso a la matriz $A$ del algoritmo *gaxpy row oriented* es **por renglón**, de ahí el nombre.\n",
    "\n",
    "```"
   ]
  },
  {
   "cell_type": "markdown",
   "metadata": {},
   "source": [
    "También puede escribirse al algoritmo *gaxpy* en una forma orientada por columnas."
   ]
  },
  {
   "cell_type": "markdown",
   "metadata": {},
   "source": [
    "### Ejemplo y algoritmo *gaxpy column oriented*"
   ]
  },
  {
   "cell_type": "markdown",
   "metadata": {},
   "source": [
    "Este algoritmo ayuda a visualizar al producto matriz-vector como una combinación lineal de las columnas de $A$:\n",
    "\n",
    "$$Ax = \\displaystyle \\sum_{j=1}^n A_jx_j$$\n",
    "\n",
    "con $A_j$ la $j$-ésima columna de $A$.\n"
   ]
  },
  {
   "cell_type": "code",
   "execution_count": 78,
   "metadata": {},
   "outputs": [],
   "source": [
    "x=[2]*n\n",
    "y=[0]*m\n",
    "for j in range(n):\n",
    "    for i in range(m):\n",
    "        y[i]+=A[i][j]*x[j]"
   ]
  },
  {
   "cell_type": "code",
   "execution_count": 79,
   "metadata": {},
   "outputs": [
    {
     "name": "stdout",
     "output_type": "stream",
     "text": [
      "[12.0, 10]\n"
     ]
    }
   ],
   "source": [
    "print(y)"
   ]
  },
  {
   "cell_type": "markdown",
   "metadata": {},
   "source": [
    "````{admonition} Comentarios \n",
    "\n",
    "* El algoritmo de multiplicación matriz-vector (versión *row* o *column* oriented) involucra $\\mathcal{O}(mn)$ operaciones o una cantidad **cuadrática** de trabajo, que podemos entender como \"si duplicamos cada dimensión de $A$ entonces la cantidad de trabajo se incrementa por un factor de $4$\". Tal número de operaciones trabajan sobre una matriz o sobre una cantidad **cuadrática** de datos. A los algoritmos que realizan una cantidad cuadrática de trabajo sobre una cantidad cuadrática de datos se les cataloga de **nivel BLAS 2**. Ver [level 2](http://www.netlib.org/blas/#_level_2) para más ejemplos de algoritmos en el álgebra lineal en esta categoría.\n",
    "\n",
    "* En el algoritmo *gaxpy column oriented* el acceso a la matriz $A$ es por columna.\n",
    "\n",
    "* La versión *column oriented* se puede analizar desde el punto de vista puramente algorítmico como un intercambio entre las líneas con los índices $i$ y $j$ de cada *loop* y un acceso a los datos de la matriz por columna. O bien, se puede analizar desde el álgebra lineal indicando que el vector $y$ está en el espacio generado por las columnas de $A$ y cuyas coordenadas son dadas por las entradas del vector $x$:\n",
    "\n",
    "<img src=\"https://dl.dropboxusercontent.com/s/6a2b7rjs4a71sni/combinacion_lineal_columnas_A.png?dl=0\" heigth=\"700\" width=\"700\">\n",
    "\n",
    "* Obsérvese que el **inner loop** de la versión *column oriented* en *gaxpy* es un **saxpy** en la que el escalar está dado por una entrada de $x$. Esto lo podemos escribir de forma explícita definiendo $A[:,j]$ a la $j$-ésima columna de $A$ por lo que $A = [A[:,1] | A[:,2] | \\dots | A[:,n]]$, entonces:\n",
    "\n",
    "```python\n",
    "x=[2]*n\n",
    "y=[0]*m\n",
    "for j in range(n):\n",
    "    y+=A[:,j]*x[j]\n",
    "```\n",
    "\n",
    "Sin embargo como hemos visto en Python con su implementación más común CPython, no es posible realizar tal indexado pues resulta en el error:\n",
    "\n",
    "```python\n",
    "TypeError                                 Traceback (most recent call last)\n",
    "<ipython-input-17-93f449af9194> in <module>\n",
    "      2 y=[0]*m\n",
    "      3 for j in range(n):\n",
    "----> 4     y+=A[:,j]*x[j]\n",
    "\n",
    "TypeError: list indices must be integers or slices, not tuple\n",
    "\n",
    "```\n",
    "\n",
    "a menos que incorporemos alguna paquetería que permita la **vectorización** y el uso de índices para extracción de columnas (o renglones) de $A$ como *NumPy*.\n",
    "\n",
    "````"
   ]
  },
  {
   "cell_type": "code",
   "execution_count": 80,
   "metadata": {},
   "outputs": [],
   "source": [
    "x = 2*np.ones(n)\n",
    "y = np.zeros(m)"
   ]
  },
  {
   "cell_type": "code",
   "execution_count": 81,
   "metadata": {},
   "outputs": [
    {
     "name": "stdout",
     "output_type": "stream",
     "text": [
      "[2. 2. 2. 2. 2.]\n"
     ]
    }
   ],
   "source": [
    "print(x)"
   ]
  },
  {
   "cell_type": "code",
   "execution_count": 82,
   "metadata": {},
   "outputs": [
    {
     "name": "stdout",
     "output_type": "stream",
     "text": [
      "[0. 0.]\n"
     ]
    }
   ],
   "source": [
    "print(y)"
   ]
  },
  {
   "cell_type": "code",
   "execution_count": 83,
   "metadata": {},
   "outputs": [],
   "source": [
    "A=np.array([[1.2,1.2,1.2,1.2,1.2],[1,1,1,1,1]])"
   ]
  },
  {
   "cell_type": "code",
   "execution_count": 84,
   "metadata": {},
   "outputs": [
    {
     "name": "stdout",
     "output_type": "stream",
     "text": [
      "[[1.2 1.2 1.2 1.2 1.2]\n",
      " [1.  1.  1.  1.  1. ]]\n"
     ]
    }
   ],
   "source": [
    "print(A)"
   ]
  },
  {
   "cell_type": "code",
   "execution_count": 85,
   "metadata": {},
   "outputs": [],
   "source": [
    "for j in range(n):\n",
    "    y+=A[:,j]*x[j]"
   ]
  },
  {
   "cell_type": "code",
   "execution_count": 86,
   "metadata": {},
   "outputs": [
    {
     "name": "stdout",
     "output_type": "stream",
     "text": [
      "[12. 10.]\n"
     ]
    }
   ],
   "source": [
    "print(y)"
   ]
  },
  {
   "cell_type": "markdown",
   "metadata": {},
   "source": [
    "El algoritmo *gaxpy row oriented* puede escribirse de forma más compacta haciendo uso de la definición de producto punto estándar: $x^Ty$ para dos vectores columna $x$ y $y$. En el caso de una matriz $A$ se tiene:\n",
    "\n",
    "```\n",
    "for i=1:m\n",
    "    y[i]+=A[i,:]^T*x\n",
    "```\n",
    "\n",
    "donde: $A[i,:]$ es el $i$-ésimo renglón de $A$. En *Python*:"
   ]
  },
  {
   "cell_type": "code",
   "execution_count": 87,
   "metadata": {},
   "outputs": [],
   "source": [
    "x = 2*np.ones(n)\n",
    "y = np.zeros(m)\n",
    "A=np.array([[1.2,1.2,1.2,1.2,1.2],[1,1,1,1,1]])"
   ]
  },
  {
   "cell_type": "code",
   "execution_count": 88,
   "metadata": {},
   "outputs": [],
   "source": [
    "for i in range(m):\n",
    "    y[i]+=A[i,:].dot(x)"
   ]
  },
  {
   "cell_type": "code",
   "execution_count": 89,
   "metadata": {},
   "outputs": [
    {
     "name": "stdout",
     "output_type": "stream",
     "text": [
      "[12. 10.]\n"
     ]
    }
   ],
   "source": [
    "print(y)"
   ]
  },
  {
   "cell_type": "markdown",
   "metadata": {},
   "source": [
    "### Operación de multiplicación matriz-matriz (nivel 3 de BLAS)"
   ]
  },
  {
   "cell_type": "markdown",
   "metadata": {},
   "source": [
    "El algoritmo de multiplicación de matrices $C = C + AB$ con $A \\in \\mathbb{R}^{m \\times r}, B \\in \\mathbb{R}^{r \\times n}, C \\in \\mathbb{R}^{m \\times n}$ se cataloga como de nivel 3 de BLAS pues realiza una **cantidad de trabajo cúbica** sobre una **cantidad cuadrática de datos**. Ver [level 3](http://www.netlib.org/blas/#_level_3) para más ejemplos de algoritmos en el álgebra lineal en esta categoría."
   ]
  },
  {
   "cell_type": "markdown",
   "metadata": {},
   "source": [
    "En LAPACK encontramos al algoritmo de multiplicación matricial con nombres como [sgemm](http://www.netlib.org/lapack/explore-html/d4/de2/sgemm_8f.html), [dgemm](http://www.netlib.org/lapack/explore-html/d7/d2b/dgemm_8f.html) y [cgemm](http://www.netlib.org/lapack/explore-html/d6/d5b/cgemm_8f.html) para los casos de precisión simple, doble y números complejos respectivamente. "
   ]
  },
  {
   "cell_type": "markdown",
   "metadata": {},
   "source": [
    "El algoritmo de multiplicación de matrices puede escribirse en diferentes versiones. Por ejemplo la versión  **i,j,k** es:\n",
    "\n",
    "```\n",
    "for i in range(m):\n",
    "    for j in range(n):\n",
    "        for k in range(r):\n",
    "            C[i][j]+=A[i][k]*B[k][j]\n",
    "    \n",
    "```\n",
    "\n",
    "y la versión **j,k,i** es:\n",
    "\n",
    "```\n",
    "for j in range(n):\n",
    "    for k in range(r):\n",
    "        for i in range(m):\n",
    "            C[i][j]+=A[i][k]*B[k][j]\n",
    "```"
   ]
  },
  {
   "cell_type": "markdown",
   "metadata": {},
   "source": [
    "```{admonition} Comentarios\n",
    "\n",
    "* Cualquiera de las versiones (hay $3!$ de ellas) involucra una cantidad de trabajo del orden $\\mathcal{O}(mnr)$, la cual es cúbica. Es posible interpretar ésta cantidad de trabajo con una frase del tipo \"si duplicamos cada dimensión de $A$ entonces la cantidad de trabajo se incrementa por un factor de $8$\".\n",
    "\n",
    "* Distintas versiones tienen distinto patrón de acceso a los datos de $A, B$ y $C$. Por ejemplo, para la variante **i,j,k** el **inner loop** realiza un producto punto que requiere acceso a renglones de $A$ y columnas de $B$ en una forma izquierda-derecha y abajo-arriba respectivamente. La variante **j,k,i** involucra una operación *saxpy* en el **inner loop** y acceso por columnas a la matriz $C$ y a $A$. Un resúmen de lo anterior se presenta en el siguiente cuadro:\n",
    "\n",
    "<img src=\"https://dl.dropboxusercontent.com/s/rw81crmo1b7fjvb/tabla_con_versiones_mult_matrices.png?dl=0\" heigth=\"450\" width=\"450\">\n",
    "\n",
    "```"
   ]
  },
  {
   "cell_type": "markdown",
   "metadata": {},
   "source": [
    "### Otras versiones de la multiplicación de matrices apoyándose de las formas (i,j,k), (j,k,i),..."
   ]
  },
  {
   "cell_type": "markdown",
   "metadata": {},
   "source": [
    "Si utilizamos la versión **i,j,k** podemos reescribir la multiplicación de matrices en una forma:\n",
    "\n",
    "```\n",
    "for i in range(m):\n",
    "    for j in range(n)\n",
    "        C[i][j]+= A[i,:].dot(B[:,j])\n",
    "```\n",
    "\n",
    "y hemos vectorizado el *inner loop* para usar productos punto que es una operación nivel 1 de BLAS.\n",
    "\n",
    "Además *NumPy* nos provee de funcionalidad para reescribir ésta forma de productos punto en una como sigue:\n",
    "\n",
    "\n",
    "```\n",
    "for i in range(m):\n",
    "    C[i,:]+= A[i,:]@B\n",
    "```\n"
   ]
  },
  {
   "cell_type": "markdown",
   "metadata": {},
   "source": [
    "```{admonition} Comentario\n",
    "\n",
    "En esta reescritura se realizan $m$ operaciones *gaxpy* de nivel 2 en el *loop*. Esta versión debe ser más rápida que la que utiliza operaciones de nivel 1 de BLAS.\n",
    "\n",
    "```"
   ]
  },
  {
   "cell_type": "markdown",
   "metadata": {},
   "source": [
    "(OPERTIPICASALGLINEALYFLOPS)="
   ]
  },
  {
   "cell_type": "markdown",
   "metadata": {},
   "source": [
    "### Operaciones típicas del álgebra lineal y los *flops* que realizan"
   ]
  },
  {
   "cell_type": "markdown",
   "metadata": {},
   "source": [
    "A continuación se muestra una tabla que presenta el número de *flops* realizados por distintas operaciones del álgebra lineal:\n",
    "\n",
    "<img src=\"https://dl.dropboxusercontent.com/s/rvqkokicaqkwrif/tabla_con_flops_para_operaciones_alg_lineal.png?dl=0\" heigth=\"550\" width=\"550\">\n"
   ]
  },
  {
   "cell_type": "markdown",
   "metadata": {},
   "source": [
    "```{admonition} Comentario\n",
    "\n",
    "Por la tabla anterior, *gaxpy* (nivel 2 de BLAS) realiza más *flops* que un producto punto. Aún así, debe cumplirse que la versión de *gaxpy* sea más rápida que la versión con productos punto (nivel 1 de BLAS) para la multiplicación de matrices pues aprovecha mejor el *data reuse* y *data locality*. Esto se logra pues *gaxpy* disminuye el número de *cache misses* y por tanto el tráfico hacia y desde el caché (*data movement/motion*).\n",
    "\n",
    "```"
   ]
  },
  {
   "cell_type": "markdown",
   "metadata": {},
   "source": [
    "### Métodos para resolver sistemas de ecuaciones lineales (SEL) o factorizaciones matriciales (FM) y los *flops* que realizan"
   ]
  },
  {
   "cell_type": "markdown",
   "metadata": {},
   "source": [
    "Ver {ref}`algoritmos para resolver sistemas de ecuaciones lineales <ALGSEL>` para ejemplos de métodos directos o basados en FM e iterativos que resuelven SEL.\n",
    "\n",
    "Los métodos iterativos no realizan FM. Hay características de la matriz (por ejemplo simetría) que no explotan en su implementación pero se benefician de otras (por ejemplo si $A$ es *sparse* o rala: muchos ceros). Otras características de tales métodos son: uso de menos memoria que los directos o basados en FM, convergen bajo condiciones simples de verificar y son sencillos de implementar.\n",
    "\n",
    "Los métodos directos o basados en FM en general consumen más memoria que los iterativos, tienen el potencial de utilizar operaciones de nivel BLAS $3$, siempre encuentran solución si la matriz del sistema es no singular y en general requieren mejor dominio de la programación para su implementación que los iterativos. Una vez calculada la FM de la matriz $A$ se utilizan métodos para resolver SEL que resultan de la FM. Un ejemplo de tales métodos son los de sustitución hacia delante y hacia atrás para resolver SEL triangulares.\n",
    "\n",
    "Nombremos a los métodos o algoritmos numéricos anteriores nuestros **métodos básicos del álgebra lineal para resolver SEL o FM** (MBAL para SEL o FM). Cada uno puede utilizarse para resolver SEL, FM o para otros propósitos. Por ejemplo la factorización QR también se utiliza en el cálculo de eigenvalores y eigenvectores en el algoritmo QR.\n",
    "\n",
    "Aquí se presenta una tabla que muestra el número de flops si se desea resolver $Ax=b$ con $A \\in \\mathbb{R}^{n \\times n}$ de algunos MBAL para SEL o FM:"
   ]
  },
  {
   "cell_type": "markdown",
   "metadata": {},
   "source": [
    "<img src=\"https://dl.dropboxusercontent.com/s/7i01uxbxyadhuh1/flops_MBAL_ABAL.png?dl=0\" heigth=\"250\" width=\"250\">"
   ]
  },
  {
   "cell_type": "markdown",
   "metadata": {},
   "source": [
    "```{admonition} Comentarios\n",
    "\n",
    "* Es fácil verificar que resolver $Ax = b$ calculando la inversa (por ejemplo `np.linalg.inv(A)@b`) resultan en aproximadamente $\\frac{8n^3}{3}$ *flops*. \n",
    "\n",
    "* Los MBAL para SEL o FM sirven de apoyo para resolver SEL por **bloques**. \n",
    "```"
   ]
  },
  {
   "cell_type": "markdown",
   "metadata": {},
   "source": [
    "## Blocking algorithms para multiplicación de matrices"
   ]
  },
  {
   "cell_type": "markdown",
   "metadata": {},
   "source": [
    "El *data reuse* y el *data locality* se incrementa al utilizar operaciones de nivel BLAS mayores. También disminuye el *data movement/motion* hacia y desde el caché y por tanto tiene menos impacto el *bottleneck* de Von Neumann en el *performance*.\n",
    "\n",
    "Por lo anterior hay algoritmos que se diseñan con el objetivo de aprovechar lo más posible el *data reuse* y el *data locality* y se nombran *blocking algorithms*. Entre los *blocking algorithms* encontramos a los que trabajan con matrices por bloques pues son más eficientes al utilizar un nivel $3$ de BLAS. Una matriz $A \\in \\mathbb{R}^{m \\times n}$ por bloques se puede escribir como:\n",
    "\n",
    "<img src=\"https://dl.dropboxusercontent.com/s/s77weq74yoi2rfc/matrix_A_by_blocks.png?dl=0\" heigth=\"300\" width=\"300\">\n",
    "\n",
    "donde: $m_1 + \\dots + m_q = m$, $n_1 + \\dots + n_r = n$. Con esta definición se llama a la matriz $A$, una matriz por bloques de tamaño $q \\times r$.\n"
   ]
  },
  {
   "cell_type": "markdown",
   "metadata": {},
   "source": [
    "```{admonition} Comentarios\n",
    "\n",
    "* Hay que tener en cuenta que trabajar con matrices por bloques utiliza mayor cantidad de memoria que un algoritmo que opera a un nivel escalar esto puede ser benéfico o no dependiendo del problema (por ejemplo simetría de una matriz puede aprovecharse en este caso), máquina o arquitectura en la que se esté trabajando.\n",
    "\n",
    "* Trabajar con *blocking algorithms* permite simplificar notación matemática. Además, su escritura ayuda a pensar en una implementación con cómputo en paralelo.\n",
    "\n",
    "```"
   ]
  },
  {
   "cell_type": "markdown",
   "metadata": {},
   "source": [
    "### Algunas operaciones en matrices por bloques"
   ]
  },
  {
   "cell_type": "markdown",
   "metadata": {},
   "source": [
    "Entre las operaciones que son posibles realizar a un nivel por bloques se encuentran:"
   ]
  },
  {
   "cell_type": "markdown",
   "metadata": {},
   "source": [
    "### Multiplicación por escalares"
   ]
  },
  {
   "cell_type": "markdown",
   "metadata": {},
   "source": [
    "$$\\begin{array}{l}\n",
    "\\mu \\left[ \\begin{array}{cc}\n",
    "A_{11} & A_{12}\\\\\n",
    "A_{21} & A_{22}\\\\\n",
    "A_{31} & A_{32}\n",
    "\\end{array}\n",
    "\\right] = \n",
    "\\left[\\begin{array}{cc}\n",
    "\\mu A_{11} & \\mu A_{12}\\\\\n",
    "\\mu A_{21} & \\mu A_{22}\\\\\n",
    "\\mu A_{31} & \\mu A_{32}\n",
    "\\end{array}\n",
    "\\right] \n",
    "\\end{array}\n",
    "$$\n",
    "\n",
    "con $\\mu \\in \\mathbb{R}$."
   ]
  },
  {
   "cell_type": "markdown",
   "metadata": {},
   "source": [
    "### Transposición"
   ]
  },
  {
   "cell_type": "markdown",
   "metadata": {},
   "source": [
    "$$\\begin{array}{l}\n",
    "\\left[ \\begin{array}{cc}\n",
    "A_{11} & A_{12}\\\\\n",
    "A_{21} & A_{22}\\\\\n",
    "A_{31} & A_{32}\n",
    "\\end{array}\n",
    "\\right]^T = \n",
    "\\left[\\begin{array}{ccc}\n",
    "A_{11}^T & A_{21}^T & A_{31}^T\\\\\n",
    "A_{12}^T & A_{22}^T & A_{32}^T\\\\\n",
    "\\end{array}\n",
    "\\right] \n",
    "\\end{array}\n",
    "$$"
   ]
  },
  {
   "cell_type": "markdown",
   "metadata": {},
   "source": [
    "### Suma"
   ]
  },
  {
   "cell_type": "markdown",
   "metadata": {},
   "source": [
    "$$\\begin{array}{l}\n",
    "\\left[ \\begin{array}{cc}\n",
    "A_{11} & A_{12}\\\\\n",
    "A_{21} & A_{22}\\\\\n",
    "A_{31} & A_{32}\n",
    "\\end{array}\n",
    "\\right] + \n",
    "\\left[\\begin{array}{cc}\n",
    "B_{11} & B_{12}\\\\\n",
    "B_{21} & B_{22}\\\\\n",
    "B_{31} & B_{32}\n",
    "\\end{array}\n",
    "\\right] =\n",
    "\\left[\\begin{array}{cc}\n",
    "A_{11} + B_{11} & A_{12} + B_{12}\\\\\n",
    "A_{21} + B_{21} & A_{22} + B_{22}\\\\\n",
    "A_{31} + B_{31} & A_{32} + B_{32}\n",
    "\\end{array}\n",
    "\\right]\n",
    "\\end{array}\n",
    "$$"
   ]
  },
  {
   "cell_type": "markdown",
   "metadata": {},
   "source": [
    "### Multiplicación"
   ]
  },
  {
   "cell_type": "markdown",
   "metadata": {},
   "source": [
    "$$\\begin{array}{l}\n",
    "\\left[ \\begin{array}{cc}\n",
    "A_{11} & A_{12}\\\\\n",
    "A_{21} & A_{22}\\\\\n",
    "A_{31} & A_{32}\n",
    "\\end{array}\n",
    "\\right] \\cdot\n",
    "\\left[\\begin{array}{cc}\n",
    "B_{11} & B_{12}\\\\\n",
    "B_{21} & B_{22}\\\\\n",
    "\\end{array}\n",
    "\\right] =\n",
    "\\left[\\begin{array}{cc}\n",
    "A_{11}B_{11} + A_{12}B_{21} & A_{11}B_{12} + A_{12}B_{22}\\\\\n",
    "A_{21}B_{11} + A_{22}B_{21} & A_{21}B_{12} + A_{22}B_{22}\\\\\n",
    "A_{31}B_{11} + A_{32}B_{21} & A_{31}B_{12} + A_{32}B_{22}\n",
    "\\end{array}\n",
    "\\right]\n",
    "\\end{array}\n",
    "$$"
   ]
  },
  {
   "cell_type": "markdown",
   "metadata": {},
   "source": [
    "```{admonition} Comentario\n",
    "\n",
    "El número de columnas de los bloques $A_{11}, A_{21}, A_{31}$ deben coincidir con el número de renglones de $B_{11}, B_{12}$. Así como con los bloques $A_{12}, A_{22}, A_{32}$ y $B_{21}, B_{22}$.\n",
    "\n",
    "```"
   ]
  },
  {
   "cell_type": "markdown",
   "metadata": {},
   "source": [
    "Considérese que se particionan a las matrices $A, B, C$ como sigue:\n",
    "\n",
    "<img src=\"https://dl.dropboxusercontent.com/s/j0p89i19vf5r88k/A_B_C_matrices_by_blocks.png?dl=0\" heigth=\"400\" width=\"400\">\n"
   ]
  },
  {
   "cell_type": "markdown",
   "metadata": {},
   "source": [
    "Esto es, $A,B,C$ son $N \\times N$ matrices por bloques con $\\ell \\times \\ell$ bloques. Entonces, para índices $\\alpha = 1,2,\\dots, N$ y $\\beta = 1,2,\\dots,N$ se tiene que el bloque $\\alpha \\beta$ de $C$ se obtiene: $C_{\\alpha \\beta} = \\displaystyle \\sum_{\\gamma=1}^N A_{\\alpha \\gamma} B_{\\gamma \\beta}$. \n",
    "\n",
    "El algoritmo una vez definido el bloque de tamaño $\\ell$ es:\n",
    "\n",
    "```python\n",
    "for alpha in np.arange(N):\n",
    "    i = np.arange((alpha - 1)*l + 1,alpha*l + 1) #TODO: check if index is well defined\n",
    "    for beta in np.arange(N):\n",
    "        j = np.arange((beta - 1)*l + 1, beta*l + 1) #TODO: check if index is well defined\n",
    "        for gamma in np.arange(N):\n",
    "            k = np.arange((gamma - 1)*l + 1, gamma*l + 1) #TODO: check if index is well defined\n",
    "            C[i][:,j]+= A[i][:,k]*B[k][:,j]\n",
    "\n",
    "```"
   ]
  },
  {
   "cell_type": "markdown",
   "metadata": {},
   "source": [
    "```{admonition} Ejercicio\n",
    ":class: tip\n",
    "\n",
    "Implementar la multiplicación por bloques en *Python* y *R*. \n",
    "\n",
    "```"
   ]
  },
  {
   "cell_type": "markdown",
   "metadata": {},
   "source": [
    "### Métodos por bloques para resolver sistemas de ecuaciones lineales"
   ]
  },
  {
   "cell_type": "markdown",
   "metadata": {},
   "source": [
    "### Eliminación por bloque"
   ]
  },
  {
   "cell_type": "markdown",
   "metadata": {},
   "source": [
    "Este método consiste en eliminar un subconjunto de variables y resolver un sistema más pequeño. Si el sistema más pequeño asociado a la submatriz puede resolverse con alguno de los MBAL para SEL o FM anteriores entonces este método puede tener más eficiencia que uno que no trabaja por bloques.\n",
    "\n",
    "\n",
    "Considérese un sistema de la forma: $Ax=b$ escrito como:"
   ]
  },
  {
   "cell_type": "markdown",
   "metadata": {},
   "source": [
    "$$\\begin{array}{l}\n",
    "\\left[ \\begin{array}{cc}\n",
    "A_{11} & A_{12}\\\\\n",
    "A_{21} & A_{22}\n",
    "\\end{array}\n",
    "\\right] \\cdot \n",
    "\\left[\\begin{array}{c}\n",
    "x_1\\\\\n",
    "x_2\n",
    "\\end{array}\n",
    "\\right] =\n",
    "\\left[\\begin{array}{c}\n",
    "b_1\\\\\n",
    "b_2\n",
    "\\end{array}\n",
    "\\right]\n",
    "\\end{array}\n",
    "$$"
   ]
  },
  {
   "cell_type": "markdown",
   "metadata": {},
   "source": [
    "con $x_1 \\in \\mathbb{R}^{n_1}, x_2 \\in \\mathbb{R}^{n_2}, A_{11} \\in \\mathbb{R}^{n_1 \\times n_1}, A_{22} \\in \\mathbb{R}^{n_2 \\times n_2}, b_1 \\in \\mathbb{R}^{n_1}, b_2 \\in \\mathbb{R}^{n_2}$.\n",
    "\n",
    "El método de eliminación por bloques consiste en que si $A_{11}$ es invertible, entonces se puede eliminar $x_1$ de las ecuaciones como sigue:\n",
    "\n",
    "* De la primer ecuación por bloques: $A_{11}x_1 + A_{12}x_2 = b_1$ se obtiene: $x_1 = A_{11}^{-1}(b_1-A_{12}x_2)$.\n",
    "\n",
    "* Sustituyendo esta relación en la segunda ecuación por bloques obtenemos la ecuación reducida: $(A_{22}-A_{21}A_{11}^{-1}A_{12})x_2 = b_2 - A_{21}A_{11}^{-1}b_1$.\n"
   ]
  },
  {
   "cell_type": "markdown",
   "metadata": {},
   "source": [
    "```{admonition} Comentarios\n",
    "\n",
    "* Las dos ecuaciones anteriores son equivalentes al sistema original $Ax=b$. \n",
    "\n",
    "* La matriz $A_{22}-A_{21}A_{11}^{-1}A_{12}$ se le nombra **complemento de Schur** del bloque $A_{11}$ en $A$ (ver [Schur complement](https://en.wikipedia.org/wiki/Schur_complement)) esto es: \n",
    "\n",
    "$$S = A_{22}-A_{21}A_{11}^{-1}A_{12}.$$\n",
    "\n",
    "* Se tiene la propiedad siguiente: $S$ es no singular si y sólo si $A$ es no singular.\n",
    "\n",
    "```"
   ]
  },
  {
   "cell_type": "markdown",
   "metadata": {},
   "source": [
    "### Algoritmo: método de eliminación por bloque"
   ]
  },
  {
   "cell_type": "markdown",
   "metadata": {},
   "source": [
    "> **Dados** $A$ y $A_{11}$ no singulares\n",
    ">\n",
    "> 1.Calcular $A_{11}^{-1}A_{12}$ y $A_{11}^{-1}b_1$ teniendo cuidado en **no** calcular la inversa sino un sistema de ecuaciones lineales:\n",
    ">\n",
    ">>Para realizar la multiplicación $A_{11}^{-1}b_1$ definimos $y=A_{11}^{-1}b_1$ y por tanto $A_{11}y = b_1$ ($A_{11}$ es no singular). Así, resolvemos para $y$ el sistema anterior y habremos calculado $A_{11}^{-1}b_1$. Similarmente definimos $Y=A_{11}^{-1}A_{12}$ con lo que se tiene $A_{11}Y=A_{12}$. Resolvemos para $Y \\in \\mathbb{R} ^{n_1 \\times n_1}$ y habremos calculado $A_{11}^{-1}A_{12}$.\n",
    ">\n",
    ">2.Calcular el complemento de Schur del bloque $A_{11}$ en $A$: $S = A_{22}-A_{21}A_{11}^{-1}A_{12}$. Calcular $ \\hat{b} = b_2-A_{21}A_{11}^{-1}b_1$.\n",
    ">\n",
    ">3.Resolver $Sx_2 = \\hat{b}$.\n",
    ">\n",
    ">4.Resolver $A_{11}x_1 = b_1-A_{12}x_2$.\n"
   ]
  },
  {
   "cell_type": "markdown",
   "metadata": {},
   "source": [
    "```{admonition} Comentario\n",
    "\n",
    "En los pasos que se requieren resolver sistemas de ecuaciones lineales se utilizan los MBAL para SEL o FM.\n",
    "\n",
    "```"
   ]
  },
  {
   "cell_type": "markdown",
   "metadata": {},
   "source": [
    "### *Factor-Solve method*"
   ]
  },
  {
   "cell_type": "markdown",
   "metadata": {},
   "source": [
    "El método de factor solve consiste en expresar a la matriz del sistema $Ax = b$ como un producto de la forma: $A = A_1A_2 \\cdots A_k$. Si $A$ es no singular entonces: $x = A^{-1}b = A_k^{-1}A_{k-1}^{-1} \\cdots A_1^{-1}b$.\n",
    "\n",
    "De esta forma, $x$ puede calcularse de \"derecha a izquierda\":"
   ]
  },
  {
   "cell_type": "markdown",
   "metadata": {},
   "source": [
    "### Descripción matemática del algoritmo"
   ]
  },
  {
   "cell_type": "markdown",
   "metadata": {},
   "source": [
    "$$\n",
    "\\begin{eqnarray}\n",
    "z_1&:=&A_1^{-1}b \\nonumber \\\\\n",
    "z_2&:=&A_2^{-1}z_1 &= A_2^{-1}A_1^{-1}b \\nonumber\\\\\n",
    "\\vdots \\nonumber\\\\\n",
    "z_{k-1}&:=&A_{k-1}^{-1}z_{k-2} &= A_{k-1}^{-1} \\cdots A_1^{-1}b \\nonumber\\\\\n",
    "x &:=&A_k^{-1}z_{k-1} &= A_k^{-1} \\cdot A_{k-1}^{-1} \\cdots A_1^{-1}b \\nonumber\n",
    "\\end{eqnarray}\n",
    "$$"
   ]
  },
  {
   "cell_type": "markdown",
   "metadata": {},
   "source": [
    "```{admonition} Comentarios\n",
    "\n",
    "* El paso que consiste en factorizar a la matriz $A$ es el paso nombrado **factor** y el usado en resolver el sistema $A_iz_i = z_{i-1}$ es nombrado **solve**.\n",
    "\n",
    "* Normalmente $A_i$ tiene una estructura aprovechable (por ejemplo triangular superior/inferior) para resolver el sistema $A_iz_i = z_{i-1}$. Por ejemplo en el caso de la factorización $LU$ de $A$ se cumple $PA = LU$ con $P$ matriz de permutación, $L$ triangular inferior con $1$'s en la diagonal y $U$ triangular superior. Entonces:\n",
    "\n",
    "    * Paso 1: encontrar factores $P,L,U$ tales que $PA=LU$.\n",
    "    \n",
    "    * Paso 2: resolver $Ld=Pb$.\n",
    "    \n",
    "    * Paso 3: resolver $Ux=d$.\n",
    "    \n",
    "```"
   ]
  },
  {
   "cell_type": "markdown",
   "metadata": {},
   "source": [
    "### Método de eliminación por bloques escrito como un *factor-solve method*:"
   ]
  },
  {
   "cell_type": "markdown",
   "metadata": {},
   "source": [
    "El método de *block elimination* puede escribirse como un *factor-solve method*:\n",
    "\n",
    "Paso $1$:\n",
    "\n",
    "$$\\begin{array}{l}\n",
    "\\left[ \\begin{array}{cc}\n",
    "A_{11} & A_{12}\\\\\n",
    "A_{21} & A_{22}\n",
    "\\end{array}\n",
    "\\right]=\n",
    "\\left[\\begin{array}{cc}\n",
    "A_{11} & 0 \\\\\n",
    "A_{21} & S\n",
    "\\end{array}\n",
    "\\right]\n",
    "\\left[\\begin{array}{cc}\n",
    "I & A_{11}^{-1}A_{12} \\\\\n",
    "0 & I\n",
    "\\end{array}\n",
    "\\right]\n",
    "\\end{array}\n",
    "$$\n",
    "\n"
   ]
  },
  {
   "cell_type": "markdown",
   "metadata": {},
   "source": [
    "Paso $2$. Resolver por el método de sustitución hacia delante por bloques:\n",
    "\n",
    "$$\\begin{array}{l}\n",
    "\\left[ \\begin{array}{cc}\n",
    "A_{11} & 0\\\\\n",
    "A_{21} & S\n",
    "\\end{array}\n",
    "\\right] \\cdot\n",
    "\\left[\\begin{array}{c}\n",
    "z_1 \\\\\n",
    "z_2\n",
    "\\end{array}\n",
    "\\right] = \n",
    "\\left[\\begin{array}{c}\n",
    "b_1\\\\\n",
    "b_2\n",
    "\\end{array}\n",
    "\\right]\n",
    "\\end{array}\n",
    "$$"
   ]
  },
  {
   "cell_type": "markdown",
   "metadata": {},
   "source": [
    "Paso $3$. Resolver por el método de sustitución hacia atrás por bloques:\n",
    "\n",
    "$$\\begin{array}{l}\n",
    "\\left[ \\begin{array}{cc}\n",
    "I & A_{11}^{-1}A_{12}\\\\\n",
    "0 & I\n",
    "\\end{array}\n",
    "\\right] \\cdot\n",
    "\\left[\\begin{array}{c}\n",
    "x_1 \\\\\n",
    "x_2\n",
    "\\end{array}\n",
    "\\right] = \n",
    "\\left[\\begin{array}{c}\n",
    "z_1\\\\\n",
    "z_2\n",
    "\\end{array}\n",
    "\\right]\n",
    "\\end{array}\n",
    "$$"
   ]
  },
  {
   "cell_type": "markdown",
   "metadata": {},
   "source": [
    "```{admonition} Comentario\n",
    "\n",
    "En los pasos que se requieren resolver sistemas de ecuaciones lineales se utilizan los MBAL para SEL o FM.\n",
    "\n",
    "\n",
    "```"
   ]
  },
  {
   "cell_type": "markdown",
   "metadata": {},
   "source": [
    "### OpenBLAS y *NumPy*"
   ]
  },
  {
   "cell_type": "markdown",
   "metadata": {},
   "source": [
    "En esta sección se sugiere para reproducibilidad de resultados utilizar la *AMI* y la instancia de AWS ambas descritas al inicio y la *AMI* `opt2-aws-educate-no-openblas-04-04-2021` de la región `us-east-1` (Virginia) en el mismo tipo de instancia. Tal AMI se construyó a partir de una *AMI* `ubuntu 20.04 - ami-042e8287309f5df03` con el [script_no_OpenBLAS.sh](https://github.com/palmoreck/scripts_for_useful_tools_installations/blob/main/AWS/ubuntu_20.04/optimizacion_2/script_no_OpenBLAS.sh)\n"
   ]
  },
  {
   "cell_type": "markdown",
   "metadata": {},
   "source": [
    "````{admonition} Comentario\n",
    "\n",
    "Si se utiliza la *AMI* `opt2-aws-educate-no-openblas-04-04-2021` colocar en `User data` el siguiente *script*:\n",
    "\n",
    "```bash\n",
    "\n",
    "#!/bin/bash\n",
    "##variables:\n",
    "region=us-east-1 #make sure instance is in Virginia\n",
    "name_instance=no-OpenBLAS\n",
    "USER=ubuntu\n",
    "##System update\n",
    "apt-get update -yq\n",
    "##Tag instance\n",
    "INSTANCE_ID=$(curl -s http://instance-data/latest/meta-data/instance-id)\n",
    "PUBLIC_IP=$(curl -s http://instance-data/latest/meta-data/public-ipv4)\n",
    "sudo -H -u $USER bash -c \"/home/$USER/.local/bin/aws ec2 create-tags --resources $INSTANCE_ID --tag Key=Name,Value=$name_instance-$PUBLIC_IP --region=$region\"\n",
    "sudo -H -u $USER bash -c \"cd / && /home/$USER/.local/bin/jupyter lab --ip=0.0.0.0 --no-browser --config=/home/$USER/.jupyter/jupyter_notebook_config.py &\"\n",
    "\n",
    "```\n",
    "\n",
    "````"
   ]
  },
  {
   "cell_type": "markdown",
   "metadata": {},
   "source": [
    "### Resultados utilizando `opt2-aws-educate-openblas-04-04-2021`"
   ]
  },
  {
   "cell_type": "markdown",
   "metadata": {},
   "source": [
    "Verificamos que *NumPy* está usando la implementación de la API de BLAS con OpenBLAS que se obtiene con `sudo apt-get install -y libopenblas-dev`, ver [script_profiling_and_BLAS.sh](https://github.com/palmoreck/scripts_for_useful_tools_installations/blob/main/AWS/ubuntu_20.04/optimizacion_2/script_profiling_and_BLAS.sh)"
   ]
  },
  {
   "cell_type": "code",
   "execution_count": 10,
   "metadata": {},
   "outputs": [
    {
     "name": "stdout",
     "output_type": "stream",
     "text": [
      "blas_mkl_info:\n",
      "  NOT AVAILABLE\n",
      "blis_info:\n",
      "  NOT AVAILABLE\n",
      "openblas_info:\n",
      "    libraries = ['openblas', 'openblas']\n",
      "    library_dirs = ['/usr/lib/x86_64-linux-gnu']\n",
      "    language = c\n",
      "    define_macros = [('HAVE_CBLAS', None)]\n",
      "blas_opt_info:\n",
      "    libraries = ['openblas', 'openblas']\n",
      "    library_dirs = ['/usr/lib/x86_64-linux-gnu']\n",
      "    language = c\n",
      "    define_macros = [('HAVE_CBLAS', None)]\n",
      "lapack_mkl_info:\n",
      "  NOT AVAILABLE\n",
      "openblas_lapack_info:\n",
      "    libraries = ['openblas', 'openblas']\n",
      "    library_dirs = ['/usr/lib/x86_64-linux-gnu']\n",
      "    language = c\n",
      "    define_macros = [('HAVE_CBLAS', None)]\n",
      "lapack_opt_info:\n",
      "    libraries = ['openblas', 'openblas']\n",
      "    library_dirs = ['/usr/lib/x86_64-linux-gnu']\n",
      "    language = c\n",
      "    define_macros = [('HAVE_CBLAS', None)]\n",
      "None\n"
     ]
    }
   ],
   "source": [
    "print(np.show_config())"
   ]
  },
  {
   "cell_type": "markdown",
   "metadata": {},
   "source": [
    "### Multiplicación de matrices"
   ]
  },
  {
   "cell_type": "markdown",
   "metadata": {},
   "source": [
    "Hacemos una prueba de medición de tiempos:"
   ]
  },
  {
   "cell_type": "code",
   "execution_count": 2,
   "metadata": {},
   "outputs": [],
   "source": [
    "np.random.seed(2020)\n",
    "m=10**4\n",
    "r=10**4\n",
    "\n",
    "A=np.random.rand(m,r)"
   ]
  },
  {
   "cell_type": "code",
   "execution_count": 3,
   "metadata": {},
   "outputs": [],
   "source": [
    "np.random.seed(2021)\n",
    "r=10**4\n",
    "n=10**4\n",
    "\n",
    "B=np.random.rand(r,n)"
   ]
  },
  {
   "cell_type": "markdown",
   "metadata": {},
   "source": [
    "```{admonition} Observación\n",
    ":class: tip\n",
    "\n",
    "Mientras se ejecuta la siguiente celda se sugiere en la terminal ejecutar en la línea de comando `htop`.\n",
    "\n",
    "```"
   ]
  },
  {
   "cell_type": "code",
   "execution_count": 4,
   "metadata": {},
   "outputs": [
    {
     "name": "stdout",
     "output_type": "stream",
     "text": [
      "3.02 s ± 67 ms per loop (mean ± std. dev. of 7 runs, 1 loop each)\n"
     ]
    }
   ],
   "source": [
    "%timeit -n 1 -r 7 A@B"
   ]
  },
  {
   "cell_type": "markdown",
   "metadata": {},
   "source": [
    "### Factorización LU"
   ]
  },
  {
   "cell_type": "code",
   "execution_count": null,
   "metadata": {},
   "outputs": [],
   "source": []
  },
  {
   "cell_type": "markdown",
   "metadata": {},
   "source": [
    "### Resultados utilizando `opt2-aws-educate-no-openblas-04-04-2021`"
   ]
  },
  {
   "cell_type": "markdown",
   "metadata": {},
   "source": [
    "Verificamos que *NumPy* **no** está usando la implementación de la API de BLAS con OpenBLAS que se obtiene con `sudo apt-get install -y libopenblas-dev`, ver [script_no_OpenBLAS.sh](https://github.com/palmoreck/scripts_for_useful_tools_installations/blob/main/AWS/ubuntu_20.04/optimizacion_2/script_no_OpenBLAS.sh)"
   ]
  },
  {
   "cell_type": "code",
   "execution_count": 2,
   "metadata": {},
   "outputs": [
    {
     "name": "stdout",
     "output_type": "stream",
     "text": [
      "blas_mkl_info:\n",
      "  NOT AVAILABLE\n",
      "blis_info:\n",
      "  NOT AVAILABLE\n",
      "openblas_info:\n",
      "    libraries = ['openblas', 'openblas']\n",
      "    library_dirs = ['/usr/local/lib']\n",
      "    language = c\n",
      "    define_macros = [('HAVE_CBLAS', None)]\n",
      "blas_opt_info:\n",
      "    libraries = ['openblas', 'openblas']\n",
      "    library_dirs = ['/usr/local/lib']\n",
      "    language = c\n",
      "    define_macros = [('HAVE_CBLAS', None)]\n",
      "lapack_mkl_info:\n",
      "  NOT AVAILABLE\n",
      "openblas_lapack_info:\n",
      "    libraries = ['openblas', 'openblas']\n",
      "    library_dirs = ['/usr/local/lib']\n",
      "    language = c\n",
      "    define_macros = [('HAVE_CBLAS', None)]\n",
      "lapack_opt_info:\n",
      "    libraries = ['openblas', 'openblas']\n",
      "    library_dirs = ['/usr/local/lib']\n",
      "    language = c\n",
      "    define_macros = [('HAVE_CBLAS', None)]\n",
      "None\n"
     ]
    }
   ],
   "source": [
    "print(np.show_config())"
   ]
  },
  {
   "cell_type": "markdown",
   "metadata": {},
   "source": [
    "### Multiplicación de matrices"
   ]
  },
  {
   "cell_type": "markdown",
   "metadata": {},
   "source": [
    "Hacemos una prueba de medición de tiempos:"
   ]
  },
  {
   "cell_type": "code",
   "execution_count": 3,
   "metadata": {},
   "outputs": [],
   "source": [
    "np.random.seed(2020)\n",
    "m=10**4\n",
    "r=10**4\n",
    "\n",
    "A=np.random.rand(m,r)"
   ]
  },
  {
   "cell_type": "code",
   "execution_count": 4,
   "metadata": {},
   "outputs": [],
   "source": [
    "np.random.seed(2021)\n",
    "r=10**4\n",
    "n=10**4\n",
    "\n",
    "B=np.random.rand(r,n)"
   ]
  },
  {
   "cell_type": "markdown",
   "metadata": {},
   "source": [
    "```{admonition} Observación\n",
    ":class: tip\n",
    "\n",
    "Mientras se ejecuta la siguiente celda se sugiere en la terminal ejecutar en la línea de comando `htop`.\n",
    "\n",
    "```"
   ]
  },
  {
   "cell_type": "code",
   "execution_count": 5,
   "metadata": {},
   "outputs": [
    {
     "name": "stdout",
     "output_type": "stream",
     "text": [
      "3.22 s ± 167 ms per loop (mean ± std. dev. of 7 runs, 1 loop each)\n"
     ]
    }
   ],
   "source": [
    "%timeit -n 1 -r 7 A@B"
   ]
  },
  {
   "cell_type": "markdown",
   "metadata": {},
   "source": [
    "```{admonition} Comentarios\n",
    "\n",
    "* La implementación de la API de BLAS con OpenBLAS que se instala mediante `sudo apt-get install -y libopenblas-dev` y *NumPy* instalado vía `pip install numpy --no-binary numpy` resulta para el algoritmo de multiplicación de matrices ser un **poco más rápido** que con la implementación de la API de BLAS integrada en la instalación de *NumPy* vía `pip install numpy`.\n",
    "\n",
    "* Más *cores* reducen el tiempo de cómputo, para ver esto probar lo anterior con máquinas con menos *cores*.\n",
    "\n",
    "```"
   ]
  },
  {
   "cell_type": "markdown",
   "metadata": {},
   "source": [
    "### OpenBLAS y librerías de cómputo matricial de *R*"
   ]
  },
  {
   "cell_type": "markdown",
   "metadata": {},
   "source": [
    "En esta sección se sugiere para reproducibilidad de resultados utilizar la *AMI* y la instancia de AWS ambas descritas al inicio y la *AMI* `opt2-aws-educate-no-openblas-04-04-2021` de la región `us-east-1` (Virginia) en el mismo tipo de instancia. Tal AMI se construyó a partir de una *AMI* `ubuntu 20.04 - ami-042e8287309f5df03` con el [script_no_OpenBLAS.sh](https://github.com/palmoreck/scripts_for_useful_tools_installations/blob/main/AWS/ubuntu_20.04/optimizacion_2/script_no_OpenBLAS.sh)\n"
   ]
  },
  {
   "cell_type": "markdown",
   "metadata": {},
   "source": [
    "````{admonition} Comentario\n",
    "\n",
    "Si se utiliza la *AMI* `opt2-aws-educate-no-openblas-04-04-2021` colocar en `User data` el siguiente *script*:\n",
    "\n",
    "```bash\n",
    "\n",
    "#!/bin/bash\n",
    "##variables:\n",
    "region=us-east-1 #make sure instance is in Virginia\n",
    "name_instance=no-OpenBLAS\n",
    "USER=ubuntu\n",
    "##System update\n",
    "apt-get update -yq\n",
    "##Tag instance\n",
    "INSTANCE_ID=$(curl -s http://instance-data/latest/meta-data/instance-id)\n",
    "PUBLIC_IP=$(curl -s http://instance-data/latest/meta-data/public-ipv4)\n",
    "sudo -H -u $USER bash -c \"/home/$USER/.local/bin/aws ec2 create-tags --resources $INSTANCE_ID --tag Key=Name,Value=$name_instance-$PUBLIC_IP --region=$region\"\n",
    "sudo -H -u $USER bash -c \"cd / && /home/$USER/.local/bin/jupyter lab --ip=0.0.0.0 --no-browser --config=/home/$USER/.jupyter/jupyter_notebook_config.py &\"\n",
    "\n",
    "```\n",
    "\n",
    "````"
   ]
  },
  {
   "cell_type": "markdown",
   "metadata": {},
   "source": [
    "### Resultados utilizando `opt2-aws-educate-openblas-04-04-2021`"
   ]
  },
  {
   "cell_type": "markdown",
   "metadata": {},
   "source": [
    "Verificamos que las librerías de cómputo matricial de *R* están usando la implementación de la API de BLAS con OpenBLAS que se obtiene con `sudo apt-get install -y libopenblas-dev`, ver [script_profiling_and_BLAS.sh](https://github.com/palmoreck/scripts_for_useful_tools_installations/blob/main/AWS/ubuntu_20.04/optimizacion_2/script_profiling_and_BLAS.sh)"
   ]
  },
  {
   "cell_type": "code",
   "execution_count": 1,
   "metadata": {},
   "outputs": [
    {
     "data": {
      "text/plain": [
       "R version 4.0.5 (2021-03-31)\n",
       "Platform: x86_64-pc-linux-gnu (64-bit)\n",
       "Running under: Ubuntu 20.04.2 LTS\n",
       "\n",
       "Matrix products: default\n",
       "BLAS:   /usr/lib/x86_64-linux-gnu/openblas-pthread/libblas.so.3\n",
       "LAPACK: /usr/lib/x86_64-linux-gnu/openblas-pthread/liblapack.so.3\n",
       "\n",
       "locale:\n",
       " [1] LC_CTYPE=C.UTF-8       LC_NUMERIC=C           LC_TIME=C.UTF-8       \n",
       " [4] LC_COLLATE=C.UTF-8     LC_MONETARY=C.UTF-8    LC_MESSAGES=C.UTF-8   \n",
       " [7] LC_PAPER=C.UTF-8       LC_NAME=C              LC_ADDRESS=C          \n",
       "[10] LC_TELEPHONE=C         LC_MEASUREMENT=C.UTF-8 LC_IDENTIFICATION=C   \n",
       "\n",
       "attached base packages:\n",
       "[1] stats     graphics  grDevices utils     datasets  methods   base     \n",
       "\n",
       "loaded via a namespace (and not attached):\n",
       " [1] fansi_0.4.2         digest_0.6.27       utf8_1.2.1         \n",
       " [4] crayon_1.4.1        IRdisplay_1.0       repr_1.1.3         \n",
       " [7] lifecycle_1.0.0     jsonlite_1.7.2      evaluate_0.14      \n",
       "[10] pillar_1.5.1        rlang_0.4.10        uuid_0.1-4         \n",
       "[13] ellipsis_0.3.1      IRkernel_1.1.1.9000 tools_4.0.5        \n",
       "[16] compiler_4.0.5      base64enc_0.1-3     pbdZMQ_0.3-5       \n",
       "[19] htmltools_0.5.1.1  "
      ]
     },
     "metadata": {},
     "output_type": "display_data"
    }
   ],
   "source": [
    "sessionInfo()"
   ]
  },
  {
   "cell_type": "code",
   "execution_count": 2,
   "metadata": {},
   "outputs": [],
   "source": [
    "set.seed(2020)\n",
    "m<-10**4\n",
    "r<-10**4\n",
    "A <- matrix(runif(m*r), m, r)"
   ]
  },
  {
   "cell_type": "code",
   "execution_count": 3,
   "metadata": {},
   "outputs": [],
   "source": [
    "set.seed(2021)\n",
    "r<-10**4\n",
    "n<-10**4\n",
    "B <- matrix(runif(r*n), r, n)"
   ]
  },
  {
   "cell_type": "code",
   "execution_count": 5,
   "metadata": {},
   "outputs": [],
   "source": [
    "library(microbenchmark)"
   ]
  },
  {
   "cell_type": "markdown",
   "metadata": {},
   "source": [
    "```{admonition} Comentario\n",
    "\n",
    "El paquete de [microbenchmark](https://www.rdocumentation.org/packages/microbenchmark/versions/1.4-7/topics/microbenchmark) nos ayuda a la medición de estadísticas para pequeñas piezas de código.\n",
    "\n",
    "```"
   ]
  },
  {
   "cell_type": "markdown",
   "metadata": {},
   "source": [
    "```{admonition} Observación\n",
    ":class: tip\n",
    "\n",
    "Mientras se ejecuta la siguiente celda se sugiere en la terminal ejecutar en la línea de comando `htop`.\n",
    "\n",
    "```"
   ]
  },
  {
   "cell_type": "code",
   "execution_count": 10,
   "metadata": {},
   "outputs": [],
   "source": [
    "mbk<-microbenchmark(\n",
    "    A%*%B,\n",
    "    times=7\n",
    "    )"
   ]
  },
  {
   "cell_type": "code",
   "execution_count": 11,
   "metadata": {},
   "outputs": [
    {
     "name": "stdout",
     "output_type": "stream",
     "text": [
      "Unit: seconds\n",
      "    expr      min       lq     mean   median       uq      max neval\n",
      " A %*% B 2.600818 2.723897 2.952135 2.833146 3.038394 3.706399     7\n"
     ]
    }
   ],
   "source": [
    "print(mbk)"
   ]
  },
  {
   "cell_type": "markdown",
   "metadata": {},
   "source": [
    "### Resultados utilizando `opt2-aws-educate-no-openblas-04-04-2021`"
   ]
  },
  {
   "cell_type": "markdown",
   "metadata": {},
   "source": [
    "Verificamos que las librerías de cómputo matricial de *R* **no** están usando la implementación de la API de BLAS con OpenBLAS que se obtiene con `sudo apt-get install -y libopenblas-dev`, ver [script_no_OpenBLAS.sh](https://github.com/palmoreck/scripts_for_useful_tools_installations/blob/main/AWS/ubuntu_20.04/optimizacion_2/script_no_OpenBLAS.sh)"
   ]
  },
  {
   "cell_type": "code",
   "execution_count": 1,
   "metadata": {},
   "outputs": [
    {
     "data": {
      "text/plain": [
       "R version 4.0.5 (2021-03-31)\n",
       "Platform: x86_64-pc-linux-gnu (64-bit)\n",
       "Running under: Ubuntu 20.04.2 LTS\n",
       "\n",
       "Matrix products: default\n",
       "BLAS:   /usr/lib/x86_64-linux-gnu/blas/libblas.so.3.9.0\n",
       "LAPACK: /usr/lib/x86_64-linux-gnu/lapack/liblapack.so.3.9.0\n",
       "\n",
       "locale:\n",
       " [1] LC_CTYPE=C.UTF-8       LC_NUMERIC=C           LC_TIME=C.UTF-8       \n",
       " [4] LC_COLLATE=C.UTF-8     LC_MONETARY=C.UTF-8    LC_MESSAGES=C.UTF-8   \n",
       " [7] LC_PAPER=C.UTF-8       LC_NAME=C              LC_ADDRESS=C          \n",
       "[10] LC_TELEPHONE=C         LC_MEASUREMENT=C.UTF-8 LC_IDENTIFICATION=C   \n",
       "\n",
       "attached base packages:\n",
       "[1] stats     graphics  grDevices utils     datasets  methods   base     \n",
       "\n",
       "loaded via a namespace (and not attached):\n",
       " [1] fansi_0.4.2         digest_0.6.27       utf8_1.2.1         \n",
       " [4] crayon_1.4.1        IRdisplay_1.0       repr_1.1.3         \n",
       " [7] lifecycle_1.0.0     jsonlite_1.7.2      evaluate_0.14      \n",
       "[10] pillar_1.5.1        rlang_0.4.10        uuid_0.1-4         \n",
       "[13] ellipsis_0.3.1      IRkernel_1.1.1.9000 tools_4.0.5        \n",
       "[16] compiler_4.0.5      base64enc_0.1-3     pbdZMQ_0.3-5       \n",
       "[19] htmltools_0.5.1.1  "
      ]
     },
     "metadata": {},
     "output_type": "display_data"
    }
   ],
   "source": [
    "sessionInfo()"
   ]
  },
  {
   "cell_type": "code",
   "execution_count": 2,
   "metadata": {},
   "outputs": [],
   "source": [
    "set.seed(2020)\n",
    "m<-10**4\n",
    "r<-10**4\n",
    "A <- matrix(runif(m*r), m, r)"
   ]
  },
  {
   "cell_type": "code",
   "execution_count": 3,
   "metadata": {},
   "outputs": [],
   "source": [
    "set.seed(2021)\n",
    "r<-10**4\n",
    "n<-10**4\n",
    "B <- matrix(runif(r*n), r, n)"
   ]
  },
  {
   "cell_type": "code",
   "execution_count": 4,
   "metadata": {},
   "outputs": [],
   "source": [
    "library(microbenchmark)"
   ]
  },
  {
   "cell_type": "markdown",
   "metadata": {},
   "source": [
    "```{admonition} Observación\n",
    ":class: tip\n",
    "\n",
    "Mientras se ejecuta la siguiente celda se sugiere en la terminal ejecutar en la línea de comando `htop`.\n",
    "\n",
    "```"
   ]
  },
  {
   "cell_type": "code",
   "execution_count": null,
   "metadata": {},
   "outputs": [],
   "source": [
    "mbk<-microbenchmark(\n",
    "    A%*%B,\n",
    "    times=1 #just one time as it takes too much time\n",
    "    )"
   ]
  },
  {
   "cell_type": "code",
   "execution_count": null,
   "metadata": {},
   "outputs": [],
   "source": [
    "print(mbk) #after ten minutes didnt finish"
   ]
  },
  {
   "cell_type": "markdown",
   "metadata": {},
   "source": [
    "````{admonition} Comentarios\n",
    "\n",
    "* La implementación de la API de BLAS con OpenBLAS que se instala mediante `sudo apt-get install -y libopenblas-dev` y las librerías de cómputo matricial de *R* que utilizan tal instalación resulta para el algoritmo de multiplicación de matrices ser mucho más rápido que con la implementación de la API de BLAS integrada en la instalación de *R*.\n",
    "\n",
    "* Más *cores* reducen el tiempo de cómputo, para ver esto probar lo anterior con máquinas con menos *cores*.\n",
    "\n",
    "* En *R* se puede cambiar de implementación de la API de BLAS con el comando: \n",
    "\n",
    "```sudo update-alternatives --config libblas.so.3-x86_64-linux-gnu```\n",
    "\n",
    "\n",
    "````"
   ]
  },
  {
   "cell_type": "markdown",
   "metadata": {},
   "source": [
    "## Perfilamiento: medición de tiempo en el sistema operativo Ubuntu 20.04"
   ]
  },
  {
   "cell_type": "markdown",
   "metadata": {},
   "source": [
    "### [/usr/bin/time](http://manpages.ubuntu.com/manpages/focal/man1/time.1.html)\n",
    "\n",
    "Ver también: [Wikipedia: Time_Unix](https://en.wikipedia.org/wiki/Time_(Unix))\n"
   ]
  },
  {
   "cell_type": "code",
   "execution_count": 20,
   "metadata": {},
   "outputs": [
    {
     "name": "stdout",
     "output_type": "stream",
     "text": [
      "Writing Rcf.py\n"
     ]
    }
   ],
   "source": [
    "%%file Rcf.py\n",
    "import math\n",
    "\n",
    "from pytest import approx\n",
    "from scipy.integrate import quad\n",
    "def Rcf(f,a,b,n):\n",
    "    \"\"\"\n",
    "    Compute numerical approximation using rectangle or mid-point\n",
    "    method in an interval.\n",
    "    Nodes are generated via formula: x_i = a+(i+1/2)h_hat for\n",
    "    i=0,1,...,n-1 and h_hat=(b-a)/n\n",
    "    Args:\n",
    "    \n",
    "        f (function): function expression of integrand.\n",
    "        \n",
    "        a (float): left point of interval.\n",
    "        \n",
    "        b (float): right point of interval.\n",
    "        \n",
    "        n (float): number of subintervals.\n",
    "        \n",
    "    Returns:\n",
    "    \n",
    "        sum_res (float): numerical approximation to integral\n",
    "            of f in the interval a,b\n",
    "    \"\"\"\n",
    "    h_hat=(b-a)/n\n",
    "    nodes=[a+(i+1/2)*h_hat for i in range(0,n)]\n",
    "    sum_res=0\n",
    "    for node in nodes:\n",
    "        sum_res=sum_res+f(node)\n",
    "    return h_hat*sum_res\n",
    "if __name__==\"__main__\": #añadimos este bloque para ejecución de la función Rcf\n",
    "    a=0\n",
    "    b=1\n",
    "    f=lambda x: math.exp(-x**2)\n",
    "    obj, err = quad(f, a, b)\n",
    "    print(\"objetivo: {:0.6e}\".format(obj))\n",
    "    n=10**6\n",
    "    res=Rcf(f,a,b,n)\n",
    "    print(\"aproximación: {:0.6e}\".format(res))\n",
    "    print(res == approx(obj))"
   ]
  },
  {
   "cell_type": "code",
   "execution_count": 19,
   "metadata": {},
   "outputs": [
    {
     "name": "stdout",
     "output_type": "stream",
     "text": [
      "objetivo: 7.468241e-01\n",
      "aproximación: 7.468241e-01\n",
      "True\n"
     ]
    },
    {
     "name": "stderr",
     "output_type": "stream",
     "text": [
      "real 0.84\n",
      "user 2.57\n",
      "sys 2.20\n"
     ]
    }
   ],
   "source": [
    "%%bash\n",
    "/usr/bin/time -p python3 Rcf.py"
   ]
  },
  {
   "cell_type": "code",
   "execution_count": 20,
   "metadata": {},
   "outputs": [
    {
     "name": "stdout",
     "output_type": "stream",
     "text": [
      "objetivo: 7.468241e-01\n",
      "aproximación: 7.468241e-01\n",
      "True\n"
     ]
    },
    {
     "name": "stderr",
     "output_type": "stream",
     "text": [
      "\tCommand being timed: \"python3 Rcf.py\"\n",
      "\tUser time (seconds): 2.55\n",
      "\tSystem time (seconds): 2.34\n",
      "\tPercent of CPU this job got: 612%\n",
      "\tElapsed (wall clock) time (h:mm:ss or m:ss): 0:00.79\n",
      "\tAverage shared text size (kbytes): 0\n",
      "\tAverage unshared data size (kbytes): 0\n",
      "\tAverage stack size (kbytes): 0\n",
      "\tAverage total size (kbytes): 0\n",
      "\tMaximum resident set size (kbytes): 97688\n",
      "\tAverage resident set size (kbytes): 0\n",
      "\tMajor (requiring I/O) page faults: 0\n",
      "\tMinor (reclaiming a frame) page faults: 20846\n",
      "\tVoluntary context switches: 87\n",
      "\tInvoluntary context switches: 877104\n",
      "\tSwaps: 0\n",
      "\tFile system inputs: 0\n",
      "\tFile system outputs: 0\n",
      "\tSocket messages sent: 0\n",
      "\tSocket messages received: 0\n",
      "\tSignals delivered: 0\n",
      "\tPage size (bytes): 4096\n",
      "\tExit status: 0\n"
     ]
    }
   ],
   "source": [
    "%%bash\n",
    "/usr/bin/time -v python3 Rcf.py"
   ]
  },
  {
   "cell_type": "markdown",
   "metadata": {},
   "source": [
    "```{admonition} Comentario\n",
    "\n",
    "Una breve explicación del *output* se puede encontrar [/usr/bin/time](http://manpages.ubuntu.com/manpages/focal/man1/time.1.html). Por ejemplo, para el caso de `Major (requiring I/O)` nos interesa que sea $0$ pues indica que el sistema operativo tiene que cargar páginas de datos del disco pues tales datos ya no residen en RAM (por alguna razón).\n",
    "\n",
    "```"
   ]
  },
  {
   "cell_type": "markdown",
   "metadata": {},
   "source": [
    "```{admonition} Observación\n",
    ":class: tip\n",
    "\n",
    "La medición `real` que regresa `/usr/bin/time` es el equivalente al `Wall time` de `%time`.\n",
    "\n",
    "\n",
    "```"
   ]
  },
  {
   "cell_type": "markdown",
   "metadata": {},
   "source": [
    "## Perfilamiento: medición de uso de CPU en el sistema operativo GNU/Linux"
   ]
  },
  {
   "cell_type": "markdown",
   "metadata": {},
   "source": [
    "### [perf](https://github.com/torvalds/linux/tree/master/tools/perf)"
   ]
  },
  {
   "cell_type": "markdown",
   "metadata": {},
   "source": [
    "En GNU/Linux existe la herramienta `perf` que nos ayuda a calcular métricas de desempeño de la CPU. Los siguientes ejemplos se ejecutaron con la AMI `opt2-aws-educate-openblas-04-04-2021` y la instancia de AWS, ambas descritas al inicio."
   ]
  },
  {
   "cell_type": "markdown",
   "metadata": {},
   "source": [
    "### Ejemplo de cálculo de la norma $2$ al cuadrado de un vector"
   ]
  },
  {
   "cell_type": "code",
   "execution_count": 1,
   "metadata": {},
   "outputs": [
    {
     "name": "stdout",
     "output_type": "stream",
     "text": [
      "Writing norm_square.py\n"
     ]
    }
   ],
   "source": [
    "%%file norm_square.py\n",
    "n=10**7\n",
    "vector=list(range(n))\n",
    "norm=0\n",
    "for v in vector:\n",
    "    norm+=v*v"
   ]
  },
  {
   "cell_type": "markdown",
   "metadata": {},
   "source": [
    "```{margin}\n",
    "\n",
    "Esta línea de `echo` es importante para permitir que *user* `ubuntu` ejecute `perf` sin `sudo`.\n",
    "\n",
    "```"
   ]
  },
  {
   "cell_type": "code",
   "execution_count": 2,
   "metadata": {},
   "outputs": [
    {
     "name": "stdout",
     "output_type": "stream",
     "text": [
      "-1\n"
     ]
    }
   ],
   "source": [
    "%%bash\n",
    "echo \"-1\" |sudo tee -a /proc/sys/kernel/perf_event_paranoid"
   ]
  },
  {
   "cell_type": "code",
   "execution_count": 3,
   "metadata": {},
   "outputs": [
    {
     "name": "stderr",
     "output_type": "stream",
     "text": [
      "\n",
      " Performance counter stats for 'python3 norm_square.py' (20 runs):\n",
      "\n",
      "        5123821017      cycles                                                        ( +-  0.55% )  (74.95%)\n",
      "       14073511390      instructions              #    2.75  insn per cycle           ( +-  0.69% )  (75.01%)\n",
      "          42426825      cache-references                                              ( +-  0.20% )  (75.06%)\n",
      "          19997224      cache-misses              #   47.133 % of all cache refs      ( +-  0.13% )  (74.98%)\n",
      "\n",
      "            1.9227 +- 0.0113 seconds time elapsed  ( +-  0.59% )\n",
      "\n"
     ]
    }
   ],
   "source": [
    "%%bash\n",
    "perf stat -S -e cycles,instructions,cache-references,cache-misses -r 20 python3 norm_square.py"
   ]
  },
  {
   "cell_type": "markdown",
   "metadata": {},
   "source": [
    "```{admonition} Comentarios\n",
    "\n",
    "* Con `perf` se repiten las mediciones utilizando la *flag* `-r`. Con la *flag* `-e` se enlistan las métricas a calcular. `-S` llama a [sync](http://man7.org/linux/man-pages/man2/sync.2.html) antes de iniciar la ejecución del programa. `-A` no agregar los conteos a lo largo de los *cores* monitoreados. Ver `perf stat --help`.\n",
    "\n",
    "* En el ejemplo anterior además de los ciclos e instrucciones se calculan los *cache references* y los *cache misses*.  Esencialmente el sistema de memoria buscó el número que aparece en *cache-references* por datos o instrucciones en el caché y de éstas búsquedas, en *cache-misses*, se repora el número (y porcentaje) de búsquedas fallidas que no estuvieron en memoria. \n",
    "\n",
    "* Recuérdese que la fragmentación de datos incrementa el número de *cache misses*.\n",
    "\n",
    "* Se reporta el IPC al lado de *instructions* con nombre *insn per cycle*. Un alto IPC indica una alta transferencia de instrucciones de la unidad de memoria hacia la unidad de cómputo y un menor IPC indica más **stall cycles**, ver [pipeline stall](https://en.wikipedia.org/wiki/Pipeline_stall). Se debe evaluar si *a high rate of instructions* indica un *high rate of actual work completed* (p.ej. un *loop* tiene una alta tasa de IPC pero no siempre se realiza trabajo útil). Ver sección *CPU statistics* en la [liga](http://www.brendangregg.com/perf.html). `perf` también tiene una métrica para medir el número de ciclos que se utilizaron para esperar a ejecutar instrucciones (los cores están *stalled*). Las métricas son: `stalled-cycles-frontend` y `stalled-cycles-backend`.\n",
    "\n",
    "```"
   ]
  },
  {
   "cell_type": "markdown",
   "metadata": {},
   "source": [
    "También podemos obtener las estadísticas por core. Obsérvese que la salida anterior de `perf` calculó el IPC a partir del número de instrucciones y ciclos ahí reportados. El mismo cálculo se realiza a continuación:"
   ]
  },
  {
   "cell_type": "code",
   "execution_count": 8,
   "metadata": {
    "tags": [
     "output_scroll"
    ]
   },
   "outputs": [
    {
     "name": "stderr",
     "output_type": "stream",
     "text": [
      "\n",
      " Performance counter stats for 'system wide' (20 runs):\n",
      "\n",
      "CPU0               298120352      cycles                                                        (75.11%)\n",
      "CPU1               301648607      cycles                                                        (75.03%)\n",
      "CPU2               310307744      cycles                                                        (75.03%)\n",
      "CPU3               309422661      cycles                                                        (75.05%)\n",
      "CPU4               290664122      cycles                                                        (75.11%)\n",
      "CPU5               306978407      cycles                                                        (75.05%)\n",
      "CPU6               300076931      cycles                                                        (75.07%)\n",
      "CPU7               303777036      cycles                                                        (75.09%)\n",
      "CPU8               314116473      cycles                                                        (75.11%)\n",
      "CPU9               318017593      cycles                                                        (75.11%)\n",
      "CPU10              308414427      cycles                                                        (75.02%)\n",
      "CPU11              314493811      cycles                                                        (75.04%)\n",
      "CPU12              298690796      cycles                                                        (74.98%)\n",
      "CPU13              307120629      cycles                                                        (75.07%)\n",
      "CPU14              309364869      cycles                                                        (75.05%)\n",
      "CPU15              319200699      cycles                                                        (75.08%)\n",
      "CPU16              290768996      cycles                                                        (75.03%)\n",
      "CPU17             5164163011      cycles                                                        (75.07%)\n",
      "CPU18              305342850      cycles                                                        (75.01%)\n",
      "CPU19              314267480      cycles                                                        (75.06%)\n",
      "CPU20              320487210      cycles                                                        (75.10%)\n",
      "CPU21              350302270      cycles                                                        (74.93%)\n",
      "CPU22              310945367      cycles                                                        (75.04%)\n",
      "CPU23              329433064      cycles                                                        (75.15%)\n",
      "CPU24              325057263      cycles                                                        (75.06%)\n",
      "CPU25              341041212      cycles                                                        (75.06%)\n",
      "CPU26              348922548      cycles                                                        (75.06%)\n",
      "CPU27              345931275      cycles                                                        (74.99%)\n",
      "CPU28              328556284      cycles                                                        (75.00%)\n",
      "CPU29              338996933      cycles                                                        (75.01%)\n",
      "CPU30              358581060      cycles                                                        (75.06%)\n",
      "CPU31              341516199      cycles                                                        (75.05%)\n",
      "CPU32              276246541      cycles                                                        (75.04%)\n",
      "CPU33              283213802      cycles                                                        (75.06%)\n",
      "CPU34              288221918      cycles                                                        (74.99%)\n",
      "CPU35              288850195      cycles                                                        (75.06%)\n",
      "CPU36              269978323      cycles                                                        (75.12%)\n",
      "CPU37              287564347      cycles                                                        (75.07%)\n",
      "CPU38              283162389      cycles                                                        (75.04%)\n",
      "CPU39              283253695      cycles                                                        (75.08%)\n",
      "CPU40              288642183      cycles                                                        (75.06%)\n",
      "CPU41              295561770      cycles                                                        (75.11%)\n",
      "CPU42              304328830      cycles                                                        (75.08%)\n",
      "CPU43              289614123      cycles                                                        (75.04%)\n",
      "CPU44              276708731      cycles                                                        (75.02%)\n",
      "CPU45              282892522      cycles                                                        (75.05%)\n",
      "CPU46              288303765      cycles                                                        (75.12%)\n",
      "CPU47              295691376      cycles                                                        (75.09%)\n",
      "CPU48              209454202      cycles                                                        (75.06%)\n",
      "CPU49               61974344      cycles                                                        (75.07%)\n",
      "CPU50              282139648      cycles                                                        (75.12%)\n",
      "CPU51              286940180      cycles                                                        (75.07%)\n",
      "CPU52              287551443      cycles                                                        (75.01%)\n",
      "CPU53              275035569      cycles                                                        (75.09%)\n",
      "CPU54              277181434      cycles                                                        (75.12%)\n",
      "CPU55              305867831      cycles                                                        (75.03%)\n",
      "CPU56              297383426      cycles                                                        (75.14%)\n",
      "CPU57              307472731      cycles                                                        (75.05%)\n",
      "CPU58              320139371      cycles                                                        (75.04%)\n",
      "CPU59              311849592      cycles                                                        (75.05%)\n",
      "CPU60              292984565      cycles                                                        (75.05%)\n",
      "CPU61              299543418      cycles                                                        (75.05%)\n",
      "CPU62              313170552      cycles                                                        (75.06%)\n",
      "CPU63              344809528      cycles                                                        (75.00%)\n",
      "CPU0                40368193      instructions              #    0.15  insn per cycle           (74.95%)\n",
      "CPU1                18125002      instructions              #    0.07  insn per cycle           (75.13%)\n",
      "CPU2                17283266      instructions              #    0.07  insn per cycle           (74.95%)\n",
      "CPU3                17732079      instructions              #    0.07  insn per cycle           (74.94%)\n",
      "CPU4                17586164      instructions              #    0.07  insn per cycle           (75.02%)\n",
      "CPU5                17306944      instructions              #    0.07  insn per cycle           (75.01%)\n",
      "CPU6                17542118      instructions              #    0.07  insn per cycle           (75.01%)\n",
      "CPU7                17075436      instructions              #    0.07  insn per cycle           (74.94%)\n",
      "CPU8                17519022      instructions              #    0.07  insn per cycle           (75.02%)\n",
      "CPU9                17434964      instructions              #    0.07  insn per cycle           (75.03%)\n",
      "CPU10               17336552      instructions              #    0.07  insn per cycle           (75.00%)\n",
      "CPU11               17364462      instructions              #    0.07  insn per cycle           (75.06%)\n",
      "CPU12               17209196      instructions              #    0.07  insn per cycle           (75.06%)\n",
      "CPU13               16847500      instructions              #    0.07  insn per cycle           (74.94%)\n",
      "CPU14               16833327      instructions              #    0.07  insn per cycle           (75.05%)\n",
      "CPU15               17194043      instructions              #    0.07  insn per cycle           (75.09%)\n",
      "CPU16               34505523      instructions              #    0.13  insn per cycle           (75.07%)\n",
      "CPU17            14059953163      instructions              #    4.81  insn per cycle           (75.07%)\n",
      "CPU18               17955971      instructions              #    0.07  insn per cycle           (75.15%)\n",
      "CPU19               18175295      instructions              #    0.07  insn per cycle           (75.00%)\n",
      "CPU20               18132915      instructions              #    0.07  insn per cycle           (75.04%)\n",
      "CPU21               56189175      instructions              #    0.17  insn per cycle           (75.15%)\n",
      "CPU22               18719460      instructions              #    0.07  insn per cycle           (75.11%)\n",
      "CPU23               18521784      instructions              #    0.07  insn per cycle           (75.08%)\n",
      "CPU24               18217933      instructions              #    0.07  insn per cycle           (75.17%)\n",
      "CPU25               18371388      instructions              #    0.07  insn per cycle           (75.04%)\n",
      "CPU26               18513863      instructions              #    0.07  insn per cycle           (74.99%)\n",
      "CPU27               18323582      instructions              #    0.07  insn per cycle           (75.09%)\n",
      "CPU28               18461772      instructions              #    0.07  insn per cycle           (75.07%)\n",
      "CPU29               21342989      instructions              #    0.06  insn per cycle           (75.13%)\n",
      "CPU30               21170902      instructions              #    0.07  insn per cycle           (75.05%)\n",
      "CPU31               18054949      instructions              #    0.06  insn per cycle           (74.98%)\n",
      "CPU32               15999497      instructions              #    0.07  insn per cycle           (75.01%)\n",
      "CPU33               16013625      instructions              #    0.07  insn per cycle           (75.10%)\n",
      "CPU34               16311885      instructions              #    0.07  insn per cycle           (74.95%)\n",
      "CPU35               16290472      instructions              #    0.07  insn per cycle           (74.99%)\n",
      "CPU36               15811425      instructions              #    0.07  insn per cycle           (75.02%)\n",
      "CPU37               16315176      instructions              #    0.07  insn per cycle           (75.04%)\n",
      "CPU38               15889952      instructions              #    0.07  insn per cycle           (74.99%)\n",
      "CPU39               16174461      instructions              #    0.07  insn per cycle           (75.02%)\n",
      "CPU40               16081053      instructions              #    0.07  insn per cycle           (75.02%)\n",
      "CPU41               15868005      instructions              #    0.07  insn per cycle           (74.97%)\n",
      "CPU42               19555415      instructions              #    0.08  insn per cycle           (75.02%)\n",
      "CPU43               15848767      instructions              #    0.07  insn per cycle           (75.01%)\n",
      "CPU44               15939029      instructions              #    0.07  insn per cycle           (75.06%)\n",
      "CPU45               15726391      instructions              #    0.07  insn per cycle           (74.96%)\n",
      "CPU46               15860999      instructions              #    0.07  insn per cycle           (74.98%)\n",
      "CPU47               15925326      instructions              #    0.07  insn per cycle           (75.03%)\n",
      "CPU48               15739670      instructions              #    0.09  insn per cycle           (75.00%)\n",
      "CPU49               14466692      instructions              #    0.01  insn per cycle           (75.07%)\n",
      "CPU50               16512476      instructions              #    0.07  insn per cycle           (75.02%)\n",
      "CPU51               17161483      instructions              #    0.07  insn per cycle           (75.12%)\n",
      "CPU52               16857091      instructions              #    0.07  insn per cycle           (75.05%)\n",
      "CPU53               16502003      instructions              #    0.07  insn per cycle           (75.05%)\n",
      "CPU54               16558746      instructions              #    0.07  insn per cycle           (75.09%)\n",
      "CPU55               17318143      instructions              #    0.07  insn per cycle           (75.08%)\n",
      "CPU56               17076535      instructions              #    0.07  insn per cycle           (75.06%)\n",
      "CPU57               16912024      instructions              #    0.07  insn per cycle           (75.05%)\n",
      "CPU58               17452915      instructions              #    0.07  insn per cycle           (75.09%)\n",
      "CPU59               16858288      instructions              #    0.06  insn per cycle           (75.06%)\n",
      "CPU60               16418534      instructions              #    0.06  insn per cycle           (75.07%)\n",
      "CPU61               16888327      instructions              #    0.06  insn per cycle           (75.10%)\n",
      "CPU62               16756278      instructions              #    0.06  insn per cycle           (75.01%)\n",
      "CPU63               21647466      instructions              #    0.07  insn per cycle           (75.12%)\n",
      "CPU0                 2503549      cache-references                                              (75.12%)\n",
      "CPU1                 1775315      cache-references                                              (75.10%)\n",
      "CPU2                 1716775      cache-references                                              (75.12%)\n",
      "CPU3                 1770964      cache-references                                              (75.09%)\n",
      "CPU4                 1763964      cache-references                                              (75.08%)\n",
      "CPU5                 1721617      cache-references                                              (75.13%)\n",
      "CPU6                 1737825      cache-references                                              (75.06%)\n",
      "CPU7                 1707310      cache-references                                              (75.10%)\n",
      "CPU8                 1683707      cache-references                                              (74.99%)\n",
      "CPU9                 1701485      cache-references                                              (74.99%)\n",
      "CPU10                1600594      cache-references                                              (75.09%)\n",
      "CPU11                1689965      cache-references                                              (75.13%)\n",
      "CPU12                1665246      cache-references                                              (75.09%)\n",
      "CPU13                1752033      cache-references                                              (75.13%)\n",
      "CPU14                1668758      cache-references                                              (75.09%)\n",
      "CPU15                1668197      cache-references                                              (75.06%)\n",
      "CPU16                2161781      cache-references                                              (75.05%)\n",
      "CPU17               42321217      cache-references                                              (75.06%)\n",
      "CPU18                1560420      cache-references                                              (75.07%)\n",
      "CPU19                1589044      cache-references                                              (75.12%)\n",
      "CPU20                1583354      cache-references                                              (75.02%)\n",
      "CPU21                2185819      cache-references                                              (75.06%)\n",
      "CPU22                1765071      cache-references                                              (75.10%)\n",
      "CPU23                1601809      cache-references                                              (75.01%)\n",
      "CPU24                1627779      cache-references                                              (75.02%)\n",
      "CPU25                1586693      cache-references                                              (75.02%)\n",
      "CPU26                1588481      cache-references                                              (75.14%)\n",
      "CPU27                1603270      cache-references                                              (74.98%)\n",
      "CPU28                1594750      cache-references                                              (75.08%)\n",
      "CPU29                2025931      cache-references                                              (75.07%)\n",
      "CPU30                2037144      cache-references                                              (75.05%)\n",
      "CPU31                1475729      cache-references                                              (75.11%)\n",
      "CPU32                1361789      cache-references                                              (75.10%)\n",
      "CPU33                1410020      cache-references                                              (75.08%)\n",
      "CPU34                1371810      cache-references                                              (75.00%)\n",
      "CPU35                1386393      cache-references                                              (75.05%)\n",
      "CPU36                1365894      cache-references                                              (75.00%)\n",
      "CPU37                1368355      cache-references                                              (75.04%)\n",
      "CPU38                1341571      cache-references                                              (75.08%)\n",
      "CPU39                1422180      cache-references                                              (75.04%)\n",
      "CPU40                1371732      cache-references                                              (75.00%)\n",
      "CPU41                1353717      cache-references                                              (75.00%)\n",
      "CPU42                1594118      cache-references                                              (75.02%)\n",
      "CPU43                1332520      cache-references                                              (75.13%)\n",
      "CPU44                1278542      cache-references                                              (75.07%)\n",
      "CPU45                1470079      cache-references                                              (75.10%)\n",
      "CPU46                1397865      cache-references                                              (75.09%)\n",
      "CPU47                1348330      cache-references                                              (75.01%)\n",
      "CPU48                1383563      cache-references                                              (75.05%)\n",
      "CPU49                 557250      cache-references                                              (75.25%)\n",
      "CPU50                1258019      cache-references                                              (75.26%)\n",
      "CPU51                1261573      cache-references                                              (75.26%)\n",
      "CPU52                1300074      cache-references                                              (75.30%)\n",
      "CPU53                1389467      cache-references                                              (75.30%)\n",
      "CPU54                1288061      cache-references                                              (75.18%)\n",
      "CPU55                1292927      cache-references                                              (75.22%)\n",
      "CPU56                1282837      cache-references                                              (75.24%)\n",
      "CPU57                1239222      cache-references                                              (75.29%)\n",
      "CPU58                1246002      cache-references                                              (75.23%)\n",
      "CPU59                1286085      cache-references                                              (75.27%)\n",
      "CPU60                1260232      cache-references                                              (75.34%)\n",
      "CPU61                1232467      cache-references                                              (75.29%)\n",
      "CPU62                1290272      cache-references                                              (75.25%)\n",
      "CPU63                1906962      cache-references                                              (75.28%)\n",
      "CPU0                  165828      cache-misses              #    7.331 % of all cache refs      (75.12%)\n",
      "CPU1                   83336      cache-misses              #    5.509 % of all cache refs      (75.04%)\n",
      "CPU2                   82322      cache-misses              #    6.062 % of all cache refs      (75.20%)\n",
      "CPU3                   85990      cache-misses              #    6.200 % of all cache refs      (75.22%)\n",
      "CPU4                   91696      cache-misses              #    6.622 % of all cache refs      (75.10%)\n",
      "CPU5                   80185      cache-misses              #    5.941 % of all cache refs      (75.12%)\n",
      "CPU6                   84454      cache-misses              #    6.185 % of all cache refs      (75.17%)\n",
      "CPU7                   80144      cache-misses              #    5.999 % of all cache refs      (75.17%)\n",
      "CPU8                   85712      cache-misses              #    6.427 % of all cache refs      (75.18%)\n",
      "CPU9                   86654      cache-misses              #    6.466 % of all cache refs      (75.18%)\n",
      "CPU10                  81009      cache-misses              #    6.132 % of all cache refs      (75.20%)\n",
      "CPU11                  81752      cache-misses              #    6.068 % of all cache refs      (75.09%)\n",
      "CPU12                  80888      cache-misses              #    6.259 % of all cache refs      (75.19%)\n",
      "CPU13                  81278      cache-misses              #    5.554 % of all cache refs      (75.18%)\n",
      "CPU14                  80732      cache-misses              #    5.373 % of all cache refs      (75.14%)\n",
      "CPU15                  86379      cache-misses              #    6.578 % of all cache refs      (75.10%)\n",
      "CPU16                 109825      cache-misses              #    4.546 % of all cache refs      (75.18%)\n",
      "CPU17               19850269      cache-misses              #   84.407 % of all cache refs      (75.13%)\n",
      "CPU18                 101397      cache-misses              #    7.875 % of all cache refs      (75.10%)\n",
      "CPU19                 102745      cache-misses              #    8.697 % of all cache refs      (75.15%)\n",
      "CPU20                  97849      cache-misses              #    7.929 % of all cache refs      (75.18%)\n",
      "CPU21                 217497      cache-misses              #    9.355 % of all cache refs      (75.21%)\n",
      "CPU22                 103168      cache-misses              #    5.295 % of all cache refs      (75.10%)\n",
      "CPU23                 100536      cache-misses              #    8.063 % of all cache refs      (75.11%)\n",
      "CPU24                  99073      cache-misses              #    8.026 % of all cache refs      (75.10%)\n",
      "CPU25                 109215      cache-misses              #    8.921 % of all cache refs      (75.24%)\n",
      "CPU26                 104524      cache-misses              #    8.614 % of all cache refs      (75.16%)\n",
      "CPU27                 105811      cache-misses              #    8.536 % of all cache refs      (75.30%)\n",
      "CPU28                 107150      cache-misses              #    8.108 % of all cache refs      (75.21%)\n",
      "CPU29                 127265      cache-misses              #    5.137 % of all cache refs      (75.16%)\n",
      "CPU30                 117168      cache-misses              #    5.874 % of all cache refs      (75.21%)\n",
      "CPU31                  99421      cache-misses              #    6.114 % of all cache refs      (75.23%)\n",
      "CPU32                  79688      cache-misses              #    6.863 % of all cache refs      (75.23%)\n",
      "CPU33                  78295      cache-misses              #    6.756 % of all cache refs      (75.13%)\n",
      "CPU34                  80239      cache-misses              #    7.335 % of all cache refs      (75.44%)\n",
      "CPU35                  79581      cache-misses              #    6.605 % of all cache refs      (75.28%)\n",
      "CPU36                  77917      cache-misses              #    6.931 % of all cache refs      (75.24%)\n",
      "CPU37                  83802      cache-misses              #    7.498 % of all cache refs      (75.24%)\n",
      "CPU38                  83491      cache-misses              #    7.344 % of all cache refs      (75.28%)\n",
      "CPU39                  83078      cache-misses              #    7.102 % of all cache refs      (75.25%)\n",
      "CPU40                  78941      cache-misses              #    7.286 % of all cache refs      (75.31%)\n",
      "CPU41                  83568      cache-misses              #    7.437 % of all cache refs      (75.32%)\n",
      "CPU42                  89272      cache-misses              #    5.406 % of all cache refs      (75.27%)\n",
      "CPU43                  81801      cache-misses              #    7.583 % of all cache refs      (75.23%)\n",
      "CPU44                  81241      cache-misses              #    7.397 % of all cache refs      (75.25%)\n",
      "CPU45                  82061      cache-misses              #    6.973 % of all cache refs      (75.30%)\n",
      "CPU46                  82787      cache-misses              #    7.139 % of all cache refs      (75.22%)\n",
      "CPU47                  87322      cache-misses              #    7.774 % of all cache refs      (75.28%)\n",
      "CPU48                  74403      cache-misses              #    6.715 % of all cache refs      (75.30%)\n",
      "CPU49                  26605      cache-misses              #    0.138 % of all cache refs      (75.03%)\n",
      "CPU50                  89294      cache-misses              #    8.723 % of all cache refs      (75.03%)\n",
      "CPU51                  92917      cache-misses              #    6.009 % of all cache refs      (74.99%)\n",
      "CPU52                  89760      cache-misses              #    8.316 % of all cache refs      (75.07%)\n",
      "CPU53                  81720      cache-misses              #    6.731 % of all cache refs      (74.99%)\n",
      "CPU54                  87437      cache-misses              #    8.198 % of all cache refs      (75.04%)\n",
      "CPU55                  95568      cache-misses              #    8.962 % of all cache refs      (75.11%)\n",
      "CPU56                  91340      cache-misses              #    8.455 % of all cache refs      (74.99%)\n",
      "CPU57                  96371      cache-misses              #    9.540 % of all cache refs      (75.05%)\n",
      "CPU58                  96238      cache-misses              #    9.470 % of all cache refs      (75.08%)\n",
      "CPU59                  94424      cache-misses              #    8.847 % of all cache refs      (75.07%)\n",
      "CPU60                  88914      cache-misses              #    8.616 % of all cache refs      (74.99%)\n",
      "CPU61                  94723      cache-misses              #    9.080 % of all cache refs      (75.01%)\n",
      "CPU62                  97320      cache-misses              #    8.469 % of all cache refs      (75.12%)\n",
      "CPU63                 114673      cache-misses              #    6.822 % of all cache refs      (75.05%)\n",
      "\n",
      "            2.0029 +- 0.0166 seconds time elapsed  ( +-  0.83% )\n",
      "\n"
     ]
    }
   ],
   "source": [
    "%%bash\n",
    "perf stat -S --all-cpus -A -e cycles,instructions,cache-references,cache-misses -r 20 python3 norm_square.py"
   ]
  },
  {
   "cell_type": "markdown",
   "metadata": {},
   "source": [
    "Otras métricas pueden ser obtenidas si ejecutamos `perf` sólo con la *flag* `-r`:"
   ]
  },
  {
   "cell_type": "code",
   "execution_count": 9,
   "metadata": {},
   "outputs": [
    {
     "name": "stderr",
     "output_type": "stream",
     "text": [
      "\n",
      " Performance counter stats for 'python3 norm_square.py' (20 runs):\n",
      "\n",
      "           1927.51 msec task-clock                #    1.000 CPUs utilized            ( +-  0.62% )\n",
      "                 1      context-switches          #    0.000 K/sec                    ( +- 20.20% )\n",
      "                 0      cpu-migrations            #    0.000 K/sec                  \n",
      "             99924      page-faults               #    0.052 M/sec                    ( +-  0.00% )\n",
      "        5150266707      cycles                    #    2.672 GHz                      ( +-  0.58% )  (74.97%)\n",
      "       14131213509      instructions              #    2.74  insn per cycle           ( +-  0.74% )  (75.01%)\n",
      "        2929512564      branches                  # 1519.839 M/sec                    ( +-  0.85% )  (75.04%)\n",
      "           1173976      branch-misses             #    0.04% of all branches          ( +-  0.68% )  (74.98%)\n",
      "\n",
      "            1.9279 +- 0.0119 seconds time elapsed  ( +-  0.62% )\n",
      "\n"
     ]
    }
   ],
   "source": [
    "%%bash\n",
    "perf stat -S -r 20 python3 norm_square.py"
   ]
  },
  {
   "cell_type": "markdown",
   "metadata": {},
   "source": [
    "```{admonition} Comentarios\n",
    "\n",
    "* La métrica de *task-clock* indica cuántos *clock cycles* tomó nuestra tarea y se reporta en milisegundos. Obsérvese que también se indica cuántos CPU's fueron utilizados. En el *output* anterior puede obtenerse no exactamente igual a 1 para `CPUs utilized` pues el programa no sólo involucra trabajo de CPU sino también de alojamiento de memoria. \n",
    "\n",
    "* *context-switches* y *cpu-migrations* indican cuánto se detuvo el programa para realizar:\n",
    "\n",
    "    * operaciones relacionadas con el kernel del sistema (por ejemplo I/O).\n",
    "    * ejecución de otras aplicaciones.\n",
    "    * alojamiento de la ejecución en un core distinto (lo que ocasiona que haya movimiento de datos o instrucciones hacia el caché de otro core).\n",
    "    \n",
    "la idea es que nuestro programa tenga un número pequeño de éstas métricas.\n",
    "\n",
    "* *page-faults* se relaciona con el alojamiento de memoria a partir del kernel del sistema operativo. Ocasiona que se detenga la ejecución del programa y por tanto deseamos que ésta métrica no sea muy grande. Ver [Page fault](https://en.wikipedia.org/wiki/Page_fault).\n",
    "\n",
    "* Para el *branching* interesa que el número de *branch misses* sea pequeño.\n",
    "\n",
    "\n",
    "```"
   ]
  },
  {
   "cell_type": "markdown",
   "metadata": {},
   "source": [
    "Podemos generar la salida anterior por *core*:"
   ]
  },
  {
   "cell_type": "code",
   "execution_count": 10,
   "metadata": {
    "tags": [
     "output_scroll"
    ]
   },
   "outputs": [
    {
     "name": "stderr",
     "output_type": "stream",
     "text": [
      "\n",
      " Performance counter stats for 'system wide' (20 runs):\n",
      "\n",
      "CPU0                 2004.52 msec cpu-clock                 #    1.001 CPUs utilized          \n",
      "CPU1                 2004.52 msec cpu-clock                 #    1.001 CPUs utilized          \n",
      "CPU2                 2004.96 msec cpu-clock                 #    1.001 CPUs utilized          \n",
      "CPU3                 2004.99 msec cpu-clock                 #    1.001 CPUs utilized          \n",
      "CPU4                 2004.97 msec cpu-clock                 #    1.001 CPUs utilized          \n",
      "CPU5                 2004.94 msec cpu-clock                 #    1.001 CPUs utilized          \n",
      "CPU6                 2004.91 msec cpu-clock                 #    1.001 CPUs utilized          \n",
      "CPU7                 2004.88 msec cpu-clock                 #    1.001 CPUs utilized          \n",
      "CPU8                 2004.85 msec cpu-clock                 #    1.001 CPUs utilized          \n",
      "CPU9                 2004.81 msec cpu-clock                 #    1.001 CPUs utilized          \n",
      "CPU10                2004.77 msec cpu-clock                 #    1.001 CPUs utilized          \n",
      "CPU11                2004.74 msec cpu-clock                 #    1.001 CPUs utilized          \n",
      "CPU12                2004.71 msec cpu-clock                 #    1.001 CPUs utilized          \n",
      "CPU13                2004.68 msec cpu-clock                 #    1.001 CPUs utilized          \n",
      "CPU14                2004.65 msec cpu-clock                 #    1.001 CPUs utilized          \n",
      "CPU15                2004.62 msec cpu-clock                 #    1.001 CPUs utilized          \n",
      "CPU16                2004.62 msec cpu-clock                 #    1.001 CPUs utilized          \n",
      "CPU17                2004.66 msec cpu-clock                 #    1.001 CPUs utilized          \n",
      "CPU18                2004.64 msec cpu-clock                 #    1.001 CPUs utilized          \n",
      "CPU19                2004.65 msec cpu-clock                 #    1.001 CPUs utilized          \n",
      "CPU20                2004.64 msec cpu-clock                 #    1.001 CPUs utilized          \n",
      "CPU21                2004.64 msec cpu-clock                 #    1.001 CPUs utilized          \n",
      "CPU22                2004.64 msec cpu-clock                 #    1.001 CPUs utilized          \n",
      "CPU23                2004.63 msec cpu-clock                 #    1.001 CPUs utilized          \n",
      "CPU24                2004.63 msec cpu-clock                 #    1.001 CPUs utilized          \n",
      "CPU25                2004.64 msec cpu-clock                 #    1.001 CPUs utilized          \n",
      "CPU26                2004.65 msec cpu-clock                 #    1.001 CPUs utilized          \n",
      "CPU27                2004.64 msec cpu-clock                 #    1.001 CPUs utilized          \n",
      "CPU28                2004.64 msec cpu-clock                 #    1.001 CPUs utilized          \n",
      "CPU29                2004.64 msec cpu-clock                 #    1.001 CPUs utilized          \n",
      "CPU30                2004.67 msec cpu-clock                 #    1.001 CPUs utilized          \n",
      "CPU31                2004.64 msec cpu-clock                 #    1.001 CPUs utilized          \n",
      "CPU32                2004.64 msec cpu-clock                 #    1.001 CPUs utilized          \n",
      "CPU33                2004.64 msec cpu-clock                 #    1.001 CPUs utilized          \n",
      "CPU34                2004.63 msec cpu-clock                 #    1.001 CPUs utilized          \n",
      "CPU35                2004.63 msec cpu-clock                 #    1.001 CPUs utilized          \n",
      "CPU36                2004.63 msec cpu-clock                 #    1.001 CPUs utilized          \n",
      "CPU37                2004.62 msec cpu-clock                 #    1.001 CPUs utilized          \n",
      "CPU38                2004.64 msec cpu-clock                 #    1.001 CPUs utilized          \n",
      "CPU39                2004.63 msec cpu-clock                 #    1.001 CPUs utilized          \n",
      "CPU40                2004.62 msec cpu-clock                 #    1.001 CPUs utilized          \n",
      "CPU41                2004.62 msec cpu-clock                 #    1.001 CPUs utilized          \n",
      "CPU42                2004.63 msec cpu-clock                 #    1.001 CPUs utilized          \n",
      "CPU43                2004.63 msec cpu-clock                 #    1.001 CPUs utilized          \n",
      "CPU44                2004.65 msec cpu-clock                 #    1.001 CPUs utilized          \n",
      "CPU45                2004.65 msec cpu-clock                 #    1.001 CPUs utilized          \n",
      "CPU46                2004.64 msec cpu-clock                 #    1.001 CPUs utilized          \n",
      "CPU47                2004.68 msec cpu-clock                 #    1.001 CPUs utilized          \n",
      "CPU48                2004.70 msec cpu-clock                 #    1.001 CPUs utilized          \n",
      "CPU49                2004.74 msec cpu-clock                 #    1.001 CPUs utilized          \n",
      "CPU50                2004.71 msec cpu-clock                 #    1.001 CPUs utilized          \n",
      "CPU51                2004.68 msec cpu-clock                 #    1.001 CPUs utilized          \n",
      "CPU52                2004.67 msec cpu-clock                 #    1.001 CPUs utilized          \n",
      "CPU53                2004.64 msec cpu-clock                 #    1.001 CPUs utilized          \n",
      "CPU54                2004.61 msec cpu-clock                 #    1.001 CPUs utilized          \n",
      "CPU55                2004.58 msec cpu-clock                 #    1.001 CPUs utilized          \n",
      "CPU56                2004.55 msec cpu-clock                 #    1.001 CPUs utilized          \n",
      "CPU57                2004.52 msec cpu-clock                 #    1.001 CPUs utilized          \n",
      "CPU58                2004.48 msec cpu-clock                 #    1.000 CPUs utilized          \n",
      "CPU59                2004.45 msec cpu-clock                 #    1.000 CPUs utilized          \n",
      "CPU60                2004.41 msec cpu-clock                 #    1.000 CPUs utilized          \n",
      "CPU61                2004.37 msec cpu-clock                 #    1.000 CPUs utilized          \n",
      "CPU62                2004.37 msec cpu-clock                 #    1.000 CPUs utilized          \n",
      "CPU63                2004.34 msec cpu-clock                 #    1.000 CPUs utilized          \n",
      "CPU0                       6      context-switches          #    0.003 K/sec                  \n",
      "CPU1                       4      context-switches          #    0.002 K/sec                  \n",
      "CPU2                       2      context-switches          #    0.001 K/sec                  \n",
      "CPU3                       2      context-switches          #    0.001 K/sec                  \n",
      "CPU4                       2      context-switches          #    0.001 K/sec                  \n",
      "CPU5                       2      context-switches          #    0.001 K/sec                  \n",
      "CPU6                       2      context-switches          #    0.001 K/sec                  \n",
      "CPU7                       2      context-switches          #    0.001 K/sec                  \n",
      "CPU8                       2      context-switches          #    0.001 K/sec                  \n",
      "CPU9                       2      context-switches          #    0.001 K/sec                  \n",
      "CPU10                      2      context-switches          #    0.001 K/sec                  \n",
      "CPU11                      2      context-switches          #    0.001 K/sec                  \n",
      "CPU12                      2      context-switches          #    0.001 K/sec                  \n",
      "CPU13                      2      context-switches          #    0.001 K/sec                  \n",
      "CPU14                      2      context-switches          #    0.001 K/sec                  \n",
      "CPU15                      2      context-switches          #    0.001 K/sec                  \n",
      "CPU16                     10      context-switches          #    0.005 K/sec                  \n",
      "CPU17                     11      context-switches          #    0.006 K/sec                  \n",
      "CPU18                      2      context-switches          #    0.001 K/sec                  \n",
      "CPU19                      2      context-switches          #    0.001 K/sec                  \n",
      "CPU20                      2      context-switches          #    0.001 K/sec                  \n",
      "CPU21                     10      context-switches          #    0.005 K/sec                  \n",
      "CPU22                     58      context-switches          #    0.029 K/sec                  \n",
      "CPU23                      2      context-switches          #    0.001 K/sec                  \n",
      "CPU24                      2      context-switches          #    0.001 K/sec                  \n",
      "CPU25                      2      context-switches          #    0.001 K/sec                  \n",
      "CPU26                      2      context-switches          #    0.001 K/sec                  \n",
      "CPU27                      2      context-switches          #    0.001 K/sec                  \n",
      "CPU28                      2      context-switches          #    0.001 K/sec                  \n",
      "CPU29                      8      context-switches          #    0.004 K/sec                  \n",
      "CPU30                      4      context-switches          #    0.002 K/sec                  \n",
      "CPU31                      6      context-switches          #    0.003 K/sec                  \n",
      "CPU32                      2      context-switches          #    0.001 K/sec                  \n",
      "CPU33                      2      context-switches          #    0.001 K/sec                  \n",
      "CPU34                      2      context-switches          #    0.001 K/sec                  \n",
      "CPU35                      2      context-switches          #    0.001 K/sec                  \n",
      "CPU36                      2      context-switches          #    0.001 K/sec                  \n",
      "CPU37                      2      context-switches          #    0.001 K/sec                  \n",
      "CPU38                      2      context-switches          #    0.001 K/sec                  \n",
      "CPU39                      2      context-switches          #    0.001 K/sec                  \n",
      "CPU40                      2      context-switches          #    0.001 K/sec                  \n",
      "CPU41                      2      context-switches          #    0.001 K/sec                  \n",
      "CPU42                      6      context-switches          #    0.003 K/sec                  \n",
      "CPU43                      2      context-switches          #    0.001 K/sec                  \n",
      "CPU44                      2      context-switches          #    0.001 K/sec                  \n",
      "CPU45                      2      context-switches          #    0.001 K/sec                  \n",
      "CPU46                      2      context-switches          #    0.001 K/sec                  \n",
      "CPU47                      2      context-switches          #    0.001 K/sec                  \n",
      "CPU48                      2      context-switches          #    0.001 K/sec                  \n",
      "CPU49                      8      context-switches          #    0.004 K/sec                  \n",
      "CPU50                      2      context-switches          #    0.001 K/sec                  \n",
      "CPU51                      2      context-switches          #    0.001 K/sec                  \n",
      "CPU52                      2      context-switches          #    0.001 K/sec                  \n",
      "CPU53                      2      context-switches          #    0.001 K/sec                  \n",
      "CPU54                     10      context-switches          #    0.005 K/sec                  \n",
      "CPU55                      2      context-switches          #    0.001 K/sec                  \n",
      "CPU56                      2      context-switches          #    0.001 K/sec                  \n",
      "CPU57                      2      context-switches          #    0.001 K/sec                  \n",
      "CPU58                      2      context-switches          #    0.001 K/sec                  \n",
      "CPU59                      2      context-switches          #    0.001 K/sec                  \n",
      "CPU60                      2      context-switches          #    0.001 K/sec                  \n",
      "CPU61                      2      context-switches          #    0.001 K/sec                  \n",
      "CPU62                      2      context-switches          #    0.001 K/sec                  \n",
      "CPU63                     52      context-switches          #    0.026 K/sec                  \n",
      "CPU0                       0      cpu-migrations            #    0.000 K/sec                  \n",
      "CPU1                       0      cpu-migrations            #    0.000 K/sec                  \n",
      "CPU2                       0      cpu-migrations            #    0.000 K/sec                  \n",
      "CPU3                       0      cpu-migrations            #    0.000 K/sec                  \n",
      "CPU4                       0      cpu-migrations            #    0.000 K/sec                  \n",
      "CPU5                       0      cpu-migrations            #    0.000 K/sec                  \n",
      "CPU6                       0      cpu-migrations            #    0.000 K/sec                  \n",
      "CPU7                       0      cpu-migrations            #    0.000 K/sec                  \n",
      "CPU8                       0      cpu-migrations            #    0.000 K/sec                  \n",
      "CPU9                       0      cpu-migrations            #    0.000 K/sec                  \n",
      "CPU10                      0      cpu-migrations            #    0.000 K/sec                  \n",
      "CPU11                      0      cpu-migrations            #    0.000 K/sec                  \n",
      "CPU12                      0      cpu-migrations            #    0.000 K/sec                  \n",
      "CPU13                      0      cpu-migrations            #    0.000 K/sec                  \n",
      "CPU14                      0      cpu-migrations            #    0.000 K/sec                  \n",
      "CPU15                      0      cpu-migrations            #    0.000 K/sec                  \n",
      "CPU16                      0      cpu-migrations            #    0.000 K/sec                  \n",
      "CPU17                      0      cpu-migrations            #    0.000 K/sec                  \n",
      "CPU18                      0      cpu-migrations            #    0.000 K/sec                  \n",
      "CPU19                      0      cpu-migrations            #    0.000 K/sec                  \n",
      "CPU20                      0      cpu-migrations            #    0.000 K/sec                  \n",
      "CPU21                      0      cpu-migrations            #    0.000 K/sec                  \n",
      "CPU22                      0      cpu-migrations            #    0.000 K/sec                  \n",
      "CPU23                      0      cpu-migrations            #    0.000 K/sec                  \n",
      "CPU24                      0      cpu-migrations            #    0.000 K/sec                  \n",
      "CPU25                      0      cpu-migrations            #    0.000 K/sec                  \n",
      "CPU26                      0      cpu-migrations            #    0.000 K/sec                  \n",
      "CPU27                      0      cpu-migrations            #    0.000 K/sec                  \n",
      "CPU28                      0      cpu-migrations            #    0.000 K/sec                  \n",
      "CPU29                      0      cpu-migrations            #    0.000 K/sec                  \n",
      "CPU30                      0      cpu-migrations            #    0.000 K/sec                  \n",
      "CPU31                      0      cpu-migrations            #    0.000 K/sec                  \n",
      "CPU32                      0      cpu-migrations            #    0.000 K/sec                  \n",
      "CPU33                      0      cpu-migrations            #    0.000 K/sec                  \n",
      "CPU34                      0      cpu-migrations            #    0.000 K/sec                  \n",
      "CPU35                      0      cpu-migrations            #    0.000 K/sec                  \n",
      "CPU36                      0      cpu-migrations            #    0.000 K/sec                  \n",
      "CPU37                      0      cpu-migrations            #    0.000 K/sec                  \n",
      "CPU38                      0      cpu-migrations            #    0.000 K/sec                  \n",
      "CPU39                      0      cpu-migrations            #    0.000 K/sec                  \n",
      "CPU40                      0      cpu-migrations            #    0.000 K/sec                  \n",
      "CPU41                      0      cpu-migrations            #    0.000 K/sec                  \n",
      "CPU42                      0      cpu-migrations            #    0.000 K/sec                  \n",
      "CPU43                      0      cpu-migrations            #    0.000 K/sec                  \n",
      "CPU44                      0      cpu-migrations            #    0.000 K/sec                  \n",
      "CPU45                      0      cpu-migrations            #    0.000 K/sec                  \n",
      "CPU46                      0      cpu-migrations            #    0.000 K/sec                  \n",
      "CPU47                      0      cpu-migrations            #    0.000 K/sec                  \n",
      "CPU48                      0      cpu-migrations            #    0.000 K/sec                  \n",
      "CPU49                      0      cpu-migrations            #    0.000 K/sec                  \n",
      "CPU50                      0      cpu-migrations            #    0.000 K/sec                  \n",
      "CPU51                      0      cpu-migrations            #    0.000 K/sec                  \n",
      "CPU52                      0      cpu-migrations            #    0.000 K/sec                  \n",
      "CPU53                      0      cpu-migrations            #    0.000 K/sec                  \n",
      "CPU54                      0      cpu-migrations            #    0.000 K/sec                  \n",
      "CPU55                      0      cpu-migrations            #    0.000 K/sec                  \n",
      "CPU56                      0      cpu-migrations            #    0.000 K/sec                  \n",
      "CPU57                      0      cpu-migrations            #    0.000 K/sec                  \n",
      "CPU58                      0      cpu-migrations            #    0.000 K/sec                  \n",
      "CPU59                      0      cpu-migrations            #    0.000 K/sec                  \n",
      "CPU60                      0      cpu-migrations            #    0.000 K/sec                  \n",
      "CPU61                      0      cpu-migrations            #    0.000 K/sec                  \n",
      "CPU62                      0      cpu-migrations            #    0.000 K/sec                  \n",
      "CPU63                      0      cpu-migrations            #    0.000 K/sec                  \n",
      "CPU0                       0      page-faults               #    0.000 K/sec                  \n",
      "CPU1                       0      page-faults               #    0.000 K/sec                  \n",
      "CPU2                       0      page-faults               #    0.000 K/sec                  \n",
      "CPU3                       0      page-faults               #    0.000 K/sec                  \n",
      "CPU4                       0      page-faults               #    0.000 K/sec                  \n",
      "CPU5                       0      page-faults               #    0.000 K/sec                  \n",
      "CPU6                       0      page-faults               #    0.000 K/sec                  \n",
      "CPU7                       0      page-faults               #    0.000 K/sec                  \n",
      "CPU8                       0      page-faults               #    0.000 K/sec                  \n",
      "CPU9                       0      page-faults               #    0.000 K/sec                  \n",
      "CPU10                      0      page-faults               #    0.000 K/sec                  \n",
      "CPU11                      0      page-faults               #    0.000 K/sec                  \n",
      "CPU12                      0      page-faults               #    0.000 K/sec                  \n",
      "CPU13                      0      page-faults               #    0.000 K/sec                  \n",
      "CPU14                      0      page-faults               #    0.000 K/sec                  \n",
      "CPU15                      0      page-faults               #    0.000 K/sec                  \n",
      "CPU16                      1      page-faults               #    0.001 K/sec                  \n",
      "CPU17                  99281      page-faults               #    0.050 M/sec                  \n",
      "CPU18                      0      page-faults               #    0.000 K/sec                  \n",
      "CPU19                      0      page-faults               #    0.000 K/sec                  \n",
      "CPU20                      0      page-faults               #    0.000 K/sec                  \n",
      "CPU21                      0      page-faults               #    0.000 K/sec                  \n",
      "CPU22                      0      page-faults               #    0.000 K/sec                  \n",
      "CPU23                      0      page-faults               #    0.000 K/sec                  \n",
      "CPU24                      0      page-faults               #    0.000 K/sec                  \n",
      "CPU25                      0      page-faults               #    0.000 K/sec                  \n",
      "CPU26                      0      page-faults               #    0.000 K/sec                  \n",
      "CPU27                      0      page-faults               #    0.000 K/sec                  \n",
      "CPU28                      0      page-faults               #    0.000 K/sec                  \n",
      "CPU29                      0      page-faults               #    0.000 K/sec                  \n",
      "CPU30                      0      page-faults               #    0.000 K/sec                  \n",
      "CPU31                      0      page-faults               #    0.000 K/sec                  \n",
      "CPU32                      0      page-faults               #    0.000 K/sec                  \n",
      "CPU33                      0      page-faults               #    0.000 K/sec                  \n",
      "CPU34                      0      page-faults               #    0.000 K/sec                  \n",
      "CPU35                      0      page-faults               #    0.000 K/sec                  \n",
      "CPU36                      0      page-faults               #    0.000 K/sec                  \n",
      "CPU37                      0      page-faults               #    0.000 K/sec                  \n",
      "CPU38                      0      page-faults               #    0.000 K/sec                  \n",
      "CPU39                      0      page-faults               #    0.000 K/sec                  \n",
      "CPU40                      0      page-faults               #    0.000 K/sec                  \n",
      "CPU41                      0      page-faults               #    0.000 K/sec                  \n",
      "CPU42                      0      page-faults               #    0.000 K/sec                  \n",
      "CPU43                      0      page-faults               #    0.000 K/sec                  \n",
      "CPU44                      0      page-faults               #    0.000 K/sec                  \n",
      "CPU45                      0      page-faults               #    0.000 K/sec                  \n",
      "CPU46                      0      page-faults               #    0.000 K/sec                  \n",
      "CPU47                      0      page-faults               #    0.000 K/sec                  \n",
      "CPU48                      0      page-faults               #    0.000 K/sec                  \n",
      "CPU49                      0      page-faults               #    0.000 K/sec                  \n",
      "CPU50                      0      page-faults               #    0.000 K/sec                  \n",
      "CPU51                      0      page-faults               #    0.000 K/sec                  \n",
      "CPU52                      0      page-faults               #    0.000 K/sec                  \n",
      "CPU53                      0      page-faults               #    0.000 K/sec                  \n",
      "CPU54                      0      page-faults               #    0.000 K/sec                  \n",
      "CPU55                      0      page-faults               #    0.000 K/sec                  \n",
      "CPU56                      0      page-faults               #    0.000 K/sec                  \n",
      "CPU57                      0      page-faults               #    0.000 K/sec                  \n",
      "CPU58                      0      page-faults               #    0.000 K/sec                  \n",
      "CPU59                      0      page-faults               #    0.000 K/sec                  \n",
      "CPU60                      0      page-faults               #    0.000 K/sec                  \n",
      "CPU61                      0      page-faults               #    0.000 K/sec                  \n",
      "CPU62                      0      page-faults               #    0.000 K/sec                  \n",
      "CPU63                      0      page-faults               #    0.000 K/sec                  \n",
      "CPU0               306106305      cycles                    #    0.154 GHz                      (75.01%)\n",
      "CPU1               321662266      cycles                    #    0.162 GHz                      (74.94%)\n",
      "CPU2               326295801      cycles                    #    0.164 GHz                      (74.97%)\n",
      "CPU3               322994674      cycles                    #    0.163 GHz                      (75.00%)\n",
      "CPU4               325863884      cycles                    #    0.164 GHz                      (74.99%)\n",
      "CPU5               328710013      cycles                    #    0.166 GHz                      (75.02%)\n",
      "CPU6               324331567      cycles                    #    0.163 GHz                      (74.97%)\n",
      "CPU7               322865115      cycles                    #    0.163 GHz                      (75.07%)\n",
      "CPU8               329757218      cycles                    #    0.166 GHz                      (75.06%)\n",
      "CPU9               331599412      cycles                    #    0.167 GHz                      (74.98%)\n",
      "CPU10              336330558      cycles                    #    0.170 GHz                      (75.03%)\n",
      "CPU11              336453252      cycles                    #    0.170 GHz                      (75.00%)\n",
      "CPU12              319616711      cycles                    #    0.161 GHz                      (74.97%)\n",
      "CPU13              322078523      cycles                    #    0.162 GHz                      (75.05%)\n",
      "CPU14              326329895      cycles                    #    0.164 GHz                      (75.01%)\n",
      "CPU15              332097985      cycles                    #    0.167 GHz                      (75.05%)\n",
      "CPU16              310311098      cycles                    #    0.156 GHz                      (75.01%)\n",
      "CPU17             5269164431      cycles                    #    2.656 GHz                      (75.03%)\n",
      "CPU18              291034611      cycles                    #    0.147 GHz                      (75.00%)\n",
      "CPU19              311080893      cycles                    #    0.157 GHz                      (75.08%)\n",
      "CPU20              308661056      cycles                    #    0.156 GHz                      (74.98%)\n",
      "CPU21              407339837      cycles                    #    0.205 GHz                      (75.08%)\n",
      "CPU22              324464191      cycles                    #    0.164 GHz                      (75.04%)\n",
      "CPU23              330185382      cycles                    #    0.166 GHz                      (74.96%)\n",
      "CPU24              314450999      cycles                    #    0.158 GHz                      (75.02%)\n",
      "CPU25              326412889      cycles                    #    0.165 GHz                      (75.07%)\n",
      "CPU26              336248899      cycles                    #    0.169 GHz                      (75.04%)\n",
      "CPU27              332909536      cycles                    #    0.168 GHz                      (75.04%)\n",
      "CPU28              322263037      cycles                    #    0.162 GHz                      (75.07%)\n",
      "CPU29              353811585      cycles                    #    0.178 GHz                      (75.14%)\n",
      "CPU30              337210591      cycles                    #    0.170 GHz                      (75.04%)\n",
      "CPU31              350407462      cycles                    #    0.177 GHz                      (74.98%)\n",
      "CPU32              269878561      cycles                    #    0.136 GHz                      (75.04%)\n",
      "CPU33              305915895      cycles                    #    0.154 GHz                      (75.03%)\n",
      "CPU34              305142711      cycles                    #    0.154 GHz                      (75.01%)\n",
      "CPU35              307963614      cycles                    #    0.155 GHz                      (75.12%)\n",
      "CPU36              302383441      cycles                    #    0.152 GHz                      (75.02%)\n",
      "CPU37              303830415      cycles                    #    0.153 GHz                      (74.98%)\n",
      "CPU38              304090923      cycles                    #    0.153 GHz                      (75.08%)\n",
      "CPU39              301698284      cycles                    #    0.152 GHz                      (75.02%)\n",
      "CPU40              303872185      cycles                    #    0.153 GHz                      (75.08%)\n",
      "CPU41              309196758      cycles                    #    0.156 GHz                      (74.96%)\n",
      "CPU42              329434964      cycles                    #    0.166 GHz                      (75.05%)\n",
      "CPU43              313422464      cycles                    #    0.158 GHz                      (75.05%)\n",
      "CPU44              296047671      cycles                    #    0.149 GHz                      (74.99%)\n",
      "CPU45              297793381      cycles                    #    0.150 GHz                      (75.04%)\n",
      "CPU46              303275584      cycles                    #    0.153 GHz                      (74.99%)\n",
      "CPU47              303263083      cycles                    #    0.153 GHz                      (75.03%)\n",
      "CPU48              201375641      cycles                    #    0.102 GHz                      (74.97%)\n",
      "CPU49               74307647      cycles                    #    0.037 GHz                      (75.03%)\n",
      "CPU50              264947052      cycles                    #    0.134 GHz                      (74.98%)\n",
      "CPU51              284238722      cycles                    #    0.143 GHz                      (75.04%)\n",
      "CPU52              284536323      cycles                    #    0.143 GHz                      (74.99%)\n",
      "CPU53              271268890      cycles                    #    0.137 GHz                      (75.03%)\n",
      "CPU54              316171524      cycles                    #    0.159 GHz                      (75.02%)\n",
      "CPU55              302706282      cycles                    #    0.153 GHz                      (74.98%)\n",
      "CPU56              288801773      cycles                    #    0.146 GHz                      (75.04%)\n",
      "CPU57              295142915      cycles                    #    0.149 GHz                      (75.10%)\n",
      "CPU58              302572153      cycles                    #    0.153 GHz                      (75.04%)\n",
      "CPU59              300787519      cycles                    #    0.152 GHz                      (75.05%)\n",
      "CPU60              287873147      cycles                    #    0.145 GHz                      (75.05%)\n",
      "CPU61              295315847      cycles                    #    0.149 GHz                      (75.15%)\n",
      "CPU62              293546148      cycles                    #    0.148 GHz                      (75.07%)\n",
      "CPU63              338261165      cycles                    #    0.171 GHz                      (74.98%)\n",
      "CPU0                38176424      instructions              #    0.15  insn per cycle           (75.02%)\n",
      "CPU1                17519359      instructions              #    0.07  insn per cycle           (75.04%)\n",
      "CPU2                16930198      instructions              #    0.07  insn per cycle           (75.08%)\n",
      "CPU3                17394401      instructions              #    0.07  insn per cycle           (75.09%)\n",
      "CPU4                17297746      instructions              #    0.07  insn per cycle           (75.01%)\n",
      "CPU5                16858864      instructions              #    0.07  insn per cycle           (75.02%)\n",
      "CPU6                17157306      instructions              #    0.07  insn per cycle           (75.05%)\n",
      "CPU7                16826766      instructions              #    0.07  insn per cycle           (75.05%)\n",
      "CPU8                17198765      instructions              #    0.07  insn per cycle           (75.13%)\n",
      "CPU9                16962492      instructions              #    0.07  insn per cycle           (75.09%)\n",
      "CPU10               17133309      instructions              #    0.07  insn per cycle           (75.01%)\n",
      "CPU11               17107229      instructions              #    0.07  insn per cycle           (75.07%)\n",
      "CPU12               16946398      instructions              #    0.07  insn per cycle           (75.10%)\n",
      "CPU13               16450384      instructions              #    0.07  insn per cycle           (75.05%)\n",
      "CPU14               16353738      instructions              #    0.06  insn per cycle           (74.99%)\n",
      "CPU15               16830672      instructions              #    0.07  insn per cycle           (74.98%)\n",
      "CPU16               38987809      instructions              #    0.14  insn per cycle           (75.11%)\n",
      "CPU17            14217530430      instructions              #    5.36  insn per cycle           (75.07%)\n",
      "CPU18               16873215      instructions              #    0.07  insn per cycle           (75.06%)\n",
      "CPU19               17509615      instructions              #    0.07  insn per cycle           (75.09%)\n",
      "CPU20               17131848      instructions              #    0.07  insn per cycle           (75.08%)\n",
      "CPU21               88661371      instructions              #    0.28  insn per cycle           (75.00%)\n",
      "CPU22               20454188      instructions              #    0.07  insn per cycle           (75.07%)\n",
      "CPU23               17386019      instructions              #    0.07  insn per cycle           (75.00%)\n",
      "CPU24               17084776      instructions              #    0.07  insn per cycle           (75.05%)\n",
      "CPU25               17233960      instructions              #    0.07  insn per cycle           (74.99%)\n",
      "CPU26               17177017      instructions              #    0.06  insn per cycle           (75.02%)\n",
      "CPU27               17290764      instructions              #    0.07  insn per cycle           (75.04%)\n",
      "CPU28               17423322      instructions              #    0.07  insn per cycle           (74.95%)\n",
      "CPU29               21756181      instructions              #    0.07  insn per cycle           (74.98%)\n",
      "CPU30               18848138      instructions              #    0.07  insn per cycle           (74.95%)\n",
      "CPU31               20449143      instructions              #    0.07  insn per cycle           (75.07%)\n",
      "CPU32               15483810      instructions              #    0.07  insn per cycle           (75.01%)\n",
      "CPU33               15982401      instructions              #    0.07  insn per cycle           (75.00%)\n",
      "CPU34               15942200      instructions              #    0.07  insn per cycle           (75.05%)\n",
      "CPU35               15941977      instructions              #    0.07  insn per cycle           (74.91%)\n",
      "CPU36               15479710      instructions              #    0.07  insn per cycle           (74.98%)\n",
      "CPU37               15851930      instructions              #    0.07  insn per cycle           (75.01%)\n",
      "CPU38               15571039      instructions              #    0.07  insn per cycle           (75.04%)\n",
      "CPU39               15805391      instructions              #    0.07  insn per cycle           (74.99%)\n",
      "CPU40               15754263      instructions              #    0.07  insn per cycle           (75.02%)\n",
      "CPU41               15459431      instructions              #    0.07  insn per cycle           (75.00%)\n",
      "CPU42               19202261      instructions              #    0.07  insn per cycle           (74.95%)\n",
      "CPU43               15446564      instructions              #    0.07  insn per cycle           (75.00%)\n",
      "CPU44               15622786      instructions              #    0.07  insn per cycle           (75.02%)\n",
      "CPU45               15354230      instructions              #    0.07  insn per cycle           (75.09%)\n",
      "CPU46               15498422      instructions              #    0.07  insn per cycle           (74.94%)\n",
      "CPU47               15421485      instructions              #    0.06  insn per cycle           (75.01%)\n",
      "CPU48               15174512      instructions              #    0.09  insn per cycle           (75.11%)\n",
      "CPU49               19161294      instructions              #    0.01  insn per cycle           (75.03%)\n",
      "CPU50               15442820      instructions              #    0.07  insn per cycle           (74.98%)\n",
      "CPU51               16146394      instructions              #    0.07  insn per cycle           (75.09%)\n",
      "CPU52               16217412      instructions              #    0.07  insn per cycle           (75.02%)\n",
      "CPU53               15617012      instructions              #    0.07  insn per cycle           (75.05%)\n",
      "CPU54               20309413      instructions              #    0.08  insn per cycle           (75.05%)\n",
      "CPU55               16305695      instructions              #    0.07  insn per cycle           (74.97%)\n",
      "CPU56               15951744      instructions              #    0.07  insn per cycle           (74.99%)\n",
      "CPU57               15834802      instructions              #    0.06  insn per cycle           (74.99%)\n",
      "CPU58               16129508      instructions              #    0.06  insn per cycle           (74.98%)\n",
      "CPU59               15761884      instructions              #    0.06  insn per cycle           (74.97%)\n",
      "CPU60               15447066      instructions              #    0.07  insn per cycle           (74.96%)\n",
      "CPU61               15799433      instructions              #    0.06  insn per cycle           (74.95%)\n",
      "CPU62               15450106      instructions              #    0.06  insn per cycle           (74.93%)\n",
      "CPU63               21223142      instructions              #    0.07  insn per cycle           (75.02%)\n",
      "CPU0                 7731794      branches                  #    3.897 M/sec                    (74.95%)\n",
      "CPU1                 3830667      branches                  #    1.931 M/sec                    (75.02%)\n",
      "CPU2                 3720136      branches                  #    1.875 M/sec                    (74.98%)\n",
      "CPU3                 3830437      branches                  #    1.931 M/sec                    (74.90%)\n",
      "CPU4                 3795905      branches                  #    1.913 M/sec                    (75.01%)\n",
      "CPU5                 3710373      branches                  #    1.870 M/sec                    (75.00%)\n",
      "CPU6                 3771725      branches                  #    1.901 M/sec                    (75.03%)\n",
      "CPU7                 3682561      branches                  #    1.856 M/sec                    (74.98%)\n",
      "CPU8                 3772339      branches                  #    1.901 M/sec                    (74.91%)\n",
      "CPU9                 3726271      branches                  #    1.878 M/sec                    (75.19%)\n",
      "CPU10                3764386      branches                  #    1.897 M/sec                    (75.23%)\n",
      "CPU11                3762059      branches                  #    1.896 M/sec                    (75.21%)\n",
      "CPU12                3723936      branches                  #    1.877 M/sec                    (75.24%)\n",
      "CPU13                3610716      branches                  #    1.820 M/sec                    (75.14%)\n",
      "CPU14                3604534      branches                  #    1.817 M/sec                    (75.26%)\n",
      "CPU15                3705402      branches                  #    1.868 M/sec                    (75.28%)\n",
      "CPU16                9431117      branches                  #    4.754 M/sec                    (75.18%)\n",
      "CPU17             2941611174      branches                  # 1482.654 M/sec                    (75.21%)\n",
      "CPU18                3755062      branches                  #    1.893 M/sec                    (75.34%)\n",
      "CPU19                3873927      branches                  #    1.953 M/sec                    (75.16%)\n",
      "CPU20                3787231      branches                  #    1.909 M/sec                    (75.21%)\n",
      "CPU21               19467599      branches                  #    9.812 M/sec                    (75.19%)\n",
      "CPU22                4524527      branches                  #    2.281 M/sec                    (75.17%)\n",
      "CPU23                3846215      branches                  #    1.939 M/sec                    (75.20%)\n",
      "CPU24                3780367      branches                  #    1.905 M/sec                    (75.15%)\n",
      "CPU25                3800662      branches                  #    1.916 M/sec                    (75.18%)\n",
      "CPU26                3819317      branches                  #    1.925 M/sec                    (75.16%)\n",
      "CPU27                3840248      branches                  #    1.936 M/sec                    (75.22%)\n",
      "CPU28                3841462      branches                  #    1.936 M/sec                    (75.20%)\n",
      "CPU29                4856204      branches                  #    2.448 M/sec                    (75.19%)\n",
      "CPU30                4136601      branches                  #    2.085 M/sec                    (75.26%)\n",
      "CPU31                4451110      branches                  #    2.244 M/sec                    (75.19%)\n",
      "CPU32                3408780      branches                  #    1.718 M/sec                    (75.27%)\n",
      "CPU33                3527597      branches                  #    1.778 M/sec                    (75.25%)\n",
      "CPU34                3521111      branches                  #    1.775 M/sec                    (75.28%)\n",
      "CPU35                3527430      branches                  #    1.778 M/sec                    (75.32%)\n",
      "CPU36                3425730      branches                  #    1.727 M/sec                    (75.29%)\n",
      "CPU37                3499592      branches                  #    1.764 M/sec                    (75.23%)\n",
      "CPU38                3444253      branches                  #    1.736 M/sec                    (75.23%)\n",
      "CPU39                3487132      branches                  #    1.758 M/sec                    (75.23%)\n",
      "CPU40                3483466      branches                  #    1.756 M/sec                    (75.21%)\n",
      "CPU41                3397462      branches                  #    1.713 M/sec                    (75.23%)\n",
      "CPU42                4238889      branches                  #    2.137 M/sec                    (75.26%)\n",
      "CPU43                3406676      branches                  #    1.717 M/sec                    (75.19%)\n",
      "CPU44                3440157      branches                  #    1.734 M/sec                    (75.22%)\n",
      "CPU45                3389686      branches                  #    1.709 M/sec                    (75.09%)\n",
      "CPU46                3418141      branches                  #    1.723 M/sec                    (75.30%)\n",
      "CPU47                3415962      branches                  #    1.722 M/sec                    (75.25%)\n",
      "CPU48                3343031      branches                  #    1.685 M/sec                    (75.18%)\n",
      "CPU49                4077566      branches                  #    2.055 M/sec                    (75.20%)\n",
      "CPU50                3457873      branches                  #    1.743 M/sec                    (75.35%)\n",
      "CPU51                3583130      branches                  #    1.806 M/sec                    (75.11%)\n",
      "CPU52                3596808      branches                  #    1.813 M/sec                    (75.19%)\n",
      "CPU53                3447169      branches                  #    1.738 M/sec                    (75.12%)\n",
      "CPU54                4427456      branches                  #    2.232 M/sec                    (75.16%)\n",
      "CPU55                3634016      branches                  #    1.832 M/sec                    (75.24%)\n",
      "CPU56                3543971      branches                  #    1.786 M/sec                    (75.15%)\n",
      "CPU57                3525977      branches                  #    1.777 M/sec                    (75.13%)\n",
      "CPU58                3622211      branches                  #    1.826 M/sec                    (75.25%)\n",
      "CPU59                3533650      branches                  #    1.781 M/sec                    (75.23%)\n",
      "CPU60                3458440      branches                  #    1.743 M/sec                    (75.19%)\n",
      "CPU61                3539112      branches                  #    1.784 M/sec                    (75.21%)\n",
      "CPU62                3459792      branches                  #    1.744 M/sec                    (75.25%)\n",
      "CPU63                4607909      branches                  #    2.323 M/sec                    (75.23%)\n",
      "CPU0                  374333      branch-misses             #    5.18% of all branches          (75.29%)\n",
      "CPU1                  322992      branch-misses             #    7.14% of all branches          (75.26%)\n",
      "CPU2                  315334      branch-misses             #   10.78% of all branches          (75.23%)\n",
      "CPU3                  324823      branch-misses             #   10.80% of all branches          (75.28%)\n",
      "CPU4                  314184      branch-misses             #   10.50% of all branches          (75.27%)\n",
      "CPU5                  315790      branch-misses             #   10.84% of all branches          (75.23%)\n",
      "CPU6                  316377      branch-misses             #   10.49% of all branches          (75.23%)\n",
      "CPU7                  313674      branch-misses             #    9.03% of all branches          (75.17%)\n",
      "CPU8                  314333      branch-misses             #   10.55% of all branches          (75.18%)\n",
      "CPU9                  312829      branch-misses             #   10.57% of all branches          (75.07%)\n",
      "CPU10                 307299      branch-misses             #   10.29% of all branches          (75.05%)\n",
      "CPU11                 309721      branch-misses             #   10.36% of all branches          (75.05%)\n",
      "CPU12                 313833      branch-misses             #   10.51% of all branches          (75.02%)\n",
      "CPU13                 307589      branch-misses             #   10.40% of all branches          (75.09%)\n",
      "CPU14                 304448      branch-misses             #    9.42% of all branches          (75.05%)\n",
      "CPU15                 307320      branch-misses             #   10.07% of all branches          (75.02%)\n",
      "CPU16                 426069      branch-misses             #    4.77% of all branches          (75.01%)\n",
      "CPU17                 596553      branch-misses             #    0.04% of all branches          (75.02%)\n",
      "CPU18                 308044      branch-misses             #    9.90% of all branches          (74.93%)\n",
      "CPU19                 315425      branch-misses             #   10.14% of all branches          (75.00%)\n",
      "CPU20                 305915      branch-misses             #   10.08% of all branches          (75.05%)\n",
      "CPU21                 554075      branch-misses             #    4.09% of all branches          (75.06%)\n",
      "CPU22                 388852      branch-misses             #    9.35% of all branches          (75.04%)\n",
      "CPU23                 313289      branch-misses             #   10.03% of all branches          (75.16%)\n",
      "CPU24                 307651      branch-misses             #   10.03% of all branches          (75.11%)\n",
      "CPU25                 306846      branch-misses             #    9.95% of all branches          (75.07%)\n",
      "CPU26                 308390      branch-misses             #    9.88% of all branches          (75.11%)\n",
      "CPU27                 312922      branch-misses             #   10.11% of all branches          (75.01%)\n",
      "CPU28                 309297      branch-misses             #    9.82% of all branches          (75.09%)\n",
      "CPU29                 423266      branch-misses             #    8.43% of all branches          (75.01%)\n",
      "CPU30                 354380      branch-misses             #    9.58% of all branches          (75.07%)\n",
      "CPU31                 382947      branch-misses             #    9.40% of all branches          (75.08%)\n",
      "CPU32                 255123      branch-misses             #    9.25% of all branches          (75.01%)\n",
      "CPU33                 270003      branch-misses             #    9.62% of all branches          (75.05%)\n",
      "CPU34                 261534      branch-misses             #    9.14% of all branches          (75.00%)\n",
      "CPU35                 270503      branch-misses             #    9.28% of all branches          (74.97%)\n",
      "CPU36                 269276      branch-misses             #    9.77% of all branches          (75.05%)\n",
      "CPU37                 266281      branch-misses             #    9.11% of all branches          (75.12%)\n",
      "CPU38                 263606      branch-misses             #    9.17% of all branches          (75.00%)\n",
      "CPU39                 270561      branch-misses             #    9.50% of all branches          (75.10%)\n",
      "CPU40                 268227      branch-misses             #    9.47% of all branches          (75.03%)\n",
      "CPU41                 260930      branch-misses             #    9.43% of all branches          (75.15%)\n",
      "CPU42                 309139      branch-misses             #    7.43% of all branches          (75.09%)\n",
      "CPU43                 264566      branch-misses             #    9.56% of all branches          (75.12%)\n",
      "CPU44                 266440      branch-misses             #    9.33% of all branches          (75.12%)\n",
      "CPU45                 263872      branch-misses             #    9.49% of all branches          (75.13%)\n",
      "CPU46                 261024      branch-misses             #    8.98% of all branches          (75.13%)\n",
      "CPU47                 264583      branch-misses             #    9.07% of all branches          (75.07%)\n",
      "CPU48                 266245      branch-misses             #    9.42% of all branches          (75.11%)\n",
      "CPU49                 107102      branch-misses             #    0.01% of all branches          (75.11%)\n",
      "CPU50                 268393      branch-misses             #    9.01% of all branches          (75.05%)\n",
      "CPU51                 274368      branch-misses             #    8.90% of all branches          (75.13%)\n",
      "CPU52                 269165      branch-misses             #    8.84% of all branches          (75.17%)\n",
      "CPU53                 260373      branch-misses             #    8.54% of all branches          (75.18%)\n",
      "CPU54                 373812      branch-misses             #    9.87% of all branches          (75.14%)\n",
      "CPU55                 268686      branch-misses             #    8.66% of all branches          (75.18%)\n",
      "CPU56                 262133      branch-misses             #    8.30% of all branches          (75.19%)\n",
      "CPU57                 262102      branch-misses             #    8.66% of all branches          (75.16%)\n",
      "CPU58                 261321      branch-misses             #    8.31% of all branches          (75.12%)\n",
      "CPU59                 265672      branch-misses             #    8.76% of all branches          (75.13%)\n",
      "CPU60                 258695      branch-misses             #    8.66% of all branches          (75.20%)\n",
      "CPU61                 268173      branch-misses             #    8.79% of all branches          (75.08%)\n",
      "CPU62                 260297      branch-misses             #    8.29% of all branches          (75.15%)\n",
      "CPU63                 389139      branch-misses             #    9.34% of all branches          (75.17%)\n",
      "\n",
      "            2.0035 +- 0.0125 seconds time elapsed  ( +-  0.62% )\n",
      "\n"
     ]
    }
   ],
   "source": [
    "%%bash\n",
    "perf stat -S --all-cpus -A -r 20 python3 norm_square.py"
   ]
  },
  {
   "cell_type": "markdown",
   "metadata": {},
   "source": [
    "Para contrastar las salidas anteriores con un mejor uso del caché y de los *cores* se utiliza a continuación el paquete de `numpy`:"
   ]
  },
  {
   "cell_type": "code",
   "execution_count": 3,
   "metadata": {},
   "outputs": [
    {
     "name": "stdout",
     "output_type": "stream",
     "text": [
      "Writing norm_square_numpy.py\n"
     ]
    }
   ],
   "source": [
    "%%file norm_square_numpy.py\n",
    "import numpy as np\n",
    "n=10**7\n",
    "vector=np.arange(n)\n",
    "vector.dot(vector)"
   ]
  },
  {
   "cell_type": "code",
   "execution_count": 13,
   "metadata": {},
   "outputs": [
    {
     "name": "stderr",
     "output_type": "stream",
     "text": [
      "\n",
      " Performance counter stats for 'python3 norm_square_numpy.py' (20 runs):\n",
      "\n",
      "       10883030366      cycles                                                        ( +-  1.92% )  (74.13%)\n",
      "        3317792148      instructions              #    0.30  insn per cycle           ( +-  2.36% )  (75.34%)\n",
      "          20753464      cache-references                                              ( +-  1.15% )  (75.80%)\n",
      "           1743193      cache-misses              #    8.400 % of all cache refs      ( +-  7.94% )  (74.73%)\n",
      "\n",
      "           0.23934 +- 0.00512 seconds time elapsed  ( +-  2.14% )\n",
      "\n"
     ]
    }
   ],
   "source": [
    "%%bash\n",
    "perf stat -S -e cycles,instructions,cache-references,cache-misses -r 20 python3 norm_square_numpy.py"
   ]
  },
  {
   "cell_type": "markdown",
   "metadata": {},
   "source": [
    "```{admonition} Comentarios\n",
    "\n",
    "* Obsérvese que es **más rápido** este programa para el número $n$ que se está utilizando en comparación con el programa anterior sin vectorizar.\n",
    "\n",
    "* El número de instrucciones y el número de *cache-misses* son **menores** al reportado con el programa anterior sin vectorizar.\n",
    "\n",
    "```"
   ]
  },
  {
   "cell_type": "markdown",
   "metadata": {},
   "source": [
    "Métricas por core:"
   ]
  },
  {
   "cell_type": "code",
   "execution_count": 14,
   "metadata": {
    "tags": [
     "output_scroll"
    ]
   },
   "outputs": [
    {
     "name": "stderr",
     "output_type": "stream",
     "text": [
      "\n",
      " Performance counter stats for 'system wide' (20 runs):\n",
      "\n",
      "CPU0                62508379      cycles                                                        (76.32%)\n",
      "CPU1                26857115      cycles                                                        (76.26%)\n",
      "CPU2                27978652      cycles                                                        (76.29%)\n",
      "CPU3                24328931      cycles                                                        (76.22%)\n",
      "CPU4                25400584      cycles                                                        (76.22%)\n",
      "CPU5                23141653      cycles                                                        (76.12%)\n",
      "CPU6                24341914      cycles                                                        (76.16%)\n",
      "CPU7                22866352      cycles                                                        (76.25%)\n",
      "CPU8                26054803      cycles                                                        (76.35%)\n",
      "CPU9                26583601      cycles                                                        (76.28%)\n",
      "CPU10               26667093      cycles                                                        (76.34%)\n",
      "CPU11               26720326      cycles                                                        (76.30%)\n",
      "CPU12               25075967      cycles                                                        (76.19%)\n",
      "CPU13               25542921      cycles                                                        (76.52%)\n",
      "CPU14               24075860      cycles                                                        (76.13%)\n",
      "CPU15               27598528      cycles                                                        (76.26%)\n",
      "CPU16              360103054      cycles                                                        (76.30%)\n",
      "CPU17              601848696      cycles                                                        (76.24%)\n",
      "CPU18              310345654      cycles                                                        (76.03%)\n",
      "CPU19              310113303      cycles                                                        (76.24%)\n",
      "CPU20              307656533      cycles                                                        (76.35%)\n",
      "CPU21              301712884      cycles                                                        (76.42%)\n",
      "CPU22              305946437      cycles                                                        (76.08%)\n",
      "CPU23              311187756      cycles                                                        (76.17%)\n",
      "CPU24              309925895      cycles                                                        (76.29%)\n",
      "CPU25              317048104      cycles                                                        (76.07%)\n",
      "CPU26              336229695      cycles                                                        (76.36%)\n",
      "CPU27              338737259      cycles                                                        (76.10%)\n",
      "CPU28              337831620      cycles                                                        (76.33%)\n",
      "CPU29              336902132      cycles                                                        (76.23%)\n",
      "CPU30              337720291      cycles                                                        (76.03%)\n",
      "CPU31              343568104      cycles                                                        (76.44%)\n",
      "CPU32               22229876      cycles                                                        (76.33%)\n",
      "CPU33               23412324      cycles                                                        (76.24%)\n",
      "CPU34               27028252      cycles                                                        (76.14%)\n",
      "CPU35               23674835      cycles                                                        (76.03%)\n",
      "CPU36               23816150      cycles                                                        (76.23%)\n",
      "CPU37               23224199      cycles                                                        (76.22%)\n",
      "CPU38               24569380      cycles                                                        (76.04%)\n",
      "CPU39               22971636      cycles                                                        (76.21%)\n",
      "CPU40               24754101      cycles                                                        (76.16%)\n",
      "CPU41               25444472      cycles                                                        (76.32%)\n",
      "CPU42               25791810      cycles                                                        (76.14%)\n",
      "CPU43               25811747      cycles                                                        (76.19%)\n",
      "CPU44               25355364      cycles                                                        (76.06%)\n",
      "CPU45               24851746      cycles                                                        (76.29%)\n",
      "CPU46               23253569      cycles                                                        (75.93%)\n",
      "CPU47               26541259      cycles                                                        (76.15%)\n",
      "CPU48              261467966      cycles                                                        (75.85%)\n",
      "CPU49              302371155      cycles                                                        (76.07%)\n",
      "CPU50              310754357      cycles                                                        (76.07%)\n",
      "CPU51              309411164      cycles                                                        (75.96%)\n",
      "CPU52              307310046      cycles                                                        (75.97%)\n",
      "CPU53              305984603      cycles                                                        (75.83%)\n",
      "CPU54              311663966      cycles                                                        (75.77%)\n",
      "CPU55              312964400      cycles                                                        (75.78%)\n",
      "CPU56              310689681      cycles                                                        (76.01%)\n",
      "CPU57              328349976      cycles                                                        (76.33%)\n",
      "CPU58              309713560      cycles                                                        (76.28%)\n",
      "CPU59              312002114      cycles                                                        (76.25%)\n",
      "CPU60              314274252      cycles                                                        (76.36%)\n",
      "CPU61              330503808      cycles                                                        (76.10%)\n",
      "CPU62              326899096      cycles                                                        (76.01%)\n",
      "CPU63              337997365      cycles                                                        (75.88%)\n",
      "CPU0                19806394      instructions              #    0.13  insn per cycle           (76.07%)\n",
      "CPU1                 2199225      instructions              #    0.04  insn per cycle           (76.44%)\n",
      "CPU2                 1355889      instructions              #    0.02  insn per cycle           (76.20%)\n",
      "CPU3                 1385418      instructions              #    0.03  insn per cycle           (76.36%)\n",
      "CPU4                 1374337      instructions              #    0.02  insn per cycle           (76.06%)\n",
      "CPU5                 1326495      instructions              #    0.02  insn per cycle           (76.23%)\n",
      "CPU6                 1382961      instructions              #    0.02  insn per cycle           (76.17%)\n",
      "CPU7                 1350684      instructions              #    0.02  insn per cycle           (76.46%)\n",
      "CPU8                 1400033      instructions              #    0.02  insn per cycle           (76.04%)\n",
      "CPU9                 1428450      instructions              #    0.03  insn per cycle           (76.24%)\n",
      "CPU10                1421247      instructions              #    0.04  insn per cycle           (76.19%)\n",
      "CPU11                1419444      instructions              #    0.02  insn per cycle           (76.33%)\n",
      "CPU12                1403913      instructions              #    0.03  insn per cycle           (76.28%)\n",
      "CPU13                1345440      instructions              #    0.02  insn per cycle           (76.20%)\n",
      "CPU14                1422025      instructions              #    0.02  insn per cycle           (76.25%)\n",
      "CPU15                1398662      instructions              #    0.03  insn per cycle           (76.19%)\n",
      "CPU16               92458882      instructions              #    0.28  insn per cycle           (76.00%)\n",
      "CPU17              509742694      instructions              #    1.11  insn per cycle           (76.32%)\n",
      "CPU18               74064074      instructions              #    0.23  insn per cycle           (76.55%)\n",
      "CPU19               75127920      instructions              #    0.23  insn per cycle           (76.34%)\n",
      "CPU20               81604386      instructions              #    0.25  insn per cycle           (76.12%)\n",
      "CPU21              100858840      instructions              #    0.29  insn per cycle           (76.09%)\n",
      "CPU22               75208022      instructions              #    0.23  insn per cycle           (76.07%)\n",
      "CPU23               72765165      instructions              #    0.22  insn per cycle           (76.06%)\n",
      "CPU24               70654240      instructions              #    0.22  insn per cycle           (76.04%)\n",
      "CPU25               79131300      instructions              #    0.24  insn per cycle           (76.14%)\n",
      "CPU26              106118208      instructions              #    0.32  insn per cycle           (76.29%)\n",
      "CPU27              106531259      instructions              #    0.33  insn per cycle           (76.30%)\n",
      "CPU28              104627691      instructions              #    0.32  insn per cycle           (76.31%)\n",
      "CPU29              104477005      instructions              #    0.32  insn per cycle           (76.05%)\n",
      "CPU30              104196307      instructions              #    0.32  insn per cycle           (76.38%)\n",
      "CPU31              107772026      instructions              #    0.32  insn per cycle           (75.97%)\n",
      "CPU32                1320970      instructions              #    0.02  insn per cycle           (76.11%)\n",
      "CPU33                1357510      instructions              #    0.03  insn per cycle           (76.21%)\n",
      "CPU34                1417245      instructions              #    0.03  insn per cycle           (76.22%)\n",
      "CPU35                1420863      instructions              #    0.03  insn per cycle           (76.36%)\n",
      "CPU36                1351213      instructions              #    0.03  insn per cycle           (76.01%)\n",
      "CPU37                1357100      instructions              #    0.03  insn per cycle           (76.15%)\n",
      "CPU38                1370744      instructions              #    0.03  insn per cycle           (76.22%)\n",
      "CPU39                1396996      instructions              #    0.03  insn per cycle           (76.32%)\n",
      "CPU40                1405574      instructions              #    0.04  insn per cycle           (76.24%)\n",
      "CPU41                1382831      instructions              #    0.04  insn per cycle           (76.26%)\n",
      "CPU42                1403793      instructions              #    0.02  insn per cycle           (76.12%)\n",
      "CPU43                1362252      instructions              #    0.03  insn per cycle           (76.18%)\n",
      "CPU44                1400621      instructions              #    0.03  insn per cycle           (76.36%)\n",
      "CPU45                1406160      instructions              #    0.05  insn per cycle           (76.22%)\n",
      "CPU46                1435219      instructions              #    0.04  insn per cycle           (76.10%)\n",
      "CPU47                1384820      instructions              #    0.04  insn per cycle           (76.21%)\n",
      "CPU48               62548432      instructions              #    0.19  insn per cycle           (76.01%)\n",
      "CPU49              109259064      instructions              #    0.25  insn per cycle           (76.18%)\n",
      "CPU50               69540891      instructions              #    0.21  insn per cycle           (76.33%)\n",
      "CPU51               68296329      instructions              #    0.21  insn per cycle           (76.52%)\n",
      "CPU52               76626742      instructions              #    0.24  insn per cycle           (76.19%)\n",
      "CPU53               75726710      instructions              #    0.24  insn per cycle           (76.10%)\n",
      "CPU54               72355419      instructions              #    0.23  insn per cycle           (76.12%)\n",
      "CPU55               71133509      instructions              #    0.22  insn per cycle           (76.24%)\n",
      "CPU56               70442004      instructions              #    0.22  insn per cycle           (76.08%)\n",
      "CPU57              101628239      instructions              #    0.31  insn per cycle           (76.24%)\n",
      "CPU58               82274990      instructions              #    0.26  insn per cycle           (76.09%)\n",
      "CPU59               83694351      instructions              #    0.26  insn per cycle           (76.39%)\n",
      "CPU60               82661990      instructions              #    0.26  insn per cycle           (76.06%)\n",
      "CPU61              106542585      instructions              #    0.33  insn per cycle           (76.16%)\n",
      "CPU62              103224305      instructions              #    0.31  insn per cycle           (76.36%)\n",
      "CPU63              105520921      instructions              #    0.32  insn per cycle           (76.28%)\n",
      "CPU0                  307367      cache-references                                              (76.40%)\n",
      "CPU1                  180732      cache-references                                              (75.96%)\n",
      "CPU2                  127179      cache-references                                              (76.02%)\n",
      "CPU3                  128330      cache-references                                              (76.07%)\n",
      "CPU4                  135053      cache-references                                              (76.19%)\n",
      "CPU5                  124078      cache-references                                              (76.06%)\n",
      "CPU6                  127289      cache-references                                              (76.09%)\n",
      "CPU7                  139641      cache-references                                              (76.12%)\n",
      "CPU8                  122703      cache-references                                              (76.18%)\n",
      "CPU9                  125369      cache-references                                              (76.09%)\n",
      "CPU10                 128076      cache-references                                              (76.09%)\n",
      "CPU11                 130193      cache-references                                              (76.11%)\n",
      "CPU12                 114001      cache-references                                              (76.12%)\n",
      "CPU13                 131552      cache-references                                              (76.08%)\n",
      "CPU14                 121643      cache-references                                              (76.14%)\n",
      "CPU15                 125526      cache-references                                              (76.08%)\n",
      "CPU16                 331925      cache-references                                              (76.29%)\n",
      "CPU17               13296371      cache-references                                              (76.15%)\n",
      "CPU18                 333012      cache-references                                              (76.08%)\n",
      "CPU19                 312632      cache-references                                              (76.06%)\n",
      "CPU20                 270514      cache-references                                              (76.35%)\n",
      "CPU21                 276148      cache-references                                              (76.29%)\n",
      "CPU22                 308640      cache-references                                              (76.17%)\n",
      "CPU23                 288960      cache-references                                              (76.39%)\n",
      "CPU24                 289913      cache-references                                              (76.41%)\n",
      "CPU25                 319846      cache-references                                              (76.20%)\n",
      "CPU26                 270389      cache-references                                              (75.99%)\n",
      "CPU27                 383773      cache-references                                              (76.27%)\n",
      "CPU28                 312680      cache-references                                              (75.91%)\n",
      "CPU29                 312482      cache-references                                              (76.07%)\n",
      "CPU30                 316875      cache-references                                              (76.10%)\n",
      "CPU31                 349847      cache-references                                              (76.26%)\n",
      "CPU32                 113622      cache-references                                              (76.26%)\n",
      "CPU33                 122367      cache-references                                              (76.03%)\n",
      "CPU34                 113792      cache-references                                              (75.98%)\n",
      "CPU35                 113162      cache-references                                              (76.00%)\n",
      "CPU36                 132061      cache-references                                              (76.06%)\n",
      "CPU37                 110269      cache-references                                              (75.86%)\n",
      "CPU38                 109695      cache-references                                              (75.88%)\n",
      "CPU39                 125671      cache-references                                              (76.07%)\n",
      "CPU40                 117870      cache-references                                              (75.98%)\n",
      "CPU41                 114779      cache-references                                              (75.96%)\n",
      "CPU42                 125351      cache-references                                              (76.12%)\n",
      "CPU43                 112871      cache-references                                              (76.05%)\n",
      "CPU44                 111115      cache-references                                              (75.96%)\n",
      "CPU45                 133393      cache-references                                              (76.01%)\n",
      "CPU46                 125909      cache-references                                              (76.13%)\n",
      "CPU47                 118829      cache-references                                              (75.91%)\n",
      "CPU48                 264090      cache-references                                              (76.31%)\n",
      "CPU49                 543397      cache-references                                              (75.98%)\n",
      "CPU50                 317091      cache-references                                              (75.96%)\n",
      "CPU51                 301698      cache-references                                              (75.80%)\n",
      "CPU52                 272330      cache-references                                              (76.00%)\n",
      "CPU53                 335636      cache-references                                              (76.17%)\n",
      "CPU54                 307103      cache-references                                              (76.15%)\n",
      "CPU55                 282245      cache-references                                              (76.42%)\n",
      "CPU56                 264168      cache-references                                              (76.27%)\n",
      "CPU57                 282715      cache-references                                              (76.11%)\n",
      "CPU58                 308893      cache-references                                              (75.98%)\n",
      "CPU59                 323068      cache-references                                              (75.96%)\n",
      "CPU60                 321393      cache-references                                              (75.99%)\n",
      "CPU61                 321802      cache-references                                              (76.09%)\n",
      "CPU62                 334023      cache-references                                              (76.08%)\n",
      "CPU63                 332661      cache-references                                              (76.10%)\n",
      "CPU0                   43768      cache-misses              #   13.997 % of all cache refs      (74.32%)\n",
      "CPU1                    8582      cache-misses              #    3.686 % of all cache refs      (74.45%)\n",
      "CPU2                    6424      cache-misses              #    3.518 % of all cache refs      (74.65%)\n",
      "CPU3                    5656      cache-misses              #    3.198 % of all cache refs      (74.51%)\n",
      "CPU4                    7271      cache-misses              #    3.549 % of all cache refs      (74.72%)\n",
      "CPU5                    5634      cache-misses              #    3.439 % of all cache refs      (74.81%)\n",
      "CPU6                    6464      cache-misses              #    3.219 % of all cache refs      (74.83%)\n",
      "CPU7                    5228      cache-misses              #    2.587 % of all cache refs      (74.42%)\n",
      "CPU8                    6548      cache-misses              #    3.949 % of all cache refs      (74.72%)\n",
      "CPU9                    6447      cache-misses              #    3.462 % of all cache refs      (74.71%)\n",
      "CPU10                   6655      cache-misses              #    4.193 % of all cache refs      (74.71%)\n",
      "CPU11                   6097      cache-misses              #    2.768 % of all cache refs      (74.60%)\n",
      "CPU12                   6418      cache-misses              #    3.587 % of all cache refs      (74.79%)\n",
      "CPU13                   5750      cache-misses              #    2.705 % of all cache refs      (74.60%)\n",
      "CPU14                   5730      cache-misses              #    3.091 % of all cache refs      (74.91%)\n",
      "CPU15                   7273      cache-misses              #    3.728 % of all cache refs      (74.91%)\n",
      "CPU16                  17303      cache-misses              #    6.106 % of all cache refs      (74.89%)\n",
      "CPU17                1460742      cache-misses              #   25.261 % of all cache refs      (74.73%)\n",
      "CPU18                  11244      cache-misses              #    3.988 % of all cache refs      (74.78%)\n",
      "CPU19                  11862      cache-misses              #    1.406 % of all cache refs      (74.82%)\n",
      "CPU20                   9365      cache-misses              #    3.567 % of all cache refs      (74.68%)\n",
      "CPU21                  11438      cache-misses              #    1.334 % of all cache refs      (74.70%)\n",
      "CPU22                  11064      cache-misses              #    4.331 % of all cache refs      (75.20%)\n",
      "CPU23                  10644      cache-misses              #    4.124 % of all cache refs      (74.94%)\n",
      "CPU24                  10355      cache-misses              #    3.907 % of all cache refs      (74.84%)\n",
      "CPU25                   9915      cache-misses              #    3.899 % of all cache refs      (75.19%)\n",
      "CPU26                   9317      cache-misses              #    3.365 % of all cache refs      (74.95%)\n",
      "CPU27                  11170      cache-misses              #    4.050 % of all cache refs      (74.95%)\n",
      "CPU28                  10921      cache-misses              #    4.135 % of all cache refs      (75.08%)\n",
      "CPU29                  10652      cache-misses              #    4.005 % of all cache refs      (75.32%)\n",
      "CPU30                  10488      cache-misses              #    4.030 % of all cache refs      (75.17%)\n",
      "CPU31                  12166      cache-misses              #    4.735 % of all cache refs      (75.00%)\n",
      "CPU32                   6851      cache-misses              #    4.459 % of all cache refs      (75.01%)\n",
      "CPU33                   7362      cache-misses              #    4.859 % of all cache refs      (75.26%)\n",
      "CPU34                   6825      cache-misses              #    4.817 % of all cache refs      (75.41%)\n",
      "CPU35                   6781      cache-misses              #    4.520 % of all cache refs      (75.37%)\n",
      "CPU36                   6637      cache-misses              #    4.056 % of all cache refs      (75.51%)\n",
      "CPU37                   6230      cache-misses              #    4.286 % of all cache refs      (75.61%)\n",
      "CPU38                   7198      cache-misses              #    5.291 % of all cache refs      (75.72%)\n",
      "CPU39                   6037      cache-misses              #    3.864 % of all cache refs      (75.28%)\n",
      "CPU40                   6733      cache-misses              #    5.150 % of all cache refs      (75.53%)\n",
      "CPU41                   6713      cache-misses              #    5.074 % of all cache refs      (75.40%)\n",
      "CPU42                   7022      cache-misses              #    4.022 % of all cache refs      (75.47%)\n",
      "CPU43                   6332      cache-misses              #    4.387 % of all cache refs      (75.39%)\n",
      "CPU44                   7005      cache-misses              #    4.520 % of all cache refs      (75.44%)\n",
      "CPU45                   6432      cache-misses              #    4.329 % of all cache refs      (75.30%)\n",
      "CPU46                   7135      cache-misses              #    4.943 % of all cache refs      (75.68%)\n",
      "CPU47                   7825      cache-misses              #    5.245 % of all cache refs      (75.58%)\n",
      "CPU48                  10718      cache-misses              #    0.771 % of all cache refs      (75.69%)\n",
      "CPU49                   6269      cache-misses              #    0.127 % of all cache refs      (75.65%)\n",
      "CPU50                  12321      cache-misses              #    1.330 % of all cache refs      (75.54%)\n",
      "CPU51                  10723      cache-misses              #    4.257 % of all cache refs      (75.63%)\n",
      "CPU52                  11286      cache-misses              #    4.678 % of all cache refs      (75.76%)\n",
      "CPU53                   8797      cache-misses              #    2.798 % of all cache refs      (75.84%)\n",
      "CPU54                   9904      cache-misses              #    4.002 % of all cache refs      (75.91%)\n",
      "CPU55                  10928      cache-misses              #    4.093 % of all cache refs      (75.52%)\n",
      "CPU56                   9413      cache-misses              #    3.602 % of all cache refs      (75.59%)\n",
      "CPU57                  10298      cache-misses              #    4.178 % of all cache refs      (73.81%)\n",
      "CPU58                   9502      cache-misses              #    3.683 % of all cache refs      (74.23%)\n",
      "CPU59                   9959      cache-misses              #    4.072 % of all cache refs      (74.04%)\n",
      "CPU60                   9228      cache-misses              #    3.580 % of all cache refs      (74.23%)\n",
      "CPU61                  10515      cache-misses              #    4.243 % of all cache refs      (74.34%)\n",
      "CPU62                  10850      cache-misses              #    4.288 % of all cache refs      (74.26%)\n",
      "CPU63                  13201      cache-misses              #    5.243 % of all cache refs      (74.46%)\n",
      "\n",
      "           0.26133 +- 0.00349 seconds time elapsed  ( +-  1.34% )\n",
      "\n"
     ]
    }
   ],
   "source": [
    "%%bash\n",
    "perf stat -S --all-cpus -A -e cycles,instructions,cache-references,cache-misses -r 20 python3 norm_square_numpy.py"
   ]
  },
  {
   "cell_type": "markdown",
   "metadata": {},
   "source": [
    "```{admonition} Comentarios\n",
    "\n",
    "* Se observa que la métrica IPC está más uniforme a través de los cores lo que indica un mejor *load balancing*.\n",
    "\n",
    "* Además, el $\\%$ de *cache-misses* es menor que en el caso no vectorizado.\n",
    "\n",
    "```"
   ]
  },
  {
   "cell_type": "markdown",
   "metadata": {},
   "source": [
    "También podemos obtener las salidas anteriores de `perf` al usar `numpy`: "
   ]
  },
  {
   "cell_type": "code",
   "execution_count": 16,
   "metadata": {},
   "outputs": [
    {
     "name": "stderr",
     "output_type": "stream",
     "text": [
      "\n",
      " Performance counter stats for 'python3 norm_square_numpy.py' (20 runs):\n",
      "\n",
      "           4009.45 msec task-clock                #   17.208 CPUs utilized            ( +-  1.33% )\n",
      "            564444      context-switches          #    0.141 M/sec                    ( +-  5.07% )\n",
      "                50      cpu-migrations            #    0.013 K/sec                    ( +-  6.76% )\n",
      "              4686      page-faults               #    0.001 M/sec                    ( +-  0.75% )\n",
      "       10567628399      cycles                    #    2.636 GHz                      ( +-  1.28% )  (73.97%)\n",
      "        3602865118      instructions              #    0.34  insn per cycle           ( +-  1.75% )  (75.34%)\n",
      "         763664359      branches                  #  190.466 M/sec                    ( +-  1.77% )  (75.77%)\n",
      "          15063370      branch-misses             #    1.97% of all branches          ( +-  1.82% )  (74.93%)\n",
      "\n",
      "           0.23300 +- 0.00349 seconds time elapsed  ( +-  1.50% )\n",
      "\n"
     ]
    }
   ],
   "source": [
    "%%bash\n",
    "perf stat -S -r 20 python3 norm_square_numpy.py"
   ]
  },
  {
   "cell_type": "code",
   "execution_count": 18,
   "metadata": {
    "tags": [
     "output_scroll"
    ]
   },
   "outputs": [
    {
     "name": "stderr",
     "output_type": "stream",
     "text": [
      "\n",
      " Performance counter stats for 'system wide' (20 runs):\n",
      "\n",
      "CPU0                  233.86 msec cpu-clock                 #    0.883 CPUs utilized          \n",
      "CPU1                  233.84 msec cpu-clock                 #    0.883 CPUs utilized          \n",
      "CPU2                  233.83 msec cpu-clock                 #    0.883 CPUs utilized          \n",
      "CPU3                  233.85 msec cpu-clock                 #    0.883 CPUs utilized          \n",
      "CPU4                  233.86 msec cpu-clock                 #    0.883 CPUs utilized          \n",
      "CPU5                  233.87 msec cpu-clock                 #    0.883 CPUs utilized          \n",
      "CPU6                  233.89 msec cpu-clock                 #    0.883 CPUs utilized          \n",
      "CPU7                  233.87 msec cpu-clock                 #    0.883 CPUs utilized          \n",
      "CPU8                  233.88 msec cpu-clock                 #    0.883 CPUs utilized          \n",
      "CPU9                  233.89 msec cpu-clock                 #    0.883 CPUs utilized          \n",
      "CPU10                 233.90 msec cpu-clock                 #    0.883 CPUs utilized          \n",
      "CPU11                 233.88 msec cpu-clock                 #    0.883 CPUs utilized          \n",
      "CPU12                 233.89 msec cpu-clock                 #    0.883 CPUs utilized          \n",
      "CPU13                 233.92 msec cpu-clock                 #    0.884 CPUs utilized          \n",
      "CPU14                 233.93 msec cpu-clock                 #    0.884 CPUs utilized          \n",
      "CPU15                 233.90 msec cpu-clock                 #    0.883 CPUs utilized          \n",
      "CPU16                 233.90 msec cpu-clock                 #    0.883 CPUs utilized          \n",
      "CPU17                 233.90 msec cpu-clock                 #    0.883 CPUs utilized          \n",
      "CPU18                 233.87 msec cpu-clock                 #    0.883 CPUs utilized          \n",
      "CPU19                 233.84 msec cpu-clock                 #    0.883 CPUs utilized          \n",
      "CPU20                 233.81 msec cpu-clock                 #    0.883 CPUs utilized          \n",
      "CPU21                 233.78 msec cpu-clock                 #    0.883 CPUs utilized          \n",
      "CPU22                 233.75 msec cpu-clock                 #    0.883 CPUs utilized          \n",
      "CPU23                 233.72 msec cpu-clock                 #    0.883 CPUs utilized          \n",
      "CPU24                 233.67 msec cpu-clock                 #    0.883 CPUs utilized          \n",
      "CPU25                 233.63 msec cpu-clock                 #    0.882 CPUs utilized          \n",
      "CPU26                 233.60 msec cpu-clock                 #    0.882 CPUs utilized          \n",
      "CPU27                 233.56 msec cpu-clock                 #    0.882 CPUs utilized          \n",
      "CPU28                 233.54 msec cpu-clock                 #    0.882 CPUs utilized          \n",
      "CPU29                 233.55 msec cpu-clock                 #    0.882 CPUs utilized          \n",
      "CPU30                 233.55 msec cpu-clock                 #    0.882 CPUs utilized          \n",
      "CPU31                 233.55 msec cpu-clock                 #    0.882 CPUs utilized          \n",
      "CPU32                 233.54 msec cpu-clock                 #    0.882 CPUs utilized          \n",
      "CPU33                 233.54 msec cpu-clock                 #    0.882 CPUs utilized          \n",
      "CPU34                 233.51 msec cpu-clock                 #    0.882 CPUs utilized          \n",
      "CPU35                 233.49 msec cpu-clock                 #    0.882 CPUs utilized          \n",
      "CPU36                 233.48 msec cpu-clock                 #    0.882 CPUs utilized          \n",
      "CPU37                 233.48 msec cpu-clock                 #    0.882 CPUs utilized          \n",
      "CPU38                 233.48 msec cpu-clock                 #    0.882 CPUs utilized          \n",
      "CPU39                 233.48 msec cpu-clock                 #    0.882 CPUs utilized          \n",
      "CPU40                 233.43 msec cpu-clock                 #    0.882 CPUs utilized          \n",
      "CPU41                 233.47 msec cpu-clock                 #    0.882 CPUs utilized          \n",
      "CPU42                 233.43 msec cpu-clock                 #    0.882 CPUs utilized          \n",
      "CPU43                 233.44 msec cpu-clock                 #    0.882 CPUs utilized          \n",
      "CPU44                 233.44 msec cpu-clock                 #    0.882 CPUs utilized          \n",
      "CPU45                 233.42 msec cpu-clock                 #    0.882 CPUs utilized          \n",
      "CPU46                 233.43 msec cpu-clock                 #    0.882 CPUs utilized          \n",
      "CPU47                 233.43 msec cpu-clock                 #    0.882 CPUs utilized          \n",
      "CPU48                 233.46 msec cpu-clock                 #    0.882 CPUs utilized          \n",
      "CPU49                 233.46 msec cpu-clock                 #    0.882 CPUs utilized          \n",
      "CPU50                 233.46 msec cpu-clock                 #    0.882 CPUs utilized          \n",
      "CPU51                 233.46 msec cpu-clock                 #    0.882 CPUs utilized          \n",
      "CPU52                 233.46 msec cpu-clock                 #    0.882 CPUs utilized          \n",
      "CPU53                 233.46 msec cpu-clock                 #    0.882 CPUs utilized          \n",
      "CPU54                 233.46 msec cpu-clock                 #    0.882 CPUs utilized          \n",
      "CPU55                 233.46 msec cpu-clock                 #    0.882 CPUs utilized          \n",
      "CPU56                 233.46 msec cpu-clock                 #    0.882 CPUs utilized          \n",
      "CPU57                 233.45 msec cpu-clock                 #    0.882 CPUs utilized          \n",
      "CPU58                 233.45 msec cpu-clock                 #    0.882 CPUs utilized          \n",
      "CPU59                 233.44 msec cpu-clock                 #    0.882 CPUs utilized          \n",
      "CPU60                 233.44 msec cpu-clock                 #    0.882 CPUs utilized          \n",
      "CPU61                 233.47 msec cpu-clock                 #    0.882 CPUs utilized          \n",
      "CPU62                 233.50 msec cpu-clock                 #    0.882 CPUs utilized          \n",
      "CPU63                 233.53 msec cpu-clock                 #    0.882 CPUs utilized          \n",
      "CPU0                       8      context-switches          #    0.033 K/sec                  \n",
      "CPU1                       0      context-switches          #    0.000 K/sec                  \n",
      "CPU2                       2      context-switches          #    0.008 K/sec                  \n",
      "CPU3                       0      context-switches          #    0.000 K/sec                  \n",
      "CPU4                       0      context-switches          #    0.000 K/sec                  \n",
      "CPU5                       0      context-switches          #    0.000 K/sec                  \n",
      "CPU6                       0      context-switches          #    0.000 K/sec                  \n",
      "CPU7                       0      context-switches          #    0.000 K/sec                  \n",
      "CPU8                       2      context-switches          #    0.008 K/sec                  \n",
      "CPU9                       0      context-switches          #    0.000 K/sec                  \n",
      "CPU10                      0      context-switches          #    0.000 K/sec                  \n",
      "CPU11                      0      context-switches          #    0.000 K/sec                  \n",
      "CPU12                      0      context-switches          #    0.000 K/sec                  \n",
      "CPU13                      0      context-switches          #    0.000 K/sec                  \n",
      "CPU14                      0      context-switches          #    0.000 K/sec                  \n",
      "CPU15                      0      context-switches          #    0.000 K/sec                  \n",
      "CPU16                  38973      context-switches          #    0.159 M/sec                  \n",
      "CPU17                      5      context-switches          #    0.020 K/sec                  \n",
      "CPU18                     15      context-switches          #    0.061 K/sec                  \n",
      "CPU19                  40029      context-switches          #    0.164 M/sec                  \n",
      "CPU20                     19      context-switches          #    0.078 K/sec                  \n",
      "CPU21                     16      context-switches          #    0.065 K/sec                  \n",
      "CPU22                     14      context-switches          #    0.057 K/sec                  \n",
      "CPU23                     13      context-switches          #    0.053 K/sec                  \n",
      "CPU24                     16      context-switches          #    0.065 K/sec                  \n",
      "CPU25                      9      context-switches          #    0.037 K/sec                  \n",
      "CPU26                  36788      context-switches          #    0.150 M/sec                  \n",
      "CPU27                  40917      context-switches          #    0.167 M/sec                  \n",
      "CPU28                     12      context-switches          #    0.049 K/sec                  \n",
      "CPU29                      9      context-switches          #    0.037 K/sec                  \n",
      "CPU30                  44578      context-switches          #    0.182 M/sec                  \n",
      "CPU31                  39809      context-switches          #    0.163 M/sec                  \n",
      "CPU32                      0      context-switches          #    0.000 K/sec                  \n",
      "CPU33                      0      context-switches          #    0.000 K/sec                  \n",
      "CPU34                      0      context-switches          #    0.000 K/sec                  \n",
      "CPU35                      0      context-switches          #    0.000 K/sec                  \n",
      "CPU36                      0      context-switches          #    0.000 K/sec                  \n",
      "CPU37                      0      context-switches          #    0.000 K/sec                  \n",
      "CPU38                      0      context-switches          #    0.000 K/sec                  \n",
      "CPU39                      0      context-switches          #    0.000 K/sec                  \n",
      "CPU40                      0      context-switches          #    0.000 K/sec                  \n",
      "CPU41                      0      context-switches          #    0.000 K/sec                  \n",
      "CPU42                      0      context-switches          #    0.000 K/sec                  \n",
      "CPU43                      0      context-switches          #    0.000 K/sec                  \n",
      "CPU44                      0      context-switches          #    0.000 K/sec                  \n",
      "CPU45                      0      context-switches          #    0.000 K/sec                  \n",
      "CPU46                      0      context-switches          #    0.000 K/sec                  \n",
      "CPU47                      0      context-switches          #    0.000 K/sec                  \n",
      "CPU48                     14      context-switches          #    0.057 K/sec                  \n",
      "CPU49                      4      context-switches          #    0.016 K/sec                  \n",
      "CPU50                     11      context-switches          #    0.045 K/sec                  \n",
      "CPU51                  41413      context-switches          #    0.169 M/sec                  \n",
      "CPU52                     12      context-switches          #    0.049 K/sec                  \n",
      "CPU53                     13      context-switches          #    0.053 K/sec                  \n",
      "CPU54                     23      context-switches          #    0.094 K/sec                  \n",
      "CPU55                     33      context-switches          #    0.135 K/sec                  \n",
      "CPU56                      8      context-switches          #    0.033 K/sec                  \n",
      "CPU57                     15      context-switches          #    0.061 K/sec                  \n",
      "CPU58                      9      context-switches          #    0.037 K/sec                  \n",
      "CPU59                      9      context-switches          #    0.037 K/sec                  \n",
      "CPU60                  40919      context-switches          #    0.167 M/sec                  \n",
      "CPU61                  40214      context-switches          #    0.164 M/sec                  \n",
      "CPU62                  42659      context-switches          #    0.174 M/sec                  \n",
      "CPU63                  39455      context-switches          #    0.161 M/sec                  \n",
      "CPU0                       1      cpu-migrations            #    0.004 K/sec                  \n",
      "CPU1                       0      cpu-migrations            #    0.000 K/sec                  \n",
      "CPU2                       0      cpu-migrations            #    0.000 K/sec                  \n",
      "CPU3                       0      cpu-migrations            #    0.000 K/sec                  \n",
      "CPU4                       0      cpu-migrations            #    0.000 K/sec                  \n",
      "CPU5                       0      cpu-migrations            #    0.000 K/sec                  \n",
      "CPU6                       0      cpu-migrations            #    0.000 K/sec                  \n",
      "CPU7                       0      cpu-migrations            #    0.000 K/sec                  \n",
      "CPU8                       0      cpu-migrations            #    0.000 K/sec                  \n",
      "CPU9                       0      cpu-migrations            #    0.000 K/sec                  \n",
      "CPU10                      0      cpu-migrations            #    0.000 K/sec                  \n",
      "CPU11                      0      cpu-migrations            #    0.000 K/sec                  \n",
      "CPU12                      0      cpu-migrations            #    0.000 K/sec                  \n",
      "CPU13                      0      cpu-migrations            #    0.000 K/sec                  \n",
      "CPU14                      0      cpu-migrations            #    0.000 K/sec                  \n",
      "CPU15                      0      cpu-migrations            #    0.000 K/sec                  \n",
      "CPU16                      7      cpu-migrations            #    0.029 K/sec                  \n",
      "CPU17                      0      cpu-migrations            #    0.000 K/sec                  \n",
      "CPU18                      4      cpu-migrations            #    0.016 K/sec                  \n",
      "CPU19                      2      cpu-migrations            #    0.008 K/sec                  \n",
      "CPU20                      4      cpu-migrations            #    0.016 K/sec                  \n",
      "CPU21                      2      cpu-migrations            #    0.008 K/sec                  \n",
      "CPU22                      2      cpu-migrations            #    0.008 K/sec                  \n",
      "CPU23                      4      cpu-migrations            #    0.016 K/sec                  \n",
      "CPU24                      2      cpu-migrations            #    0.008 K/sec                  \n",
      "CPU25                      1      cpu-migrations            #    0.004 K/sec                  \n",
      "CPU26                      1      cpu-migrations            #    0.004 K/sec                  \n",
      "CPU27                      1      cpu-migrations            #    0.004 K/sec                  \n",
      "CPU28                      1      cpu-migrations            #    0.004 K/sec                  \n",
      "CPU29                      1      cpu-migrations            #    0.004 K/sec                  \n",
      "CPU30                      1      cpu-migrations            #    0.004 K/sec                  \n",
      "CPU31                      0      cpu-migrations            #    0.000 K/sec                  \n",
      "CPU32                      0      cpu-migrations            #    0.000 K/sec                  \n",
      "CPU33                      0      cpu-migrations            #    0.000 K/sec                  \n",
      "CPU34                      0      cpu-migrations            #    0.000 K/sec                  \n",
      "CPU35                      0      cpu-migrations            #    0.000 K/sec                  \n",
      "CPU36                      0      cpu-migrations            #    0.000 K/sec                  \n",
      "CPU37                      0      cpu-migrations            #    0.000 K/sec                  \n",
      "CPU38                      0      cpu-migrations            #    0.000 K/sec                  \n",
      "CPU39                      0      cpu-migrations            #    0.000 K/sec                  \n",
      "CPU40                      0      cpu-migrations            #    0.000 K/sec                  \n",
      "CPU41                      0      cpu-migrations            #    0.000 K/sec                  \n",
      "CPU42                      0      cpu-migrations            #    0.000 K/sec                  \n",
      "CPU43                      0      cpu-migrations            #    0.000 K/sec                  \n",
      "CPU44                      0      cpu-migrations            #    0.000 K/sec                  \n",
      "CPU45                      0      cpu-migrations            #    0.000 K/sec                  \n",
      "CPU46                      0      cpu-migrations            #    0.000 K/sec                  \n",
      "CPU47                      0      cpu-migrations            #    0.000 K/sec                  \n",
      "CPU48                      3      cpu-migrations            #    0.012 K/sec                  \n",
      "CPU49                      2      cpu-migrations            #    0.008 K/sec                  \n",
      "CPU50                      1      cpu-migrations            #    0.004 K/sec                  \n",
      "CPU51                      0      cpu-migrations            #    0.000 K/sec                  \n",
      "CPU52                      1      cpu-migrations            #    0.004 K/sec                  \n",
      "CPU53                      3      cpu-migrations            #    0.012 K/sec                  \n",
      "CPU54                      3      cpu-migrations            #    0.012 K/sec                  \n",
      "CPU55                      2      cpu-migrations            #    0.008 K/sec                  \n",
      "CPU56                      0      cpu-migrations            #    0.000 K/sec                  \n",
      "CPU57                      2      cpu-migrations            #    0.008 K/sec                  \n",
      "CPU58                      1      cpu-migrations            #    0.004 K/sec                  \n",
      "CPU59                      1      cpu-migrations            #    0.004 K/sec                  \n",
      "CPU60                      0      cpu-migrations            #    0.000 K/sec                  \n",
      "CPU61                      1      cpu-migrations            #    0.004 K/sec                  \n",
      "CPU62                      1      cpu-migrations            #    0.004 K/sec                  \n",
      "CPU63                      1      cpu-migrations            #    0.004 K/sec                  \n",
      "CPU0                       0      page-faults               #    0.000 K/sec                  \n",
      "CPU1                       0      page-faults               #    0.000 K/sec                  \n",
      "CPU2                       0      page-faults               #    0.000 K/sec                  \n",
      "CPU3                       0      page-faults               #    0.000 K/sec                  \n",
      "CPU4                       0      page-faults               #    0.000 K/sec                  \n",
      "CPU5                       0      page-faults               #    0.000 K/sec                  \n",
      "CPU6                       0      page-faults               #    0.000 K/sec                  \n",
      "CPU7                       0      page-faults               #    0.000 K/sec                  \n",
      "CPU8                       0      page-faults               #    0.000 K/sec                  \n",
      "CPU9                       0      page-faults               #    0.000 K/sec                  \n",
      "CPU10                      0      page-faults               #    0.000 K/sec                  \n",
      "CPU11                      0      page-faults               #    0.000 K/sec                  \n",
      "CPU12                      0      page-faults               #    0.000 K/sec                  \n",
      "CPU13                      0      page-faults               #    0.000 K/sec                  \n",
      "CPU14                      0      page-faults               #    0.000 K/sec                  \n",
      "CPU15                      0      page-faults               #    0.000 K/sec                  \n",
      "CPU16                      2      page-faults               #    0.008 K/sec                  \n",
      "CPU17                   3540      page-faults               #    0.014 M/sec                  \n",
      "CPU18                      0      page-faults               #    0.000 K/sec                  \n",
      "CPU19                      0      page-faults               #    0.000 K/sec                  \n",
      "CPU20                      0      page-faults               #    0.000 K/sec                  \n",
      "CPU21                      0      page-faults               #    0.000 K/sec                  \n",
      "CPU22                      0      page-faults               #    0.000 K/sec                  \n",
      "CPU23                      0      page-faults               #    0.000 K/sec                  \n",
      "CPU24                      0      page-faults               #    0.000 K/sec                  \n",
      "CPU25                      0      page-faults               #    0.000 K/sec                  \n",
      "CPU26                      0      page-faults               #    0.000 K/sec                  \n",
      "CPU27                      0      page-faults               #    0.000 K/sec                  \n",
      "CPU28                      0      page-faults               #    0.000 K/sec                  \n",
      "CPU29                      0      page-faults               #    0.000 K/sec                  \n",
      "CPU30                      0      page-faults               #    0.000 K/sec                  \n",
      "CPU31                      0      page-faults               #    0.000 K/sec                  \n",
      "CPU32                      0      page-faults               #    0.000 K/sec                  \n",
      "CPU33                      0      page-faults               #    0.000 K/sec                  \n",
      "CPU34                      0      page-faults               #    0.000 K/sec                  \n",
      "CPU35                      0      page-faults               #    0.000 K/sec                  \n",
      "CPU36                      0      page-faults               #    0.000 K/sec                  \n",
      "CPU37                      0      page-faults               #    0.000 K/sec                  \n",
      "CPU38                      0      page-faults               #    0.000 K/sec                  \n",
      "CPU39                      0      page-faults               #    0.000 K/sec                  \n",
      "CPU40                      0      page-faults               #    0.000 K/sec                  \n",
      "CPU41                      0      page-faults               #    0.000 K/sec                  \n",
      "CPU42                      0      page-faults               #    0.000 K/sec                  \n",
      "CPU43                      0      page-faults               #    0.000 K/sec                  \n",
      "CPU44                      0      page-faults               #    0.000 K/sec                  \n",
      "CPU45                      0      page-faults               #    0.000 K/sec                  \n",
      "CPU46                      0      page-faults               #    0.000 K/sec                  \n",
      "CPU47                      0      page-faults               #    0.000 K/sec                  \n",
      "CPU48                      0      page-faults               #    0.000 K/sec                  \n",
      "CPU49                      0      page-faults               #    0.000 K/sec                  \n",
      "CPU50                      4      page-faults               #    0.016 K/sec                  \n",
      "CPU51                      0      page-faults               #    0.000 K/sec                  \n",
      "CPU52                      0      page-faults               #    0.000 K/sec                  \n",
      "CPU53                      0      page-faults               #    0.000 K/sec                  \n",
      "CPU54                      0      page-faults               #    0.000 K/sec                  \n",
      "CPU55                      0      page-faults               #    0.000 K/sec                  \n",
      "CPU56                      0      page-faults               #    0.000 K/sec                  \n",
      "CPU57                      0      page-faults               #    0.000 K/sec                  \n",
      "CPU58                      0      page-faults               #    0.000 K/sec                  \n",
      "CPU59                      0      page-faults               #    0.000 K/sec                  \n",
      "CPU60                      0      page-faults               #    0.000 K/sec                  \n",
      "CPU61                      0      page-faults               #    0.000 K/sec                  \n",
      "CPU62                      0      page-faults               #    0.000 K/sec                  \n",
      "CPU63                      2      page-faults               #    0.008 K/sec                  \n",
      "CPU0               146891507      cycles                    #    0.600 GHz                      (75.98%)\n",
      "CPU1                23392324      cycles                    #    0.096 GHz                      (75.88%)\n",
      "CPU2                27750151      cycles                    #    0.113 GHz                      (76.09%)\n",
      "CPU3                24030904      cycles                    #    0.098 GHz                      (76.06%)\n",
      "CPU4                21057325      cycles                    #    0.086 GHz                      (76.11%)\n",
      "CPU5                22796691      cycles                    #    0.093 GHz                      (75.99%)\n",
      "CPU6                24877031      cycles                    #    0.102 GHz                      (76.15%)\n",
      "CPU7                21746262      cycles                    #    0.089 GHz                      (75.97%)\n",
      "CPU8                27905829      cycles                    #    0.114 GHz                      (76.04%)\n",
      "CPU9                28341197      cycles                    #    0.116 GHz                      (76.07%)\n",
      "CPU10               21987254      cycles                    #    0.090 GHz                      (75.96%)\n",
      "CPU11               22695948      cycles                    #    0.093 GHz                      (75.91%)\n",
      "CPU12               20492822      cycles                    #    0.084 GHz                      (75.75%)\n",
      "CPU13               22561740      cycles                    #    0.092 GHz                      (76.03%)\n",
      "CPU14               22263669      cycles                    #    0.091 GHz                      (75.99%)\n",
      "CPU15               22145309      cycles                    #    0.091 GHz                      (75.84%)\n",
      "CPU16              376454839      cycles                    #    1.539 GHz                      (76.07%)\n",
      "CPU17              575727870      cycles                    #    2.353 GHz                      (75.81%)\n",
      "CPU18              273603702      cycles                    #    1.118 GHz                      (76.20%)\n",
      "CPU19              327410045      cycles                    #    1.338 GHz                      (75.70%)\n",
      "CPU20              262583337      cycles                    #    1.073 GHz                      (75.81%)\n",
      "CPU21              314767856      cycles                    #    1.286 GHz                      (75.96%)\n",
      "CPU22              317646831      cycles                    #    1.298 GHz                      (75.97%)\n",
      "CPU23              231282149      cycles                    #    0.945 GHz                      (76.27%)\n",
      "CPU24              314821417      cycles                    #    1.286 GHz                      (75.90%)\n",
      "CPU25              316622877      cycles                    #    1.294 GHz                      (75.90%)\n",
      "CPU26              341020599      cycles                    #    1.393 GHz                      (75.88%)\n",
      "CPU27              329000508      cycles                    #    1.344 GHz                      (75.94%)\n",
      "CPU28              323708088      cycles                    #    1.323 GHz                      (75.97%)\n",
      "CPU29              317019668      cycles                    #    1.296 GHz                      (75.74%)\n",
      "CPU30              347572833      cycles                    #    1.421 GHz                      (75.96%)\n",
      "CPU31              334107255      cycles                    #    1.366 GHz                      (75.98%)\n",
      "CPU32               18262461      cycles                    #    0.075 GHz                      (76.08%)\n",
      "CPU33               20687858      cycles                    #    0.085 GHz                      (76.00%)\n",
      "CPU34               25180903      cycles                    #    0.103 GHz                      (76.11%)\n",
      "CPU35               22505656      cycles                    #    0.092 GHz                      (76.09%)\n",
      "CPU36               21807373      cycles                    #    0.089 GHz                      (76.25%)\n",
      "CPU37               23009907      cycles                    #    0.094 GHz                      (76.10%)\n",
      "CPU38               23684344      cycles                    #    0.097 GHz                      (76.16%)\n",
      "CPU39               21225095      cycles                    #    0.087 GHz                      (75.99%)\n",
      "CPU40               22788956      cycles                    #    0.093 GHz                      (76.05%)\n",
      "CPU41               22754291      cycles                    #    0.093 GHz                      (76.08%)\n",
      "CPU42               21618759      cycles                    #    0.088 GHz                      (75.99%)\n",
      "CPU43               21811078      cycles                    #    0.089 GHz                      (75.88%)\n",
      "CPU44               19274895      cycles                    #    0.079 GHz                      (75.78%)\n",
      "CPU45               20695648      cycles                    #    0.085 GHz                      (75.98%)\n",
      "CPU46               22808044      cycles                    #    0.093 GHz                      (76.11%)\n",
      "CPU47               20546620      cycles                    #    0.084 GHz                      (75.87%)\n",
      "CPU48              301871321      cycles                    #    1.235 GHz                      (75.74%)\n",
      "CPU49              292885388      cycles                    #    1.198 GHz                      (75.91%)\n",
      "CPU50              315553956      cycles                    #    1.290 GHz                      (76.18%)\n",
      "CPU51              337012844      cycles                    #    1.378 GHz                      (75.97%)\n",
      "CPU52              315363029      cycles                    #    1.290 GHz                      (75.83%)\n",
      "CPU53              177539048      cycles                    #    0.726 GHz                      (75.75%)\n",
      "CPU54              134807484      cycles                    #    0.551 GHz                      (75.92%)\n",
      "CPU55              317131237      cycles                    #    1.297 GHz                      (76.16%)\n",
      "CPU56              313403077      cycles                    #    1.282 GHz                      (75.85%)\n",
      "CPU57              313392171      cycles                    #    1.282 GHz                      (75.84%)\n",
      "CPU58              321242030      cycles                    #    1.314 GHz                      (75.98%)\n",
      "CPU59              314558272      cycles                    #    1.286 GHz                      (76.09%)\n",
      "CPU60              342421071      cycles                    #    1.400 GHz                      (75.87%)\n",
      "CPU61              340892368      cycles                    #    1.394 GHz                      (75.99%)\n",
      "CPU62              337292236      cycles                    #    1.379 GHz                      (75.84%)\n",
      "CPU63              342304552      cycles                    #    1.400 GHz                      (75.68%)\n",
      "CPU0                61725057      instructions              #    0.48  insn per cycle           (76.03%)\n",
      "CPU1                 3012666      instructions              #    0.03  insn per cycle           (75.83%)\n",
      "CPU2                 1901909      instructions              #    0.03  insn per cycle           (75.69%)\n",
      "CPU3                 1383217      instructions              #    0.03  insn per cycle           (75.88%)\n",
      "CPU4                 1362309      instructions              #    0.03  insn per cycle           (75.87%)\n",
      "CPU5                 1336916      instructions              #    0.04  insn per cycle           (75.93%)\n",
      "CPU6                 1357462      instructions              #    0.02  insn per cycle           (75.77%)\n",
      "CPU7                 1336894      instructions              #    0.02  insn per cycle           (75.81%)\n",
      "CPU8                 2349857      instructions              #    0.06  insn per cycle           (75.71%)\n",
      "CPU9                 2345561      instructions              #    0.06  insn per cycle           (75.74%)\n",
      "CPU10                1359650      instructions              #    0.04  insn per cycle           (76.02%)\n",
      "CPU11                1355170      instructions              #    0.04  insn per cycle           (75.97%)\n",
      "CPU12                1332621      instructions              #    0.03  insn per cycle           (75.84%)\n",
      "CPU13                1309025      instructions              #    0.04  insn per cycle           (76.09%)\n",
      "CPU14                1321098      instructions              #    0.05  insn per cycle           (75.95%)\n",
      "CPU15                1354306      instructions              #    0.03  insn per cycle           (76.01%)\n",
      "CPU16              117321278      instructions              #    0.32  insn per cycle           (75.73%)\n",
      "CPU17              477023592      instructions              #    1.04  insn per cycle           (75.86%)\n",
      "CPU18               67829053      instructions              #    0.22  insn per cycle           (75.45%)\n",
      "CPU19              106717239      instructions              #    0.33  insn per cycle           (76.12%)\n",
      "CPU20               64723967      instructions              #    0.21  insn per cycle           (76.11%)\n",
      "CPU21               92542057      instructions              #    0.29  insn per cycle           (75.61%)\n",
      "CPU22              103618365      instructions              #    0.33  insn per cycle           (75.79%)\n",
      "CPU23               55296954      instructions              #    0.18  insn per cycle           (75.81%)\n",
      "CPU24               69975833      instructions              #    0.22  insn per cycle           (75.92%)\n",
      "CPU25               76152069      instructions              #    0.24  insn per cycle           (75.81%)\n",
      "CPU26              109185087      instructions              #    0.33  insn per cycle           (75.82%)\n",
      "CPU27              109113051      instructions              #    0.33  insn per cycle           (76.03%)\n",
      "CPU28               77346018      instructions              #    0.24  insn per cycle           (75.77%)\n",
      "CPU29               75516853      instructions              #    0.23  insn per cycle           (76.09%)\n",
      "CPU30              113752537      instructions              #    0.34  insn per cycle           (75.91%)\n",
      "CPU31              105934527      instructions              #    0.32  insn per cycle           (75.82%)\n",
      "CPU32                1275566      instructions              #    0.03  insn per cycle           (75.94%)\n",
      "CPU33                1310392      instructions              #    0.03  insn per cycle           (75.78%)\n",
      "CPU34                1368744      instructions              #    0.03  insn per cycle           (75.56%)\n",
      "CPU35                1386232      instructions              #    0.03  insn per cycle           (75.96%)\n",
      "CPU36                1303616      instructions              #    0.05  insn per cycle           (75.84%)\n",
      "CPU37                1373751      instructions              #    0.05  insn per cycle           (75.72%)\n",
      "CPU38                1344747      instructions              #    0.03  insn per cycle           (75.72%)\n",
      "CPU39                1387633      instructions              #    0.06  insn per cycle           (75.88%)\n",
      "CPU40                1387973      instructions              #    0.06  insn per cycle           (75.95%)\n",
      "CPU41                1338690      instructions              #    0.06  insn per cycle           (75.65%)\n",
      "CPU42                1395384      instructions              #    0.06  insn per cycle           (75.98%)\n",
      "CPU43                1347040      instructions              #    0.06  insn per cycle           (76.17%)\n",
      "CPU44                1366156      instructions              #    0.06  insn per cycle           (75.82%)\n",
      "CPU45                1333270      instructions              #    0.06  insn per cycle           (76.12%)\n",
      "CPU46                1407073      instructions              #    0.06  insn per cycle           (75.89%)\n",
      "CPU47                1374547      instructions              #    0.06  insn per cycle           (75.97%)\n",
      "CPU48               77243167      instructions              #    0.27  insn per cycle           (75.86%)\n",
      "CPU49               82354635      instructions              #    0.19  insn per cycle           (76.01%)\n",
      "CPU50               80989923      instructions              #    0.27  insn per cycle           (75.66%)\n",
      "CPU51              106422818      instructions              #    0.34  insn per cycle           (75.92%)\n",
      "CPU52               84972355      instructions              #    0.28  insn per cycle           (75.96%)\n",
      "CPU53               37232092      instructions              #    0.12  insn per cycle           (75.84%)\n",
      "CPU54               31770486      instructions              #    0.10  insn per cycle           (75.89%)\n",
      "CPU55               91906185      instructions              #    0.29  insn per cycle           (75.84%)\n",
      "CPU56               70499711      instructions              #    0.22  insn per cycle           (75.91%)\n",
      "CPU57               75542989      instructions              #    0.23  insn per cycle           (75.98%)\n",
      "CPU58               81790121      instructions              #    0.25  insn per cycle           (75.91%)\n",
      "CPU59               76059512      instructions              #    0.23  insn per cycle           (75.85%)\n",
      "CPU60              109093197      instructions              #    0.33  insn per cycle           (76.16%)\n",
      "CPU61              106311344      instructions              #    0.32  insn per cycle           (75.71%)\n",
      "CPU62              110980134      instructions              #    0.34  insn per cycle           (75.92%)\n",
      "CPU63              103079811      instructions              #    0.31  insn per cycle           (75.96%)\n",
      "CPU0                13192819      branches                  #   53.919 M/sec                    (75.62%)\n",
      "CPU1                  516819      branches                  #    2.112 M/sec                    (75.98%)\n",
      "CPU2                  409308      branches                  #    1.673 M/sec                    (75.81%)\n",
      "CPU3                  311171      branches                  #    1.272 M/sec                    (75.71%)\n",
      "CPU4                  306752      branches                  #    1.254 M/sec                    (75.88%)\n",
      "CPU5                  298374      branches                  #    1.219 M/sec                    (75.83%)\n",
      "CPU6                  306673      branches                  #    1.253 M/sec                    (75.93%)\n",
      "CPU7                  297960      branches                  #    1.218 M/sec                    (75.75%)\n",
      "CPU8                  494464      branches                  #    2.021 M/sec                    (75.85%)\n",
      "CPU9                  509697      branches                  #    2.083 M/sec                    (75.92%)\n",
      "CPU10                 304574      branches                  #    1.245 M/sec                    (75.68%)\n",
      "CPU11                 309682      branches                  #    1.266 M/sec                    (75.76%)\n",
      "CPU12                 300856      branches                  #    1.230 M/sec                    (76.04%)\n",
      "CPU13                 300358      branches                  #    1.228 M/sec                    (75.99%)\n",
      "CPU14                 298103      branches                  #    1.218 M/sec                    (75.76%)\n",
      "CPU15                 306490      branches                  #    1.253 M/sec                    (76.00%)\n",
      "CPU16               26124575      branches                  #  106.772 M/sec                    (75.86%)\n",
      "CPU17               96212759      branches                  #  393.168 M/sec                    (76.11%)\n",
      "CPU18               14391524      branches                  #   58.811 M/sec                    (76.12%)\n",
      "CPU19               22578611      branches                  #   92.265 M/sec                    (75.76%)\n",
      "CPU20               13695839      branches                  #   55.961 M/sec                    (75.66%)\n",
      "CPU21               17782082      branches                  #   72.659 M/sec                    (76.10%)\n",
      "CPU22               20655007      branches                  #   84.392 M/sec                    (75.97%)\n",
      "CPU23               12095621      branches                  #   49.421 M/sec                    (75.82%)\n",
      "CPU24               13883398      branches                  #   56.727 M/sec                    (75.80%)\n",
      "CPU25               14999076      branches                  #   61.289 M/sec                    (75.88%)\n",
      "CPU26               23126007      branches                  #   94.497 M/sec                    (75.90%)\n",
      "CPU27               23445255      branches                  #   95.807 M/sec                    (75.81%)\n",
      "CPU28               15535410      branches                  #   63.488 M/sec                    (76.18%)\n",
      "CPU29               14816927      branches                  #   60.554 M/sec                    (75.80%)\n",
      "CPU30               25317041      branches                  #  103.471 M/sec                    (75.97%)\n",
      "CPU31               22696453      branches                  #   92.765 M/sec                    (75.83%)\n",
      "CPU32                 295307      branches                  #    1.207 M/sec                    (75.73%)\n",
      "CPU33                 296750      branches                  #    1.213 M/sec                    (75.96%)\n",
      "CPU34                 315292      branches                  #    1.289 M/sec                    (75.85%)\n",
      "CPU35                 315726      branches                  #    1.291 M/sec                    (75.47%)\n",
      "CPU36                 300630      branches                  #    1.229 M/sec                    (75.76%)\n",
      "CPU37                 313858      branches                  #    1.283 M/sec                    (75.95%)\n",
      "CPU38                 311074      branches                  #    1.272 M/sec                    (75.85%)\n",
      "CPU39                 313378      branches                  #    1.281 M/sec                    (75.65%)\n",
      "CPU40                 309929      branches                  #    1.267 M/sec                    (75.70%)\n",
      "CPU41                 302402      branches                  #    1.236 M/sec                    (75.98%)\n",
      "CPU42                 310272      branches                  #    1.269 M/sec                    (75.76%)\n",
      "CPU43                 306615      branches                  #    1.254 M/sec                    (75.65%)\n",
      "CPU44                 311338      branches                  #    1.273 M/sec                    (75.98%)\n",
      "CPU45                 301310      branches                  #    1.232 M/sec                    (75.89%)\n",
      "CPU46                 323305      branches                  #    1.322 M/sec                    (75.81%)\n",
      "CPU47                 310881      branches                  #    1.271 M/sec                    (75.92%)\n",
      "CPU48               16239714      branches                  #   66.412 M/sec                    (75.80%)\n",
      "CPU49               17289130      branches                  #   70.698 M/sec                    (75.86%)\n",
      "CPU50               15872606      branches                  #   64.907 M/sec                    (75.84%)\n",
      "CPU51               23784503      branches                  #   97.261 M/sec                    (75.88%)\n",
      "CPU52               16724682      branches                  #   68.392 M/sec                    (75.73%)\n",
      "CPU53                7690404      branches                  #   31.449 M/sec                    (75.86%)\n",
      "CPU54                6582428      branches                  #   26.919 M/sec                    (76.01%)\n",
      "CPU55               17764780      branches                  #   72.650 M/sec                    (75.74%)\n",
      "CPU56               13819309      branches                  #   56.516 M/sec                    (75.73%)\n",
      "CPU57               14947124      branches                  #   61.131 M/sec                    (75.75%)\n",
      "CPU58               15994199      branches                  #   65.415 M/sec                    (75.92%)\n",
      "CPU59               16083514      branches                  #   65.779 M/sec                    (75.92%)\n",
      "CPU60               22730284      branches                  #   92.966 M/sec                    (75.76%)\n",
      "CPU61               22303908      branches                  #   91.219 M/sec                    (76.10%)\n",
      "CPU62               24208531      branches                  #   99.010 M/sec                    (75.88%)\n",
      "CPU63               22250526      branches                  #   91.005 M/sec                    (76.01%)\n",
      "CPU0                  188049      branch-misses             #    1.88% of all branches          (76.14%)\n",
      "CPU1                   33530      branch-misses             #    0.62% of all branches          (76.12%)\n",
      "CPU2                   38325      branch-misses             #    1.19% of all branches          (76.20%)\n",
      "CPU3                   24195      branch-misses             #    1.22% of all branches          (76.17%)\n",
      "CPU4                   24513      branch-misses             #    2.48% of all branches          (75.97%)\n",
      "CPU5                   24611      branch-misses             #    3.11% of all branches          (76.10%)\n",
      "CPU6                   24903      branch-misses             #    0.69% of all branches          (76.03%)\n",
      "CPU7                   24890      branch-misses             #    0.76% of all branches          (76.38%)\n",
      "CPU8                   47918      branch-misses             #    3.15% of all branches          (76.33%)\n",
      "CPU9                   49731      branch-misses             #    3.41% of all branches          (76.25%)\n",
      "CPU10                  24134      branch-misses             #    2.08% of all branches          (76.33%)\n",
      "CPU11                  23914      branch-misses             #    2.90% of all branches          (76.39%)\n",
      "CPU12                  25170      branch-misses             #    1.71% of all branches          (76.43%)\n",
      "CPU13                  24432      branch-misses             #    2.85% of all branches          (75.99%)\n",
      "CPU14                  24856      branch-misses             #    6.05% of all branches          (76.43%)\n",
      "CPU15                  23866      branch-misses             #    1.16% of all branches          (76.33%)\n",
      "CPU16                 495221      branch-misses             #    2.41% of all branches          (76.54%)\n",
      "CPU17                2634924      branch-misses             #    4.64% of all branches          (76.42%)\n",
      "CPU18                 222939      branch-misses             #    1.40% of all branches          (76.46%)\n",
      "CPU19                 513276      branch-misses             #    3.59% of all branches          (76.66%)\n",
      "CPU20                 217148      branch-misses             #    1.46% of all branches          (76.66%)\n",
      "CPU21                 290463      branch-misses             #    1.63% of all branches          (76.59%)\n",
      "CPU22                 314811      branch-misses             #    2.12% of all branches          (74.83%)\n",
      "CPU23                 203890      branch-misses             #    1.47% of all branches          (74.70%)\n",
      "CPU24                 249874      branch-misses             #    1.82% of all branches          (75.00%)\n",
      "CPU25                 261477      branch-misses             #    1.78% of all branches          (75.08%)\n",
      "CPU26                 505466      branch-misses             #    3.15% of all branches          (75.05%)\n",
      "CPU27                 512992      branch-misses             #    3.00% of all branches          (74.89%)\n",
      "CPU28                 280485      branch-misses             #    1.86% of all branches          (74.75%)\n",
      "CPU29                 268234      branch-misses             #    1.53% of all branches          (75.06%)\n",
      "CPU30                 588219      branch-misses             #    3.16% of all branches          (74.88%)\n",
      "CPU31                 516902      branch-misses             #    2.80% of all branches          (75.10%)\n",
      "CPU32                  20803      branch-misses             #    1.17% of all branches          (75.01%)\n",
      "CPU33                  22511      branch-misses             #    0.85% of all branches          (75.02%)\n",
      "CPU34                  23391      branch-misses             #    1.29% of all branches          (75.27%)\n",
      "CPU35                  23903      branch-misses             #    0.97% of all branches          (75.31%)\n",
      "CPU36                  23707      branch-misses             #    3.92% of all branches          (74.99%)\n",
      "CPU37                  23170      branch-misses             #    4.56% of all branches          (75.11%)\n",
      "CPU38                  22571      branch-misses             #    0.97% of all branches          (75.16%)\n",
      "CPU39                  23344      branch-misses             #    6.98% of all branches          (75.41%)\n",
      "CPU40                  23146      branch-misses             #    7.00% of all branches          (75.30%)\n",
      "CPU41                  23293      branch-misses             #    7.21% of all branches          (75.31%)\n",
      "CPU42                  23363      branch-misses             #    5.79% of all branches          (75.28%)\n",
      "CPU43                  22192      branch-misses             #    6.86% of all branches          (75.34%)\n",
      "CPU44                  23069      branch-misses             #    6.97% of all branches          (75.47%)\n",
      "CPU45                  23951      branch-misses             #    7.27% of all branches          (75.09%)\n",
      "CPU46                  23305      branch-misses             #    7.04% of all branches          (75.28%)\n",
      "CPU47                  23686      branch-misses             #    7.25% of all branches          (75.36%)\n",
      "CPU48                 273914      branch-misses             #    1.71% of all branches          (75.77%)\n",
      "CPU49                 287376      branch-misses             #    0.57% of all branches          (75.36%)\n",
      "CPU50                 270502      branch-misses             #    1.81% of all branches          (75.51%)\n",
      "CPU51                 565735      branch-misses             #    3.79% of all branches          (75.42%)\n",
      "CPU52                 283154      branch-misses             #    1.97% of all branches          (75.69%)\n",
      "CPU53                 141412      branch-misses             #    0.81% of all branches          (75.81%)\n",
      "CPU54                 111776      branch-misses             #    0.78% of all branches          (75.43%)\n",
      "CPU55                 291380      branch-misses             #    1.92% of all branches          (75.52%)\n",
      "CPU56                 246076      branch-misses             #    1.73% of all branches          (75.78%)\n",
      "CPU57                 264986      branch-misses             #    1.60% of all branches          (75.78%)\n",
      "CPU58                 283114      branch-misses             #    1.67% of all branches          (75.53%)\n",
      "CPU59                 277876      branch-misses             #    1.71% of all branches          (75.50%)\n",
      "CPU60                 521559      branch-misses             #    2.93% of all branches          (75.58%)\n",
      "CPU61                 479245      branch-misses             #    2.70% of all branches          (75.65%)\n",
      "CPU62                 532779      branch-misses             #    2.99% of all branches          (75.83%)\n",
      "CPU63                 520349      branch-misses             #    2.79% of all branches          (75.83%)\n",
      "\n",
      "           0.26475 +- 0.00394 seconds time elapsed  ( +-  1.49% )\n",
      "\n"
     ]
    }
   ],
   "source": [
    "%%bash\n",
    "perf stat -S --all-cpus -A -r 20 python3 norm_square_numpy.py"
   ]
  },
  {
   "cell_type": "markdown",
   "metadata": {},
   "source": [
    "### perf OpenBLAS: *gaxpy row, column oriented* (nivel 2)"
   ]
  },
  {
   "cell_type": "markdown",
   "metadata": {},
   "source": [
    "Utilizaremos `perf` en lo que sigue para evaluar las métricas de IPC, *cache-references*, *cache-misses* y medir el tiempo de ejecución. Además, esto permitirá comparar los tiempos de ejecución del algoritmo *gaxpy* (nivel BLAS 2), con vectorización y sin vectorización."
   ]
  },
  {
   "cell_type": "code",
   "execution_count": 102,
   "metadata": {},
   "outputs": [],
   "source": [
    "np.random.seed(2020)\n",
    "m=10**4\n",
    "n=10**4\n",
    "A=np.random.rand(m,n)\n",
    "file='A.txt'\n",
    "np.savetxt(file,A)"
   ]
  },
  {
   "cell_type": "markdown",
   "metadata": {},
   "source": [
    "Utilizando listas para construir a la matriz y a los vectores:"
   ]
  },
  {
   "cell_type": "code",
   "execution_count": 103,
   "metadata": {},
   "outputs": [
    {
     "name": "stdout",
     "output_type": "stream",
     "text": [
      "Writing mult_matrix_vector.py\n"
     ]
    }
   ],
   "source": [
    "%%file mult_matrix_vector.py\n",
    "m=10**4\n",
    "n=10**4\n",
    "x=[2.5]*n\n",
    "y=[0]*m\n",
    "A = []\n",
    "file='A.txt'\n",
    "with open(file,'r') as f:\n",
    "    for l in f:\n",
    "        A.append([float(k) for k in l.replace('\\n','').replace(' ',',').split(',')])      \n",
    "for j in range(n):\n",
    "    for i in range(m):\n",
    "        y[i]+=A[i][j]*x[j]"
   ]
  },
  {
   "cell_type": "markdown",
   "metadata": {},
   "source": [
    "### *gaxpy column oriented* caso no vectorizado"
   ]
  },
  {
   "cell_type": "code",
   "execution_count": 104,
   "metadata": {},
   "outputs": [
    {
     "name": "stderr",
     "output_type": "stream",
     "text": [
      "\n",
      " Performance counter stats for 'python3 mult_matrix_vector.py' (7 runs):\n",
      "\n",
      "      267299273562      cycles                                                        ( +-  0.43% )  (75.00%)\n",
      "      593616793103      instructions              #    2.22  insn per cycle           ( +-  0.44% )  (75.00%)\n",
      "        2617234548      cache-references                                              ( +-  0.26% )  (75.00%)\n",
      "         426473660      cache-misses              #   16.295 % of all cache refs      ( +-  0.78% )  (75.00%)\n",
      "\n",
      "            99.822 +- 0.532 seconds time elapsed  ( +-  0.53% )\n",
      "\n"
     ]
    }
   ],
   "source": [
    "%%bash\n",
    "perf stat -S -e cycles,instructions,cache-references,cache-misses -r 7 python3 mult_matrix_vector.py"
   ]
  },
  {
   "cell_type": "markdown",
   "metadata": {},
   "source": [
    "Métricas por *core*:"
   ]
  },
  {
   "cell_type": "code",
   "execution_count": 105,
   "metadata": {
    "tags": [
     "output_scroll"
    ]
   },
   "outputs": [
    {
     "name": "stderr",
     "output_type": "stream",
     "text": [
      "\n",
      " Performance counter stats for 'system wide' (7 runs):\n",
      "\n",
      "CPU0              3546811536      cycles                                                        (75.00%)\n",
      "CPU1              3532817847      cycles                                                        (75.00%)\n",
      "CPU2              3537667402      cycles                                                        (75.00%)\n",
      "CPU3              3579132369      cycles                                                        (75.00%)\n",
      "CPU4              3561009406      cycles                                                        (75.00%)\n",
      "CPU5              3547701460      cycles                                                        (75.00%)\n",
      "CPU6              3523392168      cycles                                                        (75.00%)\n",
      "CPU7              3527550856      cycles                                                        (75.00%)\n",
      "CPU8              3581413600      cycles                                                        (75.00%)\n",
      "CPU9              3546623604      cycles                                                        (75.01%)\n",
      "CPU10             3684311884      cycles                                                        (75.00%)\n",
      "CPU11             3732040116      cycles                                                        (75.00%)\n",
      "CPU12             3603503659      cycles                                                        (75.00%)\n",
      "CPU13             3608231224      cycles                                                        (75.00%)\n",
      "CPU14             2096115464      cycles                                                        (75.00%)\n",
      "CPU15             3758448857      cycles                                                        (75.00%)\n",
      "CPU16             3449097804      cycles                                                        (75.00%)\n",
      "CPU17             6122973797      cycles                                                        (75.00%)\n",
      "CPU18             3491321505      cycles                                                        (75.00%)\n",
      "CPU19             3520714347      cycles                                                        (75.00%)\n",
      "CPU20             3595853648      cycles                                                        (75.00%)\n",
      "CPU21             3499033175      cycles                                                        (75.00%)\n",
      "CPU22             3489442843      cycles                                                        (75.00%)\n",
      "CPU23             3596342201      cycles                                                        (75.00%)\n",
      "CPU24             3529556080      cycles                                                        (75.00%)\n",
      "CPU25             3591278320      cycles                                                        (74.99%)\n",
      "CPU26             3668762166      cycles                                                        (75.00%)\n",
      "CPU27             3697496117      cycles                                                        (75.00%)\n",
      "CPU28             3601358050      cycles                                                        (74.99%)\n",
      "CPU29             3545991904      cycles                                                        (75.00%)\n",
      "CPU30             3611525224      cycles                                                        (75.00%)\n",
      "CPU31             3645152655      cycles                                                        (75.00%)\n",
      "CPU32             2964512971      cycles                                                        (75.00%)\n",
      "CPU33             2994710048      cycles                                                        (75.01%)\n",
      "CPU34             2996470269      cycles                                                        (75.00%)\n",
      "CPU35             3051276990      cycles                                                        (75.00%)\n",
      "CPU36             3017894047      cycles                                                        (75.01%)\n",
      "CPU37             2973061979      cycles                                                        (75.00%)\n",
      "CPU38             2994885053      cycles                                                        (75.01%)\n",
      "CPU39             3024323668      cycles                                                        (75.00%)\n",
      "CPU40             3058104798      cycles                                                        (75.01%)\n",
      "CPU41             3005146270      cycles                                                        (75.00%)\n",
      "CPU42             3153225900      cycles                                                        (75.01%)\n",
      "CPU43             3282282136      cycles                                                        (75.01%)\n",
      "CPU44             3042736447      cycles                                                        (75.01%)\n",
      "CPU45             3236548853      cycles                                                        (75.00%)\n",
      "CPU46           260828588548      cycles                                                        (75.00%)\n",
      "CPU47             3236330305      cycles                                                        (75.00%)\n",
      "CPU48             2917610577      cycles                                                        (75.00%)\n",
      "CPU49             3007997330      cycles                                                        (75.00%)\n",
      "CPU50             2976091085      cycles                                                        (75.01%)\n",
      "CPU51             2997130539      cycles                                                        (75.01%)\n",
      "CPU52             3065016506      cycles                                                        (75.00%)\n",
      "CPU53             2942630566      cycles                                                        (75.01%)\n",
      "CPU54             2975418484      cycles                                                        (75.00%)\n",
      "CPU55             3002544989      cycles                                                        (75.01%)\n",
      "CPU56             3000655121      cycles                                                        (75.00%)\n",
      "CPU57             3061259405      cycles                                                        (75.01%)\n",
      "CPU58             3113714136      cycles                                                        (75.01%)\n",
      "CPU59             3099521368      cycles                                                        (75.01%)\n",
      "CPU60             3051238029      cycles                                                        (75.01%)\n",
      "CPU61             3040839587      cycles                                                        (75.00%)\n",
      "CPU62             3034101522      cycles                                                        (75.00%)\n",
      "CPU63             3392230464      cycles                                                        (75.00%)\n",
      "CPU0               436560547      instructions              #    0.12  insn per cycle           (75.00%)\n",
      "CPU1               356093479      instructions              #    0.10  insn per cycle           (75.01%)\n",
      "CPU2               357316776      instructions              #    0.10  insn per cycle           (75.00%)\n",
      "CPU3               357198317      instructions              #    0.10  insn per cycle           (75.00%)\n",
      "CPU4               363274070      instructions              #    0.10  insn per cycle           (75.00%)\n",
      "CPU5               368957667      instructions              #    0.10  insn per cycle           (75.00%)\n",
      "CPU6               356048472      instructions              #    0.10  insn per cycle           (75.01%)\n",
      "CPU7               353569562      instructions              #    0.10  insn per cycle           (75.00%)\n",
      "CPU8               358345786      instructions              #    0.10  insn per cycle           (75.01%)\n",
      "CPU9               355887913      instructions              #    0.10  insn per cycle           (75.00%)\n",
      "CPU10              367230037      instructions              #    0.10  insn per cycle           (75.01%)\n",
      "CPU11              364537933      instructions              #    0.10  insn per cycle           (75.01%)\n",
      "CPU12              360934810      instructions              #    0.10  insn per cycle           (75.01%)\n",
      "CPU13              369024420      instructions              #    0.10  insn per cycle           (75.00%)\n",
      "CPU14              386958386      instructions              #    0.00  insn per cycle           (75.00%)\n",
      "CPU15              367899118      instructions              #    0.10  insn per cycle           (75.00%)\n",
      "CPU16              360869713      instructions              #    0.10  insn per cycle           (75.00%)\n",
      "CPU17             2871802668      instructions              #    0.47  insn per cycle           (75.00%)\n",
      "CPU18              356560183      instructions              #    0.10  insn per cycle           (75.01%)\n",
      "CPU19              355375954      instructions              #    0.10  insn per cycle           (75.01%)\n",
      "CPU20              357743161      instructions              #    0.10  insn per cycle           (75.00%)\n",
      "CPU21              358008344      instructions              #    0.10  insn per cycle           (75.01%)\n",
      "CPU22              356281948      instructions              #    0.10  insn per cycle           (75.00%)\n",
      "CPU23              419646359      instructions              #    0.11  insn per cycle           (75.00%)\n",
      "CPU24              356837717      instructions              #    0.10  insn per cycle           (75.00%)\n",
      "CPU25              356351277      instructions              #    0.10  insn per cycle           (75.01%)\n",
      "CPU26              355873475      instructions              #    0.09  insn per cycle           (75.01%)\n",
      "CPU27              385030762      instructions              #    0.10  insn per cycle           (75.01%)\n",
      "CPU28              360533373      instructions              #    0.10  insn per cycle           (75.01%)\n",
      "CPU29              353781127      instructions              #    0.10  insn per cycle           (75.00%)\n",
      "CPU30              356880189      instructions              #    0.10  insn per cycle           (75.00%)\n",
      "CPU31              353669202      instructions              #    0.09  insn per cycle           (75.00%)\n",
      "CPU32              341619317      instructions              #    0.11  insn per cycle           (75.00%)\n",
      "CPU33              347054658      instructions              #    0.11  insn per cycle           (75.00%)\n",
      "CPU34              345156384      instructions              #    0.11  insn per cycle           (75.00%)\n",
      "CPU35              349032159      instructions              #    0.11  insn per cycle           (75.00%)\n",
      "CPU36              352365249      instructions              #    0.11  insn per cycle           (75.00%)\n",
      "CPU37              350720266      instructions              #    0.12  insn per cycle           (75.00%)\n",
      "CPU38              341134970      instructions              #    0.11  insn per cycle           (75.00%)\n",
      "CPU39              354605125      instructions              #    0.12  insn per cycle           (75.00%)\n",
      "CPU40              348879362      instructions              #    0.11  insn per cycle           (75.00%)\n",
      "CPU41              349171283      instructions              #    0.11  insn per cycle           (75.00%)\n",
      "CPU42              352457933      instructions              #    0.11  insn per cycle           (75.00%)\n",
      "CPU43              477172868      instructions              #    0.14  insn per cycle           (75.00%)\n",
      "CPU44              345940657      instructions              #    0.11  insn per cycle           (75.00%)\n",
      "CPU45              395842460      instructions              #    0.12  insn per cycle           (75.01%)\n",
      "CPU46           584333110343      instructions              #    3.82  insn per cycle           (75.00%)\n",
      "CPU47              360968350      instructions              #    0.11  insn per cycle           (75.00%)\n",
      "CPU48              343676299      instructions              #    0.11  insn per cycle           (75.01%)\n",
      "CPU49              346848639      instructions              #    0.11  insn per cycle           (75.01%)\n",
      "CPU50              348273986      instructions              #    0.11  insn per cycle           (75.00%)\n",
      "CPU51              347416764      instructions              #    0.11  insn per cycle           (75.00%)\n",
      "CPU52              350111446      instructions              #    0.11  insn per cycle           (75.00%)\n",
      "CPU53              346015640      instructions              #    0.11  insn per cycle           (75.00%)\n",
      "CPU54              350975423      instructions              #    0.12  insn per cycle           (75.00%)\n",
      "CPU55              346647917      instructions              #    0.11  insn per cycle           (75.00%)\n",
      "CPU56              345874697      instructions              #    0.11  insn per cycle           (75.00%)\n",
      "CPU57              357467797      instructions              #    0.11  insn per cycle           (75.00%)\n",
      "CPU58              341681272      instructions              #    0.11  insn per cycle           (75.00%)\n",
      "CPU59              354589646      instructions              #    0.11  insn per cycle           (75.00%)\n",
      "CPU60              347330450      instructions              #    0.11  insn per cycle           (75.00%)\n",
      "CPU61              345328710      instructions              #    0.11  insn per cycle           (75.00%)\n",
      "CPU62              342946130      instructions              #    0.11  insn per cycle           (75.00%)\n",
      "CPU63              586159982      instructions              #    0.17  insn per cycle           (75.00%)\n",
      "CPU0                37652013      cache-references                                              (75.00%)\n",
      "CPU1                36788019      cache-references                                              (75.00%)\n",
      "CPU2                37172289      cache-references                                              (75.00%)\n",
      "CPU3                37498851      cache-references                                              (75.00%)\n",
      "CPU4                38369637      cache-references                                              (75.00%)\n",
      "CPU5                38874077      cache-references                                              (75.00%)\n",
      "CPU6                37228545      cache-references                                              (75.00%)\n",
      "CPU7                37431703      cache-references                                              (75.00%)\n",
      "CPU8                37518103      cache-references                                              (75.00%)\n",
      "CPU9                37675677      cache-references                                              (75.00%)\n",
      "CPU10               36447872      cache-references                                              (75.00%)\n",
      "CPU11               37705656      cache-references                                              (75.00%)\n",
      "CPU12               38408892      cache-references                                              (75.00%)\n",
      "CPU13               39577316      cache-references                                              (75.01%)\n",
      "CPU14               23919283      cache-references                                              (75.00%)\n",
      "CPU15               38494997      cache-references                                              (75.00%)\n",
      "CPU16               38962227      cache-references                                              (75.01%)\n",
      "CPU17               58835914      cache-references                                              (75.01%)\n",
      "CPU18               38740873      cache-references                                              (75.00%)\n",
      "CPU19               37463261      cache-references                                              (75.00%)\n",
      "CPU20               37846762      cache-references                                              (75.00%)\n",
      "CPU21               35461279      cache-references                                              (75.00%)\n",
      "CPU22               38914585      cache-references                                              (75.00%)\n",
      "CPU23               37159902      cache-references                                              (75.00%)\n",
      "CPU24               36087358      cache-references                                              (75.00%)\n",
      "CPU25               36908555      cache-references                                              (75.00%)\n",
      "CPU26               36470737      cache-references                                              (75.00%)\n",
      "CPU27               37112172      cache-references                                              (75.00%)\n",
      "CPU28               39582676      cache-references                                              (75.00%)\n",
      "CPU29               38189999      cache-references                                              (75.00%)\n",
      "CPU30               35833864      cache-references                                              (75.00%)\n",
      "CPU31               35723330      cache-references                                              (75.01%)\n",
      "CPU32               42040458      cache-references                                              (75.01%)\n",
      "CPU33               38650759      cache-references                                              (75.00%)\n",
      "CPU34               38675667      cache-references                                              (75.01%)\n",
      "CPU35               38356495      cache-references                                              (75.01%)\n",
      "CPU36               38966218      cache-references                                              (75.01%)\n",
      "CPU37               38660882      cache-references                                              (75.00%)\n",
      "CPU38               38947361      cache-references                                              (75.00%)\n",
      "CPU39               39180268      cache-references                                              (75.00%)\n",
      "CPU40               39626559      cache-references                                              (75.01%)\n",
      "CPU41               38663669      cache-references                                              (75.00%)\n",
      "CPU42               40087976      cache-references                                              (75.00%)\n",
      "CPU43               41337020      cache-references                                              (75.00%)\n",
      "CPU44               39514898      cache-references                                              (75.00%)\n",
      "CPU45               42382642      cache-references                                              (75.00%)\n",
      "CPU46             2606151872      cache-references                                              (75.00%)\n",
      "CPU47               40165638      cache-references                                              (75.00%)\n",
      "CPU48               38096022      cache-references                                              (75.01%)\n",
      "CPU49               40756544      cache-references                                              (75.01%)\n",
      "CPU50               38314520      cache-references                                              (75.01%)\n",
      "CPU51               39026993      cache-references                                              (75.01%)\n",
      "CPU52               39430971      cache-references                                              (75.00%)\n",
      "CPU53               41784907      cache-references                                              (75.00%)\n",
      "CPU54               38048507      cache-references                                              (75.01%)\n",
      "CPU55               39777417      cache-references                                              (75.01%)\n",
      "CPU56               40511754      cache-references                                              (75.01%)\n",
      "CPU57               42523772      cache-references                                              (75.01%)\n",
      "CPU58               40493576      cache-references                                              (75.00%)\n",
      "CPU59               41361339      cache-references                                              (75.01%)\n",
      "CPU60               39255090      cache-references                                              (75.01%)\n",
      "CPU61               38380589      cache-references                                              (75.01%)\n",
      "CPU62               41139581      cache-references                                              (75.00%)\n",
      "CPU63               48813362      cache-references                                              (75.01%)\n",
      "CPU0                  720255      cache-misses              #    1.881 % of all cache refs      (75.00%)\n",
      "CPU1                  159983      cache-misses              #    0.419 % of all cache refs      (75.00%)\n",
      "CPU2                  164057      cache-misses              #    0.432 % of all cache refs      (75.00%)\n",
      "CPU3                  143774      cache-misses              #    0.375 % of all cache refs      (75.00%)\n",
      "CPU4                  261316      cache-misses              #    0.670 % of all cache refs      (75.00%)\n",
      "CPU5                  254407      cache-misses              #    0.654 % of all cache refs      (75.00%)\n",
      "CPU6                  148484      cache-misses              #    0.391 % of all cache refs      (75.00%)\n",
      "CPU7                  141768      cache-misses              #    0.368 % of all cache refs      (75.00%)\n",
      "CPU8                  152470      cache-misses              #    0.401 % of all cache refs      (75.00%)\n",
      "CPU9                  194203      cache-misses              #    0.506 % of all cache refs      (75.00%)\n",
      "CPU10                 142790      cache-misses              #    0.383 % of all cache refs      (75.00%)\n",
      "CPU11                 212653      cache-misses              #    0.558 % of all cache refs      (75.00%)\n",
      "CPU12                 171768      cache-misses              #    0.444 % of all cache refs      (75.00%)\n",
      "CPU13                 147783      cache-misses              #    0.368 % of all cache refs      (75.00%)\n",
      "CPU14                 287582      cache-misses              #    0.025 % of all cache refs      (75.00%)\n",
      "CPU15                 154396      cache-misses              #    0.396 % of all cache refs      (75.00%)\n",
      "CPU16                 250915      cache-misses              #    0.609 % of all cache refs      (75.01%)\n",
      "CPU17                2366280      cache-misses              #    3.955 % of all cache refs      (75.00%)\n",
      "CPU18                 187932      cache-misses              #    0.472 % of all cache refs      (75.00%)\n",
      "CPU19                 110848      cache-misses              #    0.289 % of all cache refs      (75.00%)\n",
      "CPU20                 205077      cache-misses              #    0.527 % of all cache refs      (75.00%)\n",
      "CPU21                 231913      cache-misses              #    0.641 % of all cache refs      (75.00%)\n",
      "CPU22                 190114      cache-misses              #    0.475 % of all cache refs      (75.01%)\n",
      "CPU23                 272194      cache-misses              #    0.718 % of all cache refs      (75.01%)\n",
      "CPU24                 158367      cache-misses              #    0.417 % of all cache refs      (75.01%)\n",
      "CPU25                 177762      cache-misses              #    0.468 % of all cache refs      (75.01%)\n",
      "CPU26                 207861      cache-misses              #    0.555 % of all cache refs      (75.00%)\n",
      "CPU27                 374822      cache-misses              #    0.994 % of all cache refs      (75.01%)\n",
      "CPU28                 187484      cache-misses              #    0.465 % of all cache refs      (75.01%)\n",
      "CPU29                 147331      cache-misses              #    0.377 % of all cache refs      (75.00%)\n",
      "CPU30                 224202      cache-misses              #    0.614 % of all cache refs      (75.00%)\n",
      "CPU31                 195138      cache-misses              #    0.531 % of all cache refs      (75.00%)\n",
      "CPU32                 203956      cache-misses              #    0.478 % of all cache refs      (75.00%)\n",
      "CPU33                 164166      cache-misses              #    0.413 % of all cache refs      (75.00%)\n",
      "CPU34                 157339      cache-misses              #    0.399 % of all cache refs      (75.00%)\n",
      "CPU35                 145573      cache-misses              #    0.371 % of all cache refs      (75.00%)\n",
      "CPU36                 181072      cache-misses              #    0.456 % of all cache refs      (75.00%)\n",
      "CPU37                 153302      cache-misses              #    0.384 % of all cache refs      (75.00%)\n",
      "CPU38                 276354      cache-misses              #    0.695 % of all cache refs      (75.00%)\n",
      "CPU39                 157130      cache-misses              #    0.394 % of all cache refs      (75.00%)\n",
      "CPU40                 143716      cache-misses              #    0.359 % of all cache refs      (75.00%)\n",
      "CPU41                 133655      cache-misses              #    0.339 % of all cache refs      (75.01%)\n",
      "CPU42                 139870      cache-misses              #    0.341 % of all cache refs      (75.00%)\n",
      "CPU43                 388439      cache-misses              #    0.922 % of all cache refs      (75.00%)\n",
      "CPU44                 137460      cache-misses              #    0.340 % of all cache refs      (75.00%)\n",
      "CPU45                 454593      cache-misses              #    1.060 % of all cache refs      (75.00%)\n",
      "CPU46              434535688      cache-misses              #   28.974 % of all cache refs      (75.00%)\n",
      "CPU47                 301872      cache-misses              #    0.728 % of all cache refs      (75.00%)\n",
      "CPU48                 221762      cache-misses              #    0.543 % of all cache refs      (75.00%)\n",
      "CPU49                 178966      cache-misses              #    0.428 % of all cache refs      (75.00%)\n",
      "CPU50                 228575      cache-misses              #    0.580 % of all cache refs      (75.00%)\n",
      "CPU51                 152460      cache-misses              #    0.380 % of all cache refs      (75.00%)\n",
      "CPU52                 217432      cache-misses              #    0.540 % of all cache refs      (75.00%)\n",
      "CPU53                 184951      cache-misses              #    0.429 % of all cache refs      (75.00%)\n",
      "CPU54                 226057      cache-misses              #    0.580 % of all cache refs      (75.00%)\n",
      "CPU55                 144430      cache-misses              #    0.351 % of all cache refs      (75.00%)\n",
      "CPU56                 133387      cache-misses              #    0.319 % of all cache refs      (75.00%)\n",
      "CPU57                 168493      cache-misses              #    0.389 % of all cache refs      (74.99%)\n",
      "CPU58                 163933      cache-misses              #    0.391 % of all cache refs      (75.00%)\n",
      "CPU59                 123228      cache-misses              #    0.293 % of all cache refs      (75.00%)\n",
      "CPU60                 153319      cache-misses              #    0.384 % of all cache refs      (75.00%)\n",
      "CPU61                 178324      cache-misses              #    0.452 % of all cache refs      (75.00%)\n",
      "CPU62                 126835      cache-misses              #    0.298 % of all cache refs      (75.00%)\n",
      "CPU63                 641561      cache-misses              #    1.330 % of all cache refs      (74.99%)\n",
      "\n",
      "           101.172 +- 0.682 seconds time elapsed  ( +-  0.67% )\n",
      "\n"
     ]
    }
   ],
   "source": [
    "%%bash\n",
    "perf stat -S --all-cpus -A -e cycles,instructions,cache-references,cache-misses -r 7 python3 mult_matrix_vector.py"
   ]
  },
  {
   "cell_type": "markdown",
   "metadata": {},
   "source": [
    "### *gaxpy column oriented* caso vectorizando"
   ]
  },
  {
   "cell_type": "markdown",
   "metadata": {},
   "source": [
    "Vectorizando con *NumPy*:"
   ]
  },
  {
   "cell_type": "code",
   "execution_count": 106,
   "metadata": {},
   "outputs": [
    {
     "name": "stdout",
     "output_type": "stream",
     "text": [
      "Writing mult_matrix_vector_numpy.py\n"
     ]
    }
   ],
   "source": [
    "%%file mult_matrix_vector_numpy.py\n",
    "import numpy as np\n",
    "m=10**4\n",
    "n=10**4\n",
    "x = 2.5*np.ones(n)\n",
    "y = np.zeros(m)\n",
    "file='A.txt'\n",
    "A = np.loadtxt(file)\n",
    "for j in np.arange(n):\n",
    "    y+=A[:,j]*x[j]"
   ]
  },
  {
   "cell_type": "code",
   "execution_count": 107,
   "metadata": {},
   "outputs": [
    {
     "name": "stderr",
     "output_type": "stream",
     "text": [
      "\n",
      " Performance counter stats for 'python3 mult_matrix_vector_numpy.py' (7 runs):\n",
      "\n",
      "      256662320683      cycles                                                        ( +-  0.68% )  (74.96%)\n",
      "      588618832448      instructions              #    2.29  insn per cycle           ( +-  0.05% )  (74.99%)\n",
      "        2373542969      cache-references                                              ( +-  0.21% )  (75.03%)\n",
      "         358718803      cache-misses              #   15.113 % of all cache refs      ( +-  0.31% )  (75.02%)\n",
      "\n",
      "            91.933 +- 0.639 seconds time elapsed  ( +-  0.70% )\n",
      "\n"
     ]
    }
   ],
   "source": [
    "%%bash\n",
    "perf stat -S -e cycles,instructions,cache-references,cache-misses -r 7 python3 mult_matrix_vector_numpy.py"
   ]
  },
  {
   "cell_type": "markdown",
   "metadata": {},
   "source": [
    "Métricas por *core*:"
   ]
  },
  {
   "cell_type": "code",
   "execution_count": 108,
   "metadata": {
    "tags": [
     "output_scroll"
    ]
   },
   "outputs": [
    {
     "name": "stderr",
     "output_type": "stream",
     "text": [
      "\n",
      " Performance counter stats for 'system wide' (7 runs):\n",
      "\n",
      "CPU0              3517195213      cycles                                                        (75.00%)\n",
      "CPU1              3623926958      cycles                                                        (75.00%)\n",
      "CPU2              6529863873      cycles                                                        (75.00%)\n",
      "CPU3              3675939897      cycles                                                        (75.00%)\n",
      "CPU4              3634674054      cycles                                                        (75.00%)\n",
      "CPU5              3607564802      cycles                                                        (75.00%)\n",
      "CPU6              3640545147      cycles                                                        (75.00%)\n",
      "CPU7              3604545197      cycles                                                        (75.00%)\n",
      "CPU8              3665767111      cycles                                                        (75.00%)\n",
      "CPU9              3657014988      cycles                                                        (75.00%)\n",
      "CPU10             3792998221      cycles                                                        (75.00%)\n",
      "CPU11             3894955938      cycles                                                        (75.00%)\n",
      "CPU12             3672138651      cycles                                                        (75.00%)\n",
      "CPU13             3812504147      cycles                                                        (75.00%)\n",
      "CPU14            47333443176      cycles                                                        (75.00%)\n",
      "CPU15             3767811879      cycles                                                        (75.00%)\n",
      "CPU16             3325627701      cycles                                                        (75.00%)\n",
      "CPU17             3335783808      cycles                                                        (75.01%)\n",
      "CPU18             3526395250      cycles                                                        (75.01%)\n",
      "CPU19             3413679945      cycles                                                        (75.00%)\n",
      "CPU20             3354167970      cycles                                                        (75.00%)\n",
      "CPU21             3285206559      cycles                                                        (75.01%)\n",
      "CPU22             3380572366      cycles                                                        (75.01%)\n",
      "CPU23             3370744064      cycles                                                        (75.00%)\n",
      "CPU24             3634560699      cycles                                                        (75.00%)\n",
      "CPU25             3362388545      cycles                                                        (75.00%)\n",
      "CPU26             3443068647      cycles                                                        (75.01%)\n",
      "CPU27             3398428256      cycles                                                        (75.00%)\n",
      "CPU28             3465416935      cycles                                                        (75.00%)\n",
      "CPU29             3306559722      cycles                                                        (75.00%)\n",
      "CPU30             3374718995      cycles                                                        (75.01%)\n",
      "CPU31             3537211893      cycles                                                        (75.01%)\n",
      "CPU32             2845558974      cycles                                                        (75.00%)\n",
      "CPU33             2913986862      cycles                                                        (75.00%)\n",
      "CPU34             3103200184      cycles                                                        (75.00%)\n",
      "CPU35             3173608428      cycles                                                        (75.00%)\n",
      "CPU36             3126064217      cycles                                                        (75.00%)\n",
      "CPU37             3124516158      cycles                                                        (75.00%)\n",
      "CPU38             3120103229      cycles                                                        (75.00%)\n",
      "CPU39             3152713347      cycles                                                        (75.00%)\n",
      "CPU40             3207713992      cycles                                                        (75.00%)\n",
      "CPU41             3138577506      cycles                                                        (75.00%)\n",
      "CPU42             3290912134      cycles                                                        (75.00%)\n",
      "CPU43             3340187591      cycles                                                        (75.00%)\n",
      "CPU44             3228936680      cycles                                                        (75.01%)\n",
      "CPU45             3200148877      cycles                                                        (75.01%)\n",
      "CPU46           198449454810      cycles                                                        (75.00%)\n",
      "CPU47             3321709786      cycles                                                        (75.00%)\n",
      "CPU48             2742134343      cycles                                                        (75.00%)\n",
      "CPU49             2799153894      cycles                                                        (74.99%)\n",
      "CPU50             2776428943      cycles                                                        (75.00%)\n",
      "CPU51             2804223256      cycles                                                        (75.00%)\n",
      "CPU52             2846875357      cycles                                                        (75.00%)\n",
      "CPU53             2751613319      cycles                                                        (75.00%)\n",
      "CPU54             2776458747      cycles                                                        (75.00%)\n",
      "CPU55             2827812670      cycles                                                        (75.00%)\n",
      "CPU56             2812878329      cycles                                                        (75.00%)\n",
      "CPU57             2916688935      cycles                                                        (75.00%)\n",
      "CPU58             2900301076      cycles                                                        (74.99%)\n",
      "CPU59             2872209594      cycles                                                        (75.00%)\n",
      "CPU60             2842865098      cycles                                                        (75.00%)\n",
      "CPU61             2832834014      cycles                                                        (75.00%)\n",
      "CPU62             2837618701      cycles                                                        (75.00%)\n",
      "CPU63             2872924236      cycles                                                        (75.00%)\n",
      "CPU0               494519171      instructions              #    0.14  insn per cycle           (75.00%)\n",
      "CPU1               475593037      instructions              #    0.01  insn per cycle           (75.00%)\n",
      "CPU2              2948499702      instructions              #    0.45  insn per cycle           (75.00%)\n",
      "CPU3               437128240      instructions              #    0.12  insn per cycle           (75.00%)\n",
      "CPU4               438387362      instructions              #    0.12  insn per cycle           (75.01%)\n",
      "CPU5               447028324      instructions              #    0.12  insn per cycle           (75.00%)\n",
      "CPU6               461410750      instructions              #    0.13  insn per cycle           (75.00%)\n",
      "CPU7               438299236      instructions              #    0.12  insn per cycle           (75.00%)\n",
      "CPU8               447796085      instructions              #    0.12  insn per cycle           (75.01%)\n",
      "CPU9               457030874      instructions              #    0.13  insn per cycle           (75.00%)\n",
      "CPU10              466921964      instructions              #    0.12  insn per cycle           (75.00%)\n",
      "CPU11              475673539      instructions              #    0.13  insn per cycle           (75.00%)\n",
      "CPU12              457451572      instructions              #    0.12  insn per cycle           (75.01%)\n",
      "CPU13              464480032      instructions              #    0.13  insn per cycle           (75.01%)\n",
      "CPU14           109197632336      instructions              #    2.42  insn per cycle           (75.00%)\n",
      "CPU15              442198516      instructions              #    0.12  insn per cycle           (75.00%)\n",
      "CPU16              416834844      instructions              #    0.11  insn per cycle           (75.00%)\n",
      "CPU17              349384575      instructions              #    0.10  insn per cycle           (74.99%)\n",
      "CPU18              562098745      instructions              #    0.16  insn per cycle           (75.00%)\n",
      "CPU19              385030420      instructions              #    0.11  insn per cycle           (75.00%)\n",
      "CPU20              334163972      instructions              #    0.10  insn per cycle           (75.00%)\n",
      "CPU21              337837733      instructions              #    0.10  insn per cycle           (75.00%)\n",
      "CPU22              384720442      instructions              #    0.12  insn per cycle           (75.00%)\n",
      "CPU23              337678558      instructions              #    0.10  insn per cycle           (75.00%)\n",
      "CPU24              529071490      instructions              #    0.16  insn per cycle           (75.00%)\n",
      "CPU25              336515837      instructions              #    0.10  insn per cycle           (75.00%)\n",
      "CPU26              337399459      instructions              #    0.10  insn per cycle           (75.00%)\n",
      "CPU27              394343829      instructions              #    0.11  insn per cycle           (75.00%)\n",
      "CPU28              394718453      instructions              #    0.12  insn per cycle           (75.00%)\n",
      "CPU29              332404588      instructions              #    0.10  insn per cycle           (75.00%)\n",
      "CPU30              331606952      instructions              #    0.10  insn per cycle           (75.00%)\n",
      "CPU31              394669427      instructions              #    0.11  insn per cycle           (75.00%)\n",
      "CPU32              345107501      instructions              #    0.11  insn per cycle           (75.00%)\n",
      "CPU33              362860548      instructions              #    0.12  insn per cycle           (75.00%)\n",
      "CPU34              422582357      instructions              #    0.14  insn per cycle           (75.00%)\n",
      "CPU35              424116839      instructions              #    0.13  insn per cycle           (75.00%)\n",
      "CPU36              422388704      instructions              #    0.14  insn per cycle           (75.01%)\n",
      "CPU37              455131255      instructions              #    0.15  insn per cycle           (75.00%)\n",
      "CPU38              429104338      instructions              #    0.14  insn per cycle           (75.00%)\n",
      "CPU39              460589331      instructions              #    0.15  insn per cycle           (75.00%)\n",
      "CPU40              454967077      instructions              #    0.14  insn per cycle           (75.00%)\n",
      "CPU41              437833880      instructions              #    0.14  insn per cycle           (75.00%)\n",
      "CPU42              442130675      instructions              #    0.13  insn per cycle           (75.00%)\n",
      "CPU43              463322130      instructions              #    0.01  insn per cycle           (75.00%)\n",
      "CPU44              760920684      instructions              #    0.23  insn per cycle           (75.00%)\n",
      "CPU45              432242201      instructions              #    0.01  insn per cycle           (75.00%)\n",
      "CPU46           475788857658      instructions              #    7.29  insn per cycle           (75.00%)\n",
      "CPU47              442674555      instructions              #    0.01  insn per cycle           (75.00%)\n",
      "CPU48              322693804      instructions              #    0.12  insn per cycle           (75.00%)\n",
      "CPU49              324265531      instructions              #    0.12  insn per cycle           (75.01%)\n",
      "CPU50              325123626      instructions              #    0.12  insn per cycle           (75.00%)\n",
      "CPU51              327115872      instructions              #    0.12  insn per cycle           (75.00%)\n",
      "CPU52              326320085      instructions              #    0.11  insn per cycle           (75.00%)\n",
      "CPU53              324911937      instructions              #    0.12  insn per cycle           (75.00%)\n",
      "CPU54              323497597      instructions              #    0.12  insn per cycle           (75.00%)\n",
      "CPU55              324968302      instructions              #    0.11  insn per cycle           (75.00%)\n",
      "CPU56              327141261      instructions              #    0.11  insn per cycle           (75.00%)\n",
      "CPU57              398314369      instructions              #    0.14  insn per cycle           (75.00%)\n",
      "CPU58              317885933      instructions              #    0.11  insn per cycle           (75.01%)\n",
      "CPU59              326842604      instructions              #    0.11  insn per cycle           (75.00%)\n",
      "CPU60              329464173      instructions              #    0.11  insn per cycle           (75.00%)\n",
      "CPU61              321314777      instructions              #    0.11  insn per cycle           (75.01%)\n",
      "CPU62              321137688      instructions              #    0.11  insn per cycle           (75.00%)\n",
      "CPU63              323865237      instructions              #    0.11  insn per cycle           (75.00%)\n",
      "CPU0                33496481      cache-references                                              (75.01%)\n",
      "CPU1                34867530      cache-references                                              (75.01%)\n",
      "CPU2                57395524      cache-references                                              (75.01%)\n",
      "CPU3                35493784      cache-references                                              (75.01%)\n",
      "CPU4                35604124      cache-references                                              (75.01%)\n",
      "CPU5                35730054      cache-references                                              (75.00%)\n",
      "CPU6                34995925      cache-references                                              (75.01%)\n",
      "CPU7                35341269      cache-references                                              (75.01%)\n",
      "CPU8                35210575      cache-references                                              (75.00%)\n",
      "CPU9                35623353      cache-references                                              (75.01%)\n",
      "CPU10               34402609      cache-references                                              (75.01%)\n",
      "CPU11               36754787      cache-references                                              (75.01%)\n",
      "CPU12               34983632      cache-references                                              (75.01%)\n",
      "CPU13               35592027      cache-references                                              (75.01%)\n",
      "CPU14              409247218      cache-references                                              (75.01%)\n",
      "CPU15               35481962      cache-references                                              (75.01%)\n",
      "CPU16               38181259      cache-references                                              (75.00%)\n",
      "CPU17               35017755      cache-references                                              (75.01%)\n",
      "CPU18               44171003      cache-references                                              (75.01%)\n",
      "CPU19               35925254      cache-references                                              (75.01%)\n",
      "CPU20               36366249      cache-references                                              (75.01%)\n",
      "CPU21               33490683      cache-references                                              (75.00%)\n",
      "CPU22               37292890      cache-references                                              (75.01%)\n",
      "CPU23               35235486      cache-references                                              (75.00%)\n",
      "CPU24               35093857      cache-references                                              (75.00%)\n",
      "CPU25               34584125      cache-references                                              (75.00%)\n",
      "CPU26               34303166      cache-references                                              (75.01%)\n",
      "CPU27               34982706      cache-references                                              (75.00%)\n",
      "CPU28               36641367      cache-references                                              (75.00%)\n",
      "CPU29               35637538      cache-references                                              (75.01%)\n",
      "CPU30               33787625      cache-references                                              (75.00%)\n",
      "CPU31               33724483      cache-references                                              (75.00%)\n",
      "CPU32               39998531      cache-references                                              (75.01%)\n",
      "CPU33               36661416      cache-references                                              (75.00%)\n",
      "CPU34               37034650      cache-references                                              (75.01%)\n",
      "CPU35               36521473      cache-references                                              (75.00%)\n",
      "CPU36               37056330      cache-references                                              (75.00%)\n",
      "CPU37               36703527      cache-references                                              (75.00%)\n",
      "CPU38               36985809      cache-references                                              (75.00%)\n",
      "CPU39               36316618      cache-references                                              (75.00%)\n",
      "CPU40               37244297      cache-references                                              (75.00%)\n",
      "CPU41               36680192      cache-references                                              (75.00%)\n",
      "CPU42               38012858      cache-references                                              (75.00%)\n",
      "CPU43               39846999      cache-references                                              (75.00%)\n",
      "CPU44               38483871      cache-references                                              (75.00%)\n",
      "CPU45               40729683      cache-references                                              (75.00%)\n",
      "CPU46             1964850919      cache-references                                              (75.00%)\n",
      "CPU47               38225581      cache-references                                              (75.00%)\n",
      "CPU48               36525802      cache-references                                              (75.01%)\n",
      "CPU49               37559834      cache-references                                              (75.00%)\n",
      "CPU50               36218110      cache-references                                              (75.00%)\n",
      "CPU51               36675718      cache-references                                              (75.01%)\n",
      "CPU52               36431174      cache-references                                              (75.00%)\n",
      "CPU53               39438663      cache-references                                              (75.00%)\n",
      "CPU54               35489816      cache-references                                              (75.00%)\n",
      "CPU55               38222957      cache-references                                              (75.00%)\n",
      "CPU56               37786993      cache-references                                              (75.01%)\n",
      "CPU57               39952525      cache-references                                              (75.00%)\n",
      "CPU58               38374032      cache-references                                              (75.00%)\n",
      "CPU59               37979323      cache-references                                              (75.00%)\n",
      "CPU60               36368025      cache-references                                              (75.00%)\n",
      "CPU61               36104994      cache-references                                              (75.00%)\n",
      "CPU62               38487998      cache-references                                              (75.00%)\n",
      "CPU63               38896112      cache-references                                              (75.00%)\n",
      "CPU0                  421813      cache-misses              #    1.258 % of all cache refs      (75.00%)\n",
      "CPU1                  159483      cache-misses              #    0.044 % of all cache refs      (75.00%)\n",
      "CPU2                 7579908      cache-misses              #   13.304 % of all cache refs      (75.00%)\n",
      "CPU3                  162707      cache-misses              #    0.458 % of all cache refs      (75.00%)\n",
      "CPU4                  233458      cache-misses              #    0.653 % of all cache refs      (75.00%)\n",
      "CPU5                  194163      cache-misses              #    0.543 % of all cache refs      (75.00%)\n",
      "CPU6                  138233      cache-misses              #    0.395 % of all cache refs      (75.00%)\n",
      "CPU7                  131415      cache-misses              #    0.371 % of all cache refs      (75.00%)\n",
      "CPU8                  141246      cache-misses              #    0.403 % of all cache refs      (75.00%)\n",
      "CPU9                  173406      cache-misses              #    0.487 % of all cache refs      (75.00%)\n",
      "CPU10                 144140      cache-misses              #    0.419 % of all cache refs      (75.00%)\n",
      "CPU11                 199135      cache-misses              #    0.569 % of all cache refs      (75.00%)\n",
      "CPU12                 137083      cache-misses              #    0.392 % of all cache refs      (74.99%)\n",
      "CPU13                 420910      cache-misses              #    1.246 % of all cache refs      (75.00%)\n",
      "CPU14               29087697      cache-misses              #    6.768 % of all cache refs      (75.00%)\n",
      "CPU15                 170202      cache-misses              #    0.502 % of all cache refs      (75.00%)\n",
      "CPU16                 341561      cache-misses              #    0.856 % of all cache refs      (75.00%)\n",
      "CPU17                 195600      cache-misses              #    0.522 % of all cache refs      (75.00%)\n",
      "CPU18                 550042      cache-misses              #    1.283 % of all cache refs      (75.00%)\n",
      "CPU19                 122262      cache-misses              #    0.340 % of all cache refs      (75.00%)\n",
      "CPU20                 182517      cache-misses              #    0.506 % of all cache refs      (75.00%)\n",
      "CPU21                 205468      cache-misses              #    0.613 % of all cache refs      (75.00%)\n",
      "CPU22                 254777      cache-misses              #    0.685 % of all cache refs      (75.00%)\n",
      "CPU23                 170650      cache-misses              #    0.490 % of all cache refs      (75.00%)\n",
      "CPU24                 308322      cache-misses              #    0.894 % of all cache refs      (75.00%)\n",
      "CPU25                 159613      cache-misses              #    0.461 % of all cache refs      (75.00%)\n",
      "CPU26                 175740      cache-misses              #    0.514 % of all cache refs      (75.00%)\n",
      "CPU27                 257365      cache-misses              #    0.746 % of all cache refs      (75.00%)\n",
      "CPU28                 153337      cache-misses              #    0.418 % of all cache refs      (75.00%)\n",
      "CPU29                 133962      cache-misses              #    0.375 % of all cache refs      (75.00%)\n",
      "CPU30                 200740      cache-misses              #    0.588 % of all cache refs      (75.00%)\n",
      "CPU31                 275250      cache-misses              #    0.826 % of all cache refs      (75.00%)\n",
      "CPU32                 189976      cache-misses              #    0.475 % of all cache refs      (75.00%)\n",
      "CPU33                 162803      cache-misses              #    0.467 % of all cache refs      (75.00%)\n",
      "CPU34                 151516      cache-misses              #    0.409 % of all cache refs      (75.00%)\n",
      "CPU35                 144520      cache-misses              #    0.396 % of all cache refs      (75.00%)\n",
      "CPU36                 137243      cache-misses              #    0.372 % of all cache refs      (75.00%)\n",
      "CPU37                 156515      cache-misses              #    0.425 % of all cache refs      (75.00%)\n",
      "CPU38                 271326      cache-misses              #    0.733 % of all cache refs      (75.01%)\n",
      "CPU39                 146510      cache-misses              #    0.403 % of all cache refs      (75.00%)\n",
      "CPU40                 157666      cache-misses              #    0.425 % of all cache refs      (75.01%)\n",
      "CPU41                 149153      cache-misses              #    0.407 % of all cache refs      (75.00%)\n",
      "CPU42                 134888      cache-misses              #    0.355 % of all cache refs      (75.00%)\n",
      "CPU43                 133304      cache-misses              #    0.036 % of all cache refs      (75.00%)\n",
      "CPU44                 240746      cache-misses              #    0.641 % of all cache refs      (75.00%)\n",
      "CPU45                 151897      cache-misses              #    0.041 % of all cache refs      (75.00%)\n",
      "CPU46              334548763      cache-misses              #   52.065 % of all cache refs      (75.00%)\n",
      "CPU47                 299511      cache-misses              #    0.084 % of all cache refs      (75.00%)\n",
      "CPU48                 208783      cache-misses              #    0.567 % of all cache refs      (75.00%)\n",
      "CPU49                 158208      cache-misses              #    0.418 % of all cache refs      (75.01%)\n",
      "CPU50                 209476      cache-misses              #    0.580 % of all cache refs      (75.01%)\n",
      "CPU51                 135472      cache-misses              #    0.370 % of all cache refs      (75.00%)\n",
      "CPU52                 202389      cache-misses              #    0.548 % of all cache refs      (75.00%)\n",
      "CPU53                 163562      cache-misses              #    0.417 % of all cache refs      (75.01%)\n",
      "CPU54                 199829      cache-misses              #    0.564 % of all cache refs      (75.01%)\n",
      "CPU55                 127469      cache-misses              #    0.337 % of all cache refs      (75.00%)\n",
      "CPU56                 116119      cache-misses              #    0.306 % of all cache refs      (75.00%)\n",
      "CPU57                 243988      cache-misses              #    0.617 % of all cache refs      (75.00%)\n",
      "CPU58                 148036      cache-misses              #    0.383 % of all cache refs      (75.01%)\n",
      "CPU59                  99436      cache-misses              #    0.259 % of all cache refs      (75.00%)\n",
      "CPU60                 156985      cache-misses              #    0.425 % of all cache refs      (75.00%)\n",
      "CPU61                 162999      cache-misses              #    0.447 % of all cache refs      (75.00%)\n",
      "CPU62                 112140      cache-misses              #    0.286 % of all cache refs      (75.01%)\n",
      "CPU63                  99224      cache-misses              #    0.255 % of all cache refs      (75.01%)\n",
      "\n",
      "            92.742 +- 0.100 seconds time elapsed  ( +-  0.11% )\n",
      "\n"
     ]
    }
   ],
   "source": [
    "%%bash\n",
    "perf stat -S --all-cpus -A -e cycles,instructions,cache-references,cache-misses -r 7 python3 mult_matrix_vector_numpy.py"
   ]
  },
  {
   "cell_type": "markdown",
   "metadata": {},
   "source": [
    "### *gaxpy row oriented* caso vectorizando"
   ]
  },
  {
   "cell_type": "code",
   "execution_count": 109,
   "metadata": {},
   "outputs": [
    {
     "name": "stdout",
     "output_type": "stream",
     "text": [
      "Writing mult_matrix_vector_numpy_row_oriented.py\n"
     ]
    }
   ],
   "source": [
    "%%file mult_matrix_vector_numpy_row_oriented.py\n",
    "import numpy as np\n",
    "m=10**4\n",
    "n=10**4\n",
    "x = 2.5*np.ones(n)\n",
    "y = np.zeros(m)\n",
    "file='A.txt'\n",
    "A = np.loadtxt(file)\n",
    "for i in np.arange(m):\n",
    "    y[i]+=A[i,:].dot(x)"
   ]
  },
  {
   "cell_type": "code",
   "execution_count": 110,
   "metadata": {},
   "outputs": [
    {
     "name": "stderr",
     "output_type": "stream",
     "text": [
      "\n",
      " Performance counter stats for 'python3 mult_matrix_vector_numpy_row_oriented.py' (7 runs):\n",
      "\n",
      "      253356256063      cycles                                                        ( +-  0.22% )  (74.94%)\n",
      "      587323124427      instructions              #    2.32  insn per cycle           ( +-  0.02% )  (75.01%)\n",
      "        2245627265      cache-references                                              ( +-  0.19% )  (75.04%)\n",
      "         358281499      cache-misses              #   15.955 % of all cache refs      ( +-  0.47% )  (75.02%)\n",
      "\n",
      "            90.230 +- 0.251 seconds time elapsed  ( +-  0.28% )\n",
      "\n"
     ]
    }
   ],
   "source": [
    "%%bash\n",
    "perf stat -S -e cycles,instructions,cache-references,cache-misses -r 7 python3 mult_matrix_vector_numpy_row_oriented.py"
   ]
  },
  {
   "cell_type": "code",
   "execution_count": 111,
   "metadata": {
    "tags": [
     "output_scroll"
    ]
   },
   "outputs": [
    {
     "name": "stderr",
     "output_type": "stream",
     "text": [
      "\n",
      " Performance counter stats for 'system wide' (7 runs):\n",
      "\n",
      "CPU0              3494857184      cycles                                                        (75.00%)\n",
      "CPU1              3620694160      cycles                                                        (75.00%)\n",
      "CPU2              3485877647      cycles                                                        (75.00%)\n",
      "CPU3              3666323043      cycles                                                        (75.00%)\n",
      "CPU4              3602130097      cycles                                                        (75.00%)\n",
      "CPU5              3594166927      cycles                                                        (75.00%)\n",
      "CPU6              3595914756      cycles                                                        (75.00%)\n",
      "CPU7              3601064499      cycles                                                        (75.00%)\n",
      "CPU8              3663235633      cycles                                                        (75.00%)\n",
      "CPU9              3632169031      cycles                                                        (75.00%)\n",
      "CPU10             3750517159      cycles                                                        (75.00%)\n",
      "CPU11             3814147891      cycles                                                        (75.00%)\n",
      "CPU12             3640444701      cycles                                                        (75.00%)\n",
      "CPU13             3775805249      cycles                                                        (75.00%)\n",
      "CPU14           242076850354      cycles                                                        (75.00%)\n",
      "CPU15             3764217818      cycles                                                        (75.00%)\n",
      "CPU16             3266906856      cycles                                                        (75.00%)\n",
      "CPU17             3287997926      cycles                                                        (75.00%)\n",
      "CPU18             3244542685      cycles                                                        (75.00%)\n",
      "CPU19             3267758206      cycles                                                        (75.00%)\n",
      "CPU20             3340510707      cycles                                                        (75.00%)\n",
      "CPU21             3253795568      cycles                                                        (75.00%)\n",
      "CPU22             3244317944      cycles                                                        (75.00%)\n",
      "CPU23             3311459515      cycles                                                        (75.00%)\n",
      "CPU24             3281685045      cycles                                                        (75.00%)\n",
      "CPU25             3292773372      cycles                                                        (75.00%)\n",
      "CPU26             3401684621      cycles                                                        (75.00%)\n",
      "CPU27             3395757091      cycles                                                        (75.00%)\n",
      "CPU28             3341819564      cycles                                                        (75.00%)\n",
      "CPU29             3286882441      cycles                                                        (75.00%)\n",
      "CPU30             3353942513      cycles                                                        (75.00%)\n",
      "CPU31             3364970198      cycles                                                        (75.00%)\n",
      "CPU32             3080390229      cycles                                                        (75.00%)\n",
      "CPU33             3101708874      cycles                                                        (75.00%)\n",
      "CPU34             3110485779      cycles                                                        (75.00%)\n",
      "CPU35             3156041462      cycles                                                        (75.00%)\n",
      "CPU36             3107444632      cycles                                                        (75.00%)\n",
      "CPU37             3092574838      cycles                                                        (75.00%)\n",
      "CPU38             3096398674      cycles                                                        (75.00%)\n",
      "CPU39             3122573234      cycles                                                        (75.00%)\n",
      "CPU40             3172723131      cycles                                                        (75.00%)\n",
      "CPU41             3110412407      cycles                                                        (75.00%)\n",
      "CPU42             3275570587      cycles                                                        (75.00%)\n",
      "CPU43             3299188639      cycles                                                        (75.00%)\n",
      "CPU44             3207397024      cycles                                                        (75.00%)\n",
      "CPU45             3170762383      cycles                                                        (75.00%)\n",
      "CPU46             2030985493      cycles                                                        (75.00%)\n",
      "CPU47             3301029033      cycles                                                        (75.00%)\n",
      "CPU48             2713771599      cycles                                                        (75.00%)\n",
      "CPU49             2785912580      cycles                                                        (75.01%)\n",
      "CPU50             2765229850      cycles                                                        (75.00%)\n",
      "CPU51             2780409507      cycles                                                        (75.00%)\n",
      "CPU52             2839636026      cycles                                                        (75.00%)\n",
      "CPU53             2737248837      cycles                                                        (75.01%)\n",
      "CPU54             2764414467      cycles                                                        (75.01%)\n",
      "CPU55             2791120930      cycles                                                        (75.00%)\n",
      "CPU56             2785472925      cycles                                                        (75.00%)\n",
      "CPU57             2819983322      cycles                                                        (75.00%)\n",
      "CPU58             2897505420      cycles                                                        (75.01%)\n",
      "CPU59             2854951459      cycles                                                        (75.00%)\n",
      "CPU60             3061282017      cycles                                                        (75.00%)\n",
      "CPU61             2815780674      cycles                                                        (75.00%)\n",
      "CPU62             2821938067      cycles                                                        (75.01%)\n",
      "CPU63             5374047485      cycles                                                        (75.00%)\n",
      "CPU0               451773263      instructions              #    0.13  insn per cycle           (75.00%)\n",
      "CPU1               437014217      instructions              #    0.12  insn per cycle           (75.00%)\n",
      "CPU2               405784729      instructions              #    0.11  insn per cycle           (75.00%)\n",
      "CPU3               467000991      instructions              #    0.13  insn per cycle           (75.00%)\n",
      "CPU4               432870521      instructions              #    0.12  insn per cycle           (75.00%)\n",
      "CPU5               431513129      instructions              #    0.01  insn per cycle           (75.00%)\n",
      "CPU6               435057900      instructions              #    0.12  insn per cycle           (75.00%)\n",
      "CPU7               446917664      instructions              #    0.12  insn per cycle           (75.00%)\n",
      "CPU8               458734247      instructions              #    0.13  insn per cycle           (75.00%)\n",
      "CPU9               462439046      instructions              #    0.13  insn per cycle           (75.00%)\n",
      "CPU10              457210184      instructions              #    0.12  insn per cycle           (75.00%)\n",
      "CPU11              474689061      instructions              #    0.12  insn per cycle           (75.00%)\n",
      "CPU12              469360831      instructions              #    0.13  insn per cycle           (75.00%)\n",
      "CPU13              484768066      instructions              #    0.13  insn per cycle           (75.00%)\n",
      "CPU14           583431778398      instructions              #    7.03  insn per cycle           (75.00%)\n",
      "CPU15              450462278      instructions              #    0.12  insn per cycle           (75.00%)\n",
      "CPU16              366907169      instructions              #    0.11  insn per cycle           (75.00%)\n",
      "CPU17              332024363      instructions              #    0.10  insn per cycle           (75.00%)\n",
      "CPU18              331417191      instructions              #    0.10  insn per cycle           (75.00%)\n",
      "CPU19              331224161      instructions              #    0.10  insn per cycle           (75.00%)\n",
      "CPU20              333349428      instructions              #    0.01  insn per cycle           (75.00%)\n",
      "CPU21              333920121      instructions              #    0.10  insn per cycle           (75.00%)\n",
      "CPU22              332253846      instructions              #    0.10  insn per cycle           (75.00%)\n",
      "CPU23              332965092      instructions              #    0.10  insn per cycle           (75.00%)\n",
      "CPU24              333945275      instructions              #    0.10  insn per cycle           (75.00%)\n",
      "CPU25              331319053      instructions              #    0.10  insn per cycle           (75.00%)\n",
      "CPU26              333705199      instructions              #    0.10  insn per cycle           (75.00%)\n",
      "CPU27              397049464      instructions              #    0.11  insn per cycle           (75.00%)\n",
      "CPU28              392708122      instructions              #    0.12  insn per cycle           (75.00%)\n",
      "CPU29              330331061      instructions              #    0.10  insn per cycle           (75.00%)\n",
      "CPU30              330197061      instructions              #    0.10  insn per cycle           (75.01%)\n",
      "CPU31              325013349      instructions              #    0.09  insn per cycle           (75.00%)\n",
      "CPU32              437150779      instructions              #    0.14  insn per cycle           (75.00%)\n",
      "CPU33              427344740      instructions              #    0.14  insn per cycle           (75.00%)\n",
      "CPU34              457542736      instructions              #    0.15  insn per cycle           (75.00%)\n",
      "CPU35              457345933      instructions              #    0.14  insn per cycle           (75.00%)\n",
      "CPU36              422261693      instructions              #    0.14  insn per cycle           (75.00%)\n",
      "CPU37              425092580      instructions              #    0.14  insn per cycle           (75.00%)\n",
      "CPU38              417656386      instructions              #    0.13  insn per cycle           (75.00%)\n",
      "CPU39              449234578      instructions              #    0.14  insn per cycle           (75.00%)\n",
      "CPU40              436420462      instructions              #    0.14  insn per cycle           (75.01%)\n",
      "CPU41              433395004      instructions              #    0.14  insn per cycle           (75.01%)\n",
      "CPU42              454737025      instructions              #    0.14  insn per cycle           (75.01%)\n",
      "CPU43              459830550      instructions              #    0.14  insn per cycle           (75.01%)\n",
      "CPU44              785128000      instructions              #    0.24  insn per cycle           (75.01%)\n",
      "CPU45              442574188      instructions              #    0.14  insn per cycle           (75.01%)\n",
      "CPU46              449347628      instructions              #    0.00  insn per cycle           (75.00%)\n",
      "CPU47              457564585      instructions              #    0.14  insn per cycle           (75.00%)\n",
      "CPU48              320233535      instructions              #    0.11  insn per cycle           (75.00%)\n",
      "CPU49              322107561      instructions              #    0.11  insn per cycle           (75.00%)\n",
      "CPU50              323909249      instructions              #    0.12  insn per cycle           (75.00%)\n",
      "CPU51              323664794      instructions              #    0.12  insn per cycle           (75.01%)\n",
      "CPU52              325419459      instructions              #    0.12  insn per cycle           (75.00%)\n",
      "CPU53              321661520      instructions              #    0.12  insn per cycle           (75.00%)\n",
      "CPU54              324253383      instructions              #    0.12  insn per cycle           (75.00%)\n",
      "CPU55              320988204      instructions              #    0.11  insn per cycle           (75.00%)\n",
      "CPU56              322067392      instructions              #    0.11  insn per cycle           (75.01%)\n",
      "CPU57              335872006      instructions              #    0.12  insn per cycle           (75.00%)\n",
      "CPU58              322189889      instructions              #    0.11  insn per cycle           (75.00%)\n",
      "CPU59              322246409      instructions              #    0.11  insn per cycle           (75.00%)\n",
      "CPU60              542525431      instructions              #    0.17  insn per cycle           (75.00%)\n",
      "CPU61              320303149      instructions              #    0.11  insn per cycle           (75.00%)\n",
      "CPU62              320140373      instructions              #    0.11  insn per cycle           (75.00%)\n",
      "CPU63             2784105605      instructions              #    0.51  insn per cycle           (75.01%)\n",
      "CPU0                33342003      cache-references                                              (75.01%)\n",
      "CPU1                34987740      cache-references                                              (75.01%)\n",
      "CPU2                34927602      cache-references                                              (75.00%)\n",
      "CPU3                35836231      cache-references                                              (75.01%)\n",
      "CPU4                35302714      cache-references                                              (75.01%)\n",
      "CPU5                35167369      cache-references                                              (75.01%)\n",
      "CPU6                34992217      cache-references                                              (75.01%)\n",
      "CPU7                35017772      cache-references                                              (75.00%)\n",
      "CPU8                35059534      cache-references                                              (75.01%)\n",
      "CPU9                35246276      cache-references                                              (75.00%)\n",
      "CPU10               34050434      cache-references                                              (75.01%)\n",
      "CPU11               34971719      cache-references                                              (75.01%)\n",
      "CPU12               34670726      cache-references                                              (75.01%)\n",
      "CPU13               35263597      cache-references                                              (75.01%)\n",
      "CPU14             2230514187      cache-references                                              (75.00%)\n",
      "CPU15               35835733      cache-references                                              (75.00%)\n",
      "CPU16               37760346      cache-references                                              (75.00%)\n",
      "CPU17               33914350      cache-references                                              (75.00%)\n",
      "CPU18               36339553      cache-references                                              (75.00%)\n",
      "CPU19               34811054      cache-references                                              (75.01%)\n",
      "CPU20               35724397      cache-references                                              (75.00%)\n",
      "CPU21               33171762      cache-references                                              (75.00%)\n",
      "CPU22               36528643      cache-references                                              (75.00%)\n",
      "CPU23               34768502      cache-references                                              (75.00%)\n",
      "CPU24               33825730      cache-references                                              (75.01%)\n",
      "CPU25               33937701      cache-references                                              (75.00%)\n",
      "CPU26               33541658      cache-references                                              (75.00%)\n",
      "CPU27               35388226      cache-references                                              (75.00%)\n",
      "CPU28               36393814      cache-references                                              (75.00%)\n",
      "CPU29               35498817      cache-references                                              (75.00%)\n",
      "CPU30               33517699      cache-references                                              (75.00%)\n",
      "CPU31               33330245      cache-references                                              (75.01%)\n",
      "CPU32               39571402      cache-references                                              (75.01%)\n",
      "CPU33               36823946      cache-references                                              (75.01%)\n",
      "CPU34               36965132      cache-references                                              (75.00%)\n",
      "CPU35               35972123      cache-references                                              (75.01%)\n",
      "CPU36               36430106      cache-references                                              (75.01%)\n",
      "CPU37               36554787      cache-references                                              (75.01%)\n",
      "CPU38               37046972      cache-references                                              (75.01%)\n",
      "CPU39               36459907      cache-references                                              (75.00%)\n",
      "CPU40               37119084      cache-references                                              (75.01%)\n",
      "CPU41               36377421      cache-references                                              (75.01%)\n",
      "CPU42               37658093      cache-references                                              (75.01%)\n",
      "CPU43               37970251      cache-references                                              (75.01%)\n",
      "CPU44               38184771      cache-references                                              (75.00%)\n",
      "CPU45               40084266      cache-references                                              (75.00%)\n",
      "CPU46               21794431      cache-references                                              (75.01%)\n",
      "CPU47               37314887      cache-references                                              (75.01%)\n",
      "CPU48               36066529      cache-references                                              (75.01%)\n",
      "CPU49               37439846      cache-references                                              (75.01%)\n",
      "CPU50               35520703      cache-references                                              (75.01%)\n",
      "CPU51               36399473      cache-references                                              (75.00%)\n",
      "CPU52               36600925      cache-references                                              (75.01%)\n",
      "CPU53               39004518      cache-references                                              (75.01%)\n",
      "CPU54               35200225      cache-references                                              (75.00%)\n",
      "CPU55               37443134      cache-references                                              (75.00%)\n",
      "CPU56               37414165      cache-references                                              (75.00%)\n",
      "CPU57               38592304      cache-references                                              (75.01%)\n",
      "CPU58               38225391      cache-references                                              (75.01%)\n",
      "CPU59               38037483      cache-references                                              (75.00%)\n",
      "CPU60               42007492      cache-references                                              (75.00%)\n",
      "CPU61               35796973      cache-references                                              (75.00%)\n",
      "CPU62               38169956      cache-references                                              (75.01%)\n",
      "CPU63               59477222      cache-references                                              (75.01%)\n",
      "CPU0                  396587      cache-misses              #    1.186 % of all cache refs      (75.00%)\n",
      "CPU1                  150655      cache-misses              #    0.433 % of all cache refs      (75.00%)\n",
      "CPU2                  147244      cache-misses              #    0.414 % of all cache refs      (75.01%)\n",
      "CPU3                  148657      cache-misses              #    0.419 % of all cache refs      (75.00%)\n",
      "CPU4                  221058      cache-misses              #    0.625 % of all cache refs      (75.00%)\n",
      "CPU5                  144178      cache-misses              #    0.041 % of all cache refs      (75.00%)\n",
      "CPU6                  198430      cache-misses              #    0.569 % of all cache refs      (75.00%)\n",
      "CPU7                  183303      cache-misses              #    0.521 % of all cache refs      (75.00%)\n",
      "CPU8                  133161      cache-misses              #    0.381 % of all cache refs      (75.00%)\n",
      "CPU9                  144236      cache-misses              #    0.408 % of all cache refs      (75.00%)\n",
      "CPU10                 128727      cache-misses              #    0.376 % of all cache refs      (75.00%)\n",
      "CPU11                 174243      cache-misses              #    0.496 % of all cache refs      (75.00%)\n",
      "CPU12                 136013      cache-misses              #    0.392 % of all cache refs      (75.00%)\n",
      "CPU13                 410218      cache-misses              #    1.159 % of all cache refs      (75.00%)\n",
      "CPU14              360475694      cache-misses              #   47.394 % of all cache refs      (75.00%)\n",
      "CPU15                 147391      cache-misses              #    0.409 % of all cache refs      (75.00%)\n",
      "CPU16                 255230      cache-misses              #    0.677 % of all cache refs      (75.01%)\n",
      "CPU17                 169236      cache-misses              #    0.488 % of all cache refs      (75.00%)\n",
      "CPU18                 152660      cache-misses              #    0.416 % of all cache refs      (75.01%)\n",
      "CPU19                 106997      cache-misses              #    0.303 % of all cache refs      (75.00%)\n",
      "CPU20                 191823      cache-misses              #    0.056 % of all cache refs      (75.00%)\n",
      "CPU21                 201352      cache-misses              #    0.597 % of all cache refs      (75.01%)\n",
      "CPU22                 163310      cache-misses              #    0.443 % of all cache refs      (75.00%)\n",
      "CPU23                 159563      cache-misses              #    0.456 % of all cache refs      (75.00%)\n",
      "CPU24                 130399      cache-misses              #    0.381 % of all cache refs      (75.00%)\n",
      "CPU25                 146628      cache-misses              #    0.432 % of all cache refs      (75.00%)\n",
      "CPU26                 169160      cache-misses              #    0.497 % of all cache refs      (75.01%)\n",
      "CPU27                 293255      cache-misses              #    0.832 % of all cache refs      (75.00%)\n",
      "CPU28                 204980      cache-misses              #    0.561 % of all cache refs      (75.00%)\n",
      "CPU29                 131067      cache-misses              #    0.366 % of all cache refs      (75.00%)\n",
      "CPU30                 189661      cache-misses              #    0.557 % of all cache refs      (75.01%)\n",
      "CPU31                 177940      cache-misses              #    0.530 % of all cache refs      (75.00%)\n",
      "CPU32                 184113      cache-misses              #    0.466 % of all cache refs      (75.00%)\n",
      "CPU33                 145113      cache-misses              #    0.395 % of all cache refs      (75.01%)\n",
      "CPU34                 147789      cache-misses              #    0.392 % of all cache refs      (75.01%)\n",
      "CPU35                 144028      cache-misses              #    0.397 % of all cache refs      (75.00%)\n",
      "CPU36                 134109      cache-misses              #    0.367 % of all cache refs      (75.00%)\n",
      "CPU37                 144289      cache-misses              #    0.415 % of all cache refs      (75.00%)\n",
      "CPU38                 276927      cache-misses              #    0.751 % of all cache refs      (75.00%)\n",
      "CPU39                 166758      cache-misses              #    0.457 % of all cache refs      (75.00%)\n",
      "CPU40                 137992      cache-misses              #    0.374 % of all cache refs      (75.00%)\n",
      "CPU41                 119735      cache-misses              #    0.329 % of all cache refs      (75.00%)\n",
      "CPU42                 122402      cache-misses              #    0.323 % of all cache refs      (75.00%)\n",
      "CPU43                 122606      cache-misses              #    0.322 % of all cache refs      (75.00%)\n",
      "CPU44                 255042      cache-misses              #    0.667 % of all cache refs      (75.00%)\n",
      "CPU45                 140746      cache-misses              #    0.348 % of all cache refs      (75.00%)\n",
      "CPU46                 182716      cache-misses              #    0.021 % of all cache refs      (75.00%)\n",
      "CPU47                 288893      cache-misses              #    0.768 % of all cache refs      (75.00%)\n",
      "CPU48                 206943      cache-misses              #    0.572 % of all cache refs      (75.00%)\n",
      "CPU49                 162332      cache-misses              #    0.431 % of all cache refs      (75.00%)\n",
      "CPU50                 193621      cache-misses              #    0.545 % of all cache refs      (75.00%)\n",
      "CPU51                 137757      cache-misses              #    0.377 % of all cache refs      (75.00%)\n",
      "CPU52                 186804      cache-misses              #    0.537 % of all cache refs      (75.00%)\n",
      "CPU53                 157909      cache-misses              #    0.404 % of all cache refs      (75.00%)\n",
      "CPU54                 187520      cache-misses              #    0.530 % of all cache refs      (75.00%)\n",
      "CPU55                 120372      cache-misses              #    0.320 % of all cache refs      (75.00%)\n",
      "CPU56                 110897      cache-misses              #    0.294 % of all cache refs      (75.00%)\n",
      "CPU57                 127320      cache-misses              #    0.327 % of all cache refs      (75.00%)\n",
      "CPU58                 145744      cache-misses              #    0.379 % of all cache refs      (75.00%)\n",
      "CPU59                  95868      cache-misses              #    0.253 % of all cache refs      (75.00%)\n",
      "CPU60                 579340      cache-misses              #    1.313 % of all cache refs      (75.00%)\n",
      "CPU61                 157098      cache-misses              #    0.435 % of all cache refs      (75.00%)\n",
      "CPU62                 101113      cache-misses              #    0.263 % of all cache refs      (75.00%)\n",
      "CPU63                1460917      cache-misses              #    2.413 % of all cache refs      (75.00%)\n",
      "\n",
      "            92.126 +- 0.138 seconds time elapsed  ( +-  0.15% )\n",
      "\n"
     ]
    }
   ],
   "source": [
    "%%bash\n",
    "perf stat -S --all-cpus -A -e cycles,instructions,cache-references,cache-misses -r 7 python3 mult_matrix_vector_numpy_row_oriented.py"
   ]
  },
  {
   "cell_type": "markdown",
   "metadata": {},
   "source": [
    "```{admonition} Comentarios\n",
    "\n",
    "* No se observa una gran diferencia en tiempo de ejecución entre el caso vectorizado y no vectorizado en los niveles 1 y 2 de BLAS salvo que en el caso vectorizando se tiene un $\\%$ mayor de *cache-misses*. \n",
    "\n",
    "* Otra opción que se tiene es utilizar la siguiente implementación ya que `numpy` soporta operaciones del tipo matriz-vector sin necesidad de utilizar un *for loop*.\n",
    "\n",
    "```"
   ]
  },
  {
   "cell_type": "markdown",
   "metadata": {},
   "source": [
    "### perf OpenBLAS: nivel 3 multiplicación de matrices"
   ]
  },
  {
   "cell_type": "code",
   "execution_count": 90,
   "metadata": {},
   "outputs": [
    {
     "name": "stdout",
     "output_type": "stream",
     "text": [
      "Writing mult_matrix_matrix_numpy_openblas.py\n"
     ]
    }
   ],
   "source": [
    "%%file mult_matrix_matrix_numpy_openblas.py\n",
    "import numpy as np\n",
    "m=10**4\n",
    "r=10**4\n",
    "n=10**4\n",
    "\n",
    "np.random.seed(2020)\n",
    "m=10**4\n",
    "r=10**4\n",
    "A=np.random.rand(m,r)\n",
    "\n",
    "np.random.seed(2021)\n",
    "r=10**4\n",
    "n=10**4\n",
    "B=np.random.rand(r,n)\n",
    "\n",
    "A@B"
   ]
  },
  {
   "cell_type": "code",
   "execution_count": 93,
   "metadata": {
    "tags": [
     "output_scroll"
    ]
   },
   "outputs": [
    {
     "name": "stderr",
     "output_type": "stream",
     "text": [
      "\n",
      " Performance counter stats for 'system wide' (7 runs):\n",
      "\n",
      "CPU0              7133791024      cycles                                                        (75.03%)\n",
      "CPU1              7156292470      cycles                                                        (75.03%)\n",
      "CPU2              7220608589      cycles                                                        (75.04%)\n",
      "CPU3              7189283352      cycles                                                        (75.02%)\n",
      "CPU4              7264398959      cycles                                                        (75.02%)\n",
      "CPU5              7113528745      cycles                                                        (75.03%)\n",
      "CPU6              7203442255      cycles                                                        (75.01%)\n",
      "CPU7              7103683132      cycles                                                        (75.02%)\n",
      "CPU8              7198249150      cycles                                                        (75.02%)\n",
      "CPU9              7182068337      cycles                                                        (75.02%)\n",
      "CPU10             7143214950      cycles                                                        (75.03%)\n",
      "CPU11             7215423229      cycles                                                        (75.02%)\n",
      "CPU12             7116333255      cycles                                                        (75.03%)\n",
      "CPU13             7160869814      cycles                                                        (75.03%)\n",
      "CPU14             7202222620      cycles                                                        (75.03%)\n",
      "CPU15             7140149470      cycles                                                        (75.02%)\n",
      "CPU16             6806452939      cycles                                                        (75.03%)\n",
      "CPU17             6768067667      cycles                                                        (75.03%)\n",
      "CPU18             6964861381      cycles                                                        (75.03%)\n",
      "CPU19             6689692971      cycles                                                        (75.04%)\n",
      "CPU20             6910459571      cycles                                                        (75.04%)\n",
      "CPU21             6789030506      cycles                                                        (75.02%)\n",
      "CPU22             6662973809      cycles                                                        (75.04%)\n",
      "CPU23             6608880560      cycles                                                        (75.04%)\n",
      "CPU24             6386898325      cycles                                                        (75.04%)\n",
      "CPU25             6568257484      cycles                                                        (75.02%)\n",
      "CPU26             6521051592      cycles                                                        (75.03%)\n",
      "CPU27             6386638426      cycles                                                        (75.04%)\n",
      "CPU28             6462196146      cycles                                                        (75.04%)\n",
      "CPU29             6650793916      cycles                                                        (75.03%)\n",
      "CPU30             6592810817      cycles                                                        (75.02%)\n",
      "CPU31             6661583911      cycles                                                        (75.03%)\n",
      "CPU32             7165211330      cycles                                                        (75.03%)\n",
      "CPU33             7122119034      cycles                                                        (75.03%)\n",
      "CPU34             7179121036      cycles                                                        (75.02%)\n",
      "CPU35             7214537181      cycles                                                        (75.04%)\n",
      "CPU36             7119229669      cycles                                                        (75.05%)\n",
      "CPU37            14194820148      cycles                                                        (75.03%)\n",
      "CPU38             7229679570      cycles                                                        (75.05%)\n",
      "CPU39             7046443013      cycles                                                        (75.03%)\n",
      "CPU40             7152626382      cycles                                                        (75.04%)\n",
      "CPU41             7130506264      cycles                                                        (75.05%)\n",
      "CPU42             7149383514      cycles                                                        (75.04%)\n",
      "CPU43             7144820055      cycles                                                        (75.03%)\n",
      "CPU44             7034938883      cycles                                                        (75.03%)\n",
      "CPU45             7062593835      cycles                                                        (75.02%)\n",
      "CPU46             7186059630      cycles                                                        (75.04%)\n",
      "CPU47             7067203477      cycles                                                        (75.04%)\n",
      "CPU48             6676327197      cycles                                                        (75.04%)\n",
      "CPU49             6801654925      cycles                                                        (75.03%)\n",
      "CPU50             6903226882      cycles                                                        (75.02%)\n",
      "CPU51             6476760341      cycles                                                        (75.04%)\n",
      "CPU52             6961507292      cycles                                                        (75.04%)\n",
      "CPU53             6656862230      cycles                                                        (75.03%)\n",
      "CPU54             6662150993      cycles                                                        (75.02%)\n",
      "CPU55             6422383243      cycles                                                        (75.03%)\n",
      "CPU56             6383748725      cycles                                                        (75.03%)\n",
      "CPU57             6296344225      cycles                                                        (75.03%)\n",
      "CPU58             6392924403      cycles                                                        (75.04%)\n",
      "CPU59             6338610953      cycles                                                        (75.03%)\n",
      "CPU60             6338715831      cycles                                                        (75.04%)\n",
      "CPU61             6505580389      cycles                                                        (75.04%)\n",
      "CPU62             6366090716      cycles                                                        (75.02%)\n",
      "CPU63             6249411391      cycles                                                        (75.03%)\n",
      "CPU0              8337269499      instructions              #    1.06  insn per cycle           (75.03%)\n",
      "CPU1              8313615400      instructions              #    1.05  insn per cycle           (75.03%)\n",
      "CPU2              8425366284      instructions              #    1.06  insn per cycle           (75.03%)\n",
      "CPU3              8530109047      instructions              #    1.08  insn per cycle           (75.04%)\n",
      "CPU4              8444474756      instructions              #    1.06  insn per cycle           (75.05%)\n",
      "CPU5              8396388837      instructions              #    0.70  insn per cycle           (75.04%)\n",
      "CPU6              8361272426      instructions              #    1.04  insn per cycle           (75.05%)\n",
      "CPU7              8390139884      instructions              #    1.06  insn per cycle           (75.04%)\n",
      "CPU8              8434059362      instructions              #    1.06  insn per cycle           (75.04%)\n",
      "CPU9              8537706913      instructions              #    1.07  insn per cycle           (75.05%)\n",
      "CPU10             8328940294      instructions              #    1.05  insn per cycle           (75.03%)\n",
      "CPU11             8355174612      instructions              #    1.05  insn per cycle           (75.03%)\n",
      "CPU12             8305161747      instructions              #    1.05  insn per cycle           (75.03%)\n",
      "CPU13             8398054596      instructions              #    1.05  insn per cycle           (75.03%)\n",
      "CPU14             8560415650      instructions              #    1.08  insn per cycle           (75.04%)\n",
      "CPU15             8545186232      instructions              #    1.07  insn per cycle           (75.04%)\n",
      "CPU16             8619916417      instructions              #    1.15  insn per cycle           (75.04%)\n",
      "CPU17             8348302048      instructions              #    1.10  insn per cycle           (75.03%)\n",
      "CPU18             8462158654      instructions              #    1.11  insn per cycle           (75.02%)\n",
      "CPU19             8388954724      instructions              #    1.17  insn per cycle           (75.03%)\n",
      "CPU20             8401304275      instructions              #    1.10  insn per cycle           (75.03%)\n",
      "CPU21             8427898002      instructions              #    1.17  insn per cycle           (75.02%)\n",
      "CPU22             8389540053      instructions              #    1.14  insn per cycle           (75.03%)\n",
      "CPU23             8580619434      instructions              #    1.24  insn per cycle           (75.04%)\n",
      "CPU24             8361831189      instructions              #    1.19  insn per cycle           (75.03%)\n",
      "CPU25             8424244905      instructions              #    1.20  insn per cycle           (75.04%)\n",
      "CPU26             8365752624      instructions              #    1.18  insn per cycle           (75.04%)\n",
      "CPU27             8566663198      instructions              #    1.20  insn per cycle           (75.03%)\n",
      "CPU28             8524861360      instructions              #    1.25  insn per cycle           (75.03%)\n",
      "CPU29             8530860889      instructions              #    1.18  insn per cycle           (75.02%)\n",
      "CPU30             8391365702      instructions              #    1.17  insn per cycle           (75.04%)\n",
      "CPU31             8361700809      instructions              #    1.18  insn per cycle           (75.03%)\n",
      "CPU32             8608053142      instructions              #    1.09  insn per cycle           (75.04%)\n",
      "CPU33             8355557107      instructions              #    1.06  insn per cycle           (75.03%)\n",
      "CPU34             8436645108      instructions              #    1.07  insn per cycle           (75.03%)\n",
      "CPU35             8449121712      instructions              #    1.06  insn per cycle           (75.04%)\n",
      "CPU36             8339113381      instructions              #    1.04  insn per cycle           (75.03%)\n",
      "CPU37            28259097302      instructions              #    2.58  insn per cycle           (75.03%)\n",
      "CPU38             8448238478      instructions              #    1.07  insn per cycle           (75.03%)\n",
      "CPU39             8401309849      instructions              #    1.06  insn per cycle           (75.03%)\n",
      "CPU40             8437551768      instructions              #    1.06  insn per cycle           (75.03%)\n",
      "CPU41             8420919165      instructions              #    1.06  insn per cycle           (75.02%)\n",
      "CPU42             8375093500      instructions              #    1.06  insn per cycle           (75.03%)\n",
      "CPU43             8611588209      instructions              #    1.09  insn per cycle           (75.05%)\n",
      "CPU44             8359503061      instructions              #    1.06  insn per cycle           (75.05%)\n",
      "CPU45             8351200831      instructions              #    1.05  insn per cycle           (75.04%)\n",
      "CPU46             8453664506      instructions              #    1.07  insn per cycle           (75.03%)\n",
      "CPU47             8368597471      instructions              #    1.04  insn per cycle           (75.04%)\n",
      "CPU48             8414478178      instructions              #    1.25  insn per cycle           (75.03%)\n",
      "CPU49             8417817848      instructions              #    1.21  insn per cycle           (75.04%)\n",
      "CPU50             8453394039      instructions              #    1.20  insn per cycle           (75.04%)\n",
      "CPU51             8368700379      instructions              #    1.26  insn per cycle           (75.03%)\n",
      "CPU52             8501813618      instructions              #    1.19  insn per cycle           (75.02%)\n",
      "CPU53             8635777456      instructions              #    1.31  insn per cycle           (75.00%)\n",
      "CPU54             8415011670      instructions              #    1.26  insn per cycle           (75.04%)\n",
      "CPU55             8606074088      instructions              #    1.34  insn per cycle           (75.04%)\n",
      "CPU56             8564167302      instructions              #    1.37  insn per cycle           (75.03%)\n",
      "CPU57             8535365405      instructions              #    1.38  insn per cycle           (75.04%)\n",
      "CPU58             8283821509      instructions              #    1.34  insn per cycle           (75.04%)\n",
      "CPU59             8419225384      instructions              #    1.40  insn per cycle           (75.03%)\n",
      "CPU60             8357187112      instructions              #    1.39  insn per cycle           (75.03%)\n",
      "CPU61             8392658027      instructions              #    1.38  insn per cycle           (75.02%)\n",
      "CPU62             8502439607      instructions              #    1.41  insn per cycle           (75.05%)\n",
      "CPU63             8282756421      instructions              #    1.31  insn per cycle           (75.02%)\n",
      "CPU0               259195352      cache-references                                              (75.04%)\n",
      "CPU1               263091490      cache-references                                              (75.03%)\n",
      "CPU2               257864871      cache-references                                              (75.03%)\n",
      "CPU3               266973556      cache-references                                              (75.03%)\n",
      "CPU4               261177832      cache-references                                              (75.03%)\n",
      "CPU5               262602177      cache-references                                              (75.03%)\n",
      "CPU6               260865928      cache-references                                              (75.03%)\n",
      "CPU7               256269964      cache-references                                              (75.02%)\n",
      "CPU8               259301087      cache-references                                              (75.03%)\n",
      "CPU9               262805038      cache-references                                              (75.02%)\n",
      "CPU10              263483333      cache-references                                              (75.03%)\n",
      "CPU11              260952730      cache-references                                              (75.04%)\n",
      "CPU12              258896276      cache-references                                              (75.03%)\n",
      "CPU13              260462024      cache-references                                              (75.04%)\n",
      "CPU14              262756792      cache-references                                              (75.03%)\n",
      "CPU15              260399431      cache-references                                              (75.03%)\n",
      "CPU16              269712310      cache-references                                              (75.02%)\n",
      "CPU17              259325522      cache-references                                              (75.04%)\n",
      "CPU18              263216702      cache-references                                              (75.11%)\n",
      "CPU19              264482949      cache-references                                              (75.10%)\n",
      "CPU20              262809876      cache-references                                              (75.04%)\n",
      "CPU21              261563681      cache-references                                              (75.05%)\n",
      "CPU22              261008591      cache-references                                              (75.03%)\n",
      "CPU23              264333027      cache-references                                              (75.02%)\n",
      "CPU24              255305783      cache-references                                              (75.03%)\n",
      "CPU25              261268565      cache-references                                              (75.02%)\n",
      "CPU26              255818212      cache-references                                              (75.04%)\n",
      "CPU27              254584736      cache-references                                              (75.04%)\n",
      "CPU28              275233970      cache-references                                              (75.03%)\n",
      "CPU29              253372051      cache-references                                              (75.05%)\n",
      "CPU30              257550738      cache-references                                              (75.03%)\n",
      "CPU31              273125885      cache-references                                              (75.04%)\n",
      "CPU32              263771559      cache-references                                              (75.02%)\n",
      "CPU33              265384952      cache-references                                              (75.03%)\n",
      "CPU34              260488960      cache-references                                              (75.03%)\n",
      "CPU35              266408963      cache-references                                              (75.03%)\n",
      "CPU36              261233985      cache-references                                              (75.03%)\n",
      "CPU37              342583110      cache-references                                              (75.03%)\n",
      "CPU38              261191552      cache-references                                              (75.03%)\n",
      "CPU39              262146524      cache-references                                              (75.03%)\n",
      "CPU40              261428372      cache-references                                              (75.03%)\n",
      "CPU41              262753828      cache-references                                              (75.03%)\n",
      "CPU42              261345520      cache-references                                              (75.03%)\n",
      "CPU43              260113136      cache-references                                              (75.02%)\n",
      "CPU44              260707549      cache-references                                              (75.02%)\n",
      "CPU45              262845930      cache-references                                              (75.02%)\n",
      "CPU46              261468961      cache-references                                              (75.02%)\n",
      "CPU47              263168368      cache-references                                              (75.02%)\n",
      "CPU48              267728889      cache-references                                              (75.02%)\n",
      "CPU49              266481199      cache-references                                              (75.02%)\n",
      "CPU50              261832377      cache-references                                              (75.02%)\n",
      "CPU51              259754652      cache-references                                              (75.02%)\n",
      "CPU52              262406467      cache-references                                              (75.04%)\n",
      "CPU53              260027555      cache-references                                              (75.05%)\n",
      "CPU54              259069787      cache-references                                              (75.02%)\n",
      "CPU55              254533867      cache-references                                              (75.02%)\n",
      "CPU56              255552534      cache-references                                              (75.02%)\n",
      "CPU57              256389398      cache-references                                              (75.02%)\n",
      "CPU58              256212666      cache-references                                              (75.02%)\n",
      "CPU59              253276811      cache-references                                              (75.04%)\n",
      "CPU60              253696347      cache-references                                              (75.02%)\n",
      "CPU61              254299195      cache-references                                              (75.04%)\n",
      "CPU62              263023594      cache-references                                              (75.02%)\n",
      "CPU63              256284982      cache-references                                              (75.04%)\n",
      "CPU0                10265123      cache-misses              #    3.774 % of all cache refs      (75.06%)\n",
      "CPU1                15064089      cache-misses              #    5.619 % of all cache refs      (75.07%)\n",
      "CPU2                10741117      cache-misses              #    4.039 % of all cache refs      (75.07%)\n",
      "CPU3                14409763      cache-misses              #    5.268 % of all cache refs      (75.08%)\n",
      "CPU4                11642963      cache-misses              #    4.255 % of all cache refs      (75.07%)\n",
      "CPU5                12739993      cache-misses              #    3.885 % of all cache refs      (75.08%)\n",
      "CPU6                13485311      cache-misses              #    5.128 % of all cache refs      (75.08%)\n",
      "CPU7                10837458      cache-misses              #    4.010 % of all cache refs      (75.10%)\n",
      "CPU8                14148633      cache-misses              #    5.190 % of all cache refs      (75.08%)\n",
      "CPU9                17511738      cache-misses              #    6.354 % of all cache refs      (75.09%)\n",
      "CPU10               10386329      cache-misses              #    3.720 % of all cache refs      (75.08%)\n",
      "CPU11               10851780      cache-misses              #    3.976 % of all cache refs      (75.09%)\n",
      "CPU12               15720294      cache-misses              #    5.667 % of all cache refs      (75.08%)\n",
      "CPU13               11676310      cache-misses              #    4.203 % of all cache refs      (75.08%)\n",
      "CPU14               10986311      cache-misses              #    3.973 % of all cache refs      (75.09%)\n",
      "CPU15               13572686      cache-misses              #    5.011 % of all cache refs      (75.08%)\n",
      "CPU16               13830864      cache-misses              #    5.081 % of all cache refs      (75.09%)\n",
      "CPU17               12911084      cache-misses              #    4.836 % of all cache refs      (75.08%)\n",
      "CPU18               13497497      cache-misses              #    5.145 % of all cache refs      (75.02%)\n",
      "CPU19               10194235      cache-misses              #    3.998 % of all cache refs      (75.02%)\n",
      "CPU20               15536317      cache-misses              #    6.015 % of all cache refs      (75.02%)\n",
      "CPU21                9653686      cache-misses              #    3.812 % of all cache refs      (75.03%)\n",
      "CPU22               10140461      cache-misses              #    3.982 % of all cache refs      (75.02%)\n",
      "CPU23               10779974      cache-misses              #    4.288 % of all cache refs      (75.02%)\n",
      "CPU24               11231621      cache-misses              #    4.460 % of all cache refs      (75.02%)\n",
      "CPU25               10739882      cache-misses              #    4.241 % of all cache refs      (75.03%)\n",
      "CPU26               10299050      cache-misses              #    4.123 % of all cache refs      (75.02%)\n",
      "CPU27                9100365      cache-misses              #    3.487 % of all cache refs      (75.02%)\n",
      "CPU28               11080950      cache-misses              #    4.438 % of all cache refs      (75.03%)\n",
      "CPU29               11886795      cache-misses              #    4.695 % of all cache refs      (75.02%)\n",
      "CPU30               10007873      cache-misses              #    3.951 % of all cache refs      (75.03%)\n",
      "CPU31                9416224      cache-misses              #    3.403 % of all cache refs      (75.03%)\n",
      "CPU32               17602855      cache-misses              #    6.450 % of all cache refs      (75.04%)\n",
      "CPU33               15478445      cache-misses              #    5.742 % of all cache refs      (75.03%)\n",
      "CPU34               11316532      cache-misses              #    4.251 % of all cache refs      (75.04%)\n",
      "CPU35               13276155      cache-misses              #    4.859 % of all cache refs      (75.02%)\n",
      "CPU36               11866157      cache-misses              #    4.309 % of all cache refs      (75.03%)\n",
      "CPU37               19587775      cache-misses              #    6.291 % of all cache refs      (75.03%)\n",
      "CPU38               14380436      cache-misses              #    5.472 % of all cache refs      (75.02%)\n",
      "CPU39               13583046      cache-misses              #    5.011 % of all cache refs      (75.04%)\n",
      "CPU40               10312498      cache-misses              #    3.778 % of all cache refs      (75.03%)\n",
      "CPU41               13075130      cache-misses              #    4.696 % of all cache refs      (75.03%)\n",
      "CPU42               15189789      cache-misses              #    5.491 % of all cache refs      (75.04%)\n",
      "CPU43               14260494      cache-misses              #    5.228 % of all cache refs      (75.04%)\n",
      "CPU44               10636622      cache-misses              #    3.805 % of all cache refs      (75.04%)\n",
      "CPU45               10877650      cache-misses              #    3.923 % of all cache refs      (75.05%)\n",
      "CPU46               15169078      cache-misses              #    5.501 % of all cache refs      (75.05%)\n",
      "CPU47               11128857      cache-misses              #    4.030 % of all cache refs      (75.04%)\n",
      "CPU48               12584351      cache-misses              #    5.081 % of all cache refs      (75.05%)\n",
      "CPU49               16334839      cache-misses              #    6.562 % of all cache refs      (75.05%)\n",
      "CPU50               17057411      cache-misses              #    6.918 % of all cache refs      (75.06%)\n",
      "CPU51               10898681      cache-misses              #    4.454 % of all cache refs      (75.05%)\n",
      "CPU52               14201319      cache-misses              #    5.777 % of all cache refs      (75.06%)\n",
      "CPU53               18039302      cache-misses              #    7.524 % of all cache refs      (75.07%)\n",
      "CPU54               14380166      cache-misses              #    6.014 % of all cache refs      (75.06%)\n",
      "CPU55               14753943      cache-misses              #    6.183 % of all cache refs      (75.05%)\n",
      "CPU56               15564475      cache-misses              #    6.650 % of all cache refs      (75.06%)\n",
      "CPU57               15842002      cache-misses              #    6.776 % of all cache refs      (75.07%)\n",
      "CPU58               14316691      cache-misses              #    6.068 % of all cache refs      (75.05%)\n",
      "CPU59               10620627      cache-misses              #    4.591 % of all cache refs      (75.06%)\n",
      "CPU60               11376418      cache-misses              #    5.002 % of all cache refs      (75.07%)\n",
      "CPU61                9523161      cache-misses              #    4.174 % of all cache refs      (75.06%)\n",
      "CPU62               18204858      cache-misses              #    7.907 % of all cache refs      (75.06%)\n",
      "CPU63               11978402      cache-misses              #    4.806 % of all cache refs      (75.06%)\n",
      "\n",
      "             6.169 +- 0.137 seconds time elapsed  ( +-  2.21% )\n",
      "\n"
     ]
    }
   ],
   "source": [
    "%%bash\n",
    "perf stat -S --all-cpus -A -e cycles,instructions,cache-references,cache-misses -r 7 python3 mult_matrix_matrix_numpy_openblas.py"
   ]
  },
  {
   "cell_type": "markdown",
   "metadata": {},
   "source": [
    "### Comparación de versiones de multiplicación de matrices utilizando nivel 1 vs nivel 2 de BLAS"
   ]
  },
  {
   "cell_type": "markdown",
   "metadata": {},
   "source": [
    "Utilizamos matrices $A, B \\in \\mathbb{R}^{10^3 \\times 10^3}$ pseudoaleatorias:"
   ]
  },
  {
   "cell_type": "code",
   "execution_count": 94,
   "metadata": {},
   "outputs": [],
   "source": [
    "np.random.seed(2020)\n",
    "m=10**3\n",
    "r=10**3\n",
    "\n",
    "A=np.random.rand(m,r)\n",
    "fileA_10_3='A_10_3.txt'\n",
    "np.savetxt(fileA_10_3,A)"
   ]
  },
  {
   "cell_type": "code",
   "execution_count": 95,
   "metadata": {},
   "outputs": [],
   "source": [
    "np.random.seed(2021)\n",
    "m=10**3\n",
    "r=10**3\n",
    "\n",
    "B=np.random.rand(m,r)\n",
    "fileB_10_3='B_10_3.txt'\n",
    "np.savetxt(fileB_10_3,B)"
   ]
  },
  {
   "cell_type": "code",
   "execution_count": 96,
   "metadata": {},
   "outputs": [
    {
     "name": "stdout",
     "output_type": "stream",
     "text": [
      "Writing mult_matrix_matrix_numpy_dot_product.py\n"
     ]
    }
   ],
   "source": [
    "%%file mult_matrix_matrix_numpy_dot_product.py\n",
    "import numpy as np\n",
    "m=10**3\n",
    "n=10**3\n",
    "\n",
    "fileA_10_3='A_10_3.txt'\n",
    "fileB_10_3='B_10_3.txt'\n",
    "A = np.loadtxt(fileA_10_3)\n",
    "B = np.loadtxt(fileB_10_3)\n",
    "C = np.zeros((m,n))\n",
    "for i in np.arange(m):\n",
    "        for j in np.arange(n):\n",
    "                C[i][j]+= A[i,:].dot(B[:,j])"
   ]
  },
  {
   "cell_type": "code",
   "execution_count": 98,
   "metadata": {},
   "outputs": [
    {
     "name": "stderr",
     "output_type": "stream",
     "text": [
      "\n",
      " Performance counter stats for 'system wide' (7 runs):\n",
      "\n",
      "       36944844215      cycles                                                        ( +-  2.02% )  (75.05%)\n",
      "       34136304454      instructions              #    0.92  insn per cycle           ( +-  0.63% )  (75.05%)\n",
      "         338823740      cache-references                                              ( +-  0.44% )  (75.05%)\n",
      "           4700721      cache-misses              #    1.387 % of all cache refs      ( +-  3.03% )  (75.02%)\n",
      "\n",
      "            5.5781 +- 0.0290 seconds time elapsed  ( +-  0.52% )\n",
      "\n"
     ]
    }
   ],
   "source": [
    "%%bash\n",
    "perf stat -S --all-cpus -e cycles,instructions,cache-references,cache-misses -r 7 python3 mult_matrix_matrix_numpy_dot_product.py"
   ]
  },
  {
   "cell_type": "code",
   "execution_count": 97,
   "metadata": {
    "tags": [
     "output_scroll"
    ]
   },
   "outputs": [
    {
     "name": "stderr",
     "output_type": "stream",
     "text": [
      "\n",
      " Performance counter stats for 'system wide' (7 runs):\n",
      "\n",
      "CPU0               510519119      cycles                                                        (75.04%)\n",
      "CPU1               519702645      cycles                                                        (75.04%)\n",
      "CPU2               520533947      cycles                                                        (75.04%)\n",
      "CPU3               521501814      cycles                                                        (75.05%)\n",
      "CPU4               545961014      cycles                                                        (75.02%)\n",
      "CPU5             14207577303      cycles                                                        (75.04%)\n",
      "CPU6               492710418      cycles                                                        (75.04%)\n",
      "CPU7               488038757      cycles                                                        (75.05%)\n",
      "CPU8               484330139      cycles                                                        (75.06%)\n",
      "CPU9               490167748      cycles                                                        (75.06%)\n",
      "CPU10              489652279      cycles                                                        (75.06%)\n",
      "CPU11              521933097      cycles                                                        (75.07%)\n",
      "CPU12              487466692      cycles                                                        (75.07%)\n",
      "CPU13              516299266      cycles                                                        (75.06%)\n",
      "CPU14              479927054      cycles                                                        (75.04%)\n",
      "CPU15              516434831      cycles                                                        (75.07%)\n",
      "CPU16              205520776      cycles                                                        (75.03%)\n",
      "CPU17              223095101      cycles                                                        (75.06%)\n",
      "CPU18              271254717      cycles                                                        (75.08%)\n",
      "CPU19              274789573      cycles                                                        (75.06%)\n",
      "CPU20              497706641      cycles                                                        (75.07%)\n",
      "CPU21              197039318      cycles                                                        (75.06%)\n",
      "CPU22              284465263      cycles                                                        (75.05%)\n",
      "CPU23              193917438      cycles                                                        (75.06%)\n",
      "CPU24              308796830      cycles                                                        (75.05%)\n",
      "CPU25              241145563      cycles                                                        (75.07%)\n",
      "CPU26              171412565      cycles                                                        (75.08%)\n",
      "CPU27              290872811      cycles                                                        (75.05%)\n",
      "CPU28              162308511      cycles                                                        (75.04%)\n",
      "CPU29              195847827      cycles                                                        (75.04%)\n",
      "CPU30              199845794      cycles                                                        (75.08%)\n",
      "CPU31              245016430      cycles                                                        (75.08%)\n",
      "CPU32              451067353      cycles                                                        (75.06%)\n",
      "CPU33              450925768      cycles                                                        (75.06%)\n",
      "CPU34              488915767      cycles                                                        (75.06%)\n",
      "CPU35              481789866      cycles                                                        (75.05%)\n",
      "CPU36              472218485      cycles                                                        (75.08%)\n",
      "CPU37              400292156      cycles                                                        (75.06%)\n",
      "CPU38              466489895      cycles                                                        (75.05%)\n",
      "CPU39              454262802      cycles                                                        (75.04%)\n",
      "CPU40              460811353      cycles                                                        (75.06%)\n",
      "CPU41              238548752      cycles                                                        (75.06%)\n",
      "CPU42              459636391      cycles                                                        (75.06%)\n",
      "CPU43              479903050      cycles                                                        (75.07%)\n",
      "CPU44              455210594      cycles                                                        (75.06%)\n",
      "CPU45              457018851      cycles                                                        (75.06%)\n",
      "CPU46              483531452      cycles                                                        (75.04%)\n",
      "CPU47              667836121      cycles                                                        (75.07%)\n",
      "CPU48              125709400      cycles                                                        (75.03%)\n",
      "CPU49              127747552      cycles                                                        (75.05%)\n",
      "CPU50              123218402      cycles                                                        (75.08%)\n",
      "CPU51              125187527      cycles                                                        (75.06%)\n",
      "CPU52              125935272      cycles                                                        (75.06%)\n",
      "CPU53              127316361      cycles                                                        (75.05%)\n",
      "CPU54              123233645      cycles                                                        (75.05%)\n",
      "CPU55              128467878      cycles                                                        (75.06%)\n",
      "CPU56              163285642      cycles                                                        (75.05%)\n",
      "CPU57              164764648      cycles                                                        (75.07%)\n",
      "CPU58              477596481      cycles                                                        (75.06%)\n",
      "CPU59              168691876      cycles                                                        (75.09%)\n",
      "CPU60              159507760      cycles                                                        (75.09%)\n",
      "CPU61              165052704      cycles                                                        (75.08%)\n",
      "CPU62              166618941      cycles                                                        (75.07%)\n",
      "CPU63              166650661      cycles                                                        (75.08%)\n",
      "CPU0               142034326      instructions              #    0.28  insn per cycle           (75.07%)\n",
      "CPU1               150117902      instructions              #    0.06  insn per cycle           (75.06%)\n",
      "CPU2               153779730      instructions              #    0.30  insn per cycle           (75.05%)\n",
      "CPU3               153532828      instructions              #    0.30  insn per cycle           (75.05%)\n",
      "CPU4               132178629      instructions              #    0.28  insn per cycle           (75.08%)\n",
      "CPU5             28632084701      instructions              #    3.41  insn per cycle           (75.06%)\n",
      "CPU6               115826823      instructions              #    0.23  insn per cycle           (75.05%)\n",
      "CPU7               122392573      instructions              #    0.24  insn per cycle           (75.04%)\n",
      "CPU8               127949024      instructions              #    0.26  insn per cycle           (75.07%)\n",
      "CPU9               164244935      instructions              #    0.32  insn per cycle           (75.09%)\n",
      "CPU10              116562880      instructions              #    0.24  insn per cycle           (75.06%)\n",
      "CPU11              125543842      instructions              #    0.24  insn per cycle           (75.08%)\n",
      "CPU12              116008240      instructions              #    0.23  insn per cycle           (75.06%)\n",
      "CPU13              142135912      instructions              #    0.27  insn per cycle           (75.09%)\n",
      "CPU14              125166631      instructions              #    0.25  insn per cycle           (75.09%)\n",
      "CPU15              142149837      instructions              #    0.27  insn per cycle           (75.06%)\n",
      "CPU16               33519028      instructions              #    0.11  insn per cycle           (75.10%)\n",
      "CPU17               35737321      instructions              #    0.13  insn per cycle           (75.08%)\n",
      "CPU18               65254458      instructions              #    0.25  insn per cycle           (75.08%)\n",
      "CPU19               65382719      instructions              #    0.27  insn per cycle           (75.08%)\n",
      "CPU20              216019152      instructions              #    0.94  insn per cycle           (75.07%)\n",
      "CPU21               21007170      instructions              #    0.10  insn per cycle           (75.07%)\n",
      "CPU22               72131088      instructions              #    0.38  insn per cycle           (75.08%)\n",
      "CPU23               20021058      instructions              #    0.10  insn per cycle           (75.08%)\n",
      "CPU24               76231375      instructions              #    0.36  insn per cycle           (75.08%)\n",
      "CPU25               43148597      instructions              #    0.23  insn per cycle           (75.07%)\n",
      "CPU26               18160090      instructions              #    0.10  insn per cycle           (75.06%)\n",
      "CPU27               66253151      instructions              #    0.29  insn per cycle           (75.09%)\n",
      "CPU28               12641554      instructions              #    0.07  insn per cycle           (75.09%)\n",
      "CPU29               19835694      instructions              #    0.10  insn per cycle           (75.08%)\n",
      "CPU30               19845884      instructions              #    0.10  insn per cycle           (75.06%)\n",
      "CPU31               42530105      instructions              #    0.23  insn per cycle           (75.08%)\n",
      "CPU32              124681771      instructions              #    0.26  insn per cycle           (75.05%)\n",
      "CPU33              125243037      instructions              #    0.27  insn per cycle           (75.06%)\n",
      "CPU34              156858067      instructions              #    0.33  insn per cycle           (75.05%)\n",
      "CPU35              151448275      instructions              #    0.32  insn per cycle           (75.06%)\n",
      "CPU36              117152828      instructions              #    0.27  insn per cycle           (75.07%)\n",
      "CPU37              165608739      instructions              #    0.04  insn per cycle           (75.06%)\n",
      "CPU38              119469643      instructions              #    0.26  insn per cycle           (75.08%)\n",
      "CPU39              120266210      instructions              #    0.26  insn per cycle           (75.09%)\n",
      "CPU40              131297583      instructions              #    0.27  insn per cycle           (75.06%)\n",
      "CPU41               50307315      instructions              #    0.11  insn per cycle           (75.09%)\n",
      "CPU42              114614640      instructions              #    0.24  insn per cycle           (75.06%)\n",
      "CPU43              139204166      instructions              #    0.28  insn per cycle           (75.07%)\n",
      "CPU44              116003283      instructions              #    0.25  insn per cycle           (75.06%)\n",
      "CPU45              125511486      instructions              #    0.27  insn per cycle           (75.08%)\n",
      "CPU46              142049434      instructions              #    0.29  insn per cycle           (75.09%)\n",
      "CPU47              310797449      instructions              #    0.47  insn per cycle           (75.06%)\n",
      "CPU48               11924728      instructions              #    0.08  insn per cycle           (75.10%)\n",
      "CPU49               11780328      instructions              #    0.08  insn per cycle           (75.08%)\n",
      "CPU50               11864709      instructions              #    0.08  insn per cycle           (75.08%)\n",
      "CPU51               11766523      instructions              #    0.08  insn per cycle           (75.08%)\n",
      "CPU52               11771262      instructions              #    0.08  insn per cycle           (75.07%)\n",
      "CPU53               11742032      instructions              #    0.08  insn per cycle           (75.07%)\n",
      "CPU54               11757229      instructions              #    0.09  insn per cycle           (75.08%)\n",
      "CPU55               11797794      instructions              #    0.08  insn per cycle           (75.08%)\n",
      "CPU56               18900127      instructions              #    0.13  insn per cycle           (75.08%)\n",
      "CPU57               18848586      instructions              #    0.13  insn per cycle           (75.07%)\n",
      "CPU58              225936652      instructions              #    0.73  insn per cycle           (75.04%)\n",
      "CPU59               18819618      instructions              #    0.12  insn per cycle           (75.04%)\n",
      "CPU60               18751891      instructions              #    0.13  insn per cycle           (75.04%)\n",
      "CPU61               18759692      instructions              #    0.09  insn per cycle           (75.04%)\n",
      "CPU62               18580055      instructions              #    0.13  insn per cycle           (75.04%)\n",
      "CPU63               18483417      instructions              #    0.13  insn per cycle           (75.04%)\n",
      "CPU0                 2103844      cache-references                                              (75.04%)\n",
      "CPU1                 2201764      cache-references                                              (75.06%)\n",
      "CPU2                 2255868      cache-references                                              (75.06%)\n",
      "CPU3                 2153247      cache-references                                              (75.06%)\n",
      "CPU4                 2378503      cache-references                                              (75.07%)\n",
      "CPU5               193109308      cache-references                                              (75.06%)\n",
      "CPU6                 2168848      cache-references                                              (75.07%)\n",
      "CPU7                 2138300      cache-references                                              (75.09%)\n",
      "CPU8                 2247367      cache-references                                              (75.07%)\n",
      "CPU9                 2340893      cache-references                                              (75.03%)\n",
      "CPU10                2117084      cache-references                                              (75.05%)\n",
      "CPU11                2171824      cache-references                                              (75.05%)\n",
      "CPU12                2252685      cache-references                                              (75.07%)\n",
      "CPU13                2179014      cache-references                                              (75.05%)\n",
      "CPU14                2199855      cache-references                                              (75.03%)\n",
      "CPU15                2185694      cache-references                                              (75.05%)\n",
      "CPU16                3271966      cache-references                                              (75.05%)\n",
      "CPU17                2912558      cache-references                                              (75.04%)\n",
      "CPU18                2905066      cache-references                                              (75.02%)\n",
      "CPU19                2913455      cache-references                                              (75.05%)\n",
      "CPU20                3071595      cache-references                                              (75.04%)\n",
      "CPU21                3010646      cache-references                                              (75.05%)\n",
      "CPU22                2910071      cache-references                                              (75.04%)\n",
      "CPU23                2922633      cache-references                                              (75.04%)\n",
      "CPU24                2158058      cache-references                                              (75.05%)\n",
      "CPU25                2098908      cache-references                                              (75.03%)\n",
      "CPU26                1840531      cache-references                                              (75.03%)\n",
      "CPU27                2219260      cache-references                                              (75.04%)\n",
      "CPU28                1566860      cache-references                                              (75.04%)\n",
      "CPU29                2182532      cache-references                                              (75.03%)\n",
      "CPU30                2021143      cache-references                                              (75.03%)\n",
      "CPU31                2022254      cache-references                                              (75.03%)\n",
      "CPU32                2478827      cache-references                                              (75.07%)\n",
      "CPU33                2213485      cache-references                                              (75.05%)\n",
      "CPU34                2376553      cache-references                                              (75.06%)\n",
      "CPU35                2263641      cache-references                                              (75.06%)\n",
      "CPU36                2534798      cache-references                                              (75.04%)\n",
      "CPU37                1686424      cache-references                                              (75.06%)\n",
      "CPU38                2270175      cache-references                                              (75.05%)\n",
      "CPU39                2211226      cache-references                                              (75.04%)\n",
      "CPU40                2334019      cache-references                                              (75.06%)\n",
      "CPU41                2279398      cache-references                                              (75.03%)\n",
      "CPU42                2297617      cache-references                                              (75.05%)\n",
      "CPU43                2367482      cache-references                                              (75.04%)\n",
      "CPU44                2350787      cache-references                                              (75.06%)\n",
      "CPU45                2470510      cache-references                                              (75.05%)\n",
      "CPU46                2262562      cache-references                                              (75.03%)\n",
      "CPU47                3813337      cache-references                                              (75.05%)\n",
      "CPU48                1680908      cache-references                                              (75.05%)\n",
      "CPU49                1654814      cache-references                                              (75.04%)\n",
      "CPU50                1486806      cache-references                                              (75.02%)\n",
      "CPU51                1565196      cache-references                                              (75.04%)\n",
      "CPU52                1549517      cache-references                                              (75.04%)\n",
      "CPU53                1758159      cache-references                                              (75.05%)\n",
      "CPU54                1465173      cache-references                                              (75.04%)\n",
      "CPU55                1663763      cache-references                                              (75.04%)\n",
      "CPU56                2246233      cache-references                                              (75.04%)\n",
      "CPU57                2326325      cache-references                                              (75.03%)\n",
      "CPU58                3074157      cache-references                                              (75.05%)\n",
      "CPU59                2378105      cache-references                                              (75.04%)\n",
      "CPU60                2771435      cache-references                                              (75.06%)\n",
      "CPU61                2106682      cache-references                                              (75.07%)\n",
      "CPU62                2347326      cache-references                                              (75.05%)\n",
      "CPU63                2341090      cache-references                                              (75.04%)\n",
      "CPU0                   27648      cache-misses              #    1.272 % of all cache refs      (75.05%)\n",
      "CPU1                   20422      cache-misses              #    0.071 % of all cache refs      (75.04%)\n",
      "CPU2                   14770      cache-misses              #    0.638 % of all cache refs      (75.05%)\n",
      "CPU3                   14112      cache-misses              #    0.643 % of all cache refs      (75.04%)\n",
      "CPU4                   40053      cache-misses              #    1.662 % of all cache refs      (75.04%)\n",
      "CPU5                 2916351      cache-misses              #    2.655 % of all cache refs      (75.05%)\n",
      "CPU6                   14528      cache-misses              #    0.655 % of all cache refs      (75.04%)\n",
      "CPU7                   14653      cache-misses              #    0.668 % of all cache refs      (75.03%)\n",
      "CPU8                   15732      cache-misses              #    0.706 % of all cache refs      (74.96%)\n",
      "CPU9                   25030      cache-misses              #    1.072 % of all cache refs      (74.98%)\n",
      "CPU10                  14729      cache-misses              #    0.683 % of all cache refs      (74.98%)\n",
      "CPU11                  19018      cache-misses              #    0.863 % of all cache refs      (74.97%)\n",
      "CPU12                  13334      cache-misses              #    0.580 % of all cache refs      (74.97%)\n",
      "CPU13                  21495      cache-misses              #    0.959 % of all cache refs      (74.97%)\n",
      "CPU14                  14413      cache-misses              #    0.652 % of all cache refs      (75.00%)\n",
      "CPU15                  17272      cache-misses              #    0.775 % of all cache refs      (74.98%)\n",
      "CPU16                  28386      cache-misses              #    0.897 % of all cache refs      (74.98%)\n",
      "CPU17                  17038      cache-misses              #    0.612 % of all cache refs      (74.99%)\n",
      "CPU18                  16470      cache-misses              #    0.696 % of all cache refs      (74.99%)\n",
      "CPU19                  12832      cache-misses              #    0.554 % of all cache refs      (74.98%)\n",
      "CPU20                 224093      cache-misses              #    9.905 % of all cache refs      (74.99%)\n",
      "CPU21                  20691      cache-misses              #    0.880 % of all cache refs      (74.98%)\n",
      "CPU22                  18992      cache-misses              #    0.858 % of all cache refs      (75.00%)\n",
      "CPU23                  11537      cache-misses              #    0.515 % of all cache refs      (74.99%)\n",
      "CPU24                  13991      cache-misses              #    0.691 % of all cache refs      (74.99%)\n",
      "CPU25                  11786      cache-misses              #    0.600 % of all cache refs      (75.00%)\n",
      "CPU26                  13594      cache-misses              #    0.753 % of all cache refs      (75.00%)\n",
      "CPU27                  12646      cache-misses              #    0.532 % of all cache refs      (74.99%)\n",
      "CPU28                   5228      cache-misses              #    0.264 % of all cache refs      (75.01%)\n",
      "CPU29                   9448      cache-misses              #    0.473 % of all cache refs      (75.03%)\n",
      "CPU30                  14078      cache-misses              #    0.735 % of all cache refs      (75.00%)\n",
      "CPU31                  15327      cache-misses              #    0.846 % of all cache refs      (74.99%)\n",
      "CPU32                  18564      cache-misses              #    0.722 % of all cache refs      (75.01%)\n",
      "CPU33                  15797      cache-misses              #    0.732 % of all cache refs      (75.01%)\n",
      "CPU34                  19256      cache-misses              #    0.801 % of all cache refs      (75.01%)\n",
      "CPU35                  14417      cache-misses              #    0.620 % of all cache refs      (75.02%)\n",
      "CPU36                  21571      cache-misses              #    0.833 % of all cache refs      (74.99%)\n",
      "CPU37                  20019      cache-misses              #    0.035 % of all cache refs      (75.01%)\n",
      "CPU38                  25655      cache-misses              #    1.097 % of all cache refs      (75.01%)\n",
      "CPU39                  15201      cache-misses              #    0.651 % of all cache refs      (75.03%)\n",
      "CPU40                  17430      cache-misses              #    0.730 % of all cache refs      (75.00%)\n",
      "CPU41                  12740      cache-misses              #    0.523 % of all cache refs      (75.02%)\n",
      "CPU42                  12813      cache-misses              #    0.539 % of all cache refs      (75.02%)\n",
      "CPU43                  36442      cache-misses              #    1.496 % of all cache refs      (75.01%)\n",
      "CPU44                  13927      cache-misses              #    0.565 % of all cache refs      (75.01%)\n",
      "CPU45                  16379      cache-misses              #    0.660 % of all cache refs      (75.01%)\n",
      "CPU46                  17969      cache-misses              #    0.755 % of all cache refs      (75.04%)\n",
      "CPU47                 316374      cache-misses              #    8.711 % of all cache refs      (75.02%)\n",
      "CPU48                   7364      cache-misses              #    0.387 % of all cache refs      (75.02%)\n",
      "CPU49                   6205      cache-misses              #    0.324 % of all cache refs      (75.03%)\n",
      "CPU50                   7790      cache-misses              #    0.450 % of all cache refs      (75.03%)\n",
      "CPU51                   4723      cache-misses              #    0.259 % of all cache refs      (75.03%)\n",
      "CPU52                   7895      cache-misses              #    0.426 % of all cache refs      (75.03%)\n",
      "CPU53                   5945      cache-misses              #    0.295 % of all cache refs      (75.03%)\n",
      "CPU54                   7386      cache-misses              #    0.437 % of all cache refs      (75.04%)\n",
      "CPU55                   4473      cache-misses              #    0.232 % of all cache refs      (75.03%)\n",
      "CPU56                   6470      cache-misses              #    0.335 % of all cache refs      (75.04%)\n",
      "CPU57                   6136      cache-misses              #    0.309 % of all cache refs      (75.04%)\n",
      "CPU58                  66312      cache-misses              #    1.742 % of all cache refs      (74.99%)\n",
      "CPU59                   5925      cache-misses              #    0.278 % of all cache refs      (74.97%)\n",
      "CPU60                   9924      cache-misses              #    0.507 % of all cache refs      (74.95%)\n",
      "CPU61                  11115      cache-misses              #    0.487 % of all cache refs      (74.95%)\n",
      "CPU62                   8234      cache-misses              #    0.414 % of all cache refs      (74.99%)\n",
      "CPU63                   5848      cache-misses              #    0.297 % of all cache refs      (74.99%)\n",
      "\n",
      "            5.5382 +- 0.0255 seconds time elapsed  ( +-  0.46% )\n",
      "\n"
     ]
    }
   ],
   "source": [
    "%%bash\n",
    "perf stat -S --all-cpus -A -e cycles,instructions,cache-references,cache-misses -r 7 python3 mult_matrix_matrix_numpy_dot_product.py"
   ]
  },
  {
   "cell_type": "code",
   "execution_count": 99,
   "metadata": {},
   "outputs": [
    {
     "name": "stdout",
     "output_type": "stream",
     "text": [
      "Writing mult_matrix_matrix_numpy_dot_product_gaxpy.py\n"
     ]
    }
   ],
   "source": [
    "%%file mult_matrix_matrix_numpy_dot_product_gaxpy.py\n",
    "import numpy as np\n",
    "m=10**3\n",
    "n=10**3\n",
    "fileA_10_3='A_10_3.txt'\n",
    "fileB_10_3='B_10_3.txt'\n",
    "A = np.loadtxt(fileA_10_3)\n",
    "B = np.loadtxt(fileB_10_3)\n",
    "C = np.zeros((m,n))\n",
    "for i in np.arange(m):\n",
    "    C[i,:] = A[i,:]@B"
   ]
  },
  {
   "cell_type": "code",
   "execution_count": 100,
   "metadata": {},
   "outputs": [
    {
     "name": "stderr",
     "output_type": "stream",
     "text": [
      "\n",
      " Performance counter stats for 'system wide' (5 runs):\n",
      "\n",
      "       66773367195      cycles                                                        ( +- 14.72% )  (75.08%)\n",
      "       29948977121      instructions              #    0.45  insn per cycle           ( +-  8.52% )  (75.08%)\n",
      "         381917316      cache-references                                              ( +-  2.56% )  (75.13%)\n",
      "          16449359      cache-misses              #    4.307 % of all cache refs      ( +- 21.72% )  (75.09%)\n",
      "\n",
      "            2.4576 +- 0.0743 seconds time elapsed  ( +-  3.02% )\n",
      "\n"
     ]
    }
   ],
   "source": [
    "%%bash\n",
    "perf stat -S --all-cpus -e cycles,instructions,cache-references,cache-misses -r 5 python3 mult_matrix_matrix_numpy_dot_product_gaxpy.py"
   ]
  },
  {
   "cell_type": "code",
   "execution_count": 101,
   "metadata": {
    "tags": [
     "output_scroll"
    ]
   },
   "outputs": [
    {
     "name": "stderr",
     "output_type": "stream",
     "text": [
      "\n",
      " Performance counter stats for 'system wide' (5 runs):\n",
      "\n",
      "CPU0              1743710495      cycles                                                        (75.07%)\n",
      "CPU1              1461889304      cycles                                                        (75.06%)\n",
      "CPU2              1647203296      cycles                                                        (75.05%)\n",
      "CPU3              1422679558      cycles                                                        (75.05%)\n",
      "CPU4              1503569453      cycles                                                        (75.06%)\n",
      "CPU5              1310469979      cycles                                                        (75.04%)\n",
      "CPU6              1492379372      cycles                                                        (75.05%)\n",
      "CPU7              1458187701      cycles                                                        (75.06%)\n",
      "CPU8              1503827496      cycles                                                        (75.06%)\n",
      "CPU9              1519594396      cycles                                                        (75.04%)\n",
      "CPU10             1500732564      cycles                                                        (75.05%)\n",
      "CPU11             1487996798      cycles                                                        (75.06%)\n",
      "CPU12             1403814395      cycles                                                        (75.06%)\n",
      "CPU13             5310759130      cycles                                                        (75.04%)\n",
      "CPU14             1809491192      cycles                                                        (75.06%)\n",
      "CPU15             1474352490      cycles                                                        (75.03%)\n",
      "CPU16             2134972165      cycles                                                        (75.05%)\n",
      "CPU17             1360747112      cycles                                                        (75.01%)\n",
      "CPU18             1322060303      cycles                                                        (75.07%)\n",
      "CPU19             1163847900      cycles                                                        (75.05%)\n",
      "CPU20             1347072999      cycles                                                        (75.05%)\n",
      "CPU21             1232110024      cycles                                                        (75.03%)\n",
      "CPU22             1200445269      cycles                                                        (75.04%)\n",
      "CPU23             1251989539      cycles                                                        (75.05%)\n",
      "CPU24              928095925      cycles                                                        (75.05%)\n",
      "CPU25             1209675619      cycles                                                        (75.03%)\n",
      "CPU26             1212309559      cycles                                                        (75.04%)\n",
      "CPU27             1115220836      cycles                                                        (75.04%)\n",
      "CPU28             1113623538      cycles                                                        (75.05%)\n",
      "CPU29             1216590101      cycles                                                        (75.01%)\n",
      "CPU30             1179621083      cycles                                                        (75.03%)\n",
      "CPU31             1133127945      cycles                                                        (75.07%)\n",
      "CPU32             1769571073      cycles                                                        (75.07%)\n",
      "CPU33             1468629844      cycles                                                        (75.06%)\n",
      "CPU34             1502635121      cycles                                                        (75.05%)\n",
      "CPU35             1483912263      cycles                                                        (75.04%)\n",
      "CPU36             1476184404      cycles                                                        (75.05%)\n",
      "CPU37             1458652492      cycles                                                        (75.05%)\n",
      "CPU38             1490137446      cycles                                                        (75.05%)\n",
      "CPU39             1463823544      cycles                                                        (75.04%)\n",
      "CPU40             1493439180      cycles                                                        (75.05%)\n",
      "CPU41             1484988616      cycles                                                        (75.02%)\n",
      "CPU42             1451103619      cycles                                                        (75.03%)\n",
      "CPU43             1426967460      cycles                                                        (75.06%)\n",
      "CPU44             1491565113      cycles                                                        (75.05%)\n",
      "CPU45             1505610804      cycles                                                        (75.06%)\n",
      "CPU46             1453604024      cycles                                                        (75.07%)\n",
      "CPU47             1427122208      cycles                                                        (75.06%)\n",
      "CPU48             2165590610      cycles                                                        (75.05%)\n",
      "CPU49             1464734290      cycles                                                        (75.07%)\n",
      "CPU50             1127359390      cycles                                                        (75.06%)\n",
      "CPU51             1105495608      cycles                                                        (75.05%)\n",
      "CPU52             1156726207      cycles                                                        (75.07%)\n",
      "CPU53             1156386334      cycles                                                        (75.08%)\n",
      "CPU54             1128438759      cycles                                                        (75.07%)\n",
      "CPU55             1151461541      cycles                                                        (75.06%)\n",
      "CPU56             1136502031      cycles                                                        (75.06%)\n",
      "CPU57             1067051297      cycles                                                        (75.06%)\n",
      "CPU58             1451666825      cycles                                                        (75.04%)\n",
      "CPU59             3414120324      cycles                                                        (75.06%)\n",
      "CPU60             1181549468      cycles                                                        (75.05%)\n",
      "CPU61             1162949535      cycles                                                        (75.08%)\n",
      "CPU62             1143625275      cycles                                                        (75.05%)\n",
      "CPU63             1457167246      cycles                                                        (75.03%)\n",
      "CPU0               720898806      instructions              #    0.61  insn per cycle           (75.06%)\n",
      "CPU1               399115117      instructions              #    0.36  insn per cycle           (75.06%)\n",
      "CPU2               692104774      instructions              #    0.59  insn per cycle           (75.05%)\n",
      "CPU3               380516032      instructions              #    0.34  insn per cycle           (75.06%)\n",
      "CPU4               424094944      instructions              #    0.38  insn per cycle           (75.06%)\n",
      "CPU5               515427230      instructions              #    0.35  insn per cycle           (75.07%)\n",
      "CPU6               477545626      instructions              #    0.39  insn per cycle           (75.06%)\n",
      "CPU7               376017231      instructions              #    0.33  insn per cycle           (75.06%)\n",
      "CPU8               419464903      instructions              #    0.36  insn per cycle           (75.04%)\n",
      "CPU9               487764536      instructions              #    0.42  insn per cycle           (75.07%)\n",
      "CPU10              416089983      instructions              #    0.36  insn per cycle           (75.05%)\n",
      "CPU11              387649000      instructions              #    0.18  insn per cycle           (75.06%)\n",
      "CPU12              420563125      instructions              #    0.37  insn per cycle           (75.05%)\n",
      "CPU13             8816623227      instructions              #    4.65  insn per cycle           (75.06%)\n",
      "CPU14              826989067      instructions              #    0.69  insn per cycle           (75.06%)\n",
      "CPU15              407343187      instructions              #    0.36  insn per cycle           (75.07%)\n",
      "CPU16             1356891043      instructions              #    1.57  insn per cycle           (75.05%)\n",
      "CPU17              447171870      instructions              #    0.62  insn per cycle           (75.06%)\n",
      "CPU18              317083016      instructions              #    0.38  insn per cycle           (75.07%)\n",
      "CPU19              251382060      instructions              #    0.35  insn per cycle           (75.05%)\n",
      "CPU20              300505203      instructions              #    0.36  insn per cycle           (75.06%)\n",
      "CPU21              278081124      instructions              #    0.38  insn per cycle           (75.07%)\n",
      "CPU22              255608953      instructions              #    0.40  insn per cycle           (75.07%)\n",
      "CPU23              283285778      instructions              #    0.31  insn per cycle           (75.05%)\n",
      "CPU24              240091365      instructions              #    0.36  insn per cycle           (75.07%)\n",
      "CPU25              310543112      instructions              #    0.36  insn per cycle           (75.06%)\n",
      "CPU26              246343741      instructions              #    0.38  insn per cycle           (75.05%)\n",
      "CPU27              244436995      instructions              #    0.27  insn per cycle           (75.06%)\n",
      "CPU28              254352830      instructions              #    0.30  insn per cycle           (75.05%)\n",
      "CPU29              263623682      instructions              #    0.33  insn per cycle           (75.07%)\n",
      "CPU30              247378394      instructions              #    0.33  insn per cycle           (75.04%)\n",
      "CPU31              224664535      instructions              #    0.22  insn per cycle           (75.03%)\n",
      "CPU32              770353087      instructions              #    0.36  insn per cycle           (75.04%)\n",
      "CPU33              395907635      instructions              #    0.31  insn per cycle           (75.06%)\n",
      "CPU34              612261716      instructions              #    0.54  insn per cycle           (75.05%)\n",
      "CPU35              425300818      instructions              #    0.37  insn per cycle           (75.06%)\n",
      "CPU36              403022253      instructions              #    0.24  insn per cycle           (75.06%)\n",
      "CPU37              423457956      instructions              #    0.38  insn per cycle           (75.05%)\n",
      "CPU38              434534365      instructions              #    0.37  insn per cycle           (75.05%)\n",
      "CPU39              396559110      instructions              #    0.35  insn per cycle           (75.05%)\n",
      "CPU40              431870495      instructions              #    0.38  insn per cycle           (75.04%)\n",
      "CPU41              463931384      instructions              #    0.41  insn per cycle           (75.06%)\n",
      "CPU42              376093796      instructions              #    0.33  insn per cycle           (75.06%)\n",
      "CPU43              366820009      instructions              #    0.34  insn per cycle           (75.03%)\n",
      "CPU44              469085614      instructions              #    0.22  insn per cycle           (75.03%)\n",
      "CPU45              539782551      instructions              #    0.49  insn per cycle           (75.06%)\n",
      "CPU46              406602955      instructions              #    0.36  insn per cycle           (75.06%)\n",
      "CPU47              458061487      instructions              #    0.39  insn per cycle           (75.05%)\n",
      "CPU48             1423689964      instructions              #    1.34  insn per cycle           (75.05%)\n",
      "CPU49              552022185      instructions              #    0.66  insn per cycle           (75.06%)\n",
      "CPU50              200727389      instructions              #    0.23  insn per cycle           (75.02%)\n",
      "CPU51              242567702      instructions              #    0.41  insn per cycle           (75.05%)\n",
      "CPU52              219152014      instructions              #    0.33  insn per cycle           (75.02%)\n",
      "CPU53              267257072      instructions              #    0.36  insn per cycle           (75.06%)\n",
      "CPU54              241177711      instructions              #    0.32  insn per cycle           (75.00%)\n",
      "CPU55              304462276      instructions              #    0.40  insn per cycle           (75.05%)\n",
      "CPU56              329979148      instructions              #    0.47  insn per cycle           (75.05%)\n",
      "CPU57              237650625      instructions              #    0.21  insn per cycle           (75.03%)\n",
      "CPU58              417606504      instructions              #    0.39  insn per cycle           (75.06%)\n",
      "CPU59             5413582708      instructions              #    4.26  insn per cycle           (75.03%)\n",
      "CPU60              316025068      instructions              #    0.40  insn per cycle           (75.06%)\n",
      "CPU61              255783971      instructions              #    0.40  insn per cycle           (75.04%)\n",
      "CPU62              233322269      instructions              #    0.42  insn per cycle           (75.04%)\n",
      "CPU63              642256222      instructions              #    0.62  insn per cycle           (75.07%)\n",
      "CPU0                 9002543      cache-references                                              (75.17%)\n",
      "CPU1                 5681354      cache-references                                              (75.18%)\n",
      "CPU2                 6386740      cache-references                                              (75.17%)\n",
      "CPU3                 5727618      cache-references                                              (75.18%)\n",
      "CPU4                 5489871      cache-references                                              (75.18%)\n",
      "CPU5                 4026965      cache-references                                              (75.19%)\n",
      "CPU6                 6868116      cache-references                                              (75.17%)\n",
      "CPU7                 5600311      cache-references                                              (75.17%)\n",
      "CPU8                 5555463      cache-references                                              (75.18%)\n",
      "CPU9                 5274951      cache-references                                              (75.19%)\n",
      "CPU10                5244564      cache-references                                              (75.18%)\n",
      "CPU11                5914163      cache-references                                              (75.17%)\n",
      "CPU12                6486930      cache-references                                              (75.17%)\n",
      "CPU13               39610272      cache-references                                              (75.19%)\n",
      "CPU14                8441067      cache-references                                              (75.18%)\n",
      "CPU15                5460159      cache-references                                              (75.18%)\n",
      "CPU16               30171951      cache-references                                              (75.19%)\n",
      "CPU17               10448644      cache-references                                              (75.20%)\n",
      "CPU18                5768630      cache-references                                              (75.16%)\n",
      "CPU19                5508731      cache-references                                              (75.20%)\n",
      "CPU20                5987239      cache-references                                              (75.16%)\n",
      "CPU21                3893252      cache-references                                              (75.20%)\n",
      "CPU22                5327071      cache-references                                              (75.12%)\n",
      "CPU23                5410116      cache-references                                              (75.19%)\n",
      "CPU24                8434601      cache-references                                              (75.18%)\n",
      "CPU25                5353168      cache-references                                              (75.18%)\n",
      "CPU26                5693263      cache-references                                              (75.21%)\n",
      "CPU27                5124669      cache-references                                              (75.17%)\n",
      "CPU28                5441628      cache-references                                              (75.20%)\n",
      "CPU29                5633246      cache-references                                              (75.18%)\n",
      "CPU30                5607700      cache-references                                              (75.19%)\n",
      "CPU31                5478802      cache-references                                              (75.20%)\n",
      "CPU32                7930418      cache-references                                              (75.02%)\n",
      "CPU33                6071073      cache-references                                              (75.02%)\n",
      "CPU34                8645053      cache-references                                              (75.02%)\n",
      "CPU35                5935129      cache-references                                              (75.02%)\n",
      "CPU36                5637507      cache-references                                              (75.02%)\n",
      "CPU37                5153581      cache-references                                              (75.04%)\n",
      "CPU38                5514512      cache-references                                              (75.01%)\n",
      "CPU39                5374302      cache-references                                              (75.02%)\n",
      "CPU40                7435696      cache-references                                              (75.02%)\n",
      "CPU41                7292380      cache-references                                              (75.03%)\n",
      "CPU42                5685247      cache-references                                              (75.02%)\n",
      "CPU43                5483626      cache-references                                              (75.18%)\n",
      "CPU44                5328685      cache-references                                              (75.18%)\n",
      "CPU45               10293847      cache-references                                              (75.17%)\n",
      "CPU46                5969164      cache-references                                              (75.15%)\n",
      "CPU47                6325654      cache-references                                              (75.18%)\n",
      "CPU48               29191742      cache-references                                              (75.16%)\n",
      "CPU49               11900924      cache-references                                              (75.18%)\n",
      "CPU50                5039551      cache-references                                              (75.17%)\n",
      "CPU51                5244504      cache-references                                              (75.17%)\n",
      "CPU52                5645600      cache-references                                              (75.18%)\n",
      "CPU53                3587385      cache-references                                              (75.16%)\n",
      "CPU54                4834507      cache-references                                              (75.23%)\n",
      "CPU55                3803256      cache-references                                              (75.16%)\n",
      "CPU56                4763792      cache-references                                              (75.15%)\n",
      "CPU57                6922176      cache-references                                              (75.20%)\n",
      "CPU58                5754457      cache-references                                              (75.17%)\n",
      "CPU59               24683077      cache-references                                              (75.17%)\n",
      "CPU60                4740145      cache-references                                              (75.16%)\n",
      "CPU61                5619689      cache-references                                              (75.19%)\n",
      "CPU62                5244725      cache-references                                              (75.18%)\n",
      "CPU63               11929988      cache-references                                              (75.15%)\n",
      "CPU0                  266298      cache-misses              #    3.734 % of all cache refs      (75.04%)\n",
      "CPU1                  358649      cache-misses              #    5.120 % of all cache refs      (75.05%)\n",
      "CPU2                  272473      cache-misses              #    3.648 % of all cache refs      (75.07%)\n",
      "CPU3                  296092      cache-misses              #    4.586 % of all cache refs      (75.06%)\n",
      "CPU4                  296943      cache-misses              #    4.974 % of all cache refs      (75.05%)\n",
      "CPU5                  328062      cache-misses              #    4.043 % of all cache refs      (75.05%)\n",
      "CPU6                  339442      cache-misses              #    4.612 % of all cache refs      (75.07%)\n",
      "CPU7                  258666      cache-misses              #    4.578 % of all cache refs      (75.07%)\n",
      "CPU8                  300687      cache-misses              #    4.378 % of all cache refs      (75.07%)\n",
      "CPU9                  323951      cache-misses              #    4.561 % of all cache refs      (75.06%)\n",
      "CPU10                 269193      cache-misses              #    4.662 % of all cache refs      (75.07%)\n",
      "CPU11                 409849      cache-misses              #    2.561 % of all cache refs      (75.08%)\n",
      "CPU12                 714230      cache-misses              #    9.117 % of all cache refs      (75.09%)\n",
      "CPU13                2648105      cache-misses              #   18.865 % of all cache refs      (75.07%)\n",
      "CPU14                 258556      cache-misses              #    3.646 % of all cache refs      (75.06%)\n",
      "CPU15                 366157      cache-misses              #    5.950 % of all cache refs      (75.09%)\n",
      "CPU16                 367294      cache-misses              #    3.828 % of all cache refs      (75.07%)\n",
      "CPU17                 413280      cache-misses              #    5.726 % of all cache refs      (75.09%)\n",
      "CPU18                 311215      cache-misses              #    6.702 % of all cache refs      (75.08%)\n",
      "CPU19                 353411      cache-misses              #    7.999 % of all cache refs      (75.08%)\n",
      "CPU20                 364726      cache-misses              #    6.585 % of all cache refs      (75.10%)\n",
      "CPU21                 217318      cache-misses              #    4.898 % of all cache refs      (75.08%)\n",
      "CPU22                 248419      cache-misses              #    4.991 % of all cache refs      (75.15%)\n",
      "CPU23                 492766      cache-misses              #    6.830 % of all cache refs      (75.09%)\n",
      "CPU24                 719838      cache-misses              #   11.082 % of all cache refs      (75.09%)\n",
      "CPU25                 161576      cache-misses              #    3.741 % of all cache refs      (75.11%)\n",
      "CPU26                 413501      cache-misses              #    9.462 % of all cache refs      (75.10%)\n",
      "CPU27                 488425      cache-misses              #    9.516 % of all cache refs      (75.12%)\n",
      "CPU28                 392852      cache-misses              #    7.650 % of all cache refs      (75.11%)\n",
      "CPU29                 257335      cache-misses              #    5.365 % of all cache refs      (75.13%)\n",
      "CPU30                 234761      cache-misses              #    5.599 % of all cache refs      (75.13%)\n",
      "CPU31                 434083      cache-misses              #    4.165 % of all cache refs      (75.10%)\n",
      "CPU32                 270779      cache-misses              #    1.671 % of all cache refs      (75.12%)\n",
      "CPU33                 498121      cache-misses              #    6.488 % of all cache refs      (75.11%)\n",
      "CPU34                1290991      cache-misses              #   17.469 % of all cache refs      (75.14%)\n",
      "CPU35                 285541      cache-misses              #    3.883 % of all cache refs      (75.13%)\n",
      "CPU36                 367104      cache-misses              #    3.506 % of all cache refs      (75.13%)\n",
      "CPU37                 458045      cache-misses              #    8.168 % of all cache refs      (75.12%)\n",
      "CPU38                 266462      cache-misses              #    4.099 % of all cache refs      (75.15%)\n",
      "CPU39                 136444      cache-misses              #    1.987 % of all cache refs      (75.15%)\n",
      "CPU40                1225117      cache-misses              #   16.727 % of all cache refs      (75.15%)\n",
      "CPU41                 454621      cache-misses              #    6.326 % of all cache refs      (75.16%)\n",
      "CPU42                 330938      cache-misses              #    5.147 % of all cache refs      (75.16%)\n",
      "CPU43                 528505      cache-misses              #    9.190 % of all cache refs      (75.02%)\n",
      "CPU44                 227506      cache-misses              #    1.308 % of all cache refs      (75.02%)\n",
      "CPU45                 642932      cache-misses              #    7.902 % of all cache refs      (75.00%)\n",
      "CPU46                 313037      cache-misses              #    3.972 % of all cache refs      (75.02%)\n",
      "CPU47                 458459      cache-misses              #    6.207 % of all cache refs      (75.00%)\n",
      "CPU48                 359009      cache-misses              #    3.371 % of all cache refs      (75.02%)\n",
      "CPU49                 312276      cache-misses              #    4.953 % of all cache refs      (74.98%)\n",
      "CPU50                 560804      cache-misses              #    9.879 % of all cache refs      (75.04%)\n",
      "CPU51                 562633      cache-misses              #   13.519 % of all cache refs      (75.02%)\n",
      "CPU52                 395583      cache-misses              #    8.619 % of all cache refs      (75.02%)\n",
      "CPU53                 120750      cache-misses              #    2.646 % of all cache refs      (74.99%)\n",
      "CPU54                 257282      cache-misses              #    6.428 % of all cache refs      (75.00%)\n",
      "CPU55                  61695      cache-misses              #    0.912 % of all cache refs      (75.02%)\n",
      "CPU56                  41298      cache-misses              #    0.948 % of all cache refs      (75.03%)\n",
      "CPU57                 428652      cache-misses              #    4.412 % of all cache refs      (75.00%)\n",
      "CPU58                 592027      cache-misses              #    6.715 % of all cache refs      (75.03%)\n",
      "CPU59                2632955      cache-misses              #   24.908 % of all cache refs      (75.04%)\n",
      "CPU60                  88931      cache-misses              #    1.831 % of all cache refs      (75.03%)\n",
      "CPU61                 166627      cache-misses              #    4.670 % of all cache refs      (74.99%)\n",
      "CPU62                 279115      cache-misses              #    7.239 % of all cache refs      (75.04%)\n",
      "CPU63                 484337      cache-misses              #    6.751 % of all cache refs      (75.06%)\n",
      "\n",
      "            2.4230 +- 0.0622 seconds time elapsed  ( +-  2.57% )\n",
      "\n"
     ]
    }
   ],
   "source": [
    "%%bash\n",
    "perf stat -S --all-cpus -A -e cycles,instructions,cache-references,cache-misses -r 5 python3 mult_matrix_matrix_numpy_dot_product_gaxpy.py"
   ]
  },
  {
   "cell_type": "markdown",
   "metadata": {},
   "source": [
    "```{admonition} Comentario\n",
    "\n",
    "Se cumple lo mencionado en {ref}`operaciones típicas del álgebra lineal y los *flops* que realizan <OPERTIPICASALGLINEALYFLOPS>`.\n",
    "\n",
    "```"
   ]
  },
  {
   "cell_type": "markdown",
   "metadata": {},
   "source": [
    "```{admonition} Ejercicio\n",
    ":class: tip\n",
    "\n",
    "Perfilar la implementación de multiplicación por bloques en *Python* y *R* con `perf`.\n",
    "\n",
    "```"
   ]
  },
  {
   "cell_type": "markdown",
   "metadata": {},
   "source": [
    "## Otras herramientas para perfilamiento"
   ]
  },
  {
   "cell_type": "markdown",
   "metadata": {},
   "source": [
    "* [pmc-cloud-tools](https://github.com/brendangregg/pmc-cloud-tools) que ayuda a la medición de uso de CPU en el sistema operativo GNU/Linux.\n",
    "\n",
    "* Una de las dependencias de *line_profiler* es [psutil](https://pypi.org/project/psutil/) que ayuda al monitoreo y manejo de procesos y monitoreo del sistema computacional.\n",
    "\n",
    "* Herramientas para monitoreo de memoria en *Python*: \n",
    "\n",
    "    * [filprofiler](https://github.com/pythonspeed/filprofiler)\n",
    "    \n",
    "    * [tracemalloc](https://docs.python.org/3/library/tracemalloc.html)\n",
    "    \n",
    "    * [pympler](https://github.com/pympler/pympler) que contiene [muppy](https://pympler.readthedocs.io/en/latest/muppy.html#muppy) para identificar *memory leaks*.\n",
    "    \n",
    "    \n",
    "* [resource](https://docs.python.org/3/library/resource.html) para medición y control de recursos del sistema utilizados por un programa en *Python*.\n",
    "\n"
   ]
  },
  {
   "cell_type": "markdown",
   "metadata": {},
   "source": [
    "```{admonition} Ejercicios\n",
    ":class: tip\n",
    "\n",
    "1.Resuelve los ejercicios y preguntas de la nota.\n",
    "```\n"
   ]
  },
  {
   "cell_type": "markdown",
   "metadata": {},
   "source": [
    "**Referencias:**\n",
    "\n",
    "1. M. Gorelick, I. Ozsvald, High Performance Python, O'Reilly Media, 2014.\n",
    "\n",
    "2. E. Anderson, Z. Bai, C. Bischof, L. S. Blackford, J. Demmel, J. Dongarra, J. Du Croz,\n",
    "A. Greenbaum, S. Hammarling, A. Mckenney and D. Sorensen, LAPACK Users Guide, Society for Industrial and Applied Mathematics, Philadelphia, PA, third ed., 1999.\n",
    "\n",
    "3. G. H. Golub, C. F. Van Loan, Matrix Computations, John Hopkins University Press, 2013."
   ]
  }
 ],
 "metadata": {
  "kernelspec": {
   "display_name": "Python 3",
   "language": "python",
   "name": "python3"
  },
  "language_info": {
   "codemirror_mode": {
    "name": "ipython",
    "version": 3
   },
   "file_extension": ".py",
   "mimetype": "text/x-python",
   "name": "python",
   "nbconvert_exporter": "python",
   "pygments_lexer": "ipython3",
   "version": "3.7.3"
  }
 },
 "nbformat": 4,
 "nbformat_minor": 4
}
