{
 "cells": [
  {
   "cell_type": "markdown",
   "metadata": {},
   "source": [
    "(COMPC)="
   ]
  },
  {
   "cell_type": "markdown",
   "metadata": {},
   "source": [
    "# 5.3 Compilación a C"
   ]
  },
  {
   "cell_type": "markdown",
   "metadata": {},
   "source": [
    "```{admonition} Notas para contenedor de docker:\n",
    "\n",
    "Comando de docker para ejecución de la nota de forma local:\n",
    "\n",
    "nota: cambiar `<ruta a mi directorio>` por la ruta de directorio que se desea mapear a `/datos` dentro del contenedor de docker.\n",
    "\n",
    "`docker run --rm -v <ruta a mi directorio>:/datos --name jupyterlab_optimizacion_2 -p 8888:8888 -p 8787:8787 -d palmoreck/jupyterlab_optimizacion_2:3.0.0`\n",
    "\n",
    "password para jupyterlab: `qwerty`\n",
    "\n",
    "Detener el contenedor de docker:\n",
    "\n",
    "`docker stop jupyterlab_optimizacion_2`\n",
    "\n",
    "Documentación de la imagen de docker `palmoreck/jupyterlab_optimizacion_2:3.0.0` en [liga](https://github.com/palmoreck/dockerfiles/tree/master/jupyterlab/optimizacion_2).\n",
    "\n",
    "```"
   ]
  },
  {
   "cell_type": "markdown",
   "metadata": {},
   "source": [
    "---"
   ]
  },
  {
   "cell_type": "markdown",
   "metadata": {},
   "source": [
    "```{admonition} Al final de esta nota el y la lectora:\n",
    ":class: tip\n",
    "\n",
    "* \n",
    "\n",
    "```"
   ]
  },
  {
   "cell_type": "markdown",
   "metadata": {},
   "source": [
    "Los lenguajes de programación y sus implementaciones pueden tener características como las siguientes:\n",
    "\n",
    "* Realizar un *parsing* de las instrucciones y ejecutar las acciones de forma casi inmediata (intérprete). Como ejemplo está [Beginners' All-purpose Symbolic Instruction Code: BASIC](https://en.wikipedia.org/wiki/BASIC)\n",
    "\n",
    "* Realizar un *parsing* de las instrucciones, traducir a una [representación intermedia](https://en.wikipedia.org/wiki/Intermediate_representation) y ejecutar las acciones. Como ejemplo se encuentra *Python* en su implementación *CPython*. La interpretación de código intermedia es un [bytecode](https://en.wikipedia.org/wiki/Bytecode).\n",
    "\n",
    "* Compilar [ahead of time](https://en.wikipedia.org/wiki/Ahead-of-time_compilation) las instrucciones antes de su ejecución. Como ejemplo se encuentran *C, C++* y *Fortran*.\n",
    "\n",
    "* Realizar un *parsing* de las instrucciones y compilar las instrucciones en una forma [just in time compilation](https://en.wikipedia.org/wiki/Just-in-time_compilation) y *at* [runtime](https://en.wikipedia.org/wiki/Runtime_(program_lifecycle_phase)). Como ejemplos se encuentran *Julia* y *Python* en su implementación con [PyPy](https://en.wikipedia.org/wiki/PyPy).\n",
    "\n",
    "La ejecución de instrucciones en los lenguajes de programación será más rápida dependiendo del lenguaje, la implementación que se utilice del mismo y *features* que tenga el lenguaje. "
   ]
  },
  {
   "cell_type": "markdown",
   "metadata": {},
   "source": [
    "## Python"
   ]
  },
  {
   "cell_type": "code",
   "execution_count": 1,
   "metadata": {},
   "outputs": [
    {
     "name": "stdout",
     "output_type": "stream",
     "text": [
      "Writing Rcf_python.py\n"
     ]
    }
   ],
   "source": [
    "%%file Rcf_python.py\n",
    "import math\n",
    "import time\n",
    "def Rcf(f,a,b,n): #Rcf: rectángulo compuesto para f\n",
    "    \"\"\"\n",
    "    Compute numerical approximation using rectangle or mid-point\n",
    "    method in an interval.\n",
    "    Nodes are generated via formula: x_i = a+(i+1/2)h_hat for\n",
    "    i=0,1,...,n-1 and h_hat=(b-a)/n\n",
    "    Args:\n",
    "    \n",
    "        f (float): function expression of integrand.\n",
    "        \n",
    "        a (float): left point of interval.\n",
    "        \n",
    "        b (float): right point of interval.\n",
    "        \n",
    "        n (float): number of subintervals.\n",
    "        \n",
    "    Returns:\n",
    "    \n",
    "        sum_res (float): numerical approximation to integral\n",
    "            of f in the interval a,b\n",
    "    \"\"\"\n",
    "    h_hat = (b-a)/n\n",
    "    sum_res = 0\n",
    "    for i in range(n):\n",
    "        x = a + (i + 1/2)*h_hat\n",
    "        sum_res += f(x)\n",
    "    return h_hat*sum_res\n",
    "\n",
    "if __name__ == \"__main__\":   \n",
    "    n = 10**7\n",
    "    f = lambda x: math.exp(-x**2)\n",
    "    a = 0\n",
    "    b = 1\n",
    "    start_time = time.time()\n",
    "    res = Rcf(f,a,b,n)\n",
    "    end_time = time.time()\n",
    "    secs = end_time-start_time\n",
    "    print(\"Rcf tomó\", secs, \"segundos\" )"
   ]
  },
  {
   "cell_type": "code",
   "execution_count": 2,
   "metadata": {},
   "outputs": [
    {
     "name": "stdout",
     "output_type": "stream",
     "text": [
      "Rcf tomó 3.4265081882476807 segundos\n"
     ]
    }
   ],
   "source": [
    "%%bash\n",
    "python3 Rcf_python.py"
   ]
  },
  {
   "cell_type": "markdown",
   "metadata": {},
   "source": [
    "## C"
   ]
  },
  {
   "cell_type": "markdown",
   "metadata": {},
   "source": [
    "Para la medición de tiempos se utilizaron las ligas: [liga](https://stackoverflow.com/questions/16764276/measuring-time-in-millisecond-precision) y [liga2](https://www.techiedelight.com/find-execution-time-c-program/)."
   ]
  },
  {
   "cell_type": "code",
   "execution_count": 3,
   "metadata": {},
   "outputs": [
    {
     "name": "stdout",
     "output_type": "stream",
     "text": [
      "Writing Rcf_c.c\n"
     ]
    }
   ],
   "source": [
    "%%file Rcf_c.c\n",
    "#include<stdio.h>\n",
    "#include<stdlib.h>\n",
    "#include<math.h>\n",
    "#include<time.h>\n",
    "#include <sys/time.h>\n",
    "\n",
    "void Rcf(double ext_izq, double ext_der, int n,\\\n",
    "    double *suma_global_p);\n",
    "double f(double nodo);\n",
    "int main(int argc, char *argv[]){\n",
    "    double suma_global = 0.0;\n",
    "    double a = 0.0, b = 1.0;\n",
    "    int n = 1e7;\n",
    "    struct timeval start;\n",
    "    struct timeval end;\n",
    "    long seconds;\n",
    "    long long mili;\n",
    "    \n",
    "    gettimeofday(&start, NULL);\n",
    "    Rcf(a,b,n,&suma_global);\n",
    "    gettimeofday(&end, NULL);\n",
    "    seconds = (end.tv_sec - start.tv_sec);\n",
    "    mili = 1000*(seconds) + (end.tv_usec - start.tv_usec)/1000;    \n",
    "    printf(\"Tiempo de ejecución: %lld milisegundos\", mili);\n",
    "    \n",
    "    return 0;\n",
    "}\n",
    "void Rcf(double a, double b, int n, double *sum){\n",
    "    double h_hat = (b-a)/n;\n",
    "    double x = 0.0;\n",
    "    int i = 0;\n",
    "    *sum = 0.0;\n",
    "    for(i = 0; i <= n-1; i++){\n",
    "        x = a + (i + 1/2.0)*h_hat;\n",
    "        *sum += f(x);\n",
    "    }\n",
    "    *sum = h_hat*(*sum);\n",
    "}\n",
    "double f(double nodo){\n",
    "    double valor_f;\n",
    "    valor_f = exp(-pow(nodo,2));\n",
    "    return valor_f;\n",
    "}\n"
   ]
  },
  {
   "cell_type": "code",
   "execution_count": 4,
   "metadata": {},
   "outputs": [],
   "source": [
    "%%bash\n",
    "gcc -Wall Rcf_c.c -o Rcf_c.out -lm"
   ]
  },
  {
   "cell_type": "code",
   "execution_count": 5,
   "metadata": {},
   "outputs": [
    {
     "name": "stdout",
     "output_type": "stream",
     "text": [
      "Tiempo de ejecución: 482 milisegundos"
     ]
    }
   ],
   "source": [
    "%%bash\n",
    "./Rcf_c.out"
   ]
  },
  {
   "cell_type": "markdown",
   "metadata": {},
   "source": [
    "## R"
   ]
  },
  {
   "cell_type": "code",
   "execution_count": 6,
   "metadata": {},
   "outputs": [
    {
     "name": "stdout",
     "output_type": "stream",
     "text": [
      "Writing Rcf_R.R\n"
     ]
    }
   ],
   "source": [
    "%%file Rcf_R.R\n",
    "library(tictoc)\n",
    "Rcf<-function(f,a,b,n){\n",
    "    '\n",
    "    Compute numerical approximation using rectangle or mid-point\n",
    "    method in an interval.\n",
    "    \n",
    "    Nodes are generated via formula: x_i = a+(i+1/2)h_hat for\n",
    "    i=0,1,...,n-1 and h_hat=(b-a)/n\n",
    "    Args:\n",
    "    \n",
    "        f (float): function expression of integrand.\n",
    "        \n",
    "        a (float): left point of interval.\n",
    "        \n",
    "        b (float): right point of interval.\n",
    "        \n",
    "        n (float): number of subintervals.\n",
    "        \n",
    "    Returns:\n",
    "    \n",
    "        sum_res (float): numerical approximation to integral\n",
    "            of f in the interval a,b\n",
    "    '\n",
    "    \n",
    "    h_hat <- (b-a)/n\n",
    "    sum_res <- 0\n",
    "    for(i in 0:(n-1)){\n",
    "        x <- a + (i + 1/2)*h_hat\n",
    "        sum_res <- sum_res + f(x)\n",
    "    }\n",
    "    approx <- h_hat*sum_res\n",
    "}\n",
    "n <- 10**7\n",
    "f <- function(x)exp(-x^2)\n",
    "a <- 0\n",
    "b <- 1\n",
    "tic(\"Rcf tomó\")\n",
    "Rcf(f,a,b,n)\n",
    "toc()"
   ]
  },
  {
   "cell_type": "code",
   "execution_count": 7,
   "metadata": {},
   "outputs": [
    {
     "name": "stdout",
     "output_type": "stream",
     "text": [
      "Rcf tomó: 5.568 sec elapsed\n"
     ]
    }
   ],
   "source": [
    "%%bash\n",
    "Rscript Rcf_R.R"
   ]
  },
  {
   "cell_type": "markdown",
   "metadata": {},
   "source": [
    "## Julia"
   ]
  },
  {
   "cell_type": "code",
   "execution_count": 8,
   "metadata": {},
   "outputs": [
    {
     "name": "stdout",
     "output_type": "stream",
     "text": [
      "Writing Rcf_julia.jl\n"
     ]
    }
   ],
   "source": [
    "%%file Rcf_julia.jl\n",
    "\"\"\"\n",
    "Compute numerical approximation using rectangle or mid-point\n",
    "method in an interval.\n",
    "\n",
    "# Arguments\n",
    "\n",
    "- `f::Float`: function expression of integrand.\n",
    "- `a::Integer`: left point of interval.\n",
    "- `b::Integer`: right point of interval.\n",
    "- `n::Integer`: number of subintervals.\n",
    "\"\"\"\n",
    "function Rcf(f, a, b, n)\n",
    "    h_hat = (b-a)/n\n",
    "    sum_res = 0\n",
    "    for i in 0:n-1\n",
    "        x = a + (i + 1/2)*h_hat\n",
    "        sum_res += f(x)\n",
    "    end    \n",
    "    return h_hat*sum_res\n",
    "end\n",
    "function main()\n",
    "    a = 0\n",
    "    b = 1\n",
    "    n =10^7\n",
    "    f(x) = exp(-x^2)\n",
    "    @time Rcf(f, a, b, n)\n",
    "    @time Rcf(f, a, b, n)\n",
    "end\n",
    "\n",
    "main()"
   ]
  },
  {
   "cell_type": "code",
   "execution_count": 9,
   "metadata": {},
   "outputs": [
    {
     "name": "stdout",
     "output_type": "stream",
     "text": [
      "  0.228430 seconds\n",
      "  0.228310 seconds\n"
     ]
    }
   ],
   "source": [
    "%%bash\n",
    "/usr/local/julia-1.6.0/bin/julia Rcf_julia.jl"
   ]
  },
  {
   "cell_type": "code",
   "execution_count": 10,
   "metadata": {},
   "outputs": [
    {
     "name": "stdout",
     "output_type": "stream",
     "text": [
      "Writing Rcf_julia_typed_values.jl\n"
     ]
    }
   ],
   "source": [
    "%%file Rcf_julia_typed_values.jl\n",
    "\"\"\"\n",
    "Compute numerical approximation using rectangle or mid-point\n",
    "method in an interval.\n",
    "\n",
    "# Arguments\n",
    "\n",
    "- `f::Float`: function expression of integrand.\n",
    "- `a::Integer`: left point of interval.\n",
    "- `b::Integer`: right point of interval.\n",
    "- `n::Integer`: number of subintervals.\n",
    "\"\"\"\n",
    "function Rcf(f, a, b, n)\n",
    "    h_hat = (b-a)/n\n",
    "    sum_res = 0.0\n",
    "    for i in 0:n-1\n",
    "        x = a + (i + 1/2)*h_hat\n",
    "        sum_res += f(x)\n",
    "    end    \n",
    "    return h_hat*sum_res\n",
    "end\n",
    "function main()\n",
    "    a = 0\n",
    "    b = 1\n",
    "    n =10^7\n",
    "    f(x) = exp(-x^2)\n",
    "    @time Rcf(f, a, b, n)\n",
    "    @time Rcf(f, a, b, n)    \n",
    "end\n",
    "\n",
    "main()"
   ]
  },
  {
   "cell_type": "code",
   "execution_count": 11,
   "metadata": {},
   "outputs": [
    {
     "name": "stdout",
     "output_type": "stream",
     "text": [
      "  0.092623 seconds\n",
      "  0.092402 seconds\n"
     ]
    }
   ],
   "source": [
    "%%bash\n",
    "/usr/local/julia-1.6.0/bin/julia Rcf_julia_typed_values.jl"
   ]
  },
  {
   "cell_type": "markdown",
   "metadata": {},
   "source": [
    "## [cython](https://cython.org/)"
   ]
  },
  {
   "cell_type": "code",
   "execution_count": null,
   "metadata": {},
   "outputs": [],
   "source": []
  },
  {
   "cell_type": "markdown",
   "metadata": {},
   "source": [
    "## Referencias de interés"
   ]
  },
  {
   "cell_type": "markdown",
   "metadata": {},
   "source": [
    "* [introduction to cython](http://okigiveup.net/an-introduction-to-cython/).\n",
    "\n",
    "* [Basic cython tutorial](https://cython.readthedocs.io/en/latest/src/tutorial/cython_tutorial.html)\n",
    "\n",
    "* [Source files and compilation](https://cython.readthedocs.io/en/latest/src/userguide/source_files_and_compilation.html)\n",
    "\n",
    "* [Compiling with a jupyter notebook](https://cython.readthedocs.io/en/latest/src/userguide/source_files_and_compilation.html#compiling-with-a-jupyter-notebook)\n",
    "\n",
    "* [Dirk Eddelbuettel: rcpp ](http://dirk.eddelbuettel.com/code/rcpp.html).\n",
    "\n",
    "* [Rcpp for everyone](https://teuder.github.io/rcpp4everyone_en/).\n",
    "\n",
    "* [Introduction to rcpp:From Simple Examples to Machine Learning](http://dirk.eddelbuettel.com/papers/rcpp_rfinance_may2017.pdf).\n",
    "\n",
    "* [Rcpp note](http://yixuan.cos.name/rcpp-note/index.html).\n",
    "\n",
    "* [Rcpp quick reference guide](http://dirk.eddelbuettel.com/code/rcpp/Rcpp-quickref.pdf).\n",
    "\n",
    "* [Learncpp](https://www.learncpp.com/).\n",
    "\n",
    "* [Cplusplus](http://www.cplusplus.com/)."
   ]
  },
  {
   "cell_type": "markdown",
   "metadata": {},
   "source": [
    "```{admonition} Ejercicios\n",
    ":class: tip\n",
    "\n",
    "1.Resuelve los ejercicios y preguntas de la nota.\n",
    "```\n"
   ]
  },
  {
   "cell_type": "markdown",
   "metadata": {},
   "source": [
    "**Referencias:**\n",
    "\n",
    "1. M. Gorelick, I. Ozsvald, High Performance Python, O'Reilly Media, 2014.\n",
    "\n",
    "2. [H. Wickham, Advanced R, 2014](http://adv-r.had.co.nz/Rcpp.html)\n"
   ]
  }
 ],
 "metadata": {
  "kernelspec": {
   "display_name": "Python 3",
   "language": "python",
   "name": "python3"
  },
  "language_info": {
   "codemirror_mode": {
    "name": "ipython",
    "version": 3
   },
   "file_extension": ".py",
   "mimetype": "text/x-python",
   "name": "python",
   "nbconvert_exporter": "python",
   "pygments_lexer": "ipython3",
   "version": "3.8.5"
  }
 },
 "nbformat": 4,
 "nbformat_minor": 4
}
