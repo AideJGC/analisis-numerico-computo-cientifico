{
 "cells": [
  {
   "cell_type": "markdown",
   "id": "2ab2049a-6e19-4ad9-bac9-b65dbb879b93",
   "metadata": {},
   "source": [
    "## 4. Motivación\n",
    "\n",
    "Como se mencionó en la sección XX, una de las aplicaciones generales más importantes del PCA es la reducción de dimensionalidad. Ésta a su vez es de múltiple utilidad en diversos contextos de la ciencia de datos que van desde la  hasta la compresión de imágenes."
   ]
  },
  {
   "cell_type": "markdown",
   "id": "781b66f7-522d-4466-82b1-1da55cb6cfeb",
   "metadata": {},
   "source": [
    "En el caso de este presente trabajo nos interesa probar el funcionamiento de algoritmos utilizados en el curso para reducir dimensionalidad a través de PCA, aplicados a la compresión de imágenes. Se busca lograr los resultados consistentes con lo obtenido con las paqueterías de python comúmnente utilizadas para resolver estos problemas (`linalg` y `scikit-learn`).\n",
    "\n",
    "En la práctica del DeepLearning, es común utilizar imágenes para entrenar modelos de redes neuronales, para reconocimiento de imágenes, entre otros. Para ello se utilizan una gran cantidad de imagénes voluminosas para entrenar los modelos, lo cual afecta los tiempos de procesamiento.\n",
    "\n",
    "En un contexto de recursos limitados, resulta de gran utilidad procesar las imágenes para comprimirlas (reducir la dimensionalidad) y lograr eficiencia en los procesos sin afectar la calidad de las imágenes, obteniendo así resultados muy similares con mayor eficiencia."
   ]
  },
  {
   "cell_type": "markdown",
   "id": "a240deb6-6d84-4427-8de0-852fd7eb1056",
   "metadata": {},
   "source": [
    "Fuentes:\n",
    "\n",
    "1. On the Applications of Robust PCA in Image and Video Processing [https://ieeexplore.ieee.org/document/8425659]\n",
    "2. Application of Principal Component Analysis to Image Compression [https://www.intechopen.com/chapters/59936]\n",
    "3. Principal Component Analysis in Image Processing [https://www2.humusoft.cz/www/papers/tcp05/mudrova.pdf]\n",
    "4. Using Compression to Speed Up Image Classification in Artificial Neural Networks [https://www.danfu.org/files/CompressionImageClassification.pdf]"
   ]
  },
  {
   "cell_type": "code",
   "execution_count": null,
   "id": "518dae01-d609-4119-9021-5e1016e19dfc",
   "metadata": {},
   "outputs": [],
   "source": []
  }
 ],
 "metadata": {
  "kernelspec": {
   "display_name": "Python 3 (ipykernel)",
   "language": "python",
   "name": "python3"
  },
  "language_info": {
   "codemirror_mode": {
    "name": "ipython",
    "version": 3
   },
   "file_extension": ".py",
   "mimetype": "text/x-python",
   "name": "python",
   "nbconvert_exporter": "python",
   "pygments_lexer": "ipython3",
   "version": "3.8.10"
  }
 },
 "nbformat": 4,
 "nbformat_minor": 5
}
