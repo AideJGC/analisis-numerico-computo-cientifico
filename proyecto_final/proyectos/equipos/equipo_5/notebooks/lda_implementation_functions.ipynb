{
 "cells": [
  {
   "cell_type": "code",
   "execution_count": 1,
   "metadata": {
    "ExecuteTime": {
     "end_time": "2021-12-09T03:30:04.101537Z",
     "start_time": "2021-12-09T03:30:04.091474Z"
    }
   },
   "outputs": [],
   "source": [
    "import os\n",
    "os.chdir(\"../\")"
   ]
  },
  {
   "cell_type": "code",
   "execution_count": 2,
   "metadata": {
    "ExecuteTime": {
     "end_time": "2021-12-09T03:30:06.019175Z",
     "start_time": "2021-12-09T03:30:04.378070Z"
    }
   },
   "outputs": [],
   "source": [
    "import pandas as pd\n",
    "import numpy as np\n",
    "from sklearn.preprocessing import MinMaxScaler\n",
    "from codigo.lda import lda_f\n",
    "from matplotlib import pyplot as plt\n",
    "\n",
    "np.set_printoptions(precision=4)"
   ]
  },
  {
   "cell_type": "code",
   "execution_count": 3,
   "metadata": {
    "ExecuteTime": {
     "end_time": "2021-12-09T03:30:06.065708Z",
     "start_time": "2021-12-09T03:30:06.029605Z"
    }
   },
   "outputs": [],
   "source": [
    "df = pd.read_csv(\"data/heart.csv\", sep=\",\") \n",
    "scaler = MinMaxScaler()\n",
    "df=pd.DataFrame(scaler.fit_transform(df),columns=df.columns,index=df.index)"
   ]
  },
  {
   "cell_type": "markdown",
   "metadata": {},
   "source": [
    "## Reducción de dimensionalidad con aproximación QR a eigenvectores y eigenvalores"
   ]
  },
  {
   "cell_type": "code",
   "execution_count": 4,
   "metadata": {
    "ExecuteTime": {
     "end_time": "2021-12-09T03:30:08.678670Z",
     "start_time": "2021-12-09T03:30:06.076423Z"
    }
   },
   "outputs": [],
   "source": [
    "X_lda=lda_f(df=df,target=\"target\",n_features=2,aprox_eigen=True,iterations=10000)"
   ]
  },
  {
   "cell_type": "code",
   "execution_count": 5,
   "metadata": {
    "ExecuteTime": {
     "end_time": "2021-12-09T03:30:08.701294Z",
     "start_time": "2021-12-09T03:30:08.681895Z"
    }
   },
   "outputs": [
    {
     "data": {
      "text/html": [
       "<div>\n",
       "<style scoped>\n",
       "    .dataframe tbody tr th:only-of-type {\n",
       "        vertical-align: middle;\n",
       "    }\n",
       "\n",
       "    .dataframe tbody tr th {\n",
       "        vertical-align: top;\n",
       "    }\n",
       "\n",
       "    .dataframe thead th {\n",
       "        text-align: right;\n",
       "    }\n",
       "</style>\n",
       "<table border=\"1\" class=\"dataframe\">\n",
       "  <thead>\n",
       "    <tr style=\"text-align: right;\">\n",
       "      <th></th>\n",
       "      <th>0</th>\n",
       "      <th>1</th>\n",
       "      <th>target</th>\n",
       "    </tr>\n",
       "  </thead>\n",
       "  <tbody>\n",
       "    <tr>\n",
       "      <th>0</th>\n",
       "      <td>-0.025377</td>\n",
       "      <td>0.762240</td>\n",
       "      <td>1.0</td>\n",
       "    </tr>\n",
       "    <tr>\n",
       "      <th>1</th>\n",
       "      <td>-0.147313</td>\n",
       "      <td>0.472544</td>\n",
       "      <td>1.0</td>\n",
       "    </tr>\n",
       "    <tr>\n",
       "      <th>2</th>\n",
       "      <td>0.157810</td>\n",
       "      <td>0.185379</td>\n",
       "      <td>1.0</td>\n",
       "    </tr>\n",
       "    <tr>\n",
       "      <th>3</th>\n",
       "      <td>0.053635</td>\n",
       "      <td>0.605643</td>\n",
       "      <td>1.0</td>\n",
       "    </tr>\n",
       "    <tr>\n",
       "      <th>4</th>\n",
       "      <td>-0.094121</td>\n",
       "      <td>0.440084</td>\n",
       "      <td>1.0</td>\n",
       "    </tr>\n",
       "  </tbody>\n",
       "</table>\n",
       "</div>"
      ],
      "text/plain": [
       "          0         1  target\n",
       "0 -0.025377  0.762240     1.0\n",
       "1 -0.147313  0.472544     1.0\n",
       "2  0.157810  0.185379     1.0\n",
       "3  0.053635  0.605643     1.0\n",
       "4 -0.094121  0.440084     1.0"
      ]
     },
     "execution_count": 5,
     "metadata": {},
     "output_type": "execute_result"
    }
   ],
   "source": [
    "X_lda.head()"
   ]
  },
  {
   "cell_type": "code",
   "execution_count": 6,
   "metadata": {
    "ExecuteTime": {
     "end_time": "2021-12-09T03:30:09.248623Z",
     "start_time": "2021-12-09T03:30:08.704098Z"
    }
   },
   "outputs": [
    {
     "data": {
      "image/png": "[encoded data removed]",
      "text/plain": [
       "<Figure size 432x288 with 1 Axes>"
      ]
     },
     "metadata": {
      "needs_background": "light"
     },
     "output_type": "display_data"
    }
   ],
   "source": [
    "for label,marker,color in zip(range(0,2),('s', 'o'),('blue', 'green')):\n",
    "    plt.scatter(\n",
    "        x=X_lda[X_lda[\"target\"]==label][0],\n",
    "        y=X_lda[X_lda[\"target\"]==label][1],\n",
    "        marker=marker,\n",
    "        color=color,\n",
    "        alpha=0.5,\n",
    "        label=label\n",
    "    )\n",
    "plt.xlabel('LD1')\n",
    "plt.ylabel('LD2')\n",
    "leg = plt.legend(loc='upper right', fancybox=True)\n",
    "plt.show()"
   ]
  },
  {
   "cell_type": "markdown",
   "metadata": {},
   "source": [
    "## Reducción de dimensionalidad usando linalg.solve de numpy"
   ]
  },
  {
   "cell_type": "code",
   "execution_count": 7,
   "metadata": {
    "ExecuteTime": {
     "end_time": "2021-12-09T03:30:09.395110Z",
     "start_time": "2021-12-09T03:30:09.252332Z"
    }
   },
   "outputs": [],
   "source": [
    "X_lda=lda_f(df=df,target=\"target\",n_features=2,aprox_eigen=False)"
   ]
  },
  {
   "cell_type": "code",
   "execution_count": 8,
   "metadata": {
    "ExecuteTime": {
     "end_time": "2021-12-09T03:30:09.463114Z",
     "start_time": "2021-12-09T03:30:09.413385Z"
    }
   },
   "outputs": [
    {
     "data": {
      "text/html": [
       "<div>\n",
       "<style scoped>\n",
       "    .dataframe tbody tr th:only-of-type {\n",
       "        vertical-align: middle;\n",
       "    }\n",
       "\n",
       "    .dataframe tbody tr th {\n",
       "        vertical-align: top;\n",
       "    }\n",
       "\n",
       "    .dataframe thead th {\n",
       "        text-align: right;\n",
       "    }\n",
       "</style>\n",
       "<table border=\"1\" class=\"dataframe\">\n",
       "  <thead>\n",
       "    <tr style=\"text-align: right;\">\n",
       "      <th></th>\n",
       "      <th>0</th>\n",
       "      <th>1</th>\n",
       "      <th>target</th>\n",
       "    </tr>\n",
       "  </thead>\n",
       "  <tbody>\n",
       "    <tr>\n",
       "      <th>0</th>\n",
       "      <td>-0.025377+0.000000j</td>\n",
       "      <td>0.049859+0.000000j</td>\n",
       "      <td>1.0</td>\n",
       "    </tr>\n",
       "    <tr>\n",
       "      <th>1</th>\n",
       "      <td>-0.147313+0.000000j</td>\n",
       "      <td>-0.222978+0.000000j</td>\n",
       "      <td>1.0</td>\n",
       "    </tr>\n",
       "    <tr>\n",
       "      <th>2</th>\n",
       "      <td>0.157810+0.000000j</td>\n",
       "      <td>-0.806553+0.000000j</td>\n",
       "      <td>1.0</td>\n",
       "    </tr>\n",
       "    <tr>\n",
       "      <th>3</th>\n",
       "      <td>0.053635+0.000000j</td>\n",
       "      <td>-0.600245+0.000000j</td>\n",
       "      <td>1.0</td>\n",
       "    </tr>\n",
       "    <tr>\n",
       "      <th>4</th>\n",
       "      <td>-0.094121+0.000000j</td>\n",
       "      <td>-0.885742+0.000000j</td>\n",
       "      <td>1.0</td>\n",
       "    </tr>\n",
       "  </tbody>\n",
       "</table>\n",
       "</div>"
      ],
      "text/plain": [
       "                    0                   1  target\n",
       "0 -0.025377+0.000000j  0.049859+0.000000j     1.0\n",
       "1 -0.147313+0.000000j -0.222978+0.000000j     1.0\n",
       "2  0.157810+0.000000j -0.806553+0.000000j     1.0\n",
       "3  0.053635+0.000000j -0.600245+0.000000j     1.0\n",
       "4 -0.094121+0.000000j -0.885742+0.000000j     1.0"
      ]
     },
     "execution_count": 8,
     "metadata": {},
     "output_type": "execute_result"
    }
   ],
   "source": [
    "X_lda.head()"
   ]
  },
  {
   "cell_type": "code",
   "execution_count": 9,
   "metadata": {
    "ExecuteTime": {
     "end_time": "2021-12-09T03:30:09.950856Z",
     "start_time": "2021-12-09T03:30:09.471932Z"
    }
   },
   "outputs": [
    {
     "name": "stderr",
     "output_type": "stream",
     "text": [
      "/usr/local/lib/python3.8/dist-packages/numpy/core/_asarray.py:136: ComplexWarning: Casting complex values to real discards the imaginary part\n",
      "  return array(a, dtype, copy=False, order=order, subok=True)\n",
      "/usr/local/lib/python3.8/dist-packages/numpy/core/_asarray.py:136: ComplexWarning: Casting complex values to real discards the imaginary part\n",
      "  return array(a, dtype, copy=False, order=order, subok=True)\n"
     ]
    },
    {
     "data": {
      "image/png": "[encoded data removed]",
      "text/plain": [
       "<Figure size 432x288 with 1 Axes>"
      ]
     },
     "metadata": {
      "needs_background": "light"
     },
     "output_type": "display_data"
    }
   ],
   "source": [
    "for label,marker,color in zip(range(0,2),('s', 'o'),('blue', 'green')):\n",
    "    plt.scatter(\n",
    "        x=X_lda[X_lda[\"target\"]==label][0],\n",
    "        y=X_lda[X_lda[\"target\"]==label][1],\n",
    "        marker=marker,\n",
    "        color=color,\n",
    "        alpha=0.5,\n",
    "        label=label\n",
    "    )\n",
    "plt.xlabel('LD1')\n",
    "plt.ylabel('LD2')\n",
    "leg = plt.legend(loc='upper right', fancybox=True)\n",
    "plt.show()"
   ]
  },
  {
   "cell_type": "markdown",
   "metadata": {},
   "source": [
    "## Error relativo"
   ]
  },
  {
   "cell_type": "markdown",
   "metadata": {},
   "source": [
    "### Método QR"
   ]
  },
  {
   "cell_type": "code",
   "execution_count": 11,
   "metadata": {
    "ExecuteTime": {
     "end_time": "2021-12-09T03:31:25.441821Z",
     "start_time": "2021-12-09T03:31:14.243662Z"
    }
   },
   "outputs": [],
   "source": [
    "error_relativo=[]\n",
    "for i in range(10,510,10):\n",
    "    aprox=lda_f(df=df,target=\"target\",n_features=2,aprox_eigen=True,iterations=i,shift=False)\n",
    "    real=lda_f(df=df,target=\"target\",n_features=2,aprox_eigen=False)\n",
    "    error_relativo.append(np.linalg.norm(np.array(aprox[[0,1]])-np.array(real[[0,1]]),2)/np.linalg.norm(np.array(real[[0,1]]),2))    "
   ]
  },
  {
   "cell_type": "code",
   "execution_count": 12,
   "metadata": {
    "ExecuteTime": {
     "end_time": "2021-12-09T03:31:25.937226Z",
     "start_time": "2021-12-09T03:31:25.450950Z"
    }
   },
   "outputs": [
    {
     "data": {
      "image/png": "[encoded data removed]",
      "text/plain": [
       "<Figure size 432x288 with 1 Axes>"
      ]
     },
     "metadata": {
      "needs_background": "light"
     },
     "output_type": "display_data"
    }
   ],
   "source": [
    "plt.plot(range(10,510,10),error_relativo)\n",
    "plt.title(\"Iteraciones de método QR vs error relativo (data reducida)\")\n",
    "plt.show()"
   ]
  },
  {
   "cell_type": "markdown",
   "metadata": {},
   "source": [
    "### Método QR con shift"
   ]
  },
  {
   "cell_type": "code",
   "execution_count": 18,
   "metadata": {
    "ExecuteTime": {
     "end_time": "2021-12-09T03:33:23.180209Z",
     "start_time": "2021-12-09T03:33:13.376166Z"
    }
   },
   "outputs": [],
   "source": [
    "error_relativo=[]\n",
    "for i in range(10,510,10):\n",
    "    aprox=lda_f(df=df,target=\"target\",n_features=2,aprox_eigen=True,iterations=i,shift=True)\n",
    "    real=lda_f(df=df,target=\"target\",n_features=2,aprox_eigen=False)\n",
    "    error_relativo.append(np.linalg.norm(np.array(aprox[[0,1]])-np.array(real[[0,1]]),2)/np.linalg.norm(np.array(real[[0,1]]),2))    "
   ]
  },
  {
   "cell_type": "code",
   "execution_count": 19,
   "metadata": {
    "ExecuteTime": {
     "end_time": "2021-12-09T03:33:23.700722Z",
     "start_time": "2021-12-09T03:33:23.183087Z"
    }
   },
   "outputs": [
    {
     "data": {
      "image/png": "[encoded data removed]",
      "text/plain": [
       "<Figure size 432x288 with 1 Axes>"
      ]
     },
     "metadata": {
      "needs_background": "light"
     },
     "output_type": "display_data"
    }
   ],
   "source": [
    "plt.plot(range(10,510,10),error_relativo)\n",
    "plt.title(\"Iteraciones de método QR vs error relativo (data reducida)\")\n",
    "plt.show()"
   ]
  },
  {
   "cell_type": "code",
   "execution_count": null,
   "metadata": {},
   "outputs": [],
   "source": []
  },
  {
   "cell_type": "code",
   "execution_count": null,
   "metadata": {},
   "outputs": [],
   "source": []
  },
  {
   "cell_type": "code",
   "execution_count": null,
   "metadata": {},
   "outputs": [],
   "source": []
  }
 ],
 "metadata": {
  "kernelspec": {
   "display_name": "virtual_itam",
   "language": "python",
   "name": "virtual_itam"
  },
  "language_info": {
   "codemirror_mode": {
    "name": "ipython",
    "version": 3
   },
   "file_extension": ".py",
   "mimetype": "text/x-python",
   "name": "python",
   "nbconvert_exporter": "python",
   "pygments_lexer": "ipython3",
   "version": "3.8.10"
  },
  "toc": {
   "base_numbering": 1,
   "nav_menu": {},
   "number_sections": true,
   "sideBar": true,
   "skip_h1_title": false,
   "title_cell": "Table of Contents",
   "title_sidebar": "Contents",
   "toc_cell": false,
   "toc_position": {},
   "toc_section_display": true,
   "toc_window_display": true
  }
 },
 "nbformat": 4,
 "nbformat_minor": 4
}
