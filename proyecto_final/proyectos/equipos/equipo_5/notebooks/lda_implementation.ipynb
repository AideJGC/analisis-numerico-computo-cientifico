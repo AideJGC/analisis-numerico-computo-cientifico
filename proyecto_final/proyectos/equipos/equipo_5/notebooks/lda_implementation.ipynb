{
 "cells": [
  {
   "cell_type": "code",
   "execution_count": 1,
   "metadata": {
    "ExecuteTime": {
     "end_time": "2021-12-03T05:35:43.536791Z",
     "start_time": "2021-12-03T05:35:38.843247Z"
    }
   },
   "outputs": [],
   "source": [
    "import os\n",
    "import pandas as pd\n",
    "import numpy as np\n",
    "from sklearn.preprocessing import MinMaxScaler\n",
    "from sklearn.discriminant_analysis import LinearDiscriminantAnalysis as LDA\n",
    "from matplotlib import pyplot as plt\n",
    "\n",
    "np.set_printoptions(precision=4)\n",
    "\n",
    "os.chdir(\"../\")\n",
    "#from modulos.read_data import get_dataset"
   ]
  },
  {
   "cell_type": "markdown",
   "metadata": {},
   "source": [
    "## Proceso de lda paso por paso"
   ]
  },
  {
   "cell_type": "code",
   "execution_count": 2,
   "metadata": {
    "ExecuteTime": {
     "end_time": "2021-12-03T05:35:43.573171Z",
     "start_time": "2021-12-03T05:35:43.541033Z"
    }
   },
   "outputs": [],
   "source": [
    "df = pd.read_csv(\"data/heart.csv\", sep=\",\") \n",
    "scaler = MinMaxScaler()\n",
    "df=pd.DataFrame(scaler.fit_transform(df),columns=df.columns,index=df.index)"
   ]
  },
  {
   "cell_type": "markdown",
   "metadata": {},
   "source": [
    "### Obtención del vector de medias por clase"
   ]
  },
  {
   "cell_type": "code",
   "execution_count": 3,
   "metadata": {
    "ExecuteTime": {
     "end_time": "2021-12-03T05:35:43.963040Z",
     "start_time": "2021-12-03T05:35:43.584476Z"
    }
   },
   "outputs": [],
   "source": [
    "features=[x for x in df.columns if x!=\"target\"]\n",
    "m0=[]\n",
    "m1=[]\n",
    "m=[]\n",
    "for c in features:\n",
    "    aux=df[[c,\"target\"]].groupby([\"target\"]).agg({c:\"mean\"}).reset_index()\n",
    "    m0.append(aux[aux[\"target\"]==0].values[0][1])\n",
    "    m1.append(aux[aux[\"target\"]==1].values[0][1])\n",
    "    m.append(df[c].mean())\n",
    "m0=np.array(m0)\n",
    "m1=np.array(m1)\n",
    "m=np.array(m)"
   ]
  },
  {
   "cell_type": "code",
   "execution_count": 4,
   "metadata": {
    "ExecuteTime": {
     "end_time": "2021-12-03T05:35:44.006790Z",
     "start_time": "2021-12-03T05:35:43.989235Z"
    }
   },
   "outputs": [
    {
     "name": "stdout",
     "output_type": "stream",
     "text": [
      "Medias por feature para la clase 0:\n",
      "[0.575  0.8261 0.1594 0.3811 0.2856 0.1594 0.2246 0.5199 0.5507 0.2557\n",
      " 0.5833 0.2917 0.8478]\n",
      "\n",
      "Medias por feature para la clase 1:\n",
      "[0.4895 0.5636 0.4586 0.333  0.2654 0.1394 0.297  0.6677 0.1394 0.094\n",
      " 0.797  0.0909 0.7071]\n",
      "\n",
      "Medias por feature para toda la población:\n",
      "[0.5285 0.6832 0.3223 0.3549 0.2746 0.1485 0.264  0.6004 0.3267 0.1677\n",
      " 0.6997 0.1823 0.7712]\n"
     ]
    }
   ],
   "source": [
    "print(\"Medias por feature para la clase 0:\")\n",
    "print(m0)\n",
    "print(\"\\nMedias por feature para la clase 1:\")\n",
    "print(m1)\n",
    "print(\"\\nMedias por feature para toda la población:\")\n",
    "print(m)"
   ]
  },
  {
   "cell_type": "markdown",
   "metadata": {},
   "source": [
    "### Within-class scatter matrix SW"
   ]
  },
  {
   "cell_type": "code",
   "execution_count": 5,
   "metadata": {
    "ExecuteTime": {
     "end_time": "2021-12-03T05:35:44.259986Z",
     "start_time": "2021-12-03T05:35:44.016169Z"
    }
   },
   "outputs": [
    {
     "data": {
      "text/plain": [
       "(13, 13)"
      ]
     },
     "execution_count": 5,
     "metadata": {},
     "output_type": "execute_result"
    }
   ],
   "source": [
    "s0=df[df[\"target\"]==0][features]\n",
    "s0=np.array(s0)-m0\n",
    "s0=s0.T @ s0\n",
    "\n",
    "s1=df[df[\"target\"]==1][features]\n",
    "s1=np.array(s1)-m1\n",
    "s1=s1.T @ s1\n",
    "\n",
    "SW=s0+s1\n",
    "\n",
    "SW.shape"
   ]
  },
  {
   "cell_type": "markdown",
   "metadata": {
    "ExecuteTime": {
     "end_time": "2021-12-02T06:15:17.762744Z",
     "start_time": "2021-12-02T06:15:17.754701Z"
    }
   },
   "source": [
    "### Between-class scatter matrix SB"
   ]
  },
  {
   "cell_type": "code",
   "execution_count": 6,
   "metadata": {
    "ExecuteTime": {
     "end_time": "2021-12-03T05:35:44.356353Z",
     "start_time": "2021-12-03T05:35:44.280277Z"
    }
   },
   "outputs": [
    {
     "data": {
      "text/plain": [
       "(13, 13)"
      ]
     },
     "execution_count": 6,
     "metadata": {},
     "output_type": "execute_result"
    }
   ],
   "source": [
    "N0=df[df[\"target\"]==0].shape[0]\n",
    "p0=((m0-m).reshape(-1,1) @ (m0-m).reshape(1,-1))*N0\n",
    "\n",
    "N1=df[df[\"target\"]==1].shape[0]\n",
    "p1=((m1-m).reshape(-1,1) @ (m1-m).reshape(1,-1))*N1\n",
    "\n",
    "SB=p0+p1\n",
    "\n",
    "SB.shape"
   ]
  },
  {
   "cell_type": "markdown",
   "metadata": {
    "ExecuteTime": {
     "end_time": "2021-12-02T06:17:23.421550Z",
     "start_time": "2021-12-02T06:17:23.406938Z"
    }
   },
   "source": [
    "### Solving the generalized eigenvalue problem for the matrix $SW^{-1}SB$\n"
   ]
  },
  {
   "cell_type": "code",
   "execution_count": 7,
   "metadata": {
    "ExecuteTime": {
     "end_time": "2021-12-03T05:35:44.645528Z",
     "start_time": "2021-12-03T05:35:44.363663Z"
    }
   },
   "outputs": [],
   "source": [
    "R=np.linalg.solve(SW,SB)\n",
    "eig_vals, eig_vecs = np.linalg.eig(R)"
   ]
  },
  {
   "cell_type": "code",
   "execution_count": 8,
   "metadata": {
    "ExecuteTime": {
     "end_time": "2021-12-03T05:35:44.741495Z",
     "start_time": "2021-12-03T05:35:44.658834Z"
    }
   },
   "outputs": [],
   "source": [
    "# Los ordeno de mayor a menor en función de los eigenvalores\n",
    "eig_pairs = [(np.abs(eig_vals[i]), eig_vecs[:,i]) for i in range(len(eig_vals))]\n",
    "eig_pairs = sorted(eig_pairs, key=lambda k: k[0], reverse=True)"
   ]
  },
  {
   "cell_type": "markdown",
   "metadata": {},
   "source": [
    "### Seleccionar los eigenvalores con mayor aportación"
   ]
  },
  {
   "cell_type": "code",
   "execution_count": 9,
   "metadata": {
    "ExecuteTime": {
     "end_time": "2021-12-03T05:35:44.870936Z",
     "start_time": "2021-12-03T05:35:44.751412Z"
    }
   },
   "outputs": [
    {
     "name": "stdout",
     "output_type": "stream",
     "text": [
      "Eigenvalores de mayor a menor:\n",
      "\n",
      "1.0727535003901172\n",
      "1.2775568632206313e-16\n",
      "7.715694170117116e-17\n",
      "6.403329162055416e-17\n",
      "6.403329162055416e-17\n",
      "4.837620629959806e-17\n",
      "4.617204063683803e-17\n",
      "4.617204063683803e-17\n",
      "1.197028095736732e-17\n",
      "8.691271814309696e-18\n",
      "5.673862707646804e-19\n",
      "5.673862707646804e-19\n",
      "0.0\n"
     ]
    }
   ],
   "source": [
    "print('Eigenvalores de mayor a menor:\\n')\n",
    "for i in eig_pairs:\n",
    "    print(i[0])"
   ]
  },
  {
   "cell_type": "code",
   "execution_count": 10,
   "metadata": {
    "ExecuteTime": {
     "end_time": "2021-12-03T05:35:45.009269Z",
     "start_time": "2021-12-03T05:35:44.874895Z"
    }
   },
   "outputs": [
    {
     "name": "stdout",
     "output_type": "stream",
     "text": [
      "Varianza explicada:\n",
      "\n",
      "eigenvalor 1: 100.00%\n",
      "eigenvalor 2: 0.00%\n",
      "eigenvalor 3: 0.00%\n",
      "eigenvalor 4: 0.00%\n",
      "eigenvalor 5: 0.00%\n",
      "eigenvalor 6: 0.00%\n",
      "eigenvalor 7: 0.00%\n",
      "eigenvalor 8: 0.00%\n",
      "eigenvalor 9: 0.00%\n",
      "eigenvalor 10: 0.00%\n",
      "eigenvalor 11: 0.00%\n",
      "eigenvalor 12: 0.00%\n",
      "eigenvalor 13: 0.00%\n"
     ]
    }
   ],
   "source": [
    "print('Varianza explicada:\\n')\n",
    "eigv_sum = sum(eig_vals)\n",
    "for i,j in enumerate(eig_pairs):\n",
    "    print('eigenvalor {0:}: {1:.2%}'.format(i+1, (j[0]/eigv_sum).real))"
   ]
  },
  {
   "cell_type": "code",
   "execution_count": 11,
   "metadata": {
    "ExecuteTime": {
     "end_time": "2021-12-03T05:35:45.230294Z",
     "start_time": "2021-12-03T05:35:45.015636Z"
    }
   },
   "outputs": [],
   "source": [
    "W = np.hstack((eig_pairs[0][1].reshape(13,1), eig_pairs[1][1].reshape(13,1)))"
   ]
  },
  {
   "cell_type": "markdown",
   "metadata": {
    "ExecuteTime": {
     "end_time": "2021-12-02T06:38:28.480481Z",
     "start_time": "2021-12-02T06:38:28.464865Z"
    }
   },
   "source": [
    "### Transformamos al nuevo sub-espacio"
   ]
  },
  {
   "cell_type": "code",
   "execution_count": 12,
   "metadata": {
    "ExecuteTime": {
     "end_time": "2021-12-03T05:35:45.357231Z",
     "start_time": "2021-12-03T05:35:45.233769Z"
    }
   },
   "outputs": [],
   "source": [
    "X=np.array(df[features])\n",
    "Y=np.array(df[\"target\"])\n",
    "X_lda=X@W\n",
    "X_lda=pd.DataFrame(X_lda,columns=[\"LDA1\",\"LDA2\"])\n",
    "X_lda[\"target\"]=Y"
   ]
  },
  {
   "cell_type": "code",
   "execution_count": 13,
   "metadata": {
    "ExecuteTime": {
     "end_time": "2021-12-03T05:35:45.512557Z",
     "start_time": "2021-12-03T05:35:45.381870Z"
    }
   },
   "outputs": [
    {
     "data": {
      "text/html": [
       "<div>\n",
       "<style scoped>\n",
       "    .dataframe tbody tr th:only-of-type {\n",
       "        vertical-align: middle;\n",
       "    }\n",
       "\n",
       "    .dataframe tbody tr th {\n",
       "        vertical-align: top;\n",
       "    }\n",
       "\n",
       "    .dataframe thead th {\n",
       "        text-align: right;\n",
       "    }\n",
       "</style>\n",
       "<table border=\"1\" class=\"dataframe\">\n",
       "  <thead>\n",
       "    <tr style=\"text-align: right;\">\n",
       "      <th></th>\n",
       "      <th>LDA1</th>\n",
       "      <th>LDA2</th>\n",
       "      <th>target</th>\n",
       "    </tr>\n",
       "  </thead>\n",
       "  <tbody>\n",
       "    <tr>\n",
       "      <th>0</th>\n",
       "      <td>-0.025377+0.000000j</td>\n",
       "      <td>0.049859+0.000000j</td>\n",
       "      <td>1.0</td>\n",
       "    </tr>\n",
       "    <tr>\n",
       "      <th>1</th>\n",
       "      <td>-0.147313+0.000000j</td>\n",
       "      <td>-0.222978+0.000000j</td>\n",
       "      <td>1.0</td>\n",
       "    </tr>\n",
       "    <tr>\n",
       "      <th>2</th>\n",
       "      <td>0.157810+0.000000j</td>\n",
       "      <td>-0.806553+0.000000j</td>\n",
       "      <td>1.0</td>\n",
       "    </tr>\n",
       "    <tr>\n",
       "      <th>3</th>\n",
       "      <td>0.053635+0.000000j</td>\n",
       "      <td>-0.600245+0.000000j</td>\n",
       "      <td>1.0</td>\n",
       "    </tr>\n",
       "    <tr>\n",
       "      <th>4</th>\n",
       "      <td>-0.094121+0.000000j</td>\n",
       "      <td>-0.885742+0.000000j</td>\n",
       "      <td>1.0</td>\n",
       "    </tr>\n",
       "    <tr>\n",
       "      <th>...</th>\n",
       "      <td>...</td>\n",
       "      <td>...</td>\n",
       "      <td>...</td>\n",
       "    </tr>\n",
       "    <tr>\n",
       "      <th>298</th>\n",
       "      <td>-0.412846+0.000000j</td>\n",
       "      <td>-0.695582+0.000000j</td>\n",
       "      <td>0.0</td>\n",
       "    </tr>\n",
       "    <tr>\n",
       "      <th>299</th>\n",
       "      <td>-0.071612+0.000000j</td>\n",
       "      <td>-0.077638+0.000000j</td>\n",
       "      <td>0.0</td>\n",
       "    </tr>\n",
       "    <tr>\n",
       "      <th>300</th>\n",
       "      <td>-0.811948+0.000000j</td>\n",
       "      <td>-0.762457+0.000000j</td>\n",
       "      <td>0.0</td>\n",
       "    </tr>\n",
       "    <tr>\n",
       "      <th>301</th>\n",
       "      <td>-0.759214+0.000000j</td>\n",
       "      <td>-0.487888+0.000000j</td>\n",
       "      <td>0.0</td>\n",
       "    </tr>\n",
       "    <tr>\n",
       "      <th>302</th>\n",
       "      <td>0.032890+0.000000j</td>\n",
       "      <td>-0.631335+0.000000j</td>\n",
       "      <td>0.0</td>\n",
       "    </tr>\n",
       "  </tbody>\n",
       "</table>\n",
       "<p>303 rows × 3 columns</p>\n",
       "</div>"
      ],
      "text/plain": [
       "                   LDA1                LDA2  target\n",
       "0   -0.025377+0.000000j  0.049859+0.000000j     1.0\n",
       "1   -0.147313+0.000000j -0.222978+0.000000j     1.0\n",
       "2    0.157810+0.000000j -0.806553+0.000000j     1.0\n",
       "3    0.053635+0.000000j -0.600245+0.000000j     1.0\n",
       "4   -0.094121+0.000000j -0.885742+0.000000j     1.0\n",
       "..                  ...                 ...     ...\n",
       "298 -0.412846+0.000000j -0.695582+0.000000j     0.0\n",
       "299 -0.071612+0.000000j -0.077638+0.000000j     0.0\n",
       "300 -0.811948+0.000000j -0.762457+0.000000j     0.0\n",
       "301 -0.759214+0.000000j -0.487888+0.000000j     0.0\n",
       "302  0.032890+0.000000j -0.631335+0.000000j     0.0\n",
       "\n",
       "[303 rows x 3 columns]"
      ]
     },
     "execution_count": 13,
     "metadata": {},
     "output_type": "execute_result"
    }
   ],
   "source": [
    "X_lda"
   ]
  },
  {
   "cell_type": "code",
   "execution_count": 14,
   "metadata": {
    "ExecuteTime": {
     "end_time": "2021-12-03T05:35:46.215573Z",
     "start_time": "2021-12-03T05:35:45.519871Z"
    }
   },
   "outputs": [
    {
     "name": "stderr",
     "output_type": "stream",
     "text": [
      "/usr/local/lib/python3.8/dist-packages/numpy/core/_asarray.py:136: ComplexWarning: Casting complex values to real discards the imaginary part\n",
      "  return array(a, dtype, copy=False, order=order, subok=True)\n",
      "/usr/local/lib/python3.8/dist-packages/numpy/core/_asarray.py:136: ComplexWarning: Casting complex values to real discards the imaginary part\n",
      "  return array(a, dtype, copy=False, order=order, subok=True)\n"
     ]
    },
    {
     "data": {
      "image/png": "[encoded data removed]",
      "text/plain": [
       "<Figure size 432x288 with 1 Axes>"
      ]
     },
     "metadata": {
      "needs_background": "light"
     },
     "output_type": "display_data"
    }
   ],
   "source": [
    "for label,marker,color in zip(range(0,2),('s', 'o'),('blue', 'green')):\n",
    "    plt.scatter(\n",
    "        x=X_lda[X_lda[\"target\"]==label][\"LDA1\"],\n",
    "        y=X_lda[X_lda[\"target\"]==label][\"LDA2\"],\n",
    "        marker=marker,\n",
    "        color=color,\n",
    "        alpha=0.5,\n",
    "        label=label\n",
    "    )\n",
    "plt.xlabel('LD1')\n",
    "plt.ylabel('LD2')\n",
    "leg = plt.legend(loc='upper right', fancybox=True)\n",
    "plt.show()"
   ]
  },
  {
   "cell_type": "markdown",
   "metadata": {
    "ExecuteTime": {
     "end_time": "2021-12-02T06:54:45.572202Z",
     "start_time": "2021-12-02T06:54:45.553556Z"
    }
   },
   "source": [
    "## LDA via scikit-learn"
   ]
  },
  {
   "cell_type": "code",
   "execution_count": 15,
   "metadata": {
    "ExecuteTime": {
     "end_time": "2021-12-03T05:35:46.309038Z",
     "start_time": "2021-12-03T05:35:46.243861Z"
    }
   },
   "outputs": [],
   "source": [
    "sklearn_lda = LDA(solver='eigen',store_covariance=True)\n",
    "X_lda_sklearn = sklearn_lda.fit(X, Y)"
   ]
  },
  {
   "cell_type": "code",
   "execution_count": 16,
   "metadata": {
    "ExecuteTime": {
     "end_time": "2021-12-03T05:35:46.539993Z",
     "start_time": "2021-12-03T05:35:46.332417Z"
    }
   },
   "outputs": [
    {
     "data": {
      "text/plain": [
       "array([[-0.3291, -1.638 ,  2.8257, -1.7638, -1.2941,  0.1452,  0.8332,\n",
       "         3.3056, -1.2038, -3.0462,  1.3201, -3.3631, -2.9846]])"
      ]
     },
     "execution_count": 16,
     "metadata": {},
     "output_type": "execute_result"
    }
   ],
   "source": [
    "X_lda_sklearn.coef_"
   ]
  },
  {
   "cell_type": "code",
   "execution_count": 17,
   "metadata": {
    "ExecuteTime": {
     "end_time": "2021-12-03T05:35:46.645289Z",
     "start_time": "2021-12-03T05:35:46.555583Z"
    }
   },
   "outputs": [
    {
     "data": {
      "text/plain": [
       "array([[0.575 , 0.8261, 0.1594, 0.3811, 0.2856, 0.1594, 0.2246, 0.5199,\n",
       "        0.5507, 0.2557, 0.5833, 0.2917, 0.8478],\n",
       "       [0.4895, 0.5636, 0.4586, 0.333 , 0.2654, 0.1394, 0.297 , 0.6677,\n",
       "        0.1394, 0.094 , 0.797 , 0.0909, 0.7071]])"
      ]
     },
     "execution_count": 17,
     "metadata": {},
     "output_type": "execute_result"
    }
   ],
   "source": [
    "X_lda_sklearn.means_"
   ]
  },
  {
   "cell_type": "code",
   "execution_count": 18,
   "metadata": {
    "ExecuteTime": {
     "end_time": "2021-12-03T05:35:46.757014Z",
     "start_time": "2021-12-03T05:35:46.657345Z"
    }
   },
   "outputs": [
    {
     "data": {
      "text/plain": [
       "array([[ 3.3869e-02, -1.4218e-02,  1.8906e-03,  7.6969e-03,  4.3397e-03,\n",
       "         7.7240e-03, -4.2283e-03, -1.0006e-02, -1.4717e-04,  3.9878e-03,\n",
       "        -5.2783e-03,  9.0647e-03, -3.6781e-04],\n",
       "       [-1.4218e-02,  1.9937e-01,  1.1587e-02, -7.4916e-03, -1.2194e-02,\n",
       "         6.1467e-03, -2.3989e-03,  6.0473e-03,  4.1378e-03, -2.1663e-03,\n",
       "         9.5110e-03,  9.7510e-04,  1.0749e-02],\n",
       "       [ 1.8906e-03,  1.1587e-02,  9.5760e-02,  6.2676e-03, -1.6201e-03,\n",
       "         1.3021e-02, -1.3622e-03,  6.7633e-03, -3.2993e-02,  2.4147e-03,\n",
       "        -3.2037e-03, -9.7510e-04, -8.7448e-04],\n",
       "       [ 7.6969e-03, -7.4916e-03,  6.2676e-03,  2.6712e-02,  2.1626e-03,\n",
       "         1.0189e-02, -4.0850e-03,  4.1595e-04,  3.3441e-04,  4.0393e-03,\n",
       "        -3.6251e-03,  1.8810e-03,  4.1563e-04],\n",
       "       [ 4.3397e-03, -1.2194e-02, -1.6201e-03,  2.1626e-03,  1.3856e-02,\n",
       "         4.5805e-04, -4.3212e-03,  5.3637e-04,  1.6509e-03,  3.8078e-04,\n",
       "         9.2466e-04,  1.1193e-03,  1.6724e-03],\n",
       "       [ 7.7240e-03,  6.1467e-03,  1.3021e-02,  1.0189e-02,  4.5805e-04,\n",
       "         1.2636e-01, -7.4994e-03,  2.0242e-04,  2.2376e-03, -4.2098e-04,\n",
       "        -5.4905e-03,  1.1526e-02, -3.0191e-03],\n",
       "       [-4.2283e-03, -2.3989e-03, -1.3622e-03, -4.0850e-03, -4.3212e-03,\n",
       "        -7.4994e-03,  6.7606e-02, -6.3013e-04, -1.3293e-03,  1.6390e-05,\n",
       "         3.6804e-03, -1.2251e-03,  1.8842e-03],\n",
       "       [-1.0006e-02,  6.0473e-03,  6.7633e-03,  4.1595e-04,  5.3637e-04,\n",
       "         2.0242e-04, -6.3013e-04,  2.5051e-02, -1.5933e-02, -5.3048e-03,\n",
       "         1.2936e-02, -2.1372e-03,  1.7304e-03],\n",
       "       [-1.4717e-04,  4.1378e-03, -3.2993e-02,  3.3441e-04,  1.6509e-03,\n",
       "         2.2376e-03, -1.3293e-03, -1.5933e-02,  1.7802e-01,  8.7787e-03,\n",
       "        -1.5392e-02, -6.6257e-03,  5.3991e-03],\n",
       "       [ 3.9878e-03, -2.1663e-03,  2.4147e-03,  4.0393e-03,  3.8078e-04,\n",
       "        -4.2098e-04,  1.6390e-05, -5.3048e-03,  8.7787e-03,  2.8470e-02,\n",
       "        -2.4647e-02,  2.5753e-03,  2.3646e-03],\n",
       "       [-5.2783e-03,  9.5110e-03, -3.2037e-03, -3.6251e-03,  9.2466e-04,\n",
       "        -5.4905e-03,  3.6804e-03,  1.2936e-02, -1.5392e-02, -2.4647e-02,\n",
       "         8.3301e-02,  4.3442e-03,  8.9176e-04],\n",
       "       [ 9.0647e-03,  9.7510e-04, -9.7510e-04,  1.8810e-03,  1.1193e-03,\n",
       "         1.1526e-02, -1.2251e-03, -2.1372e-03, -6.6257e-03,  2.5753e-03,\n",
       "         4.3442e-03,  5.5146e-02,  8.8759e-04],\n",
       "       [-3.6781e-04,  1.0749e-02, -8.7448e-04,  4.1563e-04,  1.6724e-03,\n",
       "        -3.0191e-03,  1.8842e-03,  1.7304e-03,  5.3991e-03,  2.3646e-03,\n",
       "         8.9176e-04,  8.8759e-04,  3.6602e-02]])"
      ]
     },
     "execution_count": 18,
     "metadata": {},
     "output_type": "execute_result"
    }
   ],
   "source": [
    "X_lda_sklearn.covariance_"
   ]
  },
  {
   "cell_type": "code",
   "execution_count": 19,
   "metadata": {
    "ExecuteTime": {
     "end_time": "2021-12-03T05:35:46.880939Z",
     "start_time": "2021-12-03T05:35:46.765195Z"
    }
   },
   "outputs": [
    {
     "data": {
      "text/plain": [
       "array([[9.9056e-02, 9.0094e-01],\n",
       "       [2.2027e-01, 7.7973e-01],\n",
       "       [2.5946e-02, 9.7405e-01],\n",
       "       [5.6293e-02, 9.4371e-01],\n",
       "       [1.5766e-01, 8.4234e-01],\n",
       "       [1.9123e-01, 8.0877e-01],\n",
       "       [1.1921e-01, 8.8079e-01],\n",
       "       [1.0970e-01, 8.9030e-01],\n",
       "       [1.2712e-01, 8.7288e-01],\n",
       "       [4.9171e-02, 9.5083e-01],\n",
       "       [2.8933e-01, 7.1067e-01],\n",
       "       [1.1173e-02, 9.8883e-01],\n",
       "       [7.3520e-02, 9.2648e-01],\n",
       "       [2.2120e-01, 7.7880e-01],\n",
       "       [7.2759e-03, 9.9272e-01],\n",
       "       [1.9214e-02, 9.8079e-01],\n",
       "       [4.8699e-03, 9.9513e-01],\n",
       "       [1.2095e-01, 8.7905e-01],\n",
       "       [2.8614e-01, 7.1386e-01],\n",
       "       [4.4955e-02, 9.5505e-01],\n",
       "       [5.8015e-01, 4.1985e-01],\n",
       "       [6.2749e-02, 9.3725e-01],\n",
       "       [1.1273e-01, 8.8727e-01],\n",
       "       [4.1206e-01, 5.8794e-01],\n",
       "       [1.0951e-01, 8.9049e-01],\n",
       "       [1.6727e-01, 8.3273e-01],\n",
       "       [7.3472e-02, 9.2653e-01],\n",
       "       [5.4554e-02, 9.4545e-01],\n",
       "       [5.5841e-02, 9.4416e-01],\n",
       "       [2.1646e-01, 7.8354e-01],\n",
       "       [1.4459e-02, 9.8554e-01],\n",
       "       [4.4208e-01, 5.5792e-01],\n",
       "       [4.6791e-02, 9.5321e-01],\n",
       "       [3.7844e-01, 6.2156e-01],\n",
       "       [3.4781e-01, 6.5219e-01],\n",
       "       [1.6989e-01, 8.3011e-01],\n",
       "       [4.9730e-03, 9.9503e-01],\n",
       "       [2.3959e-01, 7.6041e-01],\n",
       "       [1.9830e-02, 9.8017e-01],\n",
       "       [3.8881e-02, 9.6112e-01],\n",
       "       [8.4850e-02, 9.1515e-01],\n",
       "       [1.2459e-01, 8.7541e-01],\n",
       "       [8.6017e-01, 1.3983e-01],\n",
       "       [1.7895e-01, 8.2105e-01],\n",
       "       [3.3209e-02, 9.6679e-01],\n",
       "       [6.1394e-02, 9.3861e-01],\n",
       "       [2.8181e-02, 9.7182e-01],\n",
       "       [5.3020e-02, 9.4698e-01],\n",
       "       [3.2620e-03, 9.9674e-01],\n",
       "       [5.9269e-02, 9.4073e-01],\n",
       "       [1.4673e-02, 9.8533e-01],\n",
       "       [4.8692e-01, 5.1308e-01],\n",
       "       [8.7075e-01, 1.2925e-01],\n",
       "       [4.8482e-03, 9.9515e-01],\n",
       "       [7.5446e-03, 9.9246e-01],\n",
       "       [2.0235e-01, 7.9765e-01],\n",
       "       [1.0730e-01, 8.9270e-01],\n",
       "       [1.0735e-01, 8.9265e-01],\n",
       "       [7.2301e-03, 9.9277e-01],\n",
       "       [1.3780e-01, 8.6220e-01],\n",
       "       [3.0868e-02, 9.6913e-01],\n",
       "       [1.5976e-01, 8.4024e-01],\n",
       "       [3.9679e-03, 9.9603e-01],\n",
       "       [8.8096e-02, 9.1190e-01],\n",
       "       [3.6189e-02, 9.6381e-01],\n",
       "       [3.4805e-02, 9.6519e-01],\n",
       "       [2.2689e-01, 7.7311e-01],\n",
       "       [3.4956e-02, 9.6504e-01],\n",
       "       [4.1488e-02, 9.5851e-01],\n",
       "       [2.9256e-02, 9.7074e-01],\n",
       "       [2.5872e-01, 7.4128e-01],\n",
       "       [2.6843e-01, 7.3157e-01],\n",
       "       [2.8900e-02, 9.7110e-01],\n",
       "       [3.8238e-01, 6.1762e-01],\n",
       "       [7.9259e-03, 9.9207e-01],\n",
       "       [8.5276e-02, 9.1472e-01],\n",
       "       [1.5906e-01, 8.4094e-01],\n",
       "       [2.0650e-01, 7.9350e-01],\n",
       "       [2.9461e-02, 9.7054e-01],\n",
       "       [4.4955e-01, 5.5045e-01],\n",
       "       [1.2444e-02, 9.8756e-01],\n",
       "       [8.9204e-02, 9.1080e-01],\n",
       "       [1.0697e-02, 9.8930e-01],\n",
       "       [9.0414e-02, 9.0959e-01],\n",
       "       [1.9253e-01, 8.0747e-01],\n",
       "       [1.7960e-01, 8.2040e-01],\n",
       "       [2.7373e-01, 7.2627e-01],\n",
       "       [9.0509e-02, 9.0949e-01],\n",
       "       [1.6521e-02, 9.8348e-01],\n",
       "       [2.2953e-01, 7.7047e-01],\n",
       "       [7.7679e-02, 9.2232e-01],\n",
       "       [5.7481e-01, 4.2519e-01],\n",
       "       [4.1816e-01, 5.8184e-01],\n",
       "       [1.5248e-01, 8.4752e-01],\n",
       "       [2.6237e-02, 9.7376e-01],\n",
       "       [9.1305e-01, 8.6945e-02],\n",
       "       [2.9494e-01, 7.0506e-01],\n",
       "       [8.4514e-01, 1.5486e-01],\n",
       "       [1.5902e-01, 8.4098e-01],\n",
       "       [2.5751e-01, 7.4249e-01],\n",
       "       [9.8735e-02, 9.0127e-01],\n",
       "       [8.3449e-01, 1.6551e-01],\n",
       "       [5.0481e-02, 9.4952e-01],\n",
       "       [1.1113e-01, 8.8887e-01],\n",
       "       [2.2199e-02, 9.7780e-01],\n",
       "       [8.4676e-02, 9.1532e-01],\n",
       "       [2.0752e-01, 7.9248e-01],\n",
       "       [3.4311e-01, 6.5689e-01],\n",
       "       [1.9386e-02, 9.8061e-01],\n",
       "       [4.0438e-02, 9.5956e-01],\n",
       "       [3.1372e-01, 6.8628e-01],\n",
       "       [1.1321e-01, 8.8679e-01],\n",
       "       [4.9811e-02, 9.5019e-01],\n",
       "       [2.3578e-01, 7.6422e-01],\n",
       "       [8.3512e-02, 9.1649e-01],\n",
       "       [3.0711e-03, 9.9693e-01],\n",
       "       [1.3658e-01, 8.6342e-01],\n",
       "       [1.4011e-01, 8.5989e-01],\n",
       "       [5.9903e-03, 9.9401e-01],\n",
       "       [3.2735e-01, 6.7265e-01],\n",
       "       [7.7698e-01, 2.2302e-01],\n",
       "       [1.7781e-01, 8.2219e-01],\n",
       "       [1.5341e-02, 9.8466e-01],\n",
       "       [5.3792e-03, 9.9462e-01],\n",
       "       [1.5377e-03, 9.9846e-01],\n",
       "       [5.9370e-03, 9.9406e-01],\n",
       "       [1.6418e-01, 8.3582e-01],\n",
       "       [1.6774e-02, 9.8323e-01],\n",
       "       [1.3142e-02, 9.8686e-01],\n",
       "       [3.4715e-01, 6.5285e-01],\n",
       "       [1.7559e-02, 9.8244e-01],\n",
       "       [2.9365e-02, 9.7063e-01],\n",
       "       [6.1214e-02, 9.3879e-01],\n",
       "       [5.4493e-02, 9.4551e-01],\n",
       "       [1.3816e-02, 9.8618e-01],\n",
       "       [3.5094e-02, 9.6491e-01],\n",
       "       [1.7772e-02, 9.8223e-01],\n",
       "       [1.3119e-01, 8.6881e-01],\n",
       "       [5.9504e-01, 4.0496e-01],\n",
       "       [9.7435e-01, 2.5651e-02],\n",
       "       [1.1999e-02, 9.8800e-01],\n",
       "       [2.5525e-01, 7.4475e-01],\n",
       "       [5.5868e-03, 9.9441e-01],\n",
       "       [2.0311e-01, 7.9689e-01],\n",
       "       [4.3558e-02, 9.5644e-01],\n",
       "       [2.3309e-01, 7.6691e-01],\n",
       "       [2.9028e-02, 9.7097e-01],\n",
       "       [3.7701e-03, 9.9623e-01],\n",
       "       [1.7312e-02, 9.8269e-01],\n",
       "       [2.8121e-02, 9.7188e-01],\n",
       "       [5.0031e-01, 4.9969e-01],\n",
       "       [1.9589e-01, 8.0411e-01],\n",
       "       [2.1599e-01, 7.8401e-01],\n",
       "       [6.9563e-02, 9.3044e-01],\n",
       "       [1.2864e-02, 9.8714e-01],\n",
       "       [1.5411e-01, 8.4589e-01],\n",
       "       [1.7558e-02, 9.8244e-01],\n",
       "       [3.3827e-02, 9.6617e-01],\n",
       "       [9.4833e-01, 5.1671e-02],\n",
       "       [2.1412e-01, 7.8588e-01],\n",
       "       [1.6067e-01, 8.3933e-01],\n",
       "       [3.0712e-02, 9.6929e-01],\n",
       "       [2.5345e-02, 9.7465e-01],\n",
       "       [3.3870e-01, 6.6130e-01],\n",
       "       [3.3870e-01, 6.6130e-01],\n",
       "       [9.9733e-01, 2.6661e-03],\n",
       "       [9.9481e-01, 5.1936e-03],\n",
       "       [9.0036e-01, 9.9636e-02],\n",
       "       [9.1525e-01, 8.4745e-02],\n",
       "       [9.7892e-01, 2.1083e-02],\n",
       "       [3.2207e-01, 6.7793e-01],\n",
       "       [4.0237e-01, 5.9763e-01],\n",
       "       [3.4490e-01, 6.5510e-01],\n",
       "       [6.9320e-01, 3.0680e-01],\n",
       "       [9.9413e-01, 5.8724e-03],\n",
       "       [9.5782e-01, 4.2185e-02],\n",
       "       [9.2867e-01, 7.1327e-02],\n",
       "       [4.8829e-02, 9.5117e-01],\n",
       "       [9.6873e-01, 3.1269e-02],\n",
       "       [9.1986e-01, 8.0139e-02],\n",
       "       [9.7629e-01, 2.3707e-02],\n",
       "       [9.6511e-01, 3.4889e-02],\n",
       "       [5.8070e-02, 9.4193e-01],\n",
       "       [5.4421e-01, 4.5579e-01],\n",
       "       [9.4369e-01, 5.6308e-02],\n",
       "       [3.9221e-01, 6.0779e-01],\n",
       "       [9.2817e-01, 7.1829e-02],\n",
       "       [9.9191e-01, 8.0881e-03],\n",
       "       [3.3127e-01, 6.6873e-01],\n",
       "       [3.0734e-01, 6.9266e-01],\n",
       "       [6.8661e-01, 3.1339e-01],\n",
       "       [9.9722e-01, 2.7817e-03],\n",
       "       [9.1666e-01, 8.3341e-02],\n",
       "       [9.9613e-01, 3.8727e-03],\n",
       "       [3.0711e-01, 6.9289e-01],\n",
       "       [9.9556e-01, 4.4392e-03],\n",
       "       [3.7114e-01, 6.2886e-01],\n",
       "       [8.3333e-01, 1.6667e-01],\n",
       "       [9.9494e-01, 5.0642e-03],\n",
       "       [3.9249e-01, 6.0751e-01],\n",
       "       [2.0559e-01, 7.9441e-01],\n",
       "       [9.8701e-01, 1.2987e-02],\n",
       "       [9.5443e-01, 4.5565e-02],\n",
       "       [8.4044e-01, 1.5956e-01],\n",
       "       [9.9673e-01, 3.2744e-03],\n",
       "       [7.9574e-01, 2.0426e-01],\n",
       "       [9.6109e-01, 3.8912e-02],\n",
       "       [9.0410e-01, 9.5903e-02],\n",
       "       [8.5814e-01, 1.4186e-01],\n",
       "       [7.9443e-01, 2.0557e-01],\n",
       "       [4.4533e-01, 5.5467e-01],\n",
       "       [9.8610e-01, 1.3899e-02],\n",
       "       [6.7545e-01, 3.2455e-01],\n",
       "       [7.9014e-01, 2.0986e-01],\n",
       "       [9.0677e-01, 9.3230e-02],\n",
       "       [8.9810e-01, 1.0190e-01],\n",
       "       [4.0716e-01, 5.9284e-01],\n",
       "       [9.9483e-01, 5.1722e-03],\n",
       "       [9.7513e-01, 2.4868e-02],\n",
       "       [9.4039e-01, 5.9612e-02],\n",
       "       [9.8673e-01, 1.3272e-02],\n",
       "       [9.9743e-01, 2.5726e-03],\n",
       "       [1.1527e-01, 8.8473e-01],\n",
       "       [9.9787e-01, 2.1312e-03],\n",
       "       [9.8103e-01, 1.8970e-02],\n",
       "       [9.8511e-01, 1.4891e-02],\n",
       "       [9.2089e-01, 7.9113e-02],\n",
       "       [9.1129e-01, 8.8715e-02],\n",
       "       [1.9143e-01, 8.0857e-01],\n",
       "       [7.5559e-01, 2.4441e-01],\n",
       "       [2.3230e-02, 9.7677e-01],\n",
       "       [9.9293e-01, 7.0729e-03],\n",
       "       [9.7990e-01, 2.0098e-02],\n",
       "       [9.9138e-01, 8.6167e-03],\n",
       "       [9.9155e-01, 8.4479e-03],\n",
       "       [7.9005e-01, 2.0995e-01],\n",
       "       [7.8334e-01, 2.1666e-01],\n",
       "       [9.4282e-01, 5.7176e-02],\n",
       "       [9.3727e-01, 6.2726e-02],\n",
       "       [7.2945e-01, 2.7055e-01],\n",
       "       [9.7053e-01, 2.9465e-02],\n",
       "       [4.4922e-01, 5.5078e-01],\n",
       "       [8.8455e-01, 1.1545e-01],\n",
       "       [9.9291e-01, 7.0943e-03],\n",
       "       [9.4136e-01, 5.8641e-02],\n",
       "       [6.1623e-01, 3.8377e-01],\n",
       "       [9.6871e-01, 3.1290e-02],\n",
       "       [9.1731e-01, 8.2694e-02],\n",
       "       [4.8354e-01, 5.1646e-01],\n",
       "       [9.3731e-01, 6.2688e-02],\n",
       "       [9.9915e-01, 8.5036e-04],\n",
       "       [9.9502e-01, 4.9757e-03],\n",
       "       [9.1615e-01, 8.3853e-02],\n",
       "       [9.6770e-01, 3.2295e-02],\n",
       "       [7.2651e-02, 9.2735e-01],\n",
       "       [9.9196e-01, 8.0352e-03],\n",
       "       [9.9627e-01, 3.7343e-03],\n",
       "       [9.5307e-01, 4.6925e-02],\n",
       "       [4.5336e-01, 5.4664e-01],\n",
       "       [3.5218e-01, 6.4782e-01],\n",
       "       [9.1020e-01, 8.9801e-02],\n",
       "       [2.3982e-01, 7.6018e-01],\n",
       "       [9.9598e-01, 4.0210e-03],\n",
       "       [6.6693e-01, 3.3307e-01],\n",
       "       [9.1281e-01, 8.7186e-02],\n",
       "       [7.7993e-01, 2.2007e-01],\n",
       "       [8.8174e-01, 1.1826e-01],\n",
       "       [5.3782e-01, 4.6218e-01],\n",
       "       [9.9328e-01, 6.7218e-03],\n",
       "       [9.8905e-01, 1.0947e-02],\n",
       "       [5.8950e-01, 4.1050e-01],\n",
       "       [4.0539e-01, 5.9461e-01],\n",
       "       [8.4015e-01, 1.5985e-01],\n",
       "       [4.6121e-01, 5.3879e-01],\n",
       "       [9.3954e-01, 6.0463e-02],\n",
       "       [7.5667e-01, 2.4333e-01],\n",
       "       [9.6903e-01, 3.0974e-02],\n",
       "       [2.7109e-01, 7.2891e-01],\n",
       "       [1.5237e-01, 8.4763e-01],\n",
       "       [9.8344e-01, 1.6561e-02],\n",
       "       [7.7278e-01, 2.2722e-01],\n",
       "       [1.8485e-01, 8.1515e-01],\n",
       "       [1.7726e-01, 8.2274e-01],\n",
       "       [2.7550e-01, 7.2450e-01],\n",
       "       [9.6801e-01, 3.1987e-02],\n",
       "       [9.9396e-01, 6.0378e-03],\n",
       "       [7.8798e-02, 9.2120e-01],\n",
       "       [2.6098e-01, 7.3902e-01],\n",
       "       [9.8053e-01, 1.9469e-02],\n",
       "       [8.3244e-01, 1.6756e-01],\n",
       "       [5.9794e-01, 4.0206e-01],\n",
       "       [9.6885e-01, 3.1146e-02],\n",
       "       [8.7101e-01, 1.2899e-01],\n",
       "       [3.9028e-01, 6.0972e-01],\n",
       "       [7.7067e-01, 2.2933e-01],\n",
       "       [9.9385e-01, 6.1467e-03],\n",
       "       [2.7183e-01, 7.2817e-01],\n",
       "       [9.3308e-01, 6.6916e-02],\n",
       "       [6.8802e-01, 3.1198e-01],\n",
       "       [1.3588e-01, 8.6412e-01],\n",
       "       [9.7976e-01, 2.0242e-02],\n",
       "       [9.6986e-01, 3.0135e-02],\n",
       "       [6.5455e-02, 9.3454e-01]])"
      ]
     },
     "execution_count": 19,
     "metadata": {},
     "output_type": "execute_result"
    }
   ],
   "source": [
    "X_lda_sklearn.predict_proba(X)"
   ]
  },
  {
   "cell_type": "markdown",
   "metadata": {},
   "source": [
    "## Referencias"
   ]
  },
  {
   "cell_type": "markdown",
   "metadata": {},
   "source": [
    "[towardsdatascience](https://towardsdatascience.com/linear-discriminant-analysis-explained-f88be6c1e00b)\n",
    "\n",
    "[ejemplo](https://sebastianraschka.com/Articles/2014_python_lda.html)"
   ]
  }
 ],
 "metadata": {
  "kernelspec": {
   "display_name": "virtual_itam",
   "language": "python",
   "name": "virtual_itam"
  },
  "language_info": {
   "codemirror_mode": {
    "name": "ipython",
    "version": 3
   },
   "file_extension": ".py",
   "mimetype": "text/x-python",
   "name": "python",
   "nbconvert_exporter": "python",
   "pygments_lexer": "ipython3",
   "version": "3.8.10"
  },
  "toc": {
   "base_numbering": 1,
   "nav_menu": {},
   "number_sections": true,
   "sideBar": true,
   "skip_h1_title": false,
   "title_cell": "Table of Contents",
   "title_sidebar": "Contents",
   "toc_cell": false,
   "toc_position": {},
   "toc_section_display": true,
   "toc_window_display": true
  }
 },
 "nbformat": 4,
 "nbformat_minor": 4
}
