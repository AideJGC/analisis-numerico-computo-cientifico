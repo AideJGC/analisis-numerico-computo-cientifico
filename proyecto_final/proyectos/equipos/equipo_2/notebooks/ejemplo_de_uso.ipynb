{
 "cells": [
  {
   "cell_type": "markdown",
   "metadata": {},
   "source": [
    "# Reporte Práctica 2 Parte 2\n",
    "## Optimización de Código"
   ]
  },
  {
   "cell_type": "markdown",
   "metadata": {},
   "source": [
    "Primero realizamos el perfilamiento de tiempo de procesamiento para nuestro paquete robustecido de la parte anterior de la práctica 2, el cual se encuentra en el archivo `perfilamiento.ipynb`, para conocer las partes del código que tardan más tiempo en correr.\n",
    "\n",
    "La reimplementación se realizó con ayuda de las anotaciones en html de cython, que se encuentran en `reimplementación_c.ipynb`.\n",
    "\n",
    "### Ejemplo base\n",
    "\n",
    "Para el código original:"
   ]
  },
  {
   "cell_type": "code",
   "execution_count": 1,
   "metadata": {},
   "outputs": [],
   "source": [
    "import time\n",
    "import networkx as nx\n",
    "from pytest import approx"
   ]
  },
  {
   "cell_type": "code",
   "execution_count": 2,
   "metadata": {},
   "outputs": [],
   "source": [
    "import ffmaxflow as ff"
   ]
  },
  {
   "cell_type": "code",
   "execution_count": 26,
   "metadata": {},
   "outputs": [],
   "source": [
    "start_time = time.time()\n",
    "\n",
    "red = ff.create_flow_network()\n",
    "\n",
    "red.create_vertex('o', True, False) \n",
    "red.create_vertex('t', False, True) \n",
    "red.create_vertex('a', False, False)\n",
    "red.create_vertex('b', False, False)\n",
    "red.create_vertex('c', False, False)\n",
    "red.create_vertex('d', False, False)\n",
    "red.create_vertex('e', False, False)\n",
    "\n",
    "red.create_edge('o', 'a', 5)\n",
    "red.create_edge('o', 'b', 7)\n",
    "red.create_edge('o', 'c', 4)\n",
    "\n",
    "red.create_edge('a', 'b', 1)\n",
    "red.create_edge('a', 'd', 3)\n",
    "\n",
    "red.create_edge('b', 'c', 2)\n",
    "red.create_edge('b', 'd', 4)\n",
    "red.create_edge('b', 'e', 5)\n",
    "\n",
    "red.create_edge('c', 'e', 4)\n",
    "\n",
    "red.create_edge('d', 't', 9)\n",
    "\n",
    "red.create_edge('e', 'd', 1)\n",
    "red.create_edge('e', 't', 9)\n",
    "\n",
    "red.MaxFlow()\n",
    "\n",
    "end_time = time.time()"
   ]
  },
  {
   "cell_type": "code",
   "execution_count": 27,
   "metadata": {},
   "outputs": [
    {
     "name": "stdout",
     "output_type": "stream",
     "text": [
      "El ejemplo base tomó 0.0008959770202636719 segundos\n"
     ]
    }
   ],
   "source": [
    "secs_0 = end_time-start_time\n",
    "print(\"El ejemplo base tomó\",secs_0,\"segundos\" )"
   ]
  },
  {
   "cell_type": "markdown",
   "metadata": {},
   "source": [
    "Para el paquete reimplementado con compilación a C."
   ]
  },
  {
   "cell_type": "code",
   "execution_count": 5,
   "metadata": {},
   "outputs": [
    {
     "name": "stdout",
     "output_type": "stream",
     "text": [
      "Processing ./scripts\n",
      "Building wheels for collected packages: UNKNOWN\n",
      "  Building wheel for UNKNOWN (setup.py) ... \u001b[?25ldone\n",
      "\u001b[?25h  Created wheel for UNKNOWN: filename=UNKNOWN-0.0.0-cp38-cp38-linux_x86_64.whl size=250158 sha256=18c14ed31a525bd8cf0fd9cb4ef16e3518e814a77c1b193f357a1082a5aaef2b\n",
      "  Stored in directory: /tmp/pip-ephem-wheel-cache-q7ww43z8/wheels/b5/f6/a9/0cc9b85182f82722c563d4dddda2dbee22b5624804f7598335\n",
      "Successfully built UNKNOWN\n",
      "Installing collected packages: UNKNOWN\n",
      "  Attempting uninstall: UNKNOWN\n",
      "    Found existing installation: UNKNOWN 0.0.0\n",
      "    Uninstalling UNKNOWN-0.0.0:\n",
      "      Successfully uninstalled UNKNOWN-0.0.0\n",
      "Successfully installed UNKNOWN-0.0.0\n"
     ]
    }
   ],
   "source": [
    "!pip install ../codigo/ffmaxc/"
   ]
  },
  {
   "cell_type": "code",
   "execution_count": 6,
   "metadata": {},
   "outputs": [],
   "source": [
    "import ffmaxc as ffc"
   ]
  },
  {
   "cell_type": "code",
   "execution_count": 24,
   "metadata": {},
   "outputs": [],
   "source": [
    "start_time = time.time()\n",
    "\n",
    "red = ffc.create_flow_network()\n",
    "\n",
    "red.create_vertex('o', True, False) \n",
    "red.create_vertex('t', False, True) \n",
    "red.create_vertex('a', False, False)\n",
    "red.create_vertex('b', False, False)\n",
    "red.create_vertex('c', False, False)\n",
    "red.create_vertex('d', False, False)\n",
    "red.create_vertex('e', False, False)\n",
    "\n",
    "red.create_edge('o', 'a', 5)\n",
    "red.create_edge('o', 'b', 7)\n",
    "red.create_edge('o', 'c', 4)\n",
    "\n",
    "red.create_edge('a', 'b', 1)\n",
    "red.create_edge('a', 'd', 3)\n",
    "\n",
    "red.create_edge('b', 'c', 2)\n",
    "red.create_edge('b', 'd', 4)\n",
    "red.create_edge('b', 'e', 5)\n",
    "\n",
    "red.create_edge('c', 'e', 4)\n",
    "\n",
    "red.create_edge('d', 't', 9)\n",
    "\n",
    "red.create_edge('e', 'd', 1)\n",
    "red.create_edge('e', 't', 9)\n",
    "\n",
    "red.MaxFlow()\n",
    "\n",
    "end_time = time.time()"
   ]
  },
  {
   "cell_type": "code",
   "execution_count": 25,
   "metadata": {},
   "outputs": [
    {
     "name": "stdout",
     "output_type": "stream",
     "text": [
      "El ejemplo base tomó 0.0007884502410888672 segundos\n"
     ]
    }
   ],
   "source": [
    "secs_c = end_time-start_time\n",
    "print(\"El ejemplo base tomó\",secs_c,\"segundos\" )"
   ]
  },
  {
   "cell_type": "markdown",
   "metadata": {},
   "source": [
    "Así, nuestro nuevo paquete es:"
   ]
  },
  {
   "cell_type": "code",
   "execution_count": 28,
   "metadata": {},
   "outputs": [
    {
     "name": "stdout",
     "output_type": "stream",
     "text": [
      "1.1363773813123677 veces más rápido que el original\n"
     ]
    }
   ],
   "source": [
    "print(\"{} veces más rápido que el original\".format(secs_0 / secs_c))"
   ]
  },
  {
   "cell_type": "markdown",
   "metadata": {},
   "source": [
    "Verificamos que ambas implementaciones resuelven el problema correctamente:"
   ]
  },
  {
   "cell_type": "code",
   "execution_count": 30,
   "metadata": {},
   "outputs": [],
   "source": [
    "G = nx.DiGraph()\n",
    "\n",
    "G.add_edge('o', 'a', capacity=5)\n",
    "G.add_edge('o', 'b', capacity=7)\n",
    "G.add_edge('o', 'c', capacity=4)\n",
    "\n",
    "G.add_edge('a', 'b', capacity=1)\n",
    "G.add_edge('a', 'd', capacity=3)\n",
    "\n",
    "G.add_edge('b', 'c', capacity=2)\n",
    "G.add_edge('b', 'd', capacity=4)\n",
    "G.add_edge('b', 'e', capacity=5)\n",
    "\n",
    "G.add_edge('c', 'e', capacity=4)\n",
    "\n",
    "G.add_edge('d', 't', capacity=9)\n",
    "\n",
    "G.add_edge('e', 'd', capacity=1)\n",
    "G.add_edge('e', 't', capacity=9)\n",
    "\n",
    "flow_value, flow_dict = nx.maximum_flow(G, 'o', 't')"
   ]
  },
  {
   "cell_type": "code",
   "execution_count": 31,
   "metadata": {},
   "outputs": [
    {
     "data": {
      "text/plain": [
       "15"
      ]
     },
     "execution_count": 31,
     "metadata": {},
     "output_type": "execute_result"
    }
   ],
   "source": [
    "flow_value"
   ]
  }
 ],
 "metadata": {
  "kernelspec": {
   "display_name": "Python 3",
   "language": "python",
   "name": "python3"
  },
  "language_info": {
   "codemirror_mode": {
    "name": "ipython",
    "version": 3
   },
   "file_extension": ".py",
   "mimetype": "text/x-python",
   "name": "python",
   "nbconvert_exporter": "python",
   "pygments_lexer": "ipython3",
   "version": "3.8.5"
  }
 },
 "nbformat": 4,
 "nbformat_minor": 4
}
