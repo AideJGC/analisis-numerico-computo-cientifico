{
 "cells": [
  {
   "cell_type": "markdown",
   "metadata": {},
   "source": [
    "(COMPPARALELOCPUSSMC)="
   ]
  },
  {
   "cell_type": "markdown",
   "metadata": {},
   "source": [
    "# 5.4 Cómputo en paralelo usando CPUs en un sistema de memoria compartida (SMC)"
   ]
  },
  {
   "cell_type": "markdown",
   "metadata": {},
   "source": [
    "```{admonition} Notas para contenedor de docker:\n",
    "\n",
    "Comando de docker para ejecución de la nota de forma local:\n",
    "\n",
    "nota: cambiar `<ruta a mi directorio>` por la ruta de directorio que se desea mapear a `/datos` dentro del contenedor de docker.\n",
    "\n",
    "`docker run --rm -v <ruta a mi directorio>:/datos --name jupyterlab_optimizacion_2 -p 8888:8888 -p 8787:8787 -d palmoreck/jupyterlab_optimizacion_2:3.0.0`\n",
    "\n",
    "password para jupyterlab: `qwerty`\n",
    "\n",
    "Detener el contenedor de docker:\n",
    "\n",
    "`docker stop jupyterlab_optimizacion_2`\n",
    "\n",
    "Documentación de la imagen de docker `palmoreck/jupyterlab_optimizacion_2:3.0.0` en [liga](https://github.com/palmoreck/dockerfiles/tree/master/jupyterlab/optimizacion_2).\n",
    "\n",
    "```"
   ]
  },
  {
   "cell_type": "markdown",
   "metadata": {},
   "source": [
    "---"
   ]
  },
  {
   "cell_type": "markdown",
   "metadata": {},
   "source": [
    "Nota generada a partir de [liga1](https://www.dropbox.com/s/oauifmx3e19ofyq/2.3.Sistemas_de_memoria_compartida_Pthreads.pdf?dl=0), [liga2](https://www.dropbox.com/s/vcxbrqkk6x946d7/2.4.Sistemas_de_memoria_compartida_openMP.pdf?dl=0), [liga3](https://www.dropbox.com/s/v4ub0p3ndf7w1p0/2.2.Sistemas_de_memoria_distribuida_MPI.pdf?dl=0)"
   ]
  },
  {
   "cell_type": "markdown",
   "metadata": {},
   "source": [
    "```{admonition} Al final de esta nota el y la lectora:\n",
    ":class: tip\n",
    "\n",
    "*\n",
    "\n",
    "```"
   ]
  },
  {
   "cell_type": "markdown",
   "metadata": {},
   "source": [
    "Se presentan códigos y sus ejecuciones en una máquina `m4.16xlarge` de la nube de [AWS](https://aws.amazon.com/). Se utilizó la AMI `opt2-aws-educate-openblas-02-05-2021` de la región `us-east-1` (Virginia) para reproducibilidad de resultados. Tal AMI se construyó a partir de una AMI `ubuntu 20.04 - ami-042e8287309f5df03` con el [script_profiling_and_BLAS.sh](https://github.com/palmoreck/scripts_for_useful_tools_installations/blob/main/AWS/ubuntu_20.04/optimizacion_2/script_profiling_and_BLAS.sh)"
   ]
  },
  {
   "cell_type": "markdown",
   "metadata": {},
   "source": [
    "````{admonition} Comentario\n",
    "\n",
    "Si se utiliza la *AMI* `opt2-aws-educate-openblas-04-04-2021` colocar en `User data` el siguiente *script*:\n",
    "\n",
    "```bash\n",
    "\n",
    "#!/bin/bash\n",
    "##variables:\n",
    "region=us-east-1 #make sure instance is in Virginia\n",
    "name_instance=OpenBLAS\n",
    "USER=ubuntu\n",
    "##System update\n",
    "apt-get update -yq\n",
    "##Tag instance\n",
    "INSTANCE_ID=$(curl -s http://instance-data/latest/meta-data/instance-id)\n",
    "PUBLIC_IP=$(curl -s http://instance-data/latest/meta-data/public-ipv4)\n",
    "sudo -H -u $USER bash -c \"/home/$USER/.local/bin/aws ec2 create-tags --resources $INSTANCE_ID --tag Key=Name,Value=$name_instance-$PUBLIC_IP --region=$region\"\n",
    "sudo -H -u $USER bash -c \"cd / && /home/$USER/.local/bin/jupyter lab --ip=0.0.0.0 --no-browser --config=/home/$USER/.jupyter/jupyter_notebook_config.py &\"\n",
    "\n",
    "```\n",
    "\n",
    "````"
   ]
  },
  {
   "cell_type": "markdown",
   "metadata": {},
   "source": [
    "La máquina `m4.16xlarge` tiene las siguientes características:"
   ]
  },
  {
   "cell_type": "code",
   "execution_count": 1,
   "metadata": {
    "tags": [
     "output_scroll"
    ]
   },
   "outputs": [
    {
     "name": "stdout",
     "output_type": "stream",
     "text": [
      "Architecture:                    x86_64\n",
      "CPU op-mode(s):                  32-bit, 64-bit\n",
      "Byte Order:                      Little Endian\n",
      "Address sizes:                   46 bits physical, 48 bits virtual\n",
      "CPU(s):                          64\n",
      "On-line CPU(s) list:             0-63\n",
      "Thread(s) per core:              2\n",
      "Core(s) per socket:              16\n",
      "Socket(s):                       2\n",
      "NUMA node(s):                    2\n",
      "Vendor ID:                       GenuineIntel\n",
      "CPU family:                      6\n",
      "Model:                           79\n",
      "Model name:                      Intel(R) Xeon(R) CPU E5-2686 v4 @ 2.30GHz\n",
      "Stepping:                        1\n",
      "CPU MHz:                         2213.083\n",
      "CPU max MHz:                     3000.0000\n",
      "CPU min MHz:                     1200.0000\n",
      "BogoMIPS:                        4600.00\n",
      "Hypervisor vendor:               Xen\n",
      "Virtualization type:             full\n",
      "L1d cache:                       1 MiB\n",
      "L1i cache:                       1 MiB\n",
      "L2 cache:                        8 MiB\n",
      "L3 cache:                        90 MiB\n",
      "NUMA node0 CPU(s):               0-15,32-47\n",
      "NUMA node1 CPU(s):               16-31,48-63\n",
      "Vulnerability Itlb multihit:     KVM: Vulnerable\n",
      "Vulnerability L1tf:              Mitigation; PTE Inversion\n",
      "Vulnerability Mds:               Vulnerable: Clear CPU buffers attempted, no microcode; SMT Host state unknown\n",
      "Vulnerability Meltdown:          Mitigation; PTI\n",
      "Vulnerability Spec store bypass: Vulnerable\n",
      "Vulnerability Spectre v1:        Mitigation; usercopy/swapgs barriers and __user pointer sanitization\n",
      "Vulnerability Spectre v2:        Mitigation; Full generic retpoline, STIBP disabled, RSB filling\n",
      "Vulnerability Srbds:             Not affected\n",
      "Vulnerability Tsx async abort:   Vulnerable: Clear CPU buffers attempted, no microcode; SMT Host state unknown\n",
      "Flags:                           fpu vme de pse tsc msr pae mce cx8 apic sep mtrr pge mca cmov pat pse36 clflush mmx fxsr sse sse2 ht syscall nx pdpe1gb rdtscp lm constant_tsc arch_perfmon rep_good nopl xtopology nonstop_tsc cpuid aperfmperf pni pclmulqdq monitor est ssse3 fma cx16 pcid sse4_1 sse4_2 x2apic movbe popcnt tsc_deadline_timer aes xsave avx f16c rdrand hypervisor lahf_lm abm cpuid_fault invpcid_single pti fsgsbase bmi1 hle avx2 smep bmi2 erms invpcid rtm xsaveopt ida\n"
     ]
    }
   ],
   "source": [
    "%%bash\n",
    "lscpu"
   ]
  },
  {
   "cell_type": "code",
   "execution_count": 2,
   "metadata": {
    "tags": [
     "output_scroll"
    ]
   },
   "outputs": [
    {
     "name": "stdout",
     "output_type": "stream",
     "text": [
      "  *-firmware\n",
      "       description: BIOS\n",
      "       vendor: Xen\n",
      "       physical id: 0\n",
      "       version: 4.11.amazon\n",
      "       date: 08/24/2006\n",
      "       size: 96KiB\n",
      "       capabilities: pci edd\n",
      "  *-memory\n",
      "       description: System Memory\n",
      "       physical id: 1000\n",
      "       size: 256GiB\n",
      "       capabilities: ecc\n",
      "       configuration: errordetection=multi-bit-ecc\n",
      "     *-bank:0\n",
      "          description: DIMM RAM\n",
      "          physical id: 0\n",
      "          slot: DIMM 0\n",
      "          size: 16GiB\n",
      "          width: 64 bits\n",
      "     *-bank:1\n",
      "          description: DIMM RAM\n",
      "          physical id: 1\n",
      "          slot: DIMM 1\n",
      "          size: 16GiB\n",
      "          width: 64 bits\n",
      "     *-bank:2\n",
      "          description: DIMM RAM\n",
      "          physical id: 2\n",
      "          slot: DIMM 2\n",
      "          size: 16GiB\n",
      "          width: 64 bits\n",
      "     *-bank:3\n",
      "          description: DIMM RAM\n",
      "          physical id: 3\n",
      "          slot: DIMM 3\n",
      "          size: 16GiB\n",
      "          width: 64 bits\n",
      "     *-bank:4\n",
      "          description: DIMM RAM\n",
      "          physical id: 4\n",
      "          slot: DIMM 4\n",
      "          size: 16GiB\n",
      "          width: 64 bits\n",
      "     *-bank:5\n",
      "          description: DIMM RAM\n",
      "          physical id: 5\n",
      "          slot: DIMM 5\n",
      "          size: 16GiB\n",
      "          width: 64 bits\n",
      "     *-bank:6\n",
      "          description: DIMM RAM\n",
      "          physical id: 6\n",
      "          slot: DIMM 6\n",
      "          size: 16GiB\n",
      "          width: 64 bits\n",
      "     *-bank:7\n",
      "          description: DIMM RAM\n",
      "          physical id: 7\n",
      "          slot: DIMM 7\n",
      "          size: 16GiB\n",
      "          width: 64 bits\n",
      "     *-bank:8\n",
      "          description: DIMM RAM\n",
      "          physical id: 8\n",
      "          slot: DIMM 8\n",
      "          size: 16GiB\n",
      "          width: 64 bits\n",
      "     *-bank:9\n",
      "          description: DIMM RAM\n",
      "          physical id: 9\n",
      "          slot: DIMM 9\n",
      "          size: 16GiB\n",
      "          width: 64 bits\n",
      "     *-bank:10\n",
      "          description: DIMM RAM\n",
      "          physical id: a\n",
      "          slot: DIMM 10\n",
      "          size: 16GiB\n",
      "          width: 64 bits\n",
      "     *-bank:11\n",
      "          description: DIMM RAM\n",
      "          physical id: b\n",
      "          slot: DIMM 11\n",
      "          size: 16GiB\n",
      "          width: 64 bits\n",
      "     *-bank:12\n",
      "          description: DIMM RAM\n",
      "          physical id: c\n",
      "          slot: DIMM 12\n",
      "          size: 16GiB\n",
      "          width: 64 bits\n",
      "     *-bank:13\n",
      "          description: DIMM RAM\n",
      "          physical id: d\n",
      "          slot: DIMM 13\n",
      "          size: 16GiB\n",
      "          width: 64 bits\n",
      "     *-bank:14\n",
      "          description: DIMM RAM\n",
      "          physical id: e\n",
      "          slot: DIMM 14\n",
      "          size: 16GiB\n",
      "          width: 64 bits\n",
      "     *-bank:15\n",
      "          description: DIMM RAM\n",
      "          physical id: f\n",
      "          slot: DIMM 15\n",
      "          size: 16GiB\n",
      "          width: 64 bits\n"
     ]
    }
   ],
   "source": [
    "%%bash\n",
    "sudo lshw -C memory"
   ]
  },
  {
   "cell_type": "code",
   "execution_count": 3,
   "metadata": {},
   "outputs": [
    {
     "name": "stdout",
     "output_type": "stream",
     "text": [
      "Linux ip-10-0-0-84 5.4.0-1038-aws #40-Ubuntu SMP Fri Feb 5 23:50:40 UTC 2021 x86_64 x86_64 x86_64 GNU/Linux\n"
     ]
    }
   ],
   "source": [
    "%%bash\n",
    "uname -ar #r for kernel, a for all"
   ]
  },
  {
   "cell_type": "markdown",
   "metadata": {},
   "source": [
    "```{admonition} Observación\n",
    ":class: tip\n",
    "\n",
    "En la celda anterior se utilizó el comando de *magic* `%%bash`. Algunos comandos de *magic* los podemos utilizar también con `import`. Ver [ipython-magics](https://ipython.readthedocs.io/en/stable/interactive/magics.html#)\n",
    "\n",
    "```"
   ]
  },
  {
   "cell_type": "markdown",
   "metadata": {},
   "source": [
    "## Sistemas de memoria compartida (SMC)"
   ]
  },
  {
   "cell_type": "markdown",
   "metadata": {},
   "source": [
    "Un SMC en general se ve como el siguiente dibujo:"
   ]
  },
  {
   "cell_type": "markdown",
   "metadata": {},
   "source": [
    "<img src=\"https://dl.dropboxusercontent.com/s/ao3if8tzwsvzfi7/shared_memory_sistems.png?dl=0\" heigth=\"500\" width=\"500\">"
   ]
  },
  {
   "cell_type": "markdown",
   "metadata": {},
   "source": [
    "El dibujo anterior es un SMC con acceso uniforme a la memoria ([UMA](https://en.wikipedia.org/wiki/Uniform_memory_access)), esto es, cada proceso o *thread* creado en el procesador o *core* accede con las mismas velocidades a la memoria.\n",
    "\n",
    "La **comunicación** en este tipo de sistemas depende si se utilizan procesos o *threads* ya que aunque los procesos generados por un proceso principal tienen acceso a la memoria, los cambios/actualizaciones que haga uno de ellos a una variable no lo llegan a ver los otros procesos. Esto es distinto con los *threads* dado que un cambio que realice un *thread* en una variable sí lo pueden ver los otros *threads*. Lo anterior se debe a las distintas direcciones de memoria que utilizan los procesos vs la misma dirección de memoria que utilizan los *threads*."
   ]
  },
  {
   "cell_type": "markdown",
   "metadata": {},
   "source": [
    "Recuérdese que se crean *threads* a partir de un proceso principal, realizan *fork*, y una vez que terminan su ejecución se unen nuevamente, realizan *join*, esto es el *threading*."
   ]
  },
  {
   "cell_type": "markdown",
   "metadata": {},
   "source": [
    "<img src=\"https://dl.dropboxusercontent.com/s/0vnjfdk7fo62m8h/threading.png?dl=0\" heigth=\"400\" width=\"400\">"
   ]
  },
  {
   "cell_type": "markdown",
   "metadata": {},
   "source": [
    "Ver {ref}`Threading o Hyperthreading <THREADINGHYPER>`."
   ]
  },
  {
   "cell_type": "markdown",
   "metadata": {},
   "source": [
    "```{admonition} Observación\n",
    ":class: tip\n",
    "\n",
    "Hay paqueterías que crean subprocesos a partir de un proceso principal en lugar de *threads*. En este caso en lugar de un *fork* se realiza un *spawn*. Los subprocesos pueden ver cambios a variables hechos por otros. \n",
    "\n",
    "Ver [Contexts and start methods](https://docs.python.org/3.9/library/multiprocessing.html#contexts-and-start-methods) y [difference between threadpool vs pool in python multiprocessing](https://stackoverflow.com/questions/46045956/whats-the-difference-between-threadpool-vs-pool-in-python-multiprocessing-modul) para diferencias entre *fork* y *spawn*.\n",
    "\n",
    "```"
   ]
  },
  {
   "cell_type": "markdown",
   "metadata": {},
   "source": [
    "```{admonition} Definición\n",
    "\n",
    "Las variables que pueden ser accesadas por todos los *threads* en un SMC se les nombra **variables compartidas**.\n",
    "\n",
    "```"
   ]
  },
  {
   "cell_type": "markdown",
   "metadata": {},
   "source": [
    "Trabajar sobre SMC tiene ventajas y desventajas. Una ventaja es facilidad de comunicación y una desventaja es la **coordinación** para ejecutar instrucciones. Por ejemplo, con variables compartidas se puede realizar la comunicación entre los *threads*, sin embargo, para el uso de tales variables por diferentes *threads* debemos crear candados, *locks*. Lo anterior surge pues si un *thread* con etiqueta $1$ accede a una variable compartida, otro *thread* con etiqueta $2$, no podrá utilizarla hasta que el thread $1$ finalice de usarla. Ver [Thread Safety](https://en.wikipedia.org/wiki/Thread_safety) y [Race Condition](https://en.wikipedia.org/wiki/Race_condition#Computing)."
   ]
  },
  {
   "cell_type": "markdown",
   "metadata": {},
   "source": [
    "```{admonition} Definición\n",
    "\n",
    "En una *race condition* múltiples *threads* intentan acceder a un recurso compartido, al menos uno de los accesos resulta en una modificación al recurso y posteriormente los siguientes accesos pueden no ver la modificación. A la sección del código que causa la *race condition* se le nombra *critical section*. Las *critical sections* se ejecutan con código secuencial o con *locks* para evitar las *race conditions*.\n",
    "\n",
    "```"
   ]
  },
  {
   "cell_type": "markdown",
   "metadata": {},
   "source": [
    "```{admonition} Comentarios\n",
    "\n",
    "* Para crear procesos o *threads* en los lenguajes de programación de *C, Python* o *R*, utilizamos las librerías, API's o extensiones vía paquetes a tales lenguajes. Lo anterior se debe a que *C, Python* y *R* en sus implementaciones más utilizadas o estándar, fueron diseñados con el propósito de utilizarse sobre sistemas con un sólo procesador. En distintas implementaciones de los lenguajes hay soporte para SMC. \n",
    "\n",
    "* Ejemplos de máquinas con SMC son las laptops, los celulares, máquinas de escritorio con más de un *core*.\n",
    "\n",
    "* Otro tipo de SMC se puede representar con el siguiente dibujo:\n",
    "\n",
    "<img src=\"https://dl.dropboxusercontent.com/s/dqwdqdxiecj91vy/shared_memory_systems_2.png?dl=0\" heigth=\"500\" width=\"500\">\n",
    "\n",
    "en el que los procesos o *threads* pueden acceder a la memoria en una forma no uniforme [(NUMA)](https://en.wikipedia.org/wiki/Non-uniform_memory_access). Una de las diferencias que se tienen entre un NUMA y un UMA es la tasa de transferencia de datos para *cores* que están más cercanos a una memoria.\n",
    "\n",
    "* Un sistema de memoria distribuida (SMD) tiene una conexión, por ejemplo vía una *network*, entre pares de *core-memoria* y en general se ve como el siguiente dibujo:\n",
    "\n",
    "<img src=\"https://dl.dropboxusercontent.com/s/iky7af1m3dcj3e0/distributed_memory_systems.png?dl=0\" heigth=\"600\" width=\"600\">\n",
    "\n",
    "La memoria en un SMD asociada al *core* sólo puede ser accesada por éste y es inaccesible a los demás *cores*, esto es, se tiene una memoria \"privada\". Lo anterior contrasta con los SMC en los que todos los *cores* accesan a una memoria compartida. En un SMD el cómputo distribuido crea múltiples procesos a partir de un proceso principal. En un SMC el cómputo paralelo crea múltiples procesos o *threads*. Un ejemplo de un SMD es un clúster de máquinas. Cada máquina en el clúster puede ser un SMC y por tanto los procesos en cada máquina tienen la capacidad de crear procesos o *threads*. En este caso se tiene un sistema híbrido SMD y SMC. Un programa diseñado para ejecutarse en un SMD puede ejecutarse en un SMC pues se divide su memoria de forma lógica en espacios de memoria privados para los *threads*.\n",
    "\n",
    "```"
   ]
  },
  {
   "cell_type": "markdown",
   "metadata": {},
   "source": [
    "## [OpenMP](http://www.openmp.org/)"
   ]
  },
  {
   "cell_type": "markdown",
   "metadata": {},
   "source": [
    "Es una extensión al lenguaje *C* y es una API para cómputo en paralelo en un sistema de memoria compartida, *aka, shared memory parallel programming* con CPUs. Lo anterior *OpenMP* lo posibilita con el *threading*."
   ]
  },
  {
   "cell_type": "markdown",
   "metadata": {},
   "source": [
    "* Las siglas *MP* se refieren a *multiprocessing*, un sinónimo de *shared memory parallel computing*. *OpenMP* se utiliza en un SMC por lo que cada *thread* tiene acceso a la memoria.\n",
    "\n",
    "* Algunas características de *OpenMP* son:\n",
    "\n",
    "    * Paralelización de ciclos *for* secuenciales en los que las iteraciones son independientes una de la otra de forma simple.\n",
    "\n",
    "    * Paralelización de tareas y sincronización explícita de *threads*."
   ]
  },
  {
   "cell_type": "markdown",
   "metadata": {},
   "source": [
    "```{margin}\n",
    "\n",
    "Las directivas son instrucciones que indican al [preprocesador](https://en.wikipedia.org/wiki/Preprocessor) (vía la compilación) que ejecutaremos una instrucción que no se encuentra en la especificación básica del lenguaje C. Ver [C preprocessor](https://en.wikipedia.org/wiki/C_preprocessor).\n",
    "\n",
    "```"
   ]
  },
  {
   "cell_type": "markdown",
   "metadata": {},
   "source": [
    "* Provee **directivas** vía `#pragma omp` para el cómputo en paralelo en un SMC."
   ]
  },
  {
   "cell_type": "markdown",
   "metadata": {},
   "source": [
    "```{admonition} Comentario\n",
    "\n",
    "Los `pragma` se utilizan para extender la funcionalidad de *C* pues no son parte de su especificación básica. Las versiones más recientes del compilador `gcc` soportan a los `pragma` y todas las *preprocessor directives* son por *default* de longitud una línea.\n",
    "\n",
    "Ver [pragmas](https://gcc.gnu.org/onlinedocs/cpp/Pragmas.html).\n",
    "\n",
    "```"
   ]
  },
  {
   "cell_type": "markdown",
   "metadata": {},
   "source": [
    "### Directiva parallel"
   ]
  },
  {
   "cell_type": "markdown",
   "metadata": {},
   "source": [
    "### Ejemplo"
   ]
  },
  {
   "cell_type": "markdown",
   "metadata": {},
   "source": [
    "`hello_world_omp.c`"
   ]
  },
  {
   "cell_type": "code",
   "execution_count": 4,
   "metadata": {},
   "outputs": [
    {
     "name": "stdout",
     "output_type": "stream",
     "text": [
      "Writing hello_world_omp.c\n"
     ]
    }
   ],
   "source": [
    "%%file hello_world_omp.c\n",
    "#include<stdio.h>\n",
    "#include<stdlib.h>\n",
    "#include<omp.h> \n",
    "\n",
    "void Hello(void);\n",
    "int main(){\n",
    "\n",
    "    #pragma omp parallel\n",
    "        Hello();\n",
    "    \n",
    "    return 0;\n",
    "}\n",
    "\n",
    "void Hello(void){\n",
    "    int my_rank = omp_get_thread_num(); \n",
    "    int num_th = omp_get_num_threads(); \n",
    "    printf(\"Hola del thread: %d de %d\\n\", my_rank, num_th);\n",
    "}\n"
   ]
  },
  {
   "cell_type": "code",
   "execution_count": 5,
   "metadata": {},
   "outputs": [],
   "source": [
    "%%bash\n",
    "gcc -Wall -fopenmp hello_world_omp.c -o hello_world_omp.out"
   ]
  },
  {
   "cell_type": "code",
   "execution_count": 6,
   "metadata": {
    "tags": [
     "output_scroll"
    ]
   },
   "outputs": [
    {
     "name": "stdout",
     "output_type": "stream",
     "text": [
      "Hola del thread: 44 de 64\n",
      "Hola del thread: 11 de 64\n",
      "Hola del thread: 12 de 64\n",
      "Hola del thread: 16 de 64\n",
      "Hola del thread: 46 de 64\n",
      "Hola del thread: 13 de 64\n",
      "Hola del thread: 23 de 64\n",
      "Hola del thread: 17 de 64\n",
      "Hola del thread: 51 de 64\n",
      "Hola del thread: 39 de 64\n",
      "Hola del thread: 25 de 64\n",
      "Hola del thread: 59 de 64\n",
      "Hola del thread: 3 de 64\n",
      "Hola del thread: 48 de 64\n",
      "Hola del thread: 1 de 64\n",
      "Hola del thread: 30 de 64\n",
      "Hola del thread: 38 de 64\n",
      "Hola del thread: 54 de 64\n",
      "Hola del thread: 4 de 64\n",
      "Hola del thread: 20 de 64\n",
      "Hola del thread: 2 de 64\n",
      "Hola del thread: 33 de 64\n",
      "Hola del thread: 47 de 64\n",
      "Hola del thread: 40 de 64\n",
      "Hola del thread: 5 de 64\n",
      "Hola del thread: 56 de 64\n",
      "Hola del thread: 27 de 64\n",
      "Hola del thread: 37 de 64\n",
      "Hola del thread: 50 de 64\n",
      "Hola del thread: 41 de 64\n",
      "Hola del thread: 49 de 64\n",
      "Hola del thread: 7 de 64\n",
      "Hola del thread: 8 de 64\n",
      "Hola del thread: 10 de 64\n",
      "Hola del thread: 18 de 64\n",
      "Hola del thread: 9 de 64\n",
      "Hola del thread: 29 de 64\n",
      "Hola del thread: 14 de 64\n",
      "Hola del thread: 15 de 64\n",
      "Hola del thread: 26 de 64\n",
      "Hola del thread: 55 de 64\n",
      "Hola del thread: 45 de 64\n",
      "Hola del thread: 34 de 64\n",
      "Hola del thread: 60 de 64\n",
      "Hola del thread: 36 de 64\n",
      "Hola del thread: 31 de 64\n",
      "Hola del thread: 57 de 64\n",
      "Hola del thread: 28 de 64\n",
      "Hola del thread: 32 de 64\n",
      "Hola del thread: 58 de 64\n",
      "Hola del thread: 22 de 64\n",
      "Hola del thread: 0 de 64\n",
      "Hola del thread: 43 de 64\n",
      "Hola del thread: 61 de 64\n",
      "Hola del thread: 21 de 64\n",
      "Hola del thread: 6 de 64\n",
      "Hola del thread: 52 de 64\n",
      "Hola del thread: 19 de 64\n",
      "Hola del thread: 24 de 64\n",
      "Hola del thread: 35 de 64\n",
      "Hola del thread: 53 de 64\n",
      "Hola del thread: 62 de 64\n",
      "Hola del thread: 42 de 64\n",
      "Hola del thread: 63 de 64\n"
     ]
    }
   ],
   "source": [
    "%%bash\n",
    "./hello_world_omp.out"
   ]
  },
  {
   "cell_type": "markdown",
   "metadata": {},
   "source": [
    "````{admonition} Comentarios\n",
    "\n",
    "* `omp.h` es un *header file* con prototipos y definiciones de macros para uso de la librería de funciones y macros de *OpenMP*.\n",
    "\n",
    "* La función `Hello` será ejecutada por los *threads*.\n",
    "\n",
    "* La función `omp_get_thread_num` da el *rank* asignado por el *run time system* a cada *thread*.\n",
    "\n",
    "* Con la función `omp_get_num_threads` se obtiene el número de *threads* que realizaron un *fork* del *thread* principal.\n",
    "\n",
    "* Obsérvese que para la compilación se utilizó la *flag* `-fopenmp` para soporte de *OpenMP*.\n",
    "\n",
    "* Dependiendo del número de cores de nuestro sistema tendremos diferentes número de `printf`'s.\n",
    "\n",
    "* Lo que continúa a la línea de `#pragma omp parallel` es un *structured block*, esto es, un *statement* o conjunto de *statements* que tienen un punto de entrada y un punto de salida. En el caso anterior sólo se llama a la función `Hello`, no se permiten *statements* como el siguiente:\n",
    "\n",
    "```C\n",
    "#pragma omp parallel\n",
    "\n",
    "if(...) break;\n",
    "\n",
    "```\n",
    "\n",
    "ni tampoco:\n",
    "    \n",
    "```C\n",
    "#pragma omp parallel\n",
    "\n",
    "    {\n",
    "        if(variable == valor) return 1;\n",
    "        return -1;\n",
    "    }\n",
    "\n",
    "```\n",
    "\n",
    "````"
   ]
  },
  {
   "cell_type": "markdown",
   "metadata": {},
   "source": [
    "A continuación de la directiva `parallel` podemos usar diferentes tipos de *clauses*. Una *clause* en *OpenMP* es un texto que modifica una directiva. Por ejemplo, podemos usar la *clause* `num_threads` para especificar el número de threads que ejecutarán el *structured block*."
   ]
  },
  {
   "cell_type": "markdown",
   "metadata": {},
   "source": [
    "### `num_threads` *clause*"
   ]
  },
  {
   "cell_type": "markdown",
   "metadata": {},
   "source": [
    "### Ejemplo"
   ]
  },
  {
   "cell_type": "markdown",
   "metadata": {},
   "source": [
    "`hello_world_omp_num_threads.c`"
   ]
  },
  {
   "cell_type": "code",
   "execution_count": 7,
   "metadata": {},
   "outputs": [
    {
     "name": "stdout",
     "output_type": "stream",
     "text": [
      "Writing hello_world_omp_num_threads.c\n"
     ]
    }
   ],
   "source": [
    "%%file hello_world_omp_num_threads.c\n",
    "#include<stdio.h>\n",
    "#include<stdlib.h>\n",
    "#include<omp.h> \n",
    "\n",
    "void Hello(void); \n",
    "int main(){\n",
    "    int n_threads = 5;\n",
    "    #pragma omp parallel num_threads(n_threads) \n",
    "        Hello();\n",
    "    \n",
    "    return 0;\n",
    "}\n",
    "\n",
    "void Hello(void){\n",
    "    int my_rank = omp_get_thread_num(); \n",
    "    int num_th = omp_get_num_threads(); \n",
    "    printf(\"Hola del thread: %d de %d\\n\", my_rank, num_th);\n",
    "}\n"
   ]
  },
  {
   "cell_type": "code",
   "execution_count": 8,
   "metadata": {},
   "outputs": [],
   "source": [
    "%%bash\n",
    "gcc -Wall -fopenmp hello_world_omp_num_threads.c -o hello_world_omp_num_threads.out"
   ]
  },
  {
   "cell_type": "code",
   "execution_count": 9,
   "metadata": {
    "tags": [
     "output_scroll"
    ]
   },
   "outputs": [
    {
     "name": "stdout",
     "output_type": "stream",
     "text": [
      "Hola del thread: 1 de 5\n",
      "Hola del thread: 3 de 5\n",
      "Hola del thread: 2 de 5\n",
      "Hola del thread: 4 de 5\n",
      "Hola del thread: 0 de 5\n"
     ]
    }
   ],
   "source": [
    "%%bash\n",
    "./hello_world_omp_num_threads.out"
   ]
  },
  {
   "cell_type": "markdown",
   "metadata": {},
   "source": [
    "### *Reduction clause* "
   ]
  },
  {
   "cell_type": "markdown",
   "metadata": {},
   "source": [
    "*OpenMP* provee la *reduction clause* para aplicar la operación de suma (operador binario) a cada resultado calculado de un *thread* de forma repetida y almacenar en una variable la respuesta.\n",
    "\n",
    "Nombramos *reduction variable* a la variable que almacenará los resultados intermedios calculados por cada *thread* y *reduction operator* a la operación binaria (por ejemplo una suma o multiplicación) que se aplica repetidamente a una secuencia de operandos para obtener un resultado, en un proceso que se le nombra *reduction*. \n",
    "\n",
    "Por ejemplo, si `A` es un arreglo de `n` enteros, el cálculo:\n",
    "\n",
    "```C\n",
    "int sum = 0;\n",
    "for(i=0;i<n;i++)\n",
    "    sum += A[i];\n",
    "``` \n",
    "\n",
    "es un proceso de *reduction* en el que el *reduction operator* es la suma."
   ]
  },
  {
   "cell_type": "markdown",
   "metadata": {},
   "source": [
    "En openMP utilizamos la *reduction clause* en la *parallel directive*."
   ]
  },
  {
   "cell_type": "markdown",
   "metadata": {},
   "source": [
    "\n",
    "```C\n",
    "sum_shared = 0.0\n",
    "#pragma omp parallel num_threads(n_threads) reduction(+: sum_shared)\n",
    "    sum_shared += Rcf_parallel(a,h_hat,n_subintervals_per_core);\n",
    "\n",
    "```\n",
    "\n",
    "Con la *reduction clause* openMP crea una variable privada por cada *thread* y el *run time system* almacena el resultado de cada *thread* en esta variable. *openMP* también crea una *critical section* y los valores almacenados en las variables privadas son sumadas en esta *critical section* y almacenados en la *reduction variable* `sum_shared`. El *reduction operator* es: `+`.\n",
    "\n",
    "La sintaxis de la *reduction clause* es:\n",
    "\n",
    "```C\n",
    "reduction( <operator>: <variable list>)\n",
    "```\n",
    "\n",
    "El *reduction operator* puede ser cualquiera de los operadores: `+,*,-,&,|,^,&&,||`. Cabe señalar que el proceso de *reduction* asume que los operadores utilizados cumplen con la propiedad asociativa (por ejemplo, el operador de resta no cumple con esto).\n"
   ]
  },
  {
   "cell_type": "markdown",
   "metadata": {},
   "source": [
    "La variable que está en la *reduction clause* es compartida. Sin embargo una variable privada es creada por cada *thread* en el *team* (**con el mismo nombre** que aparece en la *reduction clause*) y si un *thread* ejecuta un statement en el *parallel block* que involucra a la variable, entonces se utiliza la variable privada y al finalizar el *parallel block*, los valores calculados en las variables privadas son combinados en la variable compartida."
   ]
  },
  {
   "cell_type": "markdown",
   "metadata": {},
   "source": [
    "### Ejemplo "
   ]
  },
  {
   "cell_type": "markdown",
   "metadata": {},
   "source": [
    "En el siguiente código se muestra el uso de nombres de variables al definir variables privadas y compartidas en una *reduction clause*."
   ]
  },
  {
   "cell_type": "markdown",
   "metadata": {},
   "source": [
    "`private_shared_variable_reduction_clause_example.c`"
   ]
  },
  {
   "cell_type": "code",
   "execution_count": 10,
   "metadata": {},
   "outputs": [
    {
     "name": "stdout",
     "output_type": "stream",
     "text": [
      "Writing private_shared_variable_reduction_clause_example.c\n"
     ]
    }
   ],
   "source": [
    "%%file private_shared_variable_reduction_clause_example.c\n",
    "#include<stdio.h>\n",
    "#include<stdlib.h>\n",
    "#include<omp.h>\n",
    "\n",
    "int main(int argc, char *argv[]){\n",
    "    long n_threads;\n",
    "    int private_variable;\n",
    "    int sum_shared = 7;\n",
    "        \n",
    "    n_threads = strtol(argv[1], NULL, 10);\n",
    "    \n",
    "    printf(\"variable sum_shared al inicio : %d\\n\", sum_shared);\n",
    "    \n",
    "    #pragma omp parallel num_threads(n_threads) reduction(+: sum_shared)\n",
    "    {\n",
    "        int my_rank = omp_get_thread_num();\n",
    "        if(my_rank==0)\n",
    "            printf(\"sum_shared, printf 1 del thread 0: %d\\n\", sum_shared);\n",
    "        else\n",
    "            printf(\"sum_shared, prinftf 1 thread 1: %d\\n\", sum_shared);\n",
    "        sum_shared = (my_rank==0)?10:20;\n",
    "        if(my_rank==0)\n",
    "            printf(\"sum_shared, printf 2 del thread 0: %d\\n\", sum_shared);\n",
    "        else\n",
    "            printf(\"sum_shared, printf 2 del thread 1: %d\\n\", sum_shared);\n",
    "        private_variable = (my_rank==0)?1:2;\n",
    "        sum_shared += private_variable;\n",
    "        if(my_rank==0)\n",
    "            printf(\"sum_shared, printf 3 del thread 0: %d\\n\", sum_shared);\n",
    "        else\n",
    "            printf(\"sum_shared, printf 3 del thread 1: %d\\n\", sum_shared);\n",
    "    \n",
    "    }\n",
    "    printf(\"sum_shared al final de la directive parallel %d\\n\", sum_shared);\n",
    "    \n",
    "    return 0;\n",
    "}"
   ]
  },
  {
   "cell_type": "markdown",
   "metadata": {},
   "source": [
    "Compilamos:"
   ]
  },
  {
   "cell_type": "code",
   "execution_count": 11,
   "metadata": {},
   "outputs": [],
   "source": [
    "%%bash\n",
    "gcc -Wall -fopenmp private_shared_variable_reduction_clause_example.c -o private_shared_variable_reduction_clause_example.out "
   ]
  },
  {
   "cell_type": "markdown",
   "metadata": {},
   "source": [
    "Ejecutamos:"
   ]
  },
  {
   "cell_type": "code",
   "execution_count": 12,
   "metadata": {},
   "outputs": [
    {
     "name": "stdout",
     "output_type": "stream",
     "text": [
      "variable sum_shared al inicio : 7\n",
      "sum_shared, printf 1 del thread 0: 0\n",
      "sum_shared, printf 2 del thread 0: 10\n",
      "sum_shared, printf 3 del thread 0: 11\n",
      "sum_shared, prinftf 1 thread 1: 0\n",
      "sum_shared, printf 2 del thread 1: 20\n",
      "sum_shared, printf 3 del thread 1: 22\n",
      "sum_shared al final de la directive parallel 40\n"
     ]
    }
   ],
   "source": [
    "%%bash\n",
    "./private_shared_variable_reduction_clause_example.out 2"
   ]
  },
  {
   "cell_type": "markdown",
   "metadata": {},
   "source": [
    "```{admonition} Comentario\n",
    "\n",
    "La variable `sum_shared` se inicializa en 0. En general, las variables privadas creadas para una *reduction clause* son inicializadas al *identity value* para el *operator*. Por ejemplo, si el *operator* es la multiplicación, entonces las variables privadas son inicializadas en 1.\n",
    "\n",
    "```"
   ]
  },
  {
   "cell_type": "markdown",
   "metadata": {},
   "source": [
    "### Ejemplo regla compuesta del rectángulo"
   ]
  },
  {
   "cell_type": "markdown",
   "metadata": {},
   "source": [
    "1.*Partitioning*: la tarea a realizar es el cálculo de un área de un rectángulo para un subintervalo."
   ]
  },
  {
   "cell_type": "markdown",
   "metadata": {},
   "source": [
    "<img src=\"https://dl.dropboxusercontent.com/s/5nqciu6ca5xzdh9/parallel_processing_Rcf_1.png?dl=0\" heigth=\"300\" width=\"400\">"
   ]
  },
  {
   "cell_type": "markdown",
   "metadata": {},
   "source": [
    "2.*Communication* y *mapping*: los subintervalos deben repartirse entre los *cores* y se debe comunicar esta repartición por algún medio (por ejemplo con variables en memoria)."
   ]
  },
  {
   "cell_type": "markdown",
   "metadata": {},
   "source": [
    "3.*Aggregation*: un *core* puede calcular más de un área de un rectángulo si recibe más de un subintervalo. "
   ]
  },
  {
   "cell_type": "markdown",
   "metadata": {},
   "source": [
    "<img src=\"https://dl.dropboxusercontent.com/s/lpcwd9mejb90rq3/parallel_processing_Rcf_2.png?dl=0\" heigth=\"200\" width=\"300\">\n"
   ]
  },
  {
   "cell_type": "markdown",
   "metadata": {},
   "source": [
    "4.*Communication* y *mapping*: el área de los rectángulos calculados por cada procesador deben sumarse para calcular la aproximación a la integral."
   ]
  },
  {
   "cell_type": "markdown",
   "metadata": {},
   "source": [
    "<img src=\"https://dl.dropboxusercontent.com/s/mfo5rfzjnonn8lq/parallel_processing_Rcf_3.png?dl=0\" heigth=\"400\" width=\"500\">\n"
   ]
  },
  {
   "cell_type": "markdown",
   "metadata": {},
   "source": [
    "Para la medición de tiempos se utilizaron las ligas: [measuring-time-in-millisecond-precision](https://stackoverflow.com/questions/16764276/measuring-time-in-millisecond-precision) y [find-execution-time-c-program](https://www.techiedelight.com/find-execution-time-c-program/)."
   ]
  },
  {
   "cell_type": "markdown",
   "metadata": {},
   "source": [
    "`Rcf_parallel.c`"
   ]
  },
  {
   "cell_type": "code",
   "execution_count": 13,
   "metadata": {},
   "outputs": [
    {
     "name": "stdout",
     "output_type": "stream",
     "text": [
      "Writing Rcf_parallel.c\n"
     ]
    }
   ],
   "source": [
    "%%file Rcf_parallel.c\n",
    "#include<stdio.h>\n",
    "#include<stdlib.h>\n",
    "#include<omp.h>\n",
    "#include<math.h> \n",
    "#include<time.h>\n",
    "#include <sys/time.h>\n",
    "\n",
    "double Rcf(double a, double h_hat, int ns_p);\n",
    "\n",
    "double f(double node);\n",
    "\n",
    "int main(){\n",
    "    double sum_shared = 0.0; //shared variable for threads\n",
    "    double a = 0.0, b = 1.0;\n",
    "    int n = 1e7; //number of subintervals\n",
    "    double h_hat = (b-a)/n;\n",
    "    int n_subintervals_per_core; //number of subintervals assigned to each core\n",
    "    int n_threads[7] = {0};//each entry of n_threads must divide n variable exactly\n",
    "    int len_n_threads_array = 0;\n",
    "    double obj = 0.7468241328124271;\n",
    "    struct timeval start;\n",
    "    struct timeval end;\n",
    "    long seconds;\n",
    "    long long mili;\n",
    "    int i;\n",
    "    n_threads[0] = 1;\n",
    "    n_threads[1] = 2;\n",
    "    n_threads[2] = 4;\n",
    "    n_threads[3] = 8;\n",
    "    n_threads[4] = 16;\n",
    "    n_threads[5] = 32;\n",
    "    n_threads[6] = 64;\n",
    "    len_n_threads_array = sizeof(n_threads)/sizeof(n_threads[0]);\n",
    "    for(i=0;i<len_n_threads_array;i++){\n",
    "        n_subintervals_per_core = n/n_threads[i];\n",
    "        gettimeofday(&start, NULL);\n",
    "        #pragma omp parallel num_threads(n_threads[i]) reduction(+: sum_shared)\n",
    "            sum_shared += Rcf(a,h_hat,n_subintervals_per_core);\n",
    "        sum_shared = h_hat*sum_shared;\n",
    "        gettimeofday(&end, NULL);\n",
    "        seconds = (end.tv_sec - start.tv_sec);\n",
    "        mili = 1000*(seconds) + (end.tv_usec - start.tv_usec)/1000;\n",
    "        printf(\"Integral de %f a %f = %1.15e\\n\", a,b,sum_shared);\n",
    "        printf(\"Error relativo de la solución: %1.15e\\n\", fabs(sum_shared-obj)/fabs(obj));\n",
    "        printf(\"Tiempo de ejecución con %d threads: %lld miliseconds\\n\", n_threads[i],mili);\n",
    "        printf(\"----------------------\\n\");\n",
    "        sum_shared = 0.0;\n",
    "    }\n",
    "    return 0;\n",
    "}\n",
    "\n",
    "double Rcf(double a, double h_hat, int n_s_c){\n",
    "    int begin, end;\n",
    "    int my_rank = omp_get_thread_num();\n",
    "    double local_int=0;\n",
    "    int i;\n",
    "    double x;\n",
    "    begin = my_rank*n_s_c;\n",
    "    end = begin + n_s_c; \n",
    "    for(i=begin;i<=end-1;i++){\n",
    "        x = a+(i+1/2.0)*h_hat;\n",
    "        local_int += f(x);\n",
    "    }   \n",
    "    return local_int;\n",
    "}\n",
    "        \n",
    "double f(double node){\n",
    "    double f_value;\n",
    "    f_value = exp(-pow(node,2));\n",
    "    return f_value;\n",
    "}"
   ]
  },
  {
   "cell_type": "code",
   "execution_count": 14,
   "metadata": {},
   "outputs": [],
   "source": [
    "%%bash\n",
    "gcc -Wall -fopenmp Rcf_parallel.c -o Rcf_parallel.out -lm"
   ]
  },
  {
   "cell_type": "code",
   "execution_count": 15,
   "metadata": {
    "tags": [
     "output_scroll"
    ]
   },
   "outputs": [
    {
     "name": "stdout",
     "output_type": "stream",
     "text": [
      "Integral de 0.000000 a 1.000000 = 7.468241328123898e-01\n",
      "Error relativo de la solución: 4.994950214975770e-14\n",
      "Tiempo de ejecución con 1 threads: 495 miliseconds\n",
      "----------------------\n",
      "Integral de 0.000000 a 1.000000 = 7.468241328124163e-01\n",
      "Error relativo de la solución: 1.441994556109076e-14\n",
      "Tiempo de ejecución con 2 threads: 239 miliseconds\n",
      "----------------------\n",
      "Integral de 0.000000 a 1.000000 = 7.468241328124452e-01\n",
      "Error relativo de la solución: 2.423145491193603e-14\n",
      "Tiempo de ejecución con 4 threads: 124 miliseconds\n",
      "----------------------\n",
      "Integral de 0.000000 a 1.000000 = 7.468241328124374e-01\n",
      "Error relativo de la solución: 1.382530863073651e-14\n",
      "Tiempo de ejecución con 8 threads: 62 miliseconds\n",
      "----------------------\n",
      "Integral de 0.000000 a 1.000000 = 7.468241328124300e-01\n",
      "Error relativo de la solución: 3.865140047302680e-15\n",
      "Tiempo de ejecución con 16 threads: 31 miliseconds\n",
      "----------------------\n",
      "Integral de 0.000000 a 1.000000 = 7.468241328124294e-01\n",
      "Error relativo de la solución: 3.121843884359856e-15\n",
      "Tiempo de ejecución con 32 threads: 21 miliseconds\n",
      "----------------------\n",
      "Integral de 0.000000 a 1.000000 = 7.468241328124259e-01\n",
      "Error relativo de la solución: 1.635251558474210e-15\n",
      "Tiempo de ejecución con 64 threads: 26 miliseconds\n",
      "----------------------\n"
     ]
    }
   ],
   "source": [
    "%%bash\n",
    "./Rcf_parallel.out"
   ]
  },
  {
   "cell_type": "markdown",
   "metadata": {},
   "source": [
    "```{admonition} Comentarios\n",
    "\n",
    "* Dividimos el número de subintervalos  **n** entre el número de *threads* que deseamos lanzar, por esto, `n` debe ser **divisible** entre las entradas del *array* `n_threads`. Esta cantidad es el número de subintervalos contiguos que le corresponden a cada *thread*.\n",
    "\n",
    "* Además, se debe de agregar el resultado de la suma de cada *thread*. Esto es posible realizar de forma sencilla definiendo una variable que sea compartida. Al definir tal variable en la función *main* y antes de un *parallel block* el *default* es que sea considerada como compartida.\n",
    "\n",
    "* Las variables que son privadas se definen en la función `Rcf`.\n",
    "\n",
    "```"
   ]
  },
  {
   "cell_type": "markdown",
   "metadata": {},
   "source": [
    "### Directiva *parallel for*"
   ]
  },
  {
   "cell_type": "markdown",
   "metadata": {},
   "source": [
    "* Esta directiva ayuda a paralelizar ciclos *for* que tienen una forma canónica como sigue:"
   ]
  },
  {
   "cell_type": "markdown",
   "metadata": {},
   "source": [
    "<img src=\"https://dl.dropboxusercontent.com/s/qw1dui3gfewl2jx/for_canonico_openmp.jpg?dl=0\" heigth=\"600\" width=\"600\">"
   ]
  },
  {
   "cell_type": "markdown",
   "metadata": {},
   "source": [
    "* La directiva realiza un *fork* de *threads* en un *team* para ejecutar el *structured block* que continúa a la directiva. Tal *structured block* debe ser un ciclo *for*.\n",
    "\n",
    "* Con esta directiva se dividen las iteraciones del *loop* entre los *threads*.\n",
    "\n",
    "* Por *default* todas las variables definidas antes de la directiva *parallel* son compartidas pero en la directiva *parallel for*, el índice del ciclo *for* es privada, cada *thread* tiene su propia copia de tal índice."
   ]
  },
  {
   "cell_type": "markdown",
   "metadata": {},
   "source": [
    "### Ejemplo regla compuesta del rectángulo con directiva *parallel for*"
   ]
  },
  {
   "cell_type": "code",
   "execution_count": 16,
   "metadata": {},
   "outputs": [
    {
     "name": "stdout",
     "output_type": "stream",
     "text": [
      "Writing Rcf_parallel_for.c\n"
     ]
    }
   ],
   "source": [
    "%%file Rcf_parallel_for.c\n",
    "#include<stdio.h>\n",
    "#include<stdlib.h>\n",
    "#include<math.h>\n",
    "#include<time.h>\n",
    "#include <sys/time.h>\n",
    "\n",
    "double Rcf(long n_t, double ext_izq, double ext_der, int n,\\\n",
    "           double s_res);\n",
    "double f(double nodo);\n",
    "\n",
    "int main(int argc, char *argv[]){\n",
    "    double sum_res = 0.0;\n",
    "    double a = 0.0, b = 1.0;\n",
    "    int n = 1e7;\n",
    "    struct timeval start;\n",
    "    struct timeval end;\n",
    "    long seconds;\n",
    "    long long mili;\n",
    "    long n_threads;\n",
    "    double res_rcf;\n",
    "    \n",
    "    n_threads = strtol(argv[1], NULL, 10);   \n",
    "    gettimeofday(&start, NULL);\n",
    "    res_rcf = Rcf(n_threads, a,b,n, sum_res);\n",
    "    gettimeofday(&end, NULL);\n",
    "    seconds = (end.tv_sec - start.tv_sec);\n",
    "    mili = 1000*(seconds) + (end.tv_usec - start.tv_usec)/1000;    \n",
    "    printf(\"Tiempo de ejecución: %lld milisegundos\", mili);\n",
    "    \n",
    "    return 0;\n",
    "}\n",
    "double Rcf(long n_th, double a, double b, int n, double sum){\n",
    "    double h_hat = (b-a)/n;\n",
    "    double x = 0.0;\n",
    "    int i = 0;\n",
    "    sum = 0.0;\n",
    "    # pragma omp parallel for num_threads(n_th) reduction(+: sum)\n",
    "        for(i = 0; i <= n-1; i++){\n",
    "            x = a+(i+1/2.0)*h_hat;\n",
    "            sum += f(x);\n",
    "        }\n",
    "    return h_hat*sum;\n",
    "}\n",
    "double f(double nodo){\n",
    "    double valor_f;\n",
    "    valor_f = exp(-pow(nodo,2));\n",
    "    return valor_f;\n",
    "}"
   ]
  },
  {
   "cell_type": "code",
   "execution_count": 17,
   "metadata": {},
   "outputs": [
    {
     "name": "stderr",
     "output_type": "stream",
     "text": [
      "Rcf_parallel_for.c: In function ‘main’:\n",
      "Rcf_parallel_for.c:20:12: warning: variable ‘res_rcf’ set but not used [-Wunused-but-set-variable]\n",
      "   20 |     double res_rcf;\n",
      "      |            ^~~~~~~\n"
     ]
    }
   ],
   "source": [
    "%%bash\n",
    "gcc -Wall -fopenmp Rcf_parallel_for.c -o Rcf_parallel_for.out -lm"
   ]
  },
  {
   "cell_type": "code",
   "execution_count": 25,
   "metadata": {
    "tags": [
     "output_scroll"
    ]
   },
   "outputs": [
    {
     "name": "stdout",
     "output_type": "stream",
     "text": [
      "Tiempo de ejecución: 188 milisegundos"
     ]
    }
   ],
   "source": [
    "%%bash\n",
    "./Rcf_parallel_for.out 32"
   ]
  },
  {
   "cell_type": "markdown",
   "metadata": {},
   "source": [
    "```{admonition} Ejercicio\n",
    ":class: tip\n",
    "\n",
    "Implementar la regla de Simpson con *OpenMP* utilizando una *reduction clause* y la directiva *parallel for* en una máquina de AWS con las mismas características que la que se presenta en esta nota y medir tiempo de ejecución.\n",
    "\n",
    "```"
   ]
  },
  {
   "cell_type": "markdown",
   "metadata": {},
   "source": [
    "## [Multiprocessing](https://docs.python.org/3.1/library/multiprocessing.html)"
   ]
  },
  {
   "cell_type": "markdown",
   "metadata": {},
   "source": [
    "El módulo *Multiprocessing* permite realizar procesamientos basados en procesos o *threads* para compartir trabajo, datos y lidiar con que la implementación estándar de Python, [CPython](https://github.com/python/cpython) no utiliza múltiples *cores* por *default* para procesamiento. En el apartado de [Cpython-Design](https://en.wikipedia.org/wiki/CPython) se menciona el por qué CPython no soporta ejecución *multithreaded* o *multiprocesses* y a continuación se colocan unos párrafos de tal discusión."
   ]
  },
  {
   "cell_type": "markdown",
   "metadata": {},
   "source": [
    "*A particular feature of CPython is that it makes use of a global interpreter lock (GIL) on each CPython interpreter process, which means that within a single process, only one thread may be processing Python bytecode at any one time. This does not mean that there is no point in multithreading; the most common multithreading scenario is where threads are mostly waiting on external processes to complete.*\n",
    "\n",
    "*For example, imagine when three threads are servicing separate clients. One thread may be waiting for a client to reply, and another may be waiting for a database query to execute, while the third thread is actually processing Python code.*\n",
    "\n",
    "*However, the GIL does mean that CPython is not suitable for processes that implement CPU-intensive algorithms in Python code that could potentially be distributed across multiple cores. ...*"
   ]
  },
  {
   "cell_type": "markdown",
   "metadata": {},
   "source": [
    "* Se recomienda usar este módulo para el *shared memory programming* y para trabajos que son demandantes de CPU. No se recomienda su uso en trabajos demandantes en I/O. En su lugar se tienen paquetes de *Python* para ejecución del código de forma asíncrona como [asyncio](https://docs.python.org/3/library/asyncio.html) o [tornado](https://www.tornadoweb.org/en/stable/)."
   ]
  },
  {
   "cell_type": "markdown",
   "metadata": {},
   "source": [
    "```{admonition} Comentario\n",
    "\n",
    "Otro módulo en *Python* para procesamiento en un SMC con CPUs es [concurrent.futures](https://docs.python.org/3/library/concurrent.futures.html) que provee el comportamiento principal de *Multiprocessing*. Ver [concurrent-futures-processpoolexecutor-vs-multiprocessing-pool-pool](https://stackoverflow.com/questions/38311431/concurrent-futures-processpoolexecutor-vs-multiprocessing-pool-pool?noredirect=1&lq=1) y [concurrent-futures-vs-multiprocessing-in-python-3](https://stackoverflow.com/questions/20776189/concurrent-futures-vs-multiprocessing-in-python-3) para más sobre *concurrent.futures* y *concurrent.futures* vs *multiprocessing*.\n",
    "\n",
    "```"
   ]
  },
  {
   "cell_type": "markdown",
   "metadata": {},
   "source": [
    "### Nota sobre el GIL y *multiprocessing*"
   ]
  },
  {
   "cell_type": "markdown",
   "metadata": {},
   "source": [
    "Aunque en *Python* los *threads* son nativos del sistema operativo (esto es, no se simulan, son realmente *threads* del sistema operativo creados en el hardware), están limitados por el *global interpreter lock* (GIL), de modo que un sólo *thread* interactúe con un objeto Python en un único tiempo. Esto degrada el *performance* de los programas pues si un *thread* con etiqueta 1 tiene el GIL entonces otro *thread* con etiqueta 2 esperará hasta que el *thread* 1 lo deje. Ver [Understanding the Python GIL](http://www.dabeaz.com/GIL/)."
   ]
  },
  {
   "cell_type": "markdown",
   "metadata": {},
   "source": [
    "Al usar el módulo *Multiprocessing* ejecutamos en paralelo un número de intérpretes *Python* (CPython), cada uno con su propio espacio de memoria privada y su propio GIL. "
   ]
  },
  {
   "cell_type": "markdown",
   "metadata": {},
   "source": [
    "```{admonition} Observación\n",
    ":class: tip\n",
    "\n",
    "En *multiprocessing* se utilizan subprocesos en lugar de *threads* y en lugar de *fork* se realiza *spawn*.\n",
    "\n",
    "```"
   ]
  },
  {
   "cell_type": "markdown",
   "metadata": {},
   "source": [
    "### Ejemplo"
   ]
  },
  {
   "cell_type": "markdown",
   "metadata": {},
   "source": [
    "En *Multiprocessing* los procesos son generados al utilizar la clase `Process` para crear objetos y llamar al método `start`. Ver [Process](https://docs.python.org/3.1/library/multiprocessing.html#multiprocessing.Process) para documentación de ésta clase."
   ]
  },
  {
   "cell_type": "code",
   "execution_count": 26,
   "metadata": {},
   "outputs": [],
   "source": [
    "from multiprocessing import Process"
   ]
  },
  {
   "cell_type": "code",
   "execution_count": 27,
   "metadata": {},
   "outputs": [
    {
     "name": "stdout",
     "output_type": "stream",
     "text": [
      "hello world! de subproceso\n",
      "hello world! de subproceso\n",
      "hello world! de proceso\n"
     ]
    }
   ],
   "source": [
    "def f():\n",
    "    print('hello world! de subproceso')\n",
    "    \n",
    "p1 = Process(target=f)\n",
    "p2 = Process(target=f)\n",
    "p1.start() \n",
    "p2.start() \n",
    "p1.join() \n",
    "p2.join() \n",
    "print('hello world! de proceso')"
   ]
  },
  {
   "cell_type": "markdown",
   "metadata": {},
   "source": [
    "```{admonition} Comentarios\n",
    "\n",
    "* `start` sólo puede ser llamada una vez por objeto `Process`.\n",
    "\n",
    "* Con el primer `join` el proceso principal espera a que termine `p1`. Con el segundo `join` el proceso principal espera a que termine `p2`.\n",
    "\n",
    "```"
   ]
  },
  {
   "cell_type": "markdown",
   "metadata": {},
   "source": [
    "```{admonition} Observación\n",
    ":class: tip\n",
    "\n",
    "Es buena práctica explícitamente hacer *joins* para cada objeto *process* que realizó `start`. Ver [Programming guidelines](https://docs.python.org/3.9/library/multiprocessing.html#programming-guidelines) para buenas prácticas.\n",
    "\n",
    "```"
   ]
  },
  {
   "cell_type": "markdown",
   "metadata": {},
   "source": [
    "La clase `Process` recibe la función a ejecutar para cada proceso con el argumento `target` y también tiene `args` para los argumentos de la función:"
   ]
  },
  {
   "cell_type": "code",
   "execution_count": 28,
   "metadata": {},
   "outputs": [
    {
     "name": "stdout",
     "output_type": "stream",
     "text": [
      "hola\n",
      "mundo\n"
     ]
    }
   ],
   "source": [
    "def f(s):\n",
    "    print(s)\n",
    "    \n",
    "p1 = Process(target=f, args=('hola',))\n",
    "p2 = Process(target=f, args=('mundo',)) \n",
    "p1.start()\n",
    "p2.start()\n",
    "p1.join()\n",
    "p2.join()"
   ]
  },
  {
   "cell_type": "markdown",
   "metadata": {},
   "source": [
    "````{admonition} Comentarios\n",
    "\n",
    "* De acuerdo a [Programming guidelines](https://docs.python.org/3.1/library/multiprocessing.html#programming-guidelines) se debe usar un bloque del tipo `if __name__=='__main__':` para las personas que tienen Windows puedan ejecutar sin problema el código:\n",
    "\n",
    "```python\n",
    "if __name__=='__main__':\n",
    "    p1 = Process(target=f, args=('hola',))\n",
    "    p2 = Process(target=f, args=('mundo',)) \n",
    "    p1.start()\n",
    "    p2.start()\n",
    "    p1.join()\n",
    "    p2.join()\n",
    "```\n",
    "\n",
    "El bloque del `if` ayuda a que los subprocesos importen el módulo `__main__` (por lo que no se ejecuta la sección que está dentro de `if __name__=='__main__':` pues no son programas principales) y continúa la ejecución de las líneas de `start` (cada subproceso ejecuta `f`) y `join`. Sin tal bloque `if`, el *notebook* quedará bloqueado pues una celda con el código anterior creará subprocesos que a su vez crearán otros subprocesos, que a su vez crearán otros subprocesos... y así de forma recursiva.\n",
    "\n",
    "* * Los argumentos en `args` de `Process` tienen que ser objetos *pickable* o serializados. Ver [what can be pickled and unpickled](https://docs.python.org/3/library/pickle.html#what-can-be-pickled-and-unpickled) para una lista de objetos *pickable*.\n",
    "\n",
    "````"
   ]
  },
  {
   "cell_type": "markdown",
   "metadata": {},
   "source": [
    "En *Multiprocessing* tenemos la función `cpu_count` para determinar el número de *cores* que el sistema operativo puede usar. Este número es la cantidad física o simulada (*hyperthreading*) de *cores*."
   ]
  },
  {
   "cell_type": "code",
   "execution_count": 29,
   "metadata": {},
   "outputs": [],
   "source": [
    "import multiprocessing"
   ]
  },
  {
   "cell_type": "code",
   "execution_count": 30,
   "metadata": {},
   "outputs": [
    {
     "name": "stdout",
     "output_type": "stream",
     "text": [
      "64\n"
     ]
    }
   ],
   "source": [
    "print(multiprocessing.cpu_count())"
   ]
  },
  {
   "cell_type": "markdown",
   "metadata": {},
   "source": [
    "### *Pool of workers*"
   ]
  },
  {
   "cell_type": "markdown",
   "metadata": {},
   "source": [
    "Ver [Using a pool of workers](https://docs.python.org/3/library/multiprocessing.html#using-a-pool-of-workers)."
   ]
  },
  {
   "cell_type": "markdown",
   "metadata": {},
   "source": [
    "La clase `Pool` crea un conjunto (*pool*) de procesos tipo *worker* que procesarán las tareas a realizar vía funciones tipo `map` o `apply`. Se hace `map` del *input* hacia los procesadores y se colecta el *output* de éstos. Mientras el `map` se realiza, el proceso que lanzó el `map` se bloquea hasta que finalicen las tareas (aunque hay [map_async](https://docs.python.org/3.1/library/multiprocessing.html#multiprocessing.pool.multiprocessing.Pool.map_async)). El *output* es una lista."
   ]
  },
  {
   "cell_type": "markdown",
   "metadata": {},
   "source": [
    "```{admonition} Observación\n",
    ":class: tip\n",
    "\n",
    "El procesamiento de las tareas podríamos hacerlo con la clase `Process` de arriba pero tendríamos que utilizar un ciclo y colectar los resultados.\n",
    "\n",
    "```"
   ]
  },
  {
   "cell_type": "markdown",
   "metadata": {},
   "source": [
    "```{admonition} Comentario\n",
    "\n",
    "Para un gran número de tareas a realizar, utilizar `Pool`. Para pocas tareas (menos de $10$) a realizar, utilizar `Process`.\n",
    "\n",
    "```"
   ]
  },
  {
   "cell_type": "code",
   "execution_count": 31,
   "metadata": {},
   "outputs": [],
   "source": [
    "from multiprocessing import Pool"
   ]
  },
  {
   "cell_type": "markdown",
   "metadata": {},
   "source": [
    "### Ejemplo"
   ]
  },
  {
   "cell_type": "code",
   "execution_count": 32,
   "metadata": {},
   "outputs": [
    {
     "name": "stdout",
     "output_type": "stream",
     "text": [
      "['hello world!', 'hello world!', 'hello world!', 'hello world!', 'hello world!', 'hello world!', 'hello world!', 'hello world!', 'hello world!', 'hello world!', 'hello world!', 'hello world!', 'hello world!', 'hello world!', 'hello world!', 'hello world!', 'hello world!', 'hello world!', 'hello world!', 'hello world!', 'hello world!', 'hello world!', 'hello world!', 'hello world!', 'hello world!', 'hello world!', 'hello world!', 'hello world!', 'hello world!', 'hello world!', 'hello world!', 'hello world!', 'hello world!', 'hello world!', 'hello world!', 'hello world!', 'hello world!', 'hello world!', 'hello world!', 'hello world!', 'hello world!', 'hello world!', 'hello world!', 'hello world!', 'hello world!', 'hello world!', 'hello world!', 'hello world!', 'hello world!', 'hello world!', 'hello world!', 'hello world!', 'hello world!', 'hello world!', 'hello world!', 'hello world!', 'hello world!', 'hello world!', 'hello world!', 'hello world!', 'hello world!', 'hello world!', 'hello world!', 'hello world!']\n"
     ]
    }
   ],
   "source": [
    "def f(dummy):\n",
    "    return 'hello world!'\n",
    "    \n",
    "pool = Pool(multiprocessing.cpu_count())\n",
    "results = pool.map(f,range(multiprocessing.cpu_count()))\n",
    "print(results)\n",
    "pool.close()    \n",
    "pool.join()"
   ]
  },
  {
   "cell_type": "code",
   "execution_count": 33,
   "metadata": {},
   "outputs": [
    {
     "name": "stdout",
     "output_type": "stream",
     "text": [
      "['hello world!', 'hello world!']\n"
     ]
    }
   ],
   "source": [
    "def f(dummy):\n",
    "    return 'hello world!'\n",
    "    \n",
    "num_processes=2\n",
    "pool = Pool(num_processes)\n",
    "results = pool.map(f,range(num_processes))\n",
    "print(results)\n",
    "pool.close()    \n",
    "pool.join()"
   ]
  },
  {
   "cell_type": "markdown",
   "metadata": {},
   "source": [
    "### Ejemplo utilizando `apply`"
   ]
  },
  {
   "cell_type": "code",
   "execution_count": 34,
   "metadata": {},
   "outputs": [
    {
     "name": "stdout",
     "output_type": "stream",
     "text": [
      "['hello world!', 'hello world!']\n"
     ]
    }
   ],
   "source": [
    "def f():\n",
    "    return 'hello world!'\n",
    "    \n",
    "num_processes=2\n",
    "pool = Pool(num_processes)\n",
    "results = [pool.apply(f) for x in range(num_processes)]\n",
    "print(results)\n",
    "pool.close()    \n",
    "pool.join()"
   ]
  },
  {
   "cell_type": "markdown",
   "metadata": {},
   "source": [
    "### Ejemplo con [context manager](https://book.pythontips.com/en/latest/context_managers.html#context-managers)"
   ]
  },
  {
   "cell_type": "markdown",
   "metadata": {},
   "source": [
    "Nos ayuda a no escribir *statements*: `pool.close`, `pool.join`."
   ]
  },
  {
   "cell_type": "code",
   "execution_count": 35,
   "metadata": {},
   "outputs": [
    {
     "name": "stdout",
     "output_type": "stream",
     "text": [
      "['hello world!', 'hello world!']\n"
     ]
    }
   ],
   "source": [
    "def f(dummy):\n",
    "    return 'hello world!'\n",
    "    \n",
    "num_processes=2\n",
    "with Pool(processes=num_processes) as pool:\n",
    "    results = pool.map(f,range(num_processes))\n",
    "    print(results)"
   ]
  },
  {
   "cell_type": "markdown",
   "metadata": {},
   "source": [
    "### Ejemplo para pasar múltiples argumentos vía [starmap](https://docs.python.org/3/library/multiprocessing.html#multiprocessing.pool.Pool.starmap)"
   ]
  },
  {
   "cell_type": "markdown",
   "metadata": {},
   "source": [
    "```{margin}\n",
    "\n",
    "Ver [Programming guidelines](https://docs.python.org/3.9/library/multiprocessing.html#programming-guidelines): *Explicitly pass resources to child processes ... On Unix a child process can make use of a shared resource created in a parent process using a global resource. However, it is better to pass the object as an argument to the constructor for the child process...*\n",
    "\n",
    "```"
   ]
  },
  {
   "cell_type": "code",
   "execution_count": 36,
   "metadata": {},
   "outputs": [
    {
     "name": "stdout",
     "output_type": "stream",
     "text": [
      "['hola', 'mundo']\n"
     ]
    }
   ],
   "source": [
    "def f(s):\n",
    "    return s\n",
    "    \n",
    "num_processes=2\n",
    "with Pool(processes=num_processes) as pool:\n",
    "    results = pool.starmap(f,[('hola',),('mundo',)])\n",
    "    print(results)"
   ]
  },
  {
   "cell_type": "markdown",
   "metadata": {},
   "source": [
    "### Ejemplo regla compuesta del rectángulo"
   ]
  },
  {
   "cell_type": "code",
   "execution_count": 37,
   "metadata": {},
   "outputs": [],
   "source": [
    "import math\n",
    "import time\n",
    "\n",
    "from scipy.integrate import quad\n",
    "from pytest import approx"
   ]
  },
  {
   "cell_type": "code",
   "execution_count": 38,
   "metadata": {},
   "outputs": [],
   "source": [
    "f = lambda x: math.exp(-x**2)\n",
    "a = 0\n",
    "b = 1\n",
    "n = 10**7\n",
    "h_hat = (b-a)/n"
   ]
  },
  {
   "cell_type": "code",
   "execution_count": 39,
   "metadata": {},
   "outputs": [],
   "source": [
    "p = multiprocessing.cpu_count()\n",
    "n_subintervals_per_core = int(n/p) "
   ]
  },
  {
   "cell_type": "markdown",
   "metadata": {},
   "source": [
    "```{admonition} Comentario\n",
    "\n",
    "`n_subintervals_per_core` es el número de subintervalos por *core*. Se asume que `n` es divisible por `p`. Si no se cumple esto, se puede definir `n_subintervals_per_core = int(n/p)` habiendo definido `n` primero y redefinir `n` como: `n = p*n_subintervals_per_core`\n",
    "              \n",
    "```              "
   ]
  },
  {
   "cell_type": "code",
   "execution_count": 40,
   "metadata": {},
   "outputs": [
    {
     "name": "stdout",
     "output_type": "stream",
     "text": [
      "número de subintervalos: 10000000\n"
     ]
    }
   ],
   "source": [
    "print(\"número de subintervalos:\", n)"
   ]
  },
  {
   "cell_type": "code",
   "execution_count": 41,
   "metadata": {},
   "outputs": [
    {
     "name": "stdout",
     "output_type": "stream",
     "text": [
      "número de subintervalos por proceso: 156250\n"
     ]
    }
   ],
   "source": [
    "print(\"número de subintervalos por proceso:\", n_subintervals_per_core)"
   ]
  },
  {
   "cell_type": "code",
   "execution_count": 42,
   "metadata": {},
   "outputs": [],
   "source": [
    "def Rcf_multiprocessing(my_id):\n",
    "    begin = my_id*n_subintervals_per_core\n",
    "    end = begin+n_subintervals_per_core\n",
    "    h_hat = (b-a)/n\n",
    "    sum_res = 0\n",
    "    for i in range(begin,end):\n",
    "        x = a+(i+1/2)*h_hat\n",
    "        sum_res += f(x)\n",
    "    return sum_res"
   ]
  },
  {
   "cell_type": "code",
   "execution_count": 43,
   "metadata": {},
   "outputs": [],
   "source": [
    "pool = Pool(processes=p)"
   ]
  },
  {
   "cell_type": "code",
   "execution_count": 44,
   "metadata": {},
   "outputs": [],
   "source": [
    "start_time=time.time()\n",
    "res_map = pool.map(Rcf_multiprocessing,range(p))\n",
    "res_multiprocessing = h_hat*sum(res_map)\n",
    "end_time = time.time()"
   ]
  },
  {
   "cell_type": "code",
   "execution_count": 45,
   "metadata": {},
   "outputs": [
    {
     "name": "stdout",
     "output_type": "stream",
     "text": [
      "Rcf_multiprocessing tomó 0.21028971672058105 segundos\n"
     ]
    }
   ],
   "source": [
    "secs = end_time-start_time\n",
    "print(\"Rcf_multiprocessing tomó\",secs,\"segundos\" )"
   ]
  },
  {
   "cell_type": "code",
   "execution_count": 46,
   "metadata": {},
   "outputs": [],
   "source": [
    "obj, err = quad(f, a, b)"
   ]
  },
  {
   "cell_type": "code",
   "execution_count": 47,
   "metadata": {},
   "outputs": [
    {
     "name": "stdout",
     "output_type": "stream",
     "text": [
      "True\n"
     ]
    }
   ],
   "source": [
    "print(res_multiprocessing == approx(obj))"
   ]
  },
  {
   "cell_type": "code",
   "execution_count": 48,
   "metadata": {},
   "outputs": [
    {
     "name": "stdout",
     "output_type": "stream",
     "text": [
      "145 ms ± 9.03 ms per loop (mean ± std. dev. of 10 runs, 5 loops each)\n"
     ]
    },
    {
     "data": {
      "text/plain": [
       "<TimeitResult : 145 ms ± 9.03 ms per loop (mean ± std. dev. of 10 runs, 5 loops each)>"
      ]
     },
     "execution_count": 48,
     "metadata": {},
     "output_type": "execute_result"
    }
   ],
   "source": [
    "%%timeit -n 5 -r 10 -o\n",
    "\n",
    "res_map = pool.map(Rcf_multiprocessing,range(p))\n",
    "res_multiprocessing = h_hat*sum(res_map)"
   ]
  },
  {
   "cell_type": "code",
   "execution_count": 49,
   "metadata": {},
   "outputs": [],
   "source": [
    "Rcf_multiprocessing_timeit = _"
   ]
  },
  {
   "cell_type": "code",
   "execution_count": 50,
   "metadata": {},
   "outputs": [
    {
     "name": "stdout",
     "output_type": "stream",
     "text": [
      "0.1447926945399979\n"
     ]
    }
   ],
   "source": [
    "print(Rcf_multiprocessing_timeit.average)"
   ]
  },
  {
   "cell_type": "code",
   "execution_count": 51,
   "metadata": {},
   "outputs": [],
   "source": [
    "pool.close()\n",
    "pool.join()"
   ]
  },
  {
   "cell_type": "markdown",
   "metadata": {},
   "source": [
    "## [Dask](https://github.com/dask/dask/)"
   ]
  },
  {
   "cell_type": "markdown",
   "metadata": {},
   "source": [
    "* Permite procesamiento en SMC o SMD.\n",
    "\n",
    "* Extiende interfaces de *arrays, dataframes* y listas usadas en *NumPy*, *Pandas* e *iterators* para su procesamiento. En el contexto de *Dask* a los tipos de valores anteriores les denomina *big data collections*. \n",
    "\n",
    "* Manejo de *datasets* que no caben en la memoria RAM: *larger than memory datasets* o [out of core](https://en.wikipedia.org/wiki/External_memory_algorithm) *datasets*. \n",
    "\n",
    "* Las *big data collections* soportadas por *Dask* son alternativas a los *arrays* y *dataframes* de *NumPy* y *Pandas* respectivamente para *datasets* grandes.\n",
    "\n",
    "* Provee ejecución con cómputo paralelo o distribuido de **algunas funciones** de *NumPy* y *Pandas*.\n",
    "\n",
    "* Soporta un *task scheduling* dinámico y optimizado para cómputo."
   ]
  },
  {
   "cell_type": "markdown",
   "metadata": {},
   "source": [
    "```{admonition} Comentarios\n",
    "\n",
    "* *Task scheduling* es un enfoque de paralelización en el que dividimos el programa en muchos *tasks medium-sized*. En *Dask* se representan tales *tasks* como nodos de un grafo con líneas entre éstos si un *task* depende de lo producido por otro. \n",
    "\n",
    "* Dinámico pues las [task graphs](https://docs.dask.org/en/latest/graphs.html) pueden ser definidas a partir de las *big data collections* o por *users*.\n",
    "\n",
    "\n",
    "* *Dask* posee módulos para optimizar la ejecución de las *task graphs* (más abajo se describe cómo construir una *task graph*). Ver [optimization](https://docs.dask.org/en/latest/optimize.html).\n",
    "\n",
    "```"
   ]
  },
  {
   "cell_type": "markdown",
   "metadata": {},
   "source": [
    "* En *Dask* existen [task schedulers](https://docs.dask.org/en/latest/scheduling.html) para ejecución en paralelo, distribuida o secuencial la *task graph*."
   ]
  },
  {
   "cell_type": "markdown",
   "metadata": {},
   "source": [
    "* Soporta el enfoque de paralelización de datos con las *collections*: \n",
    "\n",
    "    * [dask arrays](https://docs.dask.org/en/latest/array.html), \n",
    "    \n",
    "    * [dask dataframes](https://docs.dask.org/en/latest/dataframe.html),\n",
    "    \n",
    "    * [dask bags](https://docs.dask.org/en/latest/bag.html)."
   ]
  },
  {
   "cell_type": "markdown",
   "metadata": {},
   "source": [
    "### ¿Cómo se implementan una *task* y una *task graph* en *Dask*?"
   ]
  },
  {
   "cell_type": "markdown",
   "metadata": {},
   "source": [
    "Cada *task* se implementa como una tupla de *Python* que contiene funciones y argumentos de las mismas."
   ]
  },
  {
   "cell_type": "code",
   "execution_count": 52,
   "metadata": {},
   "outputs": [],
   "source": [
    "def fun_sum(arg1,arg2):\n",
    "    return arg1+arg2\n",
    "\n",
    "t = (fun_sum, -1, 2)"
   ]
  },
  {
   "cell_type": "code",
   "execution_count": 53,
   "metadata": {},
   "outputs": [
    {
     "name": "stdout",
     "output_type": "stream",
     "text": [
      "(<function fun_sum at 0x7f3054ae7700>, -1, 2)\n"
     ]
    }
   ],
   "source": [
    "print(t)"
   ]
  },
  {
   "cell_type": "markdown",
   "metadata": {},
   "source": [
    "Una *task graph* se implementa como un diccionario de *tasks*:"
   ]
  },
  {
   "cell_type": "code",
   "execution_count": 54,
   "metadata": {},
   "outputs": [],
   "source": [
    "dic = {\"arg1\": -1,\n",
    "       \"arg2\": 2,\n",
    "       \"res\": (fun_sum, \"arg1\", \"arg2\")}"
   ]
  },
  {
   "cell_type": "markdown",
   "metadata": {},
   "source": [
    "y a este diccionario de *tasks* le nombramos *dask graph*."
   ]
  },
  {
   "cell_type": "markdown",
   "metadata": {},
   "source": [
    "### ¿Cómo ejecutamos la *dask graph*?"
   ]
  },
  {
   "cell_type": "markdown",
   "metadata": {},
   "source": [
    "Con los *schedulers* definidos en *Dask*. Ver [Scheduling](https://docs.dask.org/en/latest/scheduling.html) y [Scheduler Overview](https://docs.dask.org/en/latest/scheduler-overview.html)"
   ]
  },
  {
   "cell_type": "code",
   "execution_count": 55,
   "metadata": {},
   "outputs": [],
   "source": [
    "import dask"
   ]
  },
  {
   "cell_type": "markdown",
   "metadata": {},
   "source": [
    "Para cualquier *scheduler* definido en dask el *entry point* es una función *get* la cual recibe una *dask graph* y una *key* o lista de *keys* para cálculos:"
   ]
  },
  {
   "cell_type": "code",
   "execution_count": 56,
   "metadata": {},
   "outputs": [
    {
     "name": "stdout",
     "output_type": "stream",
     "text": [
      "1\n"
     ]
    }
   ],
   "source": [
    "print(dask.get(dic, \"res\")) #synchronous scheduler "
   ]
  },
  {
   "cell_type": "code",
   "execution_count": 57,
   "metadata": {},
   "outputs": [
    {
     "name": "stdout",
     "output_type": "stream",
     "text": [
      "1\n"
     ]
    }
   ],
   "source": [
    "print(dask.threaded.get(dic, \"res\")) #scheduler backed by a thread pool"
   ]
  },
  {
   "cell_type": "code",
   "execution_count": 58,
   "metadata": {},
   "outputs": [
    {
     "name": "stdout",
     "output_type": "stream",
     "text": [
      "1\n"
     ]
    }
   ],
   "source": [
    "print(dask.multiprocessing.get(dic, \"res\")) #scheduler backed by a process pool"
   ]
  },
  {
   "cell_type": "markdown",
   "metadata": {},
   "source": [
    "```{admonition} Comentarios\n",
    "\n",
    "* La función `dask.get` ejecuta con un `synchronous scheduler` el cual sólo utiliza un thread de ejecución sin paralelización. Útil para *debugging* y perfilamiento.\n",
    "\n",
    "* La función `dask.threaded.get` ejecuta con un *scheduler* `multiprocessing.pool.ThreadPool`. Como el nombre lo indica, se hacen *forks* y *joins* de un proceso. El *overhead* para ejecución es pequeño y no hay costo en transferencia de datos entre los *taks*. Sin embargo debido al GIL de *Python*, este *scheduler* provee paralelización si tu código es esencialmente \"no *Python*\", por ejemplo si utilizas código de *NumPy, Pandas* o *Cython*.\n",
    "\n",
    "* La función `dask.multiprocessing.get` ejecuta con un *scheduler* `multiprocessing.Pool`. Para cada *task* se crea un proceso, no tiene problemas del GIL de Python para código *Python*. Sin embargo, mover datos hacia procesos y de vuelta al proceso principal tiene costos altos. Útil para *tasks* que no requieren mucha transferencia de datos y los *inputs* y *outputs* son pequeños en tamaño.\n",
    "\n",
    "* En la documentación de *Dask* se recomienda utilizar al *scheduler distributed* en lugar de usar `dask.multiprocesing.get`. La documentación se encuentra en [Dask.distributed](https://distributed.dask.org/en/latest/). Para una pequeña explicación ver [Dask Distributed local](https://docs.dask.org/en/latest/scheduling.html#dask-distributed-local).\n",
    "\n",
    "```"
   ]
  },
  {
   "cell_type": "markdown",
   "metadata": {},
   "source": [
    "### ¿Cómo visualizamos la *task graph*?"
   ]
  },
  {
   "cell_type": "markdown",
   "metadata": {},
   "source": [
    "Usamos `visualize`. Ver [visualize task graphs](https://docs.dask.org/en/latest/graphviz.html) y [dask.visualize](https://docs.dask.org/en/latest/api.html#dask.visualize)."
   ]
  },
  {
   "cell_type": "code",
   "execution_count": 59,
   "metadata": {},
   "outputs": [
    {
     "data": {
      "image/png": "[encoded data removed]",
      "text/plain": [
       "<IPython.core.display.Image object>"
      ]
     },
     "execution_count": 59,
     "metadata": {},
     "output_type": "execute_result"
    }
   ],
   "source": [
    "dask.visualize(dic,\"res\")"
   ]
  },
  {
   "cell_type": "markdown",
   "metadata": {},
   "source": [
    "Las cajas representan datos, los círculos representan funciones que se ejecutan sobre tales datos y las flechas especifican cuáles funciones producen/consumen qué datos."
   ]
  },
  {
   "cell_type": "markdown",
   "metadata": {},
   "source": [
    "### Flujo de trabajo con *Dask collections*"
   ]
  },
  {
   "cell_type": "markdown",
   "metadata": {},
   "source": [
    "En resumen en *Dask* seguimos un flujo como el siguiente dibujo."
   ]
  },
  {
   "cell_type": "markdown",
   "metadata": {},
   "source": [
    "<img src=\"https://docs.dask.org/en/latest/_images/dask-overview.svg\" heigth=\"400\" width=\"400\">"
   ]
  },
  {
   "cell_type": "markdown",
   "metadata": {},
   "source": [
    "```{admonition} Observación\n",
    ":class: tip\n",
    "\n",
    "Para crear *task graphs* podemos partir de las *collections* o bien, definir nuestras propias *dask graphs*.\n",
    " \n",
    "```"
   ]
  },
  {
   "cell_type": "markdown",
   "metadata": {},
   "source": [
    "```{admonition} Comentario\n",
    "\n",
    "Si trabajamos con las *collections* será extraño que trabajemos a nivel de funciones `get`. Cada *collection* tiene un default scheduler y una función [compute](https://docs.dask.org/en/latest/scheduler-overview.html#using-compute-methods) que calcula el *output* de la *collection*.\n",
    "\n",
    "```"
   ]
  },
  {
   "cell_type": "markdown",
   "metadata": {},
   "source": [
    "### Ejemplo"
   ]
  },
  {
   "cell_type": "markdown",
   "metadata": {},
   "source": [
    "[dask arrays](https://docs.dask.org/en/latest/array.html) y [dask dataframes](https://docs.dask.org/en/latest/dataframe.html) utilizan al *threaded scheduler* por *default* pero con `compute` puede cambiarse de *scheduler*."
   ]
  },
  {
   "cell_type": "code",
   "execution_count": 39,
   "metadata": {},
   "outputs": [],
   "source": [
    "import dask.array as da"
   ]
  },
  {
   "cell_type": "code",
   "execution_count": 47,
   "metadata": {},
   "outputs": [],
   "source": [
    "x = da.arange(100)"
   ]
  },
  {
   "cell_type": "code",
   "execution_count": 48,
   "metadata": {},
   "outputs": [
    {
     "name": "stdout",
     "output_type": "stream",
     "text": [
      "dask.array<arange, shape=(100,), dtype=int64, chunksize=(100,), chunktype=numpy.ndarray>\n"
     ]
    }
   ],
   "source": [
    "print(x)"
   ]
  },
  {
   "cell_type": "code",
   "execution_count": 49,
   "metadata": {},
   "outputs": [
    {
     "data": {
      "text/html": [
       "<table>\n",
       "<tr>\n",
       "<td>\n",
       "<table>\n",
       "  <thead>\n",
       "    <tr><td> </td><th> Array </th><th> Chunk </th></tr>\n",
       "  </thead>\n",
       "  <tbody>\n",
       "    <tr><th> Bytes </th><td> 800 B </td> <td> 800 B </td></tr>\n",
       "    <tr><th> Shape </th><td> (100,) </td> <td> (100,) </td></tr>\n",
       "    <tr><th> Count </th><td> 1 Tasks </td><td> 1 Chunks </td></tr>\n",
       "    <tr><th> Type </th><td> int64 </td><td> numpy.ndarray </td></tr>\n",
       "  </tbody>\n",
       "</table>\n",
       "</td>\n",
       "<td>\n",
       "<svg width=\"170\" height=\"75\" style=\"stroke:rgb(0,0,0);stroke-width:1\" >\n",
       "\n",
       "  <!-- Horizontal lines -->\n",
       "  <line x1=\"0\" y1=\"0\" x2=\"120\" y2=\"0\" style=\"stroke-width:2\" />\n",
       "  <line x1=\"0\" y1=\"25\" x2=\"120\" y2=\"25\" style=\"stroke-width:2\" />\n",
       "\n",
       "  <!-- Vertical lines -->\n",
       "  <line x1=\"0\" y1=\"0\" x2=\"0\" y2=\"25\" style=\"stroke-width:2\" />\n",
       "  <line x1=\"120\" y1=\"0\" x2=\"120\" y2=\"25\" style=\"stroke-width:2\" />\n",
       "\n",
       "  <!-- Colored Rectangle -->\n",
       "  <polygon points=\"0.0,0.0 120.0,0.0 120.0,25.412616514582485 0.0,25.412616514582485\" style=\"fill:#ECB172A0;stroke-width:0\"/>\n",
       "\n",
       "  <!-- Text -->\n",
       "  <text x=\"60.000000\" y=\"45.412617\" font-size=\"1.0rem\" font-weight=\"100\" text-anchor=\"middle\" >100</text>\n",
       "  <text x=\"140.000000\" y=\"12.706308\" font-size=\"1.0rem\" font-weight=\"100\" text-anchor=\"middle\" transform=\"rotate(0,140.000000,12.706308)\">1</text>\n",
       "</svg>\n",
       "</td>\n",
       "</tr>\n",
       "</table>"
      ],
      "text/plain": [
       "dask.array<arange, shape=(100,), dtype=int64, chunksize=(100,), chunktype=numpy.ndarray>"
      ]
     },
     "execution_count": 49,
     "metadata": {},
     "output_type": "execute_result"
    }
   ],
   "source": [
    "x"
   ]
  },
  {
   "cell_type": "code",
   "execution_count": 50,
   "metadata": {},
   "outputs": [
    {
     "name": "stdout",
     "output_type": "stream",
     "text": [
      "<class 'dask.array.core.Array'>\n"
     ]
    }
   ],
   "source": [
    "print(type(x))"
   ]
  },
  {
   "cell_type": "markdown",
   "metadata": {},
   "source": [
    "Llamamos a la función [dask.compute](https://docs.dask.org/en/latest/api.html#dask.compute). "
   ]
  },
  {
   "cell_type": "markdown",
   "metadata": {},
   "source": [
    "```{margin}\n",
    "\n",
    "Por *default* el *dask array* utiliza el *threaded scheduler* para la ejecución de la *dask graph* asociada.\n",
    "\n",
    "```"
   ]
  },
  {
   "cell_type": "code",
   "execution_count": 51,
   "metadata": {},
   "outputs": [
    {
     "name": "stdout",
     "output_type": "stream",
     "text": [
      "4950\n"
     ]
    }
   ],
   "source": [
    "print(x.sum().compute())"
   ]
  },
  {
   "cell_type": "markdown",
   "metadata": {},
   "source": [
    "Podemos cambiar de *scheduler* especificando en `compute`:"
   ]
  },
  {
   "cell_type": "code",
   "execution_count": 52,
   "metadata": {},
   "outputs": [
    {
     "name": "stdout",
     "output_type": "stream",
     "text": [
      "4950\n"
     ]
    }
   ],
   "source": [
    "print(x.sum().compute(scheduler=\"processes\"))"
   ]
  },
  {
   "cell_type": "markdown",
   "metadata": {},
   "source": [
    "Por *default* `dask array` trabaja con *chunks*."
   ]
  },
  {
   "cell_type": "code",
   "execution_count": 53,
   "metadata": {},
   "outputs": [],
   "source": [
    "x = da.arange(100, chunks=10)"
   ]
  },
  {
   "cell_type": "code",
   "execution_count": 54,
   "metadata": {},
   "outputs": [
    {
     "data": {
      "text/html": [
       "<table>\n",
       "<tr>\n",
       "<td>\n",
       "<table>\n",
       "  <thead>\n",
       "    <tr><td> </td><th> Array </th><th> Chunk </th></tr>\n",
       "  </thead>\n",
       "  <tbody>\n",
       "    <tr><th> Bytes </th><td> 800 B </td> <td> 80 B </td></tr>\n",
       "    <tr><th> Shape </th><td> (100,) </td> <td> (10,) </td></tr>\n",
       "    <tr><th> Count </th><td> 10 Tasks </td><td> 10 Chunks </td></tr>\n",
       "    <tr><th> Type </th><td> int64 </td><td> numpy.ndarray </td></tr>\n",
       "  </tbody>\n",
       "</table>\n",
       "</td>\n",
       "<td>\n",
       "<svg width=\"170\" height=\"75\" style=\"stroke:rgb(0,0,0);stroke-width:1\" >\n",
       "\n",
       "  <!-- Horizontal lines -->\n",
       "  <line x1=\"0\" y1=\"0\" x2=\"120\" y2=\"0\" style=\"stroke-width:2\" />\n",
       "  <line x1=\"0\" y1=\"25\" x2=\"120\" y2=\"25\" style=\"stroke-width:2\" />\n",
       "\n",
       "  <!-- Vertical lines -->\n",
       "  <line x1=\"0\" y1=\"0\" x2=\"0\" y2=\"25\" style=\"stroke-width:2\" />\n",
       "  <line x1=\"12\" y1=\"0\" x2=\"12\" y2=\"25\" />\n",
       "  <line x1=\"24\" y1=\"0\" x2=\"24\" y2=\"25\" />\n",
       "  <line x1=\"36\" y1=\"0\" x2=\"36\" y2=\"25\" />\n",
       "  <line x1=\"48\" y1=\"0\" x2=\"48\" y2=\"25\" />\n",
       "  <line x1=\"60\" y1=\"0\" x2=\"60\" y2=\"25\" />\n",
       "  <line x1=\"72\" y1=\"0\" x2=\"72\" y2=\"25\" />\n",
       "  <line x1=\"84\" y1=\"0\" x2=\"84\" y2=\"25\" />\n",
       "  <line x1=\"96\" y1=\"0\" x2=\"96\" y2=\"25\" />\n",
       "  <line x1=\"108\" y1=\"0\" x2=\"108\" y2=\"25\" />\n",
       "  <line x1=\"120\" y1=\"0\" x2=\"120\" y2=\"25\" style=\"stroke-width:2\" />\n",
       "\n",
       "  <!-- Colored Rectangle -->\n",
       "  <polygon points=\"0.0,0.0 120.0,0.0 120.0,25.412616514582485 0.0,25.412616514582485\" style=\"fill:#ECB172A0;stroke-width:0\"/>\n",
       "\n",
       "  <!-- Text -->\n",
       "  <text x=\"60.000000\" y=\"45.412617\" font-size=\"1.0rem\" font-weight=\"100\" text-anchor=\"middle\" >100</text>\n",
       "  <text x=\"140.000000\" y=\"12.706308\" font-size=\"1.0rem\" font-weight=\"100\" text-anchor=\"middle\" transform=\"rotate(0,140.000000,12.706308)\">1</text>\n",
       "</svg>\n",
       "</td>\n",
       "</tr>\n",
       "</table>"
      ],
      "text/plain": [
       "dask.array<arange, shape=(100,), dtype=int64, chunksize=(10,), chunktype=numpy.ndarray>"
      ]
     },
     "execution_count": 54,
     "metadata": {},
     "output_type": "execute_result"
    }
   ],
   "source": [
    "x"
   ]
  },
  {
   "cell_type": "markdown",
   "metadata": {},
   "source": [
    "Por *default*, `dask array` trabaja de una forma *lazy*, esto es, `dask array` no calculará ningún resultado hasta que explícitamente se le dé la instrucción."
   ]
  },
  {
   "cell_type": "code",
   "execution_count": 55,
   "metadata": {},
   "outputs": [],
   "source": [
    "y = x.sum()"
   ]
  },
  {
   "cell_type": "code",
   "execution_count": 56,
   "metadata": {},
   "outputs": [
    {
     "data": {
      "text/html": [
       "<table>\n",
       "<tr>\n",
       "<td>\n",
       "<table>\n",
       "  <thead>\n",
       "    <tr><td> </td><th> Array </th><th> Chunk </th></tr>\n",
       "  </thead>\n",
       "  <tbody>\n",
       "    <tr><th> Bytes </th><td> 8 B </td> <td> 8.0 B </td></tr>\n",
       "    <tr><th> Shape </th><td> () </td> <td> () </td></tr>\n",
       "    <tr><th> Count </th><td> 24 Tasks </td><td> 1 Chunks </td></tr>\n",
       "    <tr><th> Type </th><td> int64 </td><td> numpy.ndarray </td></tr>\n",
       "  </tbody>\n",
       "</table>\n",
       "</td>\n",
       "<td>\n",
       "\n",
       "</td>\n",
       "</tr>\n",
       "</table>"
      ],
      "text/plain": [
       "dask.array<sum-aggregate, shape=(), dtype=int64, chunksize=(), chunktype=numpy.ndarray>"
      ]
     },
     "execution_count": 56,
     "metadata": {},
     "output_type": "execute_result"
    }
   ],
   "source": [
    "y"
   ]
  },
  {
   "cell_type": "markdown",
   "metadata": {},
   "source": [
    "Hasta este punto no se ha calculado la suma (cuyo resultado es un escalar). Después de llamar a `compute` se ejecuta la *task graph* para ejecución en paralelo (si se definió al *scheduler* para este tipo de ejecución)."
   ]
  },
  {
   "cell_type": "code",
   "execution_count": 57,
   "metadata": {},
   "outputs": [
    {
     "name": "stdout",
     "output_type": "stream",
     "text": [
      "4950\n"
     ]
    }
   ],
   "source": [
    "print(y.compute())"
   ]
  },
  {
   "cell_type": "markdown",
   "metadata": {},
   "source": [
    "Y podemos visualizar la *task graph* definida en `y` que es un *dask array*:"
   ]
  },
  {
   "cell_type": "code",
   "execution_count": 58,
   "metadata": {},
   "outputs": [
    {
     "name": "stdout",
     "output_type": "stream",
     "text": [
      "<class 'dask.array.core.Array'>\n"
     ]
    }
   ],
   "source": [
    "print(type(y))"
   ]
  },
  {
   "cell_type": "code",
   "execution_count": 59,
   "metadata": {},
   "outputs": [
    {
     "data": {
      "image/png": "[encoded data removed]",
      "text/plain": [
       "<IPython.core.display.Image object>"
      ]
     },
     "execution_count": 59,
     "metadata": {},
     "output_type": "execute_result"
    }
   ],
   "source": [
    "y.visualize()"
   ]
  },
  {
   "cell_type": "markdown",
   "metadata": {},
   "source": [
    "Ver la API de *dask array* en [array api](https://docs.dask.org/en/latest/array-api.html) para más funcionalidad."
   ]
  },
  {
   "cell_type": "markdown",
   "metadata": {},
   "source": [
    "```{admonition} Comentario\n",
    "\n",
    "*Dask* tiene una función [compute](https://docs.dask.org/en/latest/scheduler-overview.html#the-compute-function) más general que toma múltiples *collections* y regresa múltiples resultados. Esto combina grafos de cada *collection* de modo que resultados intermedios son compartidos. \n",
    "\n",
    "```"
   ]
  },
  {
   "cell_type": "code",
   "execution_count": 60,
   "metadata": {},
   "outputs": [],
   "source": [
    "y = (x+1).sum()\n",
    "z = (x+1).mean()"
   ]
  },
  {
   "cell_type": "code",
   "execution_count": 61,
   "metadata": {},
   "outputs": [
    {
     "name": "stdout",
     "output_type": "stream",
     "text": [
      "(5050, 50.5)\n"
     ]
    }
   ],
   "source": [
    "print(da.compute(y, z))"
   ]
  },
  {
   "cell_type": "markdown",
   "metadata": {},
   "source": [
    "y aquí el resultado intermedio `x+1` sólo fue calculado una vez. Si hubiéramos hecho:\n",
    "\n",
    "```\n",
    "y.compute()\n",
    "z.compute()\n",
    "```\n",
    "\n",
    "el resultado intermedio `x+1` hubiera sido calculado dos veces. Ésta función `compute` trabaja sobre cualquier *collection* y se encuentra en `dask.base`:"
   ]
  },
  {
   "cell_type": "code",
   "execution_count": 62,
   "metadata": {},
   "outputs": [],
   "source": [
    "from dask.base import compute"
   ]
  },
  {
   "cell_type": "code",
   "execution_count": 63,
   "metadata": {},
   "outputs": [
    {
     "name": "stdout",
     "output_type": "stream",
     "text": [
      "True\n"
     ]
    }
   ],
   "source": [
    "print(compute is da.compute)"
   ]
  },
  {
   "cell_type": "code",
   "execution_count": 64,
   "metadata": {},
   "outputs": [
    {
     "name": "stdout",
     "output_type": "stream",
     "text": [
      "(5050, 50.5)\n"
     ]
    }
   ],
   "source": [
    "print(compute(y,z))"
   ]
  },
  {
   "cell_type": "markdown",
   "metadata": {},
   "source": [
    "También se puede especificar para un *scheduler* `threaded` o `multiprocessing`, el número de *workers* en `compute`:"
   ]
  },
  {
   "cell_type": "code",
   "execution_count": 65,
   "metadata": {},
   "outputs": [
    {
     "name": "stdout",
     "output_type": "stream",
     "text": [
      "5050\n"
     ]
    }
   ],
   "source": [
    "print(y.compute(num_workers=2))"
   ]
  },
  {
   "cell_type": "markdown",
   "metadata": {},
   "source": [
    "Ver [configuration](https://docs.dask.org/en/latest/scheduling.html#configuration) para otras formas de especificar al *scheduler*. Ver también [Delayed](https://docs.dask.org/en/latest/delayed.html) y [Custom Workloads with Dask Delayed](https://examples.dask.org/delayed.html) para otra opción diferente a los *dask array*'s, *dask dataframe*'s y *dask bag*'s para cómputo *lazy*."
   ]
  },
  {
   "cell_type": "markdown",
   "metadata": {},
   "source": [
    "### [Dask distributed](https://github.com/dask/distributed)"
   ]
  },
  {
   "cell_type": "markdown",
   "metadata": {},
   "source": [
    "* Es un paquete que extiende a [concurrent.futures](https://docs.python.org/3/library/concurrent.futures.html) (`multiprocessing` es similar a `concurrent.futures`) y a *Dask* para clústers de tamaño mediano (alrededor de cientos de máquinas).\n",
    "\n",
    "* Aunque el nombre *distributed* puede tomarse como que la ejecución sólo puede llevarse a cabo en clústers de máquinas, también puede utilizarse en nuestra máquina local. \n",
    "\n",
    "* Por razones como proveer acceso a una API asíncrona: [Futures](https://docs.dask.org/en/latest/futures.html), acceso a un *dashboard* diagnóstico y manejar mejor la *data locality* con múltiples procesos más eficientemente que con `dask.multiprocessing.get`, representa una **alternativa fuerte** a la generación de procesos locales vía `dask.multiprocessing`:  *The distributed scheduler described a couple sections below is often a better choice today than `dask.multiprocessing`...*"
   ]
  },
  {
   "cell_type": "markdown",
   "metadata": {},
   "source": [
    "Tiene las siguientes características.\n",
    "\n",
    "* *Low latency: Each task suffers about 1ms of overhead. A small computation and network roundtrip can complete in less than 10ms.*\n",
    "\n",
    "* *Peer-to-peer data sharing: Workers communicate with each other to share data. This removes central bottlenecks for data transfer.*\n",
    "\n",
    "* *Complex Scheduling: Supports complex workflows (not just map/filter/reduce) which are necessary for sophisticated algorithms used in nd-arrays, machine learning, image processing, and statistics.*\n",
    "\n",
    "* *Data Locality: Scheduling algorithms cleverly execute computations where data lives. This minimizes network traffic and improves efficiency.*\n",
    "\n",
    "* *Familiar APIs: Compatible with the [concurrent.futures](https://www.python.org/dev/peps/pep-3148/) API in the Python standard library. Compatible with dask API for parallel algorithms.*"
   ]
  },
  {
   "cell_type": "markdown",
   "metadata": {},
   "source": [
    "Para ver más sobre el *distributed scheduler* ver [dask-architecture](https://distributed.dask.org/en/latest/#architecture)."
   ]
  },
  {
   "cell_type": "markdown",
   "metadata": {},
   "source": [
    "### ¿[concurrent.futures](https://docs.python.org/3/library/concurrent.futures.html)?"
   ]
  },
  {
   "cell_type": "markdown",
   "metadata": {},
   "source": [
    "* Es un paquete para ejecución de *tasks* en paralelo.\n",
    "\n",
    "* En `concurrent.futures` se trabaja con objetos de tipo valor `future` los cuales son resultados de cálculos que estarán disponibles en un futuro, de aquí el nombre de *future* y su cómputo **no** es *lazy* sino inmediato. \n",
    "\n",
    "* La obtención del *future* es asíncrona por lo que permite cómputo concurrente.\n"
   ]
  },
  {
   "cell_type": "markdown",
   "metadata": {},
   "source": [
    "### Ejemplo"
   ]
  },
  {
   "cell_type": "code",
   "execution_count": 66,
   "metadata": {},
   "outputs": [],
   "source": [
    "import time"
   ]
  },
  {
   "cell_type": "code",
   "execution_count": 67,
   "metadata": {},
   "outputs": [],
   "source": [
    "def inc(x):\n",
    "    time.sleep(1)\n",
    "    return x+1"
   ]
  },
  {
   "cell_type": "markdown",
   "metadata": {},
   "source": [
    "**Ejecución secuencial**"
   ]
  },
  {
   "cell_type": "code",
   "execution_count": 68,
   "metadata": {},
   "outputs": [
    {
     "name": "stdout",
     "output_type": "stream",
     "text": [
      "CPU times: user 1.01 ms, sys: 943 µs, total: 1.95 ms\n",
      "Wall time: 10 s\n"
     ]
    }
   ],
   "source": [
    "%%time\n",
    "inputs = [1,2,3,4,5,6,7,8,9,10]\n",
    "results=[]\n",
    "\n",
    "for x in inputs:\n",
    "    result=inc(x)\n",
    "    results.append(result)"
   ]
  },
  {
   "cell_type": "code",
   "execution_count": 69,
   "metadata": {},
   "outputs": [
    {
     "name": "stdout",
     "output_type": "stream",
     "text": [
      "[2, 3, 4, 5, 6, 7, 8, 9, 10, 11]\n"
     ]
    }
   ],
   "source": [
    "print(results)"
   ]
  },
  {
   "cell_type": "markdown",
   "metadata": {},
   "source": [
    "**Ejecución con** `concurrent.futures`"
   ]
  },
  {
   "cell_type": "code",
   "execution_count": 70,
   "metadata": {},
   "outputs": [],
   "source": [
    "from concurrent.futures import ProcessPoolExecutor\n",
    "import multiprocessing"
   ]
  },
  {
   "cell_type": "code",
   "execution_count": 76,
   "metadata": {},
   "outputs": [],
   "source": [
    "executor = ProcessPoolExecutor(multiprocessing.cpu_count())"
   ]
  },
  {
   "cell_type": "code",
   "execution_count": 77,
   "metadata": {},
   "outputs": [
    {
     "name": "stdout",
     "output_type": "stream",
     "text": [
      "<concurrent.futures.process.ProcessPoolExecutor object at 0x7f89014419d0>\n"
     ]
    }
   ],
   "source": [
    "print(executor)"
   ]
  },
  {
   "cell_type": "code",
   "execution_count": 78,
   "metadata": {},
   "outputs": [
    {
     "name": "stdout",
     "output_type": "stream",
     "text": [
      "CPU times: user 56.8 ms, sys: 188 ms, total: 245 ms\n",
      "Wall time: 234 ms\n"
     ]
    }
   ],
   "source": [
    "%%time\n",
    "future = executor.submit(inc,3)"
   ]
  },
  {
   "cell_type": "markdown",
   "metadata": {},
   "source": [
    "```{admonition} Observación\n",
    ":class: tip\n",
    "\n",
    "Obsérvese que se obtiene el `future` inmediatamente. Ver [submit](https://docs.python.org/3/library/concurrent.futures.html#concurrent.futures.Executor.submit)\n",
    "\n",
    "```"
   ]
  },
  {
   "cell_type": "code",
   "execution_count": 79,
   "metadata": {},
   "outputs": [
    {
     "name": "stdout",
     "output_type": "stream",
     "text": [
      "<Future at 0x7f890142ee50 state=running>\n"
     ]
    }
   ],
   "source": [
    "print(future)"
   ]
  },
  {
   "cell_type": "markdown",
   "metadata": {},
   "source": [
    "```{admonition} Observación\n",
    ":class: tip\n",
    "\n",
    "La ejecución del `future` se encuentra en algún subproceso del proceso principal. Obsérvese que tiene un estado *running*. Y después de un tiempo el estado ya es *finished*.\n",
    "\n",
    "```"
   ]
  },
  {
   "cell_type": "code",
   "execution_count": 80,
   "metadata": {},
   "outputs": [
    {
     "name": "stdout",
     "output_type": "stream",
     "text": [
      "<Future at 0x7f890142ee50 state=finished returned int>\n"
     ]
    }
   ],
   "source": [
    "print(future)"
   ]
  },
  {
   "cell_type": "markdown",
   "metadata": {},
   "source": [
    "Para obtener el resultado hacemos:"
   ]
  },
  {
   "cell_type": "code",
   "execution_count": 81,
   "metadata": {},
   "outputs": [
    {
     "name": "stdout",
     "output_type": "stream",
     "text": [
      "4\n"
     ]
    }
   ],
   "source": [
    "print(future.result())"
   ]
  },
  {
   "cell_type": "markdown",
   "metadata": {},
   "source": [
    "Entonces podemos hacer `submit` de varios cálculos de forma asíncrona con el objeto `executor` que devolverá *futures*:"
   ]
  },
  {
   "cell_type": "code",
   "execution_count": 82,
   "metadata": {},
   "outputs": [
    {
     "name": "stdout",
     "output_type": "stream",
     "text": [
      "CPU times: user 4.89 ms, sys: 1.61 ms, total: 6.5 ms\n",
      "Wall time: 1.01 s\n"
     ]
    }
   ],
   "source": [
    "%%time\n",
    "inputs = [1,2,3,4,5,6,7,8,9,10]\n",
    "futures=[]\n",
    "\n",
    "for x in inputs:\n",
    "    future=executor.submit(inc,x)\n",
    "    futures.append(future)\n",
    "    \n",
    "results = [future.result() for future in futures]"
   ]
  },
  {
   "cell_type": "markdown",
   "metadata": {},
   "source": [
    "```{admonition} Comentario\n",
    "\n",
    "El *statement* `results = [future.result() for future in futures]` bloquea la ejecución del proceso local hasta que todos los procesos finalizan la ejecución.\n",
    "                                                  \n",
    "```                                                  "
   ]
  },
  {
   "cell_type": "markdown",
   "metadata": {},
   "source": [
    "```{admonition} Observación\n",
    ":class: tip\n",
    "\n",
    "Obsérvese que se redujo el tiempo pues la ejecución fue en paralelo por los subprocesos que ejecutaron `inc`.\n",
    "\n",
    "```"
   ]
  },
  {
   "cell_type": "code",
   "execution_count": 84,
   "metadata": {},
   "outputs": [
    {
     "name": "stdout",
     "output_type": "stream",
     "text": [
      "[2, 3, 4, 5, 6, 7, 8, 9, 10, 11]\n"
     ]
    }
   ],
   "source": [
    "print(results)"
   ]
  },
  {
   "cell_type": "code",
   "execution_count": 83,
   "metadata": {},
   "outputs": [],
   "source": [
    "executor.shutdown()"
   ]
  },
  {
   "cell_type": "markdown",
   "metadata": {},
   "source": [
    "```{admonition} Comentarios\n",
    "\n",
    "* También en `concurrent.futures` se tiene una función [map](https://docs.python.org/3/library/concurrent.futures.html#concurrent.futures.Executor.map) para cómputo inmediato (no *lazy*) usando *futures* que soporta múltiples llamados a una función utilizando un *iterable*.\n",
    "\n",
    "* Para una vista rápida a `concurrent.futures` ver: [Python: A quick introduction to the concurrent.futures module](http://masnun.com/2016/03/29/python-a-quick-introduction-to-the-concurrent-futures-module.html).\n",
    "\n",
    "```"
   ]
  },
  {
   "cell_type": "markdown",
   "metadata": {},
   "source": [
    "### *Client* de `dask.distributed`"
   ]
  },
  {
   "cell_type": "markdown",
   "metadata": {},
   "source": [
    "El [Client](https://distributed.dask.org/en/latest/client.html) es el *entry point* para users de `dask.distributed`. Creamos un *distributed scheduler* al importar `Client`. Esta acción *override* cualquier configuración que se haya hecho del *scheduler*."
   ]
  },
  {
   "cell_type": "code",
   "execution_count": 85,
   "metadata": {},
   "outputs": [],
   "source": [
    "from dask.distributed import Client"
   ]
  },
  {
   "cell_type": "code",
   "execution_count": 86,
   "metadata": {},
   "outputs": [],
   "source": [
    "client = Client()"
   ]
  },
  {
   "cell_type": "markdown",
   "metadata": {},
   "source": [
    "```{admonition} Comentario\n",
    "\n",
    "Al `Client` se le pueden pasar argumentos como número de *workers*, si se desean procesos o no, el límite de memoria a usar por cada proceso, entre otros.\n",
    "                  \n",
    "```                  "
   ]
  },
  {
   "cell_type": "code",
   "execution_count": 87,
   "metadata": {},
   "outputs": [
    {
     "name": "stdout",
     "output_type": "stream",
     "text": [
      "<Client: 'tcp://127.0.0.1:40913' processes=8 threads=64, memory=251.89 GiB>\n"
     ]
    }
   ],
   "source": [
    "print(client)"
   ]
  },
  {
   "cell_type": "code",
   "execution_count": 88,
   "metadata": {},
   "outputs": [
    {
     "data": {
      "text/html": [
       "<table style=\"border: 2px solid white;\">\n",
       "<tr>\n",
       "<td style=\"vertical-align: top; border: 0px solid white\">\n",
       "<h3 style=\"text-align: left;\">Client</h3>\n",
       "<ul style=\"text-align: left; list-style: none; margin: 0; padding: 0;\">\n",
       "  <li><b>Scheduler: </b>tcp://127.0.0.1:40913</li>\n",
       "  <li><b>Dashboard: </b><a href='http://127.0.0.1:8787/status' target='_blank'>http://127.0.0.1:8787/status</a></li>\n",
       "</ul>\n",
       "</td>\n",
       "<td style=\"vertical-align: top; border: 0px solid white\">\n",
       "<h3 style=\"text-align: left;\">Cluster</h3>\n",
       "<ul style=\"text-align: left; list-style:none; margin: 0; padding: 0;\">\n",
       "  <li><b>Workers: </b>8</li>\n",
       "  <li><b>Cores: </b>64</li>\n",
       "  <li><b>Memory: </b>251.89 GiB</li>\n",
       "</ul>\n",
       "</td>\n",
       "</tr>\n",
       "</table>"
      ],
      "text/plain": [
       "<Client: 'tcp://127.0.0.1:40913' processes=8 threads=64, memory=251.89 GiB>"
      ]
     },
     "execution_count": 88,
     "metadata": {},
     "output_type": "execute_result"
    }
   ],
   "source": [
    "client"
   ]
  },
  {
   "cell_type": "markdown",
   "metadata": {},
   "source": [
    "Para ir al *dashboard* que se expone con [bokeh](https://docs.bokeh.org/en/latest/index.html) ir a la url con puerto `8787`."
   ]
  },
  {
   "cell_type": "markdown",
   "metadata": {},
   "source": [
    "```{admonition} Observación\n",
    ":class: tip\n",
    "\n",
    "Si se ejecuta con una imagen de *Docker*, revisar a qué puerto está mapeado el `8787`.\n",
    "\n",
    "```"
   ]
  },
  {
   "cell_type": "markdown",
   "metadata": {},
   "source": [
    "<img src=\"https://dl.dropboxusercontent.com/s/n5i7r4tp0saffmx/dask_1.png?dl=0\" heigth=\"500\" width=\"500\">"
   ]
  },
  {
   "cell_type": "markdown",
   "metadata": {},
   "source": [
    "y en el apartado de `workers`:"
   ]
  },
  {
   "cell_type": "markdown",
   "metadata": {},
   "source": [
    "<img src=\"https://dl.dropboxusercontent.com/s/aqspobw9mmtw1tw/dask_2.png?dl=0\" heigth=\"500\" width=\"500\">"
   ]
  },
  {
   "cell_type": "markdown",
   "metadata": {},
   "source": [
    "Ver [Web Interface](http://distributed.dask.org/en/1.12.2/web.html) y [Diagnosing Performance](https://distributed.dask.org/en/latest/diagnosing-performance.html) para más sobre la información de diagnóstico que se junta en el dashboard."
   ]
  },
  {
   "cell_type": "markdown",
   "metadata": {},
   "source": [
    "```{admonition} Comentarios\n",
    "\n",
    "* La línea anterior que contiene `Client`, configura un *scheduler* en el proceso local y varios procesos *workers* o *dask-workers* que corren un *thread* de ejecución (pueden correr más por *default*). Si se desea que los procesos *worker* estén contenidos en el proceso local puede usarse `Client(processes=False)`. Esta situación es preferible si se desea evitar comunicación *inter worker* y si nuestros cálculos están soltando el *GIL* (por ejemplo al usar *NumPy* o `dask.array`).\n",
    "\n",
    "\n",
    "* Algunas opciones que pueden utilizarse con la línea de `Client` son:\n",
    "\n",
    "* `Client(n_workers=4)`.\n",
    "\n",
    "* `Client(threads_per_worker=2)`.\n",
    "\n",
    "* `Client(memory_limit='10GB')`.\n",
    "\n",
    "Ver [LocalCluster](https://docs.dask.org/en/latest/setup/single-distributed.html#distributed.deploy.local.LocalCluster) para opciones a usar en `Client` y [API](https://distributed.dask.org/en/latest/api.html) para la API con `Client`.\n",
    "\n",
    "```"
   ]
  },
  {
   "cell_type": "markdown",
   "metadata": {},
   "source": [
    "### Ejemplo regla compuesta del rectángulo"
   ]
  },
  {
   "cell_type": "code",
   "execution_count": 89,
   "metadata": {},
   "outputs": [],
   "source": [
    "def create_nodes_in_subintervals(my_id,a,b,h_hat,n,n_s_c):\n",
    "    begin = my_id*n_s_c\n",
    "    end = begin+n_s_c\n",
    "    h_hat = (b-a)/n\n",
    "    nodes = []\n",
    "    for i in range(begin,end):\n",
    "        nodes.append(a+(i+1/2.0)*h_hat)\n",
    "    return nodes"
   ]
  },
  {
   "cell_type": "code",
   "execution_count": 90,
   "metadata": {},
   "outputs": [],
   "source": [
    "def evaluate_f_in_nodes_and_sum(nodes,f):\n",
    "    sum_res = 0\n",
    "    for node in nodes:\n",
    "        sum_res+=f(node)\n",
    "    return sum_res"
   ]
  },
  {
   "cell_type": "code",
   "execution_count": 91,
   "metadata": {},
   "outputs": [
    {
     "name": "stdout",
     "output_type": "stream",
     "text": [
      "CPU times: user 184 ms, sys: 20.4 ms, total: 205 ms\n",
      "Wall time: 1.04 s\n"
     ]
    }
   ],
   "source": [
    "%%time\n",
    "futures_nodes = client.map(create_nodes_in_subintervals,range(p),\n",
    "                           **{'a':a,\n",
    "                              'b':b,\n",
    "                              \"h_hat\":h_hat,\n",
    "                              'n':n,\n",
    "                              \"n_s_c\":n_subintervals_per_core}\n",
    "                            )\n",
    "futures_evaluated = client.map(evaluate_f_in_nodes_and_sum, futures_nodes,\n",
    "                            **{'f':f}\n",
    "                            )\n",
    "results_gather = client.gather(futures_evaluated)\n",
    "res_rcf_distributed = h_hat*sum(results_gather)"
   ]
  },
  {
   "cell_type": "code",
   "execution_count": 92,
   "metadata": {},
   "outputs": [
    {
     "name": "stdout",
     "output_type": "stream",
     "text": [
      "True\n"
     ]
    }
   ],
   "source": [
    "print(res_rcf_distributed == approx(obj))"
   ]
  },
  {
   "cell_type": "markdown",
   "metadata": {},
   "source": [
    "```{admonition} Comentarios\n",
    "\n",
    "* Con `map` o `submit` se han enviado las *tasks* al *scheduler* a realizar. Ver [map](https://distributed.dask.org/en/latest/api.html), [submit](https://distributed.dask.org/en/latest/api.html#distributed.Client.submit) y [concurrent.futures](https://distributed.dask.org/en/latest/client.html#concurrent-futures). \n",
    "\n",
    "* Los cálculos definidos por las funciones `create_nodes_in_subintervals` y `evaluate_f_in_nodes_and_sum` se ejecutan en cada *dask-worker* y a distintos tiempos. \n",
    "\n",
    "* Obsérvese que se puede hacer `map` o `submit` en *futures*. \n",
    "\n",
    "* Los resultados viven en los procesos *dask-workers*.\n",
    "\n",
    "* Con `gather` se juntan los resultados (*futures*) en el proceso local.\n",
    "\n",
    "* Podemos usar `gather` o `result` de los *futures*.\n",
    "\n",
    "```"
   ]
  },
  {
   "cell_type": "code",
   "execution_count": 93,
   "metadata": {},
   "outputs": [],
   "source": [
    "client.close()"
   ]
  },
  {
   "cell_type": "code",
   "execution_count": 94,
   "metadata": {},
   "outputs": [],
   "source": [
    "client = Client(n_workers=multiprocessing.cpu_count(),\n",
    "                threads_per_worker=1\n",
    "               )  "
   ]
  },
  {
   "cell_type": "code",
   "execution_count": 95,
   "metadata": {},
   "outputs": [
    {
     "data": {
      "text/html": [
       "<table style=\"border: 2px solid white;\">\n",
       "<tr>\n",
       "<td style=\"vertical-align: top; border: 0px solid white\">\n",
       "<h3 style=\"text-align: left;\">Client</h3>\n",
       "<ul style=\"text-align: left; list-style: none; margin: 0; padding: 0;\">\n",
       "  <li><b>Scheduler: </b>tcp://127.0.0.1:36587</li>\n",
       "  <li><b>Dashboard: </b><a href='http://127.0.0.1:8787/status' target='_blank'>http://127.0.0.1:8787/status</a></li>\n",
       "</ul>\n",
       "</td>\n",
       "<td style=\"vertical-align: top; border: 0px solid white\">\n",
       "<h3 style=\"text-align: left;\">Cluster</h3>\n",
       "<ul style=\"text-align: left; list-style:none; margin: 0; padding: 0;\">\n",
       "  <li><b>Workers: </b>64</li>\n",
       "  <li><b>Cores: </b>64</li>\n",
       "  <li><b>Memory: </b>251.89 GiB</li>\n",
       "</ul>\n",
       "</td>\n",
       "</tr>\n",
       "</table>"
      ],
      "text/plain": [
       "<Client: 'tcp://127.0.0.1:36587' processes=64 threads=64, memory=251.89 GiB>"
      ]
     },
     "execution_count": 95,
     "metadata": {},
     "output_type": "execute_result"
    }
   ],
   "source": [
    "client"
   ]
  },
  {
   "cell_type": "code",
   "execution_count": 96,
   "metadata": {},
   "outputs": [
    {
     "name": "stdout",
     "output_type": "stream",
     "text": [
      "CPU times: user 446 ms, sys: 72.7 ms, total: 519 ms\n",
      "Wall time: 652 ms\n"
     ]
    }
   ],
   "source": [
    "%%time\n",
    "futures_nodes = client.map(create_nodes_in_subintervals,range(p),\n",
    "                           **{'a':a,\n",
    "                              'b':b,\n",
    "                              \"h_hat\":h_hat,\n",
    "                              'n':n,\n",
    "                              \"n_s_c\":n_subintervals_per_core}\n",
    "                            )\n",
    "futures_evaluated = client.map(evaluate_f_in_nodes_and_sum, futures_nodes,\n",
    "                                                       **{'f':f}\n",
    "                            )\n",
    "\n",
    "results = [future.result() for future in futures_evaluated]\n",
    "res_rcf_distributed = h_hat*sum(results)"
   ]
  },
  {
   "cell_type": "code",
   "execution_count": 97,
   "metadata": {},
   "outputs": [
    {
     "name": "stdout",
     "output_type": "stream",
     "text": [
      "True\n"
     ]
    }
   ],
   "source": [
    "print(res_rcf_distributed == approx(obj))"
   ]
  },
  {
   "cell_type": "markdown",
   "metadata": {},
   "source": [
    "### Gráfica de tiempo de ejecución vs número de procesos"
   ]
  },
  {
   "cell_type": "code",
   "execution_count": 98,
   "metadata": {},
   "outputs": [],
   "source": [
    "err_np = []\n",
    "n_cpus = []"
   ]
  },
  {
   "cell_type": "code",
   "execution_count": 99,
   "metadata": {},
   "outputs": [],
   "source": [
    "def relative_error(aprox, obj):\n",
    "    return math.fabs(aprox-obj)/math.fabs(obj)"
   ]
  },
  {
   "cell_type": "code",
   "execution_count": 100,
   "metadata": {},
   "outputs": [],
   "source": [
    "def Rcf_dask(my_id,f,a,b,h_hat,n,n_s_c):\n",
    "    begin=my_id*n_s_c\n",
    "    end=begin+n_s_c\n",
    "    h_hat=(b-a)/n\n",
    "    sum_res = 0\n",
    "    for i in range(begin,end):\n",
    "        x = a+(i+1/2)*h_hat\n",
    "        sum_res += f(x)\n",
    "    return sum_res"
   ]
  },
  {
   "cell_type": "code",
   "execution_count": 101,
   "metadata": {},
   "outputs": [],
   "source": [
    "def myfun(cl,p,n_s_c):\n",
    "    futures_Rcf_dask = cl.map(Rcf_dask,range(p),\n",
    "                              **{'f':f,\n",
    "                                 'a':a,\n",
    "                                 'b':b,\n",
    "                                 \"h_hat\":h_hat,\n",
    "                                 'n':n,\n",
    "                                 \"n_s_c\":n_s_c}\n",
    "                              ) \n",
    "    results_gather = cl.gather(futures_Rcf_dask)\n",
    "    res_rcf_dask = h_hat*sum(results_gather)\n",
    "    return relative_error(res_rcf_dask,obj)\n"
   ]
  },
  {
   "cell_type": "code",
   "execution_count": 102,
   "metadata": {},
   "outputs": [],
   "source": [
    "client.close()"
   ]
  },
  {
   "cell_type": "code",
   "execution_count": 103,
   "metadata": {},
   "outputs": [
    {
     "data": {
      "text/html": [
       "<table style=\"border: 2px solid white;\">\n",
       "<tr>\n",
       "<td style=\"vertical-align: top; border: 0px solid white\">\n",
       "<h3 style=\"text-align: left;\">Client</h3>\n",
       "<ul style=\"text-align: left; list-style: none; margin: 0; padding: 0;\">\n",
       "  <li><b>Scheduler: </b>tcp://127.0.0.1:36587</li>\n",
       "  <li><b>Dashboard: </b><a href='http://127.0.0.1:8787/status' target='_blank'>http://127.0.0.1:8787/status</a></li>\n",
       "</ul>\n",
       "</td>\n",
       "<td style=\"vertical-align: top; border: 0px solid white\">\n",
       "<h3 style=\"text-align: left;\">Cluster</h3>\n",
       "<ul style=\"text-align: left; list-style:none; margin: 0; padding: 0;\">\n",
       "  <li><b>Workers: </b>0</li>\n",
       "  <li><b>Cores: </b>0</li>\n",
       "  <li><b>Memory: </b>0 B</li>\n",
       "</ul>\n",
       "</td>\n",
       "</tr>\n",
       "</table>"
      ],
      "text/plain": [
       "<Client: not connected>"
      ]
     },
     "execution_count": 103,
     "metadata": {},
     "output_type": "execute_result"
    }
   ],
   "source": [
    "client"
   ]
  },
  {
   "cell_type": "code",
   "execution_count": 104,
   "metadata": {},
   "outputs": [],
   "source": [
    "for p in range(1,multiprocessing.cpu_count()+1):\n",
    "    if n%p==0:\n",
    "        n_subintervals_per_core=int(n/p)\n",
    "        client = Client(n_workers=p,\n",
    "                        threads_per_worker=1\n",
    "                       )\n",
    "        err_np.append(myfun(client,p,n_subintervals_per_core))\n",
    "        n_cpus.append(p)\n",
    "        client.close()"
   ]
  },
  {
   "cell_type": "code",
   "execution_count": 105,
   "metadata": {},
   "outputs": [
    {
     "name": "stdout",
     "output_type": "stream",
     "text": [
      "[4.99495021497577e-14, 1.4419945561090765e-14, 2.4231454911936028e-14, 5.886905610507158e-14, 1.3825308630736507e-14, 1.7690448678039188e-14, 3.716480814714115e-15, 3.86514004730268e-15, 2.527206954005598e-15, 2.973184651771292e-15, 2.229888488828469e-15, 2.6758661865941626e-15, 1.486592325885646e-15]\n"
     ]
    }
   ],
   "source": [
    "print(err_np)"
   ]
  },
  {
   "cell_type": "code",
   "execution_count": 106,
   "metadata": {},
   "outputs": [
    {
     "name": "stdout",
     "output_type": "stream",
     "text": [
      "[1, 2, 4, 5, 8, 10, 16, 20, 25, 32, 40, 50, 64]\n"
     ]
    }
   ],
   "source": [
    "print(n_cpus)"
   ]
  },
  {
   "cell_type": "code",
   "execution_count": 107,
   "metadata": {},
   "outputs": [],
   "source": [
    "l=[]\n",
    "n_cpus=[]"
   ]
  },
  {
   "cell_type": "code",
   "execution_count": 108,
   "metadata": {},
   "outputs": [],
   "source": [
    "client.close()"
   ]
  },
  {
   "cell_type": "code",
   "execution_count": 109,
   "metadata": {},
   "outputs": [
    {
     "data": {
      "text/html": [
       "<table style=\"border: 2px solid white;\">\n",
       "<tr>\n",
       "<td style=\"vertical-align: top; border: 0px solid white\">\n",
       "<h3 style=\"text-align: left;\">Client</h3>\n",
       "<ul style=\"text-align: left; list-style: none; margin: 0; padding: 0;\">\n",
       "  <li><b>Scheduler: </b>tcp://127.0.0.1:34087</li>\n",
       "  <li><b>Dashboard: </b><a href='http://127.0.0.1:8787/status' target='_blank'>http://127.0.0.1:8787/status</a></li>\n",
       "</ul>\n",
       "</td>\n",
       "<td style=\"vertical-align: top; border: 0px solid white\">\n",
       "<h3 style=\"text-align: left;\">Cluster</h3>\n",
       "<ul style=\"text-align: left; list-style:none; margin: 0; padding: 0;\">\n",
       "  <li><b>Workers: </b>0</li>\n",
       "  <li><b>Cores: </b>0</li>\n",
       "  <li><b>Memory: </b>0 B</li>\n",
       "</ul>\n",
       "</td>\n",
       "</tr>\n",
       "</table>"
      ],
      "text/plain": [
       "<Client: not connected>"
      ]
     },
     "execution_count": 109,
     "metadata": {},
     "output_type": "execute_result"
    }
   ],
   "source": [
    "client"
   ]
  },
  {
   "cell_type": "code",
   "execution_count": 110,
   "metadata": {},
   "outputs": [
    {
     "name": "stdout",
     "output_type": "stream",
     "text": [
      "3.51 s ± 0 ns per loop (mean ± std. dev. of 1 run, 1 loop each)\n",
      "1.78 s ± 0 ns per loop (mean ± std. dev. of 1 run, 1 loop each)\n",
      "912 ms ± 0 ns per loop (mean ± std. dev. of 1 run, 1 loop each)\n",
      "703 ms ± 0 ns per loop (mean ± std. dev. of 1 run, 1 loop each)\n",
      "453 ms ± 0 ns per loop (mean ± std. dev. of 1 run, 1 loop each)\n",
      "382 ms ± 0 ns per loop (mean ± std. dev. of 1 run, 1 loop each)\n",
      "264 ms ± 0 ns per loop (mean ± std. dev. of 1 run, 1 loop each)\n",
      "209 ms ± 0 ns per loop (mean ± std. dev. of 1 run, 1 loop each)\n",
      "247 ms ± 0 ns per loop (mean ± std. dev. of 1 run, 1 loop each)\n",
      "265 ms ± 0 ns per loop (mean ± std. dev. of 1 run, 1 loop each)\n",
      "246 ms ± 0 ns per loop (mean ± std. dev. of 1 run, 1 loop each)\n",
      "225 ms ± 0 ns per loop (mean ± std. dev. of 1 run, 1 loop each)\n",
      "219 ms ± 0 ns per loop (mean ± std. dev. of 1 run, 1 loop each)\n"
     ]
    }
   ],
   "source": [
    "for p in range(1,multiprocessing.cpu_count()+1):\n",
    "    if n%p==0:\n",
    "        n_subintervals_per_core=int(n/p)\n",
    "        client = Client(n_workers=p,\n",
    "                threads_per_worker=1\n",
    "               )\n",
    "        futures_Rcf_dask = client.map(Rcf_dask,range(p),\n",
    "                                      **{'f':f,\n",
    "                                         'a':a,\n",
    "                                         'b':b,\n",
    "                                         \"h_hat\":h_hat,\n",
    "                                         'n':n,\n",
    "                                         \"n_s_c\":n_subintervals_per_core}\n",
    "                                         )\n",
    "        res_timeit=%timeit -n 1 -r 1 -o client.gather(futures_Rcf_dask)\n",
    "        l.append(res_timeit.average)\n",
    "        n_cpus.append(p)\n",
    "        client.close()"
   ]
  },
  {
   "cell_type": "code",
   "execution_count": 111,
   "metadata": {},
   "outputs": [
    {
     "name": "stdout",
     "output_type": "stream",
     "text": [
      "[3.5090261809999674, 1.7812696429999733, 0.9115001600000596, 0.7026990690000048, 0.4530085749998989, 0.3824766829999362, 0.26363759200000914, 0.2088517160000265, 0.24679592099994352, 0.26478211699998155, 0.2463634880000427, 0.22536355599982016, 0.21928008600002613]\n"
     ]
    }
   ],
   "source": [
    "print(l)"
   ]
  },
  {
   "cell_type": "code",
   "execution_count": 112,
   "metadata": {},
   "outputs": [
    {
     "name": "stdout",
     "output_type": "stream",
     "text": [
      "[1, 2, 4, 5, 8, 10, 16, 20, 25, 32, 40, 50, 64]\n"
     ]
    }
   ],
   "source": [
    "print(n_cpus)"
   ]
  },
  {
   "cell_type": "code",
   "execution_count": 113,
   "metadata": {},
   "outputs": [],
   "source": [
    "import matplotlib.pyplot as plt"
   ]
  },
  {
   "cell_type": "code",
   "execution_count": 114,
   "metadata": {},
   "outputs": [
    {
     "data": {
      "image/png": "[encoded data removed]",
      "text/plain": [
       "<Figure size 432x288 with 1 Axes>"
      ]
     },
     "metadata": {
      "needs_background": "light"
     },
     "output_type": "display_data"
    }
   ],
   "source": [
    "plt.plot(n_cpus,l,'o-')\n",
    "plt.title('Gráfica num cpus vs tiempo')\n",
    "plt.xlabel('num cpus')\n",
    "plt.ylabel('tiempo')\n",
    "plt.grid()\n",
    "plt.show()"
   ]
  },
  {
   "cell_type": "markdown",
   "metadata": {},
   "source": [
    "```{admonition} Ejercicio\n",
    ":class: tip\n",
    "\n",
    "Implementar la regla de Simpson con *Multiprocessing* y *Dask* en una máquina de AWS con las mismas características que la que se presenta en esta nota, medir tiempo de ejecución y realizar gráfica de tiempo vs num cpus.\n",
    "\n",
    "```"
   ]
  },
  {
   "cell_type": "markdown",
   "metadata": {},
   "source": [
    "## [Parallel](https://www.rdocumentation.org/packages/parallel/versions/3.6.2)"
   ]
  },
  {
   "cell_type": "markdown",
   "metadata": {},
   "source": [
    "Entre las herramientas más populares en *R* para cómputo en paralelo se encuentran:\n",
    "\n",
    "* [Simple Network Of Workstations: snow](https://www.rdocumentation.org/packages/snow/versions/0.4-3), ver [liga](http://homepage.divms.uiowa.edu/~luke/R/cluster/cluster.html) para más información (ya es una herramienta incluida en el paquete *Parallel*).\n",
    "\n",
    "* [multicore](https://www.rdocumentation.org/packages/future/versions/1.15.1/topics/multicore) (funciona en la familia Unix pero no en Windows y ya es una herramienta incluida en el paquete *Parallel*).\n",
    "\n",
    "* [foreach](https://www.rdocumentation.org/packages/foreach/versions/1.4.7/topics/foreach). Hay ventajas al usarse con el paquete [iterators](https://www.rdocumentation.org/packages/iterators/versions/1.0.12).\n",
    "\n",
    "* [Rmpi](https://www.rdocumentation.org/packages/Rmpi/versions/0.6-9). Paralelización en SMC y en SMD.\n"
   ]
  },
  {
   "cell_type": "markdown",
   "metadata": {},
   "source": [
    "```{admonition} Comentarios\n",
    "\n",
    "* Las primeras dos son parte del paquete [parallel](https://www.rdocumentation.org/packages/parallel/versions/3.6.2) el cual está incluido en la instalación de *R* desde la versión `2.14.0`.\n",
    "\n",
    "* Los cuatro paquetes de arriba emplean un paradigma de programación en paralelo del tipo *scatter/gather*: se tienen múltiples instancias de *R* corriendo al mismo tiempo en un clúster de máquinas o en una máquina *multicore*. Una de las instancias se le denomina *manager*  y las restantes *workers*. El cómputo en paralelo procede como sigue:\n",
    "\n",
    "* **scatter**: *manager* descompone el cómputo a realizar en *chunks* y envía (*scatters*) los *chunks* a *workers*.\n",
    "\n",
    "* **chunk computation**: *workers* hacen el cómputo en cada *chunk* y envían de regreso los resultados a *manager*.\n",
    "\n",
    "* **gather**: *manager* recibe (*gathers*) los resultados y los combina para resolver el problema.\n",
    "\n",
    "```"
   ]
  },
  {
   "cell_type": "markdown",
   "metadata": {},
   "source": [
    "### Ejemplo"
   ]
  },
  {
   "cell_type": "code",
   "execution_count": 1,
   "metadata": {},
   "outputs": [],
   "source": [
    "library(parallel)"
   ]
  },
  {
   "cell_type": "markdown",
   "metadata": {},
   "source": [
    "En *Parallel* tenemos la función `detectCores` que como su nombre lo indica obtiene el número de CPU's en nuestra máquina."
   ]
  },
  {
   "cell_type": "code",
   "execution_count": 2,
   "metadata": {},
   "outputs": [],
   "source": [
    "p <- detectCores()"
   ]
  },
  {
   "cell_type": "code",
   "execution_count": 3,
   "metadata": {},
   "outputs": [
    {
     "data": {
      "text/html": [
       "64"
      ],
      "text/latex": [
       "64"
      ],
      "text/markdown": [
       "64"
      ],
      "text/plain": [
       "[1] 64"
      ]
     },
     "metadata": {},
     "output_type": "display_data"
    }
   ],
   "source": [
    "p"
   ]
  },
  {
   "cell_type": "markdown",
   "metadata": {},
   "source": [
    "Usamos `makeCluster` para iniciar el *snow cluster*:"
   ]
  },
  {
   "cell_type": "code",
   "execution_count": 4,
   "metadata": {},
   "outputs": [],
   "source": [
    "cl <- makeCluster(p)"
   ]
  },
  {
   "cell_type": "markdown",
   "metadata": {},
   "source": [
    "La línea anterior crea `p` *workers* y cada *worker* es un proceso de *R* (al igual que el proceso *manager*) que corren en la misma máquina."
   ]
  },
  {
   "cell_type": "markdown",
   "metadata": {},
   "source": [
    "```{admonition} Comentario\n",
    "\n",
    "El nombre de clúster en *snow* hace referencia al conjunto de *workers* y no a máquinas físicas. El objeto `cl` contiene información de *workers* y es de clase `cluster`.\n",
    "\n",
    "```"
   ]
  },
  {
   "cell_type": "code",
   "execution_count": 5,
   "metadata": {},
   "outputs": [
    {
     "name": "stdout",
     "output_type": "stream",
     "text": [
      "[1] \"SOCKcluster\" \"cluster\"    \n"
     ]
    }
   ],
   "source": [
    "print(class(cl))"
   ]
  },
  {
   "cell_type": "markdown",
   "metadata": {},
   "source": [
    "La comunicación entre *manager* y *workers* por *default* en `makeCluster` es vía [network sockets](https://en.wikipedia.org/wiki/Network_socket) y es posible crear un clúster de máquinas físicas conectadas vía una network. "
   ]
  },
  {
   "cell_type": "code",
   "execution_count": 6,
   "metadata": {},
   "outputs": [
    {
     "name": "stdout",
     "output_type": "stream",
     "text": [
      "socket cluster with 64 nodes on host ‘localhost’\n"
     ]
    }
   ],
   "source": [
    "print(cl)"
   ]
  },
  {
   "cell_type": "markdown",
   "metadata": {},
   "source": [
    "#### clusterApply"
   ]
  },
  {
   "cell_type": "markdown",
   "metadata": {},
   "source": [
    "En *Parallel* se tiene la función [clusterApply](https://www.rdocumentation.org/packages/parallel/versions/3.6.2/topics/clusterApply) para ejecución en paralelo de una función aplicada a cada elemento de una lista: *manager* envía `lista[1]` a `cl[1]`, `lista[2]` a `cl[2]`,...,`lista[p]` a `cl[p]`. \n",
    "\n",
    "Además, si el número de elementos de la lista es mayor que el número de *workers* entonces `clusterApply` realiza una asignación tipo *round robin*: por ejemplo, si la lista tiene $4$ elementos y se tienen $2$ *workers* entonces `clusterApply` le envía a *worker1* el elemento de la primera posición de la lista, a *worker2* el segundo elemento. Después que *worker1* finaliza el procesamiento, `clusterApply` le envía la tercera posición y al terminar *worker2* del procesamiento, `clusterApply` le envía la cuarta posición (`clusterApply` aprovecha la característica que tiene *R* de reciclar operaciones)."
   ]
  },
  {
   "cell_type": "code",
   "execution_count": 7,
   "metadata": {
    "tags": [
     "output_scroll"
    ]
   },
   "outputs": [
    {
     "name": "stdout",
     "output_type": "stream",
     "text": [
      "[[1]]\n",
      "[1] \"Hello world!\"\n",
      "\n",
      "[[2]]\n",
      "[1] \"Hello world!\"\n",
      "\n",
      "[[3]]\n",
      "[1] \"Hello world!\"\n",
      "\n",
      "[[4]]\n",
      "[1] \"Hello world!\"\n",
      "\n",
      "[[5]]\n",
      "[1] \"Hello world!\"\n",
      "\n",
      "[[6]]\n",
      "[1] \"Hello world!\"\n",
      "\n",
      "[[7]]\n",
      "[1] \"Hello world!\"\n",
      "\n",
      "[[8]]\n",
      "[1] \"Hello world!\"\n",
      "\n",
      "[[9]]\n",
      "[1] \"Hello world!\"\n",
      "\n",
      "[[10]]\n",
      "[1] \"Hello world!\"\n",
      "\n",
      "[[11]]\n",
      "[1] \"Hello world!\"\n",
      "\n",
      "[[12]]\n",
      "[1] \"Hello world!\"\n",
      "\n",
      "[[13]]\n",
      "[1] \"Hello world!\"\n",
      "\n",
      "[[14]]\n",
      "[1] \"Hello world!\"\n",
      "\n",
      "[[15]]\n",
      "[1] \"Hello world!\"\n",
      "\n",
      "[[16]]\n",
      "[1] \"Hello world!\"\n",
      "\n",
      "[[17]]\n",
      "[1] \"Hello world!\"\n",
      "\n",
      "[[18]]\n",
      "[1] \"Hello world!\"\n",
      "\n",
      "[[19]]\n",
      "[1] \"Hello world!\"\n",
      "\n",
      "[[20]]\n",
      "[1] \"Hello world!\"\n",
      "\n",
      "[[21]]\n",
      "[1] \"Hello world!\"\n",
      "\n",
      "[[22]]\n",
      "[1] \"Hello world!\"\n",
      "\n",
      "[[23]]\n",
      "[1] \"Hello world!\"\n",
      "\n",
      "[[24]]\n",
      "[1] \"Hello world!\"\n",
      "\n",
      "[[25]]\n",
      "[1] \"Hello world!\"\n",
      "\n",
      "[[26]]\n",
      "[1] \"Hello world!\"\n",
      "\n",
      "[[27]]\n",
      "[1] \"Hello world!\"\n",
      "\n",
      "[[28]]\n",
      "[1] \"Hello world!\"\n",
      "\n",
      "[[29]]\n",
      "[1] \"Hello world!\"\n",
      "\n",
      "[[30]]\n",
      "[1] \"Hello world!\"\n",
      "\n",
      "[[31]]\n",
      "[1] \"Hello world!\"\n",
      "\n",
      "[[32]]\n",
      "[1] \"Hello world!\"\n",
      "\n",
      "[[33]]\n",
      "[1] \"Hello world!\"\n",
      "\n",
      "[[34]]\n",
      "[1] \"Hello world!\"\n",
      "\n",
      "[[35]]\n",
      "[1] \"Hello world!\"\n",
      "\n",
      "[[36]]\n",
      "[1] \"Hello world!\"\n",
      "\n",
      "[[37]]\n",
      "[1] \"Hello world!\"\n",
      "\n",
      "[[38]]\n",
      "[1] \"Hello world!\"\n",
      "\n",
      "[[39]]\n",
      "[1] \"Hello world!\"\n",
      "\n",
      "[[40]]\n",
      "[1] \"Hello world!\"\n",
      "\n",
      "[[41]]\n",
      "[1] \"Hello world!\"\n",
      "\n",
      "[[42]]\n",
      "[1] \"Hello world!\"\n",
      "\n",
      "[[43]]\n",
      "[1] \"Hello world!\"\n",
      "\n",
      "[[44]]\n",
      "[1] \"Hello world!\"\n",
      "\n",
      "[[45]]\n",
      "[1] \"Hello world!\"\n",
      "\n",
      "[[46]]\n",
      "[1] \"Hello world!\"\n",
      "\n",
      "[[47]]\n",
      "[1] \"Hello world!\"\n",
      "\n",
      "[[48]]\n",
      "[1] \"Hello world!\"\n",
      "\n",
      "[[49]]\n",
      "[1] \"Hello world!\"\n",
      "\n",
      "[[50]]\n",
      "[1] \"Hello world!\"\n",
      "\n",
      "[[51]]\n",
      "[1] \"Hello world!\"\n",
      "\n",
      "[[52]]\n",
      "[1] \"Hello world!\"\n",
      "\n",
      "[[53]]\n",
      "[1] \"Hello world!\"\n",
      "\n",
      "[[54]]\n",
      "[1] \"Hello world!\"\n",
      "\n",
      "[[55]]\n",
      "[1] \"Hello world!\"\n",
      "\n",
      "[[56]]\n",
      "[1] \"Hello world!\"\n",
      "\n",
      "[[57]]\n",
      "[1] \"Hello world!\"\n",
      "\n",
      "[[58]]\n",
      "[1] \"Hello world!\"\n",
      "\n",
      "[[59]]\n",
      "[1] \"Hello world!\"\n",
      "\n",
      "[[60]]\n",
      "[1] \"Hello world!\"\n",
      "\n",
      "[[61]]\n",
      "[1] \"Hello world!\"\n",
      "\n",
      "[[62]]\n",
      "[1] \"Hello world!\"\n",
      "\n",
      "[[63]]\n",
      "[1] \"Hello world!\"\n",
      "\n",
      "[[64]]\n",
      "[1] \"Hello world!\"\n",
      "\n"
     ]
    }
   ],
   "source": [
    "print(clusterApply(cl, 1:p,function(dummy)print(\"Hello world!\")))"
   ]
  },
  {
   "cell_type": "code",
   "execution_count": 8,
   "metadata": {},
   "outputs": [
    {
     "name": "stdout",
     "output_type": "stream",
     "text": [
      "[[1]]\n",
      "[1] \"Hello world!\"\n",
      "\n",
      "[[2]]\n",
      "[1] \"Hello world!\"\n",
      "\n",
      "[[3]]\n",
      "[1] \"Hello world!\"\n",
      "\n",
      "[[4]]\n",
      "[1] \"Hello world!\"\n",
      "\n",
      "[[5]]\n",
      "[1] \"Hello world!\"\n",
      "\n"
     ]
    }
   ],
   "source": [
    "print(clusterApply(cl, 1:5,function(dummy)print(\"Hello world!\")))"
   ]
  },
  {
   "cell_type": "markdown",
   "metadata": {},
   "source": [
    "```{admonition} Observación\n",
    ":class: tip\n",
    "\n",
    "Obsérvese que el resultado de `clusterApply` es una lista.\n",
    "\n",
    "```"
   ]
  },
  {
   "cell_type": "markdown",
   "metadata": {},
   "source": [
    "### Ejemplo de pasar argumentos vía `clusterExport`"
   ]
  },
  {
   "cell_type": "markdown",
   "metadata": {},
   "source": [
    "`clusterExport` nos permite transmitir valores de variables definidas en el *workspace global* de *manager* hacia los *workspaces* de cada *worker* bajo los mismos nombres de variables:"
   ]
  },
  {
   "cell_type": "code",
   "execution_count": 9,
   "metadata": {},
   "outputs": [],
   "source": [
    "s <- \"Hola mundo!\""
   ]
  },
  {
   "cell_type": "code",
   "execution_count": 10,
   "metadata": {},
   "outputs": [],
   "source": [
    "clusterExport(cl,'s')"
   ]
  },
  {
   "cell_type": "code",
   "execution_count": 11,
   "metadata": {
    "tags": [
     "output_scroll"
    ]
   },
   "outputs": [
    {
     "name": "stdout",
     "output_type": "stream",
     "text": [
      "[[1]]\n",
      "[1] \"Hola mundo!\"\n",
      "\n",
      "[[2]]\n",
      "[1] \"Hola mundo!\"\n",
      "\n",
      "[[3]]\n",
      "[1] \"Hola mundo!\"\n",
      "\n",
      "[[4]]\n",
      "[1] \"Hola mundo!\"\n",
      "\n",
      "[[5]]\n",
      "[1] \"Hola mundo!\"\n",
      "\n",
      "[[6]]\n",
      "[1] \"Hola mundo!\"\n",
      "\n",
      "[[7]]\n",
      "[1] \"Hola mundo!\"\n",
      "\n",
      "[[8]]\n",
      "[1] \"Hola mundo!\"\n",
      "\n",
      "[[9]]\n",
      "[1] \"Hola mundo!\"\n",
      "\n",
      "[[10]]\n",
      "[1] \"Hola mundo!\"\n",
      "\n",
      "[[11]]\n",
      "[1] \"Hola mundo!\"\n",
      "\n",
      "[[12]]\n",
      "[1] \"Hola mundo!\"\n",
      "\n",
      "[[13]]\n",
      "[1] \"Hola mundo!\"\n",
      "\n",
      "[[14]]\n",
      "[1] \"Hola mundo!\"\n",
      "\n",
      "[[15]]\n",
      "[1] \"Hola mundo!\"\n",
      "\n",
      "[[16]]\n",
      "[1] \"Hola mundo!\"\n",
      "\n",
      "[[17]]\n",
      "[1] \"Hola mundo!\"\n",
      "\n",
      "[[18]]\n",
      "[1] \"Hola mundo!\"\n",
      "\n",
      "[[19]]\n",
      "[1] \"Hola mundo!\"\n",
      "\n",
      "[[20]]\n",
      "[1] \"Hola mundo!\"\n",
      "\n",
      "[[21]]\n",
      "[1] \"Hola mundo!\"\n",
      "\n",
      "[[22]]\n",
      "[1] \"Hola mundo!\"\n",
      "\n",
      "[[23]]\n",
      "[1] \"Hola mundo!\"\n",
      "\n",
      "[[24]]\n",
      "[1] \"Hola mundo!\"\n",
      "\n",
      "[[25]]\n",
      "[1] \"Hola mundo!\"\n",
      "\n",
      "[[26]]\n",
      "[1] \"Hola mundo!\"\n",
      "\n",
      "[[27]]\n",
      "[1] \"Hola mundo!\"\n",
      "\n",
      "[[28]]\n",
      "[1] \"Hola mundo!\"\n",
      "\n",
      "[[29]]\n",
      "[1] \"Hola mundo!\"\n",
      "\n",
      "[[30]]\n",
      "[1] \"Hola mundo!\"\n",
      "\n",
      "[[31]]\n",
      "[1] \"Hola mundo!\"\n",
      "\n",
      "[[32]]\n",
      "[1] \"Hola mundo!\"\n",
      "\n",
      "[[33]]\n",
      "[1] \"Hola mundo!\"\n",
      "\n",
      "[[34]]\n",
      "[1] \"Hola mundo!\"\n",
      "\n",
      "[[35]]\n",
      "[1] \"Hola mundo!\"\n",
      "\n",
      "[[36]]\n",
      "[1] \"Hola mundo!\"\n",
      "\n",
      "[[37]]\n",
      "[1] \"Hola mundo!\"\n",
      "\n",
      "[[38]]\n",
      "[1] \"Hola mundo!\"\n",
      "\n",
      "[[39]]\n",
      "[1] \"Hola mundo!\"\n",
      "\n",
      "[[40]]\n",
      "[1] \"Hola mundo!\"\n",
      "\n",
      "[[41]]\n",
      "[1] \"Hola mundo!\"\n",
      "\n",
      "[[42]]\n",
      "[1] \"Hola mundo!\"\n",
      "\n",
      "[[43]]\n",
      "[1] \"Hola mundo!\"\n",
      "\n",
      "[[44]]\n",
      "[1] \"Hola mundo!\"\n",
      "\n",
      "[[45]]\n",
      "[1] \"Hola mundo!\"\n",
      "\n",
      "[[46]]\n",
      "[1] \"Hola mundo!\"\n",
      "\n",
      "[[47]]\n",
      "[1] \"Hola mundo!\"\n",
      "\n",
      "[[48]]\n",
      "[1] \"Hola mundo!\"\n",
      "\n",
      "[[49]]\n",
      "[1] \"Hola mundo!\"\n",
      "\n",
      "[[50]]\n",
      "[1] \"Hola mundo!\"\n",
      "\n",
      "[[51]]\n",
      "[1] \"Hola mundo!\"\n",
      "\n",
      "[[52]]\n",
      "[1] \"Hola mundo!\"\n",
      "\n",
      "[[53]]\n",
      "[1] \"Hola mundo!\"\n",
      "\n",
      "[[54]]\n",
      "[1] \"Hola mundo!\"\n",
      "\n",
      "[[55]]\n",
      "[1] \"Hola mundo!\"\n",
      "\n",
      "[[56]]\n",
      "[1] \"Hola mundo!\"\n",
      "\n",
      "[[57]]\n",
      "[1] \"Hola mundo!\"\n",
      "\n",
      "[[58]]\n",
      "[1] \"Hola mundo!\"\n",
      "\n",
      "[[59]]\n",
      "[1] \"Hola mundo!\"\n",
      "\n",
      "[[60]]\n",
      "[1] \"Hola mundo!\"\n",
      "\n",
      "[[61]]\n",
      "[1] \"Hola mundo!\"\n",
      "\n",
      "[[62]]\n",
      "[1] \"Hola mundo!\"\n",
      "\n",
      "[[63]]\n",
      "[1] \"Hola mundo!\"\n",
      "\n",
      "[[64]]\n",
      "[1] \"Hola mundo!\"\n",
      "\n"
     ]
    }
   ],
   "source": [
    "print(clusterApply(cl, 1:p,function(dummy)print(s)))"
   ]
  },
  {
   "cell_type": "markdown",
   "metadata": {},
   "source": [
    "¿Qué pasa si mi `clusterExport` está dentro de una función?"
   ]
  },
  {
   "cell_type": "code",
   "execution_count": 12,
   "metadata": {},
   "outputs": [],
   "source": [
    "myfun <- function(){\n",
    "    s_local<-\"Hola mundo! usando variable local a myfun\"\n",
    "    clusterExport(cl,\"s_local\")\n",
    "    print(clusterApply(cl, 1:p,function(dummy)print(s_local)))\n",
    "}"
   ]
  },
  {
   "cell_type": "code",
   "execution_count": 13,
   "metadata": {},
   "outputs": [
    {
     "ename": "ERROR",
     "evalue": "Error in get(name, envir = envir): object 's_local' not found\n",
     "output_type": "error",
     "traceback": [
      "Error in get(name, envir = envir): object 's_local' not found\nTraceback:\n",
      "1. print(myfun())",
      "2. myfun()",
      "3. clusterExport(cl, \"s_local\")   # at line 3 of file <text>",
      "4. clusterCall(cl, gets, name, get(name, envir = envir))",
      "5. sendCall(cl[[i]], fun, list(...))",
      "6. postNode(con, \"EXEC\", list(fun = fun, args = args, return = return, \n .     tag = tag))",
      "7. sendData(con, list(type = type, data = value, tag = tag))",
      "8. sendData.SOCKnode(con, list(type = type, data = value, tag = tag))",
      "9. serialize(data, node$con)",
      "10. get(name, envir = envir)"
     ]
    }
   ],
   "source": [
    "print(myfun())"
   ]
  },
  {
   "cell_type": "markdown",
   "metadata": {},
   "source": [
    "Lo anterior lo podemos resolver con *superassignment*, ver [What does the \"<<-\" operator mean?](https://stat.ethz.ch/pipermail/r-help/2011-April/275905.html) y [how-do-you-use-scoping-assignment-in-r](https://stackoverflow.com/questions/2628621/how-do-you-use-scoping-assignment-in-r)."
   ]
  },
  {
   "cell_type": "code",
   "execution_count": 14,
   "metadata": {},
   "outputs": [],
   "source": [
    "myfun2 <- function(){\n",
    "    s_global <<- \"Hola mundo! usando superassignment en mifun2\" #<<- superassignment\n",
    "    clusterExport(cl,\"s_global\")\n",
    "    clusterApply(cl, 1:p,function(dummy)print(s_global))\n",
    "}"
   ]
  },
  {
   "cell_type": "code",
   "execution_count": 15,
   "metadata": {
    "tags": [
     "output_scroll"
    ]
   },
   "outputs": [
    {
     "name": "stdout",
     "output_type": "stream",
     "text": [
      "[[1]]\n",
      "[1] \"Hola mundo! usando superassignment en mifun2\"\n",
      "\n",
      "[[2]]\n",
      "[1] \"Hola mundo! usando superassignment en mifun2\"\n",
      "\n",
      "[[3]]\n",
      "[1] \"Hola mundo! usando superassignment en mifun2\"\n",
      "\n",
      "[[4]]\n",
      "[1] \"Hola mundo! usando superassignment en mifun2\"\n",
      "\n",
      "[[5]]\n",
      "[1] \"Hola mundo! usando superassignment en mifun2\"\n",
      "\n",
      "[[6]]\n",
      "[1] \"Hola mundo! usando superassignment en mifun2\"\n",
      "\n",
      "[[7]]\n",
      "[1] \"Hola mundo! usando superassignment en mifun2\"\n",
      "\n",
      "[[8]]\n",
      "[1] \"Hola mundo! usando superassignment en mifun2\"\n",
      "\n",
      "[[9]]\n",
      "[1] \"Hola mundo! usando superassignment en mifun2\"\n",
      "\n",
      "[[10]]\n",
      "[1] \"Hola mundo! usando superassignment en mifun2\"\n",
      "\n",
      "[[11]]\n",
      "[1] \"Hola mundo! usando superassignment en mifun2\"\n",
      "\n",
      "[[12]]\n",
      "[1] \"Hola mundo! usando superassignment en mifun2\"\n",
      "\n",
      "[[13]]\n",
      "[1] \"Hola mundo! usando superassignment en mifun2\"\n",
      "\n",
      "[[14]]\n",
      "[1] \"Hola mundo! usando superassignment en mifun2\"\n",
      "\n",
      "[[15]]\n",
      "[1] \"Hola mundo! usando superassignment en mifun2\"\n",
      "\n",
      "[[16]]\n",
      "[1] \"Hola mundo! usando superassignment en mifun2\"\n",
      "\n",
      "[[17]]\n",
      "[1] \"Hola mundo! usando superassignment en mifun2\"\n",
      "\n",
      "[[18]]\n",
      "[1] \"Hola mundo! usando superassignment en mifun2\"\n",
      "\n",
      "[[19]]\n",
      "[1] \"Hola mundo! usando superassignment en mifun2\"\n",
      "\n",
      "[[20]]\n",
      "[1] \"Hola mundo! usando superassignment en mifun2\"\n",
      "\n",
      "[[21]]\n",
      "[1] \"Hola mundo! usando superassignment en mifun2\"\n",
      "\n",
      "[[22]]\n",
      "[1] \"Hola mundo! usando superassignment en mifun2\"\n",
      "\n",
      "[[23]]\n",
      "[1] \"Hola mundo! usando superassignment en mifun2\"\n",
      "\n",
      "[[24]]\n",
      "[1] \"Hola mundo! usando superassignment en mifun2\"\n",
      "\n",
      "[[25]]\n",
      "[1] \"Hola mundo! usando superassignment en mifun2\"\n",
      "\n",
      "[[26]]\n",
      "[1] \"Hola mundo! usando superassignment en mifun2\"\n",
      "\n",
      "[[27]]\n",
      "[1] \"Hola mundo! usando superassignment en mifun2\"\n",
      "\n",
      "[[28]]\n",
      "[1] \"Hola mundo! usando superassignment en mifun2\"\n",
      "\n",
      "[[29]]\n",
      "[1] \"Hola mundo! usando superassignment en mifun2\"\n",
      "\n",
      "[[30]]\n",
      "[1] \"Hola mundo! usando superassignment en mifun2\"\n",
      "\n",
      "[[31]]\n",
      "[1] \"Hola mundo! usando superassignment en mifun2\"\n",
      "\n",
      "[[32]]\n",
      "[1] \"Hola mundo! usando superassignment en mifun2\"\n",
      "\n",
      "[[33]]\n",
      "[1] \"Hola mundo! usando superassignment en mifun2\"\n",
      "\n",
      "[[34]]\n",
      "[1] \"Hola mundo! usando superassignment en mifun2\"\n",
      "\n",
      "[[35]]\n",
      "[1] \"Hola mundo! usando superassignment en mifun2\"\n",
      "\n",
      "[[36]]\n",
      "[1] \"Hola mundo! usando superassignment en mifun2\"\n",
      "\n",
      "[[37]]\n",
      "[1] \"Hola mundo! usando superassignment en mifun2\"\n",
      "\n",
      "[[38]]\n",
      "[1] \"Hola mundo! usando superassignment en mifun2\"\n",
      "\n",
      "[[39]]\n",
      "[1] \"Hola mundo! usando superassignment en mifun2\"\n",
      "\n",
      "[[40]]\n",
      "[1] \"Hola mundo! usando superassignment en mifun2\"\n",
      "\n",
      "[[41]]\n",
      "[1] \"Hola mundo! usando superassignment en mifun2\"\n",
      "\n",
      "[[42]]\n",
      "[1] \"Hola mundo! usando superassignment en mifun2\"\n",
      "\n",
      "[[43]]\n",
      "[1] \"Hola mundo! usando superassignment en mifun2\"\n",
      "\n",
      "[[44]]\n",
      "[1] \"Hola mundo! usando superassignment en mifun2\"\n",
      "\n",
      "[[45]]\n",
      "[1] \"Hola mundo! usando superassignment en mifun2\"\n",
      "\n",
      "[[46]]\n",
      "[1] \"Hola mundo! usando superassignment en mifun2\"\n",
      "\n",
      "[[47]]\n",
      "[1] \"Hola mundo! usando superassignment en mifun2\"\n",
      "\n",
      "[[48]]\n",
      "[1] \"Hola mundo! usando superassignment en mifun2\"\n",
      "\n",
      "[[49]]\n",
      "[1] \"Hola mundo! usando superassignment en mifun2\"\n",
      "\n",
      "[[50]]\n",
      "[1] \"Hola mundo! usando superassignment en mifun2\"\n",
      "\n",
      "[[51]]\n",
      "[1] \"Hola mundo! usando superassignment en mifun2\"\n",
      "\n",
      "[[52]]\n",
      "[1] \"Hola mundo! usando superassignment en mifun2\"\n",
      "\n",
      "[[53]]\n",
      "[1] \"Hola mundo! usando superassignment en mifun2\"\n",
      "\n",
      "[[54]]\n",
      "[1] \"Hola mundo! usando superassignment en mifun2\"\n",
      "\n",
      "[[55]]\n",
      "[1] \"Hola mundo! usando superassignment en mifun2\"\n",
      "\n",
      "[[56]]\n",
      "[1] \"Hola mundo! usando superassignment en mifun2\"\n",
      "\n",
      "[[57]]\n",
      "[1] \"Hola mundo! usando superassignment en mifun2\"\n",
      "\n",
      "[[58]]\n",
      "[1] \"Hola mundo! usando superassignment en mifun2\"\n",
      "\n",
      "[[59]]\n",
      "[1] \"Hola mundo! usando superassignment en mifun2\"\n",
      "\n",
      "[[60]]\n",
      "[1] \"Hola mundo! usando superassignment en mifun2\"\n",
      "\n",
      "[[61]]\n",
      "[1] \"Hola mundo! usando superassignment en mifun2\"\n",
      "\n",
      "[[62]]\n",
      "[1] \"Hola mundo! usando superassignment en mifun2\"\n",
      "\n",
      "[[63]]\n",
      "[1] \"Hola mundo! usando superassignment en mifun2\"\n",
      "\n",
      "[[64]]\n",
      "[1] \"Hola mundo! usando superassignment en mifun2\"\n",
      "\n"
     ]
    }
   ],
   "source": [
    "print(myfun2())"
   ]
  },
  {
   "cell_type": "markdown",
   "metadata": {},
   "source": [
    "O bien con `environment()`:"
   ]
  },
  {
   "cell_type": "code",
   "execution_count": 16,
   "metadata": {},
   "outputs": [],
   "source": [
    "myfun3 <- function(s_global2){\n",
    "    clusterExport(cl,\"s_global2\")\n",
    "    clusterApply(cl, 1:p,function(dummy)print(s_global2))\n",
    "}"
   ]
  },
  {
   "cell_type": "code",
   "execution_count": 17,
   "metadata": {},
   "outputs": [
    {
     "ename": "ERROR",
     "evalue": "Error in get(name, envir = envir): object 's_global2' not found\n",
     "output_type": "error",
     "traceback": [
      "Error in get(name, envir = envir): object 's_global2' not found\nTraceback:\n",
      "1. print(myfun3(\"Hola mundo! usando variable local a mifun3\"))",
      "2. myfun3(\"Hola mundo! usando variable local a mifun3\")",
      "3. clusterExport(cl, \"s_global2\")   # at line 2 of file <text>",
      "4. clusterCall(cl, gets, name, get(name, envir = envir))",
      "5. sendCall(cl[[i]], fun, list(...))",
      "6. postNode(con, \"EXEC\", list(fun = fun, args = args, return = return, \n .     tag = tag))",
      "7. sendData(con, list(type = type, data = value, tag = tag))",
      "8. sendData.SOCKnode(con, list(type = type, data = value, tag = tag))",
      "9. serialize(data, node$con)",
      "10. get(name, envir = envir)"
     ]
    }
   ],
   "source": [
    "print(myfun3(\"Hola mundo! usando variable local a mifun3\"))"
   ]
  },
  {
   "cell_type": "code",
   "execution_count": 18,
   "metadata": {},
   "outputs": [],
   "source": [
    "myfun4<-function(s_global2){\n",
    "    clusterExport(cl,\"s_global2\", envir=environment())\n",
    "    clusterApply(cl, 1:p,function(dummy)print(s_global2))\n",
    "}"
   ]
  },
  {
   "cell_type": "code",
   "execution_count": 19,
   "metadata": {
    "tags": [
     "output_scroll"
    ]
   },
   "outputs": [
    {
     "name": "stdout",
     "output_type": "stream",
     "text": [
      "[[1]]\n",
      "[1] \"Hola mundo! usando environment()\"\n",
      "\n",
      "[[2]]\n",
      "[1] \"Hola mundo! usando environment()\"\n",
      "\n",
      "[[3]]\n",
      "[1] \"Hola mundo! usando environment()\"\n",
      "\n",
      "[[4]]\n",
      "[1] \"Hola mundo! usando environment()\"\n",
      "\n",
      "[[5]]\n",
      "[1] \"Hola mundo! usando environment()\"\n",
      "\n",
      "[[6]]\n",
      "[1] \"Hola mundo! usando environment()\"\n",
      "\n",
      "[[7]]\n",
      "[1] \"Hola mundo! usando environment()\"\n",
      "\n",
      "[[8]]\n",
      "[1] \"Hola mundo! usando environment()\"\n",
      "\n",
      "[[9]]\n",
      "[1] \"Hola mundo! usando environment()\"\n",
      "\n",
      "[[10]]\n",
      "[1] \"Hola mundo! usando environment()\"\n",
      "\n",
      "[[11]]\n",
      "[1] \"Hola mundo! usando environment()\"\n",
      "\n",
      "[[12]]\n",
      "[1] \"Hola mundo! usando environment()\"\n",
      "\n",
      "[[13]]\n",
      "[1] \"Hola mundo! usando environment()\"\n",
      "\n",
      "[[14]]\n",
      "[1] \"Hola mundo! usando environment()\"\n",
      "\n",
      "[[15]]\n",
      "[1] \"Hola mundo! usando environment()\"\n",
      "\n",
      "[[16]]\n",
      "[1] \"Hola mundo! usando environment()\"\n",
      "\n",
      "[[17]]\n",
      "[1] \"Hola mundo! usando environment()\"\n",
      "\n",
      "[[18]]\n",
      "[1] \"Hola mundo! usando environment()\"\n",
      "\n",
      "[[19]]\n",
      "[1] \"Hola mundo! usando environment()\"\n",
      "\n",
      "[[20]]\n",
      "[1] \"Hola mundo! usando environment()\"\n",
      "\n",
      "[[21]]\n",
      "[1] \"Hola mundo! usando environment()\"\n",
      "\n",
      "[[22]]\n",
      "[1] \"Hola mundo! usando environment()\"\n",
      "\n",
      "[[23]]\n",
      "[1] \"Hola mundo! usando environment()\"\n",
      "\n",
      "[[24]]\n",
      "[1] \"Hola mundo! usando environment()\"\n",
      "\n",
      "[[25]]\n",
      "[1] \"Hola mundo! usando environment()\"\n",
      "\n",
      "[[26]]\n",
      "[1] \"Hola mundo! usando environment()\"\n",
      "\n",
      "[[27]]\n",
      "[1] \"Hola mundo! usando environment()\"\n",
      "\n",
      "[[28]]\n",
      "[1] \"Hola mundo! usando environment()\"\n",
      "\n",
      "[[29]]\n",
      "[1] \"Hola mundo! usando environment()\"\n",
      "\n",
      "[[30]]\n",
      "[1] \"Hola mundo! usando environment()\"\n",
      "\n",
      "[[31]]\n",
      "[1] \"Hola mundo! usando environment()\"\n",
      "\n",
      "[[32]]\n",
      "[1] \"Hola mundo! usando environment()\"\n",
      "\n",
      "[[33]]\n",
      "[1] \"Hola mundo! usando environment()\"\n",
      "\n",
      "[[34]]\n",
      "[1] \"Hola mundo! usando environment()\"\n",
      "\n",
      "[[35]]\n",
      "[1] \"Hola mundo! usando environment()\"\n",
      "\n",
      "[[36]]\n",
      "[1] \"Hola mundo! usando environment()\"\n",
      "\n",
      "[[37]]\n",
      "[1] \"Hola mundo! usando environment()\"\n",
      "\n",
      "[[38]]\n",
      "[1] \"Hola mundo! usando environment()\"\n",
      "\n",
      "[[39]]\n",
      "[1] \"Hola mundo! usando environment()\"\n",
      "\n",
      "[[40]]\n",
      "[1] \"Hola mundo! usando environment()\"\n",
      "\n",
      "[[41]]\n",
      "[1] \"Hola mundo! usando environment()\"\n",
      "\n",
      "[[42]]\n",
      "[1] \"Hola mundo! usando environment()\"\n",
      "\n",
      "[[43]]\n",
      "[1] \"Hola mundo! usando environment()\"\n",
      "\n",
      "[[44]]\n",
      "[1] \"Hola mundo! usando environment()\"\n",
      "\n",
      "[[45]]\n",
      "[1] \"Hola mundo! usando environment()\"\n",
      "\n",
      "[[46]]\n",
      "[1] \"Hola mundo! usando environment()\"\n",
      "\n",
      "[[47]]\n",
      "[1] \"Hola mundo! usando environment()\"\n",
      "\n",
      "[[48]]\n",
      "[1] \"Hola mundo! usando environment()\"\n",
      "\n",
      "[[49]]\n",
      "[1] \"Hola mundo! usando environment()\"\n",
      "\n",
      "[[50]]\n",
      "[1] \"Hola mundo! usando environment()\"\n",
      "\n",
      "[[51]]\n",
      "[1] \"Hola mundo! usando environment()\"\n",
      "\n",
      "[[52]]\n",
      "[1] \"Hola mundo! usando environment()\"\n",
      "\n",
      "[[53]]\n",
      "[1] \"Hola mundo! usando environment()\"\n",
      "\n",
      "[[54]]\n",
      "[1] \"Hola mundo! usando environment()\"\n",
      "\n",
      "[[55]]\n",
      "[1] \"Hola mundo! usando environment()\"\n",
      "\n",
      "[[56]]\n",
      "[1] \"Hola mundo! usando environment()\"\n",
      "\n",
      "[[57]]\n",
      "[1] \"Hola mundo! usando environment()\"\n",
      "\n",
      "[[58]]\n",
      "[1] \"Hola mundo! usando environment()\"\n",
      "\n",
      "[[59]]\n",
      "[1] \"Hola mundo! usando environment()\"\n",
      "\n",
      "[[60]]\n",
      "[1] \"Hola mundo! usando environment()\"\n",
      "\n",
      "[[61]]\n",
      "[1] \"Hola mundo! usando environment()\"\n",
      "\n",
      "[[62]]\n",
      "[1] \"Hola mundo! usando environment()\"\n",
      "\n",
      "[[63]]\n",
      "[1] \"Hola mundo! usando environment()\"\n",
      "\n",
      "[[64]]\n",
      "[1] \"Hola mundo! usando environment()\"\n",
      "\n"
     ]
    }
   ],
   "source": [
    "print(myfun4(\"Hola mundo! usando environment()\"))"
   ]
  },
  {
   "cell_type": "markdown",
   "metadata": {},
   "source": [
    "### Ejemplo regla compuesta del rectángulo con `clusterApply`"
   ]
  },
  {
   "cell_type": "code",
   "execution_count": 20,
   "metadata": {},
   "outputs": [],
   "source": [
    "library(microbenchmark)\n",
    "library(tictoc)"
   ]
  },
  {
   "cell_type": "code",
   "execution_count": 21,
   "metadata": {},
   "outputs": [],
   "source": [
    "f <- function(x)exp(-x**2)"
   ]
  },
  {
   "cell_type": "code",
   "execution_count": 22,
   "metadata": {},
   "outputs": [],
   "source": [
    "a <- 0\n",
    "b <- 1\n",
    "n <- 10**7\n",
    "h_hat <- (b-a)/n"
   ]
  },
  {
   "cell_type": "code",
   "execution_count": 23,
   "metadata": {},
   "outputs": [],
   "source": [
    "n_subintervals_per_core <- as.integer(n/p)"
   ]
  },
  {
   "cell_type": "markdown",
   "metadata": {},
   "source": [
    "```{admonition} Comentario\n",
    "\n",
    "`n_subintervals_per_core` es el número de subintervalos por *core*. Se asume que `n` es divisible por `p`. Si no se cumple esto, se puede definir `n_subintervals_per_core <- int(n/p)` habiendo definido `n` primero y redefinir `n` como: `n <- p*n_subintervals_per_core`\n",
    "              \n",
    "```              "
   ]
  },
  {
   "cell_type": "code",
   "execution_count": 24,
   "metadata": {},
   "outputs": [],
   "source": [
    "relative_error <- function(aprox,obj)abs(aprox-obj)/abs(obj)"
   ]
  },
  {
   "cell_type": "code",
   "execution_count": 25,
   "metadata": {},
   "outputs": [
    {
     "data": {
      "text/html": [
       "'número de subintervalos: 10000000'"
      ],
      "text/latex": [
       "'número de subintervalos: 10000000'"
      ],
      "text/markdown": [
       "'número de subintervalos: 10000000'"
      ],
      "text/plain": [
       "[1] \"número de subintervalos: 10000000\""
      ]
     },
     "metadata": {},
     "output_type": "display_data"
    }
   ],
   "source": [
    "sprintf(\"número de subintervalos: %d\",n)"
   ]
  },
  {
   "cell_type": "code",
   "execution_count": 26,
   "metadata": {},
   "outputs": [
    {
     "data": {
      "text/html": [
       "'número de subintervalos por proceso: 156250'"
      ],
      "text/latex": [
       "'número de subintervalos por proceso: 156250'"
      ],
      "text/markdown": [
       "'número de subintervalos por proceso: 156250'"
      ],
      "text/plain": [
       "[1] \"número de subintervalos por proceso: 156250\""
      ]
     },
     "metadata": {},
     "output_type": "display_data"
    }
   ],
   "source": [
    "sprintf(\"número de subintervalos por proceso: %d\",n_subintervals_per_core)"
   ]
  },
  {
   "cell_type": "code",
   "execution_count": 27,
   "metadata": {},
   "outputs": [],
   "source": [
    "Rcf_parallel_cl_apply <- function(my_id){\n",
    "    begin <- my_id*n_subintervals_per_core\n",
    "    end <- begin+n_subintervals_per_core\n",
    "    sum_res <- 0\n",
    "    for(j in begin:(end-1)){\n",
    "        x <- a+(j+1/2)*h_hat\n",
    "        sum_res <- sum_res+f(x)\n",
    "    }\n",
    "    sum_res    \n",
    "}"
   ]
  },
  {
   "cell_type": "code",
   "execution_count": 28,
   "metadata": {},
   "outputs": [],
   "source": [
    "clusterExport(cl,c(\"n_subintervals_per_core\",'a','f',\"h_hat\"))"
   ]
  },
  {
   "cell_type": "markdown",
   "metadata": {},
   "source": [
    "Utilizamos la función `Reduce` y la función `sum` a la lista que resulta de `clusterApply`: "
   ]
  },
  {
   "cell_type": "code",
   "execution_count": 29,
   "metadata": {},
   "outputs": [
    {
     "name": "stdout",
     "output_type": "stream",
     "text": [
      "regla Rcf_parallel_cl_apply: 0.486 sec elapsed\n"
     ]
    }
   ],
   "source": [
    "tic(\"regla Rcf_parallel_cl_apply\")\n",
    "result_cl_apply  <- clusterApply(cl,0:(p-1),Rcf_parallel_cl_apply)\n",
    "res_rcf_cl_apply <- h_hat*Reduce(sum,result_cl_apply)\n",
    "toc()"
   ]
  },
  {
   "cell_type": "code",
   "execution_count": 30,
   "metadata": {},
   "outputs": [],
   "source": [
    "obj <- integrate(Vectorize(f),a,b)"
   ]
  },
  {
   "cell_type": "code",
   "execution_count": 31,
   "metadata": {},
   "outputs": [
    {
     "name": "stdout",
     "output_type": "stream",
     "text": [
      "[1] 1.486592e-15\n"
     ]
    }
   ],
   "source": [
    "print(relative_error(res_rcf_cl_apply,obj$value))"
   ]
  },
  {
   "cell_type": "markdown",
   "metadata": {},
   "source": [
    "La encapsulamos en una función para pasarla a `microbenchmark`:"
   ]
  },
  {
   "cell_type": "code",
   "execution_count": 32,
   "metadata": {},
   "outputs": [],
   "source": [
    "clapply <- function(cl,p){\n",
    "    result_cl_apply <- clusterApply(cl,0:(p-1),Rcf_parallel_cl_apply)\n",
    "    res_rcf_cl_apply <- h_hat*Reduce(sum,result_cl_apply)\n",
    "}"
   ]
  },
  {
   "cell_type": "code",
   "execution_count": 33,
   "metadata": {},
   "outputs": [],
   "source": [
    "mbk<-microbenchmark(\n",
    "    clapply(cl,p),\n",
    "    times=10\n",
    "    )"
   ]
  },
  {
   "cell_type": "code",
   "execution_count": 34,
   "metadata": {},
   "outputs": [
    {
     "name": "stdout",
     "output_type": "stream",
     "text": [
      "Unit: milliseconds\n",
      "           expr      min       lq     mean   median       uq      max neval\n",
      " clapply(cl, p) 282.2854 294.0989 331.1254 320.7476 366.9505 391.4424    10\n"
     ]
    }
   ],
   "source": [
    "print(mbk)"
   ]
  },
  {
   "cell_type": "markdown",
   "metadata": {},
   "source": [
    "### Ejemplo regla compuesta del rectángulo con `clusterSplit`"
   ]
  },
  {
   "cell_type": "markdown",
   "metadata": {},
   "source": [
    "La función `clusterSplit` divide una secuencia en *chunks* de subsecuencias consecutivas. El número de *chunks* que regresa es igual al número de *workers*. `clusterSplit` intenta que los *chunks* sean similares en longitud y la división se realiza en *manager*."
   ]
  },
  {
   "cell_type": "markdown",
   "metadata": {},
   "source": [
    "En la siguiente implementación se recibe un `chunk` de nodos:"
   ]
  },
  {
   "cell_type": "code",
   "execution_count": 35,
   "metadata": {},
   "outputs": [],
   "source": [
    "Rcf_parallel_cl_split<-function(chunk){\n",
    "    sum_res <- 0\n",
    "    for(x in chunk){\n",
    "        sum_res <- sum_res+f(x)\n",
    "    }\n",
    "    sum_res    \n",
    "}"
   ]
  },
  {
   "cell_type": "code",
   "execution_count": 36,
   "metadata": {},
   "outputs": [
    {
     "name": "stdout",
     "output_type": "stream",
     "text": [
      "9.863 sec elapsed\n"
     ]
    }
   ],
   "source": [
    "tic()\n",
    "#chunks for nodes using clusterSplit:\n",
    "chunks <- clusterSplit(cl,vapply(0:(n-1),function(j)a+(j+1/2.0)*h_hat,numeric(1)))\n",
    "#call clusterApply\n",
    "result_cl_apply <- clusterApply(cl,chunks,Rcf_parallel_cl_split)\n",
    "res_rcf_cl_split <- h_hat*Reduce(sum,result_cl_apply)\n",
    "toc()"
   ]
  },
  {
   "cell_type": "code",
   "execution_count": 37,
   "metadata": {},
   "outputs": [
    {
     "name": "stdout",
     "output_type": "stream",
     "text": [
      "[1] 2.824525e-15\n"
     ]
    }
   ],
   "source": [
    "print(relative_error(res_rcf_cl_split,obj$value))"
   ]
  },
  {
   "cell_type": "markdown",
   "metadata": {},
   "source": [
    "En la siguiente implementación, se divide en chunks la secuencia: `0,1,...,n-1`:"
   ]
  },
  {
   "cell_type": "code",
   "execution_count": 38,
   "metadata": {},
   "outputs": [],
   "source": [
    "Rcf_parallel_cl_split_2 <- function(chunk){\n",
    "    n_s_c <- length(chunk)\n",
    "    begin <- chunk[1]\n",
    "    end <- begin+n_s_c\n",
    "    sum_res <- 0\n",
    "    for(j in begin:(end-1)){\n",
    "        x <- a+(j+1/2)*h_hat\n",
    "        sum_res <- sum_res+f(x)\n",
    "    }\n",
    "    sum_res    \n",
    "}"
   ]
  },
  {
   "cell_type": "code",
   "execution_count": 39,
   "metadata": {},
   "outputs": [
    {
     "name": "stdout",
     "output_type": "stream",
     "text": [
      "1.503 sec elapsed\n"
     ]
    }
   ],
   "source": [
    "tic()\n",
    "#se crean los chunks de la secuencia: 0,1,...,n-1\n",
    "chunks <- clusterSplit(cl,0:(n-1)) \n",
    "result_cl_apply <- clusterApply(cl,chunks,Rcf_parallel_cl_split_2)\n",
    "res_rcf_cl_split_2 <- h_hat*Reduce(sum,result_cl_apply)\n",
    "toc()"
   ]
  },
  {
   "cell_type": "code",
   "execution_count": 40,
   "metadata": {},
   "outputs": [
    {
     "name": "stdout",
     "output_type": "stream",
     "text": [
      "[1] 2.824525e-15\n"
     ]
    }
   ],
   "source": [
    "print(relative_error(res_rcf_cl_split_2,obj$value))"
   ]
  },
  {
   "cell_type": "markdown",
   "metadata": {},
   "source": [
    "Medimos tiempos con `microbenchmark`:"
   ]
  },
  {
   "cell_type": "code",
   "execution_count": 41,
   "metadata": {},
   "outputs": [],
   "source": [
    "clapply2 <- function(cl){\n",
    "    chunks <- clusterSplit(cl,vapply(0:(n-1),function(j)a+(j+1/2.0)*h_hat,numeric(1))) \n",
    "    result_cl_apply <- clusterApply(cl,chunks,Rcf_parallel_cl_split)\n",
    "    res_rcf_cl_split <- h_hat*Reduce(sum,result_cl_apply)\n",
    "}"
   ]
  },
  {
   "cell_type": "code",
   "execution_count": 42,
   "metadata": {},
   "outputs": [],
   "source": [
    "clapply3 <- function(cl){\n",
    "    chunks <- clusterSplit(cl,0:(n-1))\n",
    "    result_cl_apply <- clusterApply(cl,chunks,Rcf_parallel_cl_split_2)\n",
    "    res_rcf_cl_split_2 <- h_hat*Reduce(sum,result_cl_apply)\n",
    "}"
   ]
  },
  {
   "cell_type": "code",
   "execution_count": 43,
   "metadata": {},
   "outputs": [],
   "source": [
    "mbk<-microbenchmark(\n",
    "    clapply(cl,p),\n",
    "    clapply2(cl),\n",
    "    clapply3(cl),\n",
    "    times=10\n",
    "    )"
   ]
  },
  {
   "cell_type": "code",
   "execution_count": 44,
   "metadata": {},
   "outputs": [
    {
     "name": "stdout",
     "output_type": "stream",
     "text": [
      "Unit: milliseconds\n",
      "           expr       min        lq       mean    median        uq        max\n",
      " clapply(cl, p)  282.5475  301.9182   326.9583  324.3684  349.6471   386.5812\n",
      "   clapply2(cl) 9713.7559 9740.8750 10009.1017 9768.9175 9827.4589 12087.8340\n",
      "   clapply3(cl) 1314.6546 1418.4029  1463.8187 1453.6434 1484.1776  1663.9475\n",
      " neval\n",
      "    10\n",
      "    10\n",
      "    10\n"
     ]
    }
   ],
   "source": [
    "print(mbk)"
   ]
  },
  {
   "cell_type": "markdown",
   "metadata": {},
   "source": [
    "### Gráfica de tiempo de ejecución vs número de procesos"
   ]
  },
  {
   "cell_type": "code",
   "execution_count": 45,
   "metadata": {},
   "outputs": [],
   "source": [
    "library(ggplot2)"
   ]
  },
  {
   "cell_type": "markdown",
   "metadata": {},
   "source": [
    "Una buena práctica es detener el clúster: *It is good practice to shut down the workers by calling stopCluster: however the workers will terminate themselves once the socket on which they are listening for commands becomes unavailable, which it should if the master R session is completed (or its process dies).*"
   ]
  },
  {
   "cell_type": "code",
   "execution_count": 46,
   "metadata": {},
   "outputs": [],
   "source": [
    "stopCluster(cl)"
   ]
  },
  {
   "cell_type": "markdown",
   "metadata": {},
   "source": [
    "En lo siguiente se utiliza `Rcf_parallel_cl_apply` pues tuvo el menor tiempo de ejecución. Usaremos ésta implementación para realizar la gráfica variando el número de procesos de $1$ hasta `detectCores()`."
   ]
  },
  {
   "cell_type": "code",
   "execution_count": 47,
   "metadata": {},
   "outputs": [],
   "source": [
    "myfun <- function(cl,p){\n",
    "    result_apply <- clusterApply(cl,0:(p-1),Rcf_parallel_cl_apply)\n",
    "    res_rcf_cl_apply <- h_hat*Reduce(sum,result_apply)\n",
    "}"
   ]
  },
  {
   "cell_type": "code",
   "execution_count": 48,
   "metadata": {},
   "outputs": [],
   "source": [
    "dim <- sum(n%%(1:detectCores())==0)"
   ]
  },
  {
   "cell_type": "code",
   "execution_count": 49,
   "metadata": {},
   "outputs": [],
   "source": [
    "err_vec <- vector(\"double\", dim)\n",
    "n_cpus <- vector(\"integer\",dim)"
   ]
  },
  {
   "cell_type": "code",
   "execution_count": 50,
   "metadata": {},
   "outputs": [],
   "source": [
    "i<-1\n",
    "for(p in 1:detectCores()){\n",
    "    if(n%%p==0){\n",
    "        n_subintervals_per_core <- n/p\n",
    "        cl <- makeCluster(p)\n",
    "        clusterExport(cl,c('a','f',\"h_hat\",\"n_subintervals_per_core\"))\n",
    "        res_my_fun <- myfun(cl,p)\n",
    "        err_vec[i] <- relative_error(res_my_fun, obj$value)\n",
    "        n_cpus[i] <- p\n",
    "        stopCluster(cl)\n",
    "        i <- i+1\n",
    "    }\n",
    "}"
   ]
  },
  {
   "cell_type": "code",
   "execution_count": 51,
   "metadata": {},
   "outputs": [
    {
     "name": "stdout",
     "output_type": "stream",
     "text": [
      " [1] 4.994950e-14 1.441995e-14 2.423145e-14 5.886906e-14 1.382531e-14\n",
      " [6] 1.769045e-14 3.716481e-15 3.865140e-15 2.527207e-15 2.973185e-15\n",
      "[11] 2.229888e-15 2.675866e-15 1.486592e-15\n"
     ]
    }
   ],
   "source": [
    "print(err_vec)"
   ]
  },
  {
   "cell_type": "code",
   "execution_count": 52,
   "metadata": {},
   "outputs": [
    {
     "name": "stdout",
     "output_type": "stream",
     "text": [
      " [1]  1  2  4  5  8 10 16 20 25 32 40 50 64\n"
     ]
    }
   ],
   "source": [
    "print(n_cpus)"
   ]
  },
  {
   "cell_type": "code",
   "execution_count": 53,
   "metadata": {},
   "outputs": [],
   "source": [
    "vector_with_time_medians <- vector(\"double\", dim)\n",
    "n_cpus <- vector(\"integer\",dim)"
   ]
  },
  {
   "cell_type": "code",
   "execution_count": 54,
   "metadata": {},
   "outputs": [
    {
     "name": "stdout",
     "output_type": "stream",
     "text": [
      "Unit: seconds\n",
      "         expr      min       lq     mean   median       uq     max neval\n",
      " myfun(cl, p) 6.885785 6.949701 6.972848 6.972741 6.987999 7.11727    10\n",
      "Unit: seconds\n",
      "         expr      min      lq     mean   median       uq     max neval\n",
      " myfun(cl, p) 3.485004 3.54019 3.556926 3.549887 3.572823 3.64395    10\n",
      "Unit: seconds\n",
      "         expr      min       lq     mean   median       uq      max neval\n",
      " myfun(cl, p) 1.802994 1.834547 1.861991 1.858283 1.878641 1.956212    10\n",
      "Unit: seconds\n",
      "         expr      min       lq     mean   median      uq      max neval\n",
      " myfun(cl, p) 1.493131 1.503729 1.538402 1.528729 1.53501 1.689268    10\n",
      "Unit: seconds\n",
      "         expr      min        lq     mean   median       uq      max neval\n",
      " myfun(cl, p) 0.970138 0.9720898 1.012322 1.004466 1.029394 1.123407    10\n",
      "Unit: seconds\n",
      "         expr       min        lq      mean    median        uq       max neval\n",
      " myfun(cl, p) 0.7711746 0.7873437 0.8095716 0.7978992 0.8230879 0.8970701    10\n",
      "Unit: seconds\n",
      "         expr       min        lq      mean    median        uq      max neval\n",
      " myfun(cl, p) 0.4962673 0.5036197 0.5300815 0.5096297 0.5481148 0.627288    10\n",
      "Unit: seconds\n",
      "         expr       min        lq     mean    median        uq       max neval\n",
      " myfun(cl, p) 0.4633639 0.6373157 0.635349 0.6483108 0.6714133 0.7252939    10\n",
      "Unit: seconds\n",
      "         expr       min        lq      mean   median       uq       max neval\n",
      " myfun(cl, p) 0.5426797 0.5723195 0.5958153 0.592332 0.618798 0.6666108    10\n",
      "Unit: seconds\n",
      "         expr       min        lq      mean    median        uq       max neval\n",
      " myfun(cl, p) 0.5018672 0.5053355 0.5267072 0.5101885 0.5515122 0.5992704    10\n",
      "Unit: seconds\n",
      "         expr      min        lq    mean    median        uq      max neval\n",
      " myfun(cl, p) 0.417142 0.4220799 0.46573 0.4546078 0.4753944 0.621748    10\n",
      "Unit: seconds\n",
      "         expr       min        lq      mean    median        uq       max neval\n",
      " myfun(cl, p) 0.3275613 0.3395606 0.3836092 0.3570808 0.4018851 0.6000807    10\n",
      "Unit: seconds\n",
      "         expr       min       lq      mean    median        uq       max neval\n",
      " myfun(cl, p) 0.2761953 0.325356 0.3541478 0.3376805 0.3714806 0.5094518    10\n"
     ]
    }
   ],
   "source": [
    "i<-1\n",
    "for(p in 1:detectCores()){\n",
    "    if(n%%p==0){\n",
    "        n_subintervals_per_core <- n/p\n",
    "        cl <- makeCluster(p)\n",
    "        clusterExport(cl,c('a','f',\"h_hat\",\"n_subintervals_per_core\"))\n",
    "        df <- print(microbenchmark(myfun(cl,p),times=10,unit=\"s\"))\n",
    "        stopCluster(cl)\n",
    "        vector_with_time_medians[i] <- df$median\n",
    "        n_cpus[i] <- p\n",
    "        i <- i+1\n",
    "    }\n",
    "}"
   ]
  },
  {
   "cell_type": "code",
   "execution_count": 55,
   "metadata": {},
   "outputs": [
    {
     "name": "stdout",
     "output_type": "stream",
     "text": [
      " [1] 6.9727412 3.5498873 1.8582827 1.5287290 1.0044656 0.7978992 0.5096297\n",
      " [8] 0.6483108 0.5923320 0.5101885 0.4546078 0.3570808 0.3376805\n"
     ]
    }
   ],
   "source": [
    "print(vector_with_time_medians)"
   ]
  },
  {
   "cell_type": "code",
   "execution_count": 56,
   "metadata": {},
   "outputs": [
    {
     "name": "stdout",
     "output_type": "stream",
     "text": [
      " [1]  1  2  4  5  8 10 16 20 25 32 40 50 64\n"
     ]
    }
   ],
   "source": [
    "print(n_cpus)"
   ]
  },
  {
   "cell_type": "code",
   "execution_count": 57,
   "metadata": {},
   "outputs": [],
   "source": [
    "gg<-ggplot()"
   ]
  },
  {
   "cell_type": "code",
   "execution_count": 58,
   "metadata": {},
   "outputs": [
    {
     "data": {
      "image/png": "[encoded data removed]",
      "text/plain": [
       "plot without title"
      ]
     },
     "metadata": {
      "image/png": {
       "height": 420,
       "width": 420
      }
     },
     "output_type": "display_data"
    }
   ],
   "source": [
    "gg+\n",
    "geom_line(aes(x=n_cpus,y=vector_with_time_medians))"
   ]
  },
  {
   "cell_type": "markdown",
   "metadata": {},
   "source": [
    "```{admonition} Ejercicio\n",
    ":class: tip\n",
    "\n",
    "Implementar la regla de Simpson con *Parallel* en una máquina de AWS con las mismas características que la que se presenta en esta nota, medir tiempo de ejecución y realizar gráfica de tiempo vs num cpus.\n",
    "\n",
    "```"
   ]
  },
  {
   "cell_type": "markdown",
   "metadata": {},
   "source": [
    "## Referencias de interés"
   ]
  },
  {
   "cell_type": "markdown",
   "metadata": {},
   "source": [
    "* [Use cases with dask](https://stories.dask.org/en/latest/)\n",
    "\n",
    "* [dask-tutorial](https://github.com/dask/dask-tutorial)\n",
    "\n",
    "* [matthew-rocklin-blog](http://matthewrocklin.com/blog/), ver [Towards-OutOfCore-ND-Arrays-Slicing-and-Stacking](http://matthewrocklin.com/blog/work/2015/02/13/Towards-OOC-Slicing-and-Stacking)\n",
    "\n",
    "En *dask* se hace referencia al uso de funciones *pure*. Ver: [Pure Functions by Default](https://distributed.dask.org/en/latest/client.html#pure-functions-by-default) y [Function Purity](https://toolz.readthedocs.io/en/latest/purity.html) para ejemplos de funciones *pure*.\n",
    "\n",
    "En [Dask JupyterLab Extension](https://www.youtube.com/watch?v=EX_voquHdk0) se muestra cómo instalar la extensión en jupyterlab para *Dask*.\n",
    "\n",
    "* [snow Simplified](http://www.sfu.ca/~sblay/R/snow.html)\n",
    "\n",
    "* [Using foreach and iterators for manual parallel execution](https://docs.microsoft.com/en-us/machine-learning-server/r/how-to-revoscaler-distributed-computing-foreach)\n",
    "\n",
    "Paquete de *R*: [future](https://www.rdocumentation.org/packages/future/versions/1.21.0)"
   ]
  },
  {
   "cell_type": "markdown",
   "metadata": {},
   "source": [
    "```{admonition} Ejercicios\n",
    ":class: tip\n",
    "\n",
    "1.Resuelve los ejercicios y preguntas de la nota.\n",
    "```\n"
   ]
  },
  {
   "cell_type": "markdown",
   "metadata": {},
   "source": [
    "**Preguntas de comprehensión:**\n",
    "\n",
    "1)Menciona diferencias que surgen en un programa que se ejecuta en un sistema de memoria compartida contra los que se ejecutan en un sistema de memoria distribuida.\n",
    "\n",
    "2)¿A qué se le llama no determinismo y da un ejemplo en el que esto surge en un sistema de memoria compartida?\n",
    "\n",
    "3)¿Qué es una *critical section*? ¿qué es una *race condition*? ¿cómo se puede lidiar con las *critical sections*?\n",
    "\n",
    "4)¿Cuál es la terminología para nombrar a las variables que pueden ser accesadas por todos los *threads* y para las variables que sólo pueden ser accesadas por un *thread*?"
   ]
  },
  {
   "cell_type": "markdown",
   "metadata": {},
   "source": [
    "**Referencias:**\n",
    "\n",
    "1. P. Pacheco, An Introduction to Parallel Programming, Morgan Kaufmann, 2011.\n",
    "\n",
    "2. M. Gorelick, I. Ozsvald, High Performance Python, O'Reilly Media, 2014.\n",
    "\n",
    "3. N. Matloff, Parallel Computing for Data Science. With Examples in R, C++ and CUDA, 2014.\n",
    "\n",
    "4. B. W. Kernighan, D. M. Ritchie, The C Programming Language, Prentice Hall Software Series, 1988\n",
    "\n",
    "5. [C/extensiones_a_C/openMP](https://github.com/palmoreck/programming-languages/tree/master/C/extensiones_a_C/openMP)\n"
   ]
  }
 ],
 "metadata": {
  "kernelspec": {
   "display_name": "R",
   "language": "R",
   "name": "ir"
  },
  "language_info": {
   "codemirror_mode": "r",
   "file_extension": ".r",
   "mimetype": "text/x-r-source",
   "name": "R",
   "pygments_lexer": "r",
   "version": "4.0.3"
  }
 },
 "nbformat": 4,
 "nbformat_minor": 4
}
