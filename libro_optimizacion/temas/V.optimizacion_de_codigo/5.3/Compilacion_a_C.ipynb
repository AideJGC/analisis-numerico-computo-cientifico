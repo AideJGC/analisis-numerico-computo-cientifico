{
 "cells": [
  {
   "cell_type": "markdown",
   "metadata": {},
   "source": [
    "(COMPC)="
   ]
  },
  {
   "cell_type": "markdown",
   "metadata": {},
   "source": [
    "# 5.3 Compilación a C"
   ]
  },
  {
   "cell_type": "markdown",
   "metadata": {},
   "source": [
    "```{admonition} Notas para contenedor de docker:\n",
    "\n",
    "Comando de docker para ejecución de la nota de forma local:\n",
    "\n",
    "nota: cambiar `<ruta a mi directorio>` por la ruta de directorio que se desea mapear a `/datos` dentro del contenedor de docker.\n",
    "\n",
    "`docker run --rm -v <ruta a mi directorio>:/datos --name jupyterlab_optimizacion_2 -p 8888:8888 -p 8787:8787 -d palmoreck/jupyterlab_optimizacion_2:3.0.0`\n",
    "\n",
    "password para jupyterlab: `qwerty`\n",
    "\n",
    "Detener el contenedor de docker:\n",
    "\n",
    "`docker stop jupyterlab_optimizacion_2`\n",
    "\n",
    "Documentación de la imagen de docker `palmoreck/jupyterlab_optimizacion_2:3.0.0` en [liga](https://github.com/palmoreck/dockerfiles/tree/master/jupyterlab/optimizacion_2).\n",
    "\n",
    "```"
   ]
  },
  {
   "cell_type": "markdown",
   "metadata": {},
   "source": [
    "---"
   ]
  },
  {
   "cell_type": "markdown",
   "metadata": {},
   "source": [
    "```{admonition} Al final de esta nota el y la lectora:\n",
    ":class: tip\n",
    "\n",
    "* \n",
    "\n",
    "```"
   ]
  },
  {
   "cell_type": "markdown",
   "metadata": {},
   "source": [
    "Se presentan códigos y sus ejecuciones en una máquina `m4.16xlarge` de la nube de [AWS](https://aws.amazon.com/). Se utilizó la AMI `opt2-aws-educate-openblas-04-04-2021` de la región `us-east-1` (Virginia) para reproducibilidad de resultados. Tal AMI se construyó a partir de una AMI `ubuntu 20.04 - ami-042e8287309f5df03` con el [script_profiling_and_BLAS.sh](https://github.com/palmoreck/scripts_for_useful_tools_installations/blob/main/AWS/ubuntu_20.04/optimizacion_2/script_profiling_and_BLAS.sh)"
   ]
  },
  {
   "cell_type": "markdown",
   "metadata": {},
   "source": [
    "````{admonition} Comentario\n",
    "\n",
    "Si se utiliza la *AMI* `opt2-aws-educate-openblas-04-04-2021` colocar en `User data` el siguiente *script*:\n",
    "\n",
    "```bash\n",
    "\n",
    "#!/bin/bash\n",
    "##variables:\n",
    "region=us-east-1 #make sure instance is in Virginia\n",
    "name_instance=OpenBLAS\n",
    "USER=ubuntu\n",
    "##System update\n",
    "apt-get update -yq\n",
    "##Tag instance\n",
    "INSTANCE_ID=$(curl -s http://instance-data/latest/meta-data/instance-id)\n",
    "PUBLIC_IP=$(curl -s http://instance-data/latest/meta-data/public-ipv4)\n",
    "sudo -H -u $USER bash -c \"/home/$USER/.local/bin/aws ec2 create-tags --resources $INSTANCE_ID --tag Key=Name,Value=$name_instance-$PUBLIC_IP --region=$region\"\n",
    "sudo -H -u $USER bash -c \"cd / && /home/$USER/.local/bin/jupyter lab --ip=0.0.0.0 --no-browser --config=/home/$USER/.jupyter/jupyter_notebook_config.py &\"\n",
    "\n",
    "```\n",
    "\n",
    "````"
   ]
  },
  {
   "cell_type": "markdown",
   "metadata": {},
   "source": [
    "La máquina `m4.16xlarge` tiene las siguientes características:"
   ]
  },
  {
   "cell_type": "code",
   "execution_count": 1,
   "metadata": {
    "tags": [
     "output_scroll"
    ]
   },
   "outputs": [
    {
     "name": "stdout",
     "output_type": "stream",
     "text": [
      "Architecture:                    x86_64\n",
      "CPU op-mode(s):                  32-bit, 64-bit\n",
      "Byte Order:                      Little Endian\n",
      "Address sizes:                   46 bits physical, 48 bits virtual\n",
      "CPU(s):                          64\n",
      "On-line CPU(s) list:             0-63\n",
      "Thread(s) per core:              2\n",
      "Core(s) per socket:              16\n",
      "Socket(s):                       2\n",
      "NUMA node(s):                    2\n",
      "Vendor ID:                       GenuineIntel\n",
      "CPU family:                      6\n",
      "Model:                           79\n",
      "Model name:                      Intel(R) Xeon(R) CPU E5-2686 v4 @ 2.30GHz\n",
      "Stepping:                        1\n",
      "CPU MHz:                         2290.913\n",
      "CPU max MHz:                     3000.0000\n",
      "CPU min MHz:                     1200.0000\n",
      "BogoMIPS:                        4600.03\n",
      "Hypervisor vendor:               Xen\n",
      "Virtualization type:             full\n",
      "L1d cache:                       1 MiB\n",
      "L1i cache:                       1 MiB\n",
      "L2 cache:                        8 MiB\n",
      "L3 cache:                        90 MiB\n",
      "NUMA node0 CPU(s):               0-15,32-47\n",
      "NUMA node1 CPU(s):               16-31,48-63\n",
      "Vulnerability Itlb multihit:     KVM: Vulnerable\n",
      "Vulnerability L1tf:              Mitigation; PTE Inversion\n",
      "Vulnerability Mds:               Vulnerable: Clear CPU buffers attempted, no microcode; SMT Host state unknown\n",
      "Vulnerability Meltdown:          Mitigation; PTI\n",
      "Vulnerability Spec store bypass: Vulnerable\n",
      "Vulnerability Spectre v1:        Mitigation; usercopy/swapgs barriers and __user pointer sanitization\n",
      "Vulnerability Spectre v2:        Mitigation; Full generic retpoline, STIBP disabled, RSB filling\n",
      "Vulnerability Srbds:             Not affected\n",
      "Vulnerability Tsx async abort:   Vulnerable: Clear CPU buffers attempted, no microcode; SMT Host state unknown\n",
      "Flags:                           fpu vme de pse tsc msr pae mce cx8 apic sep mtrr pge mca cmov pat pse36 clflush mmx fxsr sse sse2 ht syscall nx pdpe1gb rdtscp lm constant_tsc arch_perfmon rep_good nopl xtopology nonstop_tsc cpuid aperfmperf pni pclmulqdq monitor est ssse3 fma cx16 pcid sse4_1 sse4_2 x2apic movbe popcnt tsc_deadline_timer aes xsave avx f16c rdrand hypervisor lahf_lm abm cpuid_fault invpcid_single pti fsgsbase bmi1 hle avx2 smep bmi2 erms invpcid rtm xsaveopt ida\n"
     ]
    }
   ],
   "source": [
    "%%bash\n",
    "lscpu"
   ]
  },
  {
   "cell_type": "code",
   "execution_count": 2,
   "metadata": {
    "tags": [
     "output_scroll"
    ]
   },
   "outputs": [
    {
     "name": "stdout",
     "output_type": "stream",
     "text": [
      "  *-firmware\n",
      "       description: BIOS\n",
      "       vendor: Xen\n",
      "       physical id: 0\n",
      "       version: 4.11.amazon\n",
      "       date: 08/24/2006\n",
      "       size: 96KiB\n",
      "       capabilities: pci edd\n",
      "  *-memory\n",
      "       description: System Memory\n",
      "       physical id: 1000\n",
      "       size: 256GiB\n",
      "       capabilities: ecc\n",
      "       configuration: errordetection=multi-bit-ecc\n",
      "     *-bank:0\n",
      "          description: DIMM RAM\n",
      "          physical id: 0\n",
      "          slot: DIMM 0\n",
      "          size: 16GiB\n",
      "          width: 64 bits\n",
      "     *-bank:1\n",
      "          description: DIMM RAM\n",
      "          physical id: 1\n",
      "          slot: DIMM 1\n",
      "          size: 16GiB\n",
      "          width: 64 bits\n",
      "     *-bank:2\n",
      "          description: DIMM RAM\n",
      "          physical id: 2\n",
      "          slot: DIMM 2\n",
      "          size: 16GiB\n",
      "          width: 64 bits\n",
      "     *-bank:3\n",
      "          description: DIMM RAM\n",
      "          physical id: 3\n",
      "          slot: DIMM 3\n",
      "          size: 16GiB\n",
      "          width: 64 bits\n",
      "     *-bank:4\n",
      "          description: DIMM RAM\n",
      "          physical id: 4\n",
      "          slot: DIMM 4\n",
      "          size: 16GiB\n",
      "          width: 64 bits\n",
      "     *-bank:5\n",
      "          description: DIMM RAM\n",
      "          physical id: 5\n",
      "          slot: DIMM 5\n",
      "          size: 16GiB\n",
      "          width: 64 bits\n",
      "     *-bank:6\n",
      "          description: DIMM RAM\n",
      "          physical id: 6\n",
      "          slot: DIMM 6\n",
      "          size: 16GiB\n",
      "          width: 64 bits\n",
      "     *-bank:7\n",
      "          description: DIMM RAM\n",
      "          physical id: 7\n",
      "          slot: DIMM 7\n",
      "          size: 16GiB\n",
      "          width: 64 bits\n",
      "     *-bank:8\n",
      "          description: DIMM RAM\n",
      "          physical id: 8\n",
      "          slot: DIMM 8\n",
      "          size: 16GiB\n",
      "          width: 64 bits\n",
      "     *-bank:9\n",
      "          description: DIMM RAM\n",
      "          physical id: 9\n",
      "          slot: DIMM 9\n",
      "          size: 16GiB\n",
      "          width: 64 bits\n",
      "     *-bank:10\n",
      "          description: DIMM RAM\n",
      "          physical id: a\n",
      "          slot: DIMM 10\n",
      "          size: 16GiB\n",
      "          width: 64 bits\n",
      "     *-bank:11\n",
      "          description: DIMM RAM\n",
      "          physical id: b\n",
      "          slot: DIMM 11\n",
      "          size: 16GiB\n",
      "          width: 64 bits\n",
      "     *-bank:12\n",
      "          description: DIMM RAM\n",
      "          physical id: c\n",
      "          slot: DIMM 12\n",
      "          size: 16GiB\n",
      "          width: 64 bits\n",
      "     *-bank:13\n",
      "          description: DIMM RAM\n",
      "          physical id: d\n",
      "          slot: DIMM 13\n",
      "          size: 16GiB\n",
      "          width: 64 bits\n",
      "     *-bank:14\n",
      "          description: DIMM RAM\n",
      "          physical id: e\n",
      "          slot: DIMM 14\n",
      "          size: 16GiB\n",
      "          width: 64 bits\n",
      "     *-bank:15\n",
      "          description: DIMM RAM\n",
      "          physical id: f\n",
      "          slot: DIMM 15\n",
      "          size: 16GiB\n",
      "          width: 64 bits\n"
     ]
    }
   ],
   "source": [
    "%%bash\n",
    "sudo lshw -C memory"
   ]
  },
  {
   "cell_type": "code",
   "execution_count": 3,
   "metadata": {},
   "outputs": [
    {
     "name": "stdout",
     "output_type": "stream",
     "text": [
      "Linux ip-10-0-0-140 5.4.0-1038-aws #40-Ubuntu SMP Fri Feb 5 23:50:40 UTC 2021 x86_64 x86_64 x86_64 GNU/Linux\n"
     ]
    }
   ],
   "source": [
    "%%bash\n",
    "uname -ar #r for kernel, a for all"
   ]
  },
  {
   "cell_type": "markdown",
   "metadata": {},
   "source": [
    "```{admonition} Observación\n",
    ":class: tip\n",
    "\n",
    "En la celda anterior se utilizó el comando de *magic* `%%bash`. Algunos comandos de *magic* los podemos utilizar también con *import*'s. Ver [ipython-magics](https://ipython.readthedocs.io/en/stable/interactive/magics.html#)\n",
    "\n",
    "```"
   ]
  },
  {
   "cell_type": "markdown",
   "metadata": {},
   "source": [
    "## Características de los lenguajes de programación"
   ]
  },
  {
   "cell_type": "markdown",
   "metadata": {},
   "source": [
    "Los lenguajes de programación y sus implementaciones pueden tener características como las siguientes:\n",
    "\n",
    "* Realizar un *parsing* de las instrucciones y ejecutar las acciones de forma casi inmediata (intérprete). Como ejemplo está [Beginners' All-purpose Symbolic Instruction Code: BASIC](https://en.wikipedia.org/wiki/BASIC)\n",
    "\n",
    "* Realizar un *parsing* de las instrucciones, traducir a una [representación intermedia](https://en.wikipedia.org/wiki/Intermediate_representation) y ejecutar las acciones. Como ejemplo se encuentra *Python* en su implementación *CPython*. La interpretación de código intermedia es un [bytecode](https://en.wikipedia.org/wiki/Bytecode).\n",
    "\n",
    "* Compilar [ahead of time](https://en.wikipedia.org/wiki/Ahead-of-time_compilation) las instrucciones antes de su ejecución. Como ejemplo se encuentran *C, C++* y *Fortran*.\n",
    "\n",
    "* Realizar un *parsing* de las instrucciones y compilar las instrucciones en una forma [just in time compilation](https://en.wikipedia.org/wiki/Just-in-time_compilation) y *at* [runtime](https://en.wikipedia.org/wiki/Runtime_(program_lifecycle_phase)). Como ejemplos se encuentran *Julia* y *Python* en su implementación con [PyPy](https://en.wikipedia.org/wiki/PyPy).\n",
    "\n",
    "La ejecución de instrucciones en los lenguajes de programación será más rápida dependiendo del lenguaje, la implementación que se utilice del mismo y de sus *features*."
   ]
  },
  {
   "cell_type": "markdown",
   "metadata": {},
   "source": [
    "## Python"
   ]
  },
  {
   "cell_type": "code",
   "execution_count": 1,
   "metadata": {},
   "outputs": [
    {
     "name": "stdout",
     "output_type": "stream",
     "text": [
      "Writing Rcf_python.py\n"
     ]
    }
   ],
   "source": [
    "%%file Rcf_python.py\n",
    "import math\n",
    "import time\n",
    "def Rcf(f,a,b,n): #Rcf: rectángulo compuesto para f\n",
    "    \"\"\"\n",
    "    Compute numerical approximation using rectangle or mid-point\n",
    "    method in an interval.\n",
    "    Nodes are generated via formula: x_i = a+(i+1/2)h_hat for\n",
    "    i=0,1,...,n-1 and h_hat=(b-a)/n\n",
    "    Args:\n",
    "    \n",
    "        f (float): function expression of integrand.\n",
    "        \n",
    "        a (float): left point of interval.\n",
    "        \n",
    "        b (float): right point of interval.\n",
    "        \n",
    "        n (float): number of subintervals.\n",
    "        \n",
    "    Returns:\n",
    "    \n",
    "        sum_res (float): numerical approximation to integral\n",
    "            of f in the interval a,b\n",
    "    \"\"\"\n",
    "    h_hat = (b-a)/n\n",
    "    sum_res = 0\n",
    "    for i in range(n):\n",
    "        x = a + (i + 1/2)*h_hat\n",
    "        sum_res += f(x)\n",
    "    return h_hat*sum_res\n",
    "\n",
    "if __name__ == \"__main__\":   \n",
    "    n = 10**7\n",
    "    f = lambda x: math.exp(-x**2)\n",
    "    a = 0\n",
    "    b = 1\n",
    "    start_time = time.time()\n",
    "    res = Rcf(f,a,b,n)\n",
    "    end_time = time.time()\n",
    "    secs = end_time-start_time\n",
    "    print(\"Rcf tomó\", secs, \"segundos\" )"
   ]
  },
  {
   "cell_type": "code",
   "execution_count": 2,
   "metadata": {},
   "outputs": [
    {
     "name": "stdout",
     "output_type": "stream",
     "text": [
      "Rcf tomó 3.4265081882476807 segundos\n"
     ]
    }
   ],
   "source": [
    "%%bash\n",
    "python3 Rcf_python.py"
   ]
  },
  {
   "cell_type": "markdown",
   "metadata": {},
   "source": [
    "## R"
   ]
  },
  {
   "cell_type": "code",
   "execution_count": 6,
   "metadata": {},
   "outputs": [
    {
     "name": "stdout",
     "output_type": "stream",
     "text": [
      "Writing Rcf_R.R\n"
     ]
    }
   ],
   "source": [
    "%%file Rcf_R.R\n",
    "library(tictoc)\n",
    "Rcf<-function(f,a,b,n){\n",
    "    '\n",
    "    Compute numerical approximation using rectangle or mid-point\n",
    "    method in an interval.\n",
    "    \n",
    "    Nodes are generated via formula: x_i = a+(i+1/2)h_hat for\n",
    "    i=0,1,...,n-1 and h_hat=(b-a)/n\n",
    "    Args:\n",
    "    \n",
    "        f (float): function expression of integrand.\n",
    "        \n",
    "        a (float): left point of interval.\n",
    "        \n",
    "        b (float): right point of interval.\n",
    "        \n",
    "        n (float): number of subintervals.\n",
    "        \n",
    "    Returns:\n",
    "    \n",
    "        sum_res (float): numerical approximation to integral\n",
    "            of f in the interval a,b\n",
    "    '\n",
    "    \n",
    "    h_hat <- (b-a)/n\n",
    "    sum_res <- 0\n",
    "    for(i in 0:(n-1)){\n",
    "        x <- a + (i + 1/2)*h_hat\n",
    "        sum_res <- sum_res + f(x)\n",
    "    }\n",
    "    approx <- h_hat*sum_res\n",
    "}\n",
    "n <- 10**7\n",
    "f <- function(x)exp(-x^2)\n",
    "a <- 0\n",
    "b <- 1\n",
    "tic(\"Rcf tomó\")\n",
    "Rcf(f,a,b,n)\n",
    "toc()"
   ]
  },
  {
   "cell_type": "code",
   "execution_count": 7,
   "metadata": {},
   "outputs": [
    {
     "name": "stdout",
     "output_type": "stream",
     "text": [
      "Rcf tomó: 5.568 sec elapsed\n"
     ]
    }
   ],
   "source": [
    "%%bash\n",
    "Rscript Rcf_R.R"
   ]
  },
  {
   "cell_type": "markdown",
   "metadata": {},
   "source": [
    "## Julia"
   ]
  },
  {
   "cell_type": "code",
   "execution_count": 8,
   "metadata": {},
   "outputs": [
    {
     "name": "stdout",
     "output_type": "stream",
     "text": [
      "Writing Rcf_julia.jl\n"
     ]
    }
   ],
   "source": [
    "%%file Rcf_julia.jl\n",
    "\"\"\"\n",
    "Compute numerical approximation using rectangle or mid-point\n",
    "method in an interval.\n",
    "\n",
    "# Arguments\n",
    "\n",
    "- `f::Float`: function expression of integrand.\n",
    "- `a::Integer`: left point of interval.\n",
    "- `b::Integer`: right point of interval.\n",
    "- `n::Integer`: number of subintervals.\n",
    "\"\"\"\n",
    "function Rcf(f, a, b, n)\n",
    "    h_hat = (b-a)/n\n",
    "    sum_res = 0\n",
    "    for i in 0:n-1\n",
    "        x = a + (i + 1/2)*h_hat\n",
    "        sum_res += f(x)\n",
    "    end    \n",
    "    return h_hat*sum_res\n",
    "end\n",
    "function main()\n",
    "    a = 0\n",
    "    b = 1\n",
    "    n =10^7\n",
    "    f(x) = exp(-x^2)\n",
    "    @time Rcf(f, a, b, n)\n",
    "    @time Rcf(f, a, b, n)\n",
    "end\n",
    "\n",
    "main()"
   ]
  },
  {
   "cell_type": "code",
   "execution_count": 9,
   "metadata": {},
   "outputs": [
    {
     "name": "stdout",
     "output_type": "stream",
     "text": [
      "  0.228430 seconds\n",
      "  0.228310 seconds\n"
     ]
    }
   ],
   "source": [
    "%%bash\n",
    "/usr/local/julia-1.6.0/bin/julia Rcf_julia.jl"
   ]
  },
  {
   "cell_type": "code",
   "execution_count": 10,
   "metadata": {},
   "outputs": [
    {
     "name": "stdout",
     "output_type": "stream",
     "text": [
      "Writing Rcf_julia_typed_values.jl\n"
     ]
    }
   ],
   "source": [
    "%%file Rcf_julia_typed_values.jl\n",
    "\"\"\"\n",
    "Compute numerical approximation using rectangle or mid-point\n",
    "method in an interval.\n",
    "\n",
    "# Arguments\n",
    "\n",
    "- `f::Float`: function expression of integrand.\n",
    "- `a::Integer`: left point of interval.\n",
    "- `b::Integer`: right point of interval.\n",
    "- `n::Integer`: number of subintervals.\n",
    "\"\"\"\n",
    "function Rcf(f, a, b, n)\n",
    "    h_hat = (b-a)/n\n",
    "    sum_res = 0.0\n",
    "    for i in 0:n-1\n",
    "        x = a + (i + 1/2)*h_hat\n",
    "        sum_res += f(x)\n",
    "    end    \n",
    "    return h_hat*sum_res\n",
    "end\n",
    "function main()\n",
    "    a = 0\n",
    "    b = 1\n",
    "    n =10^7\n",
    "    f(x) = exp(-x^2)\n",
    "    @time Rcf(f, a, b, n)\n",
    "    @time Rcf(f, a, b, n)    \n",
    "end\n",
    "\n",
    "main()"
   ]
  },
  {
   "cell_type": "code",
   "execution_count": 11,
   "metadata": {},
   "outputs": [
    {
     "name": "stdout",
     "output_type": "stream",
     "text": [
      "  0.092623 seconds\n",
      "  0.092402 seconds\n"
     ]
    }
   ],
   "source": [
    "%%bash\n",
    "/usr/local/julia-1.6.0/bin/julia Rcf_julia_typed_values.jl"
   ]
  },
  {
   "cell_type": "markdown",
   "metadata": {},
   "source": [
    "## C"
   ]
  },
  {
   "cell_type": "markdown",
   "metadata": {},
   "source": [
    "Para la medición de tiempos se utilizaron las ligas: [liga](https://stackoverflow.com/questions/16764276/measuring-time-in-millisecond-precision) y [liga2](https://www.techiedelight.com/find-execution-time-c-program/)."
   ]
  },
  {
   "cell_type": "code",
   "execution_count": 3,
   "metadata": {},
   "outputs": [
    {
     "name": "stdout",
     "output_type": "stream",
     "text": [
      "Writing Rcf_c.c\n"
     ]
    }
   ],
   "source": [
    "%%file Rcf_c.c\n",
    "#include<stdio.h>\n",
    "#include<stdlib.h>\n",
    "#include<math.h>\n",
    "#include<time.h>\n",
    "#include <sys/time.h>\n",
    "\n",
    "void Rcf(double ext_izq, double ext_der, int n,\\\n",
    "    double *suma_global_p);\n",
    "double f(double nodo);\n",
    "int main(int argc, char *argv[]){\n",
    "    double suma_global = 0.0;\n",
    "    double a = 0.0, b = 1.0;\n",
    "    int n = 1e7;\n",
    "    struct timeval start;\n",
    "    struct timeval end;\n",
    "    long seconds;\n",
    "    long long mili;\n",
    "    \n",
    "    gettimeofday(&start, NULL);\n",
    "    Rcf(a,b,n,&suma_global);\n",
    "    gettimeofday(&end, NULL);\n",
    "    seconds = (end.tv_sec - start.tv_sec);\n",
    "    mili = 1000*(seconds) + (end.tv_usec - start.tv_usec)/1000;    \n",
    "    printf(\"Tiempo de ejecución: %lld milisegundos\", mili);\n",
    "    \n",
    "    return 0;\n",
    "}\n",
    "void Rcf(double a, double b, int n, double *sum){\n",
    "    double h_hat = (b-a)/n;\n",
    "    double x = 0.0;\n",
    "    int i = 0;\n",
    "    *sum = 0.0;\n",
    "    for(i = 0; i <= n-1; i++){\n",
    "        x = a + (i + 1/2.0)*h_hat;\n",
    "        *sum += f(x);\n",
    "    }\n",
    "    *sum = h_hat*(*sum);\n",
    "}\n",
    "double f(double nodo){\n",
    "    double valor_f;\n",
    "    valor_f = exp(-pow(nodo,2));\n",
    "    return valor_f;\n",
    "}\n"
   ]
  },
  {
   "cell_type": "code",
   "execution_count": 4,
   "metadata": {},
   "outputs": [],
   "source": [
    "%%bash\n",
    "gcc -Wall Rcf_c.c -o Rcf_c.out -lm"
   ]
  },
  {
   "cell_type": "code",
   "execution_count": 5,
   "metadata": {},
   "outputs": [
    {
     "name": "stdout",
     "output_type": "stream",
     "text": [
      "Tiempo de ejecución: 482 milisegundos"
     ]
    }
   ],
   "source": [
    "%%bash\n",
    "./Rcf_c.out"
   ]
  },
  {
   "cell_type": "markdown",
   "metadata": {},
   "source": [
    "## [cython](https://cython.org/)"
   ]
  },
  {
   "cell_type": "markdown",
   "metadata": {},
   "source": [
    "Cython es un compilador que traduce instrucciones escritas en Python \"anotadas\" en un módulo compilado que funciona como una extensión de Python. Los programas que se escriben con tales anotaciones resultan similares en sintaxis al lenguaje *C*. Este módulo puede ser importado como un módulo regular de Python utilizando `import`. "
   ]
  },
  {
   "cell_type": "markdown",
   "metadata": {},
   "source": [
    "```{margin}\n",
    "\n",
    "La frase código tipo *CPU-bound* es código cuya ejecución involucra un porcentaje mayor para uso de CPU que uso de memoria o I/O.\n",
    "\n",
    "```"
   ]
  },
  {
   "cell_type": "markdown",
   "metadata": {},
   "source": [
    "*Cython* tiene un buen tiempo en la comunidad (2007 aproximadamente), es altamente usado y es de las herramientas preferidas para código tipo *CPU-bound*. \n",
    "\n",
    "Soporta la [API OpenMP](https://www.openmp.org/) para aprovechar los múltiples *cores* de una máquina."
   ]
  },
  {
   "cell_type": "markdown",
   "metadata": {},
   "source": [
    "Cython puede utilizarse vía un script `setup.py` que compila un módulo pero también puede utilizarse en `IPython` vía un comando `magic`."
   ]
  },
  {
   "cell_type": "markdown",
   "metadata": {},
   "source": [
    "## ¿En qué casos y qué tipo de ganancias en velocidad podemos esperar al usar Cython?"
   ]
  },
  {
   "cell_type": "markdown",
   "metadata": {},
   "source": [
    "Un caso es en el que se tenga un código con muchos *loops* que realicen operaciones matemáticas típicamente no vectorizadas o que no pueden vectorizarse. Esto es, códigos en los que las instrucciones son básicamente sólo *Python* sin utilizar paquetes externos. Además, si en el ciclo las variables no cambian de su tipo (por ejemplo de `int` a `float`) entonces es un código que obtendrá ganancia en velocidad al compilar a código de máquina."
   ]
  },
  {
   "cell_type": "markdown",
   "metadata": {},
   "source": [
    "```{admonition} Observación\n",
    ":class: tip\n",
    "\n",
    "Si tu código de *Python* llama a operaciones vectorizadas vía *NumPy* podría ser que no se ejecute más rápido tu código después de compilarlo.\n",
    "\n",
    "```"
   ]
  },
  {
   "cell_type": "markdown",
   "metadata": {},
   "source": [
    "No esperamos tener un *speedup* después de compilar para llamadas a librerías externas (por ejemplo paqueterías que manejan bases de datos). También es poco probable que se obtengan ganancias significativas en programas que tengan alta carga de I/O.\n",
    "\n",
    "En general es poco probable que tu código compilado se ejecute más rápido que un código en *C* \"bien escrito\" y también es poco probable que se ejecute más lento. Es muy posible que el código *C* generado desde *Python* mediante *Cython* pueda alcanzar las velocidades de un código escrito en *C*, a menos que la persona que programó en *C* tenga un gran conocimiento de formas de hacer que el código de *C* se ajuste a la arquitectura de la máquina sobre la que se ejecutan los códigos."
   ]
  },
  {
   "cell_type": "markdown",
   "metadata": {},
   "source": [
    "### Ejemplo con un script `setup.py`"
   ]
  },
  {
   "cell_type": "code",
   "execution_count": 1,
   "metadata": {},
   "outputs": [],
   "source": [
    "import math\n",
    "import time\n",
    "\n",
    "from pytest import approx\n",
    "from scipy.integrate import quad"
   ]
  },
  {
   "cell_type": "markdown",
   "metadata": {},
   "source": [
    "Para este caso requerimos tres archivos:\n",
    "\n",
    "1.El código que será compilado en un archivo con extensión `.pyx` (escrito en *Python*). "
   ]
  },
  {
   "cell_type": "markdown",
   "metadata": {},
   "source": [
    "```{admonition} Comentario\n",
    "\n",
    "La extensión `.pyx` se utiliza en el lenguaje [Pyrex](https://www.csse.canterbury.ac.nz/greg.ewing/python/Pyrex/) que en términos simples es *Python* con manejo de tipo de valores de *C*. *Pyrex* traduce el código escrito en *Python* a código de *C* (por lo que ayuda a evitar el uso de la [Python/C API](https://docs.python.org/3/c-api/index.html) y permite la declaración de parámetros o valores en tipos de valores de *C*.\n",
    "\n",
    "```"
   ]
  },
  {
   "cell_type": "markdown",
   "metadata": {},
   "source": [
    "2.Un archivo `setup.py` que contiene las instrucciones para llamar a *cython* y cree el módulo compilado.\n",
    "\n",
    "3.El código escrito en *Python* que importará el módulo compilado."
   ]
  },
  {
   "cell_type": "markdown",
   "metadata": {},
   "source": [
    "Archivo `.pyx`:"
   ]
  },
  {
   "cell_type": "code",
   "execution_count": 2,
   "metadata": {},
   "outputs": [
    {
     "name": "stdout",
     "output_type": "stream",
     "text": [
      "Writing Rcf_cython.pyx\n"
     ]
    }
   ],
   "source": [
    "%%file Rcf_cython.pyx\n",
    "def Rcf(f,a,b,n): #Rcf: rectángulo compuesto para f\n",
    "    \"\"\"\n",
    "    Compute numerical approximation using rectangle or mid-point\n",
    "    method in an interval.\n",
    "    Nodes are generated via formula: x_i = a+(i+1/2)h_hat for\n",
    "    i=0,1,...,n-1 and h_hat=(b-a)/n\n",
    "    Args:\n",
    "    \n",
    "        f (float): function expression of integrand.\n",
    "        \n",
    "        a (float): left point of interval.\n",
    "        \n",
    "        b (float): right point of interval.\n",
    "        \n",
    "        n (float): number of subintervals.\n",
    "        \n",
    "    Returns:\n",
    "    \n",
    "        sum_res (float): numerical approximation to integral\n",
    "            of f in the interval a,b\n",
    "    \"\"\"\n",
    "    h_hat = (b-a)/n\n",
    "    nodes = [a+(i+1/2)*h_hat for i in range(n)]\n",
    "    sum_res = 0\n",
    "    for node in nodes:\n",
    "        sum_res = sum_res+f(node)\n",
    "    return h_hat*sum_res"
   ]
  },
  {
   "cell_type": "markdown",
   "metadata": {},
   "source": [
    "Archivo `setup.py` que contiene las instrucciones para el *build*:"
   ]
  },
  {
   "cell_type": "code",
   "execution_count": 3,
   "metadata": {},
   "outputs": [
    {
     "name": "stdout",
     "output_type": "stream",
     "text": [
      "Writing setup.py\n"
     ]
    }
   ],
   "source": [
    "%%file setup.py\n",
    "from distutils.core import setup\n",
    "from Cython.Build import cythonize\n",
    "\n",
    "setup(ext_modules = cythonize(\"Rcf_cython.pyx\", \n",
    "                              compiler_directives={'language_level' : 3})\n",
    "     )"
   ]
  },
  {
   "cell_type": "markdown",
   "metadata": {},
   "source": [
    "Compilar desde la línea de comandos:"
   ]
  },
  {
   "cell_type": "code",
   "execution_count": 4,
   "metadata": {},
   "outputs": [
    {
     "name": "stdout",
     "output_type": "stream",
     "text": [
      "Compiling Rcf_cython.pyx because it changed.\n",
      "[1/1] Cythonizing Rcf_cython.pyx\n",
      "running build_ext\n",
      "building 'Rcf_cython' extension\n",
      "creating build\n",
      "creating build/temp.linux-x86_64-3.7\n",
      "x86_64-linux-gnu-gcc -pthread -DNDEBUG -g -fwrapv -O2 -Wall -g -fstack-protector-strong -Wformat -Werror=format-security -Wdate-time -D_FORTIFY_SOURCE=2 -fPIC -I/usr/include/python3.7m -c Rcf_cython.c -o build/temp.linux-x86_64-3.7/Rcf_cython.o\n",
      "x86_64-linux-gnu-gcc -pthread -shared -Wl,-O1 -Wl,-Bsymbolic-functions -Wl,-z,relro -Wl,-z,relro -g -fstack-protector-strong -Wformat -Werror=format-security -Wdate-time -D_FORTIFY_SOURCE=2 build/temp.linux-x86_64-3.7/Rcf_cython.o -o /datos/MNO_desde_2018/ramas_repo/mno-master/libro_optimizacion/temas/V.optimizacion_de_codigo/5.3/Rcf_cython.cpython-37m-x86_64-linux-gnu.so\n"
     ]
    }
   ],
   "source": [
    "%%bash\n",
    "python3 setup.py build_ext --inplace"
   ]
  },
  {
   "cell_type": "markdown",
   "metadata": {},
   "source": [
    "Importar módulo compilado y ejecutarlo:"
   ]
  },
  {
   "cell_type": "code",
   "execution_count": 5,
   "metadata": {},
   "outputs": [],
   "source": [
    "f=lambda x: math.exp(-x**2) #using math library"
   ]
  },
  {
   "cell_type": "code",
   "execution_count": 6,
   "metadata": {},
   "outputs": [],
   "source": [
    "import Rcf_cython"
   ]
  },
  {
   "cell_type": "code",
   "execution_count": 7,
   "metadata": {},
   "outputs": [],
   "source": [
    "n = 10**2\n",
    "a = 0\n",
    "b = 1\n",
    "start_time = time.time()\n",
    "res = Rcf_cython.Rcf(f, a, b,n)\n",
    "end_time = time.time()"
   ]
  },
  {
   "cell_type": "code",
   "execution_count": 8,
   "metadata": {},
   "outputs": [
    {
     "name": "stdout",
     "output_type": "stream",
     "text": [
      "Rcf tomó 0.0001289844512939453 segundos\n"
     ]
    }
   ],
   "source": [
    "secs = end_time-start_time\n",
    "print(\"Rcf tomó\",secs,\"segundos\" )"
   ]
  },
  {
   "cell_type": "code",
   "execution_count": 9,
   "metadata": {},
   "outputs": [],
   "source": [
    "obj, err = quad(f, a, b)"
   ]
  },
  {
   "cell_type": "code",
   "execution_count": 10,
   "metadata": {},
   "outputs": [
    {
     "name": "stdout",
     "output_type": "stream",
     "text": [
      "False\n"
     ]
    }
   ],
   "source": [
    "print(res == approx(obj))"
   ]
  },
  {
   "cell_type": "markdown",
   "metadata": {},
   "source": [
    "## Referencias de interés"
   ]
  },
  {
   "cell_type": "markdown",
   "metadata": {},
   "source": [
    "* [Cython](https://en.wikipedia.org/wiki/Cython).\n",
    "\n",
    "* [introduction to cython](http://okigiveup.net/an-introduction-to-cython/).\n",
    "\n",
    "* [Basic cython tutorial](https://cython.readthedocs.io/en/latest/src/tutorial/cython_tutorial.html)\n",
    "\n",
    "* [Source files and compilation](https://cython.readthedocs.io/en/latest/src/userguide/source_files_and_compilation.html)\n",
    "\n",
    "* [Compiling with a jupyter notebook](https://cython.readthedocs.io/en/latest/src/userguide/source_files_and_compilation.html#compiling-with-a-jupyter-notebook)\n",
    "\n",
    "* [Dirk Eddelbuettel: rcpp ](http://dirk.eddelbuettel.com/code/rcpp.html).\n",
    "\n",
    "* [Rcpp for everyone](https://teuder.github.io/rcpp4everyone_en/).\n",
    "\n",
    "* [Introduction to rcpp:From Simple Examples to Machine Learning](http://dirk.eddelbuettel.com/papers/rcpp_rfinance_may2017.pdf).\n",
    "\n",
    "* [Rcpp note](http://yixuan.cos.name/rcpp-note/index.html).\n",
    "\n",
    "* [Rcpp quick reference guide](http://dirk.eddelbuettel.com/code/rcpp/Rcpp-quickref.pdf).\n",
    "\n",
    "* [Learncpp](https://www.learncpp.com/).\n",
    "\n",
    "* [Cplusplus](http://www.cplusplus.com/)."
   ]
  },
  {
   "cell_type": "markdown",
   "metadata": {},
   "source": [
    "```{admonition} Ejercicios\n",
    ":class: tip\n",
    "\n",
    "1.Resuelve los ejercicios y preguntas de la nota.\n",
    "```\n"
   ]
  },
  {
   "cell_type": "markdown",
   "metadata": {},
   "source": [
    "**Referencias:**\n",
    "\n",
    "1. M. Gorelick, I. Ozsvald, High Performance Python, O'Reilly Media, 2014.\n",
    "\n",
    "2. [H. Wickham, Advanced R, 2014](http://adv-r.had.co.nz/Rcpp.html)\n"
   ]
  }
 ],
 "metadata": {
  "kernelspec": {
   "display_name": "Python 3",
   "language": "python",
   "name": "python3"
  },
  "language_info": {
   "codemirror_mode": {
    "name": "ipython",
    "version": 3
   },
   "file_extension": ".py",
   "mimetype": "text/x-python",
   "name": "python",
   "nbconvert_exporter": "python",
   "pygments_lexer": "ipython3",
   "version": "3.7.3"
  }
 },
 "nbformat": 4,
 "nbformat_minor": 4
}
