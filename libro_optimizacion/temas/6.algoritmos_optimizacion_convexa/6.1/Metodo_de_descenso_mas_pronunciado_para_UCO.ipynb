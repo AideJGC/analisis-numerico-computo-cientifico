{
 "cells": [
  {
   "cell_type": "markdown",
   "metadata": {},
   "source": [
    "(METDESCMASPRONUN)="
   ]
  },
  {
   "cell_type": "markdown",
   "metadata": {},
   "source": [
    "# 6.1 Método de descenso más pronunciado para *Unconstrained Convex Optimization* (UCO)"
   ]
  },
  {
   "cell_type": "markdown",
   "metadata": {},
   "source": [
    "```{admonition} Notas para contenedor de docker:\n",
    "\n",
    "Comando de docker para ejecución de la nota de forma local:\n",
    "\n",
    "nota: cambiar `<ruta a mi directorio>` por la ruta de directorio que se desea mapear a `/datos` dentro del contenedor de docker.\n",
    "\n",
    "`docker run --rm -v <ruta a mi directorio>:/datos --name jupyterlab_optimizacion_2 -p 8888:8888 -p 8787:8787 -d palmoreck/jupyterlab_optimizacion_2:3.0.0`\n",
    "\n",
    "password para jupyterlab: `qwerty`\n",
    "\n",
    "Detener el contenedor de docker:\n",
    "\n",
    "`docker stop jupyterlab_optimizacion_2`\n",
    "\n",
    "Documentación de la imagen de docker `palmoreck/jupyterlab_optimizacion_2:3.0.0` en [liga](https://github.com/palmoreck/dockerfiles/tree/master/jupyterlab/optimizacion_2).\n",
    "\n",
    "```"
   ]
  },
  {
   "cell_type": "markdown",
   "metadata": {},
   "source": [
    "---"
   ]
  },
  {
   "cell_type": "markdown",
   "metadata": {},
   "source": [
    "Nota generada a partir de [liga1](https://drive.google.com/file/d/16-_PvWNaO0Zc9x04-SRsxCRdn5fxebf2/view)"
   ]
  },
  {
   "cell_type": "markdown",
   "metadata": {},
   "source": [
    "```{admonition} Al final de esta nota la comunidad lectora:\n",
    ":class: tip\n",
    "\n",
    "*\n",
    "\n",
    "```"
   ]
  },
  {
   "cell_type": "markdown",
   "metadata": {},
   "source": [
    "En esta nota se consideran problemas de optimización convexa sin restricciones, *Unconstrained Convex Optimization* (UCO):\n",
    "\n",
    "$$\\min f_o(x)$$\n",
    "\n",
    "con $f_o:\\mathbb{R}^n \\rightarrow \\mathbb{R}$ función objetivo fuertemente convexa y $f_o \\in \\mathcal{C}^2(\\text{dom}f_o)$.\n",
    "\n",
    "Se asume que los puntos iniciales $x^{(0)}$ de los métodos iterativos están en $\\text{dom}f_o$ y los conjuntos $f_o(x^{(0)})$-subnivel son conjuntos cerrados. También se asume que existe un punto óptimo $x^*$ por lo que el problema tiene solución y el valor óptimo se denota por $p^* = f_o(x^*) = \\inf f_o(x)$"
   ]
  },
  {
   "cell_type": "markdown",
   "metadata": {},
   "source": [
    "```{admonition} Comentario\n",
    "\n",
    "Las suposición que una función $f$ sea convexa asegura que una **condición necesaria y suficiente** para que $x^*$ sea óptimo es: $\\nabla f(x^*) = 0$ la cual es **en general** es un conjunto de $n$ **ecuaciones no lineales** en $n$ variables y que resuelve el problema de optimización planteado al inicio. Ver {ref}`resultados útiles <RESUT>`. \n",
    "\n",
    "```"
   ]
  },
  {
   "cell_type": "markdown",
   "metadata": {},
   "source": [
    "El método de *steepest descent* o descenso más pronunciado sigue los pasos del algoritmo ya revisado en {ref}`método general de descenso para problemas UCO <METGENDESCPARAUCO>` que a continuación nuevamente se describe."
   ]
  },
  {
   "cell_type": "markdown",
   "metadata": {},
   "source": [
    "## Algoritmo: método general de descenso para problemas UCO"
   ]
  },
  {
   "cell_type": "markdown",
   "metadata": {},
   "source": [
    "```{margin}\n",
    "\n",
    "Los pasos de un algoritmo representan una guía para la implementación, no implica que se tengan que implementar uno a continuación del otro como se describe. Si una implementación respeta la lógica y al mismo algoritmo, entonces pueden seguirse los pasos de una forma distinta.\n",
    "```"
   ]
  },
  {
   "cell_type": "markdown",
   "metadata": {},
   "source": [
    "> **Dado** un **punto inicial** $x$ en $\\text{dom}f_o$\n",
    ">\n",
    "> **Repetir** el siguiente bloque para $k=0,1,2, \\dots$\n",
    ">>\n",
    ">> 1. Determinar una dirección de descenso $\\Delta x$.\n",
    ">> 2. Búsqueda de línea. Elegir un tamaño de paso $t > 0$.\n",
    ">> 3. Hacer la actualización: $x = x + t\\Delta x$.\n",
    ">\n",
    "> **hasta** convergencia (satisfacer criterio de paro).\n"
   ]
  },
  {
   "cell_type": "markdown",
   "metadata": {
    "tags": []
   },
   "source": [
    "## Perspectiva del método de descenso más pronunciado "
   ]
  },
  {
   "cell_type": "markdown",
   "metadata": {},
   "source": [
    "Calcular una dirección $\\Delta x_{\\text{nsd}}$ que satisfaga: \n",
    "\n",
    "$$\\Delta x_{\\text{nsd}} = \\text{argmin} \\{ \\nabla f_o(x)^Tv : ||v|| \\leq 1, \\nabla f_o(x)^Tv < 0 \\}$$ \n",
    "\n",
    "donde: $||\\cdot||$ es alguna norma en $\\mathbb{R}^n$. "
   ]
  },
  {
   "cell_type": "markdown",
   "metadata": {},
   "source": [
    "```{admonition} Comentario\n",
    "\n",
    "El subíndice \"nsd\" se refiere a *normalized steepest descent*.\n",
    "\n",
    "```"
   ]
  },
  {
   "cell_type": "markdown",
   "metadata": {},
   "source": [
    "Posteriormente con $\\Delta x_{\\text{nsd}}$ se define el paso $\\Delta x_{\\text{sd}}=||\\nabla f_o(x)||_* \\Delta x_{\\text{nsd}}$ donde: $|| \\cdot||_*$ es la **norma dual**. "
   ]
  },
  {
   "cell_type": "markdown",
   "metadata": {},
   "source": [
    "```{admonition} Definición\n",
    "\n",
    "La norma dual asociada a $||\\cdot||$ se denota como $||\\cdot||_*$ y se define como: \n",
    "\n",
    "$$||z||_* = \\sup \\{z^Tx :||x||= 1\\}.$$ \n",
    "\n",
    "```"
   ]
  },
  {
   "cell_type": "markdown",
   "metadata": {},
   "source": [
    "```{admonition} Comentarios\n",
    "\n",
    "* Se puede probar que: \n",
    "\n",
    "    * $||z||_{2*}$ (la norma dual de la norma $2$) es $||z||_2$ y $||z||_{1*}$ (la norma dual de la norma $1$) es $||z||_\\infty$ $\\forall z \\in \\mathbb{R}^n$.\n",
    "\n",
    "    * $\\Delta x_{\\text{sd}}$ es dirección de descenso.\n",
    "\n",
    "* En la definición de $\\Delta x_{\\text{nsd}}$ anterior:\n",
    "\n",
    "    * Si $||\\cdot||$ es la norma $2$: $\\Delta x_{\\text{nsd}} = \\text{argmin} \\{ \\nabla f_o(x)^Tv : ||v||_2 \\leq 1, \\nabla f_o(x)^Tv < 0 \\} $ entonces \n",
    "    \n",
    "    $$\\Delta x_{\\text{sd}} = - \\nabla f_o(x).$$\n",
    "    \n",
    "    Lo cual prueba que el método de descenso más pronunciado generaliza al método de descenso en gradiente.\n",
    "\n",
    "    * Si $||\\cdot||$ es una norma cuadrática con matriz $P \\in \\mathbb{S}^n_{++}$: $\\Delta x_{\\text{nsd}} = \\text{argmin} \\{ \\nabla f_o(x)^Tv : ||v||_P \\leq 1, \\nabla f_o(x)^Tv < 0 \\} $ entonces \n",
    "    \n",
    "    $$\\Delta x_{\\text{sd}} = - P^{-1} \\nabla f_o(x).$$\n",
    "    \n",
    "    Si $P=\\nabla ^2 f_o(x)$ tenemos el método de Newton por lo que es un caso particular del método de descenso más pronunciado. Si $P=I$ tenemos el método de descenso en gradiente (punto anterior).\n",
    "\n",
    "    * Si $||\\cdot||$ es la norma $1$: $\\Delta x_{\\text{nsd}} = \\text{argmin} \\{ \\nabla f_o(x)^Tv : ||v||_1 \\leq 1, \\nabla f_o(x)^Tv < 0 \\} $ entonces \n",
    "    \n",
    "    $$\\Delta x_{\\text{sd}} = - \\frac{\\partial f_o(x)}{\\partial x_i} e_i$$\n",
    "    \n",
    "con $e_i$ $i$-ésimo vector canónico y el índice $i$ es la entrada del vector $\\nabla f_o(x)$ de máxima magnitud: $i$ tal que $\\left |(\\nabla f_o(x))_i \\right | = ||\\nabla f_o(x)||_\\infty$. En este caso el método se nombra ***coordinate descent***, **descenso por coordenadas**. En cada iteración **una única** componente de $x$ es actualizada.\n",
    "    \n",
    "* **Interpretación:** $\\Delta x_{\\text{nsd}}$ es un paso tal que $||\\Delta x_{\\text{nsd}}|| = 1$ y da el **mayor decrecimiento en la aproximación lineal\\* de $f_o$**. Geométricamente es la dirección en la bola unitaria (generada por $||\\cdot||$) que se **extiende lo más lejos posible en la dirección $-\\nabla f_o(x)$**.\n",
    "\n",
    "\\*Recuérdese que la aproximación lineal a una función $f_o$ está dada por Taylor a primer orden: $f_o(x+v)=\\hat{f}_o(x+v) = f_o(x) + \\nabla f_o(x)^Tv$.\n",
    "\n",
    "* Para visualizar el paso $\\Delta x_{\\text{nsd}}$ se tiene el siguiente dibujo: \n",
    "\n",
    "**Con la norma cuadrática:**\n",
    "\n",
    "<img src=\"https://dl.dropboxusercontent.com/s/91qivndznw2xfgb/steepest_descent_quadratic_norm.png?dl=0\" heigth=\"750\" width=\"750\">\n",
    "\n",
    "**Con la norma 1:**\n",
    "\n",
    "<img src=\"https://dl.dropboxusercontent.com/s/qcbpuhvge9uqgim/steepest_desc_l1_norm.png?dl=0\" heigth=\"750\" width=\"750\">\n",
    "\n",
    "En los dibujos $f = f_o$.\n",
    "\n",
    "```"
   ]
  },
  {
   "cell_type": "markdown",
   "metadata": {},
   "source": [
    "## Ejemplos de los métodos de descenso en gradiente y Newton "
   ]
  },
  {
   "cell_type": "markdown",
   "metadata": {
    "tags": []
   },
   "source": [
    "### Algoritmo: Método de descenso en gradiente"
   ]
  },
  {
   "cell_type": "markdown",
   "metadata": {},
   "source": [
    "```{margin}\n",
    "\n",
    "Los pasos de un algoritmo representan una guía para la implementación, no implica que se tengan que implementar uno a continuación del otro como se describe. Si una implementación respeta la lógica y al mismo algoritmo, entonces pueden seguirse los pasos de una forma distinta.\n",
    "```"
   ]
  },
  {
   "cell_type": "markdown",
   "metadata": {},
   "source": [
    "> **Dado** un **punto inicial** $x$ en $\\text{dom}f_o$\n",
    ">\n",
    "> **Repetir** el siguiente bloque para $k=0,1,2,...$\n",
    ">>\n",
    ">> 1. Calcular la dirección de descenso $\\Delta x = - \\nabla f_o(x)$.\n",
    ">> 2. Búsqueda de línea. Elegir un tamaño de paso $t > 0$.\n",
    ">> 3. Hacer la actualización: $x = x + t\\Delta x$.\n",
    ">\n",
    "> **hasta** convergencia (satisfacer criterio de paro).\n"
   ]
  },
  {
   "cell_type": "markdown",
   "metadata": {},
   "source": [
    "### Algoritmo: Método de Newton"
   ]
  },
  {
   "cell_type": "markdown",
   "metadata": {},
   "source": [
    "> **Dado** un **punto inicial** $x$ en $\\text{dom}f_o$\n",
    ">\n",
    "> **Repetir** el siguiente bloque para $k=0,1,2,\\dots$\n",
    ">\n",
    ">> 1. Calcular la dirección de descenso de Newton $\\Delta x_{\\text{nt}} = - \\nabla ^2 f_o(x)^{-1} \\nabla f_o(x)$ y el decremento de Newton al cuadrado: $\\lambda^2(x)=\\nabla f_o(x)^T \\nabla ^2 f_o(x)^{-1} \\nabla f_o(x)$.\n",
    ">> 2. Búsqueda de línea. Elegir un tamaño de paso $t > 0$ (usar el cálculo de $\\lambda (x)$ del paso anterior).\n",
    ">> 3. Hacer la actualización: $x = x + t\\Delta x_{\\text{nt}}$.\n",
    ">\n",
    "> **hasta** convergencia (satisfacer criterio de paro).\n"
   ]
  },
  {
   "cell_type": "markdown",
   "metadata": {},
   "source": [
    "```{admonition} Definición\n",
    "\n",
    "En el algoritmo anterior se utilizó $\\lambda(x)$, ver {ref}`decremento de Newton <DECREMENTONEWTON>`.\n",
    "\n",
    "```"
   ]
  },
  {
   "cell_type": "code",
   "execution_count": 1,
   "metadata": {},
   "outputs": [],
   "source": [
    "import numpy as np\n",
    "import sympy\n",
    "import math\n",
    "from sympy.tensor.array import derive_by_array\n",
    "import matplotlib.pyplot as plt\n",
    "\n",
    "from opt.classes.problems import ProblemFeasibleInitPoint\n",
    "from opt.classes.functions import GradientObjectiveFunction, HessianObjectiveFunction"
   ]
  },
  {
   "cell_type": "markdown",
   "metadata": {},
   "source": [
    "$$\\min \\quad (x_1-2)^2+(2-x_2)^2+x_3^2+x_4^4$$"
   ]
  },
  {
   "cell_type": "code",
   "execution_count": 2,
   "metadata": {},
   "outputs": [],
   "source": [
    "type_problem = \"UCO\"\n",
    "fo_numpy = lambda x: (x[0]-2)**2 + (2-x[1])**2 + x[2]**2 + x[3]**4\n",
    "p = ProblemFeasibleInitPoint(type_problem,\n",
    "                             fo_numpy)"
   ]
  },
  {
   "cell_type": "code",
   "execution_count": 3,
   "metadata": {},
   "outputs": [
    {
     "name": "stdout",
     "output_type": "stream",
     "text": [
      "problema UCO bien definido\n"
     ]
    }
   ],
   "source": [
    "if p.well_defined_problem:\n",
    "    print(\"problema %s bien definido\" % p.type_problem)\n",
    "else:\n",
    "    print(\"problema %s no bien definido\" % p.type_problem)"
   ]
  },
  {
   "cell_type": "code",
   "execution_count": 4,
   "metadata": {},
   "outputs": [],
   "source": [
    "def map_sympy_vars_to_array_values(x):\n",
    "    \"\"\"\n",
    "    Args:\n",
    "        x (numpy ndarray): 1d array of floats\n",
    "    \"\"\"\n",
    "    n = x.size\n",
    "    return {\"x%s\" % i: x[i-1] for i in range(1,n+1)}"
   ]
  },
  {
   "cell_type": "code",
   "execution_count": 5,
   "metadata": {},
   "outputs": [],
   "source": [
    "x1, x2, x3, x4 = sympy.symbols(\"x1, x2, x3, x4\")\n",
    "x_sympy = (x1, x2, x3, x4)\n",
    "fo_sympy = (x1 - 2)**2 + (2 - x2)**2 + x3**2 + x4**2\n",
    "gf_sympy = derive_by_array(fo_sympy, x_sympy)\n",
    "Hf_sympy = derive_by_array(gf_sympy, x_sympy)\n",
    "n = len(x_sympy)\n",
    "\n",
    "gf = lambda x: np.array([first_partial_derivative.subs(map_sympy_vars_to_array_values(x)) \\\n",
    "                         for first_partial_derivative in gf_sympy],\n",
    "                         dtype = float)\n",
    "Hf = lambda x: np.array([second_partial_derivative.subs(map_sympy_vars_to_array_values(x)) \\\n",
    "                         for second_partial_derivative in Hf_sympy],\n",
    "                                dtype=float).reshape(n,n)\n",
    "\n",
    "gf_class = GradientObjectiveFunction(gf)\n",
    "Hf_class = HessianObjectiveFunction(Hf)\n",
    "x_ast = np.array([2,2,0,0],dtype=float)\n",
    "p_ast = fo_numpy(x_ast)\n",
    "x_0 = np.array([5,5,1,0],dtype=float)"
   ]
  },
  {
   "cell_type": "code",
   "execution_count": 6,
   "metadata": {},
   "outputs": [
    {
     "name": "stdout",
     "output_type": "stream",
     "text": [
      "will use Newton method, if wants to use another select gradient or ...\n"
     ]
    },
    {
     "data": {
      "text/html": [
       "<div>\n",
       "<style scoped>\n",
       "    .dataframe tbody tr th:only-of-type {\n",
       "        vertical-align: middle;\n",
       "    }\n",
       "\n",
       "    .dataframe tbody tr th {\n",
       "        vertical-align: top;\n",
       "    }\n",
       "\n",
       "    .dataframe thead th {\n",
       "        text-align: right;\n",
       "    }\n",
       "</style>\n",
       "<table border=\"1\" class=\"dataframe\">\n",
       "  <thead>\n",
       "    <tr style=\"text-align: right;\">\n",
       "      <th></th>\n",
       "      <th>Iter</th>\n",
       "      <th>Normgf</th>\n",
       "      <th>Newtons decrement</th>\n",
       "      <th>Err x ast</th>\n",
       "      <th>Err p ast</th>\n",
       "      <th>line search</th>\n",
       "      <th>CondHf</th>\n",
       "    </tr>\n",
       "  </thead>\n",
       "  <tbody>\n",
       "    <tr>\n",
       "      <th>row0</th>\n",
       "      <td>0</td>\n",
       "      <td>8.72e+00</td>\n",
       "      <td>3.80e+01</td>\n",
       "      <td>1.54e+00</td>\n",
       "      <td>1.90e+01</td>\n",
       "      <td>---</td>\n",
       "      <td>1.00e+00</td>\n",
       "    </tr>\n",
       "  </tbody>\n",
       "</table>\n",
       "</div>"
      ],
      "text/plain": [
       "      Iter   Normgf  Newtons decrement  Err x ast  Err p ast line search  \\\n",
       "row0     0 8.72e+00           3.80e+01   1.54e+00   1.90e+01         ---   \n",
       "\n",
       "       CondHf  \n",
       "row0 1.00e+00  "
      ]
     },
     "metadata": {},
     "output_type": "display_data"
    },
    {
     "data": {
      "text/html": [
       "<div>\n",
       "<style scoped>\n",
       "    .dataframe tbody tr th:only-of-type {\n",
       "        vertical-align: middle;\n",
       "    }\n",
       "\n",
       "    .dataframe tbody tr th {\n",
       "        vertical-align: top;\n",
       "    }\n",
       "\n",
       "    .dataframe thead th {\n",
       "        text-align: right;\n",
       "    }\n",
       "</style>\n",
       "<table border=\"1\" class=\"dataframe\">\n",
       "  <thead>\n",
       "    <tr style=\"text-align: right;\">\n",
       "      <th></th>\n",
       "      <th>Iter</th>\n",
       "      <th>Normgf</th>\n",
       "      <th>Newtons decrement</th>\n",
       "      <th>Err x ast</th>\n",
       "      <th>Err p ast</th>\n",
       "      <th>line search</th>\n",
       "      <th>CondHf</th>\n",
       "    </tr>\n",
       "  </thead>\n",
       "  <tbody>\n",
       "    <tr>\n",
       "      <th>row1</th>\n",
       "      <td>1</td>\n",
       "      <td>0.00e+00</td>\n",
       "      <td>0.00e+00</td>\n",
       "      <td>0.00e+00</td>\n",
       "      <td>0.00e+00</td>\n",
       "      <td>1</td>\n",
       "      <td>1.00e+00</td>\n",
       "    </tr>\n",
       "  </tbody>\n",
       "</table>\n",
       "</div>"
      ],
      "text/plain": [
       "      Iter   Normgf  Newtons decrement  Err x ast  Err p ast  line search  \\\n",
       "row1     1 0.00e+00           0.00e+00   0.00e+00   0.00e+00            1   \n",
       "\n",
       "       CondHf  \n",
       "row1 1.00e+00  "
      ]
     },
     "metadata": {},
     "output_type": "display_data"
    },
    {
     "name": "stdout",
     "output_type": "stream",
     "text": [
      "Error of x with respect to x_ast: 0.00e+00\n",
      "Approximate solution: [2. 2. 0. 0.]\n"
     ]
    }
   ],
   "source": [
    "[x,iteration,Err_plot,x_plot] = p.solve(x_0,\n",
    "                                        x_ast=x_ast,\n",
    "                                        p_ast=p_ast,\n",
    "                                        gf_B=gf_class,\n",
    "                                        Hf_B=Hf_class\n",
    "                                        )"
   ]
  },
  {
   "cell_type": "code",
   "execution_count": 7,
   "metadata": {},
   "outputs": [
    {
     "data": {
      "text/html": [
       "<div>\n",
       "<style scoped>\n",
       "    .dataframe tbody tr th:only-of-type {\n",
       "        vertical-align: middle;\n",
       "    }\n",
       "\n",
       "    .dataframe tbody tr th {\n",
       "        vertical-align: top;\n",
       "    }\n",
       "\n",
       "    .dataframe thead th {\n",
       "        text-align: right;\n",
       "    }\n",
       "</style>\n",
       "<table border=\"1\" class=\"dataframe\">\n",
       "  <thead>\n",
       "    <tr style=\"text-align: right;\">\n",
       "      <th></th>\n",
       "      <th>Iter</th>\n",
       "      <th>Normgf</th>\n",
       "      <th>Newtons decrement</th>\n",
       "      <th>Err x ast</th>\n",
       "      <th>Err p ast</th>\n",
       "      <th>line search</th>\n",
       "    </tr>\n",
       "  </thead>\n",
       "  <tbody>\n",
       "    <tr>\n",
       "      <th>row0</th>\n",
       "      <td>0</td>\n",
       "      <td>8.72e+00</td>\n",
       "      <td>7.60e+01</td>\n",
       "      <td>1.54e+00</td>\n",
       "      <td>1.90e+01</td>\n",
       "      <td>---</td>\n",
       "    </tr>\n",
       "  </tbody>\n",
       "</table>\n",
       "</div>"
      ],
      "text/plain": [
       "      Iter   Normgf  Newtons decrement  Err x ast  Err p ast line search\n",
       "row0     0 8.72e+00           7.60e+01   1.54e+00   1.90e+01         ---"
      ]
     },
     "metadata": {},
     "output_type": "display_data"
    },
    {
     "data": {
      "text/html": [
       "<div>\n",
       "<style scoped>\n",
       "    .dataframe tbody tr th:only-of-type {\n",
       "        vertical-align: middle;\n",
       "    }\n",
       "\n",
       "    .dataframe tbody tr th {\n",
       "        vertical-align: top;\n",
       "    }\n",
       "\n",
       "    .dataframe thead th {\n",
       "        text-align: right;\n",
       "    }\n",
       "</style>\n",
       "<table border=\"1\" class=\"dataframe\">\n",
       "  <thead>\n",
       "    <tr style=\"text-align: right;\">\n",
       "      <th></th>\n",
       "      <th>Iter</th>\n",
       "      <th>Normgf</th>\n",
       "      <th>Newtons decrement</th>\n",
       "      <th>Err x ast</th>\n",
       "      <th>Err p ast</th>\n",
       "      <th>line search</th>\n",
       "    </tr>\n",
       "  </thead>\n",
       "  <tbody>\n",
       "    <tr>\n",
       "      <th>row1</th>\n",
       "      <td>1</td>\n",
       "      <td>0.00e+00</td>\n",
       "      <td>0.00e+00</td>\n",
       "      <td>0.00e+00</td>\n",
       "      <td>0.00e+00</td>\n",
       "      <td>5.00e-01</td>\n",
       "    </tr>\n",
       "  </tbody>\n",
       "</table>\n",
       "</div>"
      ],
      "text/plain": [
       "      Iter   Normgf  Newtons decrement  Err x ast  Err p ast  line search\n",
       "row1     1 0.00e+00           0.00e+00   0.00e+00   0.00e+00     5.00e-01"
      ]
     },
     "metadata": {},
     "output_type": "display_data"
    },
    {
     "name": "stdout",
     "output_type": "stream",
     "text": [
      "Error of x with respect to x_ast: 0.00e+00\n",
      "Approximate solution: [2. 2. 0. 0.]\n"
     ]
    }
   ],
   "source": [
    "[x,iteration,Err_plot,x_plot] = p.solve(x_0,\n",
    "                                        x_ast=x_ast,\n",
    "                                        p_ast=p_ast,\n",
    "                                        gf_B=gf_class,\n",
    "                                        Hf_B=Hf_class,\n",
    "                                        method=\"gradient\"\n",
    "                                        )"
   ]
  },
  {
   "cell_type": "markdown",
   "metadata": {},
   "source": [
    "$$\\min \\quad e^{(x_1+3x_2-0.1)}+e^{x_1-3x_2-0.1}+e^{-x_1-0.1}$$"
   ]
  },
  {
   "cell_type": "code",
   "execution_count": 8,
   "metadata": {},
   "outputs": [],
   "source": [
    "type_problem = \"UCO\"\n",
    "fo_numpy = lambda x: math.exp(x[0]+3*x[1]-0.1)+math.exp(x[0]-3*x[1]-0.1)+math.exp(-x[0]-0.1)\n",
    "p = ProblemFeasibleInitPoint(type_problem,\n",
    "                             fo_numpy)"
   ]
  },
  {
   "cell_type": "code",
   "execution_count": 9,
   "metadata": {},
   "outputs": [
    {
     "name": "stdout",
     "output_type": "stream",
     "text": [
      "problema UCO bien definido\n"
     ]
    }
   ],
   "source": [
    "if p.well_defined_problem:\n",
    "    print(\"problema %s bien definido\" % p.type_problem)\n",
    "else:\n",
    "    print(\"problema %s no bien definido\" % p.type_problem)"
   ]
  },
  {
   "cell_type": "code",
   "execution_count": 10,
   "metadata": {},
   "outputs": [],
   "source": [
    "x1, x2 = sympy.symbols(\"x1, x2\")\n",
    "x_sympy = (x1, x2)\n",
    "fo_sympy = sympy.exp(x1+3*x2-0.1) + sympy.exp(x1-3*x2-0.1) + sympy.exp(-x1-0.1)\n",
    "gf_sympy = derive_by_array(fo_sympy, (x1, x2))\n",
    "Hf_sympy = derive_by_array(gf_sympy, (x1, x2))\n",
    "n = len(x_sympy)\n",
    "\n",
    "gf = lambda x: np.array([first_partial_derivative.subs(map_sympy_vars_to_array_values(x)) \\\n",
    "                         for first_partial_derivative in gf_sympy],\n",
    "                         dtype = float)\n",
    "\n",
    "Hf = lambda x: np.array([second_partial_derivative.subs(map_sympy_vars_to_array_values(x)) \\\n",
    "                         for second_partial_derivative in Hf_sympy],\n",
    "                                dtype=float).reshape(n,n)\n",
    "\n",
    "gf_class = GradientObjectiveFunction(gf)\n",
    "Hf_class = HessianObjectiveFunction(Hf)\n",
    "x_ast=np.array([-0.3465735941251887,0], dtype=float)\n",
    "p_ast=fo_numpy(x_ast)\n",
    "x_0 = np.array([0,0],dtype=float)"
   ]
  },
  {
   "cell_type": "code",
   "execution_count": 11,
   "metadata": {},
   "outputs": [
    {
     "name": "stdout",
     "output_type": "stream",
     "text": [
      "will use Newton method, if wants to use another select gradient or ...\n"
     ]
    },
    {
     "data": {
      "text/html": [
       "<div>\n",
       "<style scoped>\n",
       "    .dataframe tbody tr th:only-of-type {\n",
       "        vertical-align: middle;\n",
       "    }\n",
       "\n",
       "    .dataframe tbody tr th {\n",
       "        vertical-align: top;\n",
       "    }\n",
       "\n",
       "    .dataframe thead th {\n",
       "        text-align: right;\n",
       "    }\n",
       "</style>\n",
       "<table border=\"1\" class=\"dataframe\">\n",
       "  <thead>\n",
       "    <tr style=\"text-align: right;\">\n",
       "      <th></th>\n",
       "      <th>Iter</th>\n",
       "      <th>Normgf</th>\n",
       "      <th>Newtons decrement</th>\n",
       "      <th>Err x ast</th>\n",
       "      <th>Err p ast</th>\n",
       "      <th>line search</th>\n",
       "      <th>CondHf</th>\n",
       "    </tr>\n",
       "  </thead>\n",
       "  <tbody>\n",
       "    <tr>\n",
       "      <th>row0</th>\n",
       "      <td>0</td>\n",
       "      <td>9.05e-01</td>\n",
       "      <td>3.02e-01</td>\n",
       "      <td>1.00e+00</td>\n",
       "      <td>6.07e-02</td>\n",
       "      <td>---</td>\n",
       "      <td>6.00e+00</td>\n",
       "    </tr>\n",
       "  </tbody>\n",
       "</table>\n",
       "</div>"
      ],
      "text/plain": [
       "      Iter   Normgf  Newtons decrement  Err x ast  Err p ast line search  \\\n",
       "row0     0 9.05e-01           3.02e-01   1.00e+00   6.07e-02         ---   \n",
       "\n",
       "       CondHf  \n",
       "row0 6.00e+00  "
      ]
     },
     "metadata": {},
     "output_type": "display_data"
    },
    {
     "data": {
      "text/html": [
       "<div>\n",
       "<style scoped>\n",
       "    .dataframe tbody tr th:only-of-type {\n",
       "        vertical-align: middle;\n",
       "    }\n",
       "\n",
       "    .dataframe tbody tr th {\n",
       "        vertical-align: top;\n",
       "    }\n",
       "\n",
       "    .dataframe thead th {\n",
       "        text-align: right;\n",
       "    }\n",
       "</style>\n",
       "<table border=\"1\" class=\"dataframe\">\n",
       "  <thead>\n",
       "    <tr style=\"text-align: right;\">\n",
       "      <th></th>\n",
       "      <th>Iter</th>\n",
       "      <th>Normgf</th>\n",
       "      <th>Newtons decrement</th>\n",
       "      <th>Err x ast</th>\n",
       "      <th>Err p ast</th>\n",
       "      <th>line search</th>\n",
       "      <th>CondHf</th>\n",
       "    </tr>\n",
       "  </thead>\n",
       "  <tbody>\n",
       "    <tr>\n",
       "      <th>row1</th>\n",
       "      <td>1</td>\n",
       "      <td>3.39e-02</td>\n",
       "      <td>4.49e-04</td>\n",
       "      <td>3.82e-02</td>\n",
       "      <td>8.77e-05</td>\n",
       "      <td>1</td>\n",
       "      <td>4.56e+00</td>\n",
       "    </tr>\n",
       "  </tbody>\n",
       "</table>\n",
       "</div>"
      ],
      "text/plain": [
       "      Iter   Normgf  Newtons decrement  Err x ast  Err p ast  line search  \\\n",
       "row1     1 3.39e-02           4.49e-04   3.82e-02   8.77e-05            1   \n",
       "\n",
       "       CondHf  \n",
       "row1 4.56e+00  "
      ]
     },
     "metadata": {},
     "output_type": "display_data"
    },
    {
     "data": {
      "text/html": [
       "<div>\n",
       "<style scoped>\n",
       "    .dataframe tbody tr th:only-of-type {\n",
       "        vertical-align: middle;\n",
       "    }\n",
       "\n",
       "    .dataframe tbody tr th {\n",
       "        vertical-align: top;\n",
       "    }\n",
       "\n",
       "    .dataframe thead th {\n",
       "        text-align: right;\n",
       "    }\n",
       "</style>\n",
       "<table border=\"1\" class=\"dataframe\">\n",
       "  <thead>\n",
       "    <tr style=\"text-align: right;\">\n",
       "      <th></th>\n",
       "      <th>Iter</th>\n",
       "      <th>Normgf</th>\n",
       "      <th>Newtons decrement</th>\n",
       "      <th>Err x ast</th>\n",
       "      <th>Err p ast</th>\n",
       "      <th>line search</th>\n",
       "      <th>CondHf</th>\n",
       "    </tr>\n",
       "  </thead>\n",
       "  <tbody>\n",
       "    <tr>\n",
       "      <th>row2</th>\n",
       "      <td>2</td>\n",
       "      <td>1.98e-06</td>\n",
       "      <td>1.53e-12</td>\n",
       "      <td>2.24e-06</td>\n",
       "      <td>2.99e-13</td>\n",
       "      <td>1</td>\n",
       "      <td>4.50e+00</td>\n",
       "    </tr>\n",
       "  </tbody>\n",
       "</table>\n",
       "</div>"
      ],
      "text/plain": [
       "      Iter   Normgf  Newtons decrement  Err x ast  Err p ast  line search  \\\n",
       "row2     2 1.98e-06           1.53e-12   2.24e-06   2.99e-13            1   \n",
       "\n",
       "       CondHf  \n",
       "row2 4.50e+00  "
      ]
     },
     "metadata": {},
     "output_type": "display_data"
    },
    {
     "name": "stdout",
     "output_type": "stream",
     "text": [
      "Error of x with respect to x_ast: 2.24e-06\n",
      "Approximate solution: [-0.34657282  0.        ]\n"
     ]
    },
    {
     "data": {
      "image/png": "[encoded data removed]",
      "text/plain": [
       "<Figure size 432x288 with 1 Axes>"
      ]
     },
     "metadata": {
      "needs_background": "light"
     },
     "output_type": "display_data"
    }
   ],
   "source": [
    "[x,iteration,Err_plot,x_plot] = p.solve(x_0,\n",
    "                                        x_ast=x_ast,\n",
    "                                        p_ast=p_ast,\n",
    "                                        gf_B=gf_class,\n",
    "                                        Hf_B=Hf_class\n",
    "                                        )"
   ]
  },
  {
   "cell_type": "code",
   "execution_count": 12,
   "metadata": {},
   "outputs": [
    {
     "data": {
      "text/html": [
       "<div>\n",
       "<style scoped>\n",
       "    .dataframe tbody tr th:only-of-type {\n",
       "        vertical-align: middle;\n",
       "    }\n",
       "\n",
       "    .dataframe tbody tr th {\n",
       "        vertical-align: top;\n",
       "    }\n",
       "\n",
       "    .dataframe thead th {\n",
       "        text-align: right;\n",
       "    }\n",
       "</style>\n",
       "<table border=\"1\" class=\"dataframe\">\n",
       "  <thead>\n",
       "    <tr style=\"text-align: right;\">\n",
       "      <th></th>\n",
       "      <th>Iter</th>\n",
       "      <th>Normgf</th>\n",
       "      <th>Newtons decrement</th>\n",
       "      <th>Err x ast</th>\n",
       "      <th>Err p ast</th>\n",
       "      <th>line search</th>\n",
       "    </tr>\n",
       "  </thead>\n",
       "  <tbody>\n",
       "    <tr>\n",
       "      <th>row0</th>\n",
       "      <td>0</td>\n",
       "      <td>9.05e-01</td>\n",
       "      <td>8.19e-01</td>\n",
       "      <td>1.00e+00</td>\n",
       "      <td>6.07e-02</td>\n",
       "      <td>---</td>\n",
       "    </tr>\n",
       "  </tbody>\n",
       "</table>\n",
       "</div>"
      ],
      "text/plain": [
       "      Iter   Normgf  Newtons decrement  Err x ast  Err p ast line search\n",
       "row0     0 9.05e-01           8.19e-01   1.00e+00   6.07e-02         ---"
      ]
     },
     "metadata": {},
     "output_type": "display_data"
    },
    {
     "data": {
      "text/html": [
       "<div>\n",
       "<style scoped>\n",
       "    .dataframe tbody tr th:only-of-type {\n",
       "        vertical-align: middle;\n",
       "    }\n",
       "\n",
       "    .dataframe tbody tr th {\n",
       "        vertical-align: top;\n",
       "    }\n",
       "\n",
       "    .dataframe thead th {\n",
       "        text-align: right;\n",
       "    }\n",
       "</style>\n",
       "<table border=\"1\" class=\"dataframe\">\n",
       "  <thead>\n",
       "    <tr style=\"text-align: right;\">\n",
       "      <th></th>\n",
       "      <th>Iter</th>\n",
       "      <th>Normgf</th>\n",
       "      <th>Newtons decrement</th>\n",
       "      <th>Err x ast</th>\n",
       "      <th>Err p ast</th>\n",
       "      <th>line search</th>\n",
       "    </tr>\n",
       "  </thead>\n",
       "  <tbody>\n",
       "    <tr>\n",
       "      <th>row1</th>\n",
       "      <td>1</td>\n",
       "      <td>2.71e-01</td>\n",
       "      <td>7.37e-02</td>\n",
       "      <td>3.05e-01</td>\n",
       "      <td>5.61e-03</td>\n",
       "      <td>5.00e-01</td>\n",
       "    </tr>\n",
       "  </tbody>\n",
       "</table>\n",
       "</div>"
      ],
      "text/plain": [
       "      Iter   Normgf  Newtons decrement  Err x ast  Err p ast  line search\n",
       "row1     1 2.71e-01           7.37e-02   3.05e-01   5.61e-03     5.00e-01"
      ]
     },
     "metadata": {},
     "output_type": "display_data"
    },
    {
     "data": {
      "text/html": [
       "<div>\n",
       "<style scoped>\n",
       "    .dataframe tbody tr th:only-of-type {\n",
       "        vertical-align: middle;\n",
       "    }\n",
       "\n",
       "    .dataframe tbody tr th {\n",
       "        vertical-align: top;\n",
       "    }\n",
       "\n",
       "    .dataframe thead th {\n",
       "        text-align: right;\n",
       "    }\n",
       "</style>\n",
       "<table border=\"1\" class=\"dataframe\">\n",
       "  <thead>\n",
       "    <tr style=\"text-align: right;\">\n",
       "      <th></th>\n",
       "      <th>Iter</th>\n",
       "      <th>Normgf</th>\n",
       "      <th>Newtons decrement</th>\n",
       "      <th>Err x ast</th>\n",
       "      <th>Err p ast</th>\n",
       "      <th>line search</th>\n",
       "    </tr>\n",
       "  </thead>\n",
       "  <tbody>\n",
       "    <tr>\n",
       "      <th>row2</th>\n",
       "      <td>2</td>\n",
       "      <td>7.64e-02</td>\n",
       "      <td>5.84e-03</td>\n",
       "      <td>8.61e-02</td>\n",
       "      <td>4.46e-04</td>\n",
       "      <td>5.00e-01</td>\n",
       "    </tr>\n",
       "  </tbody>\n",
       "</table>\n",
       "</div>"
      ],
      "text/plain": [
       "      Iter   Normgf  Newtons decrement  Err x ast  Err p ast  line search\n",
       "row2     2 7.64e-02           5.84e-03   8.61e-02   4.46e-04     5.00e-01"
      ]
     },
     "metadata": {},
     "output_type": "display_data"
    },
    {
     "data": {
      "text/html": [
       "<div>\n",
       "<style scoped>\n",
       "    .dataframe tbody tr th:only-of-type {\n",
       "        vertical-align: middle;\n",
       "    }\n",
       "\n",
       "    .dataframe tbody tr th {\n",
       "        vertical-align: top;\n",
       "    }\n",
       "\n",
       "    .dataframe thead th {\n",
       "        text-align: right;\n",
       "    }\n",
       "</style>\n",
       "<table border=\"1\" class=\"dataframe\">\n",
       "  <thead>\n",
       "    <tr style=\"text-align: right;\">\n",
       "      <th></th>\n",
       "      <th>Iter</th>\n",
       "      <th>Normgf</th>\n",
       "      <th>Newtons decrement</th>\n",
       "      <th>Err x ast</th>\n",
       "      <th>Err p ast</th>\n",
       "      <th>line search</th>\n",
       "    </tr>\n",
       "  </thead>\n",
       "  <tbody>\n",
       "    <tr>\n",
       "      <th>row3</th>\n",
       "      <td>3</td>\n",
       "      <td>2.14e-02</td>\n",
       "      <td>4.57e-04</td>\n",
       "      <td>2.41e-02</td>\n",
       "      <td>3.49e-05</td>\n",
       "      <td>5.00e-01</td>\n",
       "    </tr>\n",
       "  </tbody>\n",
       "</table>\n",
       "</div>"
      ],
      "text/plain": [
       "      Iter   Normgf  Newtons decrement  Err x ast  Err p ast  line search\n",
       "row3     3 2.14e-02           4.57e-04   2.41e-02   3.49e-05     5.00e-01"
      ]
     },
     "metadata": {},
     "output_type": "display_data"
    },
    {
     "data": {
      "text/html": [
       "<div>\n",
       "<style scoped>\n",
       "    .dataframe tbody tr th:only-of-type {\n",
       "        vertical-align: middle;\n",
       "    }\n",
       "\n",
       "    .dataframe tbody tr th {\n",
       "        vertical-align: top;\n",
       "    }\n",
       "\n",
       "    .dataframe thead th {\n",
       "        text-align: right;\n",
       "    }\n",
       "</style>\n",
       "<table border=\"1\" class=\"dataframe\">\n",
       "  <thead>\n",
       "    <tr style=\"text-align: right;\">\n",
       "      <th></th>\n",
       "      <th>Iter</th>\n",
       "      <th>Normgf</th>\n",
       "      <th>Newtons decrement</th>\n",
       "      <th>Err x ast</th>\n",
       "      <th>Err p ast</th>\n",
       "      <th>line search</th>\n",
       "    </tr>\n",
       "  </thead>\n",
       "  <tbody>\n",
       "    <tr>\n",
       "      <th>row4</th>\n",
       "      <td>4</td>\n",
       "      <td>5.98e-03</td>\n",
       "      <td>3.57e-05</td>\n",
       "      <td>6.74e-03</td>\n",
       "      <td>2.73e-06</td>\n",
       "      <td>5.00e-01</td>\n",
       "    </tr>\n",
       "  </tbody>\n",
       "</table>\n",
       "</div>"
      ],
      "text/plain": [
       "      Iter   Normgf  Newtons decrement  Err x ast  Err p ast  line search\n",
       "row4     4 5.98e-03           3.57e-05   6.74e-03   2.73e-06     5.00e-01"
      ]
     },
     "metadata": {},
     "output_type": "display_data"
    },
    {
     "data": {
      "text/html": [
       "<div>\n",
       "<style scoped>\n",
       "    .dataframe tbody tr th:only-of-type {\n",
       "        vertical-align: middle;\n",
       "    }\n",
       "\n",
       "    .dataframe tbody tr th {\n",
       "        vertical-align: top;\n",
       "    }\n",
       "\n",
       "    .dataframe thead th {\n",
       "        text-align: right;\n",
       "    }\n",
       "</style>\n",
       "<table border=\"1\" class=\"dataframe\">\n",
       "  <thead>\n",
       "    <tr style=\"text-align: right;\">\n",
       "      <th></th>\n",
       "      <th>Iter</th>\n",
       "      <th>Normgf</th>\n",
       "      <th>Newtons decrement</th>\n",
       "      <th>Err x ast</th>\n",
       "      <th>Err p ast</th>\n",
       "      <th>line search</th>\n",
       "    </tr>\n",
       "  </thead>\n",
       "  <tbody>\n",
       "    <tr>\n",
       "      <th>row5</th>\n",
       "      <td>5</td>\n",
       "      <td>1.67e-03</td>\n",
       "      <td>2.79e-06</td>\n",
       "      <td>1.88e-03</td>\n",
       "      <td>2.13e-07</td>\n",
       "      <td>5.00e-01</td>\n",
       "    </tr>\n",
       "  </tbody>\n",
       "</table>\n",
       "</div>"
      ],
      "text/plain": [
       "      Iter   Normgf  Newtons decrement  Err x ast  Err p ast  line search\n",
       "row5     5 1.67e-03           2.79e-06   1.88e-03   2.13e-07     5.00e-01"
      ]
     },
     "metadata": {},
     "output_type": "display_data"
    },
    {
     "data": {
      "text/html": [
       "<div>\n",
       "<style scoped>\n",
       "    .dataframe tbody tr th:only-of-type {\n",
       "        vertical-align: middle;\n",
       "    }\n",
       "\n",
       "    .dataframe tbody tr th {\n",
       "        vertical-align: top;\n",
       "    }\n",
       "\n",
       "    .dataframe thead th {\n",
       "        text-align: right;\n",
       "    }\n",
       "</style>\n",
       "<table border=\"1\" class=\"dataframe\">\n",
       "  <thead>\n",
       "    <tr style=\"text-align: right;\">\n",
       "      <th></th>\n",
       "      <th>Iter</th>\n",
       "      <th>Normgf</th>\n",
       "      <th>Newtons decrement</th>\n",
       "      <th>Err x ast</th>\n",
       "      <th>Err p ast</th>\n",
       "      <th>line search</th>\n",
       "    </tr>\n",
       "  </thead>\n",
       "  <tbody>\n",
       "    <tr>\n",
       "      <th>row6</th>\n",
       "      <td>6</td>\n",
       "      <td>4.67e-04</td>\n",
       "      <td>2.19e-07</td>\n",
       "      <td>5.27e-04</td>\n",
       "      <td>1.67e-08</td>\n",
       "      <td>5.00e-01</td>\n",
       "    </tr>\n",
       "  </tbody>\n",
       "</table>\n",
       "</div>"
      ],
      "text/plain": [
       "      Iter   Normgf  Newtons decrement  Err x ast  Err p ast  line search\n",
       "row6     6 4.67e-04           2.19e-07   5.27e-04   1.67e-08     5.00e-01"
      ]
     },
     "metadata": {},
     "output_type": "display_data"
    },
    {
     "data": {
      "text/html": [
       "<div>\n",
       "<style scoped>\n",
       "    .dataframe tbody tr th:only-of-type {\n",
       "        vertical-align: middle;\n",
       "    }\n",
       "\n",
       "    .dataframe tbody tr th {\n",
       "        vertical-align: top;\n",
       "    }\n",
       "\n",
       "    .dataframe thead th {\n",
       "        text-align: right;\n",
       "    }\n",
       "</style>\n",
       "<table border=\"1\" class=\"dataframe\">\n",
       "  <thead>\n",
       "    <tr style=\"text-align: right;\">\n",
       "      <th></th>\n",
       "      <th>Iter</th>\n",
       "      <th>Normgf</th>\n",
       "      <th>Newtons decrement</th>\n",
       "      <th>Err x ast</th>\n",
       "      <th>Err p ast</th>\n",
       "      <th>line search</th>\n",
       "    </tr>\n",
       "  </thead>\n",
       "  <tbody>\n",
       "    <tr>\n",
       "      <th>row7</th>\n",
       "      <td>7</td>\n",
       "      <td>1.31e-04</td>\n",
       "      <td>1.71e-08</td>\n",
       "      <td>1.47e-04</td>\n",
       "      <td>1.30e-09</td>\n",
       "      <td>5.00e-01</td>\n",
       "    </tr>\n",
       "  </tbody>\n",
       "</table>\n",
       "</div>"
      ],
      "text/plain": [
       "      Iter   Normgf  Newtons decrement  Err x ast  Err p ast  line search\n",
       "row7     7 1.31e-04           1.71e-08   1.47e-04   1.30e-09     5.00e-01"
      ]
     },
     "metadata": {},
     "output_type": "display_data"
    },
    {
     "name": "stdout",
     "output_type": "stream",
     "text": [
      "Error of x with respect to x_ast: 1.47e-04\n",
      "Approximate solution: [-0.34662467  0.        ]\n"
     ]
    },
    {
     "data": {
      "image/png": "[encoded data removed]",
      "text/plain": [
       "<Figure size 432x288 with 1 Axes>"
      ]
     },
     "metadata": {
      "needs_background": "light"
     },
     "output_type": "display_data"
    }
   ],
   "source": [
    "[x,iteration,Err_plot,x_plot] = p.solve(x_0,\n",
    "                                        x_ast=x_ast,\n",
    "                                        p_ast=p_ast,\n",
    "                                        gf_B=gf_class,\n",
    "                                        Hf_B=Hf_class,\n",
    "                                        method=\"gradient\"\n",
    "                                        )"
   ]
  },
  {
   "cell_type": "markdown",
   "metadata": {},
   "source": [
    "## Ejemplos del método de descenso por coordenadas"
   ]
  },
  {
   "cell_type": "markdown",
   "metadata": {},
   "source": [
    "### Algoritmo: Método de descenso por coordenadas"
   ]
  },
  {
   "cell_type": "markdown",
   "metadata": {},
   "source": [
    "> **Dado** un **punto inicial** $x$ en $\\text{dom}f_o$\n",
    ">\n",
    "> **Repetir** el siguiente bloque para $k=0,1,2,\\dots$\n",
    ">\n",
    ">> 1. Obtener el índice $i$ de $\\nabla f_o(x)$ con máximo valor absoluto: $\\left |(\\nabla f_o(x))_i \\right | = ||\\nabla f_o(x)||_\\infty$.\n",
    ">> 1. Calcular la dirección de descenso más pronunciado bajo la norma $1$: $\\Delta x_{\\text{sd}} = - \\frac{\\partial f_o(x)}{\\partial x_i} e_i$ con $e_i$ $i$-ésimo vector canónico.\n",
    ">> 2. Búsqueda de línea. Elegir un tamaño de paso $t > 0$.\n",
    ">> 3. Hacer la actualización: $x = x + t\\Delta x$.\n",
    ">\n",
    "> **hasta** convergencia (satisfacer criterio de paro).\n"
   ]
  },
  {
   "cell_type": "markdown",
   "metadata": {},
   "source": [
    "## Ejemplos del método de descenso más pronunciado bajo la norma cuadrática como caso particular del método de descenso en gradiente"
   ]
  },
  {
   "cell_type": "markdown",
   "metadata": {},
   "source": [
    "```{admonition} Definición\n",
    "\n",
    "Sea $P \\in \\mathbb{S}^n_+$, $P^{1/2}$ se nombra **raíz cuadrada simétrica**, ***symmetric squareroot*** y se define como \n",
    "\n",
    "$$P^{1/2}=Qdiag(\\lambda_1^{1/2},\\dots,\\lambda_n^{1/2})Q^T$$\n",
    "\n",
    "con $Q$ y $diag(\\lambda_1^{1/2},\\dots,\\lambda_n^{1/2})$ obtenidas con la **descomposición espectral** de $P$.\n",
    "\n",
    "```"
   ]
  },
  {
   "cell_type": "markdown",
   "metadata": {},
   "source": [
    "Es posible probar que el método de descenso más pronunciado bajo la norma cuadrática $||\\cdot||_P$ es el método de descenso en gradiente aplicado al problema de optimización **después del cambio de coordenadas $\\hat{x}=P^{1/2}x$**. En este cambio de coordenadas $x$ es la variable original por lo que si deseamos utilizar descenso en gradiente utilizamos la inversa de la matriz raíz cuadrada simétrica $P^{1/2}$ quedando la transformación como: $x = P^{-1/2}\\hat{x}$."
   ]
  },
  {
   "cell_type": "markdown",
   "metadata": {},
   "source": [
    "Ejemplos"
   ]
  },
  {
   "cell_type": "markdown",
   "metadata": {},
   "source": [
    "**De la nota descenso en gradiente_Python**"
   ]
  },
  {
   "cell_type": "markdown",
   "metadata": {},
   "source": [
    "1) $$\\min \\quad (x_1-2)^2+(2-x_2)^2+x_3^2+x_4^4$$"
   ]
  },
  {
   "cell_type": "markdown",
   "metadata": {},
   "source": [
    "2) El método de descenso en gradiente es **altamente sensible** a la forma de las curvas de nivel de la función objetivo $f_o$. Para observar esto considérese el problema: $$\\min \\frac{1}{2}\\left(x_1^2+Cx_2^2 \\right)$$"
   ]
  },
  {
   "cell_type": "markdown",
   "metadata": {},
   "source": [
    "1) $$\\min \\quad e^{(x_1+3x_2-0.1)}+e^{x_1-3x_2-0.1}+e^{-x_1-0.1}$$"
   ]
  },
  {
   "cell_type": "markdown",
   "metadata": {},
   "source": [
    "**Comentarios:**\n",
    "\n",
    "* Como se observa en los ejemplos anteriores la elección de la norma en el método de descenso más pronunciado tiene un efecto fuerte en la tasa de convergencia. \n",
    "\n",
    "* Siempre existe una matriz $P$ para la cual el método de descenso más pronunciado tiene una convergencia buena. El reto está en encontrar tal matriz. La idea es identificar una matriz $P$ para la cual el problema transformado tenga un número de condición moderado."
   ]
  },
  {
   "cell_type": "markdown",
   "metadata": {},
   "source": [
    "**De la nota descenso por coordenadas**"
   ]
  },
  {
   "cell_type": "markdown",
   "metadata": {},
   "source": [
    "1) $$\\min \\quad (x_1-2)^2+(2-x_2)^2+x_3^2+x_4^4$$"
   ]
  },
  {
   "cell_type": "markdown",
   "metadata": {},
   "source": [
    "2) $$\\min \\frac{1}{2}\\left(x_1^2+Cx_2^2 \\right)$$"
   ]
  },
  {
   "cell_type": "markdown",
   "metadata": {},
   "source": [
    "1) $$\\min \\quad e^{(x_1+3x_2-0.1)}+e^{x_1-3x_2-0.1}+e^{-x_1-0.1}$$"
   ]
  },
  {
   "cell_type": "markdown",
   "metadata": {},
   "source": [
    "**De la nota Método Newton Python**"
   ]
  },
  {
   "cell_type": "markdown",
   "metadata": {},
   "source": [
    "1) $$\\min \\quad e^{(x_1+3x_2-0.1)}+e^{x_1-3x_2-0.1}+e^{-x_1-0.1}$$"
   ]
  },
  {
   "cell_type": "markdown",
   "metadata": {},
   "source": [
    "2) El método de Newton **es insensible** a la forma de las curvas de nivel de la función objetivo $f_o$. Para observar esto considérese el problema: \n",
    "\n",
    "$$\\min \\frac{1}{2}\\left(x_1^2+Cx_2^2 \\right)$$"
   ]
  },
  {
   "cell_type": "markdown",
   "metadata": {},
   "source": [
    "```{admonition} Ejercicios\n",
    ":class: tip\n",
    "\n",
    "1.Resuelve los ejercicios y preguntas de la nota.\n",
    "```\n"
   ]
  },
  {
   "cell_type": "markdown",
   "metadata": {},
   "source": [
    "**Preguntas de comprehensión**\n"
   ]
  },
  {
   "cell_type": "markdown",
   "metadata": {},
   "source": [
    "**Referencias:**\n",
    "\n",
    "1. S. P. Boyd, L. Vandenberghe, Convex Optimization, Cambridge University Press, 2009.\n"
   ]
  }
 ],
 "metadata": {
  "kernelspec": {
   "display_name": "Python 3 (ipykernel)",
   "language": "python",
   "name": "python3"
  },
  "language_info": {
   "codemirror_mode": {
    "name": "ipython",
    "version": 3
   },
   "file_extension": ".py",
   "mimetype": "text/x-python",
   "name": "python",
   "nbconvert_exporter": "python",
   "pygments_lexer": "ipython3",
   "version": "3.8.10"
  }
 },
 "nbformat": 4,
 "nbformat_minor": 4
}
