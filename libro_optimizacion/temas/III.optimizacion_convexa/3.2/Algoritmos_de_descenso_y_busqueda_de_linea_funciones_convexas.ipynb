{
 "cells": [
  {
   "cell_type": "markdown",
   "metadata": {},
   "source": [
    "(ONAM)="
   ]
  },
  {
   "cell_type": "markdown",
   "metadata": {},
   "source": [
    "# 3.2 Algoritmos de descenso y búsqueda de línea para funciones convexas"
   ]
  },
  {
   "cell_type": "markdown",
   "metadata": {},
   "source": [
    "```{admonition} Notas para contenedor de docker:\n",
    "\n",
    "Comando de docker para ejecución de la nota de forma local:\n",
    "\n",
    "nota: cambiar `<ruta a mi directorio>` por la ruta de directorio que se desea mapear a `/datos` dentro del contenedor de docker.\n",
    "\n",
    "`docker run --rm -v <ruta a mi directorio>:/datos --name jupyterlab_optimizacion -p 8888:8888 -d palmoreck/jupyterlab_optimizacion:2.1.4`\n",
    "\n",
    "password para jupyterlab: `qwerty`\n",
    "\n",
    "Detener el contenedor de docker:\n",
    "\n",
    "`docker stop jupyterlab_optimizacion`\n",
    "\n",
    "Documentación de la imagen de docker `palmoreck/jupyterlab_optimizacion:2.1.4` en [liga](https://github.com/palmoreck/dockerfiles/tree/master/jupyterlab/optimizacion).\n",
    "\n",
    "```"
   ]
  },
  {
   "cell_type": "markdown",
   "metadata": {},
   "source": [
    "---"
   ]
  },
  {
   "cell_type": "markdown",
   "metadata": {},
   "source": [
    "Nota generada a partir de [liga](https://drive.google.com/file/d/16-_PvWNaO0Zc9x04-SRsxCRdn5fxebf2/view)."
   ]
  },
  {
   "cell_type": "markdown",
   "metadata": {},
   "source": [
    "```{admonition} Al final de esta nota el y la lectora:\n",
    ":class: tip\n",
    "\n",
    "* Comprenderá el uso de la información de primer y segundo orden para resolver problemas de minimización de funciones convexas mediante los algoritmos general de descenso y de búsqueda de línea por *backtracking*.\n",
    "\n",
    "* Aprenderá la importancia y relación con ecuaciones no lineales al resolver los problemas que involucran aproximar mínimos locales de funciones.\n",
    "\n",
    "```"
   ]
  },
  {
   "cell_type": "markdown",
   "metadata": {},
   "source": [
    "## Ejemplos de problemas de optimización *small scale*"
   ]
  },
  {
   "cell_type": "markdown",
   "metadata": {},
   "source": [
    "En optimización la búsqueda del (o los) **óptimo(s)** involucran el cálculo de información de primer o segundo orden, ver {ref}`Definición de función, continuidad y derivada <FCD>`, de la función $f_o$ de acuerdo a lo revisado en los {ref}`resultados útiles<RESUT>`. Tal información para problemas *small scale* es calculada utilizando todos los datos en un enfoque por *batch* o lote."
   ]
  },
  {
   "cell_type": "markdown",
   "metadata": {},
   "source": [
    "### Ejemplo"
   ]
  },
  {
   "cell_type": "markdown",
   "metadata": {},
   "source": [
    "$$\\displaystyle \\min_{x \\in \\mathbb{R}^2} x_1^4+2x_1^2x_2+x_2^2$$"
   ]
  },
  {
   "cell_type": "code",
   "execution_count": 1,
   "metadata": {},
   "outputs": [],
   "source": [
    "import numpy as np\n",
    "import sympy\n",
    "from sympy.tensor.array import derive_by_array\n",
    "import matplotlib.pyplot as plt\n",
    "from scipy.optimize import fsolve\n",
    "from scipy.optimize import fmin\n",
    "import pandas as pd\n",
    "import cvxpy as cp"
   ]
  },
  {
   "cell_type": "code",
   "execution_count": 2,
   "metadata": {},
   "outputs": [],
   "source": [
    "np.set_printoptions(precision=3, suppress=True)"
   ]
  },
  {
   "cell_type": "markdown",
   "metadata": {},
   "source": [
    "Los candidatos a ser mínimos los encontramos al calcular el gradiente de $f_o$ que podemos calcular con *SymPy*"
   ]
  },
  {
   "cell_type": "code",
   "execution_count": 3,
   "metadata": {},
   "outputs": [],
   "source": [
    "x1, x2 = sympy.symbols(\"x1, x2\")"
   ]
  },
  {
   "cell_type": "code",
   "execution_count": 4,
   "metadata": {},
   "outputs": [],
   "source": [
    "fo_sympy = x1**4+2*x1**2*x2+x2**2"
   ]
  },
  {
   "cell_type": "code",
   "execution_count": 5,
   "metadata": {},
   "outputs": [
    {
     "name": "stdout",
     "output_type": "stream",
     "text": [
      "  4       2        2\n",
      "x₁  + 2⋅x₁ ⋅x₂ + x₂ \n"
     ]
    }
   ],
   "source": [
    "sympy.pprint(fo_sympy)"
   ]
  },
  {
   "cell_type": "code",
   "execution_count": 6,
   "metadata": {},
   "outputs": [],
   "source": [
    "gf = derive_by_array(fo_sympy, (x1, x2))"
   ]
  },
  {
   "cell_type": "code",
   "execution_count": 7,
   "metadata": {},
   "outputs": [
    {
     "name": "stdout",
     "output_type": "stream",
     "text": [
      "⎡    3                2       ⎤\n",
      "⎣4⋅x₁  + 4⋅x₁⋅x₂  2⋅x₁  + 2⋅x₂⎦\n"
     ]
    }
   ],
   "source": [
    "sympy.pprint(gf)"
   ]
  },
  {
   "cell_type": "markdown",
   "metadata": {},
   "source": [
    "y plantear:"
   ]
  },
  {
   "cell_type": "markdown",
   "metadata": {},
   "source": [
    "$$\n",
    "\\nabla f_o(x) = \n",
    "\\left [\n",
    "\\begin{array}{c}\n",
    "4x_1^3+4x_1x_2\\\\\n",
    "2x_1^2+2x_2\n",
    "\\end{array}\n",
    "\\right ]=0\n",
    "$$"
   ]
  },
  {
   "cell_type": "markdown",
   "metadata": {},
   "source": [
    "la cual es una ecuación de dos variables y dos incógnitas **no lineal**. Resolviendo para $x_2$ se obtiene la relación: $x_2 = -x_1^2$. Entonces todos los puntos con coordenadas $x = (x_1, x_2)$ que satisfacen tal relación cumplen $\\nabla f_o(x) = 0$. ¿Todos serán mínimos locales?"
   ]
  },
  {
   "cell_type": "markdown",
   "metadata": {},
   "source": [
    "**Gráfica de la superficie $f_o$**"
   ]
  },
  {
   "cell_type": "code",
   "execution_count": 8,
   "metadata": {},
   "outputs": [],
   "source": [
    "def fo_numpy(x):\n",
    "    return x[0]**4 + 2*x[0]**2*x[1] + x[1]**2"
   ]
  },
  {
   "cell_type": "code",
   "execution_count": 9,
   "metadata": {},
   "outputs": [],
   "source": [
    "x1_plot,x2_plot = np.meshgrid(np.linspace(-2,2,100), np.linspace(-2,2,100))\n",
    "z_plot = x1_plot**4 + 2*x1_plot**2*x2_plot + x2_plot**2"
   ]
  },
  {
   "cell_type": "code",
   "execution_count": 10,
   "metadata": {},
   "outputs": [],
   "source": [
    "x1_np = 0\n",
    "x2_np = 0 \n",
    "z_np = fo_numpy([x1_np, x2_np])\n",
    "point = (x1_np, x2_np, z_np)"
   ]
  },
  {
   "cell_type": "code",
   "execution_count": 11,
   "metadata": {},
   "outputs": [
    {
     "name": "stdout",
     "output_type": "stream",
     "text": [
      "(0, 0, 0)\n"
     ]
    }
   ],
   "source": [
    "print(point)"
   ]
  },
  {
   "cell_type": "code",
   "execution_count": 14,
   "metadata": {},
   "outputs": [
    {
     "data": {
      "image/png": "[encoded data removed]",
      "text/plain": [
       "<Figure size 432x288 with 1 Axes>"
      ]
     },
     "metadata": {
      "needs_background": "light"
     },
     "output_type": "display_data"
    }
   ],
   "source": [
    "# Create the figure\n",
    "fig = plt.figure()\n",
    "# Add an axes\n",
    "ax = fig.gca(projection='3d')\n",
    "ax.plot_surface(x1_plot, x2_plot, z_plot, alpha=0.2)\n",
    "ax.scatter(point[0], point[1], point[2], color='green')\n",
    "plt.title(\"$f_o(x) = x_1^4+2x_1^2x_2+x_2^2$\")\n",
    "plt.show()"
   ]
  },
  {
   "cell_type": "markdown",
   "metadata": {},
   "source": [
    "**Gráfica de las curvas de nivel de $f_o$**"
   ]
  },
  {
   "cell_type": "code",
   "execution_count": 13,
   "metadata": {},
   "outputs": [],
   "source": [
    "x1_plot,x2_plot = np.meshgrid(np.linspace(-2,2,100), np.linspace(-4, 1,100))\n",
    "z_plot = x1_plot**4 + 2*x1_plot**2*x2_plot + x2_plot**2"
   ]
  },
  {
   "cell_type": "code",
   "execution_count": 15,
   "metadata": {},
   "outputs": [
    {
     "data": {
      "image/png": "[encoded data removed]",
      "text/plain": [
       "<Figure size 432x288 with 1 Axes>"
      ]
     },
     "metadata": {
      "needs_background": "light"
     },
     "output_type": "display_data"
    }
   ],
   "source": [
    "plt.contour(x1_plot,x2_plot,z_plot)\n",
    "plt.scatter(point[0], point[1], color=\"green\")\n",
    "plt.title(\"Curvas de nivel de $f_o$\")\n",
    "plt.show()"
   ]
  },
  {
   "cell_type": "markdown",
   "metadata": {},
   "source": [
    "Resolvamos con [scipy.optimize.fsolve](https://docs.scipy.org/doc/scipy/reference/generated/scipy.optimize.fsolve.html#scipy.optimize.fsolve) la ecuación no lineal $\\nabla f_o(x) = 0$"
   ]
  },
  {
   "cell_type": "code",
   "execution_count": 16,
   "metadata": {},
   "outputs": [],
   "source": [
    "def eqn(x):\n",
    "    x1,x2=x\n",
    "    return [4*x1**3+4*x1*x2, 2*x1**2+2*x2]"
   ]
  },
  {
   "cell_type": "markdown",
   "metadata": {},
   "source": [
    "```{margin}\n",
    "\n",
    "Elegimos diferentes puntos iniciales.\n",
    "\n",
    "```"
   ]
  },
  {
   "cell_type": "code",
   "execution_count": 17,
   "metadata": {},
   "outputs": [],
   "source": [
    "root1 = fsolve(eqn, (1, 1))"
   ]
  },
  {
   "cell_type": "code",
   "execution_count": 18,
   "metadata": {},
   "outputs": [],
   "source": [
    "root2 = fsolve(eqn, (-1, 1))"
   ]
  },
  {
   "cell_type": "code",
   "execution_count": 19,
   "metadata": {},
   "outputs": [],
   "source": [
    "root3 = fsolve(eqn, (2, 0))"
   ]
  },
  {
   "cell_type": "code",
   "execution_count": 20,
   "metadata": {},
   "outputs": [],
   "source": [
    "dic_roots = {\"root1\": root1,\n",
    "             \"root2\": root2,\n",
    "             \"root3\": root3}"
   ]
  },
  {
   "cell_type": "markdown",
   "metadata": {},
   "source": [
    "```{margin}\n",
    "\n",
    "Obsérvese que los puntos `root1`, `root2`, `root3` satisfacen la relación $x_2 = -x_1^2$. \n",
    "\n",
    "```\n"
   ]
  },
  {
   "cell_type": "code",
   "execution_count": 21,
   "metadata": {},
   "outputs": [
    {
     "name": "stdout",
     "output_type": "stream",
     "text": [
      "   root1  root2  root3\n",
      "0    1.0   -1.0    2.0\n",
      "1   -1.0   -1.0   -4.0\n"
     ]
    }
   ],
   "source": [
    "print(pd.DataFrame(dic_roots))"
   ]
  },
  {
   "cell_type": "markdown",
   "metadata": {},
   "source": [
    "Al evaluar el gradiente en cada punto obtenemos cero (o cercano a cero):"
   ]
  },
  {
   "cell_type": "code",
   "execution_count": 22,
   "metadata": {},
   "outputs": [],
   "source": [
    "gf_eval = lambda x: np.array([partial_derivative.subs({\"x1\": x[0], \n",
    "                                                       \"x2\": x[1]}) for partial_derivative in gf],\n",
    "                             dtype=float)"
   ]
  },
  {
   "cell_type": "code",
   "execution_count": 23,
   "metadata": {},
   "outputs": [],
   "source": [
    "dic = {\"root1\": gf_eval(root1),\n",
    "       \"root2\": gf_eval(root2),\n",
    "       \"root3\": gf_eval(root3)}"
   ]
  },
  {
   "cell_type": "markdown",
   "metadata": {},
   "source": [
    "```{margin}\n",
    "\n",
    "Los puntos `root1`, `root2` y `root3` resuelven la ecuación no lineal $\\nabla f(x) = 0$ .\n",
    "\n",
    "```"
   ]
  },
  {
   "cell_type": "code",
   "execution_count": 24,
   "metadata": {},
   "outputs": [
    {
     "name": "stdout",
     "output_type": "stream",
     "text": [
      "   root1  root2  root3\n",
      "0    0.0    0.0    0.0\n",
      "1    0.0   -0.0    0.0\n"
     ]
    }
   ],
   "source": [
    "print(pd.DataFrame(dic).round(3))"
   ]
  },
  {
   "cell_type": "markdown",
   "metadata": {},
   "source": [
    "**¿Cómo podemos identificar si son mínimos? ...** usamos la Hessiana de $f_o$"
   ]
  },
  {
   "cell_type": "code",
   "execution_count": 25,
   "metadata": {},
   "outputs": [],
   "source": [
    "Hf = derive_by_array(gf, (x1, x2))"
   ]
  },
  {
   "cell_type": "code",
   "execution_count": 26,
   "metadata": {},
   "outputs": [
    {
     "name": "stdout",
     "output_type": "stream",
     "text": [
      "⎡     2             ⎤\n",
      "⎢12⋅x₁  + 4⋅x₂  4⋅x₁⎥\n",
      "⎢                   ⎥\n",
      "⎣    4⋅x₁        2  ⎦\n"
     ]
    }
   ],
   "source": [
    "sympy.pprint(Hf)"
   ]
  },
  {
   "cell_type": "markdown",
   "metadata": {},
   "source": [
    "y revisamos eigenvalores de la Hessiana evaluada en los puntos `root1`, `root2`, `root3`"
   ]
  },
  {
   "cell_type": "code",
   "execution_count": 27,
   "metadata": {},
   "outputs": [],
   "source": [
    "Hf_eval = lambda x: np.array([second_partial_derivative.subs({\"x1\": x[0], \n",
    "                                                              \"x2\": x[1]}) for second_partial_derivative in Hf],\n",
    "                             dtype=float)"
   ]
  },
  {
   "cell_type": "code",
   "execution_count": 28,
   "metadata": {},
   "outputs": [],
   "source": [
    "Hf_root1 = Hf_eval(root1)\n",
    "Hf_root2 = Hf_eval(root2)\n",
    "Hf_root3 = Hf_eval(root3)"
   ]
  },
  {
   "cell_type": "markdown",
   "metadata": {},
   "source": [
    "```{margin}\n",
    "\n",
    "La Hessiana en `root1` es semidefinida positiva por lo que no podemos concluir que sea mínimo local de $f$.\n",
    "\n",
    "```"
   ]
  },
  {
   "cell_type": "code",
   "execution_count": 29,
   "metadata": {},
   "outputs": [
    {
     "name": "stdout",
     "output_type": "stream",
     "text": [
      "[10.  0.]\n"
     ]
    }
   ],
   "source": [
    "print(np.linalg.eigvals(Hf_root1))"
   ]
  },
  {
   "cell_type": "markdown",
   "metadata": {},
   "source": [
    "```{margin}\n",
    "\n",
    "La Hessiana en `root2` es semidefinida positiva por lo que no podemos concluir que sea mínimo local de $f$.\n",
    "\n",
    "```"
   ]
  },
  {
   "cell_type": "code",
   "execution_count": 30,
   "metadata": {},
   "outputs": [
    {
     "name": "stdout",
     "output_type": "stream",
     "text": [
      "[10. -0.]\n"
     ]
    }
   ],
   "source": [
    "print(np.linalg.eigvals(Hf_root2))"
   ]
  },
  {
   "cell_type": "markdown",
   "metadata": {},
   "source": [
    "```{margin}\n",
    "\n",
    "La Hessiana en `root3` es semidefinida positiva por lo que no podemos concluir que sea mínimo local de $f$.\n",
    "\n",
    "```"
   ]
  },
  {
   "cell_type": "code",
   "execution_count": 31,
   "metadata": {},
   "outputs": [
    {
     "name": "stdout",
     "output_type": "stream",
     "text": [
      "[34.  0.]\n"
     ]
    }
   ],
   "source": [
    "print(np.linalg.eigvals(Hf_root3))"
   ]
  },
  {
   "cell_type": "markdown",
   "metadata": {},
   "source": [
    "Tenemos un criterio para $2$ dimensiones:"
   ]
  },
  {
   "cell_type": "markdown",
   "metadata": {},
   "source": [
    "```{admonition} Comentario\n",
    "\n",
    "Sea $f \\in \\mathcal{C}^2(\\text{intdom}f)$, $\\det(\\nabla^2 f(x))$ determinante de la Hessiana y $x \\in \\mathbb{R}^2$ un punto crítico o estacionario de $f$:\n",
    "\n",
    "* Si $\\frac{\\partial^2f(x)}{\\partial x_1^2} < 0$ y $\\det(\\nabla^2 f(x)) >0$ entonces $f$ tiene un **máximo local** en $x$.\n",
    "\n",
    "* Si $\\frac{\\partial^2f(x)}{\\partial x_1^2} > 0$ y $\\det(\\nabla^2 f(x)) >0$ entonces $f$ tiene un **mínimo local** en $x$.\n",
    "\n",
    "* Si $\\det(\\nabla^2 f(x)) < 0$ entonces $f$ tiene un **punto silla o [*saddle point*](https://en.wikipedia.org/wiki/Saddle_point)** en $x$.\n",
    "\n",
    "* Si $\\det(\\nabla^2 f(x)) = 0$ no podemos concluir si $x$ es extremo.\n",
    "\n",
    "```"
   ]
  },
  {
   "cell_type": "markdown",
   "metadata": {},
   "source": [
    "```{admonition} Observaciones\n",
    ":class: tip\n",
    "\n",
    "* Al determinante de la Hessiana de $f$ se le nombra **Hessiano** de $f$.\n",
    "\n",
    "* Lo anterior es un caso particular de los resultados descritos en {ref}`sobre puntos críticos <SPCRITICOS>`.\n",
    "\n",
    "```"
   ]
  },
  {
   "cell_type": "markdown",
   "metadata": {},
   "source": [
    "En el ejemplo el Hessiano es:"
   ]
  },
  {
   "cell_type": "code",
   "execution_count": 32,
   "metadata": {},
   "outputs": [
    {
     "name": "stdout",
     "output_type": "stream",
     "text": [
      "    2       \n",
      "8⋅x₁  + 8⋅x₂\n"
     ]
    }
   ],
   "source": [
    "sympy.pprint(sympy.Matrix(Hf).det())"
   ]
  },
  {
   "cell_type": "markdown",
   "metadata": {},
   "source": [
    "```{margin}\n",
    "\n",
    "Los tres puntos `root1`, `root2` y `root3` satisfacen $x_2 = -x_1^2$.\n",
    "\n",
    "```"
   ]
  },
  {
   "cell_type": "markdown",
   "metadata": {},
   "source": [
    "El cual se anula justo en los puntos que cumplen: $x_2 = -x_1^2$"
   ]
  },
  {
   "cell_type": "markdown",
   "metadata": {},
   "source": [
    "$8x_1^2 + 8x_2 = 8 x_1^2 + 8(-x_1^2) = 0$"
   ]
  },
  {
   "cell_type": "markdown",
   "metadata": {},
   "source": [
    "por lo que no podemos concluir..."
   ]
  },
  {
   "cell_type": "markdown",
   "metadata": {},
   "source": [
    "Usemos una función de *SciPy* [scipy.optimize.fmin](https://docs.scipy.org/doc/scipy/reference/generated/scipy.optimize.fmin.html)"
   ]
  },
  {
   "cell_type": "markdown",
   "metadata": {},
   "source": [
    "```{margin}\n",
    "\n",
    "Elegimos un punto inicial.\n",
    "\n",
    "```"
   ]
  },
  {
   "cell_type": "code",
   "execution_count": 33,
   "metadata": {},
   "outputs": [
    {
     "name": "stdout",
     "output_type": "stream",
     "text": [
      "Optimization terminated successfully.\n",
      "         Current function value: 0.000000\n",
      "         Iterations: 56\n",
      "         Function evaluations: 110\n"
     ]
    }
   ],
   "source": [
    "res_fmin = fmin(fo_numpy, [1,1])"
   ]
  },
  {
   "cell_type": "markdown",
   "metadata": {},
   "source": [
    "```{margin}\n",
    "\n",
    "El punto `res_fmin` satisface $\\nabla f(x) = 0$ y la relación $x_2 = -x_1^2$.\n",
    "\n",
    "```"
   ]
  },
  {
   "cell_type": "code",
   "execution_count": 34,
   "metadata": {},
   "outputs": [
    {
     "name": "stdout",
     "output_type": "stream",
     "text": [
      "[-0.063 -0.004]\n"
     ]
    }
   ],
   "source": [
    "print(res_fmin)"
   ]
  },
  {
   "cell_type": "code",
   "execution_count": 35,
   "metadata": {},
   "outputs": [
    {
     "name": "stdout",
     "output_type": "stream",
     "text": [
      "[-0.  0.]\n"
     ]
    }
   ],
   "source": [
    "print(gf_eval(res_fmin))"
   ]
  },
  {
   "cell_type": "code",
   "execution_count": 36,
   "metadata": {},
   "outputs": [],
   "source": [
    "Hf_fmin = Hf_eval(res_fmin)"
   ]
  },
  {
   "cell_type": "markdown",
   "metadata": {},
   "source": [
    "```{margin}\n",
    "\n",
    "La Hessiana en `res_fmin` es semidefinida positiva por lo que no podemos concluir que sea mínimo local de $f$.\n",
    "\n",
    "```"
   ]
  },
  {
   "cell_type": "code",
   "execution_count": 37,
   "metadata": {},
   "outputs": [
    {
     "name": "stdout",
     "output_type": "stream",
     "text": [
      "[0.    2.032]\n"
     ]
    }
   ],
   "source": [
    "print(np.linalg.eigvals(Hf_fmin))"
   ]
  },
  {
   "cell_type": "markdown",
   "metadata": {},
   "source": [
    "Grafiquemos los puntos que cumplen $x_2=-x_1^2$"
   ]
  },
  {
   "cell_type": "code",
   "execution_count": 38,
   "metadata": {},
   "outputs": [],
   "source": [
    "x1_plot,x2_plot = np.meshgrid(np.linspace(-2,2,100), np.linspace(-4,2,100))\n",
    "z_plot = x1_plot**4 + 2*x1_plot**2*x2_plot + x2_plot**2"
   ]
  },
  {
   "cell_type": "code",
   "execution_count": 39,
   "metadata": {},
   "outputs": [],
   "source": [
    "point1 = (root1[0], root1[1], fo_numpy(root1))\n",
    "point2 = (root2[0], root2[1], fo_numpy(root2))\n",
    "point3 = (root3[0], root3[1], fo_numpy(root3))\n",
    "#another point:\n",
    "point4 = (-2, -4, 0)"
   ]
  },
  {
   "cell_type": "code",
   "execution_count": 40,
   "metadata": {},
   "outputs": [],
   "source": [
    "x1_plot2 = np.linspace(-2,2,100)"
   ]
  },
  {
   "cell_type": "code",
   "execution_count": 41,
   "metadata": {},
   "outputs": [
    {
     "data": {
      "image/png": "[encoded data removed]",
      "text/plain": [
       "<Figure size 432x288 with 1 Axes>"
      ]
     },
     "metadata": {
      "needs_background": "light"
     },
     "output_type": "display_data"
    }
   ],
   "source": [
    "# Create the figure\n",
    "fig = plt.figure()\n",
    "# Add an axes\n",
    "ax = fig.gca(projection='3d')\n",
    "ax.plot_surface(x1_plot, x2_plot, z_plot, alpha=0.2)\n",
    "ax.scatter(point[0], point[1], point[2], color='green')\n",
    "ax.scatter(point1[0], point1[1], point1[2], color='green')\n",
    "ax.scatter(point2[0], point2[1], point2[2], color='green')\n",
    "ax.scatter(point3[0], point3[1], point3[2], color='green')\n",
    "ax.scatter(point4[0], point4[1], point4[2], color='green')\n",
    "ax.plot(x1_plot2, -x1_plot2**2, color=\"red\")\n",
    "plt.title(\"$f_o(x) = x_1^4+2x_1^2x_2+x_2^2$\")\n",
    "plt.show()"
   ]
  },
  {
   "cell_type": "markdown",
   "metadata": {},
   "source": [
    "Evaluemos en un rango más amplio la función objetivo $f_o$ y realicemos una gráfica"
   ]
  },
  {
   "cell_type": "code",
   "execution_count": 42,
   "metadata": {},
   "outputs": [],
   "source": [
    "x1_plot,x2_plot = np.meshgrid(np.linspace(-100,100,100), np.linspace(-100,100,100))\n",
    "z_plot = x1_plot**4 + 2*x1_plot**2*x2_plot + x2_plot**2"
   ]
  },
  {
   "cell_type": "code",
   "execution_count": 43,
   "metadata": {},
   "outputs": [
    {
     "data": {
      "image/png": "[encoded data removed]",
      "text/plain": [
       "<Figure size 432x288 with 1 Axes>"
      ]
     },
     "metadata": {
      "needs_background": "light"
     },
     "output_type": "display_data"
    }
   ],
   "source": [
    "# Create the figure\n",
    "fig = plt.figure()\n",
    "# Add an axes\n",
    "ax = fig.gca(projection='3d')\n",
    "ax.plot_surface(x1_plot, x2_plot, z_plot, alpha=0.2)\n",
    "plt.title(\"$f_o(x) = x_1^4+2x_1^2x_2+x_2^2$\")\n",
    "plt.show()"
   ]
  },
  {
   "cell_type": "code",
   "execution_count": 44,
   "metadata": {},
   "outputs": [
    {
     "data": {
      "text/plain": [
       "0"
      ]
     },
     "execution_count": 44,
     "metadata": {},
     "output_type": "execute_result"
    }
   ],
   "source": [
    "np.sum(z_plot < 0)"
   ]
  },
  {
   "cell_type": "markdown",
   "metadata": {},
   "source": [
    "**El mínimo valor de $f_o$ es $0$ por lo que tenemos un conjunto de mínimos dados por la curva $x_2=-x_1^2$.**"
   ]
  },
  {
   "cell_type": "markdown",
   "metadata": {},
   "source": [
    "### ¿Por qué fue un poco complicado determinar el conjunto de mínimos de $f_o$?"
   ]
  },
  {
   "cell_type": "markdown",
   "metadata": {},
   "source": [
    "**$f_o(x)=x_1^4+2x_1^2x_2+x_2^2$ no es una función convexa en su $\\text{dom}f_o$**, $\\mathbb{R}^2$, esto es, no satisface la desigualdad:"
   ]
  },
  {
   "cell_type": "markdown",
   "metadata": {},
   "source": [
    "$$f_o(\\theta x + (1-\\theta) y) \\leq \\theta f_o(x) + (1-\\theta)f_o(y)$$\n",
    "\n",
    "$\\forall x,y$ en su dominio y $\\forall \\theta \\in [0,1]$."
   ]
  },
  {
   "cell_type": "code",
   "execution_count": 45,
   "metadata": {},
   "outputs": [],
   "source": [
    "pointx = np.array([-.5, -1.5])\n",
    "pointy = np.array([.5, -1.5])\n",
    "theta = 1/2"
   ]
  },
  {
   "cell_type": "code",
   "execution_count": 46,
   "metadata": {},
   "outputs": [],
   "source": [
    "point_convex_combination = theta*pointx + (1-theta)*pointy"
   ]
  },
  {
   "cell_type": "code",
   "execution_count": 47,
   "metadata": {},
   "outputs": [
    {
     "name": "stdout",
     "output_type": "stream",
     "text": [
      "2.25\n"
     ]
    }
   ],
   "source": [
    "print(fo_numpy(point_convex_combination))"
   ]
  },
  {
   "cell_type": "markdown",
   "metadata": {},
   "source": [
    "```{margin}\n",
    "\n",
    "Se tiene $f(\\theta x + (1-\\theta)y) > \\theta f(x) + (1-\\theta)f(y)$ con la elección $\\theta=0.5$, $x=[-0.5, -1.5]^T$, $y=[0.5, -1.5]^T$ lo que indica que $f$ no es convexa sino cóncava para esta elección de puntos $x,y$.\n",
    "\n",
    "```"
   ]
  },
  {
   "cell_type": "code",
   "execution_count": 48,
   "metadata": {},
   "outputs": [
    {
     "name": "stdout",
     "output_type": "stream",
     "text": [
      "1.5625\n"
     ]
    }
   ],
   "source": [
    "print(theta*fo_numpy(pointx) + (1-theta)*fo_numpy(pointy))"
   ]
  },
  {
   "cell_type": "markdown",
   "metadata": {},
   "source": [
    "```{admonition} Observación\n",
    ":class: tip\n",
    "\n",
    "Recordar que si $f_o$ es una función convexa, el gradiente de $f_o$ nos ayuda a determinar si un punto es un mínimo local de forma necesaria y suficiente.\n",
    "\n",
    "```"
   ]
  },
  {
   "cell_type": "markdown",
   "metadata": {},
   "source": [
    "```{admonition} Ejercicio\n",
    ":class: tip\n",
    "\n",
    "Realizar un análisis similar al anterior para la función $f_o(x) = x_2^4+2x_2^2x_1^2+x_1^2$.\n",
    "\n",
    "```"
   ]
  },
  {
   "cell_type": "markdown",
   "metadata": {},
   "source": [
    "### Ejemplo importante"
   ]
  },
  {
   "cell_type": "markdown",
   "metadata": {},
   "source": [
    "$$\\displaystyle \\min_{x \\in \\mathbb{R}^2} \\frac{1}{2}x^TPx+q^Tx+r$$"
   ]
  },
  {
   "cell_type": "markdown",
   "metadata": {},
   "source": [
    "donde: $P=\\left [\\begin{array}{cc} 5 & 4\\\\ 4 & 5 \\end{array} \\right ]$, $q=\\left [\\begin{array}{c} -1\\\\ 1 \\end{array} \\right]$, $r=3$.\n"
   ]
  },
  {
   "cell_type": "markdown",
   "metadata": {},
   "source": [
    "Haciendo las multiplicaciones de matriz-vector y productos punto\n"
   ]
  },
  {
   "cell_type": "code",
   "execution_count": 49,
   "metadata": {},
   "outputs": [],
   "source": [
    "P = sympy.Matrix([[5, 4],\n",
    "                  [4, 5]])"
   ]
  },
  {
   "cell_type": "code",
   "execution_count": 50,
   "metadata": {},
   "outputs": [],
   "source": [
    "x = sympy.Matrix(sympy.symbols(\"x1, x2\"))"
   ]
  },
  {
   "cell_type": "code",
   "execution_count": 51,
   "metadata": {},
   "outputs": [],
   "source": [
    "q = sympy.Matrix([-1,1])\n"
   ]
  },
  {
   "cell_type": "code",
   "execution_count": 52,
   "metadata": {},
   "outputs": [],
   "source": [
    "fo_sympy = (1/2*x.T*P*x + q.T*x)[0] + 3"
   ]
  },
  {
   "cell_type": "code",
   "execution_count": 53,
   "metadata": {},
   "outputs": [
    {
     "name": "stdout",
     "output_type": "stream",
     "text": [
      "      2                          2         \n",
      "2.5⋅x₁  + 4.0⋅x₁⋅x₂ - x₁ + 2.5⋅x₂  + x₂ + 3\n"
     ]
    }
   ],
   "source": [
    "sympy.pprint(fo_sympy.expand())"
   ]
  },
  {
   "cell_type": "markdown",
   "metadata": {},
   "source": [
    "se **reescribe** el problema de optimización como:"
   ]
  },
  {
   "cell_type": "markdown",
   "metadata": {},
   "source": [
    "$$\\displaystyle \\min_{x \\in \\mathbb{R}^2} \\frac{5}{2}x_1^2 + \\frac{5}{2}x_2^2+4x_1x_2 -x_1 + x_2+3$$ "
   ]
  },
  {
   "cell_type": "markdown",
   "metadata": {},
   "source": [
    "La función objetivo es una **función estrictamente convexa** en $\\mathbb{R}^2$ (de hecho **fuertemente convexa**) pues:"
   ]
  },
  {
   "cell_type": "markdown",
   "metadata": {},
   "source": [
    "```{margin}\n",
    "\n",
    "Los eigenvalores de $P$ son $1$ y $9$ de multiplicidad simple cada uno.\n",
    "\n",
    "```"
   ]
  },
  {
   "cell_type": "code",
   "execution_count": 54,
   "metadata": {},
   "outputs": [
    {
     "name": "stdout",
     "output_type": "stream",
     "text": [
      "{1: 1, 9: 1}\n"
     ]
    }
   ],
   "source": [
    "sympy.pprint(P.eigenvals())"
   ]
  },
  {
   "cell_type": "markdown",
   "metadata": {},
   "source": [
    "y la Hessiana de $f_o$ es:"
   ]
  },
  {
   "cell_type": "code",
   "execution_count": 55,
   "metadata": {},
   "outputs": [
    {
     "name": "stdout",
     "output_type": "stream",
     "text": [
      "⎡5.0  4.0⎤\n",
      "⎢        ⎥\n",
      "⎣4.0  5.0⎦\n"
     ]
    }
   ],
   "source": [
    "sympy.pprint(derive_by_array(derive_by_array(fo_sympy, (x1,x2)),\n",
    "                             (x1,x2))\n",
    "             )"
   ]
  },
  {
   "cell_type": "markdown",
   "metadata": {},
   "source": [
    "El gradiente de $f_o$ es:"
   ]
  },
  {
   "cell_type": "code",
   "execution_count": 56,
   "metadata": {},
   "outputs": [
    {
     "name": "stdout",
     "output_type": "stream",
     "text": [
      "⎡5.0⋅x₁ + 4.0⋅x₂ - 1⎤\n",
      "⎢                   ⎥\n",
      "⎣4.0⋅x₁ + 5.0⋅x₂ + 1⎦\n"
     ]
    }
   ],
   "source": [
    "sympy.pprint(fo_sympy.diff(x))"
   ]
  },
  {
   "cell_type": "markdown",
   "metadata": {},
   "source": [
    "El mínimo debe satisfacer la ecuación **lineal** con dos variables y dos ecuaciones"
   ]
  },
  {
   "cell_type": "markdown",
   "metadata": {},
   "source": [
    "\n",
    "$$\\nabla f_o(x) = Px +q =\\left [ \\begin{array}{cc}\n",
    "5 & 4\\\\\n",
    "4 & 5\n",
    "\\end{array}\n",
    "\\right ]\n",
    "\\left [ \\begin{array}{c}\n",
    "x_1\\\\\n",
    "x_2\n",
    "\\end{array}\n",
    "\\right ]\n",
    "+ \\left [ \\begin{array}{c}\n",
    "-1\\\\\n",
    "1\n",
    "\\end{array}\n",
    "\\right ]=\n",
    "\\left [ \\begin{array}{cc}\n",
    "5x_1+4x_2-1\\\\\n",
    "4x_1+5x_2+1\n",
    "\\end{array}\n",
    "\\right ]\n",
    "=0\n",
    "$$"
   ]
  },
  {
   "cell_type": "markdown",
   "metadata": {},
   "source": [
    "```{admonition} Observación\n",
    ":class: tip\n",
    "\n",
    "En algunos casos especiales es posible resolver la ecuación no lineal $\\nabla f_o(x) = 0$ para $x$ de forma analítica o cerrada. Este es el caso de este ejemplo cuya solución está dada por $x^* = -P^{-1}q$.\n",
    "\n",
    "```"
   ]
  },
  {
   "cell_type": "code",
   "execution_count": 57,
   "metadata": {},
   "outputs": [
    {
     "name": "stdout",
     "output_type": "stream",
     "text": [
      "[ 1. -1.]\n"
     ]
    }
   ],
   "source": [
    "P=np.array([[5,4],[4,5]])\n",
    "q=np.array([-1,1])\n",
    "print(np.linalg.solve(P,-q))"
   ]
  },
  {
   "cell_type": "markdown",
   "metadata": {},
   "source": [
    "El problema anterior también lo podemos resolver con [cvxpy](https://github.com/cvxgrp/cvxpy) pues es un **problema convexo** sin restricciones."
   ]
  },
  {
   "cell_type": "code",
   "execution_count": 58,
   "metadata": {},
   "outputs": [],
   "source": [
    "n = 2 #number of variables\n",
    "x = cp.Variable(n) #optimization variable\n",
    "fo_cvxpy = (1/2)*cp.quad_form(x, P) + q.T @ x #objective function"
   ]
  },
  {
   "cell_type": "code",
   "execution_count": 59,
   "metadata": {},
   "outputs": [],
   "source": [
    "opt_objective = cp.Minimize(fo_cvxpy) #optimization objective"
   ]
  },
  {
   "cell_type": "code",
   "execution_count": 60,
   "metadata": {},
   "outputs": [],
   "source": [
    "prob = cp.Problem(opt_objective) #optimization problem"
   ]
  },
  {
   "cell_type": "code",
   "execution_count": 61,
   "metadata": {},
   "outputs": [
    {
     "name": "stdout",
     "output_type": "stream",
     "text": [
      "-0.9999999999999993\n"
     ]
    }
   ],
   "source": [
    "print(prob.solve())"
   ]
  },
  {
   "cell_type": "code",
   "execution_count": 62,
   "metadata": {},
   "outputs": [
    {
     "name": "stdout",
     "output_type": "stream",
     "text": [
      "status: optimal\n",
      "optimal value -0.9999999999999993\n",
      "optimal var [ 1. -1.]\n"
     ]
    }
   ],
   "source": [
    "print(\"status:\", prob.status)\n",
    "print(\"optimal value\", prob.value)\n",
    "print(\"optimal var\", x.value)"
   ]
  },
  {
   "cell_type": "markdown",
   "metadata": {},
   "source": [
    "````{admonition} Observaciones\n",
    ":class: tip\n",
    "\n",
    "* El paquete cvxpy requiere que se especifique el problema de optimización a resolver siguiendo reglas establecidas en [Disciplined Convex Programming](https://dcp.stanford.edu/). En el ejemplo anterior resulta en un error si se ejecutan las líneas siguientes:\n",
    "\n",
    "```python\n",
    "x1 = cp.Variable()\n",
    "x2 = cp.Variable()\n",
    "fo = 2.5*x1**2 + 4*x1*x2 - x1 + 2.5*x2**2 + x2 + 3\n",
    "\n",
    "obj = cp.Minimize(fo)\n",
    "\n",
    "prob = cp.Problem(obj)\n",
    "\n",
    "prob.solve()\n",
    "```\n",
    "\n",
    "La última línea produce\n",
    "\n",
    "```\n",
    "Problem does not follow DCP rules. Specifically: The objective is not DCP.\n",
    "```\n",
    "\n",
    "* En la liga de [ejemplos](https://www.cvxpy.org/examples/index.html) hay muchos problemas típicos en optimización convexa y en [Atomic Functions](https://www.cvxpy.org/tutorial/functions/index.html) ejemplos de funciones atómicas que pueden aplicarse a expresiones de CVXPY. \n",
    "\n",
    "````"
   ]
  },
  {
   "cell_type": "markdown",
   "metadata": {},
   "source": [
    "```{admonition} Ejercicio\n",
    ":class: tip\n",
    "\n",
    "Utilizando las herramientas (teóricas y prácticas) del ejemplo anterior, resolver el problema de optimización:\n",
    "\n",
    "$$\\min_{x \\in \\mathbb{R}^2} ||Ax-b||_2^2$$\n",
    "\n",
    "con $A=\\left [ \\begin{array}{ccc} 1 & 6 & 2.5\\\\ 1 & 2 & 8 \\\\ 1 & 10 & -1\\\\ 1 & -9 & 3\\\\ 1 & -1 & 2 \\end{array} \\right ]$, $b=\\left [ \\begin{array}{c} -1 \\\\ 0 \\\\ 2 \\\\ 3.5 \\\\ -1.7 \\end{array} \\right ]$.\n",
    "\n",
    "```"
   ]
  },
  {
   "cell_type": "markdown",
   "metadata": {},
   "source": [
    "## Métodos de descenso para funciones convexas"
   ]
  },
  {
   "cell_type": "markdown",
   "metadata": {},
   "source": [
    "Los ejemplos anteriores mostraron la importancia de la información de primer y segundo orden de la función objetivo $f_o$ y las ecuaciones no lineales para resolver el problema de optimización. El primer ejemplo utilizó las funciones [scipy.optimize.fsolve](https://docs.scipy.org/doc/scipy/reference/generated/scipy.optimize.fsolve.html#scipy.optimize.fsolve) y [scipy.optimize.fmin](https://docs.scipy.org/doc/scipy/reference/generated/scipy.optimize.fmin.html) para este propósito. Tales funciones utilizan métodos iterativos para resolver ecuaciones no lineales y aproximar un mínimo local respectivamente en un esquema que satisface:"
   ]
  },
  {
   "cell_type": "markdown",
   "metadata": {},
   "source": [
    "$$f(x^{(0)}) > f(x^{(1)}) > f(x^{(2)}) > \\cdots > f(x^{(k)}) > \\cdots$$\n",
    "\n",
    "con $x^{(0)}$ punto inicial."
   ]
  },
  {
   "cell_type": "markdown",
   "metadata": {},
   "source": [
    "En lo siguiente se asume que $f_o$ cumple $f_o \\in \\mathcal{C}^2(\\text{dom}f_o)$ y es convexa en un conjunto convexo y cerrado que contiene a $x^*$. Ver {ref}`conjunto abierto, cerrado, cerradura e interior <CACCI>` para definición de conjunto cerrado."
   ]
  },
  {
   "cell_type": "markdown",
   "metadata": {},
   "source": [
    "### Ejemplo de función objetivo convexa"
   ]
  },
  {
   "cell_type": "markdown",
   "metadata": {},
   "source": [
    "Encontrar el mínimo del siguiente problema con un **método iterativo**."
   ]
  },
  {
   "cell_type": "markdown",
   "metadata": {},
   "source": [
    "$$\\displaystyle \\min_{x \\in \\mathbb{R}^4} (x_1-2)^2+(2-x_2)^2+x_3^2+x_4^4$$"
   ]
  },
  {
   "cell_type": "code",
   "execution_count": 63,
   "metadata": {},
   "outputs": [],
   "source": [
    "x1, x2, x3, x4 = sympy.symbols(\"x1, x2, x3, x4\")"
   ]
  },
  {
   "cell_type": "code",
   "execution_count": 64,
   "metadata": {},
   "outputs": [],
   "source": [
    "fo_sympy = (x1-2)**2 + (2-x2)**2 + x3**2 + x4**4"
   ]
  },
  {
   "cell_type": "code",
   "execution_count": 65,
   "metadata": {},
   "outputs": [],
   "source": [
    "gf = derive_by_array(fo_sympy, (x1, x2, x3, x4))"
   ]
  },
  {
   "cell_type": "code",
   "execution_count": 66,
   "metadata": {},
   "outputs": [
    {
     "name": "stdout",
     "output_type": "stream",
     "text": [
      "⎡                              3⎤\n",
      "⎣2⋅x₁ - 4  2⋅x₂ - 4  2⋅x₃  4⋅x₄ ⎦\n"
     ]
    }
   ],
   "source": [
    "sympy.pprint(gf)"
   ]
  },
  {
   "cell_type": "code",
   "execution_count": 67,
   "metadata": {},
   "outputs": [],
   "source": [
    "Hf = derive_by_array(gf, (x1, x2, x3, x4))"
   ]
  },
  {
   "cell_type": "code",
   "execution_count": 68,
   "metadata": {},
   "outputs": [
    {
     "name": "stdout",
     "output_type": "stream",
     "text": [
      "⎡2  0  0    0   ⎤\n",
      "⎢               ⎥\n",
      "⎢0  2  0    0   ⎥\n",
      "⎢               ⎥\n",
      "⎢0  0  2    0   ⎥\n",
      "⎢               ⎥\n",
      "⎢              2⎥\n",
      "⎣0  0  0  12⋅x₄ ⎦\n"
     ]
    }
   ],
   "source": [
    "sympy.pprint(Hf)"
   ]
  },
  {
   "cell_type": "markdown",
   "metadata": {},
   "source": [
    "Como $f_o$ es una función convexa (de hecho **estrictamente convexa**) en su dominio $\\mathbb{R}^4$, se tiene que su óptimo se obtiene igualando y resolviendo la **ecuación no lineal** $\\nabla f_o(x) = 0$ :"
   ]
  },
  {
   "cell_type": "markdown",
   "metadata": {},
   "source": [
    "$$\\nabla f_o(x) = \n",
    "\\left[ \\begin{array}{c}\n",
    "2x_1-4 \\\\\n",
    "2x_2-4\\\\\n",
    "2x_3\\\\\n",
    "4x_4^3\n",
    "\\end{array}\n",
    "\\right]\n",
    "= 0\n",
    "$$"
   ]
  },
  {
   "cell_type": "markdown",
   "metadata": {},
   "source": [
    "El óptimo $x^* \\in \\mathbb{R}^4$ está dado por:"
   ]
  },
  {
   "cell_type": "markdown",
   "metadata": {},
   "source": [
    "$$x^*=\n",
    "\\left[ \\begin{array}{c}\n",
    "2\\\\\n",
    "2\\\\\n",
    "0\\\\\n",
    "0\n",
    "\\end{array}\n",
    "\\right]\n",
    "$$"
   ]
  },
  {
   "cell_type": "markdown",
   "metadata": {},
   "source": [
    "**¿Cómo encontramos numéricamente el óptimo con un método iterativo?**"
   ]
  },
  {
   "cell_type": "markdown",
   "metadata": {},
   "source": [
    "### Métodos de descenso"
   ]
  },
  {
   "cell_type": "markdown",
   "metadata": {},
   "source": [
    "Una gran cantidad de métodos para resolver problemas de optimización utilizan esquemas iterativos para calcular una **secuencia de minimización** de puntos $x^{(0)}, x^{(1)}, \\dots \\in \\text{dom}f_o$ con la característica $f_o(x^{(k)}) \\rightarrow p^*$ si $k \\rightarrow \\infty$. Tales métodos se conocen con el nombre de **métodos de descenso**."
   ]
  },
  {
   "cell_type": "markdown",
   "metadata": {},
   "source": [
    "```{margin}\n",
    "\n",
    "Recuérdese que si $f_o$ es fuertemente convexa en el conjunto $\\mathcal{S}$ entonces $\\nabla^2 f_o (x) \\in \\mathbb{S}_{++}$ y $\\text{cond}(\\nabla ^2 f_o(x))$ está acotado por arriba por una constante para $x \\in \\mathcal{S}$.\n",
    "\n",
    "```"
   ]
  },
  {
   "cell_type": "markdown",
   "metadata": {},
   "source": [
    "```{admonition} Definición\n",
    "\n",
    "Un método de descenso es aquel que genera la secuencia de minimización $x^{(0)}, x^{(1)}, \\dots \\in \\text{dom}f_o$ la cual cumple con la desigualdad: $f_o(x^{(k+1)}) < f_o(x^{(k)})$ excepto para $x^{(k)}$ óptimo y $f_o(x^{(k)}) \\rightarrow p^*$ si $k \\rightarrow \\infty$.\n",
    "\n",
    "```"
   ]
  },
  {
   "cell_type": "markdown",
   "metadata": {},
   "source": [
    "```{admonition} Comentario\n",
    "\n",
    "En un esquema iterativo que produce secuencias de minimización se asume:\n",
    "\n",
    "* Los puntos iniciales $x^{(0)}$ están en $\\text{dom}f_o$.\n",
    "\n",
    "* Que el conjunto $f_o(x^{(0)})$-subnivel sea cerrado pues así se garantiza que la secuencia de minimización está en el conjunto $f_o(x^{(0)})$-subnivel para todas las iteraciones.\n",
    "\n",
    "* $f_o$ fuertemente convexa en el conjunto $f_o(x^{(0)})$-subnivel para tener propiedades dadas en los {ref}`resultados que son posibles probar para funciones fuertemente convexas <RESFFUERTCON>`. \n",
    "\n",
    "```"
   ]
  },
  {
   "cell_type": "markdown",
   "metadata": {},
   "source": [
    "### Condición para que un paso o dirección de búsqueda sea de descenso"
   ]
  },
  {
   "cell_type": "markdown",
   "metadata": {},
   "source": [
    "La idea de los métodos de optimización es calcular direcciones $\\Delta x$ que sean de descenso, esto es que al movernos de un punto a otro en tal dirección, el valor de $f_o$ decrece:"
   ]
  },
  {
   "cell_type": "markdown",
   "metadata": {},
   "source": [
    "<img src=\"https://dl.dropboxusercontent.com/s/25bmebx645howjw/direccion_de_descenso_de_Newton_1d.png?dl=0\" heigth=\"600\" width=\"600\">"
   ]
  },
  {
   "cell_type": "markdown",
   "metadata": {},
   "source": [
    "Tenemos muchas direcciones de descenso (de hecho infinitas) una que se muestra en el dibujo anterior, en el que $f = f_o$, $x^*$ es el óptimo de $f$ y $\\hat{f}$ es un **modelo cuadrático**, es la dirección de descenso de Newton $\\Delta x_{nt}$. Del punto $(x,f(x))$ nos debemos mover al punto $(x+\\Delta x_{nt}, f(x + \\Delta x_{nt}))$ para llegar al óptimo. En tal dirección $f$ decrece: $f(x+\\Delta x_{nt}) < f(x)$."
   ]
  },
  {
   "cell_type": "markdown",
   "metadata": {},
   "source": [
    "Tenemos una condición para garantizar que una dirección sea de descenso. Geométricamente las direcciones de descenso forman un **ángulo agudo** con $-\\nabla f_o(x^{(k)})$:"
   ]
  },
  {
   "cell_type": "markdown",
   "metadata": {},
   "source": [
    "<img src=\"https://dl.dropboxusercontent.com/s/o3hypqiociye9jv/zone-for-descent-directions.png?dl=0\" heigth=\"350\" width=\"350\">"
   ]
  },
  {
   "cell_type": "markdown",
   "metadata": {},
   "source": [
    "En el dibujo $f = f_o$."
   ]
  },
  {
   "cell_type": "markdown",
   "metadata": {},
   "source": [
    "```{admonition} Definición\n",
    "\n",
    "Si el paso o dirección de búsqueda satisface la condición: $\\nabla f_o^T(x^{(k)})\\Delta x^{(k)} < 0$ se le nombra **dirección de descenso**. \n",
    "\n",
    "```"
   ]
  },
  {
   "cell_type": "markdown",
   "metadata": {},
   "source": [
    "```{admonition} Comentario\n",
    "\n",
    "* La condición anterior funciona pues por el teorema de Taylor a primer order, ver {ref}`teorema de Taylor para una función $f: \\mathbb{R}^n \\rightarrow \\mathbb{R}$ <TEOTAYLORNVARIABLES>`, se tiene:\n",
    "\n",
    "$$f(x + \\Delta x) = f(x) + \\nabla f(x) ^T \\Delta x$$\n",
    "\n",
    "y si $\\Delta x$ es dirección de descenso entonces: $f(x) + \\nabla f(x) ^T \\Delta x < f(x)$.\n",
    "\n",
    "\n",
    "* Ejemplos de direcciones de descenso: \n",
    "\n",
    "    * $\\Delta x = - \\nabla f_o \\left (x^{(k)} \\right )$ que da lugar al método de descenso en gradiente para $x^{(k)}$ no óptimo.\n",
    "    \n",
    "    * $\\Delta x = - \\nabla^2 f_o \\left (x^{(k)} \\right )^{-1} \\nabla f_o\\left(x^{(k)} \\right)$ que da lugar al método de descenso por Newton con $\\nabla^2 f_o \\left (x^{(k)} \\right ) \\in \\mathbb{S}_{++}$ y $x^{(k)}$ no óptimo.\n",
    "\n",
    "```"
   ]
  },
  {
   "cell_type": "markdown",
   "metadata": {},
   "source": [
    "### Continuando con el ejemplo anterior"
   ]
  },
  {
   "cell_type": "markdown",
   "metadata": {},
   "source": [
    "Encontrar el mínimo del siguiente problema."
   ]
  },
  {
   "cell_type": "markdown",
   "metadata": {},
   "source": [
    "$$\\displaystyle \\min_{x \\in \\mathbb{R}^4} (x_1-2)^2+(2-x_2)^2+x_3^2+x_4^4$$"
   ]
  },
  {
   "cell_type": "markdown",
   "metadata": {},
   "source": [
    "**Opción descenso en gradiente**: usando el algoritmo con dirección de descenso el gradiente de $f_o$ sin búsqueda de línea se tiene: \n",
    "\n",
    "$$x^{(k+1)} = x^{(k)} - \\nabla f_o(x^{(k)})$$"
   ]
  },
  {
   "cell_type": "markdown",
   "metadata": {},
   "source": [
    "Tomando $x^{(0)} = \\left [ \\begin{array}{c} 5 \\\\ 5 \\\\1 \\\\ 0 \\\\ \\end{array} \\right ]$ como punto inicial:"
   ]
  },
  {
   "cell_type": "code",
   "execution_count": 69,
   "metadata": {},
   "outputs": [],
   "source": [
    "x_0 = np.array([5,5,1,0])"
   ]
  },
  {
   "cell_type": "code",
   "execution_count": 70,
   "metadata": {},
   "outputs": [],
   "source": [
    "gf_eval = lambda x: np.array([partial_derivative.subs({\"x1\": x[0], \n",
    "                                              \"x2\": x[1],\n",
    "                                              \"x3\": x[2],\n",
    "                                              \"x4\": x[3]}) for partial_derivative in gf],\n",
    "                              dtype=float)"
   ]
  },
  {
   "cell_type": "code",
   "execution_count": 71,
   "metadata": {},
   "outputs": [],
   "source": [
    "x_1 = x_0 - gf_eval(x_0)"
   ]
  },
  {
   "cell_type": "code",
   "execution_count": 72,
   "metadata": {},
   "outputs": [
    {
     "name": "stdout",
     "output_type": "stream",
     "text": [
      "[-1. -1. -1.  0.]\n"
     ]
    }
   ],
   "source": [
    "print(x_1)"
   ]
  },
  {
   "cell_type": "code",
   "execution_count": 73,
   "metadata": {},
   "outputs": [],
   "source": [
    "x_2 = x_1 - gf_eval(x_1)"
   ]
  },
  {
   "cell_type": "code",
   "execution_count": 74,
   "metadata": {},
   "outputs": [
    {
     "name": "stdout",
     "output_type": "stream",
     "text": [
      "[5. 5. 1. 0.]\n"
     ]
    }
   ],
   "source": [
    "print(x_2)"
   ]
  },
  {
   "cell_type": "code",
   "execution_count": 75,
   "metadata": {},
   "outputs": [],
   "source": [
    "x_3 = x_2 - gf_eval(x_2)"
   ]
  },
  {
   "cell_type": "code",
   "execution_count": 76,
   "metadata": {},
   "outputs": [
    {
     "name": "stdout",
     "output_type": "stream",
     "text": [
      "[-1. -1. -1.  0.]\n"
     ]
    }
   ],
   "source": [
    "print(x_3)"
   ]
  },
  {
   "cell_type": "code",
   "execution_count": 77,
   "metadata": {},
   "outputs": [],
   "source": [
    "x_4 = x_3 - gf_eval(x_3)"
   ]
  },
  {
   "cell_type": "code",
   "execution_count": 78,
   "metadata": {},
   "outputs": [
    {
     "name": "stdout",
     "output_type": "stream",
     "text": [
      "[5. 5. 1. 0.]\n"
     ]
    }
   ],
   "source": [
    "print(x_4)"
   ]
  },
  {
   "cell_type": "markdown",
   "metadata": {},
   "source": [
    "y aquí nos quedaremos ciclando hasta el infinito..."
   ]
  },
  {
   "cell_type": "markdown",
   "metadata": {},
   "source": [
    "**Opción descenso por dirección de Newton:** usando el algoritmo con dirección de descenso de Newton de $f_o$ sin búsqueda de línea se tiene: "
   ]
  },
  {
   "cell_type": "markdown",
   "metadata": {},
   "source": [
    "$$x^{(k+1)} = x^{(k)} - \\nabla^2 f_o \\left (x^{(k)} \\right )^{-1} \\nabla f_o\\left(x^{(k)} \\right)$$"
   ]
  },
  {
   "cell_type": "markdown",
   "metadata": {},
   "source": [
    "Tomando $x^{(0)} = \\left [ \\begin{array}{c} 5 \\\\ 5 \\\\1 \\\\ 0 \\\\ \\end{array} \\right ]$ como punto inicial y **no calculando la inversa** de la Hessiana pues en su lugar resolvemos el sistema de ecuaciones lineales $\\nabla ^2 f_o \\left ( x^{(k)} \\right ) \\Delta x = - \\nabla f_o \\left(x^{(k)}\\right )$ resulta"
   ]
  },
  {
   "cell_type": "code",
   "execution_count": 79,
   "metadata": {},
   "outputs": [],
   "source": [
    "x_0 = np.array([5,5,1,0])"
   ]
  },
  {
   "cell_type": "code",
   "execution_count": 80,
   "metadata": {},
   "outputs": [],
   "source": [
    "Hf_eval = lambda x: np.array([second_partial_derivative.subs({\"x1\": x[0], \n",
    "                                                              \"x2\": x[1],\n",
    "                                                              \"x3\": x[2],\n",
    "                                                              \"x4\": x[3]}) for second_partial_derivative in Hf],\n",
    "                             dtype=float)"
   ]
  },
  {
   "cell_type": "code",
   "execution_count": 81,
   "metadata": {},
   "outputs": [
    {
     "name": "stdout",
     "output_type": "stream",
     "text": [
      "⎡2.0  0.0  0.0  0.0⎤\n",
      "⎢                  ⎥\n",
      "⎢0.0  2.0  0.0  0.0⎥\n",
      "⎢                  ⎥\n",
      "⎢0.0  0.0  2.0  0.0⎥\n",
      "⎢                  ⎥\n",
      "⎣0.0  0.0  0.0  0.0⎦\n"
     ]
    }
   ],
   "source": [
    "Hf_sympy_eval = sympy.Matrix(Hf_eval(x_0))\n",
    "sympy.pprint(Hf_sympy_eval)"
   ]
  },
  {
   "cell_type": "code",
   "execution_count": 82,
   "metadata": {},
   "outputs": [
    {
     "name": "stdout",
     "output_type": "stream",
     "text": [
      "⎡6.0⎤\n",
      "⎢   ⎥\n",
      "⎢6.0⎥\n",
      "⎢   ⎥\n",
      "⎢2.0⎥\n",
      "⎢   ⎥\n",
      "⎣0.0⎦\n"
     ]
    }
   ],
   "source": [
    "gf_sympy_eval = sympy.Matrix(gf_eval(x_0))\n",
    "sympy.pprint(gf_sympy_eval)"
   ]
  },
  {
   "cell_type": "code",
   "execution_count": 83,
   "metadata": {},
   "outputs": [],
   "source": [
    "x = sympy.Matrix([x1, x2, x3, x4])"
   ]
  },
  {
   "cell_type": "markdown",
   "metadata": {},
   "source": [
    "El sistema de **ecuaciones lineales** a resolver es:"
   ]
  },
  {
   "cell_type": "markdown",
   "metadata": {},
   "source": [
    "$$\n",
    "\\left [\n",
    "\\begin{array}{cccc}\n",
    "2 & 0 & 0 & 0 \\\\\n",
    "0 & 2 & 0 & 0 \\\\\n",
    "0 & 0 & 2 & 0 \\\\\n",
    "0 & 0 & 0 & 0\n",
    "\\end{array}\n",
    "\\right ]\n",
    "\\Delta x = \n",
    "-\\left [\n",
    "\\begin{array}{c}\n",
    "6 \\\\\n",
    "6 \\\\\n",
    "2 \\\\\n",
    "0\n",
    "\\end{array}\n",
    "\\right ]\n",
    "$$"
   ]
  },
  {
   "cell_type": "markdown",
   "metadata": {},
   "source": [
    "**Obsérvese que la última ecuación es redundante**"
   ]
  },
  {
   "cell_type": "code",
   "execution_count": 84,
   "metadata": {},
   "outputs": [
    {
     "name": "stdout",
     "output_type": "stream",
     "text": [
      "{x₁: -3.0, x₂: -3.0, x₃: -1.0}\n"
     ]
    }
   ],
   "source": [
    "sympy.pprint(sympy.solve(Hf_sympy_eval*x - (-gf_sympy_eval), x))"
   ]
  },
  {
   "cell_type": "markdown",
   "metadata": {},
   "source": [
    "$4a$ ecuación redundante y por tanto $x_4 = 0$"
   ]
  },
  {
   "cell_type": "code",
   "execution_count": 85,
   "metadata": {},
   "outputs": [],
   "source": [
    "x_1 = x_0 + np.array([-3, -3, -1, 0])"
   ]
  },
  {
   "cell_type": "code",
   "execution_count": 86,
   "metadata": {},
   "outputs": [
    {
     "name": "stdout",
     "output_type": "stream",
     "text": [
      "[2 2 0 0]\n"
     ]
    }
   ],
   "source": [
    "print(x_1)"
   ]
  },
  {
   "cell_type": "markdown",
   "metadata": {},
   "source": [
    "```{admonition} Comentarios\n",
    "\n",
    "De acuerdo al ejemplo anterior:\n",
    "\n",
    "* Utilizar información de primer o segundo orden nos ayuda a encontrar óptimo(s) de funciones.\n",
    "\n",
    "* Encontrar al óptimo involucró un método iterativo.\n",
    "\n",
    "* Con la información de primer orden no alcanzamos al óptimo (de hecho se cicla el método iterativo propuesto) pero con la de segundo orden sí lo alcanzamos en una iteración y tuvimos que resolver un sistema de ecuaciones lineales.\n"
   ]
  },
  {
   "cell_type": "markdown",
   "metadata": {},
   "source": [
    "### Paso o dirección de búsqueda y tamaño o longitud de paso"
   ]
  },
  {
   "cell_type": "markdown",
   "metadata": {},
   "source": [
    "La secuencia de minimización se obtiene con el esquema iterativo: $x^{(k+1)} = x^{(k)} + t^{(k)}\\Delta x^{(k)}$. "
   ]
  },
  {
   "cell_type": "markdown",
   "metadata": {},
   "source": [
    "```{admonition} Definición\n",
    "\n",
    "Al vector $\\Delta x \\in \\mathbb{R}^n$ se le nombra **paso o dirección de búsqueda**. Al escalar $t^{(k)}$ se le nombra **tamaño o longitud de paso** y siempre es positivo salvo en el caso en que $x^{(k)}$ sea óptimo.\n",
    "```"
   ]
  },
  {
   "cell_type": "markdown",
   "metadata": {},
   "source": [
    "El valor $t^{(k)}$ se calcula con metodologías como búsqueda de línea o regiones de confianza, ver [line search](https://en.wikipedia.org/wiki/Line_search), [trust region](https://en.wikipedia.org/wiki/Trust_region) y en esta nota se revisa la búsqueda de línea con *backtracking*."
   ]
  },
  {
   "cell_type": "markdown",
   "metadata": {},
   "source": [
    "### Algoritmo: método general de descenso para funciones convexas"
   ]
  },
  {
   "cell_type": "markdown",
   "metadata": {},
   "source": [
    "```{margin}\n",
    "\n",
    "Los pasos de un algoritmo representan una guía para la implementación, no implica que se tengan que implementar uno a continuación del otro como se describe. Si una implementación respeta la lógica y al mismo algoritmo, entonces pueden seguirse los pasos de una forma distinta.\n",
    "```"
   ]
  },
  {
   "cell_type": "markdown",
   "metadata": {},
   "source": [
    "> **Dado** un **punto inicial** $x$ en $\\text{dom}f_o$\n",
    ">\n",
    "> **Repetir** el siguiente bloque para $k=0,1,2,...$\n",
    ">>\n",
    ">> 1. Determinar una dirección de descenso $\\Delta x$.\n",
    ">> 2. Búsqueda de línea. Elegir un tamaño de paso $t > 0$.\n",
    ">> 3. Hacer la actualización: $x = x + t\\Delta x$.\n",
    ">\n",
    "> **hasta** convergencia (satisfacer criterio de paro).\n"
   ]
  },
  {
   "cell_type": "markdown",
   "metadata": {},
   "source": [
    "```{margin}\n",
    "\n",
    "Un rayo es el conjunto definido por $\\{x + \\theta v : \\theta \\geq 0 , v \\neq 0, v \\in \\mathbb{R}^n\\}$ para $x \\in \\mathbb{R}^n$.\n",
    "\n",
    "<img src=\"https://dl.dropboxusercontent.com/s/l3z9j49ldzknmif/ej_rayo.png?dl=0\" heigth=\"200\" width=\"200\">\n",
    "\n",
    "\n",
    "```"
   ]
  },
  {
   "cell_type": "markdown",
   "metadata": {},
   "source": [
    "```{admonition} Comentarios.\n",
    "\n",
    "* El algoritmo termina si $f_o(x^{(k)})-p^* \\leq \\epsilon$ con $\\epsilon >0$, esto es, $x^{(k)}$ es $\\epsilon$-subóptimo.\n",
    "\n",
    "* El criterio de paro típicamente es de la forma $||\\nabla f_o(x)|| \\leq tol$ donde: $tol$ es una cantidad pequeña y positiva (comúnmente menor o igual a $10^{-8}$). También se involucra el número máximo de iteraciones en el criterio de paro.\n",
    "\n",
    "* El paso $2$ busca reducir $f_o$ lo **suficiente** o minimizarla aproximadamente a lo largo de un **rayo**. Uno de los métodos que permite de forma sencilla lo anterior es la **búsqueda de línea por [*backtracking*](https://en.wikipedia.org/wiki/Backtracking_line_search)**.\n",
    "\n",
    "```"
   ]
  },
  {
   "cell_type": "markdown",
   "metadata": {},
   "source": [
    "### Continuando con el ejemplo anterior"
   ]
  },
  {
   "cell_type": "markdown",
   "metadata": {},
   "source": [
    "**Opción descenso en gradiente:** usando el algoritmo con dirección de descenso el gradiente de $f_o$ con búsqueda de línea se tiene:"
   ]
  },
  {
   "cell_type": "markdown",
   "metadata": {},
   "source": [
    "$$x^{(k+1)} = x^{(k)} - t^{(k)}\\nabla f_o(x^{(k)})$$\n",
    "\n",
    "para $t^{(k)} > 0$. Con $t^{(0)}=0.5$ llegamos al óptimo en una iteración:"
   ]
  },
  {
   "cell_type": "code",
   "execution_count": 87,
   "metadata": {},
   "outputs": [],
   "source": [
    "t_0=0.5"
   ]
  },
  {
   "cell_type": "code",
   "execution_count": 88,
   "metadata": {},
   "outputs": [],
   "source": [
    "x_1 = x_0 - t_0*gf_eval(x_0)"
   ]
  },
  {
   "cell_type": "code",
   "execution_count": 89,
   "metadata": {},
   "outputs": [
    {
     "name": "stdout",
     "output_type": "stream",
     "text": [
      "[2. 2. 0. 0.]\n"
     ]
    }
   ],
   "source": [
    "print(x_1)"
   ]
  },
  {
   "cell_type": "markdown",
   "metadata": {},
   "source": [
    "```{admonition} Observación \n",
    ":class: tip\n",
    "\n",
    "El gradiente involucra menos almacenamiento en memoria que el almacenamiento de la Hessiana: $\\mathcal{O}(n)$ vs $\\mathcal{O}(n^2)$. \n",
    "\n",
    "```"
   ]
  },
  {
   "cell_type": "markdown",
   "metadata": {},
   "source": [
    "**Opción usando cvxpy...**"
   ]
  },
  {
   "cell_type": "code",
   "execution_count": 90,
   "metadata": {},
   "outputs": [],
   "source": [
    "x1 = cp.Variable()\n",
    "x2 = cp.Variable()\n",
    "x3 = cp.Variable()\n",
    "x4 = cp.Variable()"
   ]
  },
  {
   "cell_type": "code",
   "execution_count": 91,
   "metadata": {},
   "outputs": [],
   "source": [
    "fo_cvxpy = (x1 -2)**2 + (2-x2)**2 + x3**2 + x4**2\n",
    "\n"
   ]
  },
  {
   "cell_type": "code",
   "execution_count": 92,
   "metadata": {},
   "outputs": [
    {
     "name": "stdout",
     "output_type": "stream",
     "text": [
      "7.031418247836792e-48\n"
     ]
    }
   ],
   "source": [
    "obj = cp.Minimize(fo_cvxpy)\n",
    "\n",
    "prob = cp.Problem(obj)\n",
    "\n",
    "print(prob.solve())"
   ]
  },
  {
   "cell_type": "code",
   "execution_count": 93,
   "metadata": {},
   "outputs": [
    {
     "name": "stdout",
     "output_type": "stream",
     "text": [
      "status: optimal\n",
      "optimal value 7.031418247836792e-48\n",
      "optimal var 2.0 2.0 0.0 0.0\n"
     ]
    }
   ],
   "source": [
    "print(\"status:\", prob.status)\n",
    "print(\"optimal value\", prob.value)\n",
    "print(\"optimal var\", x1.value, x2.value, x3.value, x4.value)"
   ]
  },
  {
   "cell_type": "markdown",
   "metadata": {},
   "source": [
    "## Método de búsqueda de línea por *backtracking*"
   ]
  },
  {
   "cell_type": "markdown",
   "metadata": {},
   "source": [
    "```{margin}\n",
    "\n",
    "Ver [Backtracking_line_search](https://en.wikipedia.org/wiki/Backtracking_line_search).\n",
    "\n",
    "```"
   ]
  },
  {
   "cell_type": "markdown",
   "metadata": {},
   "source": [
    "En esta sección consideramos $f = f_o$. \n",
    "\n",
    "La idea del método de búsqueda de línea por *backtracking* es moverse de un punto a otro siguiendo una dirección de descenso con un tamaño de paso completo y si tal tamaño no satisface un criterio entonces realizar un *backtrack* de forma sistemática a lo largo de tal dirección hasta satisfacer el criterio resultando en el tamaño de paso correspondiente."
   ]
  },
  {
   "cell_type": "markdown",
   "metadata": {},
   "source": [
    "Para entender el método de búsqueda de línea por *backtracking* supóngase que $f$ tiene una forma siguiente:"
   ]
  },
  {
   "cell_type": "markdown",
   "metadata": {},
   "source": [
    "<img src=\"https://dl.dropboxusercontent.com/s/0woqoj8foo5eco9/level_set_of_func.png?dl=0\" heigth=\"300\" width=\"300\">\n"
   ]
  },
  {
   "cell_type": "markdown",
   "metadata": {},
   "source": [
    "Y considérese una función $g: \\mathbb{R} \\rightarrow \\mathbb{R}$ igual a $f$ pero restringida al rayo $x + t\\Delta x$, esto es: $g(t) = f(x+t \\Delta x)$ con $t>0$, $\\Delta x$ dirección de descenso. Lo anterior se visualiza como sigue:"
   ]
  },
  {
   "cell_type": "markdown",
   "metadata": {},
   "source": [
    "<img src=\"https://dl.dropboxusercontent.com/s/18udjmzmmd7drrz/line_search_backtracking_1.png?dl=0\" heigth=\"300\" width=\"300\">"
   ]
  },
  {
   "cell_type": "markdown",
   "metadata": {},
   "source": [
    "```{admonition} Observación\n",
    ":class: tip\n",
    "\n",
    "Obsérvese en el dibujo que $\\nabla f(x) \\neq 0$.\n",
    "\n",
    "```"
   ]
  },
  {
   "cell_type": "markdown",
   "metadata": {},
   "source": [
    "```{margin}\n",
    "\n",
    "Ver {ref}`ejemplo<EJRestriccionALinea>` de la nota {ref}`Definición de función, continuidad y derivada <FCD>` para expresión de la derivada $g'(t)$.\n",
    "\n",
    "```"
   ]
  },
  {
   "cell_type": "markdown",
   "metadata": {},
   "source": [
    "Y como $f$ es continua y diferenciable, $g$ también lo es y $g(0)=f(x)$, $g'(t) = \\nabla f(x+t\\Delta x)^T \\Delta x$. Si graficamos $g$ se tendría:"
   ]
  },
  {
   "cell_type": "markdown",
   "metadata": {},
   "source": [
    "<img src=\"https://dl.dropboxusercontent.com/s/sgj7eqr2qysi8hs/line_search_backtracking_2.png?dl=0\" heigth=\"300\" width=\"300\">\n"
   ]
  },
  {
   "cell_type": "markdown",
   "metadata": {},
   "source": [
    "En la búsqueda de línea se construyen dos rectas. Una recta es $g(0) + \\alpha g'(0)(t-0)$ con $\\alpha \\in (0,\\frac{1}{2})$. La otra recta es $g(0)+g'(0)(t-0)$. Ambas rectas tienen pendiente negativa. Esto se visualiza como sigue:"
   ]
  },
  {
   "cell_type": "markdown",
   "metadata": {},
   "source": [
    "<img src=\"https://dl.dropboxusercontent.com/s/11y008lq0fd6jl6/line_search_backtracking_3.png?dl=0\" heigth=\"500\" width=\"500\">\n"
   ]
  },
  {
   "cell_type": "markdown",
   "metadata": {},
   "source": [
    "En la búsqueda de línea por backtracking se busca $t^{(k)}$ tal que $f$ decrezca suficientemente. Lo anterior se establece con la desigualdad $f(x+t \\Delta x) < f(x) + \\alpha t \\nabla f(x)^T \\Delta x$:"
   ]
  },
  {
   "cell_type": "markdown",
   "metadata": {},
   "source": [
    "<img src=\"https://dl.dropboxusercontent.com/s/o4f341x1y5sqxt8/line_search_backtracking_4.png?dl=0\" heigth=\"500\" width=\"500\">\n"
   ]
  },
  {
   "cell_type": "markdown",
   "metadata": {},
   "source": [
    "obsérvese en el dibujo anterior que la región en la que se elegirá $t^{(k)}$ está a la izquierda de la línea punteada vertical de color verde."
   ]
  },
  {
   "cell_type": "markdown",
   "metadata": {},
   "source": [
    "Y visualmente en $R^3$ se tiene:"
   ]
  },
  {
   "cell_type": "markdown",
   "metadata": {},
   "source": [
    "<img src=\"https://dl.dropboxusercontent.com/s/t3yn7kkpd4il8hx/line_search_backtracking_5.png?dl=0\" heigth=\"300\" width=\"300\">\n",
    "\n"
   ]
  },
  {
   "cell_type": "markdown",
   "metadata": {},
   "source": [
    "El método depende de dos constantes $\\alpha$ y $\\beta$ con $\\alpha \\in (0,\\frac{1}{2})$ y $\\beta \\in (0,1)$. "
   ]
  },
  {
   "cell_type": "markdown",
   "metadata": {},
   "source": [
    "### Algoritmo: búsqueda de línea por *backtracking*\n"
   ]
  },
  {
   "cell_type": "markdown",
   "metadata": {},
   "source": [
    "> **Dados** $\\Delta x$ dirección de descenso para $f$ en $x \\in \\text{dom}f$, $\\alpha \\in (0,\\frac{1}{2})$, $\\beta \\in (0,1)$.\n",
    ">\n",
    "> **Asignar** t=1.\n",
    ">\n",
    "> **Mientras** $f(x+t\\Delta x) > f(x) + \\alpha t \\nabla f(x) ^T\\Delta x$.\n",
    ">>\n",
    ">> 1. **Reducir** $t: t= \\beta t$.\n"
   ]
  },
  {
   "cell_type": "markdown",
   "metadata": {},
   "source": [
    "```{admonition} Comentarios \n",
    "\n",
    "* El valor $\\alpha$ típicamente se elige entre $.01$ y $.03$ que indica que se acepta un decrecimiento en el valor de $f$ entre el $1 \\%$ y el $30 \\%$. La constante $\\beta$ comúnmente se elige entre $.1$ (que modifica fuertemente $t$) y $.8$ (que realiza una modificación menos drástica de $t$).\n",
    "\n",
    "* Obsérvese que la multiplicación $\\nabla f(x)^T \\Delta x$ es una derivada direccional, ver {ref}`definición de función, continuidad y derivada <FCD>`.\n",
    "```"
   ]
  },
  {
   "cell_type": "markdown",
   "metadata": {},
   "source": [
    "## Función en Python para el método de *backtracking*"
   ]
  },
  {
   "cell_type": "markdown",
   "metadata": {},
   "source": [
    "```python\n",
    "def line_search_by_backtracking(f,dir_desc,x,\n",
    "                                der_direct, alpha=.15, beta=.5):\n",
    "    \"\"\"\n",
    "    Line search that sufficiently decreases f restricted to a ray in the direction dir_desc.\n",
    "    Args:\n",
    "        alpha (float): parameter in line search with backtracking, tipically .15\n",
    "        beta (float): parameter in line search with backtracking, tipically .5\n",
    "        f (lambda expression): definition of function f.\n",
    "        dir_desc (array): descent direction.\n",
    "        x (array): numpy array that holds values where line search will be performed.\n",
    "        der_direct (float): directional derivative of f.\n",
    "    Returns:\n",
    "        t (float): positive number for stepsize along dir_desc that sufficiently decreases f.\n",
    "    \"\"\"\n",
    "    t=1\n",
    "    if alpha > 1/2:\n",
    "        print(\"alpha must be less than or equal to 1/2\")\n",
    "        t=-1\n",
    "    if beta>1:\n",
    "        print(\"beta must be less than 1\")\n",
    "        t=-1;   \n",
    "    if t!=-1:\n",
    "        eval1 = f(x+t*dir_desc)\n",
    "        eval2 = f(x) + alpha*t*der_direct\n",
    "        while eval1 > eval2:\n",
    "            t=beta*t\n",
    "            eval1=f(x+t*dir_desc)\n",
    "            eval2=f(x)+alpha*t*der_direct\n",
    "    return t\n",
    "```"
   ]
  },
  {
   "cell_type": "markdown",
   "metadata": {},
   "source": [
    "```{admonition} Ejercicio\n",
    ":class: tip\n",
    "\n",
    "Realizar $5$ iteraciones para minimizar la función $log(e^{x_1^2} + e^{x_2^2})$ del método de descenso en gradiente utilizando búsqueda de línea tomando como punto inicial $(10,1)$ y calcular el error relativo de cada iteración. Para calcular $x^*$ utilizar [cvxpy](https://github.com/cvxgrp/cvxpy).\n",
    "\n",
    "```"
   ]
  },
  {
   "cell_type": "markdown",
   "metadata": {},
   "source": [
    "**Preguntas de comprehensión.**\n",
    "\n",
    "1)¿Qué es un método de descenso?\n",
    "\n",
    "2)Describe los elementos del esquema iterativo de un método de descenso.\n",
    "\n",
    "3)¿Cuál es la condición matemática y geométrica que verifica que un paso de búsqueda sea de descenso?\n",
    "\n",
    "4)(pregunta relacionada con *backtracking*)\n"
   ]
  },
  {
   "cell_type": "markdown",
   "metadata": {},
   "source": [
    "**Referencias:**\n",
    "\n",
    "1. S. P. Boyd, L. Vandenberghe, Convex Optimization, Cambridge University Press, 2009.\n",
    "\n",
    "\n",
    "2. J. Dennis, R. B. Schnabel, Numerical Methods for Unconstrained Optimization and Nonlinear Equations, SIAM, 1996.\n",
    "\n"
   ]
  }
 ],
 "metadata": {
  "kernelspec": {
   "display_name": "Python 3",
   "language": "python",
   "name": "python3"
  },
  "language_info": {
   "codemirror_mode": {
    "name": "ipython",
    "version": 3
   },
   "file_extension": ".py",
   "mimetype": "text/x-python",
   "name": "python",
   "nbconvert_exporter": "python",
   "pygments_lexer": "ipython3",
   "version": "3.7.3"
  }
 },
 "nbformat": 4,
 "nbformat_minor": 4
}
