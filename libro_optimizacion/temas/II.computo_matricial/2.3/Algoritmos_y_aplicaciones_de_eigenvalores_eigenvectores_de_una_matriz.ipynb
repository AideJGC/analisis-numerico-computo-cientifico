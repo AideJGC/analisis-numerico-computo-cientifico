{
 "cells": [
  {
   "cell_type": "markdown",
   "metadata": {},
   "source": [
    "(AAEVALEVEC)="
   ]
  },
  {
   "cell_type": "markdown",
   "metadata": {},
   "source": [
    "# 2.3 Algoritmos y aplicaciones de eigenvalores y eigenvectores de una matriz"
   ]
  },
  {
   "cell_type": "markdown",
   "metadata": {},
   "source": [
    "```{admonition} Notas para contenedor de docker:\n",
    "\n",
    "Comando de docker para ejecución de la nota de forma local:\n",
    "\n",
    "nota: cambiar `<ruta a mi directorio>` por la ruta de directorio que se desea mapear a `/datos` dentro del contenedor de docker.\n",
    "\n",
    "`docker run --rm -v <ruta a mi directorio>:/datos --name jupyterlab_optimizacion -p 8888:8888 -d palmoreck/jupyterlab_optimizacion:2.1.4`\n",
    "\n",
    "password para jupyterlab: `qwerty`\n",
    "\n",
    "Detener el contenedor de docker:\n",
    "\n",
    "`docker stop jupyterlab_optimizacion`\n",
    "\n",
    "Documentación de la imagen de docker `palmoreck/jupyterlab_optimizacion:2.1.4` en [liga](https://github.com/palmoreck/dockerfiles/tree/master/jupyterlab/optimizacion).\n",
    "\n",
    "```"
   ]
  },
  {
   "cell_type": "markdown",
   "metadata": {},
   "source": [
    "---"
   ]
  },
  {
   "cell_type": "markdown",
   "metadata": {},
   "source": [
    "Nota generada a partir de [liga](https://www.dropbox.com/s/s4ch0ww1687pl76/3.2.2.Factorizaciones_matriciales_SVD_Cholesky_QR.pdf?dl=0)."
   ]
  },
  {
   "cell_type": "markdown",
   "metadata": {},
   "source": [
    "## Rotaciones de Jacobi para matrices simétricas"
   ]
  },
  {
   "cell_type": "markdown",
   "metadata": {},
   "source": [
    "Este método produce una secuencia de transformaciones ortogonales de la forma $J_k^TAJ_k$ con el objetivo de hacer \"más diagonal\" a la matriz $A \\in \\mathbb{R}^{n \\times n}$."
   ]
  },
  {
   "cell_type": "markdown",
   "metadata": {},
   "source": [
    "En el algoritmo se hace mención sobre **metodologías** que ayudan a elegir los índices del renglón y columna de $A$ que serán eliminadas. Algunas de éstas son:\n",
    "\n",
    "1.Elegir $(idx1,idx2)$ tales que $|a_{idx1,idx2}| = \\displaystyle \\max_{i \\neq j}|a_{ij}|$.\n",
    "\n",
    "2.**Ordenamiento cíclico por renglones:** elegir $(idx1, idx2)$ en el conjunto $(1,2),(1,3),\\dots,(1,n),(2,3),(2,4)\\dots,(n-1,n)$."
   ]
  },
  {
   "cell_type": "markdown",
   "metadata": {},
   "source": [
    "```{margin}\n",
    "\n",
    "Los pasos de este algoritmo representan una guía para la implementación. Al describirse los pasos de un algoritmo no implica que se tengan que implementar uno a continuación del otro como se describe. Si una implementación respeta la lógica y al mismo método, entonces pueden seguirse los pasos de una forma distinta.\n",
    "```"
   ]
  },
  {
   "cell_type": "markdown",
   "metadata": {},
   "source": [
    "> **Algoritmo de rotaciones de Jacobi para matrices simétricas**\n",
    ">>\n",
    ">> **Dada** $A$ simétrica y $tol$ **definir** $A_0 = A$, $V_0 = I_n$.\n",
    ">>\n",
    ">> **Repetir** el siguiente bloque para $k=0,1,2,\\dots$\n",
    ">>> 1. Elegir un par de índices $(idx1,idx2)$ con alguna de las metodologías descritas anteriormente.\n",
    ">>>\n",
    ">>> 2. Calcular las entradas $\\cos(\\theta),\\sin(\\theta)$ de la matriz de rotación $J_k$.\n",
    ">>>\n",
    ">>> 3. $A_{k+1} = J_k^T A_k J_k$\n",
    ">>>\n",
    ">>> 4. $V_{k+1} = V_{k}J_k$.\n",
    ">>\n",
    ">> **hasta** convergencia (satisfacer criterio de paro).\n",
    "\n"
   ]
  },
  {
   "cell_type": "markdown",
   "metadata": {},
   "source": [
    "La matriz $J_k$ es una transformación de rotación que se utiliza para eliminar un par de entradas (simétricas) en la matriz $A_k$, esto  preserva la simetría de la matriz original, ver {ref}`transformaciones de rotación <TROT>`. En las columnas de la matriz $V_{k}$ se encuentran aproximaciones a los eigenvectores de $A$ y en la diagonal de $A_{k}$ se tienen aproximaciones a los eigenvalores de $A$."
   ]
  },
  {
   "cell_type": "markdown",
   "metadata": {},
   "source": [
    "```{admonition} Observación\n",
    ":class: tip\n",
    "\n",
    "Obsérvese que $A_{k+1}$ y $A_{k}$ son matrices similares, ver {ref}`similitud <SIMILITUD>`.\n",
    "\n",
    "```"
   ]
  },
  {
   "cell_type": "markdown",
   "metadata": {},
   "source": [
    "Para encontrar la forma que debe tener $J_k$ es suficiente considerar el caso $2 \\times 2$ y se **asume** que $a_{12} \\neq 0$ pues **si $a_{12} =0$ entonces no hay que realizar rotación**:"
   ]
  },
  {
   "cell_type": "markdown",
   "metadata": {},
   "source": [
    "$$\n",
    "\\begin{eqnarray}\n",
    "J_k^TAJ_k &=&  \n",
    "\\left [\n",
    "\\begin{array}{cc}\n",
    "c & -s\\\\\n",
    "s & c\n",
    "\\end{array}\n",
    "\\right ]\n",
    "\\left [\n",
    "\\begin{array}{cc}\n",
    "a_{11} & a_{12}\\\\\n",
    "a_{12} & a_{22}\n",
    "\\end{array}\n",
    "\\right ]\n",
    "\\left [\n",
    "\\begin{array}{cc}\n",
    "c & s\\\\\n",
    "-s & c\n",
    "\\end{array}\n",
    "\\right ]\n",
    "\\nonumber \\\\\n",
    "&=&\n",
    "\\left [\n",
    "\\begin{array}{cc}\n",
    "c^2a_{11} -2 csa_{12} + s^2a_{22} & c^2a_{12} - cs(a_{22}-a_{11})-s^2a_{12}\\nonumber \\\\\n",
    "c^2a_{12} - cs(a_{22}-a_{11})-s^2a_{12} & c^2a_{22}+2csa_{12}+s^2a_{11} \\nonumber\n",
    "\\end{array}\n",
    "\\right ]\n",
    "\\nonumber \n",
    "\\end{eqnarray}\n",
    "$$"
   ]
  },
  {
   "cell_type": "markdown",
   "metadata": {},
   "source": [
    "donde: $c$ y $s$ representan a $\\cos(\\theta), \\sin(\\theta)$ respectivamente y $\\theta$ ángulo para rotar.\n"
   ]
  },
  {
   "cell_type": "markdown",
   "metadata": {},
   "source": [
    "Si se desea que la entrada $(1,2)$ (equivalentemente por simetría la $(2,1)$) sea cero se debe cumplir:\n",
    "\n",
    "$$c^2a_{12} - cs(a_{22}-a_{11})-s^2a_{12}=0.$$"
   ]
  },
  {
   "cell_type": "markdown",
   "metadata": {},
   "source": [
    "Asignando la variable $t = \\frac{s}{c}$ (tangente de $\\theta$) se obtiene la ecuación cuadrática:\n",
    "\n",
    "$$1 - t\\frac{(a_{22}-a_{11})}{a_{12}} - t^2 = 0.$$\n",
    "\n",
    "Equivalentemente:\n",
    "\n",
    "$$t^2 + t\\frac{(a_{22}-a_{11})}{a_{12}} - 1 = t^2 + 2\\tau t -1 = 0$$\n"
   ]
  },
  {
   "cell_type": "markdown",
   "metadata": {},
   "source": [
    "```{margin}\n",
    "\n",
    "Las funciones $\\frac{1}{\\tau+\\sqrt{\\tau^2+1}}$, $\\frac{1}{\\tau-\\sqrt{\\tau^2+1}}$ son estrictamente decrecientes para $\\tau \\geq 0$ y $\\tau < 0$ respectivamente. Un valor de $\\tau$ corresponde a un único ángulo $\\theta \\in \\left [-\\frac{\\pi}{4}, \\frac{\\pi}{4} \\right ]$.\n",
    "```"
   ]
  },
  {
   "cell_type": "markdown",
   "metadata": {},
   "source": [
    "donde: $\\tau = \\frac{a_{22}-a_{11}}{2a_{12}}$. Las raíces de la ecuación anterior están dadas por:\n",
    "\n",
    "$$\n",
    "\\begin{eqnarray}\n",
    "t_1^* &=& -\\tau + \\sqrt{\\tau^2+1}&=&\\frac{1}{\\tau+\\sqrt{\\tau^2+1}} \\nonumber \\\\\n",
    "t_2^* &=& -\\tau - \\sqrt{\\tau^2+1}&=&\\frac{1}{\\tau-\\sqrt{\\tau^2+1}} \\nonumber\n",
    "\\end{eqnarray}\n",
    "$$\n"
   ]
  },
  {
   "cell_type": "markdown",
   "metadata": {},
   "source": [
    "Se **sugiere** utilizar la raíz de menor magnitud para disminuir errores por redondeo por lo que:\n",
    "\n",
    "$$t^* = \\frac{\\text{signo}(\\tau)}{|\\tau| + \\sqrt{1+\\tau^2}}$$\n",
    "\n",
    "donde:\n",
    "\n",
    "$$\n",
    "\\text{signo}(x) = \\begin{cases}\n",
    "1 \\text{ si } x>=0\\\\\n",
    "-1 \\text{ en otro caso}\n",
    "\\end{cases}\n",
    "$$"
   ]
  },
  {
   "cell_type": "markdown",
   "metadata": {},
   "source": [
    "Las relaciones entre coseno, seno y tangente permiten obtener sus valores correspondientes:\n",
    "\n",
    "$$c = \\frac{1}{\\sqrt{1+t^{*2}}},$$\n",
    "\n",
    "$$s = ct^*$$\n",
    "\n",
    "y así tener completamente definida a la matriz $J_k$."
   ]
  },
  {
   "cell_type": "markdown",
   "metadata": {},
   "source": [
    "### Ejemplo"
   ]
  },
  {
   "cell_type": "markdown",
   "metadata": {},
   "source": [
    "Considera: \n",
    "\n",
    "$$\n",
    "A = \n",
    "\\left [\n",
    "\\begin{array}{cc}\n",
    "1&2\\\\\n",
    "2&1\\\\\n",
    "\\end{array}\n",
    "\\right ].\n",
    "$$\n",
    "\n",
    "Eliminar las entradas $(1,2)$ y $(2,1)$ con una matriz $J$ de rotación de Jacobi:"
   ]
  },
  {
   "cell_type": "code",
   "execution_count": 1,
   "metadata": {},
   "outputs": [],
   "source": [
    "import numpy as np"
   ]
  },
  {
   "cell_type": "code",
   "execution_count": 2,
   "metadata": {},
   "outputs": [],
   "source": [
    "np.set_printoptions(precision=3, suppress=True)"
   ]
  },
  {
   "cell_type": "code",
   "execution_count": 3,
   "metadata": {},
   "outputs": [],
   "source": [
    "A = np.array([[1,2],\n",
    "              [2,1]])"
   ]
  },
  {
   "cell_type": "code",
   "execution_count": 4,
   "metadata": {},
   "outputs": [],
   "source": [
    "def sign(x):\n",
    "    \"\"\"\n",
    "    Help function for computing sign of real number x.\n",
    "    \"\"\"\n",
    "    if x >=0:\n",
    "        return 1\n",
    "    else:\n",
    "        return -1"
   ]
  },
  {
   "cell_type": "code",
   "execution_count": 5,
   "metadata": {},
   "outputs": [],
   "source": [
    "A_k = A.copy()"
   ]
  },
  {
   "cell_type": "code",
   "execution_count": 6,
   "metadata": {},
   "outputs": [],
   "source": [
    "def compute_cos_sin_Jacobi_rotation(Ak, idx1, idx2):\n",
    "    \"\"\"\n",
    "    Help function for computing entries of Jacobi rotation.\n",
    "    Args:\n",
    "        Ak (numpy ndarray): Matrix of iteration k in Jacobi rotation method.\n",
    "        idx1 (int): index for rows in Jacobi rotation matrix.\n",
    "        idx2 (int): index for columns in Jacobi rotation matrix.\n",
    "    Returns:\n",
    "        c (float): value of cos of theta for Jacobi rotation matrix.\n",
    "        s (float): value of sin of theta for Jacobi rotation matrix.\n",
    "    \"\"\"\n",
    "    if np.abs(Ak[idx1,idx2]) > np.finfo(float).eps:\n",
    "        tau = (Ak[idx2, idx2] - Ak[idx1, idx1])/(2*Ak[idx1, idx2])\n",
    "        t_star = sign(tau)/(np.abs(tau) + np.sqrt(1+tau**2))\n",
    "        c = 1/np.sqrt(1+t_star**2)\n",
    "        s = c*t_star\n",
    "    else:\n",
    "        c = 1\n",
    "        s = 0\n",
    "    return (c,s)"
   ]
  },
  {
   "cell_type": "markdown",
   "metadata": {},
   "source": [
    "```{margin}\n",
    "\n",
    "Estos son los índices que corresponden a la entrada $a_{12}$ de $A$.\n",
    "\n",
    "```"
   ]
  },
  {
   "cell_type": "code",
   "execution_count": 7,
   "metadata": {},
   "outputs": [],
   "source": [
    "idx_1 = 0\n",
    "idx_2 = 1"
   ]
  },
  {
   "cell_type": "code",
   "execution_count": 8,
   "metadata": {},
   "outputs": [],
   "source": [
    "c, s = compute_cos_sin_Jacobi_rotation(A_k, idx_1, idx_2)"
   ]
  },
  {
   "cell_type": "markdown",
   "metadata": {},
   "source": [
    "```{margin}\n",
    "\n",
    "La matriz de rotación de Jacobi es en este caso de tamaño $2 \\times 2$.\n",
    "\n",
    "```"
   ]
  },
  {
   "cell_type": "code",
   "execution_count": 9,
   "metadata": {},
   "outputs": [],
   "source": [
    "J = np.array([[c, s],\n",
    "              [-s, c]])"
   ]
  },
  {
   "cell_type": "code",
   "execution_count": 10,
   "metadata": {},
   "outputs": [
    {
     "data": {
      "text/plain": [
       "array([[-1.,  0.],\n",
       "       [ 0.,  3.]])"
      ]
     },
     "execution_count": 10,
     "metadata": {},
     "output_type": "execute_result"
    }
   ],
   "source": [
    "J.T@A@J"
   ]
  },
  {
   "cell_type": "markdown",
   "metadata": {},
   "source": [
    "Por construcción $A$ y $J^TAJ$ son similares y por tanto tienen el mismo espectro:"
   ]
  },
  {
   "cell_type": "code",
   "execution_count": 11,
   "metadata": {},
   "outputs": [
    {
     "data": {
      "text/plain": [
       "array([-1.,  3.])"
      ]
     },
     "execution_count": 11,
     "metadata": {},
     "output_type": "execute_result"
    }
   ],
   "source": [
    "np.linalg.eigvalsh(A)"
   ]
  },
  {
   "cell_type": "code",
   "execution_count": 12,
   "metadata": {},
   "outputs": [
    {
     "data": {
      "text/plain": [
       "array([-1.,  3.])"
      ]
     },
     "execution_count": 12,
     "metadata": {},
     "output_type": "execute_result"
    }
   ],
   "source": [
    "np.linalg.eigvalsh(J.T@A@J)"
   ]
  },
  {
   "cell_type": "markdown",
   "metadata": {},
   "source": [
    "Ver [eigvals](https://numpy.org/doc/stable/reference/generated/numpy.linalg.eigvals.html) y [eigvalsh](https://jiffyclub.github.io/numpy/reference/generated/numpy.linalg.eigvalsh.html)."
   ]
  },
  {
   "cell_type": "markdown",
   "metadata": {},
   "source": [
    "```{admonition} Comentarios\n",
    "\n",
    "El algoritmo de rotaciones de Jacobi utiliza como criterios de paro:\n",
    "\n",
    "* La cantidad $\\text{off}(A) = \\sqrt{\\displaystyle \\sum_{i=1}^n \\sum_{j=1, j\\neq i}^n a_{ij}^2}$ que es la norma de Frobenius de $A$ sin la diagonal.\n",
    "\n",
    "* Número máximo de *sweeps*. Un *sweep* es igual a $\\frac{n(n-1)}{2}$ y corresponde al número máximo de entradas de la matriz que forman la parte triangular superior de $A$ (sin contar a la diagonal) que se asumen diferentes de cero. No existe teoría rigurosa para el número de *sweeps* pero una heurística encontrada por [Brent y Luk, p. 13, 1985](https://ecommons.cornell.edu/handle/1813/6402) menciona que el número máximo es proporcional a $\\mathcal{O}(\\log(n))$ y en la práctica se utilizan entre $6$ y $10$, ver [H. Rutishauser, The Jacobi method for real symmetric matrices, 1966](https://link.springer.com/article/10.1007/BF02165223).\n",
    "\n",
    "```"
   ]
  },
  {
   "cell_type": "markdown",
   "metadata": {},
   "source": [
    "## Ejemplo"
   ]
  },
  {
   "cell_type": "markdown",
   "metadata": {},
   "source": [
    "Considera: \n",
    "\n",
    "$$\n",
    "A = \n",
    "\\left [\n",
    "\\begin{array}{cccc}\n",
    "1 & 2 & 3 & 4\\\\\n",
    "2 & -2 & 4 & 5\\\\\n",
    "3 & 4 & 6 & 7\\\\\n",
    "4 & 5 & 7 & -8\n",
    "\\end{array}\n",
    "\\right ].\n",
    "$$\n",
    "\n",
    "Utilizando la metodología de ordenamiento cíclico por renglones realizar dos *sweeps* del método de rotaciones de Jacobi."
   ]
  },
  {
   "cell_type": "code",
   "execution_count": 13,
   "metadata": {},
   "outputs": [],
   "source": [
    "def compute_Jacobi_rotation(Ak, idx1, idx2):\n",
    "    \"\"\"\n",
    "    Compute Jacobi rotation matrix.\n",
    "    Args:\n",
    "        Ak (numpy ndarray): Matrix of iteration k in Jacobi rotation method.\n",
    "        idx1 (int): index for rows in Jacobi rotation matrix.\n",
    "        idx2 (int): index for columns in Jacobi rotation matrix.\n",
    "    Returns:\n",
    "        J (numpy ndarray): Jacobi rotation matrix.\n",
    "    \"\"\"\n",
    "    c,s = compute_cos_sin_Jacobi_rotation(Ak, idx1, idx2)\n",
    "    m,n = Ak.shape\n",
    "    J = np.eye(m)\n",
    "    J[idx1, idx1] = J[idx2, idx2] = c\n",
    "    J[idx1, idx2] = s\n",
    "    J[idx2, idx1] = -s\n",
    "    return J"
   ]
  },
  {
   "cell_type": "code",
   "execution_count": 14,
   "metadata": {},
   "outputs": [],
   "source": [
    "A = np.array([[1,2,3,4],\n",
    "              [2,-2,4,5],\n",
    "              [3, 4, 6, 7],\n",
    "              [4, 5, 7,-8.0]])"
   ]
  },
  {
   "cell_type": "code",
   "execution_count": 15,
   "metadata": {},
   "outputs": [
    {
     "data": {
      "text/plain": [
       "array([[ 1.,  2.,  3.,  4.],\n",
       "       [ 2., -2.,  4.,  5.],\n",
       "       [ 3.,  4.,  6.,  7.],\n",
       "       [ 4.,  5.,  7., -8.]])"
      ]
     },
     "execution_count": 15,
     "metadata": {},
     "output_type": "execute_result"
    }
   ],
   "source": [
    "A"
   ]
  },
  {
   "cell_type": "code",
   "execution_count": 16,
   "metadata": {},
   "outputs": [],
   "source": [
    "A_k = A.copy()"
   ]
  },
  {
   "cell_type": "markdown",
   "metadata": {},
   "source": [
    "El **primer *sweep*** considera las entradas: $(1,2), (1,3), (1,4), (2,3), (2,4), (3,4)$ y se toman a continuación en el orden $(1,4), (1,3), (1,2), (2,4), (2,3)$ y finalmente $(3,4)$ para mostrar que el orden de selección de las entradas no importa."
   ]
  },
  {
   "cell_type": "markdown",
   "metadata": {},
   "source": [
    "**Entrada $a_{41}$ plano $(1,4)$:**"
   ]
  },
  {
   "cell_type": "code",
   "execution_count": 17,
   "metadata": {},
   "outputs": [],
   "source": [
    "idx_1 = 0\n",
    "idx_2 = 3\n",
    "J = compute_Jacobi_rotation(A_k, idx_1, idx_2)"
   ]
  },
  {
   "cell_type": "code",
   "execution_count": 18,
   "metadata": {},
   "outputs": [],
   "source": [
    "A_k = J.T@A_k@J"
   ]
  },
  {
   "cell_type": "code",
   "execution_count": 19,
   "metadata": {},
   "outputs": [
    {
     "name": "stdout",
     "output_type": "stream",
     "text": [
      "[[ 2.521  3.646  5.292 -0.   ]\n",
      " [ 3.646 -2.     4.     3.963]\n",
      " [ 5.292  4.     6.     5.477]\n",
      " [ 0.     3.963  5.477 -9.521]]\n"
     ]
    }
   ],
   "source": [
    "print(A_k)"
   ]
  },
  {
   "cell_type": "markdown",
   "metadata": {},
   "source": [
    "**Entrada $a_{31}$ plano $(1,3)$:**"
   ]
  },
  {
   "cell_type": "code",
   "execution_count": 20,
   "metadata": {},
   "outputs": [],
   "source": [
    "idx_1 = 0\n",
    "idx_2 = 2\n",
    "J = compute_Jacobi_rotation(A_k, idx_1, idx_2)"
   ]
  },
  {
   "cell_type": "code",
   "execution_count": 21,
   "metadata": {},
   "outputs": [],
   "source": [
    "A_k = J.T@A_k@J"
   ]
  },
  {
   "cell_type": "code",
   "execution_count": 22,
   "metadata": {},
   "outputs": [
    {
     "name": "stdout",
     "output_type": "stream",
     "text": [
      "[[-1.31   0.608 -0.    -3.212]\n",
      " [ 0.608 -2.     5.378  3.963]\n",
      " [-0.     5.378  9.831  4.436]\n",
      " [-3.212  3.963  4.436 -9.521]]\n"
     ]
    }
   ],
   "source": [
    "print(A_k)"
   ]
  },
  {
   "cell_type": "markdown",
   "metadata": {},
   "source": [
    "**Entrada $a_{21}$ plano $(1,2)$:**"
   ]
  },
  {
   "cell_type": "code",
   "execution_count": 23,
   "metadata": {},
   "outputs": [],
   "source": [
    "idx_1 = 0\n",
    "idx_2 = 1\n",
    "J = compute_Jacobi_rotation(A_k, idx_1, idx_2)"
   ]
  },
  {
   "cell_type": "code",
   "execution_count": 24,
   "metadata": {},
   "outputs": [],
   "source": [
    "A_k = J.T@A_k@J"
   ]
  },
  {
   "cell_type": "code",
   "execution_count": 25,
   "metadata": {},
   "outputs": [
    {
     "name": "stdout",
     "output_type": "stream",
     "text": [
      "[[-0.956  0.     2.707 -0.781]\n",
      " [ 0.    -2.354  4.648  5.041]\n",
      " [ 2.707  4.648  9.831  4.436]\n",
      " [-0.781  5.041  4.436 -9.521]]\n"
     ]
    }
   ],
   "source": [
    "print(A_k)"
   ]
  },
  {
   "cell_type": "markdown",
   "metadata": {},
   "source": [
    "**Entrada $a_{42}$ plano $(2,4)$:**"
   ]
  },
  {
   "cell_type": "code",
   "execution_count": 26,
   "metadata": {},
   "outputs": [],
   "source": [
    "idx_1 = 1\n",
    "idx_2 = 3\n",
    "J = compute_Jacobi_rotation(A_k, idx_1, idx_2)"
   ]
  },
  {
   "cell_type": "code",
   "execution_count": 27,
   "metadata": {},
   "outputs": [],
   "source": [
    "A_k = J.T@A_k@J"
   ]
  },
  {
   "cell_type": "code",
   "execution_count": 28,
   "metadata": {},
   "outputs": [
    {
     "name": "stdout",
     "output_type": "stream",
     "text": [
      "[[ -0.956  -0.358   2.707  -0.694]\n",
      " [ -0.358   0.247   6.165   0.   ]\n",
      " [  2.707   6.165   9.831   1.811]\n",
      " [ -0.694   0.      1.811 -12.122]]\n"
     ]
    }
   ],
   "source": [
    "print(A_k)"
   ]
  },
  {
   "cell_type": "markdown",
   "metadata": {},
   "source": [
    "**Entrada $a_{32}$ plano $(2,3)$:**"
   ]
  },
  {
   "cell_type": "code",
   "execution_count": 29,
   "metadata": {},
   "outputs": [],
   "source": [
    "idx_1 = 1\n",
    "idx_2 = 2\n",
    "J = compute_Jacobi_rotation(A_k, idx_1, idx_2)"
   ]
  },
  {
   "cell_type": "code",
   "execution_count": 30,
   "metadata": {},
   "outputs": [],
   "source": [
    "A_k = J.T@A_k@J"
   ]
  },
  {
   "cell_type": "code",
   "execution_count": 31,
   "metadata": {},
   "outputs": [
    {
     "name": "stdout",
     "output_type": "stream",
     "text": [
      "[[ -0.956  -1.511   2.274  -0.694]\n",
      " [ -1.511  -2.769  -0.     -0.796]\n",
      " [  2.274   0.     12.847   1.627]\n",
      " [ -0.694  -0.796   1.627 -12.122]]\n"
     ]
    }
   ],
   "source": [
    "print(A_k)"
   ]
  },
  {
   "cell_type": "markdown",
   "metadata": {},
   "source": [
    "**Entrada $a_{43}$ plano $(3,4)$:**"
   ]
  },
  {
   "cell_type": "code",
   "execution_count": 32,
   "metadata": {},
   "outputs": [],
   "source": [
    "idx_1 = 2\n",
    "idx_2 = 3\n",
    "J = compute_Jacobi_rotation(A_k, idx_1, idx_2)"
   ]
  },
  {
   "cell_type": "code",
   "execution_count": 33,
   "metadata": {},
   "outputs": [],
   "source": [
    "A_k = J.T@A_k@J"
   ]
  },
  {
   "cell_type": "code",
   "execution_count": 34,
   "metadata": {},
   "outputs": [
    {
     "name": "stdout",
     "output_type": "stream",
     "text": [
      "[[ -0.956  -1.511   2.224  -0.84 ]\n",
      " [ -1.511  -2.769  -0.052  -0.794]\n",
      " [  2.224  -0.052  12.952   0.   ]\n",
      " [ -0.84   -0.794   0.    -12.228]]\n"
     ]
    }
   ],
   "source": [
    "print(A_k)"
   ]
  },
  {
   "cell_type": "markdown",
   "metadata": {},
   "source": [
    "**Segundo *sweep***"
   ]
  },
  {
   "cell_type": "markdown",
   "metadata": {},
   "source": [
    "**Entrada $a_{41}$ plano $(1,4)$:**"
   ]
  },
  {
   "cell_type": "code",
   "execution_count": 35,
   "metadata": {},
   "outputs": [],
   "source": [
    "idx_1 = 0\n",
    "idx_2 = 3\n",
    "J = compute_Jacobi_rotation(A_k, idx_1, idx_2)"
   ]
  },
  {
   "cell_type": "code",
   "execution_count": 36,
   "metadata": {},
   "outputs": [],
   "source": [
    "A_k = J.T@A_k@J"
   ]
  },
  {
   "cell_type": "code",
   "execution_count": 37,
   "metadata": {},
   "outputs": [
    {
     "name": "stdout",
     "output_type": "stream",
     "text": [
      "[[ -0.894  -1.448   2.218  -0.   ]\n",
      " [ -1.448  -2.769  -0.052  -0.904]\n",
      " [  2.218  -0.052  12.952   0.164]\n",
      " [ -0.     -0.904   0.164 -12.29 ]]\n"
     ]
    }
   ],
   "source": [
    "print(A_k)"
   ]
  },
  {
   "cell_type": "markdown",
   "metadata": {},
   "source": [
    "**Entrada $a_{31}$ plano $(1,3)$:**"
   ]
  },
  {
   "cell_type": "code",
   "execution_count": 38,
   "metadata": {},
   "outputs": [],
   "source": [
    "idx_1 = 0\n",
    "idx_2 = 2\n",
    "J = compute_Jacobi_rotation(A_k, idx_1, idx_2)"
   ]
  },
  {
   "cell_type": "code",
   "execution_count": 39,
   "metadata": {},
   "outputs": [],
   "source": [
    "A_k = J.T@A_k@J"
   ]
  },
  {
   "cell_type": "code",
   "execution_count": 40,
   "metadata": {},
   "outputs": [
    {
     "name": "stdout",
     "output_type": "stream",
     "text": [
      "[[ -1.24   -1.423   0.     -0.025]\n",
      " [ -1.423  -2.769  -0.275  -0.904]\n",
      " [ -0.     -0.275  13.299   0.162]\n",
      " [ -0.025  -0.904   0.162 -12.29 ]]\n"
     ]
    }
   ],
   "source": [
    "print(A_k)"
   ]
  },
  {
   "cell_type": "markdown",
   "metadata": {},
   "source": [
    "**Entrada $a_{21}$ plano $(1,2)$:**"
   ]
  },
  {
   "cell_type": "code",
   "execution_count": 41,
   "metadata": {},
   "outputs": [],
   "source": [
    "idx_1 = 0\n",
    "idx_2 = 1\n",
    "J = compute_Jacobi_rotation(A_k, idx_1, idx_2)"
   ]
  },
  {
   "cell_type": "code",
   "execution_count": 42,
   "metadata": {},
   "outputs": [],
   "source": [
    "A_k = J.T@A_k@J"
   ]
  },
  {
   "cell_type": "code",
   "execution_count": 43,
   "metadata": {},
   "outputs": [
    {
     "name": "stdout",
     "output_type": "stream",
     "text": [
      "[[ -0.389  -0.      0.141   0.442]\n",
      " [  0.     -3.62   -0.236  -0.789]\n",
      " [  0.141  -0.236  13.299   0.162]\n",
      " [  0.442  -0.789   0.162 -12.29 ]]\n"
     ]
    }
   ],
   "source": [
    "print(A_k)"
   ]
  },
  {
   "cell_type": "markdown",
   "metadata": {},
   "source": [
    "**Entrada $a_{42}$ plano $(2,4)$:**"
   ]
  },
  {
   "cell_type": "code",
   "execution_count": 44,
   "metadata": {},
   "outputs": [],
   "source": [
    "idx_1 = 1\n",
    "idx_2 = 3\n",
    "J = compute_Jacobi_rotation(A_k, idx_1, idx_2)"
   ]
  },
  {
   "cell_type": "code",
   "execution_count": 45,
   "metadata": {},
   "outputs": [],
   "source": [
    "A_k = J.T@A_k@J"
   ]
  },
  {
   "cell_type": "code",
   "execution_count": 46,
   "metadata": {},
   "outputs": [
    {
     "name": "stdout",
     "output_type": "stream",
     "text": [
      "[[ -0.389  -0.04    0.141   0.44 ]\n",
      " [ -0.04   -3.549  -0.249   0.   ]\n",
      " [  0.141  -0.249  13.299   0.141]\n",
      " [  0.44    0.      0.141 -12.361]]\n"
     ]
    }
   ],
   "source": [
    "print(A_k)"
   ]
  },
  {
   "cell_type": "markdown",
   "metadata": {},
   "source": [
    "**Entrada $a_{32}$ plano $(2,3)$:**"
   ]
  },
  {
   "cell_type": "code",
   "execution_count": 47,
   "metadata": {},
   "outputs": [],
   "source": [
    "idx_1 = 1\n",
    "idx_2 = 2\n",
    "J = compute_Jacobi_rotation(A_k, idx_1, idx_2)"
   ]
  },
  {
   "cell_type": "code",
   "execution_count": 48,
   "metadata": {},
   "outputs": [],
   "source": [
    "A_k = J.T@A_k@J"
   ]
  },
  {
   "cell_type": "code",
   "execution_count": 49,
   "metadata": {},
   "outputs": [
    {
     "name": "stdout",
     "output_type": "stream",
     "text": [
      "[[ -0.389  -0.038   0.141   0.44 ]\n",
      " [ -0.038  -3.552   0.      0.002]\n",
      " [  0.141   0.     13.303   0.141]\n",
      " [  0.44    0.002   0.141 -12.361]]\n"
     ]
    }
   ],
   "source": [
    "print(A_k)"
   ]
  },
  {
   "cell_type": "markdown",
   "metadata": {},
   "source": [
    "**Entrada $a_{43}$ plano $(3,4)$:**"
   ]
  },
  {
   "cell_type": "code",
   "execution_count": 50,
   "metadata": {},
   "outputs": [],
   "source": [
    "idx_1 = 2\n",
    "idx_2 = 3\n",
    "J = compute_Jacobi_rotation(A_k, idx_1, idx_2)"
   ]
  },
  {
   "cell_type": "code",
   "execution_count": 51,
   "metadata": {},
   "outputs": [],
   "source": [
    "A_k = J.T@A_k@J"
   ]
  },
  {
   "cell_type": "code",
   "execution_count": 52,
   "metadata": {},
   "outputs": [
    {
     "name": "stdout",
     "output_type": "stream",
     "text": [
      "[[ -0.389  -0.038   0.144   0.44 ]\n",
      " [ -0.038  -3.552   0.      0.002]\n",
      " [  0.144   0.     13.304   0.   ]\n",
      " [  0.44    0.002   0.    -12.362]]\n"
     ]
    }
   ],
   "source": [
    "print(A_k)"
   ]
  },
  {
   "cell_type": "markdown",
   "metadata": {},
   "source": [
    "**Nuevo *sweep*** ..."
   ]
  },
  {
   "cell_type": "markdown",
   "metadata": {},
   "source": [
    "```{admonition} Ejercicio\n",
    ":class: tip\n",
    "\n",
    "Programar la función `Jacobi_rotations` para diagonalizar a la matriz simétrica del ejemplo anterior y para la matriz:\n",
    "\n",
    "$$\n",
    "A = \n",
    "\\left [\n",
    "\\begin{array}{ccc}\n",
    "1 & 0 & 2\\\\\n",
    "0 & 2 & 1\\\\\n",
    "2 & 1 & 1\n",
    "\\end{array}\n",
    "\\right ]\n",
    "$$\n",
    "```"
   ]
  },
  {
   "cell_type": "markdown",
   "metadata": {},
   "source": [
    "## Algoritmo QR"
   ]
  },
  {
   "cell_type": "code",
   "execution_count": null,
   "metadata": {},
   "outputs": [],
   "source": []
  },
  {
   "cell_type": "code",
   "execution_count": null,
   "metadata": {},
   "outputs": [],
   "source": []
  },
  {
   "cell_type": "markdown",
   "metadata": {},
   "source": [
    "## Método de la potencia"
   ]
  },
  {
   "cell_type": "code",
   "execution_count": null,
   "metadata": {},
   "outputs": [],
   "source": []
  },
  {
   "cell_type": "code",
   "execution_count": null,
   "metadata": {},
   "outputs": [],
   "source": []
  },
  {
   "cell_type": "code",
   "execution_count": null,
   "metadata": {},
   "outputs": [],
   "source": []
  },
  {
   "cell_type": "markdown",
   "metadata": {},
   "source": [
    "## Aplicaciones y usos"
   ]
  },
  {
   "cell_type": "code",
   "execution_count": null,
   "metadata": {},
   "outputs": [],
   "source": []
  },
  {
   "cell_type": "code",
   "execution_count": null,
   "metadata": {},
   "outputs": [],
   "source": []
  },
  {
   "cell_type": "markdown",
   "metadata": {},
   "source": [
    "Ver comentario sobre Schur en https://numpy.org/doc/stable/reference/generated/numpy.linalg.eig.html"
   ]
  },
  {
   "cell_type": "markdown",
   "metadata": {},
   "source": [
    "https://docs.scipy.org/doc/scipy/reference/generated/scipy.linalg.schur.html#scipy.linalg.schur"
   ]
  },
  {
   "cell_type": "code",
   "execution_count": 2,
   "metadata": {},
   "outputs": [],
   "source": [
    "from scipy.linalg import schur, eigvals\n",
    "import numpy as np"
   ]
  },
  {
   "cell_type": "code",
   "execution_count": 3,
   "metadata": {},
   "outputs": [],
   "source": [
    "A = np.array([[0, 2, 2], [0, 1, 2], [1, 0, 1]])"
   ]
  },
  {
   "cell_type": "code",
   "execution_count": 4,
   "metadata": {},
   "outputs": [],
   "source": [
    "T, Z = schur(A)"
   ]
  },
  {
   "cell_type": "code",
   "execution_count": 5,
   "metadata": {},
   "outputs": [
    {
     "data": {
      "text/plain": [
       "array([[ 2.65896708,  1.42440458, -1.92933439],\n",
       "       [ 0.        , -0.32948354, -0.49063704],\n",
       "       [ 0.        ,  1.31178921, -0.32948354]])"
      ]
     },
     "execution_count": 5,
     "metadata": {},
     "output_type": "execute_result"
    }
   ],
   "source": [
    "T"
   ]
  },
  {
   "cell_type": "code",
   "execution_count": 6,
   "metadata": {},
   "outputs": [],
   "source": [
    "evalue, evector = np.linalg.eig(T)"
   ]
  },
  {
   "cell_type": "code",
   "execution_count": 7,
   "metadata": {},
   "outputs": [
    {
     "name": "stdout",
     "output_type": "stream",
     "text": [
      "[[1.   +0.j    0.497-0.081j 0.497+0.081j]\n",
      " [0.   +0.j    0.   +0.451j 0.   -0.451j]\n",
      " [0.   +0.j    0.737+0.j    0.737-0.j   ]]\n"
     ]
    }
   ],
   "source": [
    "with np.printoptions(precision=3, suppress=True):\n",
    "    print(evector)"
   ]
  },
  {
   "cell_type": "code",
   "execution_count": 8,
   "metadata": {},
   "outputs": [
    {
     "name": "stdout",
     "output_type": "stream",
     "text": [
      "[ 2.65896708+0.j         -0.32948354+0.80225456j -0.32948354-0.80225456j]\n"
     ]
    }
   ],
   "source": [
    "print(evalue)"
   ]
  },
  {
   "cell_type": "code",
   "execution_count": 9,
   "metadata": {},
   "outputs": [],
   "source": [
    "A2 = T[1:3, 1:3]"
   ]
  },
  {
   "cell_type": "code",
   "execution_count": 10,
   "metadata": {},
   "outputs": [
    {
     "data": {
      "text/plain": [
       "array([[-0.32948354, -0.49063704],\n",
       "       [ 1.31178921, -0.32948354]])"
      ]
     },
     "execution_count": 10,
     "metadata": {},
     "output_type": "execute_result"
    }
   ],
   "source": [
    "A2"
   ]
  },
  {
   "cell_type": "code",
   "execution_count": 11,
   "metadata": {},
   "outputs": [],
   "source": [
    "evalue, evector = np.linalg.eig(A2)"
   ]
  },
  {
   "cell_type": "code",
   "execution_count": 12,
   "metadata": {},
   "outputs": [
    {
     "data": {
      "text/plain": [
       "array([-0.32948354+0.80225456j, -0.32948354-0.80225456j])"
      ]
     },
     "execution_count": 12,
     "metadata": {},
     "output_type": "execute_result"
    }
   ],
   "source": [
    "evalue"
   ]
  },
  {
   "cell_type": "markdown",
   "metadata": {},
   "source": [
    "**Referencias:**\n",
    "\n",
    "1. M. T. Heath, Scientific Computing. An Introductory Survey, McGraw-Hill, 2002.\n",
    "\n",
    "2.  G. H. Golub, C. F. Van Loan, Matrix Computations, John Hopkins University Press, 2013.\n",
    "\n",
    "3. L. Trefethen, D. Bau, Numerical linear algebra, SIAM, 1997.\n",
    "\n",
    "4. C. Meyer, Matrix Analysis and Applied Linear Algebra, SIAM, 2000."
   ]
  }
 ],
 "metadata": {
  "kernelspec": {
   "display_name": "Python 3",
   "language": "python",
   "name": "python3"
  },
  "language_info": {
   "codemirror_mode": {
    "name": "ipython",
    "version": 3
   },
   "file_extension": ".py",
   "mimetype": "text/x-python",
   "name": "python",
   "nbconvert_exporter": "python",
   "pygments_lexer": "ipython3",
   "version": "3.7.3"
  }
 },
 "nbformat": 4,
 "nbformat_minor": 4
}
