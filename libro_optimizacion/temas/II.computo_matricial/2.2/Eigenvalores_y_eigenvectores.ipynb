{
 "cells": [
  {
   "cell_type": "markdown",
   "metadata": {},
   "source": [
    "(EigValEigVec)="
   ]
  },
  {
   "cell_type": "markdown",
   "metadata": {},
   "source": [
    "# 2.2 Eigenvalores y eigenvectores"
   ]
  },
  {
   "cell_type": "markdown",
   "metadata": {},
   "source": [
    "```{admonition} Notas para contenedor de docker:\n",
    "\n",
    "Comando de docker para ejecución de la nota de forma local:\n",
    "\n",
    "nota: cambiar `<ruta a mi directorio>` por la ruta de directorio que se desea mapear a `/datos` dentro del contenedor de docker.\n",
    "\n",
    "`docker run --rm -v <ruta a mi directorio>:/datos --name jupyterlab_optimizacion -p 8888:8888 -d palmoreck/jupyterlab_optimizacion:2.1.4`\n",
    "\n",
    "password para jupyterlab: `qwerty`\n",
    "\n",
    "Detener el contenedor de docker:\n",
    "\n",
    "`docker stop jupyterlab_optimizacion`\n",
    "\n",
    "Documentación de la imagen de docker `palmoreck/jupyterlab_optimizacion:2.1.4` en [liga](https://github.com/palmoreck/dockerfiles/tree/master/jupyterlab/optimizacion).\n",
    "\n",
    "```"
   ]
  },
  {
   "cell_type": "markdown",
   "metadata": {},
   "source": [
    "---"
   ]
  },
  {
   "cell_type": "markdown",
   "metadata": {},
   "source": [
    "Nota generada a partir de [liga](https://www.dropbox.com/s/s4ch0ww1687pl76/3.2.2.Factorizaciones_matriciales_SVD_Cholesky_QR.pdf?dl=0)."
   ]
  },
  {
   "cell_type": "markdown",
   "metadata": {},
   "source": [
    "**En lo que sigue se asume que $A \\in \\mathbb{R}^{n \\times n}$.**"
   ]
  },
  {
   "cell_type": "markdown",
   "metadata": {},
   "source": [
    "## Definiciones y resultados generales"
   ]
  },
  {
   "cell_type": "markdown",
   "metadata": {},
   "source": [
    "## Eigenvalor (valor propio o característico)"
   ]
  },
  {
   "cell_type": "markdown",
   "metadata": {},
   "source": [
    "El número $\\lambda$ (real o complejo) se denomina *eigenvalor* de A si existe $v \\in \\mathbb{C}^n - \\{0\\}$ tal que $Av = \\lambda v$. El vector $v$ se nombra eigenvector (vector propio o característico) de $A$ correspondiente al eigenvalor $\\lambda$."
   ]
  },
  {
   "cell_type": "markdown",
   "metadata": {},
   "source": [
    "```{admonition} Comentarios\n",
    "\n",
    "* Una matriz con componentes reales puede tener eigenvalores y eigenvectores con valores en $\\mathbb{C}$ o $\\mathbb{C}^n$ respectivamente.\n",
    "* El conjunto de eigenvalores se le llama **espectro de una matriz** y se denota como:\n",
    "\n",
    "$$\\lambda(A) = \\{ \\lambda | \\det(A-\\lambda I_n) = 0\\}.$$\n",
    "\n",
    "* La multiplicación de $A$ por un eigenvector es un reescalamiento y posible cambio de dirección del eigenvector.\n",
    "* $A$ siempre tiene al menos un eigenvalor con eigenvector asociado.\n",
    "* $A$ tiene $n$ eigenvalores y pueden o no repetirse.\n",
    "* $\\det(A) = \\displaystyle \\prod_{i=1}^n \\lambda_i$, $tr(A) = \\displaystyle \\sum_{i=1}^n \\lambda_i$.\n",
    "```"
   ]
  },
  {
   "cell_type": "markdown",
   "metadata": {},
   "source": [
    "**En *NumPy* con el módulo `eig` podemos obtener eigenvalores y eigenvectores** "
   ]
  },
  {
   "cell_type": "code",
   "execution_count": 1,
   "metadata": {},
   "outputs": [],
   "source": [
    "import numpy as np"
   ]
  },
  {
   "cell_type": "markdown",
   "metadata": {},
   "source": [
    "### Ejemplo"
   ]
  },
  {
   "cell_type": "code",
   "execution_count": 2,
   "metadata": {},
   "outputs": [],
   "source": [
    "A=np.array([[10,-18],[6,-11]])"
   ]
  },
  {
   "cell_type": "code",
   "execution_count": 3,
   "metadata": {},
   "outputs": [
    {
     "data": {
      "text/plain": [
       "array([[ 10, -18],\n",
       "       [  6, -11]])"
      ]
     },
     "execution_count": 3,
     "metadata": {},
     "output_type": "execute_result"
    }
   ],
   "source": [
    "A"
   ]
  },
  {
   "cell_type": "code",
   "execution_count": 4,
   "metadata": {},
   "outputs": [],
   "source": [
    "evalue, evector = np.linalg.eig(A)"
   ]
  },
  {
   "cell_type": "code",
   "execution_count": 5,
   "metadata": {},
   "outputs": [
    {
     "name": "stdout",
     "output_type": "stream",
     "text": [
      "eigenvalores:\n",
      "[ 1. -2.]\n",
      "eigenvectores:\n",
      "[[0.89442719 0.83205029]\n",
      " [0.4472136  0.5547002 ]]\n"
     ]
    }
   ],
   "source": [
    "print('eigenvalores:')\n",
    "print(evalue)\n",
    "print('eigenvectores:')\n",
    "print(evector)"
   ]
  },
  {
   "cell_type": "markdown",
   "metadata": {},
   "source": [
    "Comprobamos: $Av_1 = \\lambda_1 v_1$, $Av_2 = \\lambda_2 v_2$."
   ]
  },
  {
   "cell_type": "code",
   "execution_count": 6,
   "metadata": {},
   "outputs": [
    {
     "name": "stdout",
     "output_type": "stream",
     "text": [
      "matriz * eigenvector:\n",
      "[0.89442719 0.4472136 ]\n",
      "eigenvalor * eigenvector:\n",
      "[0.89442719 0.4472136 ]\n"
     ]
    }
   ],
   "source": [
    "print('matriz * eigenvector:')\n",
    "print(A@evector[:,0])\n",
    "print('eigenvalor * eigenvector:')\n",
    "print(evalue[0]*evector[:,0])"
   ]
  },
  {
   "cell_type": "code",
   "execution_count": 7,
   "metadata": {},
   "outputs": [
    {
     "name": "stdout",
     "output_type": "stream",
     "text": [
      "matriz * eigenvector:\n",
      "[-1.66410059 -1.10940039]\n",
      "eigenvalor * eigenvector:\n",
      "[-1.66410059 -1.10940039]\n"
     ]
    }
   ],
   "source": [
    "print('matriz * eigenvector:')\n",
    "print(A@evector[:,1])\n",
    "print('eigenvalor * eigenvector:')\n",
    "print(evalue[1]*evector[:,1])"
   ]
  },
  {
   "cell_type": "markdown",
   "metadata": {},
   "source": [
    "### Ejemplo \n",
    "\n",
    "Si $v$ es un eigenvector entonces $cv$ es eigenvector donde: $c$ es una constante distinta de cero.\n"
   ]
  },
  {
   "cell_type": "code",
   "execution_count": 8,
   "metadata": {},
   "outputs": [
    {
     "name": "stdout",
     "output_type": "stream",
     "text": [
      "[-1.78885438 -0.89442719]\n"
     ]
    }
   ],
   "source": [
    "const = -2\n",
    "const_evector = const*evector[:,0]\n",
    "print(const_evector)"
   ]
  },
  {
   "cell_type": "code",
   "execution_count": 9,
   "metadata": {},
   "outputs": [
    {
     "name": "stdout",
     "output_type": "stream",
     "text": [
      "matriz * (constante * eigenvector):\n",
      "[-1.78885438 -0.89442719]\n",
      "eigenvalor * (constante * eigenvector):\n",
      "[-1.78885438 -0.89442719]\n"
     ]
    }
   ],
   "source": [
    "print('matriz * (constante * eigenvector):')\n",
    "print(A@const_evector)\n",
    "print('eigenvalor * (constante * eigenvector):')\n",
    "print(evalue[0]*const_evector)"
   ]
  },
  {
   "cell_type": "markdown",
   "metadata": {},
   "source": [
    "### Ejemplo "
   ]
  },
  {
   "cell_type": "markdown",
   "metadata": {},
   "source": [
    "Una matriz con entradas reales puede tener eigenvalores y eigenvectores complejos:"
   ]
  },
  {
   "cell_type": "code",
   "execution_count": 10,
   "metadata": {},
   "outputs": [],
   "source": [
    "A=np.array([[3,-5],[1,-1]])"
   ]
  },
  {
   "cell_type": "code",
   "execution_count": 11,
   "metadata": {},
   "outputs": [
    {
     "name": "stdout",
     "output_type": "stream",
     "text": [
      "[[ 3 -5]\n",
      " [ 1 -1]]\n"
     ]
    }
   ],
   "source": [
    "print(A)"
   ]
  },
  {
   "cell_type": "code",
   "execution_count": 12,
   "metadata": {},
   "outputs": [],
   "source": [
    "evalue, evector = np.linalg.eig(A)"
   ]
  },
  {
   "cell_type": "code",
   "execution_count": 13,
   "metadata": {},
   "outputs": [
    {
     "name": "stdout",
     "output_type": "stream",
     "text": [
      "eigenvalores:\n",
      "[1.+1.j 1.-1.j]\n",
      "eigenvectores:\n",
      "[[0.91287093+0.j         0.91287093-0.j        ]\n",
      " [0.36514837-0.18257419j 0.36514837+0.18257419j]]\n"
     ]
    }
   ],
   "source": [
    "print('eigenvalores:')\n",
    "print(evalue)\n",
    "print('eigenvectores:')\n",
    "print(evector)"
   ]
  },
  {
   "cell_type": "markdown",
   "metadata": {},
   "source": [
    "## Ejemplo"
   ]
  },
  {
   "cell_type": "markdown",
   "metadata": {},
   "source": [
    "Los eigenvalores de una matriz diagonal son iguales a su diagonal y sus eigenvectores son los vectores canónicos $e_1, e_2, \\dots e_n$."
   ]
  },
  {
   "cell_type": "code",
   "execution_count": 17,
   "metadata": {},
   "outputs": [],
   "source": [
    "A = np.diag(np.arange(1.0, 5.0, 1))"
   ]
  },
  {
   "cell_type": "code",
   "execution_count": 18,
   "metadata": {},
   "outputs": [
    {
     "name": "stdout",
     "output_type": "stream",
     "text": [
      "[[1. 0. 0. 0.]\n",
      " [0. 2. 0. 0.]\n",
      " [0. 0. 3. 0.]\n",
      " [0. 0. 0. 4.]]\n"
     ]
    }
   ],
   "source": [
    "print(A)"
   ]
  },
  {
   "cell_type": "code",
   "execution_count": 19,
   "metadata": {},
   "outputs": [],
   "source": [
    "evalue, evector = np.linalg.eig(A)"
   ]
  },
  {
   "cell_type": "code",
   "execution_count": 20,
   "metadata": {},
   "outputs": [
    {
     "name": "stdout",
     "output_type": "stream",
     "text": [
      "eigenvalores:\n",
      "[1. 2. 3. 4.]\n",
      "eigenvectores:\n",
      "[[1. 0. 0. 0.]\n",
      " [0. 1. 0. 0.]\n",
      " [0. 0. 1. 0.]\n",
      " [0. 0. 0. 1.]]\n"
     ]
    }
   ],
   "source": [
    "print('eigenvalores:')\n",
    "print(evalue)\n",
    "print('eigenvectores:')\n",
    "print(evector)"
   ]
  },
  {
   "cell_type": "markdown",
   "metadata": {},
   "source": [
    "## Ejemplo"
   ]
  },
  {
   "cell_type": "markdown",
   "metadata": {},
   "source": [
    "Los eigenvalores de una matriz triangular son iguales a su diagonal."
   ]
  },
  {
   "cell_type": "code",
   "execution_count": 22,
   "metadata": {},
   "outputs": [],
   "source": [
    "A=np.array([[10,-18, -1],\n",
    "            [6,-11, 10],\n",
    "            [3, 4, 8.0]])"
   ]
  },
  {
   "cell_type": "code",
   "execution_count": 23,
   "metadata": {},
   "outputs": [
    {
     "data": {
      "text/plain": [
       "array([[ 10., -18.,  -1.],\n",
       "       [  6., -11.,  10.],\n",
       "       [  3.,   4.,   8.]])"
      ]
     },
     "execution_count": 23,
     "metadata": {},
     "output_type": "execute_result"
    }
   ],
   "source": [
    "A"
   ]
  },
  {
   "cell_type": "code",
   "execution_count": 24,
   "metadata": {},
   "outputs": [],
   "source": [
    "A = np.triu(A)"
   ]
  },
  {
   "cell_type": "code",
   "execution_count": 25,
   "metadata": {},
   "outputs": [
    {
     "data": {
      "text/plain": [
       "array([[ 10., -18.,  -1.],\n",
       "       [  0., -11.,  10.],\n",
       "       [  0.,   0.,   8.]])"
      ]
     },
     "execution_count": 25,
     "metadata": {},
     "output_type": "execute_result"
    }
   ],
   "source": [
    "A"
   ]
  },
  {
   "cell_type": "code",
   "execution_count": 26,
   "metadata": {},
   "outputs": [],
   "source": [
    "evalue, evector = np.linalg.eig(A)"
   ]
  },
  {
   "cell_type": "code",
   "execution_count": 27,
   "metadata": {},
   "outputs": [
    {
     "name": "stdout",
     "output_type": "stream",
     "text": [
      "eigenvalores:\n",
      "[ 10. -11.   8.]\n",
      "eigenvectores:\n",
      "[[1.         0.65079137 0.97750054]\n",
      " [0.         0.7592566  0.09824126]\n",
      " [0.         0.         0.18665839]]\n"
     ]
    }
   ],
   "source": [
    "print('eigenvalores:')\n",
    "print(evalue)\n",
    "print('eigenvectores:')\n",
    "print(evector)"
   ]
  },
  {
   "cell_type": "markdown",
   "metadata": {},
   "source": [
    "Ver [numpy.linalg.eig](https://docs.scipy.org/doc/numpy/reference/generated/numpy.linalg.eig.html)."
   ]
  },
  {
   "cell_type": "markdown",
   "metadata": {},
   "source": [
    "```{admonition} Definición\n",
    "\n",
    "Si $(\\lambda, v)$ es una pareja de eigenvalor-eigenvector de $A$ tales que $Av = \\lambda v$, $v$ se le nombra eigenvector derecho. Si $(\\lambda, v)$ es una pareja de eigenvalor-eigenvector de $A^T$ tales que $A^Tv = \\lambda v$ (que es equivalente a $v^TA=\\lambda v^T$), $v$ se le nombra eigenvector izquierdo.\n",
    "```"
   ]
  },
  {
   "cell_type": "markdown",
   "metadata": {},
   "source": [
    "## $A$ diagonalizable"
   ]
  },
  {
   "cell_type": "markdown",
   "metadata": {},
   "source": [
    "```{admonition} Definición\n",
    "\n",
    "Si $A$ tiene $n$ eigenvectores linealmente independientes entonces $A$ se nombra diagonalizable o *non defective*. En este caso si $x_1, x_2, \\dots, x_n$ son eigenvectores de $A$ con $Ax_i = \\lambda_i x_i$ para $i=1,\\dots,n$ entonces la igualdad anterior se escribe en ecuación matricial como:\n",
    "\n",
    "$$AX = X \\Lambda$$\n",
    "\n",
    "o bien:\n",
    "\n",
    "$$A = X \\Lambda X^{-1}$$\n",
    "\n",
    "donde: $X$ tiene por columnas los eigenvectores de $A$ y $\\Lambda$ tiene en su diagonal los eigenvalores de $A$.\n",
    "\n",
    "A la descomposición anterior $A = X \\Lambda X^{-1}$ para $A$ diagonalizable o *non defective* se le nombra ***eigen decomposition***.\n",
    "```"
   ]
  },
  {
   "cell_type": "markdown",
   "metadata": {},
   "source": [
    "```{admonition} Observación\n",
    ":class: tip\n",
    "\n",
    "Si $A$ es diagonalizable o *non defective* entonces $X^{-1}A = \\Lambda X^{-1}$ y los renglones de $X^{-1}$ (o equivalentemente las columnas de $X^{-T}$) son eigenvectores izquierdos.\n",
    "\n",
    "```"
   ]
  },
  {
   "cell_type": "markdown",
   "metadata": {},
   "source": [
    "```{admonition} Observación\n",
    ":class: tip\n",
    "\n",
    "Si una matriz $A$ tiene eigenvalores distintos entonces es diagonalizable.\n",
    "\n",
    "```"
   ]
  },
  {
   "cell_type": "markdown",
   "metadata": {},
   "source": [
    "## $A$ similar"
   ]
  },
  {
   "cell_type": "markdown",
   "metadata": {},
   "source": [
    "```{admonition} Definición\n",
    "\n",
    "Si existe $X \\in \\mathbb{R}^{n \\times n}$ tal que $B = XAX^{-1}$ con $A, B \\in \\mathbb{R}^{n \\times n}$ entonces $A$ y $B$ se nombran similares.\n",
    "\n",
    "```"
   ]
  },
  {
   "cell_type": "markdown",
   "metadata": {},
   "source": [
    "```{admonition} Observación\n",
    ":class: tip\n",
    "\n",
    "Las matrices que son similares tienen el mismo espectro, de hecho: $Ax = \\lambda x$ si y sólo si $By = \\lambda y$ para $y=Xx$.\n",
    "\n",
    "```"
   ]
  },
  {
   "cell_type": "markdown",
   "metadata": {},
   "source": [
    "### Resultado: $A$ simétrica\n",
    "\n",
    "Si A es simétrica entonces tiene eigenvalores reales. Aún más: $A$ tiene eigenvectores reales linealmente independientes y forman un conjunto ortonormal, entonces $A$ se escribe como un producto de tres matrices nombrado descomposición espectral: \n",
    "\n",
    "$$A = Q \\Lambda Q^T$$ \n",
    "\n",
    "donde: $Q$ es una matriz ortogonal cuyas columnas son eigenvectores de $A$ y $\\Lambda$ es una matriz diagonal con eigenvalores de $A$.\n"
   ]
  },
  {
   "cell_type": "markdown",
   "metadata": {},
   "source": [
    "```{admonition} Observaciones\n",
    ":class: tip\n",
    "\n",
    "* Los eigenvalores de $A$ simétrica se pueden ordenar:\n",
    "\n",
    "$$\\lambda_n(A) \\leq \\lambda_{n-1}(A) \\leq \\dots \\leq \\lambda_1(A)$$\n",
    "\n",
    "con:\n",
    "\n",
    "$\\lambda_{max}(A) = \\lambda_1(A)$, $\\lambda_{min}(A) = \\lambda_n(A)$.\n",
    "\n",
    "* Se prueba para $A$ simétrica:\n",
    "\n",
    "$$\\lambda_{max}(A) = \\displaystyle \\max_{x \\neq 0} \\frac{x^TAx}{x^Tx}$$\n",
    "\n",
    "$$\\lambda_{min}(A) = \\displaystyle \\min_{x \\neq 0} \\frac{x^TAx}{x^Tx}.$$\n",
    "\n",
    "por lo tanto:\n",
    "\n",
    "$$\\lambda_{min}(A) \\leq \\frac{x^TAx}{x^Tx} \\leq \\lambda_{max}(A) \\forall x \\neq 0.$$\n",
    "\n",
    "* $||A||_2 = \\displaystyle \\max_{i=1,\\dots,n}\\{|\\lambda_i|\\}, ||A||_F = \\left( \\displaystyle \\sum_{i=1}^n \\lambda_i ^2 \\right)^{1/2}$.\n",
    "```"
   ]
  },
  {
   "cell_type": "markdown",
   "metadata": {},
   "source": [
    "### Ejemplo"
   ]
  },
  {
   "cell_type": "markdown",
   "metadata": {},
   "source": [
    "Matriz simétrica y descomposición espectral de la misma:"
   ]
  },
  {
   "cell_type": "code",
   "execution_count": 14,
   "metadata": {},
   "outputs": [],
   "source": [
    "A=np.array([[5,4,2],[4,5,2],[2,2,2]])"
   ]
  },
  {
   "cell_type": "code",
   "execution_count": 15,
   "metadata": {},
   "outputs": [
    {
     "name": "stdout",
     "output_type": "stream",
     "text": [
      "array([[5, 4, 2],\n",
      "       [4, 5, 2],\n",
      "       [2, 2, 2]])\n"
     ]
    }
   ],
   "source": [
    "pprint.pprint(A)"
   ]
  },
  {
   "cell_type": "code",
   "execution_count": 16,
   "metadata": {},
   "outputs": [],
   "source": [
    "evalue, evector = np.linalg.eigh(A)"
   ]
  },
  {
   "cell_type": "code",
   "execution_count": 17,
   "metadata": {},
   "outputs": [
    {
     "name": "stdout",
     "output_type": "stream",
     "text": [
      "eigenvalores:\n",
      "array([ 1.,  1., 10.])\n",
      "eigenvectores:\n",
      "array([[ 0.4817794 ,  0.56872152,  0.66666667],\n",
      "       [-0.72665643, -0.16590957,  0.66666667],\n",
      "       [ 0.48975406, -0.80562389,  0.33333333]])\n"
     ]
    }
   ],
   "source": [
    "print('eigenvalores:')\n",
    "pprint.pprint(evalue)\n",
    "print('eigenvectores:')\n",
    "pprint.pprint(evector)"
   ]
  },
  {
   "cell_type": "code",
   "execution_count": 18,
   "metadata": {},
   "outputs": [
    {
     "name": "stdout",
     "output_type": "stream",
     "text": [
      "descomposición espectral:\n",
      "QLambdaQ^T:\n",
      "array([[5., 4., 2.],\n",
      "       [4., 5., 2.],\n",
      "       [2., 2., 2.]])\n",
      "A:\n",
      "array([[5, 4, 2],\n",
      "       [4, 5, 2],\n",
      "       [2, 2, 2]])\n"
     ]
    }
   ],
   "source": [
    "print('descomposición espectral:')\n",
    "Lambda = np.diag(evalue)\n",
    "Q = evector\n",
    "print('QLambdaQ^T:')\n",
    "pprint.pprint(Q@Lambda@Q.T)\n",
    "print('A:')\n",
    "pprint.pprint(A)"
   ]
  },
  {
   "cell_type": "markdown",
   "metadata": {},
   "source": [
    "Ver [numpy.linalg.eigh](https://docs.scipy.org/doc/numpy-1.14.0/reference/generated/numpy.linalg.eigh.html)."
   ]
  },
  {
   "cell_type": "markdown",
   "metadata": {},
   "source": [
    "## Métodos para calcular eigenvalores y eigenvectores"
   ]
  },
  {
   "cell_type": "markdown",
   "metadata": {},
   "source": [
    "Los eigenvalores de $A \\in \\mathbb{R}^{n \\times n}$ son las raíces o ceros del **polinomio característico** definido por:\n",
    "\n",
    "$$p(z) = \\det(A-zI_n) = (-1)^nz^n + a_{n-1}z^{n-1}+ \\dots + a_1z + a_0.$$"
   ]
  }
 ],
 "metadata": {
  "kernelspec": {
   "display_name": "Python 3",
   "language": "python",
   "name": "python3"
  },
  "language_info": {
   "codemirror_mode": {
    "name": "ipython",
    "version": 3
   },
   "file_extension": ".py",
   "mimetype": "text/x-python",
   "name": "python",
   "nbconvert_exporter": "python",
   "pygments_lexer": "ipython3",
   "version": "3.7.3"
  }
 },
 "nbformat": 4,
 "nbformat_minor": 4
}
